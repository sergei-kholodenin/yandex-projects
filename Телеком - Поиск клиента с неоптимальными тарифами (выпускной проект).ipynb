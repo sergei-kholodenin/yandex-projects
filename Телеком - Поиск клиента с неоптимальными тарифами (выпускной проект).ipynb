{
 "cells": [
  {
   "cell_type": "markdown",
   "metadata": {
    "id": "mk2lJ5YcnPr1"
   },
   "source": [
    "**Сергей, привет!**\n",
    "\n",
    "Для удобства я оставлю комментарии в отдельных ячейках Markdown с заголовком «Комментарий тимлида». Предлагаю общаться на «ты». Если это неприемлемо, будет здорово, если я об этом узнаю, и мы перейдем на «вы». Пожалуйста, не перемещай, не изменяй и не удаляй их - так наше общение будет более продуктивным. Я буду использовать цветовую разметку:\n",
    "\n",
    "<div class=\"alert alert-danger\">\n",
    "<b>Комментарий тимлида</b> \n",
    "    \n",
    "✍ Так выделены самые важные замечания. Без их отработки проект не будет принят. \n",
    "</div>\n",
    "\n",
    "<div class=\"alert alert-warning\">\n",
    "<b>Комментарий тимлида</b> \n",
    "    \n",
    "📝 Так выделены небольшие замечания или рекомендации. Будет здорово, если эти замечания будут учтены в проекте. \n",
    "</div>\n",
    "\n",
    "<div class=\"alert alert-success\">\n",
    "<b>Комментарий тимлида</b> \n",
    "    \n",
    "👍 Так выделены все остальные комментарии, включая позитивные моменты и другие рекомендации.\n",
    "</div>\n",
    "\n",
    "Давай работать над проектом в диалоге: если ты что-то меняешь в проекте или отвечаешь на мои комментарии — пиши об этом. Мне будет легче отследить изменения, если ты выделишь свои комментарии:\n",
    "\n",
    "<div class=\"alert alert-info\"> \n",
    "<b>Комментарий студента</b> \n",
    "    \n",
    "Например, вот так.\n",
    "</div>\n",
    "\n",
    "---\n",
    "\n",
    "<div class=\"alert alert-success\">\n",
    "<b>Обратная связь</b> \n",
    "    \n",
    "Сергей, спасибо, что прислал проект! Я смотрел проект с точки зрения решения реальной проблемы, поэтому, где-то комментарии будут по смыслу действий, где-то по реализации, а если все идет хорошо – то комментариев будет меньше :) Еще основная цель проекта – решить поставленные вопросы, поэтому часть комментариев общего содержания, что можно было бы усилить, чтобы проект был лучше, на что стоит обратить внимание при работе с реальными проектами.\n",
    "    \n",
    "- **Проект** - в проекте были успешно решены поставленные задачи: в начале данные были подготовлены, затем проведены расчеты по затратам и проведен их анализ с предложением альтернативного решения. Однако, в расчетах есть один момент, который нужно скорректировать – он будет влиять на итоговые результаты. Хочу выделить, что в целом код написан корректно, содержит необходимые комментарии – его легко читать, ты понимаем, что происходит. Конечно, есть куда оптимизировать расчеты, но это придет с опытом. Что мне не хватило – более детального исследовательского анализа исходных данных (поскольку у нас есть временной интервал – мы можем смотреть на динамику основных метрик (которые, мы используем для расчета выручки) во времени) и анализа полученных результатов, наверно, даже его визуализации (например, анализ работы колл-центров, количества клиентов; анализ активности фокусной группы; динамика среднего чека по тарифам, по месяцам; изучение данных перед проведением стат. теста; изучение доли колл-центров, которые работают на входящие звонки и др). Визуализация один из важных компонентов отчета – так мы получаем больше информации (например, продуктовому менеджеру сложнее читать код или анализировать таблицы, чем получить информацию с хорошо оформленного графика). Поэтому, обрати, пожалуйста, дополнительное внимание на оформление графических результатов. Резюмируя могу сказать, что проект в целом решил поставленные задачи, и после корректировки расчетов может быть принят. Если будет время – будет здорово, если расширишь исследовательскую часть.\n",
    "- **Презентация** - в целом презентация содержит все ключевые полученные результаты.  Советую немного детализировать часть про фокусную группу – не ясно какой процент клиентов по тарифам в нее вошел (т.е. нет анализа фокусной группы). Еще немного не ясен слайд про «Распределение длительности входящих» - гистограмма показывает только входящие звонки? Какой процент входящих колл-центров?\n",
    "- **Список клиентов для оптимизации тарифа** не хватает информации по действующему тарифу.\n",
    "- **Дашборд:** Содержит минимальное количество графиков, но в целом все работает корректно. Можно немного разнообразить - например, добавить фильтрацию по тарифам и показать другие метрики, которые входят в расчет выручки.\n",
    "\n",
    "Таким образом, проект нужно немного доработать и проверить полученные резльутаты. Если будет время - советую доработать оформление графической части и детализировать исследовательский анализ данных.\n",
    "\n",
    "<br>    \n",
    "С наилучшими пожеланиями, <br>\n",
    "Алексей Каргин\n",
    "</div>\n",
    "\n",
    "---"
   ]
  },
  {
   "cell_type": "markdown",
   "metadata": {
    "id": "I9R3U00FuH6c"
   },
   "source": [
    "<div class=\"alert alert-info\"> \n",
    "<b>Комментарий студента</b> \n",
    "\n",
    "**Алексей, привет!**\n",
    "    \n",
    "Спасибо за обратную связь, постараюсь максимально доработать проект по твоим комментариям. В дашборд добавил новые фильтры: тарифный план и фильтр сети. Презентацию обновил, добавил визуализаций к слайдам, по которым ты дал комментарии, также обновил слайд со средними чеками по месяцам, т.к. пересчитал по операторам корректные цифры.\n",
    "</div>\n",
    "\n",
    "---\n",
    "\n",
    "<div class=\"alert alert-success\">\n",
    "<b>Обратная связь v2</b> \n",
    "    \n",
    "Сергей, спасибо, что прислал вторую версию проекта! Основная проблема с подсчетом количества операторов была решена и теперь расчеты показывают корректные результаты. Спасибо, что детально проработал мои комментарии. Мне кажется, что теперь проект можно считать выполненным. Также спасибо, что доработал презентацию и дашборд.\n",
    "    \n",
    "Резюмируя хотел бы отметить, что у тебя вышел интересный с точки зрения подхода к решению задачи проект, ты не только решил основную задачу, но и детально проработал возможный механизм снижения потерь в выручке.\n",
    "    \n",
    "Спасибо за работу над проектом, было интересно его смотреть! Если вдруг остались какие-то вопросы, то пиши в Слак :)\n",
    "    \n",
    "Удачи на последующих проектах финального спринта!\n",
    "    \n",
    "<br>    \n",
    "С наилучшими пожеланиями, <br>\n",
    "Алексей Каргин\n",
    "</div>\n",
    "\n",
    "---\n",
    "\n"
   ]
  },
  {
   "cell_type": "markdown",
   "metadata": {
    "id": "5rmOEGwbyS3g"
   },
   "source": [
    "# Телеком — Поиск клиента с неоптимальными тарифами"
   ]
  },
  {
   "cell_type": "markdown",
   "metadata": {
    "id": "edyPLN_Dyp-n"
   },
   "source": [
    "Я являюсь сотрудником отдела аналитики компании \"Нупозвони\". От тимлида поступила задача: \n",
    "\n",
    "Найти клиентов, которые: \n",
    "\n",
    "а)  переплачивают на текущих тарифах;\n",
    "\n",
    "б) сэкономят, если перейдут на более дорогой тариф.\n",
    "\n",
    "В ходе встречи были получены следующие сведения.\n",
    "\n",
    "**Цель проекта:** Провести мониторинг клиентов, которые экономически неэффективно\n",
    "используют услуги на своих тарифах, и могут снизить свои расходы, если перейдут на\n",
    "другие тарифы, с более выгодными для них условиями.\n",
    "\n",
    "**А зачем?** Есть вероятность, что клиенты, которые платят много уйдут к конкурентам.\n",
    "Переведя их на оптимальные тарифы, можно будет снизить вероятность оттока. Таким\n",
    "образом, можно увеличить их LTV, пожертвовав сиюминутной прибылью.\n",
    "\n",
    "Заказчиком данного проекта является коммерческий директор, соответственно для него следует по итогу анализа предоставить доступную для восприятия презентацию. В презентации должны быть кратко изложены результаты по поставленным задачам, а также предоставлены предложения. Также для менеджеров требуется предоставить доступный материал, который поможет им выполнить поставленные задачи по удержанию ключевых клиентов бизнеса. Наиболее удобным инструментом будет дашборд и перечень компаний для удобства использования.\n",
    "\n",
    "**Задачи проекта:** установить сколько клиентов используют экономически невыгодные тарифы\n",
    "и как изменится выручка компании, при переводе всех клиентов на оптимальные тарифы.\n",
    "Поэтому у нас есть еще несколько задач, которые мы должны решить:\n",
    "- изучить динамику работы клиентов Телекома и выделить активных клиентов, по которым будем\n",
    "проводить все расчеты;\n",
    "- изучить текущую выручку компании (в разрезе месяца), а также динамику за весь период, включая\n",
    "изучение среднего чека в разрезе тарифа;\n",
    "- определить клиентов, которые неэффективно используют услуги Телекома (платят больше, чем\n",
    "могли бы платить на другом тарифе);\n",
    "- изучить потери в выручке, если все клиенты перейдут на выгодные тарифы;\n",
    "- предложить пути решения проблемы потери выручки;\n",
    "\n",
    "Дополнительно, такое исследование позволит лучше понять как пользователи потребляют\n",
    "услуги и возможно выдвинуть гипотезы нового ценообразования.\n",
    "Планируется проводить такие исследования раз в квартал.\n",
    "\n",
    "**Описание данных:**\n",
    "\n",
    "Датасеты содержат данные об использовании услуг виртуальной телефонии \"Нупозвони\". Клиентами \"Нупозвони\" являются организации, которым нужно распределять множество входящих вызовов на различных операторов, либо осуществлять исходящие вызовы силами операторов. Также операторы могут осуществлять внутренние вызовы, то есть вызовы друг между другом, которые осуществляются внутри сети виртуальной телефонии.\n",
    "\n",
    "Колонки в *telecom_dataset.csv.zip*:\n",
    "\n",
    "- `user_id` — идентификатор клиента,\n",
    "- `date` — дата статистики;\n",
    "- `direction` — направление вызовов: `out` — исходящий вызов, `in` — входящий;\n",
    "- `internal` — маркер внутренних и внешних вызовов;\n",
    "- `operator_id` — идентификатор оператора;\n",
    "- `is_missed_call` — маркер пропущенных вызовов;\n",
    "- `calls_count` — количество звонков;\n",
    "- `call_duration` — длительность звонка без учёта времени ожидания;\n",
    "- `total_call_duration` — длительность звонка с учётом времени ожидания.\n",
    "\n",
    "Колонки в *telecom_clients.csv:*\n",
    "\n",
    "- `user_id` — идентификатор клиента,\n",
    "- `tariff_plan` — тарифный план клиента,\n",
    "- `date_start` — дата регистрации клиента в сервисе.\n",
    "\n",
    "Расходы клиента состоят из:\n",
    "• ежемесячной платы +\n",
    "• платы за перерасход по внутренним исходящим звонкам, с учетом времени ожидания +\n",
    "• платы за внешние исходящие звонки, с учетом времени ожидания +\n",
    "• платы 100 руб за оператора\n",
    "\n",
    "**Ежемесячная плата за тариф:**\n",
    "\n",
    "- Тариф А — 5000 ₽,\n",
    "- B — 2000 ₽,\n",
    "- С — 1000 ₽.\n",
    "\n",
    "**Входящие звонки** — бесплатны на всех тарифах,\n",
    "\n",
    "**Исходящие звонки внутри сети** — бесплатны до 2000 минут в месяц на всех тарифах. Цена сверх лимита:\n",
    "\n",
    "- A — 0.1 ₽/мин.,\n",
    "- B — 0.15 ₽/мин.,\n",
    "- C — 0.3 ₽/мин.\n",
    "\n",
    "**Исходящие звонки, кроме внутренних:**\n",
    "\n",
    "- A — 0.4 ₽/мин.,\n",
    "- B — 0.5 ₽/мин.,\n",
    "- C — 0.7₽/мин.\n",
    "\n",
    "Для выполнения проекта потребуется выполнить ряд шагов.\n",
    "\n",
    "\n",
    "\n",
    "**1.   Загрузка данных и подготовка к исследованию:**\n",
    "\n",
    "*   Загрузить данные и оценить качество предоставленных данных;\n",
    "*   Проверить наличие пропусков, дубликатов, типы данных по столбцам.\n",
    "\n",
    "**2.   Исследовательский анализ данных:**\n",
    "\n",
    "*   Создать дополнительные столбцы с подсчетом данных по тарифам.\n",
    "*   Сегментация клиентов и выделение ключевых клиентов для удержания (универсальная формула для последующих анализов)\n",
    "*   Проверка распределений по сегментам клиентов с оптимальными и неоптимальными тарифами\n",
    "\n",
    "**3.   Решение основных вопросов заказчика:**\n",
    "\n",
    "*   Создание оптимального списка для менеджеров по клиентам, которым следует предложить переход на другой тариф\n",
    "*   Прогноз возможных финансовых результатов после перехода ключевых клиентов на другие тарифы, оптимизация тарифов\n",
    "\n",
    "**4.   Проверка статистических гипотез, связанных с изменением финансовых показателей (минимум две).**\n",
    "\n",
    "**5.   Формулировка общих выводов и рекомендаций.**\n",
    "\n",
    "**6.   Разработка материалов для коллег из коммерческого департамента.** \n",
    "\n"
   ]
  },
  {
   "cell_type": "markdown",
   "metadata": {
    "id": "_sGOvXz2nPsK"
   },
   "source": [
    "<div class=\"alert alert-success\">\n",
    "<b>Комментарий тимлида v.1</b> \n",
    "    \n",
    "👍 Вся необходимая информация представлена во введении.\n",
    "</div>"
   ]
  },
  {
   "cell_type": "markdown",
   "metadata": {
    "id": "RReEhxj7-cCU"
   },
   "source": [
    "## Загрузка данных и подготовка к исследованию"
   ]
  },
  {
   "cell_type": "markdown",
   "metadata": {
    "id": "CpmRpwa7_C_V"
   },
   "source": [
    "Загрузим данные из файлов и посмотрим данные методом `.info`."
   ]
  },
  {
   "cell_type": "code",
   "execution_count": 1,
   "metadata": {
    "id": "EFRm6dB67zui"
   },
   "outputs": [],
   "source": [
    "import pandas as pd\n",
    "import math\n",
    "import numpy as np\n",
    "import seaborn as sns\n",
    "from matplotlib import pyplot as plt\n",
    "from matplotlib.patches import Patch\n",
    "import seaborn as sns\n",
    "from scipy import stats as st"
   ]
  },
  {
   "cell_type": "markdown",
   "metadata": {
    "id": "tVqMKl8onPsQ"
   },
   "source": [
    "<div class=\"alert alert-success\">\n",
    "<b>Комментарий тимлида v.1</b> \n",
    "    \n",
    "👍 Здорово, что весь импорт в первых ячейках кода, это соответствует стандарту оформления кода [PEP8](https://www.python.org/dev/peps/pep-0008/#imports), а также помогает правильно настроить окружение для запуска проекта на локальной машине. \n",
    "    \n",
    "</div>"
   ]
  },
  {
   "cell_type": "code",
   "execution_count": 2,
   "metadata": {
    "colab": {
     "base_uri": "https://localhost:8080/",
     "height": 128,
     "resources": {
      "http://localhost:8080/nbextensions/google.colab/files.js": {
       "data": "Ly8gQ29weXJpZ2h0IDIwMTcgR29vZ2xlIExMQwovLwovLyBMaWNlbnNlZCB1bmRlciB0aGUgQXBhY2hlIExpY2Vuc2UsIFZlcnNpb24gMi4wICh0aGUgIkxpY2Vuc2UiKTsKLy8geW91IG1heSBub3QgdXNlIHRoaXMgZmlsZSBleGNlcHQgaW4gY29tcGxpYW5jZSB3aXRoIHRoZSBMaWNlbnNlLgovLyBZb3UgbWF5IG9idGFpbiBhIGNvcHkgb2YgdGhlIExpY2Vuc2UgYXQKLy8KLy8gICAgICBodHRwOi8vd3d3LmFwYWNoZS5vcmcvbGljZW5zZXMvTElDRU5TRS0yLjAKLy8KLy8gVW5sZXNzIHJlcXVpcmVkIGJ5IGFwcGxpY2FibGUgbGF3IG9yIGFncmVlZCB0byBpbiB3cml0aW5nLCBzb2Z0d2FyZQovLyBkaXN0cmlidXRlZCB1bmRlciB0aGUgTGljZW5zZSBpcyBkaXN0cmlidXRlZCBvbiBhbiAiQVMgSVMiIEJBU0lTLAovLyBXSVRIT1VUIFdBUlJBTlRJRVMgT1IgQ09ORElUSU9OUyBPRiBBTlkgS0lORCwgZWl0aGVyIGV4cHJlc3Mgb3IgaW1wbGllZC4KLy8gU2VlIHRoZSBMaWNlbnNlIGZvciB0aGUgc3BlY2lmaWMgbGFuZ3VhZ2UgZ292ZXJuaW5nIHBlcm1pc3Npb25zIGFuZAovLyBsaW1pdGF0aW9ucyB1bmRlciB0aGUgTGljZW5zZS4KCi8qKgogKiBAZmlsZW92ZXJ2aWV3IEhlbHBlcnMgZm9yIGdvb2dsZS5jb2xhYiBQeXRob24gbW9kdWxlLgogKi8KKGZ1bmN0aW9uKHNjb3BlKSB7CmZ1bmN0aW9uIHNwYW4odGV4dCwgc3R5bGVBdHRyaWJ1dGVzID0ge30pIHsKICBjb25zdCBlbGVtZW50ID0gZG9jdW1lbnQuY3JlYXRlRWxlbWVudCgnc3BhbicpOwogIGVsZW1lbnQudGV4dENvbnRlbnQgPSB0ZXh0OwogIGZvciAoY29uc3Qga2V5IG9mIE9iamVjdC5rZXlzKHN0eWxlQXR0cmlidXRlcykpIHsKICAgIGVsZW1lbnQuc3R5bGVba2V5XSA9IHN0eWxlQXR0cmlidXRlc1trZXldOwogIH0KICByZXR1cm4gZWxlbWVudDsKfQoKLy8gTWF4IG51bWJlciBvZiBieXRlcyB3aGljaCB3aWxsIGJlIHVwbG9hZGVkIGF0IGEgdGltZS4KY29uc3QgTUFYX1BBWUxPQURfU0laRSA9IDEwMCAqIDEwMjQ7CgpmdW5jdGlvbiBfdXBsb2FkRmlsZXMoaW5wdXRJZCwgb3V0cHV0SWQpIHsKICBjb25zdCBzdGVwcyA9IHVwbG9hZEZpbGVzU3RlcChpbnB1dElkLCBvdXRwdXRJZCk7CiAgY29uc3Qgb3V0cHV0RWxlbWVudCA9IGRvY3VtZW50LmdldEVsZW1lbnRCeUlkKG91dHB1dElkKTsKICAvLyBDYWNoZSBzdGVwcyBvbiB0aGUgb3V0cHV0RWxlbWVudCB0byBtYWtlIGl0IGF2YWlsYWJsZSBmb3IgdGhlIG5leHQgY2FsbAogIC8vIHRvIHVwbG9hZEZpbGVzQ29udGludWUgZnJvbSBQeXRob24uCiAgb3V0cHV0RWxlbWVudC5zdGVwcyA9IHN0ZXBzOwoKICByZXR1cm4gX3VwbG9hZEZpbGVzQ29udGludWUob3V0cHV0SWQpOwp9CgovLyBUaGlzIGlzIHJvdWdobHkgYW4gYXN5bmMgZ2VuZXJhdG9yIChub3Qgc3VwcG9ydGVkIGluIHRoZSBicm93c2VyIHlldCksCi8vIHdoZXJlIHRoZXJlIGFyZSBtdWx0aXBsZSBhc3luY2hyb25vdXMgc3RlcHMgYW5kIHRoZSBQeXRob24gc2lkZSBpcyBnb2luZwovLyB0byBwb2xsIGZvciBjb21wbGV0aW9uIG9mIGVhY2ggc3RlcC4KLy8gVGhpcyB1c2VzIGEgUHJvbWlzZSB0byBibG9jayB0aGUgcHl0aG9uIHNpZGUgb24gY29tcGxldGlvbiBvZiBlYWNoIHN0ZXAsCi8vIHRoZW4gcGFzc2VzIHRoZSByZXN1bHQgb2YgdGhlIHByZXZpb3VzIHN0ZXAgYXMgdGhlIGlucHV0IHRvIHRoZSBuZXh0IHN0ZXAuCmZ1bmN0aW9uIF91cGxvYWRGaWxlc0NvbnRpbnVlKG91dHB1dElkKSB7CiAgY29uc3Qgb3V0cHV0RWxlbWVudCA9IGRvY3VtZW50LmdldEVsZW1lbnRCeUlkKG91dHB1dElkKTsKICBjb25zdCBzdGVwcyA9IG91dHB1dEVsZW1lbnQuc3RlcHM7CgogIGNvbnN0IG5leHQgPSBzdGVwcy5uZXh0KG91dHB1dEVsZW1lbnQubGFzdFByb21pc2VWYWx1ZSk7CiAgcmV0dXJuIFByb21pc2UucmVzb2x2ZShuZXh0LnZhbHVlLnByb21pc2UpLnRoZW4oKHZhbHVlKSA9PiB7CiAgICAvLyBDYWNoZSB0aGUgbGFzdCBwcm9taXNlIHZhbHVlIHRvIG1ha2UgaXQgYXZhaWxhYmxlIHRvIHRoZSBuZXh0CiAgICAvLyBzdGVwIG9mIHRoZSBnZW5lcmF0b3IuCiAgICBvdXRwdXRFbGVtZW50Lmxhc3RQcm9taXNlVmFsdWUgPSB2YWx1ZTsKICAgIHJldHVybiBuZXh0LnZhbHVlLnJlc3BvbnNlOwogIH0pOwp9CgovKioKICogR2VuZXJhdG9yIGZ1bmN0aW9uIHdoaWNoIGlzIGNhbGxlZCBiZXR3ZWVuIGVhY2ggYXN5bmMgc3RlcCBvZiB0aGUgdXBsb2FkCiAqIHByb2Nlc3MuCiAqIEBwYXJhbSB7c3RyaW5nfSBpbnB1dElkIEVsZW1lbnQgSUQgb2YgdGhlIGlucHV0IGZpbGUgcGlja2VyIGVsZW1lbnQuCiAqIEBwYXJhbSB7c3RyaW5nfSBvdXRwdXRJZCBFbGVtZW50IElEIG9mIHRoZSBvdXRwdXQgZGlzcGxheS4KICogQHJldHVybiB7IUl0ZXJhYmxlPCFPYmplY3Q+fSBJdGVyYWJsZSBvZiBuZXh0IHN0ZXBzLgogKi8KZnVuY3Rpb24qIHVwbG9hZEZpbGVzU3RlcChpbnB1dElkLCBvdXRwdXRJZCkgewogIGNvbnN0IGlucHV0RWxlbWVudCA9IGRvY3VtZW50LmdldEVsZW1lbnRCeUlkKGlucHV0SWQpOwogIGlucHV0RWxlbWVudC5kaXNhYmxlZCA9IGZhbHNlOwoKICBjb25zdCBvdXRwdXRFbGVtZW50ID0gZG9jdW1lbnQuZ2V0RWxlbWVudEJ5SWQob3V0cHV0SWQpOwogIG91dHB1dEVsZW1lbnQuaW5uZXJIVE1MID0gJyc7CgogIGNvbnN0IHBpY2tlZFByb21pc2UgPSBuZXcgUHJvbWlzZSgocmVzb2x2ZSkgPT4gewogICAgaW5wdXRFbGVtZW50LmFkZEV2ZW50TGlzdGVuZXIoJ2NoYW5nZScsIChlKSA9PiB7CiAgICAgIHJlc29sdmUoZS50YXJnZXQuZmlsZXMpOwogICAgfSk7CiAgfSk7CgogIGNvbnN0IGNhbmNlbCA9IGRvY3VtZW50LmNyZWF0ZUVsZW1lbnQoJ2J1dHRvbicpOwogIGlucHV0RWxlbWVudC5wYXJlbnRFbGVtZW50LmFwcGVuZENoaWxkKGNhbmNlbCk7CiAgY2FuY2VsLnRleHRDb250ZW50ID0gJ0NhbmNlbCB1cGxvYWQnOwogIGNvbnN0IGNhbmNlbFByb21pc2UgPSBuZXcgUHJvbWlzZSgocmVzb2x2ZSkgPT4gewogICAgY2FuY2VsLm9uY2xpY2sgPSAoKSA9PiB7CiAgICAgIHJlc29sdmUobnVsbCk7CiAgICB9OwogIH0pOwoKICAvLyBXYWl0IGZvciB0aGUgdXNlciB0byBwaWNrIHRoZSBmaWxlcy4KICBjb25zdCBmaWxlcyA9IHlpZWxkIHsKICAgIHByb21pc2U6IFByb21pc2UucmFjZShbcGlja2VkUHJvbWlzZSwgY2FuY2VsUHJvbWlzZV0pLAogICAgcmVzcG9uc2U6IHsKICAgICAgYWN0aW9uOiAnc3RhcnRpbmcnLAogICAgfQogIH07CgogIGNhbmNlbC5yZW1vdmUoKTsKCiAgLy8gRGlzYWJsZSB0aGUgaW5wdXQgZWxlbWVudCBzaW5jZSBmdXJ0aGVyIHBpY2tzIGFyZSBub3QgYWxsb3dlZC4KICBpbnB1dEVsZW1lbnQuZGlzYWJsZWQgPSB0cnVlOwoKICBpZiAoIWZpbGVzKSB7CiAgICByZXR1cm4gewogICAgICByZXNwb25zZTogewogICAgICAgIGFjdGlvbjogJ2NvbXBsZXRlJywKICAgICAgfQogICAgfTsKICB9CgogIGZvciAoY29uc3QgZmlsZSBvZiBmaWxlcykgewogICAgY29uc3QgbGkgPSBkb2N1bWVudC5jcmVhdGVFbGVtZW50KCdsaScpOwogICAgbGkuYXBwZW5kKHNwYW4oZmlsZS5uYW1lLCB7Zm9udFdlaWdodDogJ2JvbGQnfSkpOwogICAgbGkuYXBwZW5kKHNwYW4oCiAgICAgICAgYCgke2ZpbGUudHlwZSB8fCAnbi9hJ30pIC0gJHtmaWxlLnNpemV9IGJ5dGVzLCBgICsKICAgICAgICBgbGFzdCBtb2RpZmllZDogJHsKICAgICAgICAgICAgZmlsZS5sYXN0TW9kaWZpZWREYXRlID8gZmlsZS5sYXN0TW9kaWZpZWREYXRlLnRvTG9jYWxlRGF0ZVN0cmluZygpIDoKICAgICAgICAgICAgICAgICAgICAgICAgICAgICAgICAgICAgJ24vYSd9IC0gYCkpOwogICAgY29uc3QgcGVyY2VudCA9IHNwYW4oJzAlIGRvbmUnKTsKICAgIGxpLmFwcGVuZENoaWxkKHBlcmNlbnQpOwoKICAgIG91dHB1dEVsZW1lbnQuYXBwZW5kQ2hpbGQobGkpOwoKICAgIGNvbnN0IGZpbGVEYXRhUHJvbWlzZSA9IG5ldyBQcm9taXNlKChyZXNvbHZlKSA9PiB7CiAgICAgIGNvbnN0IHJlYWRlciA9IG5ldyBGaWxlUmVhZGVyKCk7CiAgICAgIHJlYWRlci5vbmxvYWQgPSAoZSkgPT4gewogICAgICAgIHJlc29sdmUoZS50YXJnZXQucmVzdWx0KTsKICAgICAgfTsKICAgICAgcmVhZGVyLnJlYWRBc0FycmF5QnVmZmVyKGZpbGUpOwogICAgfSk7CiAgICAvLyBXYWl0IGZvciB0aGUgZGF0YSB0byBiZSByZWFkeS4KICAgIGxldCBmaWxlRGF0YSA9IHlpZWxkIHsKICAgICAgcHJvbWlzZTogZmlsZURhdGFQcm9taXNlLAogICAgICByZXNwb25zZTogewogICAgICAgIGFjdGlvbjogJ2NvbnRpbnVlJywKICAgICAgfQogICAgfTsKCiAgICAvLyBVc2UgYSBjaHVua2VkIHNlbmRpbmcgdG8gYXZvaWQgbWVzc2FnZSBzaXplIGxpbWl0cy4gU2VlIGIvNjIxMTU2NjAuCiAgICBsZXQgcG9zaXRpb24gPSAwOwogICAgZG8gewogICAgICBjb25zdCBsZW5ndGggPSBNYXRoLm1pbihmaWxlRGF0YS5ieXRlTGVuZ3RoIC0gcG9zaXRpb24sIE1BWF9QQVlMT0FEX1NJWkUpOwogICAgICBjb25zdCBjaHVuayA9IG5ldyBVaW50OEFycmF5KGZpbGVEYXRhLCBwb3NpdGlvbiwgbGVuZ3RoKTsKICAgICAgcG9zaXRpb24gKz0gbGVuZ3RoOwoKICAgICAgY29uc3QgYmFzZTY0ID0gYnRvYShTdHJpbmcuZnJvbUNoYXJDb2RlLmFwcGx5KG51bGwsIGNodW5rKSk7CiAgICAgIHlpZWxkIHsKICAgICAgICByZXNwb25zZTogewogICAgICAgICAgYWN0aW9uOiAnYXBwZW5kJywKICAgICAgICAgIGZpbGU6IGZpbGUubmFtZSwKICAgICAgICAgIGRhdGE6IGJhc2U2NCwKICAgICAgICB9LAogICAgICB9OwoKICAgICAgbGV0IHBlcmNlbnREb25lID0gZmlsZURhdGEuYnl0ZUxlbmd0aCA9PT0gMCA/CiAgICAgICAgICAxMDAgOgogICAgICAgICAgTWF0aC5yb3VuZCgocG9zaXRpb24gLyBmaWxlRGF0YS5ieXRlTGVuZ3RoKSAqIDEwMCk7CiAgICAgIHBlcmNlbnQudGV4dENvbnRlbnQgPSBgJHtwZXJjZW50RG9uZX0lIGRvbmVgOwoKICAgIH0gd2hpbGUgKHBvc2l0aW9uIDwgZmlsZURhdGEuYnl0ZUxlbmd0aCk7CiAgfQoKICAvLyBBbGwgZG9uZS4KICB5aWVsZCB7CiAgICByZXNwb25zZTogewogICAgICBhY3Rpb246ICdjb21wbGV0ZScsCiAgICB9CiAgfTsKfQoKc2NvcGUuZ29vZ2xlID0gc2NvcGUuZ29vZ2xlIHx8IHt9OwpzY29wZS5nb29nbGUuY29sYWIgPSBzY29wZS5nb29nbGUuY29sYWIgfHwge307CnNjb3BlLmdvb2dsZS5jb2xhYi5fZmlsZXMgPSB7CiAgX3VwbG9hZEZpbGVzLAogIF91cGxvYWRGaWxlc0NvbnRpbnVlLAp9Owp9KShzZWxmKTsK",
       "headers": [
        [
         "content-type",
         "application/javascript"
        ]
       ],
       "ok": true,
       "status": 200,
       "status_text": ""
      }
     }
    },
    "executionInfo": {
     "elapsed": 56447,
     "status": "ok",
     "timestamp": 1649914413677,
     "user": {
      "displayName": "Сергей Холоденин",
      "userId": "02339464120149742563"
     },
     "user_tz": -180
    },
    "id": "5aKXe3bCCfGM",
    "outputId": "8b220b8b-cbed-4b98-cd99-85cac051880e"
   },
   "outputs": [],
   "source": [
    "try:\n",
    "  telecom_clients = pd.read_csv('/datasets/telecom_clients.csv')\n",
    "  telecom_dataset = pd.read_csv('/datasets/telecom_dataset.csv')\n",
    "except:\n",
    "  from google.colab import files\n",
    "  import io\n",
    "  uploaded = files.upload()\n",
    "  telecom_clients = pd.read_csv(io.BytesIO(uploaded['telecom_clients.csv']))\n",
    "  uploaded = files.upload()\n",
    "  telecom_dataset = pd.read_csv(io.BytesIO(uploaded['telecom_dataset.csv']))"
   ]
  },
  {
   "cell_type": "markdown",
   "metadata": {
    "id": "sO6t-urwnPsT"
   },
   "source": [
    "<div class=\"alert alert-warning\">\n",
    "<b>Комментарий тимлида v.1</b> \n",
    "    \n",
    "📝 Обрати, пожалуйста, внимание, что данные не подгрузились на платформе Практикума, поэтому мне пришлось немного скорректировать пути к файлам.\n",
    "</div>"
   ]
  },
  {
   "cell_type": "markdown",
   "metadata": {
    "id": "JWijAV9MueIH"
   },
   "source": [
    "<div class=\"alert alert-info\"> \n",
    "<b>Комментарий студента</b> \n",
    "    \n",
    "Я видимо не заметил, что они в папке datasets. Спасибо за корректировку!\n",
    "</div>"
   ]
  },
  {
   "cell_type": "markdown",
   "metadata": {
    "id": "tVqMKl8onPsQ"
   },
   "source": [
    "<div class=\"alert alert-success\">\n",
    "<b>Комментарий тимлида v.2</b> \n",
    "    \n",
    "👍\n",
    "</div>"
   ]
  },
  {
   "cell_type": "code",
   "execution_count": 3,
   "metadata": {
    "colab": {
     "base_uri": "https://localhost:8080/",
     "height": 206
    },
    "executionInfo": {
     "elapsed": 192,
     "status": "ok",
     "timestamp": 1649914413680,
     "user": {
      "displayName": "Сергей Холоденин",
      "userId": "02339464120149742563"
     },
     "user_tz": -180
    },
    "id": "Vh8Hce0hEndl",
    "outputId": "1b20a968-cb5c-4691-c4a3-56430ece9723",
    "scrolled": true
   },
   "outputs": [
    {
     "data": {
      "text/html": [
       "<div>\n",
       "<style scoped>\n",
       "    .dataframe tbody tr th:only-of-type {\n",
       "        vertical-align: middle;\n",
       "    }\n",
       "\n",
       "    .dataframe tbody tr th {\n",
       "        vertical-align: top;\n",
       "    }\n",
       "\n",
       "    .dataframe thead th {\n",
       "        text-align: right;\n",
       "    }\n",
       "</style>\n",
       "<table border=\"1\" class=\"dataframe\">\n",
       "  <thead>\n",
       "    <tr style=\"text-align: right;\">\n",
       "      <th></th>\n",
       "      <th>user_id</th>\n",
       "      <th>tariff_plan</th>\n",
       "      <th>date_start</th>\n",
       "    </tr>\n",
       "  </thead>\n",
       "  <tbody>\n",
       "    <tr>\n",
       "      <th>0</th>\n",
       "      <td>166713</td>\n",
       "      <td>A</td>\n",
       "      <td>2019-08-15</td>\n",
       "    </tr>\n",
       "    <tr>\n",
       "      <th>1</th>\n",
       "      <td>166901</td>\n",
       "      <td>A</td>\n",
       "      <td>2019-08-23</td>\n",
       "    </tr>\n",
       "    <tr>\n",
       "      <th>2</th>\n",
       "      <td>168527</td>\n",
       "      <td>A</td>\n",
       "      <td>2019-10-29</td>\n",
       "    </tr>\n",
       "    <tr>\n",
       "      <th>3</th>\n",
       "      <td>167097</td>\n",
       "      <td>A</td>\n",
       "      <td>2019-09-01</td>\n",
       "    </tr>\n",
       "    <tr>\n",
       "      <th>4</th>\n",
       "      <td>168193</td>\n",
       "      <td>A</td>\n",
       "      <td>2019-10-16</td>\n",
       "    </tr>\n",
       "  </tbody>\n",
       "</table>\n",
       "</div>"
      ],
      "text/plain": [
       "   user_id tariff_plan  date_start\n",
       "0   166713           A  2019-08-15\n",
       "1   166901           A  2019-08-23\n",
       "2   168527           A  2019-10-29\n",
       "3   167097           A  2019-09-01\n",
       "4   168193           A  2019-10-16"
      ]
     },
     "execution_count": 3,
     "metadata": {},
     "output_type": "execute_result"
    }
   ],
   "source": [
    "telecom_clients.head()"
   ]
  },
  {
   "cell_type": "code",
   "execution_count": 4,
   "metadata": {
    "colab": {
     "base_uri": "https://localhost:8080/",
     "height": 206
    },
    "executionInfo": {
     "elapsed": 156,
     "status": "ok",
     "timestamp": 1649914413682,
     "user": {
      "displayName": "Сергей Холоденин",
      "userId": "02339464120149742563"
     },
     "user_tz": -180
    },
    "id": "uqVHXnkGF8Pc",
    "outputId": "ba26c6f7-724c-4999-c648-16ae0cc00759"
   },
   "outputs": [
    {
     "data": {
      "text/html": [
       "<div>\n",
       "<style scoped>\n",
       "    .dataframe tbody tr th:only-of-type {\n",
       "        vertical-align: middle;\n",
       "    }\n",
       "\n",
       "    .dataframe tbody tr th {\n",
       "        vertical-align: top;\n",
       "    }\n",
       "\n",
       "    .dataframe thead th {\n",
       "        text-align: right;\n",
       "    }\n",
       "</style>\n",
       "<table border=\"1\" class=\"dataframe\">\n",
       "  <thead>\n",
       "    <tr style=\"text-align: right;\">\n",
       "      <th></th>\n",
       "      <th>user_id</th>\n",
       "      <th>date</th>\n",
       "      <th>direction</th>\n",
       "      <th>internal</th>\n",
       "      <th>operator_id</th>\n",
       "      <th>is_missed_call</th>\n",
       "      <th>calls_count</th>\n",
       "      <th>call_duration</th>\n",
       "      <th>total_call_duration</th>\n",
       "    </tr>\n",
       "  </thead>\n",
       "  <tbody>\n",
       "    <tr>\n",
       "      <th>0</th>\n",
       "      <td>166377</td>\n",
       "      <td>2019-08-04 00:00:00+03:00</td>\n",
       "      <td>in</td>\n",
       "      <td>False</td>\n",
       "      <td>NaN</td>\n",
       "      <td>True</td>\n",
       "      <td>2</td>\n",
       "      <td>0</td>\n",
       "      <td>4</td>\n",
       "    </tr>\n",
       "    <tr>\n",
       "      <th>1</th>\n",
       "      <td>166377</td>\n",
       "      <td>2019-08-05 00:00:00+03:00</td>\n",
       "      <td>out</td>\n",
       "      <td>True</td>\n",
       "      <td>880022.0</td>\n",
       "      <td>True</td>\n",
       "      <td>3</td>\n",
       "      <td>0</td>\n",
       "      <td>5</td>\n",
       "    </tr>\n",
       "    <tr>\n",
       "      <th>2</th>\n",
       "      <td>166377</td>\n",
       "      <td>2019-08-05 00:00:00+03:00</td>\n",
       "      <td>out</td>\n",
       "      <td>True</td>\n",
       "      <td>880020.0</td>\n",
       "      <td>True</td>\n",
       "      <td>1</td>\n",
       "      <td>0</td>\n",
       "      <td>1</td>\n",
       "    </tr>\n",
       "    <tr>\n",
       "      <th>3</th>\n",
       "      <td>166377</td>\n",
       "      <td>2019-08-05 00:00:00+03:00</td>\n",
       "      <td>out</td>\n",
       "      <td>True</td>\n",
       "      <td>880020.0</td>\n",
       "      <td>False</td>\n",
       "      <td>1</td>\n",
       "      <td>10</td>\n",
       "      <td>18</td>\n",
       "    </tr>\n",
       "    <tr>\n",
       "      <th>4</th>\n",
       "      <td>166377</td>\n",
       "      <td>2019-08-05 00:00:00+03:00</td>\n",
       "      <td>out</td>\n",
       "      <td>False</td>\n",
       "      <td>880022.0</td>\n",
       "      <td>True</td>\n",
       "      <td>3</td>\n",
       "      <td>0</td>\n",
       "      <td>25</td>\n",
       "    </tr>\n",
       "  </tbody>\n",
       "</table>\n",
       "</div>"
      ],
      "text/plain": [
       "   user_id                       date direction internal  operator_id  \\\n",
       "0   166377  2019-08-04 00:00:00+03:00        in    False          NaN   \n",
       "1   166377  2019-08-05 00:00:00+03:00       out     True     880022.0   \n",
       "2   166377  2019-08-05 00:00:00+03:00       out     True     880020.0   \n",
       "3   166377  2019-08-05 00:00:00+03:00       out     True     880020.0   \n",
       "4   166377  2019-08-05 00:00:00+03:00       out    False     880022.0   \n",
       "\n",
       "   is_missed_call  calls_count  call_duration  total_call_duration  \n",
       "0            True            2              0                    4  \n",
       "1            True            3              0                    5  \n",
       "2            True            1              0                    1  \n",
       "3           False            1             10                   18  \n",
       "4            True            3              0                   25  "
      ]
     },
     "execution_count": 4,
     "metadata": {},
     "output_type": "execute_result"
    }
   ],
   "source": [
    "telecom_dataset.head()"
   ]
  },
  {
   "cell_type": "code",
   "execution_count": 5,
   "metadata": {
    "colab": {
     "base_uri": "https://localhost:8080/"
    },
    "executionInfo": {
     "elapsed": 147,
     "status": "ok",
     "timestamp": 1649914413685,
     "user": {
      "displayName": "Сергей Холоденин",
      "userId": "02339464120149742563"
     },
     "user_tz": -180
    },
    "id": "7F6XZ9nDF42a",
    "outputId": "bef08ebd-730f-4581-9e90-4a3e6a7764bb"
   },
   "outputs": [
    {
     "name": "stdout",
     "output_type": "stream",
     "text": [
      "<class 'pandas.core.frame.DataFrame'>\n",
      "RangeIndex: 732 entries, 0 to 731\n",
      "Data columns (total 3 columns):\n",
      " #   Column       Non-Null Count  Dtype \n",
      "---  ------       --------------  ----- \n",
      " 0   user_id      732 non-null    int64 \n",
      " 1   tariff_plan  732 non-null    object\n",
      " 2   date_start   732 non-null    object\n",
      "dtypes: int64(1), object(2)\n",
      "memory usage: 17.3+ KB\n"
     ]
    }
   ],
   "source": [
    "telecom_clients.info()"
   ]
  },
  {
   "cell_type": "code",
   "execution_count": 6,
   "metadata": {
    "colab": {
     "base_uri": "https://localhost:8080/"
    },
    "executionInfo": {
     "elapsed": 116,
     "status": "ok",
     "timestamp": 1649914413688,
     "user": {
      "displayName": "Сергей Холоденин",
      "userId": "02339464120149742563"
     },
     "user_tz": -180
    },
    "id": "avjrS6J6C6zh",
    "outputId": "bb2d8a39-9bbe-4c2f-a80c-8b8041a5658f"
   },
   "outputs": [
    {
     "data": {
      "text/plain": [
       "0"
      ]
     },
     "execution_count": 6,
     "metadata": {},
     "output_type": "execute_result"
    }
   ],
   "source": [
    "telecom_clients.duplicated().sum()"
   ]
  },
  {
   "cell_type": "markdown",
   "metadata": {
    "id": "2ZWuxeM1Cw5b"
   },
   "source": [
    "В датасете с клиентами отсутствуют дубликаты, столбец с датами имеет тип обЪекта object. Поменяем на формат `datetime`."
   ]
  },
  {
   "cell_type": "code",
   "execution_count": 7,
   "metadata": {
    "id": "6JvqmDXOETNK"
   },
   "outputs": [],
   "source": [
    "telecom_clients['date_start'] = pd.to_datetime(telecom_clients['date_start'])"
   ]
  },
  {
   "cell_type": "markdown",
   "metadata": {
    "id": "np9QmdYjy910"
   },
   "source": [
    "Сразу проверим как распределяется количество подключений клиентов к тарифам по датам."
   ]
  },
  {
   "cell_type": "code",
   "execution_count": 8,
   "metadata": {
    "colab": {
     "base_uri": "https://localhost:8080/",
     "height": 566
    },
    "executionInfo": {
     "elapsed": 770,
     "status": "ok",
     "timestamp": 1649914414368,
     "user": {
      "displayName": "Сергей Холоденин",
      "userId": "02339464120149742563"
     },
     "user_tz": -180
    },
    "id": "57CuD5sJvbXH",
    "outputId": "34c045c6-8532-45e1-afd5-cbb1af890fbb"
   },
   "outputs": [
    {
     "data": {
      "image/png": "[encoded data removed]",
      "text/plain": [
       "<Figure size 936x648 with 1 Axes>"
      ]
     },
     "metadata": {
      "needs_background": "light"
     },
     "output_type": "display_data"
    }
   ],
   "source": [
    "plt.figure(figsize=(13,9))\n",
    "plt.hist(telecom_clients['date_start'], bins = 30)\n",
    "plt.title('Временной интервал набора клиентов')\n",
    "plt.xlabel('Дата начала тарифа')\n",
    "plt.ylabel('Количество клиентов')\n",
    "plt.show()"
   ]
  },
  {
   "cell_type": "markdown",
   "metadata": {
    "id": "FhkOScJczayd"
   },
   "source": [
    "Мы видим что временной интервал представлен с августа по ноябрь. Также количество подключений неоднородно внутри месяца, пиковыми значениями ближе к ноябрю становятся начало середина и конец месяца. Проверим, менял ли кто-то из клиентов тарифы за рассматриваемый промежуток времени."
   ]
  },
  {
   "cell_type": "code",
   "execution_count": 9,
   "metadata": {
    "colab": {
     "base_uri": "https://localhost:8080/",
     "height": 49
    },
    "executionInfo": {
     "elapsed": 129,
     "status": "ok",
     "timestamp": 1649914414378,
     "user": {
      "displayName": "Сергей Холоденин",
      "userId": "02339464120149742563"
     },
     "user_tz": -180
    },
    "id": "lQzrGT7kxknS",
    "outputId": "05fcb9b5-abf7-460e-c810-e797765ac716"
   },
   "outputs": [
    {
     "data": {
      "text/html": [
       "<div>\n",
       "<style scoped>\n",
       "    .dataframe tbody tr th:only-of-type {\n",
       "        vertical-align: middle;\n",
       "    }\n",
       "\n",
       "    .dataframe tbody tr th {\n",
       "        vertical-align: top;\n",
       "    }\n",
       "\n",
       "    .dataframe thead th {\n",
       "        text-align: right;\n",
       "    }\n",
       "</style>\n",
       "<table border=\"1\" class=\"dataframe\">\n",
       "  <thead>\n",
       "    <tr style=\"text-align: right;\">\n",
       "      <th></th>\n",
       "      <th>user_id</th>\n",
       "      <th>tariff_plan</th>\n",
       "    </tr>\n",
       "  </thead>\n",
       "  <tbody>\n",
       "  </tbody>\n",
       "</table>\n",
       "</div>"
      ],
      "text/plain": [
       "Empty DataFrame\n",
       "Columns: [user_id, tariff_plan]\n",
       "Index: []"
      ]
     },
     "execution_count": 9,
     "metadata": {},
     "output_type": "execute_result"
    }
   ],
   "source": [
    "(telecom_clients\n",
    " .groupby('user_id')['tariff_plan'].nunique().reset_index()\n",
    " .query('tariff_plan > 1')\n",
    ")"
   ]
  },
  {
   "cell_type": "markdown",
   "metadata": {
    "id": "EsU9_PAj0C8j"
   },
   "source": [
    "Из данных видно, что изменений тарифа ни у одного клиента не было, значит предложение по оптимизации тарифа будет актуальным, если мы сможем продемонстрировать им выгоду."
   ]
  },
  {
   "cell_type": "markdown",
   "metadata": {
    "id": "AxlfnaDHnPsb"
   },
   "source": [
    "<div class=\"alert alert-success\">\n",
    "<b>Комментарий тимлида v.1</b>    \n",
    "    \n",
    "👍 В целом этот датесет готов к работе. Что можно было бы сразу проверить - временной интервал набора клиентов и их уникальность (были ли клиенты, которые меняли тарифные планы).\n",
    "</div>"
   ]
  },
  {
   "cell_type": "markdown",
   "metadata": {
    "id": "Q0aduKCN0YeO"
   },
   "source": [
    "<div class=\"alert alert-info\"> \n",
    "<b>Комментарий студента</b> \n",
    "    \n",
    "Добавил согласно рекомендации.\n",
    "</div>"
   ]
  },
  {
   "cell_type": "markdown",
   "metadata": {
    "id": "tVqMKl8onPsQ"
   },
   "source": [
    "<div class=\"alert alert-success\">\n",
    "<b>Комментарий тимлида v.2</b> \n",
    "    \n",
    "👍 Спасибо! Как рекомендация - для оценки данных лучше изучить их динамику, например, набор новых пользователей (кумулятивный) по тарифам.\n",
    "</div>"
   ]
  },
  {
   "cell_type": "code",
   "execution_count": 193,
   "metadata": {},
   "outputs": [
    {
     "data": {
      "image/png": "[encoded data removed]",
      "text/plain": [
       "<Figure size 1224x432 with 1 Axes>"
      ]
     },
     "metadata": {},
     "output_type": "display_data"
    }
   ],
   "source": [
    "# ячейка тимлида: посмотрим на набор новых пользователей:\n",
    "tariff_list = list(telecom_clients['tariff_plan'].unique())\n",
    "fig, ax = plt.subplots(1, 1, figsize=(17, 6))\n",
    "\n",
    "for i in tariff_list:\n",
    "    data = (telecom_clients\n",
    "           .query('tariff_plan ==@i')\n",
    "           .groupby(['date_start'])\n",
    "           .agg({\"user_id\" : \"nunique\"})\n",
    "           .reset_index())\n",
    "    data['new_user_cum'] = data['user_id'].cumsum()\n",
    "    sns.lineplot(x='date_start', y='new_user_cum', data=data, linewidth=1, marker='o', label = ('Тарифный план: ' + i))\n",
    "    ax.grid()\n",
    "ax.set(title = 'Динамика набора новых пользователей в день', xlabel = 'Дата регистрации', ylabel = 'Количество пользователей')\n",
    "plt.show()"
   ]
  },
  {
   "cell_type": "code",
   "execution_count": 10,
   "metadata": {
    "colab": {
     "base_uri": "https://localhost:8080/"
    },
    "executionInfo": {
     "elapsed": 119,
     "status": "ok",
     "timestamp": 1649914414380,
     "user": {
      "displayName": "Сергей Холоденин",
      "userId": "02339464120149742563"
     },
     "user_tz": -180
    },
    "id": "IiTS0pqWG8lT",
    "outputId": "b27350ee-1509-425a-8b65-3535d1b63c5a"
   },
   "outputs": [
    {
     "name": "stdout",
     "output_type": "stream",
     "text": [
      "<class 'pandas.core.frame.DataFrame'>\n",
      "RangeIndex: 53902 entries, 0 to 53901\n",
      "Data columns (total 9 columns):\n",
      " #   Column               Non-Null Count  Dtype  \n",
      "---  ------               --------------  -----  \n",
      " 0   user_id              53902 non-null  int64  \n",
      " 1   date                 53902 non-null  object \n",
      " 2   direction            53902 non-null  object \n",
      " 3   internal             53785 non-null  object \n",
      " 4   operator_id          45730 non-null  float64\n",
      " 5   is_missed_call       53902 non-null  bool   \n",
      " 6   calls_count          53902 non-null  int64  \n",
      " 7   call_duration        53902 non-null  int64  \n",
      " 8   total_call_duration  53902 non-null  int64  \n",
      "dtypes: bool(1), float64(1), int64(4), object(3)\n",
      "memory usage: 3.3+ MB\n"
     ]
    }
   ],
   "source": [
    "telecom_dataset.info()"
   ]
  },
  {
   "cell_type": "code",
   "execution_count": 11,
   "metadata": {
    "colab": {
     "base_uri": "https://localhost:8080/"
    },
    "executionInfo": {
     "elapsed": 97,
     "status": "ok",
     "timestamp": 1649914414390,
     "user": {
      "displayName": "Сергей Холоденин",
      "userId": "02339464120149742563"
     },
     "user_tz": -180
    },
    "id": "_7xXa8sGEpIp",
    "outputId": "bc3178f6-d4ff-4b70-ef6c-c3b413c32669"
   },
   "outputs": [
    {
     "data": {
      "text/plain": [
       "4900"
      ]
     },
     "execution_count": 11,
     "metadata": {},
     "output_type": "execute_result"
    }
   ],
   "source": [
    "telecom_dataset.duplicated().sum()"
   ]
  },
  {
   "cell_type": "code",
   "execution_count": 12,
   "metadata": {
    "colab": {
     "base_uri": "https://localhost:8080/"
    },
    "executionInfo": {
     "elapsed": 79,
     "status": "ok",
     "timestamp": 1649914414394,
     "user": {
      "displayName": "Сергей Холоденин",
      "userId": "02339464120149742563"
     },
     "user_tz": -180
    },
    "id": "xcrUH7wCXPa6",
    "outputId": "7ca07790-20e0-476b-e7fa-a3d62d325720"
   },
   "outputs": [
    {
     "data": {
      "text/plain": [
       "user_id                   0\n",
       "date                      0\n",
       "direction                 0\n",
       "internal                117\n",
       "operator_id            8172\n",
       "is_missed_call            0\n",
       "calls_count               0\n",
       "call_duration             0\n",
       "total_call_duration       0\n",
       "dtype: int64"
      ]
     },
     "execution_count": 12,
     "metadata": {},
     "output_type": "execute_result"
    }
   ],
   "source": [
    "telecom_dataset.isna().sum()"
   ]
  },
  {
   "cell_type": "markdown",
   "metadata": {
    "id": "flRahkJGF4HE"
   },
   "source": [
    "В датасете со звонками 4900 строк дубликатов, их следует удалить, достаточно высокий % дубликатов от общего количества наблюдений. Вопрос к техническому отделу. Столбец с датами следует привести к формату `datetime` с учетом  `utc`. Сотлбец iternal привести к типу данных `bool`. В столбце с индентификатором оператора 8172 пропущенных значений. Судя по первой строке датасета, можно предположить, что это пропущенные звонки, где не был азначен оператор. Следует проверить данные, нужно ли эти пропущенные значения как-либо обрабатывать."
   ]
  },
  {
   "cell_type": "code",
   "execution_count": 13,
   "metadata": {
    "colab": {
     "base_uri": "https://localhost:8080/",
     "height": 424
    },
    "executionInfo": {
     "elapsed": 635,
     "status": "ok",
     "timestamp": 1649914414973,
     "user": {
      "displayName": "Сергей Холоденин",
      "userId": "02339464120149742563"
     },
     "user_tz": -180
    },
    "id": "WQ8OK4qH8N_8",
    "outputId": "fb1271f6-a57c-4147-b2ed-b244a0ce0a63"
   },
   "outputs": [
    {
     "data": {
      "text/html": [
       "<div>\n",
       "<style scoped>\n",
       "    .dataframe tbody tr th:only-of-type {\n",
       "        vertical-align: middle;\n",
       "    }\n",
       "\n",
       "    .dataframe tbody tr th {\n",
       "        vertical-align: top;\n",
       "    }\n",
       "\n",
       "    .dataframe thead th {\n",
       "        text-align: right;\n",
       "    }\n",
       "</style>\n",
       "<table border=\"1\" class=\"dataframe\">\n",
       "  <thead>\n",
       "    <tr style=\"text-align: right;\">\n",
       "      <th></th>\n",
       "      <th>user_id</th>\n",
       "      <th>date</th>\n",
       "      <th>direction</th>\n",
       "      <th>internal</th>\n",
       "      <th>operator_id</th>\n",
       "      <th>is_missed_call</th>\n",
       "      <th>calls_count</th>\n",
       "      <th>call_duration</th>\n",
       "      <th>total_call_duration</th>\n",
       "    </tr>\n",
       "  </thead>\n",
       "  <tbody>\n",
       "    <tr>\n",
       "      <th>8</th>\n",
       "      <td>166377</td>\n",
       "      <td>2019-08-05 00:00:00+03:00</td>\n",
       "      <td>out</td>\n",
       "      <td>False</td>\n",
       "      <td>880020.0</td>\n",
       "      <td>True</td>\n",
       "      <td>8</td>\n",
       "      <td>0</td>\n",
       "      <td>50</td>\n",
       "    </tr>\n",
       "    <tr>\n",
       "      <th>28</th>\n",
       "      <td>166377</td>\n",
       "      <td>2019-08-12 00:00:00+03:00</td>\n",
       "      <td>in</td>\n",
       "      <td>False</td>\n",
       "      <td>NaN</td>\n",
       "      <td>True</td>\n",
       "      <td>2</td>\n",
       "      <td>0</td>\n",
       "      <td>34</td>\n",
       "    </tr>\n",
       "    <tr>\n",
       "      <th>44</th>\n",
       "      <td>166377</td>\n",
       "      <td>2019-08-14 00:00:00+03:00</td>\n",
       "      <td>out</td>\n",
       "      <td>False</td>\n",
       "      <td>880026.0</td>\n",
       "      <td>False</td>\n",
       "      <td>10</td>\n",
       "      <td>1567</td>\n",
       "      <td>1654</td>\n",
       "    </tr>\n",
       "    <tr>\n",
       "      <th>45</th>\n",
       "      <td>166377</td>\n",
       "      <td>2019-08-14 00:00:00+03:00</td>\n",
       "      <td>in</td>\n",
       "      <td>False</td>\n",
       "      <td>NaN</td>\n",
       "      <td>True</td>\n",
       "      <td>1</td>\n",
       "      <td>0</td>\n",
       "      <td>3</td>\n",
       "    </tr>\n",
       "    <tr>\n",
       "      <th>51</th>\n",
       "      <td>166377</td>\n",
       "      <td>2019-08-15 00:00:00+03:00</td>\n",
       "      <td>out</td>\n",
       "      <td>False</td>\n",
       "      <td>880026.0</td>\n",
       "      <td>False</td>\n",
       "      <td>11</td>\n",
       "      <td>1413</td>\n",
       "      <td>1473</td>\n",
       "    </tr>\n",
       "    <tr>\n",
       "      <th>...</th>\n",
       "      <td>...</td>\n",
       "      <td>...</td>\n",
       "      <td>...</td>\n",
       "      <td>...</td>\n",
       "      <td>...</td>\n",
       "      <td>...</td>\n",
       "      <td>...</td>\n",
       "      <td>...</td>\n",
       "      <td>...</td>\n",
       "    </tr>\n",
       "    <tr>\n",
       "      <th>53869</th>\n",
       "      <td>168601</td>\n",
       "      <td>2019-11-25 00:00:00+03:00</td>\n",
       "      <td>in</td>\n",
       "      <td>False</td>\n",
       "      <td>952914.0</td>\n",
       "      <td>False</td>\n",
       "      <td>7</td>\n",
       "      <td>1229</td>\n",
       "      <td>1282</td>\n",
       "    </tr>\n",
       "    <tr>\n",
       "      <th>53874</th>\n",
       "      <td>168601</td>\n",
       "      <td>2019-11-26 00:00:00+03:00</td>\n",
       "      <td>in</td>\n",
       "      <td>False</td>\n",
       "      <td>952914.0</td>\n",
       "      <td>False</td>\n",
       "      <td>4</td>\n",
       "      <td>539</td>\n",
       "      <td>562</td>\n",
       "    </tr>\n",
       "    <tr>\n",
       "      <th>53875</th>\n",
       "      <td>168601</td>\n",
       "      <td>2019-11-26 00:00:00+03:00</td>\n",
       "      <td>in</td>\n",
       "      <td>False</td>\n",
       "      <td>NaN</td>\n",
       "      <td>True</td>\n",
       "      <td>3</td>\n",
       "      <td>0</td>\n",
       "      <td>35</td>\n",
       "    </tr>\n",
       "    <tr>\n",
       "      <th>53885</th>\n",
       "      <td>168603</td>\n",
       "      <td>2019-11-20 00:00:00+03:00</td>\n",
       "      <td>out</td>\n",
       "      <td>False</td>\n",
       "      <td>959118.0</td>\n",
       "      <td>True</td>\n",
       "      <td>3</td>\n",
       "      <td>0</td>\n",
       "      <td>89</td>\n",
       "    </tr>\n",
       "    <tr>\n",
       "      <th>53900</th>\n",
       "      <td>168606</td>\n",
       "      <td>2019-11-15 00:00:00+03:00</td>\n",
       "      <td>out</td>\n",
       "      <td>True</td>\n",
       "      <td>957922.0</td>\n",
       "      <td>False</td>\n",
       "      <td>4</td>\n",
       "      <td>3130</td>\n",
       "      <td>3190</td>\n",
       "    </tr>\n",
       "  </tbody>\n",
       "</table>\n",
       "<p>4900 rows × 9 columns</p>\n",
       "</div>"
      ],
      "text/plain": [
       "       user_id                       date direction internal  operator_id  \\\n",
       "8       166377  2019-08-05 00:00:00+03:00       out    False     880020.0   \n",
       "28      166377  2019-08-12 00:00:00+03:00        in    False          NaN   \n",
       "44      166377  2019-08-14 00:00:00+03:00       out    False     880026.0   \n",
       "45      166377  2019-08-14 00:00:00+03:00        in    False          NaN   \n",
       "51      166377  2019-08-15 00:00:00+03:00       out    False     880026.0   \n",
       "...        ...                        ...       ...      ...          ...   \n",
       "53869   168601  2019-11-25 00:00:00+03:00        in    False     952914.0   \n",
       "53874   168601  2019-11-26 00:00:00+03:00        in    False     952914.0   \n",
       "53875   168601  2019-11-26 00:00:00+03:00        in    False          NaN   \n",
       "53885   168603  2019-11-20 00:00:00+03:00       out    False     959118.0   \n",
       "53900   168606  2019-11-15 00:00:00+03:00       out     True     957922.0   \n",
       "\n",
       "       is_missed_call  calls_count  call_duration  total_call_duration  \n",
       "8                True            8              0                   50  \n",
       "28               True            2              0                   34  \n",
       "44              False           10           1567                 1654  \n",
       "45               True            1              0                    3  \n",
       "51              False           11           1413                 1473  \n",
       "...               ...          ...            ...                  ...  \n",
       "53869           False            7           1229                 1282  \n",
       "53874           False            4            539                  562  \n",
       "53875            True            3              0                   35  \n",
       "53885            True            3              0                   89  \n",
       "53900           False            4           3130                 3190  \n",
       "\n",
       "[4900 rows x 9 columns]"
      ]
     },
     "execution_count": 13,
     "metadata": {},
     "output_type": "execute_result"
    }
   ],
   "source": [
    "telecom_dataset.loc[telecom_dataset.duplicated()]"
   ]
  },
  {
   "cell_type": "code",
   "execution_count": 14,
   "metadata": {
    "colab": {
     "base_uri": "https://localhost:8080/",
     "height": 566
    },
    "executionInfo": {
     "elapsed": 46,
     "status": "ok",
     "timestamp": 1649914414974,
     "user": {
      "displayName": "Сергей Холоденин",
      "userId": "02339464120149742563"
     },
     "user_tz": -180
    },
    "id": "vQm9fPqK0pqb",
    "outputId": "d7aef2a3-878a-4a16-a772-11996294ccfb"
   },
   "outputs": [
    {
     "data": {
      "image/png": "[encoded data removed]",
      "text/plain": [
       "<Figure size 936x648 with 1 Axes>"
      ]
     },
     "metadata": {
      "needs_background": "light"
     },
     "output_type": "display_data"
    }
   ],
   "source": [
    "plt.figure(figsize=(13,9))\n",
    "plt.hist(\n",
    "    (telecom_dataset\n",
    " .loc[telecom_dataset.duplicated()]\n",
    " .groupby(['user_id'])\n",
    " .agg({'operator_id':'nunique', 'calls_count':'sum', 'call_duration':'sum', 'total_call_duration':'sum'})\n",
    " .assign(total_min_for_call = lambda x: x['call_duration'] /60 / x['calls_count'])\n",
    " ['total_min_for_call']\n",
    "),bins =26\n",
    ")\n",
    "plt.xlabel('Время одного звонка в минутах')\n",
    "plt.title('Анализ дубликатов')\n",
    "plt.show()"
   ]
  },
  {
   "cell_type": "markdown",
   "metadata": {
    "id": "Bv9sejlC71Vf"
   },
   "source": [
    "Из графика видно, что большая часть дубликатов возникает со звонками, которые по продолжительности меньше минуты, скорее всего из-за маленькой длительности звонка происходит двойная фиксация звонка в базе, при этом это случается при входящи, исходящих звонках у множества клиентов. Следует передать данную информацию техническому отделу."
   ]
  },
  {
   "cell_type": "markdown",
   "metadata": {
    "id": "D5xMYz3jnPsf"
   },
   "source": [
    "<div class=\"alert alert-success\">\n",
    "<b>Комментарий тимлида v.1</b>    \n",
    "    \n",
    "👍 Да, все верно. Если нам предстоит неоднократно работать с данными, то лучше посмотреть детально на природу дубликатов, возможно есть какие-то закономерности в их появлении - так будет проще решить проблему с их возникновением.\n",
    "</div>"
   ]
  },
  {
   "cell_type": "markdown",
   "metadata": {
    "id": "VygtZpPR8wnv"
   },
   "source": [
    "<div class=\"alert alert-info\"> \n",
    "<b>Комментарий студента</b> \n",
    "    \n",
    "Попробовал проанализировать, по датам там идет разброс, есть различные комбинации входящих/исходящих, единственное, что заметил, так это длительность звонков. Думаю, что это и является причиной дубликатов.\n",
    "</div>"
   ]
  },
  {
   "cell_type": "markdown",
   "metadata": {
    "id": "tVqMKl8onPsQ"
   },
   "source": [
    "<div class=\"alert alert-success\">\n",
    "<b>Комментарий тимлида v.2</b> \n",
    "    \n",
    "👍 Спасибо, что добавил дополнительный анализ данных в этой части!\n",
    "</div>"
   ]
  },
  {
   "cell_type": "code",
   "execution_count": 15,
   "metadata": {
    "colab": {
     "base_uri": "https://localhost:8080/",
     "height": 237
    },
    "executionInfo": {
     "elapsed": 43,
     "status": "ok",
     "timestamp": 1649914414981,
     "user": {
      "displayName": "Сергей Холоденин",
      "userId": "02339464120149742563"
     },
     "user_tz": -180
    },
    "id": "Jh9VpmcwYc7m",
    "outputId": "6761a3a7-5332-483f-93db-a02728acf4ca"
   },
   "outputs": [
    {
     "data": {
      "text/html": [
       "<div>\n",
       "<style scoped>\n",
       "    .dataframe tbody tr th:only-of-type {\n",
       "        vertical-align: middle;\n",
       "    }\n",
       "\n",
       "    .dataframe tbody tr th {\n",
       "        vertical-align: top;\n",
       "    }\n",
       "\n",
       "    .dataframe thead th {\n",
       "        text-align: right;\n",
       "    }\n",
       "</style>\n",
       "<table border=\"1\" class=\"dataframe\">\n",
       "  <thead>\n",
       "    <tr style=\"text-align: right;\">\n",
       "      <th></th>\n",
       "      <th></th>\n",
       "      <th></th>\n",
       "      <th></th>\n",
       "      <th>operator_id</th>\n",
       "      <th>calls_count</th>\n",
       "      <th>call_duration</th>\n",
       "      <th>total_call_duration</th>\n",
       "    </tr>\n",
       "    <tr>\n",
       "      <th>user_id</th>\n",
       "      <th>direction</th>\n",
       "      <th>internal</th>\n",
       "      <th>is_missed_call</th>\n",
       "      <th></th>\n",
       "      <th></th>\n",
       "      <th></th>\n",
       "      <th></th>\n",
       "    </tr>\n",
       "  </thead>\n",
       "  <tbody>\n",
       "    <tr>\n",
       "      <th rowspan=\"2\" valign=\"top\">166377</th>\n",
       "      <th>in</th>\n",
       "      <th>False</th>\n",
       "      <th>True</th>\n",
       "      <td>0</td>\n",
       "      <td>103</td>\n",
       "      <td>0</td>\n",
       "      <td>1510</td>\n",
       "    </tr>\n",
       "    <tr>\n",
       "      <th>out</th>\n",
       "      <th>False</th>\n",
       "      <th>True</th>\n",
       "      <td>0</td>\n",
       "      <td>1</td>\n",
       "      <td>0</td>\n",
       "      <td>1</td>\n",
       "    </tr>\n",
       "    <tr>\n",
       "      <th rowspan=\"2\" valign=\"top\">166391</th>\n",
       "      <th rowspan=\"2\" valign=\"top\">in</th>\n",
       "      <th>False</th>\n",
       "      <th>True</th>\n",
       "      <td>0</td>\n",
       "      <td>11</td>\n",
       "      <td>0</td>\n",
       "      <td>146</td>\n",
       "    </tr>\n",
       "    <tr>\n",
       "      <th>True</th>\n",
       "      <th>True</th>\n",
       "      <td>0</td>\n",
       "      <td>9</td>\n",
       "      <td>0</td>\n",
       "      <td>345</td>\n",
       "    </tr>\n",
       "    <tr>\n",
       "      <th>166392</th>\n",
       "      <th>in</th>\n",
       "      <th>False</th>\n",
       "      <th>True</th>\n",
       "      <td>0</td>\n",
       "      <td>127</td>\n",
       "      <td>0</td>\n",
       "      <td>682</td>\n",
       "    </tr>\n",
       "  </tbody>\n",
       "</table>\n",
       "</div>"
      ],
      "text/plain": [
       "                                           operator_id  calls_count  \\\n",
       "user_id direction internal is_missed_call                             \n",
       "166377  in        False    True                      0          103   \n",
       "        out       False    True                      0            1   \n",
       "166391  in        False    True                      0           11   \n",
       "                  True     True                      0            9   \n",
       "166392  in        False    True                      0          127   \n",
       "\n",
       "                                           call_duration  total_call_duration  \n",
       "user_id direction internal is_missed_call                                      \n",
       "166377  in        False    True                        0                 1510  \n",
       "        out       False    True                        0                    1  \n",
       "166391  in        False    True                        0                  146  \n",
       "                  True     True                        0                  345  \n",
       "166392  in        False    True                        0                  682  "
      ]
     },
     "execution_count": 15,
     "metadata": {},
     "output_type": "execute_result"
    }
   ],
   "source": [
    "telecom_dataset[telecom_dataset['operator_id'].isna()].groupby(\n",
    "    ['user_id','direction','internal','is_missed_call']).agg(\n",
    "        {'operator_id':'count','calls_count':'sum','call_duration':'sum','total_call_duration':'sum'}).head()"
   ]
  },
  {
   "cell_type": "markdown",
   "metadata": {
    "id": "wZZcn2HTaSQN"
   },
   "source": [
    "Пропущенные значения в столбце `operator_id` действительно связаны с пропущенными звонками. Т.к. это входящие звонки, то они не тарифицируются, есть пару ошибочных записей, что это исходящие звонки, но в данном случае - это ошибки, т.к. значения минимальны и не влияют на общее распределение и тарификацию. Удалять данные строки не стоит, т.к. их объем больше 5% датасета, если мы захотим в предложениях ограничить входящие, эти данные будут важны для рассмотрения. Исходя из того, что пропуски не помешают расчету, их следует оставить без изменения."
   ]
  },
  {
   "cell_type": "markdown",
   "metadata": {
    "id": "HsXpTHVUnPsh"
   },
   "source": [
    "<div class=\"alert alert-success\">\n",
    "<b>Комментарий тимлида v.1</b>    \n",
    "    \n",
    "👍 Действительно, в рамках данного проекта мы можем обрабатывать данные с пропуском в столбце с номером оператора.\n",
    "</div>"
   ]
  },
  {
   "cell_type": "code",
   "execution_count": 16,
   "metadata": {
    "id": "NzZkmvxzFlp4"
   },
   "outputs": [],
   "source": [
    "telecom_dataset.drop_duplicates(inplace=True)"
   ]
  },
  {
   "cell_type": "code",
   "execution_count": 17,
   "metadata": {
    "id": "RAz0sV6iaIMp"
   },
   "outputs": [],
   "source": [
    "telecom_dataset['date'] = pd.to_datetime(telecom_dataset['date'], format='%Y-%m-%d')\n",
    "telecom_dataset['date'] = telecom_dataset['date'].apply(lambda x: x.date())\n",
    "telecom_dataset['date'] = telecom_dataset['date'].astype('datetime64')"
   ]
  },
  {
   "cell_type": "code",
   "execution_count": 18,
   "metadata": {
    "colab": {
     "base_uri": "https://localhost:8080/"
    },
    "executionInfo": {
     "elapsed": 54,
     "status": "ok",
     "timestamp": 1649914415599,
     "user": {
      "displayName": "Сергей Холоденин",
      "userId": "02339464120149742563"
     },
     "user_tz": -180
    },
    "id": "d00hrR9-XIgd",
    "outputId": "3ed0a9b1-6ee2-4054-f747-c0f77ad08987"
   },
   "outputs": [
    {
     "name": "stdout",
     "output_type": "stream",
     "text": [
      "<class 'pandas.core.frame.DataFrame'>\n",
      "Int64Index: 49002 entries, 0 to 53901\n",
      "Data columns (total 9 columns):\n",
      " #   Column               Non-Null Count  Dtype         \n",
      "---  ------               --------------  -----         \n",
      " 0   user_id              49002 non-null  int64         \n",
      " 1   date                 49002 non-null  datetime64[ns]\n",
      " 2   direction            49002 non-null  object        \n",
      " 3   internal             48892 non-null  object        \n",
      " 4   operator_id          41546 non-null  float64       \n",
      " 5   is_missed_call       49002 non-null  bool          \n",
      " 6   calls_count          49002 non-null  int64         \n",
      " 7   call_duration        49002 non-null  int64         \n",
      " 8   total_call_duration  49002 non-null  int64         \n",
      "dtypes: bool(1), datetime64[ns](1), float64(1), int64(4), object(2)\n",
      "memory usage: 3.4+ MB\n"
     ]
    }
   ],
   "source": [
    "telecom_dataset.info()"
   ]
  },
  {
   "cell_type": "markdown",
   "metadata": {
    "id": "5ISOr8KRB4BJ"
   },
   "source": [
    "Проверим пропущенные значния в столбце `internal`."
   ]
  },
  {
   "cell_type": "code",
   "execution_count": 19,
   "metadata": {
    "colab": {
     "base_uri": "https://localhost:8080/",
     "height": 424
    },
    "executionInfo": {
     "elapsed": 48,
     "status": "ok",
     "timestamp": 1649914415600,
     "user": {
      "displayName": "Сергей Холоденин",
      "userId": "02339464120149742563"
     },
     "user_tz": -180
    },
    "id": "l3Idiug3_z3u",
    "outputId": "1dfce75b-3667-4584-c8af-9959a7e8b3a2"
   },
   "outputs": [
    {
     "data": {
      "text/html": [
       "<div>\n",
       "<style scoped>\n",
       "    .dataframe tbody tr th:only-of-type {\n",
       "        vertical-align: middle;\n",
       "    }\n",
       "\n",
       "    .dataframe tbody tr th {\n",
       "        vertical-align: top;\n",
       "    }\n",
       "\n",
       "    .dataframe thead th {\n",
       "        text-align: right;\n",
       "    }\n",
       "</style>\n",
       "<table border=\"1\" class=\"dataframe\">\n",
       "  <thead>\n",
       "    <tr style=\"text-align: right;\">\n",
       "      <th></th>\n",
       "      <th>user_id</th>\n",
       "      <th>date</th>\n",
       "      <th>direction</th>\n",
       "      <th>internal</th>\n",
       "      <th>operator_id</th>\n",
       "      <th>is_missed_call</th>\n",
       "      <th>calls_count</th>\n",
       "      <th>call_duration</th>\n",
       "      <th>total_call_duration</th>\n",
       "    </tr>\n",
       "  </thead>\n",
       "  <tbody>\n",
       "    <tr>\n",
       "      <th>1007</th>\n",
       "      <td>166405</td>\n",
       "      <td>2019-09-18</td>\n",
       "      <td>in</td>\n",
       "      <td>NaN</td>\n",
       "      <td>NaN</td>\n",
       "      <td>True</td>\n",
       "      <td>1</td>\n",
       "      <td>0</td>\n",
       "      <td>59</td>\n",
       "    </tr>\n",
       "    <tr>\n",
       "      <th>1090</th>\n",
       "      <td>166405</td>\n",
       "      <td>2019-10-01</td>\n",
       "      <td>in</td>\n",
       "      <td>NaN</td>\n",
       "      <td>NaN</td>\n",
       "      <td>True</td>\n",
       "      <td>1</td>\n",
       "      <td>0</td>\n",
       "      <td>1</td>\n",
       "    </tr>\n",
       "    <tr>\n",
       "      <th>1864</th>\n",
       "      <td>166406</td>\n",
       "      <td>2019-08-20</td>\n",
       "      <td>in</td>\n",
       "      <td>NaN</td>\n",
       "      <td>NaN</td>\n",
       "      <td>True</td>\n",
       "      <td>1</td>\n",
       "      <td>0</td>\n",
       "      <td>36</td>\n",
       "    </tr>\n",
       "    <tr>\n",
       "      <th>1924</th>\n",
       "      <td>166406</td>\n",
       "      <td>2019-09-02</td>\n",
       "      <td>in</td>\n",
       "      <td>NaN</td>\n",
       "      <td>879898.0</td>\n",
       "      <td>False</td>\n",
       "      <td>1</td>\n",
       "      <td>2</td>\n",
       "      <td>9</td>\n",
       "    </tr>\n",
       "    <tr>\n",
       "      <th>6210</th>\n",
       "      <td>166541</td>\n",
       "      <td>2019-09-26</td>\n",
       "      <td>in</td>\n",
       "      <td>NaN</td>\n",
       "      <td>908960.0</td>\n",
       "      <td>False</td>\n",
       "      <td>1</td>\n",
       "      <td>393</td>\n",
       "      <td>423</td>\n",
       "    </tr>\n",
       "    <tr>\n",
       "      <th>...</th>\n",
       "      <td>...</td>\n",
       "      <td>...</td>\n",
       "      <td>...</td>\n",
       "      <td>...</td>\n",
       "      <td>...</td>\n",
       "      <td>...</td>\n",
       "      <td>...</td>\n",
       "      <td>...</td>\n",
       "      <td>...</td>\n",
       "    </tr>\n",
       "    <tr>\n",
       "      <th>52462</th>\n",
       "      <td>168361</td>\n",
       "      <td>2019-11-09</td>\n",
       "      <td>in</td>\n",
       "      <td>NaN</td>\n",
       "      <td>NaN</td>\n",
       "      <td>True</td>\n",
       "      <td>6</td>\n",
       "      <td>0</td>\n",
       "      <td>14</td>\n",
       "    </tr>\n",
       "    <tr>\n",
       "      <th>52590</th>\n",
       "      <td>168361</td>\n",
       "      <td>2019-11-13</td>\n",
       "      <td>in</td>\n",
       "      <td>NaN</td>\n",
       "      <td>NaN</td>\n",
       "      <td>True</td>\n",
       "      <td>2</td>\n",
       "      <td>0</td>\n",
       "      <td>6</td>\n",
       "    </tr>\n",
       "    <tr>\n",
       "      <th>52621</th>\n",
       "      <td>168361</td>\n",
       "      <td>2019-11-14</td>\n",
       "      <td>in</td>\n",
       "      <td>NaN</td>\n",
       "      <td>NaN</td>\n",
       "      <td>True</td>\n",
       "      <td>1</td>\n",
       "      <td>0</td>\n",
       "      <td>2</td>\n",
       "    </tr>\n",
       "    <tr>\n",
       "      <th>53717</th>\n",
       "      <td>168579</td>\n",
       "      <td>2019-11-09</td>\n",
       "      <td>in</td>\n",
       "      <td>NaN</td>\n",
       "      <td>NaN</td>\n",
       "      <td>True</td>\n",
       "      <td>1</td>\n",
       "      <td>0</td>\n",
       "      <td>18</td>\n",
       "    </tr>\n",
       "    <tr>\n",
       "      <th>53799</th>\n",
       "      <td>168598</td>\n",
       "      <td>2019-11-22</td>\n",
       "      <td>in</td>\n",
       "      <td>NaN</td>\n",
       "      <td>958394.0</td>\n",
       "      <td>False</td>\n",
       "      <td>1</td>\n",
       "      <td>11</td>\n",
       "      <td>17</td>\n",
       "    </tr>\n",
       "  </tbody>\n",
       "</table>\n",
       "<p>110 rows × 9 columns</p>\n",
       "</div>"
      ],
      "text/plain": [
       "       user_id       date direction internal  operator_id  is_missed_call  \\\n",
       "1007    166405 2019-09-18        in      NaN          NaN            True   \n",
       "1090    166405 2019-10-01        in      NaN          NaN            True   \n",
       "1864    166406 2019-08-20        in      NaN          NaN            True   \n",
       "1924    166406 2019-09-02        in      NaN     879898.0           False   \n",
       "6210    166541 2019-09-26        in      NaN     908960.0           False   \n",
       "...        ...        ...       ...      ...          ...             ...   \n",
       "52462   168361 2019-11-09        in      NaN          NaN            True   \n",
       "52590   168361 2019-11-13        in      NaN          NaN            True   \n",
       "52621   168361 2019-11-14        in      NaN          NaN            True   \n",
       "53717   168579 2019-11-09        in      NaN          NaN            True   \n",
       "53799   168598 2019-11-22        in      NaN     958394.0           False   \n",
       "\n",
       "       calls_count  call_duration  total_call_duration  \n",
       "1007             1              0                   59  \n",
       "1090             1              0                    1  \n",
       "1864             1              0                   36  \n",
       "1924             1              2                    9  \n",
       "6210             1            393                  423  \n",
       "...            ...            ...                  ...  \n",
       "52462            6              0                   14  \n",
       "52590            2              0                    6  \n",
       "52621            1              0                    2  \n",
       "53717            1              0                   18  \n",
       "53799            1             11                   17  \n",
       "\n",
       "[110 rows x 9 columns]"
      ]
     },
     "execution_count": 19,
     "metadata": {},
     "output_type": "execute_result"
    }
   ],
   "source": [
    "(telecom_dataset\n",
    " .loc[telecom_dataset['internal'].isna()]\n",
    ")"
   ]
  },
  {
   "cell_type": "code",
   "execution_count": 20,
   "metadata": {
    "colab": {
     "base_uri": "https://localhost:8080/"
    },
    "executionInfo": {
     "elapsed": 46,
     "status": "ok",
     "timestamp": 1649914415601,
     "user": {
      "displayName": "Сергей Холоденин",
      "userId": "02339464120149742563"
     },
     "user_tz": -180
    },
    "id": "vgKFCL9qBkQQ",
    "outputId": "5314f6cc-2322-4c7e-bed2-abb71b7aff06"
   },
   "outputs": [
    {
     "data": {
      "text/plain": [
       "user_id                55\n",
       "date                   55\n",
       "direction              55\n",
       "internal                0\n",
       "operator_id             0\n",
       "is_missed_call         55\n",
       "calls_count            55\n",
       "call_duration          55\n",
       "total_call_duration    55\n",
       "dtype: int64"
      ]
     },
     "execution_count": 20,
     "metadata": {},
     "output_type": "execute_result"
    }
   ],
   "source": [
    "telecom_dataset.loc[telecom_dataset['internal'].isna()].loc[telecom_dataset['operator_id'].isna()].count()"
   ]
  },
  {
   "cell_type": "code",
   "execution_count": 21,
   "metadata": {
    "colab": {
     "base_uri": "https://localhost:8080/",
     "height": 312
    },
    "executionInfo": {
     "elapsed": 37,
     "status": "ok",
     "timestamp": 1649914415602,
     "user": {
      "displayName": "Сергей Холоденин",
      "userId": "02339464120149742563"
     },
     "user_tz": -180
    },
    "id": "1rcB1KeJ9gX-",
    "outputId": "cadd0b19-6818-4bd6-d8f1-409ea9ee6f05"
   },
   "outputs": [
    {
     "data": {
      "text/plain": [
       "Text(0.5, 0, 'Продолжительность в минутах')"
      ]
     },
     "execution_count": 21,
     "metadata": {},
     "output_type": "execute_result"
    },
    {
     "data": {
      "image/png": "[encoded data removed]",
      "text/plain": [
       "<Figure size 432x288 with 1 Axes>"
      ]
     },
     "metadata": {
      "needs_background": "light"
     },
     "output_type": "display_data"
    }
   ],
   "source": [
    "plt.hist(telecom_dataset\n",
    " .loc[telecom_dataset['internal'].isna()]\n",
    " .loc[~telecom_dataset['operator_id'].isna()]\n",
    " .assign(time_call_duration_min = lambda x: x['call_duration']/60/x['calls_count'])\n",
    " ['time_call_duration_min'], bins=15\n",
    ")\n",
    "plt.title('Распределение времени по пропущенным значениям в столбце internal')\n",
    "plt.xlabel('Продолжительность в минутах')"
   ]
  },
  {
   "cell_type": "markdown",
   "metadata": {
    "id": "0TTEYTdL_Plg"
   },
   "source": [
    "Из 110 пропущенных значений в столбце направления звонка 55 значений не имеют оператора, т.е. это пропущенный входящий, а при анализе пропущенных входящих преимущественно были внешние звонки, поэтому скорее всего и звонки с небольшой продолжительностью или пропущенные звонки также относятся к внешним звонкам. Из-за низкой длительности, также как и в случае с дубликатами предположительно система не успевает зафиксировать данную информацию. Заменим данные c пропусками на `False`, после чего приведем тип данных к булевому."
   ]
  },
  {
   "cell_type": "code",
   "execution_count": 22,
   "metadata": {
    "id": "oglxCPV6bLUe"
   },
   "outputs": [],
   "source": [
    "telecom_dataset['internal'] = telecom_dataset['internal'].fillna('False').astype(bool)"
   ]
  },
  {
   "cell_type": "markdown",
   "metadata": {
    "id": "N_y2-JkMnPsj"
   },
   "source": [
    "<div class=\"alert alert-warning\">\n",
    "<b>Комментарий тимлида v.1</b> \n",
    "    \n",
    "📝 Обрати, пожалуйста, внимание, что этот столбец содержит пропуски в данных, а когда мы перевели его в булевый тип, то пропуски были заменены на одно из значений. Такие моменты лучше контролировать дополнительно.\n",
    "</div>"
   ]
  },
  {
   "cell_type": "markdown",
   "metadata": {
    "id": "PxPdku2mEyQX"
   },
   "source": [
    "<div class=\"alert alert-info\"> \n",
    "<b>Комментарий студента</b> \n",
    "    \n",
    "Проанализировал пропуски данных и перед изменением типа данных заменил их.\n",
    "</div>"
   ]
  },
  {
   "cell_type": "markdown",
   "metadata": {
    "id": "tVqMKl8onPsQ"
   },
   "source": [
    "<div class=\"alert alert-success\">\n",
    "<b>Комментарий тимлида v.2</b> \n",
    "    \n",
    "👍 Спасибо!\n",
    "</div>"
   ]
  },
  {
   "cell_type": "markdown",
   "metadata": {
    "id": "UDsd1WKQHHks"
   },
   "source": [
    "Мы уже посмотрели на распределение дат набора клиентов, теперь посмотрим на даты активности."
   ]
  },
  {
   "cell_type": "code",
   "execution_count": 23,
   "metadata": {
    "id": "5JPa2M23NfTs"
   },
   "outputs": [],
   "source": [
    "df = telecom_dataset.copy().merge(telecom_clients, on=['user_id'])\n",
    "proj_start = df['date'].min()\n",
    "df = (df\n",
    "      .merge(df.groupby('user_id').agg(start=('date','min')).reset_index(), on ='user_id')\n",
    "      .merge(df.groupby('user_id').agg(end=('date','max')).reset_index(), on ='user_id')\n",
    ")\n",
    "def color(row):\n",
    " c_dict = {'A':'#E64646', 'B':'#E69646', 'C':'#34D05C'}\n",
    " return c_dict[row['tariff_plan']]\n",
    "df['color'] = df.apply(color, axis=1)"
   ]
  },
  {
   "cell_type": "code",
   "execution_count": 24,
   "metadata": {
    "id": "PBszKDfnKtmL"
   },
   "outputs": [],
   "source": [
    "proj_start = df['date'].min()\n",
    "\n",
    "# количество дней от начала проекта до начала задачи\n",
    "df['start_num'] = (df['start']-proj_start).dt.days\n",
    "# количество дней от начала проекта до конца задачи\n",
    "df['end_num'] = (df['end']-proj_start).dt.days\n",
    "# дни между началом и концом каждой задачи\n",
    "df['days_start_to_end'] = df['end_num'] - df['start_num']\n",
    "df_group = df.groupby('user_id').agg({'days_start_to_end':'min','start_num':'min','end_num':'min','color':'first'}).reset_index()"
   ]
  },
  {
   "cell_type": "code",
   "execution_count": 25,
   "metadata": {
    "colab": {
     "base_uri": "https://localhost:8080/",
     "height": 592
    },
    "executionInfo": {
     "elapsed": 1044,
     "status": "ok",
     "timestamp": 1649914418035,
     "user": {
      "displayName": "Сергей Холоденин",
      "userId": "02339464120149742563"
     },
     "user_tz": -180
    },
    "id": "6irH7heCOx64",
    "outputId": "63fb1287-8c68-42ac-c5e4-3f1186c0ca69"
   },
   "outputs": [
    {
     "ename": "ValueError",
     "evalue": "The number of FixedLocator locations (13), usually from a call to set_ticks, does not match the number of ticklabels (12).",
     "output_type": "error",
     "traceback": [
      "\u001b[0;31m---------------------------------------------------------------------------\u001b[0m",
      "\u001b[0;31mValueError\u001b[0m                                Traceback (most recent call last)",
      "\u001b[0;32m/tmp/ipykernel_211/2204458357.py\u001b[0m in \u001b[0;36m<module>\u001b[0;34m\u001b[0m\n\u001b[1;32m     15\u001b[0m \u001b[0max\u001b[0m\u001b[0;34m.\u001b[0m\u001b[0mset_xticks\u001b[0m\u001b[0;34m(\u001b[0m\u001b[0mxticks\u001b[0m\u001b[0;34m)\u001b[0m\u001b[0;34m\u001b[0m\u001b[0;34m\u001b[0m\u001b[0m\n\u001b[1;32m     16\u001b[0m \u001b[0max\u001b[0m\u001b[0;34m.\u001b[0m\u001b[0mset_xticks\u001b[0m\u001b[0;34m(\u001b[0m\u001b[0mxticks_minor\u001b[0m\u001b[0;34m,\u001b[0m \u001b[0mminor\u001b[0m\u001b[0;34m=\u001b[0m\u001b[0;32mTrue\u001b[0m\u001b[0;34m)\u001b[0m\u001b[0;34m\u001b[0m\u001b[0;34m\u001b[0m\u001b[0m\n\u001b[0;32m---> 17\u001b[0;31m \u001b[0max\u001b[0m\u001b[0;34m.\u001b[0m\u001b[0mset_xticklabels\u001b[0m\u001b[0;34m(\u001b[0m\u001b[0mxticks_labels\u001b[0m\u001b[0;34m[\u001b[0m\u001b[0;34m:\u001b[0m\u001b[0;34m:\u001b[0m\u001b[0;36m10\u001b[0m\u001b[0;34m]\u001b[0m\u001b[0;34m)\u001b[0m\u001b[0;34m\u001b[0m\u001b[0;34m\u001b[0m\u001b[0m\n\u001b[0m\u001b[1;32m     18\u001b[0m \u001b[0max\u001b[0m\u001b[0;34m.\u001b[0m\u001b[0mset_axisbelow\u001b[0m\u001b[0;34m(\u001b[0m\u001b[0;32mTrue\u001b[0m\u001b[0;34m)\u001b[0m\u001b[0;34m\u001b[0m\u001b[0;34m\u001b[0m\u001b[0m\n\u001b[1;32m     19\u001b[0m \u001b[0max\u001b[0m\u001b[0;34m.\u001b[0m\u001b[0mxaxis\u001b[0m\u001b[0;34m.\u001b[0m\u001b[0mgrid\u001b[0m\u001b[0;34m(\u001b[0m\u001b[0mcolor\u001b[0m\u001b[0;34m=\u001b[0m\u001b[0;34m'gray'\u001b[0m\u001b[0;34m,\u001b[0m \u001b[0mlinestyle\u001b[0m\u001b[0;34m=\u001b[0m\u001b[0;34m'dashed'\u001b[0m\u001b[0;34m,\u001b[0m \u001b[0malpha\u001b[0m\u001b[0;34m=\u001b[0m\u001b[0;36m0.2\u001b[0m\u001b[0;34m,\u001b[0m \u001b[0mwhich\u001b[0m\u001b[0;34m=\u001b[0m\u001b[0;34m'both'\u001b[0m\u001b[0;34m)\u001b[0m\u001b[0;34m\u001b[0m\u001b[0;34m\u001b[0m\u001b[0m\n",
      "\u001b[0;32m/opt/conda/lib/python3.9/site-packages/matplotlib/axes/_base.py\u001b[0m in \u001b[0;36mwrapper\u001b[0;34m(self, *args, **kwargs)\u001b[0m\n\u001b[1;32m     61\u001b[0m \u001b[0;34m\u001b[0m\u001b[0m\n\u001b[1;32m     62\u001b[0m         \u001b[0;32mdef\u001b[0m \u001b[0mwrapper\u001b[0m\u001b[0;34m(\u001b[0m\u001b[0mself\u001b[0m\u001b[0;34m,\u001b[0m \u001b[0;34m*\u001b[0m\u001b[0margs\u001b[0m\u001b[0;34m,\u001b[0m \u001b[0;34m**\u001b[0m\u001b[0mkwargs\u001b[0m\u001b[0;34m)\u001b[0m\u001b[0;34m:\u001b[0m\u001b[0;34m\u001b[0m\u001b[0;34m\u001b[0m\u001b[0m\n\u001b[0;32m---> 63\u001b[0;31m             \u001b[0;32mreturn\u001b[0m \u001b[0mget_method\u001b[0m\u001b[0;34m(\u001b[0m\u001b[0mself\u001b[0m\u001b[0;34m)\u001b[0m\u001b[0;34m(\u001b[0m\u001b[0;34m*\u001b[0m\u001b[0margs\u001b[0m\u001b[0;34m,\u001b[0m \u001b[0;34m**\u001b[0m\u001b[0mkwargs\u001b[0m\u001b[0;34m)\u001b[0m\u001b[0;34m\u001b[0m\u001b[0;34m\u001b[0m\u001b[0m\n\u001b[0m\u001b[1;32m     64\u001b[0m \u001b[0;34m\u001b[0m\u001b[0m\n\u001b[1;32m     65\u001b[0m         \u001b[0mwrapper\u001b[0m\u001b[0;34m.\u001b[0m\u001b[0m__module__\u001b[0m \u001b[0;34m=\u001b[0m \u001b[0mowner\u001b[0m\u001b[0;34m.\u001b[0m\u001b[0m__module__\u001b[0m\u001b[0;34m\u001b[0m\u001b[0;34m\u001b[0m\u001b[0m\n",
      "\u001b[0;32m/opt/conda/lib/python3.9/site-packages/matplotlib/cbook/deprecation.py\u001b[0m in \u001b[0;36mwrapper\u001b[0;34m(*args, **kwargs)\u001b[0m\n\u001b[1;32m    449\u001b[0m                 \u001b[0;34m\"parameter will become keyword-only %(removal)s.\"\u001b[0m\u001b[0;34m,\u001b[0m\u001b[0;34m\u001b[0m\u001b[0;34m\u001b[0m\u001b[0m\n\u001b[1;32m    450\u001b[0m                 name=name, obj_type=f\"parameter of {func.__name__}()\")\n\u001b[0;32m--> 451\u001b[0;31m         \u001b[0;32mreturn\u001b[0m \u001b[0mfunc\u001b[0m\u001b[0;34m(\u001b[0m\u001b[0;34m*\u001b[0m\u001b[0margs\u001b[0m\u001b[0;34m,\u001b[0m \u001b[0;34m**\u001b[0m\u001b[0mkwargs\u001b[0m\u001b[0;34m)\u001b[0m\u001b[0;34m\u001b[0m\u001b[0;34m\u001b[0m\u001b[0m\n\u001b[0m\u001b[1;32m    452\u001b[0m \u001b[0;34m\u001b[0m\u001b[0m\n\u001b[1;32m    453\u001b[0m     \u001b[0;32mreturn\u001b[0m \u001b[0mwrapper\u001b[0m\u001b[0;34m\u001b[0m\u001b[0;34m\u001b[0m\u001b[0m\n",
      "\u001b[0;32m/opt/conda/lib/python3.9/site-packages/matplotlib/axis.py\u001b[0m in \u001b[0;36m_set_ticklabels\u001b[0;34m(self, labels, fontdict, minor, **kwargs)\u001b[0m\n\u001b[1;32m   1794\u001b[0m         \u001b[0;32mif\u001b[0m \u001b[0mfontdict\u001b[0m \u001b[0;32mis\u001b[0m \u001b[0;32mnot\u001b[0m \u001b[0;32mNone\u001b[0m\u001b[0;34m:\u001b[0m\u001b[0;34m\u001b[0m\u001b[0;34m\u001b[0m\u001b[0m\n\u001b[1;32m   1795\u001b[0m             \u001b[0mkwargs\u001b[0m\u001b[0;34m.\u001b[0m\u001b[0mupdate\u001b[0m\u001b[0;34m(\u001b[0m\u001b[0mfontdict\u001b[0m\u001b[0;34m)\u001b[0m\u001b[0;34m\u001b[0m\u001b[0;34m\u001b[0m\u001b[0m\n\u001b[0;32m-> 1796\u001b[0;31m         \u001b[0;32mreturn\u001b[0m \u001b[0mself\u001b[0m\u001b[0;34m.\u001b[0m\u001b[0mset_ticklabels\u001b[0m\u001b[0;34m(\u001b[0m\u001b[0mlabels\u001b[0m\u001b[0;34m,\u001b[0m \u001b[0mminor\u001b[0m\u001b[0;34m=\u001b[0m\u001b[0mminor\u001b[0m\u001b[0;34m,\u001b[0m \u001b[0;34m**\u001b[0m\u001b[0mkwargs\u001b[0m\u001b[0;34m)\u001b[0m\u001b[0;34m\u001b[0m\u001b[0;34m\u001b[0m\u001b[0m\n\u001b[0m\u001b[1;32m   1797\u001b[0m \u001b[0;34m\u001b[0m\u001b[0m\n\u001b[1;32m   1798\u001b[0m     \u001b[0;34m@\u001b[0m\u001b[0mcbook\u001b[0m\u001b[0;34m.\u001b[0m\u001b[0m_make_keyword_only\u001b[0m\u001b[0;34m(\u001b[0m\u001b[0;34m\"3.2\"\u001b[0m\u001b[0;34m,\u001b[0m \u001b[0;34m\"minor\"\u001b[0m\u001b[0;34m)\u001b[0m\u001b[0;34m\u001b[0m\u001b[0;34m\u001b[0m\u001b[0m\n",
      "\u001b[0;32m/opt/conda/lib/python3.9/site-packages/matplotlib/axis.py\u001b[0m in \u001b[0;36mset_ticklabels\u001b[0;34m(self, ticklabels, minor, **kwargs)\u001b[0m\n\u001b[1;32m   1715\u001b[0m             \u001b[0;31m# remove all tick labels, so only error for > 0 ticklabels\u001b[0m\u001b[0;34m\u001b[0m\u001b[0;34m\u001b[0m\u001b[0;34m\u001b[0m\u001b[0m\n\u001b[1;32m   1716\u001b[0m             \u001b[0;32mif\u001b[0m \u001b[0mlen\u001b[0m\u001b[0;34m(\u001b[0m\u001b[0mlocator\u001b[0m\u001b[0;34m.\u001b[0m\u001b[0mlocs\u001b[0m\u001b[0;34m)\u001b[0m \u001b[0;34m!=\u001b[0m \u001b[0mlen\u001b[0m\u001b[0;34m(\u001b[0m\u001b[0mticklabels\u001b[0m\u001b[0;34m)\u001b[0m \u001b[0;32mand\u001b[0m \u001b[0mlen\u001b[0m\u001b[0;34m(\u001b[0m\u001b[0mticklabels\u001b[0m\u001b[0;34m)\u001b[0m \u001b[0;34m!=\u001b[0m \u001b[0;36m0\u001b[0m\u001b[0;34m:\u001b[0m\u001b[0;34m\u001b[0m\u001b[0;34m\u001b[0m\u001b[0m\n\u001b[0;32m-> 1717\u001b[0;31m                 raise ValueError(\n\u001b[0m\u001b[1;32m   1718\u001b[0m                     \u001b[0;34m\"The number of FixedLocator locations\"\u001b[0m\u001b[0;34m\u001b[0m\u001b[0;34m\u001b[0m\u001b[0m\n\u001b[1;32m   1719\u001b[0m                     \u001b[0;34mf\" ({len(locator.locs)}), usually from a call to\"\u001b[0m\u001b[0;34m\u001b[0m\u001b[0;34m\u001b[0m\u001b[0m\n",
      "\u001b[0;31mValueError\u001b[0m: The number of FixedLocator locations (13), usually from a call to set_ticks, does not match the number of ticklabels (12)."
     ]
    },
    {
     "data": {
      "image/png": "[encoded data removed]",
      "text/plain": [
       "<Figure size 1152x720 with 1 Axes>"
      ]
     },
     "metadata": {
      "needs_background": "light"
     },
     "output_type": "display_data"
    }
   ],
   "source": [
    "fig, ax = plt.subplots(1, figsize=(16,10))\n",
    "ax.barh(\n",
    "    df_group['user_id'],\n",
    "    df_group['days_start_to_end'],\n",
    "    left=df_group['start_num'], \n",
    "    color=df_group['color'], \n",
    "    edgecolor=df_group['color'], \n",
    "    linewidth=2, alpha=0.5)\n",
    "c_dict = {'Тариф A':'#E64646', 'Тариф B':'#E69646', 'Тариф C':'#34D05C'}\n",
    "legend_elements = [Patch(facecolor=c_dict[i], label=i) for i in c_dict]\n",
    "plt.legend(handles=legend_elements)\n",
    "xticks = np.arange(0, df.end_num.max()+10, 10)\n",
    "xticks_labels = pd.date_range(proj_start, end=df['end'].max()).strftime(\"%m/%d\")\n",
    "xticks_minor = np.arange(0, df_group['end_num'].max()+10, 5)\n",
    "ax.set_xticks(xticks)\n",
    "ax.set_xticks(xticks_minor, minor=True)\n",
    "ax.set_xticklabels(xticks_labels[::10])\n",
    "ax.set_axisbelow(True)\n",
    "ax.xaxis.grid(color='gray', linestyle='dashed', alpha=0.2, which='both')\n",
    "plt.show()"
   ]
  },
  {
   "cell_type": "code",
   "execution_count": 26,
   "metadata": {
    "colab": {
     "base_uri": "https://localhost:8080/",
     "height": 605
    },
    "executionInfo": {
     "elapsed": 29,
     "status": "ok",
     "timestamp": 1649914418037,
     "user": {
      "displayName": "Сергей Холоденин",
      "userId": "02339464120149742563"
     },
     "user_tz": -180
    },
    "id": "QAeFAm8ecE55",
    "outputId": "24e2327a-f769-44c3-b8e6-61bd5d6dc8db"
   },
   "outputs": [
    {
     "data": {
      "image/png": "[encoded data removed]",
      "text/plain": [
       "<Figure size 936x648 with 1 Axes>"
      ]
     },
     "metadata": {
      "needs_background": "light"
     },
     "output_type": "display_data"
    }
   ],
   "source": [
    "plt.figure(figsize=(13,9))\n",
    "plt.hist(telecom_dataset['date'], bins=30)\n",
    "plt.xticks(rotation=45)\n",
    "plt.title('Распределение активности клиентов во времени')\n",
    "plt.xlabel('Дата активности')\n",
    "plt.ylabel('Количестов наблюдений')\n",
    "plt.show()"
   ]
  },
  {
   "cell_type": "markdown",
   "metadata": {
    "id": "RSwoCc5SnPsl"
   },
   "source": [
    "<div class=\"alert alert-danger\">\n",
    "<b>Комментарий тимлида v.1</b> \n",
    "    \n",
    "✍ Добавь, пожалуйста, заголовок и подписи по осям к графикам выше, а также скорректируй подписи меток по оси Х - сейчас они пересекаются. Хорошее оформление графиков - важный момент в отчете, поскольку это упрощает восприятие результатов, помогает избавиться от лишних вопросов заказчика, а также мы всегда можем использовать графики для презентации.\n",
    "</div>"
   ]
  },
  {
   "cell_type": "markdown",
   "metadata": {
    "id": "XMTOUoWZHVBh"
   },
   "source": [
    "Видим, что данные по активации тарифов представлены за период с августа до ноября 2019 года. Месяц оплачивается полностью в месяц активации. Данные по звонкам представлены за период с августа по декабрь 2019 года. Активность возрастает с каждым месяцем. При этом  в начале каждого месяца она падает, а к к концу возрастает. В середине каждого месяца также есть возрастание активности."
   ]
  },
  {
   "cell_type": "markdown",
   "metadata": {
    "id": "EdzycrU-nPsm"
   },
   "source": [
    "<div class=\"alert alert-success\">\n",
    "<b>Комментарий тимлида v.1</b>    \n",
    "    \n",
    "👍 В целом тут все верно, но, возможно, стоит немного улучшить визуализацию данных или ее подачу. Например, тут мы можем потренироваться в таком типе графиков https://towardsdatascience.com/gantt-charts-with-pythons-matplotlib-395b7af72d72\n",
    "</div>"
   ]
  },
  {
   "cell_type": "markdown",
   "metadata": {
    "id": "i0FIUi_HObG3"
   },
   "source": [
    "<div class=\"alert alert-info\"> \n",
    "<b>Комментарий студента</b> \n",
    "    \n",
    "Попробовал, не очень наглядно получилось.\n",
    "</div>"
   ]
  },
  {
   "cell_type": "markdown",
   "metadata": {
    "id": "EdzycrU-nPsm"
   },
   "source": [
    "<div class=\"alert alert-success\">\n",
    "<b>Комментарий тимлида v.2</b>    \n",
    "    \n",
    "👍 Да, получилось не очень :) Признаюсь, видимо я о чем-то другом думал в тот момент, когда писал комментарий выше. Бывает, извини :)\n",
    "</div>"
   ]
  },
  {
   "cell_type": "code",
   "execution_count": 27,
   "metadata": {
    "id": "DC9fuCNIcslI"
   },
   "outputs": [],
   "source": [
    "telecom_clients['first_month'] = telecom_clients['date_start'].astype('datetime64[M]')"
   ]
  },
  {
   "cell_type": "code",
   "execution_count": 28,
   "metadata": {
    "colab": {
     "base_uri": "https://localhost:8080/"
    },
    "executionInfo": {
     "elapsed": 28,
     "status": "ok",
     "timestamp": 1649914418040,
     "user": {
      "displayName": "Сергей Холоденин",
      "userId": "02339464120149742563"
     },
     "user_tz": -180
    },
    "id": "aZ_amnu5dHgQ",
    "outputId": "9cfee4c4-fac8-4b1d-88b9-a953544f12cb"
   },
   "outputs": [
    {
     "data": {
      "text/plain": [
       "first_month  tariff_plan\n",
       "2019-08-01   A               26\n",
       "             B               91\n",
       "             C              141\n",
       "2019-09-01   A               16\n",
       "             B               77\n",
       "             C              138\n",
       "2019-10-01   A               34\n",
       "             B               93\n",
       "             C              116\n",
       "Name: user_id, dtype: int64"
      ]
     },
     "execution_count": 28,
     "metadata": {},
     "output_type": "execute_result"
    }
   ],
   "source": [
    "telecom_clients.groupby(['first_month','tariff_plan'])['user_id'].count()"
   ]
  },
  {
   "cell_type": "code",
   "execution_count": 29,
   "metadata": {
    "colab": {
     "base_uri": "https://localhost:8080/",
     "height": 457
    },
    "executionInfo": {
     "elapsed": 1209,
     "status": "ok",
     "timestamp": 1649914419236,
     "user": {
      "displayName": "Сергей Холоденин",
      "userId": "02339464120149742563"
     },
     "user_tz": -180
    },
    "id": "bIn5Mhp8Q7QB",
    "outputId": "86dde234-6fa8-4148-a03b-eaf53dad8c92"
   },
   "outputs": [
    {
     "data": {
      "text/plain": [
       "(array([18109., 18116., 18123., 18130., 18140., 18147., 18154., 18161.,\n",
       "        18170.]),\n",
       " [Text(18109.0, 0, '2019-08-01'),\n",
       "  Text(18116.0, 0, '2019-08-08'),\n",
       "  Text(18123.0, 0, '2019-08-15'),\n",
       "  Text(18130.0, 0, '2019-08-22'),\n",
       "  Text(18140.0, 0, '2019-09-01'),\n",
       "  Text(18147.0, 0, '2019-09-08'),\n",
       "  Text(18154.0, 0, '2019-09-15'),\n",
       "  Text(18161.0, 0, '2019-09-22'),\n",
       "  Text(18170.0, 0, '2019-10-01')])"
      ]
     },
     "execution_count": 29,
     "metadata": {},
     "output_type": "execute_result"
    },
    {
     "data": {
      "image/png": "[encoded data removed]",
      "text/plain": [
       "<Figure size 418.875x360 with 1 Axes>"
      ]
     },
     "metadata": {
      "needs_background": "light"
     },
     "output_type": "display_data"
    }
   ],
   "source": [
    "sns.displot(data=telecom_clients, x=\"first_month\", hue=\"tariff_plan\", multiple=\"stack\")\n",
    "plt.title('Соотношение подключений к тарифам по месяцам')\n",
    "plt.xlabel('Месяцы')\n",
    "plt.ylabel('Количество подключений')\n",
    "plt.xticks(rotation=45)"
   ]
  },
  {
   "cell_type": "markdown",
   "metadata": {
    "id": "Ys4nDkkYXkjc"
   },
   "source": [
    "Из данных видно, что преимущественно идет набор по тарифу С, в последнем месяце количество подключений к тарифу А и В возросло."
   ]
  },
  {
   "cell_type": "markdown",
   "metadata": {
    "id": "vZX2-XCknPsn"
   },
   "source": [
    "<div class=\"alert alert-warning\">\n",
    "<b>Комментарий тимлида v.1</b> \n",
    "    \n",
    "📝 Тут эти результаты остались без интерпретации. Возможно, лучше визуализировать данные по клиентам по времени - сразу будет видна динамика набора / оттока клиентов по тарифам.\n",
    "</div>"
   ]
  },
  {
   "cell_type": "markdown",
   "metadata": {
    "id": "kmunX9cAZRa4"
   },
   "source": [
    "<div class=\"alert alert-info\"> \n",
    "<b>Комментарий студента</b> \n",
    "    \n",
    "Добавил интерпретацию.\n",
    "</div>"
   ]
  },
  {
   "cell_type": "markdown",
   "metadata": {
    "id": "EdzycrU-nPsm"
   },
   "source": [
    "<div class=\"alert alert-success\">\n",
    "<b>Комментарий тимлида v.2</b>    \n",
    "    \n",
    "👍 Спасибо, вышло интересно!\n",
    "</div>"
   ]
  },
  {
   "cell_type": "markdown",
   "metadata": {
    "id": "mpvnwV2gZKUD"
   },
   "source": []
  },
  {
   "cell_type": "markdown",
   "metadata": {
    "id": "ax16E0jwICXj"
   },
   "source": [
    "Есть сомнения в единицах измерения звонков. Тарифы все тарифицируются в минутах, поэтому данные нам нужны все в минутах. Посчитаем сколько минут приходится на каждого оператора в целом, заодно посмотрим на количество звонков и разрез разговора и с учетом ожидания на линии. В первую очередь нас интересуют входящие звонки, т.к. по ним происходит тарификация и оплата превышения."
   ]
  },
  {
   "cell_type": "code",
   "execution_count": 30,
   "metadata": {
    "colab": {
     "base_uri": "https://localhost:8080/",
     "height": 424
    },
    "executionInfo": {
     "elapsed": 38,
     "status": "ok",
     "timestamp": 1649914419237,
     "user": {
      "displayName": "Сергей Холоденин",
      "userId": "02339464120149742563"
     },
     "user_tz": -180
    },
    "id": "uCk626hLdLB6",
    "outputId": "f003a36c-ea2a-410f-8d54-083b97284d2d"
   },
   "outputs": [
    {
     "data": {
      "text/html": [
       "<div>\n",
       "<style scoped>\n",
       "    .dataframe tbody tr th:only-of-type {\n",
       "        vertical-align: middle;\n",
       "    }\n",
       "\n",
       "    .dataframe tbody tr th {\n",
       "        vertical-align: top;\n",
       "    }\n",
       "\n",
       "    .dataframe thead th {\n",
       "        text-align: right;\n",
       "    }\n",
       "</style>\n",
       "<table border=\"1\" class=\"dataframe\">\n",
       "  <thead>\n",
       "    <tr style=\"text-align: right;\">\n",
       "      <th></th>\n",
       "      <th>user_id</th>\n",
       "      <th>operator_id</th>\n",
       "      <th>calls_count</th>\n",
       "      <th>call_duration</th>\n",
       "      <th>total_call_duration</th>\n",
       "    </tr>\n",
       "  </thead>\n",
       "  <tbody>\n",
       "    <tr>\n",
       "      <th>0</th>\n",
       "      <td>166377</td>\n",
       "      <td>880020.0</td>\n",
       "      <td>38</td>\n",
       "      <td>1946</td>\n",
       "      <td>2172</td>\n",
       "    </tr>\n",
       "    <tr>\n",
       "      <th>1</th>\n",
       "      <td>166377</td>\n",
       "      <td>880022.0</td>\n",
       "      <td>189</td>\n",
       "      <td>14635</td>\n",
       "      <td>18301</td>\n",
       "    </tr>\n",
       "    <tr>\n",
       "      <th>2</th>\n",
       "      <td>166377</td>\n",
       "      <td>880026.0</td>\n",
       "      <td>2208</td>\n",
       "      <td>151739</td>\n",
       "      <td>173796</td>\n",
       "    </tr>\n",
       "    <tr>\n",
       "      <th>3</th>\n",
       "      <td>166377</td>\n",
       "      <td>880028.0</td>\n",
       "      <td>2497</td>\n",
       "      <td>141766</td>\n",
       "      <td>183879</td>\n",
       "    </tr>\n",
       "    <tr>\n",
       "      <th>4</th>\n",
       "      <td>166377</td>\n",
       "      <td>881278.0</td>\n",
       "      <td>20</td>\n",
       "      <td>465</td>\n",
       "      <td>543</td>\n",
       "    </tr>\n",
       "    <tr>\n",
       "      <th>...</th>\n",
       "      <td>...</td>\n",
       "      <td>...</td>\n",
       "      <td>...</td>\n",
       "      <td>...</td>\n",
       "      <td>...</td>\n",
       "    </tr>\n",
       "    <tr>\n",
       "      <th>877</th>\n",
       "      <td>168500</td>\n",
       "      <td>952196.0</td>\n",
       "      <td>2</td>\n",
       "      <td>6</td>\n",
       "      <td>42</td>\n",
       "    </tr>\n",
       "    <tr>\n",
       "      <th>878</th>\n",
       "      <td>168601</td>\n",
       "      <td>952914.0</td>\n",
       "      <td>580</td>\n",
       "      <td>23918</td>\n",
       "      <td>32671</td>\n",
       "    </tr>\n",
       "    <tr>\n",
       "      <th>879</th>\n",
       "      <td>168601</td>\n",
       "      <td>952916.0</td>\n",
       "      <td>7</td>\n",
       "      <td>346</td>\n",
       "      <td>521</td>\n",
       "    </tr>\n",
       "    <tr>\n",
       "      <th>880</th>\n",
       "      <td>168603</td>\n",
       "      <td>959118.0</td>\n",
       "      <td>14</td>\n",
       "      <td>905</td>\n",
       "      <td>1187</td>\n",
       "    </tr>\n",
       "    <tr>\n",
       "      <th>881</th>\n",
       "      <td>168606</td>\n",
       "      <td>957922.0</td>\n",
       "      <td>16</td>\n",
       "      <td>4415</td>\n",
       "      <td>4715</td>\n",
       "    </tr>\n",
       "  </tbody>\n",
       "</table>\n",
       "<p>882 rows × 5 columns</p>\n",
       "</div>"
      ],
      "text/plain": [
       "     user_id  operator_id  calls_count  call_duration  total_call_duration\n",
       "0     166377     880020.0           38           1946                 2172\n",
       "1     166377     880022.0          189          14635                18301\n",
       "2     166377     880026.0         2208         151739               173796\n",
       "3     166377     880028.0         2497         141766               183879\n",
       "4     166377     881278.0           20            465                  543\n",
       "..       ...          ...          ...            ...                  ...\n",
       "877   168500     952196.0            2              6                   42\n",
       "878   168601     952914.0          580          23918                32671\n",
       "879   168601     952916.0            7            346                  521\n",
       "880   168603     959118.0           14            905                 1187\n",
       "881   168606     957922.0           16           4415                 4715\n",
       "\n",
       "[882 rows x 5 columns]"
      ]
     },
     "execution_count": 30,
     "metadata": {},
     "output_type": "execute_result"
    }
   ],
   "source": [
    "count_sum_duration = telecom_dataset.query('direction == \"out\"').groupby(['user_id','operator_id']).agg({'calls_count':'sum', 'call_duration':'sum', 'total_call_duration':'sum'}).reset_index()\n",
    "count_sum_duration"
   ]
  },
  {
   "cell_type": "markdown",
   "metadata": {
    "id": "IpEY3K3BIxZL"
   },
   "source": [
    "Добавим столбец с количеством дней, которые работал оператор."
   ]
  },
  {
   "cell_type": "code",
   "execution_count": 31,
   "metadata": {
    "id": "jCW0m6zhfn9A"
   },
   "outputs": [],
   "source": [
    "coun_days_for_operator = telecom_dataset.groupby('operator_id').agg({'date':'nunique'}).reset_index()"
   ]
  },
  {
   "cell_type": "code",
   "execution_count": 32,
   "metadata": {
    "colab": {
     "base_uri": "https://localhost:8080/",
     "height": 424
    },
    "executionInfo": {
     "elapsed": 35,
     "status": "ok",
     "timestamp": 1649914419239,
     "user": {
      "displayName": "Сергей Холоденин",
      "userId": "02339464120149742563"
     },
     "user_tz": -180
    },
    "id": "ToitIgrhhp4j",
    "outputId": "9d531182-9b16-40d9-c005-1e9d173ee72f"
   },
   "outputs": [
    {
     "data": {
      "text/html": [
       "<div>\n",
       "<style scoped>\n",
       "    .dataframe tbody tr th:only-of-type {\n",
       "        vertical-align: middle;\n",
       "    }\n",
       "\n",
       "    .dataframe tbody tr th {\n",
       "        vertical-align: top;\n",
       "    }\n",
       "\n",
       "    .dataframe thead th {\n",
       "        text-align: right;\n",
       "    }\n",
       "</style>\n",
       "<table border=\"1\" class=\"dataframe\">\n",
       "  <thead>\n",
       "    <tr style=\"text-align: right;\">\n",
       "      <th></th>\n",
       "      <th>user_id</th>\n",
       "      <th>operator_id</th>\n",
       "      <th>calls_count</th>\n",
       "      <th>call_duration</th>\n",
       "      <th>total_call_duration</th>\n",
       "      <th>date</th>\n",
       "    </tr>\n",
       "  </thead>\n",
       "  <tbody>\n",
       "    <tr>\n",
       "      <th>0</th>\n",
       "      <td>166377</td>\n",
       "      <td>880020.0</td>\n",
       "      <td>38</td>\n",
       "      <td>1946</td>\n",
       "      <td>2172</td>\n",
       "      <td>14</td>\n",
       "    </tr>\n",
       "    <tr>\n",
       "      <th>1</th>\n",
       "      <td>166377</td>\n",
       "      <td>880022.0</td>\n",
       "      <td>189</td>\n",
       "      <td>14635</td>\n",
       "      <td>18301</td>\n",
       "      <td>42</td>\n",
       "    </tr>\n",
       "    <tr>\n",
       "      <th>2</th>\n",
       "      <td>166377</td>\n",
       "      <td>880026.0</td>\n",
       "      <td>2208</td>\n",
       "      <td>151739</td>\n",
       "      <td>173796</td>\n",
       "      <td>77</td>\n",
       "    </tr>\n",
       "    <tr>\n",
       "      <th>3</th>\n",
       "      <td>166377</td>\n",
       "      <td>880028.0</td>\n",
       "      <td>2497</td>\n",
       "      <td>141766</td>\n",
       "      <td>183879</td>\n",
       "      <td>78</td>\n",
       "    </tr>\n",
       "    <tr>\n",
       "      <th>4</th>\n",
       "      <td>166377</td>\n",
       "      <td>881278.0</td>\n",
       "      <td>20</td>\n",
       "      <td>465</td>\n",
       "      <td>543</td>\n",
       "      <td>5</td>\n",
       "    </tr>\n",
       "    <tr>\n",
       "      <th>...</th>\n",
       "      <td>...</td>\n",
       "      <td>...</td>\n",
       "      <td>...</td>\n",
       "      <td>...</td>\n",
       "      <td>...</td>\n",
       "      <td>...</td>\n",
       "    </tr>\n",
       "    <tr>\n",
       "      <th>877</th>\n",
       "      <td>168500</td>\n",
       "      <td>952196.0</td>\n",
       "      <td>2</td>\n",
       "      <td>6</td>\n",
       "      <td>42</td>\n",
       "      <td>3</td>\n",
       "    </tr>\n",
       "    <tr>\n",
       "      <th>878</th>\n",
       "      <td>168601</td>\n",
       "      <td>952914.0</td>\n",
       "      <td>580</td>\n",
       "      <td>23918</td>\n",
       "      <td>32671</td>\n",
       "      <td>19</td>\n",
       "    </tr>\n",
       "    <tr>\n",
       "      <th>879</th>\n",
       "      <td>168601</td>\n",
       "      <td>952916.0</td>\n",
       "      <td>7</td>\n",
       "      <td>346</td>\n",
       "      <td>521</td>\n",
       "      <td>4</td>\n",
       "    </tr>\n",
       "    <tr>\n",
       "      <th>880</th>\n",
       "      <td>168603</td>\n",
       "      <td>959118.0</td>\n",
       "      <td>14</td>\n",
       "      <td>905</td>\n",
       "      <td>1187</td>\n",
       "      <td>4</td>\n",
       "    </tr>\n",
       "    <tr>\n",
       "      <th>881</th>\n",
       "      <td>168606</td>\n",
       "      <td>957922.0</td>\n",
       "      <td>16</td>\n",
       "      <td>4415</td>\n",
       "      <td>4715</td>\n",
       "      <td>5</td>\n",
       "    </tr>\n",
       "  </tbody>\n",
       "</table>\n",
       "<p>882 rows × 6 columns</p>\n",
       "</div>"
      ],
      "text/plain": [
       "     user_id  operator_id  calls_count  call_duration  total_call_duration  \\\n",
       "0     166377     880020.0           38           1946                 2172   \n",
       "1     166377     880022.0          189          14635                18301   \n",
       "2     166377     880026.0         2208         151739               173796   \n",
       "3     166377     880028.0         2497         141766               183879   \n",
       "4     166377     881278.0           20            465                  543   \n",
       "..       ...          ...          ...            ...                  ...   \n",
       "877   168500     952196.0            2              6                   42   \n",
       "878   168601     952914.0          580          23918                32671   \n",
       "879   168601     952916.0            7            346                  521   \n",
       "880   168603     959118.0           14            905                 1187   \n",
       "881   168606     957922.0           16           4415                 4715   \n",
       "\n",
       "     date  \n",
       "0      14  \n",
       "1      42  \n",
       "2      77  \n",
       "3      78  \n",
       "4       5  \n",
       "..    ...  \n",
       "877     3  \n",
       "878    19  \n",
       "879     4  \n",
       "880     4  \n",
       "881     5  \n",
       "\n",
       "[882 rows x 6 columns]"
      ]
     },
     "execution_count": 32,
     "metadata": {},
     "output_type": "execute_result"
    }
   ],
   "source": [
    "count_sum_duration_with_days = count_sum_duration.merge(coun_days_for_operator)\n",
    "count_sum_duration_with_days"
   ]
  },
  {
   "cell_type": "markdown",
   "metadata": {
    "id": "SfIDbji7JEdn"
   },
   "source": [
    "Посмотрим на распределение по общему количеству времени на каждого оператора."
   ]
  },
  {
   "cell_type": "code",
   "execution_count": 33,
   "metadata": {
    "colab": {
     "base_uri": "https://localhost:8080/",
     "height": 706
    },
    "executionInfo": {
     "elapsed": 476,
     "status": "ok",
     "timestamp": 1649914419682,
     "user": {
      "displayName": "Сергей Холоденин",
      "userId": "02339464120149742563"
     },
     "user_tz": -180
    },
    "id": "Z2at66Jcic8o",
    "outputId": "74e0bea2-0bb0-4140-c651-b12f562edac7"
   },
   "outputs": [
    {
     "data": {
      "text/plain": [
       "count    8.820000e+02\n",
       "mean     5.005623e+04\n",
       "std      2.580338e+05\n",
       "min      0.000000e+00\n",
       "25%      5.060000e+02\n",
       "50%      7.289000e+03\n",
       "75%      4.595925e+04\n",
       "max      5.664998e+06\n",
       "Name: total_call_duration, dtype: float64"
      ]
     },
     "execution_count": 33,
     "metadata": {},
     "output_type": "execute_result"
    },
    {
     "data": {
      "image/png": "[encoded data removed]",
      "text/plain": [
       "<Figure size 936x648 with 1 Axes>"
      ]
     },
     "metadata": {
      "needs_background": "light"
     },
     "output_type": "display_data"
    }
   ],
   "source": [
    "plt.figure(figsize=(13,9))\n",
    "plt.hist(count_sum_duration_with_days['total_call_duration'])\n",
    "plt.semilogy()\n",
    "count_sum_duration_with_days['total_call_duration'].describe()"
   ]
  },
  {
   "cell_type": "markdown",
   "metadata": {
    "id": "g_jq-X5TnPsr"
   },
   "source": [
    "<div class=\"alert alert-warning\">\n",
    "<b>Комментарий тимлида v.1</b> \n",
    "    \n",
    "📝 Эта гистограмма плохо читается - помимо оформления, возможно есть смысл установить лог шкалу для оси Y.\n",
    "</div>"
   ]
  },
  {
   "cell_type": "markdown",
   "metadata": {
    "id": "Nl2gPA_MamcB"
   },
   "source": [
    "<div class=\"alert alert-info\"> \n",
    "<b>Комментарий студента</b> \n",
    "    \n",
    "Добавил лог по оси y.\n",
    "</div>"
   ]
  },
  {
   "cell_type": "markdown",
   "metadata": {
    "id": "EdzycrU-nPsm"
   },
   "source": [
    "<div class=\"alert alert-success\">\n",
    "<b>Комментарий тимлида v.2</b>    \n",
    "    \n",
    "👍 Спасибо, сразу видно аномально высокие значения.\n",
    "</div>"
   ]
  },
  {
   "cell_type": "markdown",
   "metadata": {
    "id": "nRVdep03JlBY"
   },
   "source": [
    "Внушительные цифры, проверим также на выбросы, т.к. огромное стандартное отклонение."
   ]
  },
  {
   "cell_type": "code",
   "execution_count": 34,
   "metadata": {
    "colab": {
     "base_uri": "https://localhost:8080/",
     "height": 294
    },
    "executionInfo": {
     "elapsed": 40,
     "status": "ok",
     "timestamp": 1649914419683,
     "user": {
      "displayName": "Сергей Холоденин",
      "userId": "02339464120149742563"
     },
     "user_tz": -180
    },
    "id": "746eO0ZijrLw",
    "outputId": "1fec4063-9bad-41da-cf5e-8ad7c8654e56"
   },
   "outputs": [
    {
     "data": {
      "text/plain": [
       "<AxesSubplot:>"
      ]
     },
     "execution_count": 34,
     "metadata": {},
     "output_type": "execute_result"
    },
    {
     "data": {
      "image/png": "[encoded data removed]",
      "text/plain": [
       "<Figure size 432x288 with 1 Axes>"
      ]
     },
     "metadata": {
      "needs_background": "light"
     },
     "output_type": "display_data"
    }
   ],
   "source": [
    "count_sum_duration_with_days.boxplot(['total_call_duration'])"
   ]
  },
  {
   "cell_type": "markdown",
   "metadata": {
    "id": "KAkJMYJfKOq_"
   },
   "source": [
    "Есть подозрение, что звонки исчисляются в секундах. Проверим сколько каждый оператор общается времени в день и среднюю продолжительность звонка."
   ]
  },
  {
   "cell_type": "code",
   "execution_count": 35,
   "metadata": {
    "colab": {
     "base_uri": "https://localhost:8080/",
     "height": 424
    },
    "executionInfo": {
     "elapsed": 21,
     "status": "ok",
     "timestamp": 1649914419684,
     "user": {
      "displayName": "Сергей Холоденин",
      "userId": "02339464120149742563"
     },
     "user_tz": -180
    },
    "id": "uJQjo6jakFzG",
    "outputId": "35cfc59f-1d95-42e2-e8ed-72e362e888db"
   },
   "outputs": [
    {
     "data": {
      "text/html": [
       "<div>\n",
       "<style scoped>\n",
       "    .dataframe tbody tr th:only-of-type {\n",
       "        vertical-align: middle;\n",
       "    }\n",
       "\n",
       "    .dataframe tbody tr th {\n",
       "        vertical-align: top;\n",
       "    }\n",
       "\n",
       "    .dataframe thead th {\n",
       "        text-align: right;\n",
       "    }\n",
       "</style>\n",
       "<table border=\"1\" class=\"dataframe\">\n",
       "  <thead>\n",
       "    <tr style=\"text-align: right;\">\n",
       "      <th></th>\n",
       "      <th>user_id</th>\n",
       "      <th>operator_id</th>\n",
       "      <th>calls_count</th>\n",
       "      <th>call_duration</th>\n",
       "      <th>total_call_duration</th>\n",
       "      <th>date</th>\n",
       "      <th>time_day</th>\n",
       "      <th>time_call</th>\n",
       "    </tr>\n",
       "  </thead>\n",
       "  <tbody>\n",
       "    <tr>\n",
       "      <th>0</th>\n",
       "      <td>166377</td>\n",
       "      <td>880020.0</td>\n",
       "      <td>38</td>\n",
       "      <td>1946</td>\n",
       "      <td>2172</td>\n",
       "      <td>14</td>\n",
       "      <td>155.142857</td>\n",
       "      <td>57.157895</td>\n",
       "    </tr>\n",
       "    <tr>\n",
       "      <th>1</th>\n",
       "      <td>166377</td>\n",
       "      <td>880022.0</td>\n",
       "      <td>189</td>\n",
       "      <td>14635</td>\n",
       "      <td>18301</td>\n",
       "      <td>42</td>\n",
       "      <td>435.738095</td>\n",
       "      <td>96.830688</td>\n",
       "    </tr>\n",
       "    <tr>\n",
       "      <th>2</th>\n",
       "      <td>166377</td>\n",
       "      <td>880026.0</td>\n",
       "      <td>2208</td>\n",
       "      <td>151739</td>\n",
       "      <td>173796</td>\n",
       "      <td>77</td>\n",
       "      <td>2257.090909</td>\n",
       "      <td>78.711957</td>\n",
       "    </tr>\n",
       "    <tr>\n",
       "      <th>3</th>\n",
       "      <td>166377</td>\n",
       "      <td>880028.0</td>\n",
       "      <td>2497</td>\n",
       "      <td>141766</td>\n",
       "      <td>183879</td>\n",
       "      <td>78</td>\n",
       "      <td>2357.423077</td>\n",
       "      <td>73.639968</td>\n",
       "    </tr>\n",
       "    <tr>\n",
       "      <th>4</th>\n",
       "      <td>166377</td>\n",
       "      <td>881278.0</td>\n",
       "      <td>20</td>\n",
       "      <td>465</td>\n",
       "      <td>543</td>\n",
       "      <td>5</td>\n",
       "      <td>108.600000</td>\n",
       "      <td>27.150000</td>\n",
       "    </tr>\n",
       "    <tr>\n",
       "      <th>...</th>\n",
       "      <td>...</td>\n",
       "      <td>...</td>\n",
       "      <td>...</td>\n",
       "      <td>...</td>\n",
       "      <td>...</td>\n",
       "      <td>...</td>\n",
       "      <td>...</td>\n",
       "      <td>...</td>\n",
       "    </tr>\n",
       "    <tr>\n",
       "      <th>877</th>\n",
       "      <td>168500</td>\n",
       "      <td>952196.0</td>\n",
       "      <td>2</td>\n",
       "      <td>6</td>\n",
       "      <td>42</td>\n",
       "      <td>3</td>\n",
       "      <td>14.000000</td>\n",
       "      <td>21.000000</td>\n",
       "    </tr>\n",
       "    <tr>\n",
       "      <th>878</th>\n",
       "      <td>168601</td>\n",
       "      <td>952914.0</td>\n",
       "      <td>580</td>\n",
       "      <td>23918</td>\n",
       "      <td>32671</td>\n",
       "      <td>19</td>\n",
       "      <td>1719.526316</td>\n",
       "      <td>56.329310</td>\n",
       "    </tr>\n",
       "    <tr>\n",
       "      <th>879</th>\n",
       "      <td>168601</td>\n",
       "      <td>952916.0</td>\n",
       "      <td>7</td>\n",
       "      <td>346</td>\n",
       "      <td>521</td>\n",
       "      <td>4</td>\n",
       "      <td>130.250000</td>\n",
       "      <td>74.428571</td>\n",
       "    </tr>\n",
       "    <tr>\n",
       "      <th>880</th>\n",
       "      <td>168603</td>\n",
       "      <td>959118.0</td>\n",
       "      <td>14</td>\n",
       "      <td>905</td>\n",
       "      <td>1187</td>\n",
       "      <td>4</td>\n",
       "      <td>296.750000</td>\n",
       "      <td>84.785714</td>\n",
       "    </tr>\n",
       "    <tr>\n",
       "      <th>881</th>\n",
       "      <td>168606</td>\n",
       "      <td>957922.0</td>\n",
       "      <td>16</td>\n",
       "      <td>4415</td>\n",
       "      <td>4715</td>\n",
       "      <td>5</td>\n",
       "      <td>943.000000</td>\n",
       "      <td>294.687500</td>\n",
       "    </tr>\n",
       "  </tbody>\n",
       "</table>\n",
       "<p>882 rows × 8 columns</p>\n",
       "</div>"
      ],
      "text/plain": [
       "     user_id  operator_id  calls_count  call_duration  total_call_duration  \\\n",
       "0     166377     880020.0           38           1946                 2172   \n",
       "1     166377     880022.0          189          14635                18301   \n",
       "2     166377     880026.0         2208         151739               173796   \n",
       "3     166377     880028.0         2497         141766               183879   \n",
       "4     166377     881278.0           20            465                  543   \n",
       "..       ...          ...          ...            ...                  ...   \n",
       "877   168500     952196.0            2              6                   42   \n",
       "878   168601     952914.0          580          23918                32671   \n",
       "879   168601     952916.0            7            346                  521   \n",
       "880   168603     959118.0           14            905                 1187   \n",
       "881   168606     957922.0           16           4415                 4715   \n",
       "\n",
       "     date     time_day   time_call  \n",
       "0      14   155.142857   57.157895  \n",
       "1      42   435.738095   96.830688  \n",
       "2      77  2257.090909   78.711957  \n",
       "3      78  2357.423077   73.639968  \n",
       "4       5   108.600000   27.150000  \n",
       "..    ...          ...         ...  \n",
       "877     3    14.000000   21.000000  \n",
       "878    19  1719.526316   56.329310  \n",
       "879     4   130.250000   74.428571  \n",
       "880     4   296.750000   84.785714  \n",
       "881     5   943.000000  294.687500  \n",
       "\n",
       "[882 rows x 8 columns]"
      ]
     },
     "execution_count": 35,
     "metadata": {},
     "output_type": "execute_result"
    }
   ],
   "source": [
    "count_sum_duration_with_days['time_day'] = count_sum_duration_with_days['total_call_duration']/count_sum_duration_with_days['date']\n",
    "count_sum_duration_with_days['time_call'] = count_sum_duration_with_days['total_call_duration']/count_sum_duration_with_days['calls_count']\n",
    "count_sum_duration_with_days"
   ]
  },
  {
   "cell_type": "markdown",
   "metadata": {
    "id": "DhiIZwE1K79y"
   },
   "source": [
    "Из данных очевидно, что исчисление производится в секундах, скорректируем данные в нужной размерности - минутах."
   ]
  },
  {
   "cell_type": "code",
   "execution_count": 36,
   "metadata": {
    "colab": {
     "base_uri": "https://localhost:8080/",
     "height": 424
    },
    "executionInfo": {
     "elapsed": 347,
     "status": "ok",
     "timestamp": 1649914420013,
     "user": {
      "displayName": "Сергей Холоденин",
      "userId": "02339464120149742563"
     },
     "user_tz": -180
    },
    "id": "PXmWA4Mhm3QB",
    "outputId": "8f3a333a-e8dd-43d2-86c3-bda43c12629a"
   },
   "outputs": [
    {
     "data": {
      "text/html": [
       "<div>\n",
       "<style scoped>\n",
       "    .dataframe tbody tr th:only-of-type {\n",
       "        vertical-align: middle;\n",
       "    }\n",
       "\n",
       "    .dataframe tbody tr th {\n",
       "        vertical-align: top;\n",
       "    }\n",
       "\n",
       "    .dataframe thead th {\n",
       "        text-align: right;\n",
       "    }\n",
       "</style>\n",
       "<table border=\"1\" class=\"dataframe\">\n",
       "  <thead>\n",
       "    <tr style=\"text-align: right;\">\n",
       "      <th></th>\n",
       "      <th>user_id</th>\n",
       "      <th>operator_id</th>\n",
       "      <th>calls_count</th>\n",
       "      <th>call_duration</th>\n",
       "      <th>total_call_duration</th>\n",
       "      <th>date</th>\n",
       "      <th>time_day</th>\n",
       "      <th>time_call</th>\n",
       "    </tr>\n",
       "  </thead>\n",
       "  <tbody>\n",
       "    <tr>\n",
       "      <th>0</th>\n",
       "      <td>166377</td>\n",
       "      <td>880020.0</td>\n",
       "      <td>38</td>\n",
       "      <td>32.433333</td>\n",
       "      <td>36.200000</td>\n",
       "      <td>14</td>\n",
       "      <td>2.585714</td>\n",
       "      <td>0.952632</td>\n",
       "    </tr>\n",
       "    <tr>\n",
       "      <th>1</th>\n",
       "      <td>166377</td>\n",
       "      <td>880022.0</td>\n",
       "      <td>189</td>\n",
       "      <td>243.916667</td>\n",
       "      <td>305.016667</td>\n",
       "      <td>42</td>\n",
       "      <td>7.262302</td>\n",
       "      <td>1.613845</td>\n",
       "    </tr>\n",
       "    <tr>\n",
       "      <th>2</th>\n",
       "      <td>166377</td>\n",
       "      <td>880026.0</td>\n",
       "      <td>2208</td>\n",
       "      <td>2528.983333</td>\n",
       "      <td>2896.600000</td>\n",
       "      <td>77</td>\n",
       "      <td>37.618182</td>\n",
       "      <td>1.311866</td>\n",
       "    </tr>\n",
       "    <tr>\n",
       "      <th>3</th>\n",
       "      <td>166377</td>\n",
       "      <td>880028.0</td>\n",
       "      <td>2497</td>\n",
       "      <td>2362.766667</td>\n",
       "      <td>3064.650000</td>\n",
       "      <td>78</td>\n",
       "      <td>39.290385</td>\n",
       "      <td>1.227333</td>\n",
       "    </tr>\n",
       "    <tr>\n",
       "      <th>4</th>\n",
       "      <td>166377</td>\n",
       "      <td>881278.0</td>\n",
       "      <td>20</td>\n",
       "      <td>7.750000</td>\n",
       "      <td>9.050000</td>\n",
       "      <td>5</td>\n",
       "      <td>1.810000</td>\n",
       "      <td>0.452500</td>\n",
       "    </tr>\n",
       "    <tr>\n",
       "      <th>...</th>\n",
       "      <td>...</td>\n",
       "      <td>...</td>\n",
       "      <td>...</td>\n",
       "      <td>...</td>\n",
       "      <td>...</td>\n",
       "      <td>...</td>\n",
       "      <td>...</td>\n",
       "      <td>...</td>\n",
       "    </tr>\n",
       "    <tr>\n",
       "      <th>877</th>\n",
       "      <td>168500</td>\n",
       "      <td>952196.0</td>\n",
       "      <td>2</td>\n",
       "      <td>0.100000</td>\n",
       "      <td>0.700000</td>\n",
       "      <td>3</td>\n",
       "      <td>0.233333</td>\n",
       "      <td>0.350000</td>\n",
       "    </tr>\n",
       "    <tr>\n",
       "      <th>878</th>\n",
       "      <td>168601</td>\n",
       "      <td>952914.0</td>\n",
       "      <td>580</td>\n",
       "      <td>398.633333</td>\n",
       "      <td>544.516667</td>\n",
       "      <td>19</td>\n",
       "      <td>28.658772</td>\n",
       "      <td>0.938822</td>\n",
       "    </tr>\n",
       "    <tr>\n",
       "      <th>879</th>\n",
       "      <td>168601</td>\n",
       "      <td>952916.0</td>\n",
       "      <td>7</td>\n",
       "      <td>5.766667</td>\n",
       "      <td>8.683333</td>\n",
       "      <td>4</td>\n",
       "      <td>2.170833</td>\n",
       "      <td>1.240476</td>\n",
       "    </tr>\n",
       "    <tr>\n",
       "      <th>880</th>\n",
       "      <td>168603</td>\n",
       "      <td>959118.0</td>\n",
       "      <td>14</td>\n",
       "      <td>15.083333</td>\n",
       "      <td>19.783333</td>\n",
       "      <td>4</td>\n",
       "      <td>4.945833</td>\n",
       "      <td>1.413095</td>\n",
       "    </tr>\n",
       "    <tr>\n",
       "      <th>881</th>\n",
       "      <td>168606</td>\n",
       "      <td>957922.0</td>\n",
       "      <td>16</td>\n",
       "      <td>73.583333</td>\n",
       "      <td>78.583333</td>\n",
       "      <td>5</td>\n",
       "      <td>15.716667</td>\n",
       "      <td>4.911458</td>\n",
       "    </tr>\n",
       "  </tbody>\n",
       "</table>\n",
       "<p>882 rows × 8 columns</p>\n",
       "</div>"
      ],
      "text/plain": [
       "     user_id  operator_id  calls_count  call_duration  total_call_duration  \\\n",
       "0     166377     880020.0           38      32.433333            36.200000   \n",
       "1     166377     880022.0          189     243.916667           305.016667   \n",
       "2     166377     880026.0         2208    2528.983333          2896.600000   \n",
       "3     166377     880028.0         2497    2362.766667          3064.650000   \n",
       "4     166377     881278.0           20       7.750000             9.050000   \n",
       "..       ...          ...          ...            ...                  ...   \n",
       "877   168500     952196.0            2       0.100000             0.700000   \n",
       "878   168601     952914.0          580     398.633333           544.516667   \n",
       "879   168601     952916.0            7       5.766667             8.683333   \n",
       "880   168603     959118.0           14      15.083333            19.783333   \n",
       "881   168606     957922.0           16      73.583333            78.583333   \n",
       "\n",
       "     date   time_day  time_call  \n",
       "0      14   2.585714   0.952632  \n",
       "1      42   7.262302   1.613845  \n",
       "2      77  37.618182   1.311866  \n",
       "3      78  39.290385   1.227333  \n",
       "4       5   1.810000   0.452500  \n",
       "..    ...        ...        ...  \n",
       "877     3   0.233333   0.350000  \n",
       "878    19  28.658772   0.938822  \n",
       "879     4   2.170833   1.240476  \n",
       "880     4   4.945833   1.413095  \n",
       "881     5  15.716667   4.911458  \n",
       "\n",
       "[882 rows x 8 columns]"
      ]
     },
     "execution_count": 36,
     "metadata": {},
     "output_type": "execute_result"
    }
   ],
   "source": [
    "count_sum_duration_with_days[['call_duration','total_call_duration','time_day','time_call']] = count_sum_duration_with_days[['call_duration','total_call_duration','time_day','time_call']]/60\n",
    "count_sum_duration_with_days"
   ]
  },
  {
   "cell_type": "markdown",
   "metadata": {
    "id": "SCcsyG1ZLKmk"
   },
   "source": [
    "Т.к. тарификация идет в минутах, округлим вверх полученные данные."
   ]
  },
  {
   "cell_type": "code",
   "execution_count": 37,
   "metadata": {
    "id": "wRZBixw9okYh"
   },
   "outputs": [],
   "source": [
    "for column in count_sum_duration_with_days[['call_duration','total_call_duration','time_day','time_call']]:\n",
    "  count_sum_duration_with_days[column] = list(map(lambda x: math.ceil(x), count_sum_duration_with_days[column]))"
   ]
  },
  {
   "cell_type": "markdown",
   "metadata": {
    "id": "cGeFSQt3nPsv"
   },
   "source": [
    "<div class=\"alert alert-warning\">\n",
    "<b>Комментарий тимлида v.1</b> \n",
    "    \n",
    "📝 По условию Телекома мы должны округлять данные вверх за месяц работы оператора. Поэтому тут это действие преждевременно.\n",
    "</div>"
   ]
  },
  {
   "cell_type": "code",
   "execution_count": 38,
   "metadata": {
    "colab": {
     "base_uri": "https://localhost:8080/",
     "height": 424
    },
    "executionInfo": {
     "elapsed": 36,
     "status": "ok",
     "timestamp": 1649914420015,
     "user": {
      "displayName": "Сергей Холоденин",
      "userId": "02339464120149742563"
     },
     "user_tz": -180
    },
    "id": "nYLj51LyrN5i",
    "outputId": "5f9b24ec-695e-4a82-f557-4cb7644e78b5"
   },
   "outputs": [
    {
     "data": {
      "text/html": [
       "<div>\n",
       "<style scoped>\n",
       "    .dataframe tbody tr th:only-of-type {\n",
       "        vertical-align: middle;\n",
       "    }\n",
       "\n",
       "    .dataframe tbody tr th {\n",
       "        vertical-align: top;\n",
       "    }\n",
       "\n",
       "    .dataframe thead th {\n",
       "        text-align: right;\n",
       "    }\n",
       "</style>\n",
       "<table border=\"1\" class=\"dataframe\">\n",
       "  <thead>\n",
       "    <tr style=\"text-align: right;\">\n",
       "      <th></th>\n",
       "      <th>user_id</th>\n",
       "      <th>operator_id</th>\n",
       "      <th>calls_count</th>\n",
       "      <th>call_duration</th>\n",
       "      <th>total_call_duration</th>\n",
       "      <th>date</th>\n",
       "      <th>time_day</th>\n",
       "      <th>time_call</th>\n",
       "    </tr>\n",
       "  </thead>\n",
       "  <tbody>\n",
       "    <tr>\n",
       "      <th>0</th>\n",
       "      <td>166377</td>\n",
       "      <td>880020.0</td>\n",
       "      <td>38</td>\n",
       "      <td>33</td>\n",
       "      <td>37</td>\n",
       "      <td>14</td>\n",
       "      <td>3</td>\n",
       "      <td>1</td>\n",
       "    </tr>\n",
       "    <tr>\n",
       "      <th>1</th>\n",
       "      <td>166377</td>\n",
       "      <td>880022.0</td>\n",
       "      <td>189</td>\n",
       "      <td>244</td>\n",
       "      <td>306</td>\n",
       "      <td>42</td>\n",
       "      <td>8</td>\n",
       "      <td>2</td>\n",
       "    </tr>\n",
       "    <tr>\n",
       "      <th>2</th>\n",
       "      <td>166377</td>\n",
       "      <td>880026.0</td>\n",
       "      <td>2208</td>\n",
       "      <td>2529</td>\n",
       "      <td>2897</td>\n",
       "      <td>77</td>\n",
       "      <td>38</td>\n",
       "      <td>2</td>\n",
       "    </tr>\n",
       "    <tr>\n",
       "      <th>3</th>\n",
       "      <td>166377</td>\n",
       "      <td>880028.0</td>\n",
       "      <td>2497</td>\n",
       "      <td>2363</td>\n",
       "      <td>3065</td>\n",
       "      <td>78</td>\n",
       "      <td>40</td>\n",
       "      <td>2</td>\n",
       "    </tr>\n",
       "    <tr>\n",
       "      <th>4</th>\n",
       "      <td>166377</td>\n",
       "      <td>881278.0</td>\n",
       "      <td>20</td>\n",
       "      <td>8</td>\n",
       "      <td>10</td>\n",
       "      <td>5</td>\n",
       "      <td>2</td>\n",
       "      <td>1</td>\n",
       "    </tr>\n",
       "    <tr>\n",
       "      <th>...</th>\n",
       "      <td>...</td>\n",
       "      <td>...</td>\n",
       "      <td>...</td>\n",
       "      <td>...</td>\n",
       "      <td>...</td>\n",
       "      <td>...</td>\n",
       "      <td>...</td>\n",
       "      <td>...</td>\n",
       "    </tr>\n",
       "    <tr>\n",
       "      <th>877</th>\n",
       "      <td>168500</td>\n",
       "      <td>952196.0</td>\n",
       "      <td>2</td>\n",
       "      <td>1</td>\n",
       "      <td>1</td>\n",
       "      <td>3</td>\n",
       "      <td>1</td>\n",
       "      <td>1</td>\n",
       "    </tr>\n",
       "    <tr>\n",
       "      <th>878</th>\n",
       "      <td>168601</td>\n",
       "      <td>952914.0</td>\n",
       "      <td>580</td>\n",
       "      <td>399</td>\n",
       "      <td>545</td>\n",
       "      <td>19</td>\n",
       "      <td>29</td>\n",
       "      <td>1</td>\n",
       "    </tr>\n",
       "    <tr>\n",
       "      <th>879</th>\n",
       "      <td>168601</td>\n",
       "      <td>952916.0</td>\n",
       "      <td>7</td>\n",
       "      <td>6</td>\n",
       "      <td>9</td>\n",
       "      <td>4</td>\n",
       "      <td>3</td>\n",
       "      <td>2</td>\n",
       "    </tr>\n",
       "    <tr>\n",
       "      <th>880</th>\n",
       "      <td>168603</td>\n",
       "      <td>959118.0</td>\n",
       "      <td>14</td>\n",
       "      <td>16</td>\n",
       "      <td>20</td>\n",
       "      <td>4</td>\n",
       "      <td>5</td>\n",
       "      <td>2</td>\n",
       "    </tr>\n",
       "    <tr>\n",
       "      <th>881</th>\n",
       "      <td>168606</td>\n",
       "      <td>957922.0</td>\n",
       "      <td>16</td>\n",
       "      <td>74</td>\n",
       "      <td>79</td>\n",
       "      <td>5</td>\n",
       "      <td>16</td>\n",
       "      <td>5</td>\n",
       "    </tr>\n",
       "  </tbody>\n",
       "</table>\n",
       "<p>882 rows × 8 columns</p>\n",
       "</div>"
      ],
      "text/plain": [
       "     user_id  operator_id  calls_count  call_duration  total_call_duration  \\\n",
       "0     166377     880020.0           38             33                   37   \n",
       "1     166377     880022.0          189            244                  306   \n",
       "2     166377     880026.0         2208           2529                 2897   \n",
       "3     166377     880028.0         2497           2363                 3065   \n",
       "4     166377     881278.0           20              8                   10   \n",
       "..       ...          ...          ...            ...                  ...   \n",
       "877   168500     952196.0            2              1                    1   \n",
       "878   168601     952914.0          580            399                  545   \n",
       "879   168601     952916.0            7              6                    9   \n",
       "880   168603     959118.0           14             16                   20   \n",
       "881   168606     957922.0           16             74                   79   \n",
       "\n",
       "     date  time_day  time_call  \n",
       "0      14         3          1  \n",
       "1      42         8          2  \n",
       "2      77        38          2  \n",
       "3      78        40          2  \n",
       "4       5         2          1  \n",
       "..    ...       ...        ...  \n",
       "877     3         1          1  \n",
       "878    19        29          1  \n",
       "879     4         3          2  \n",
       "880     4         5          2  \n",
       "881     5        16          5  \n",
       "\n",
       "[882 rows x 8 columns]"
      ]
     },
     "execution_count": 38,
     "metadata": {},
     "output_type": "execute_result"
    }
   ],
   "source": [
    "count_sum_duration_with_days"
   ]
  },
  {
   "cell_type": "markdown",
   "metadata": {
    "id": "vkpXOM7DLba0"
   },
   "source": [
    "Проверим распределения по времени в день и средней продолжительности."
   ]
  },
  {
   "cell_type": "code",
   "execution_count": 39,
   "metadata": {
    "colab": {
     "base_uri": "https://localhost:8080/",
     "height": 284
    },
    "executionInfo": {
     "elapsed": 35,
     "status": "ok",
     "timestamp": 1649914420016,
     "user": {
      "displayName": "Сергей Холоденин",
      "userId": "02339464120149742563"
     },
     "user_tz": -180
    },
    "id": "6NzUqHVxr6EJ",
    "outputId": "acb6301a-cca0-43d6-99be-569f68f035cf"
   },
   "outputs": [
    {
     "data": {
      "text/plain": [
       "<AxesSubplot:>"
      ]
     },
     "execution_count": 39,
     "metadata": {},
     "output_type": "execute_result"
    },
    {
     "data": {
      "image/png": "[encoded data removed]",
      "text/plain": [
       "<Figure size 432x288 with 1 Axes>"
      ]
     },
     "metadata": {
      "needs_background": "light"
     },
     "output_type": "display_data"
    }
   ],
   "source": [
    "count_sum_duration_with_days['time_call'].hist()"
   ]
  },
  {
   "cell_type": "code",
   "execution_count": 40,
   "metadata": {
    "colab": {
     "base_uri": "https://localhost:8080/",
     "height": 282
    },
    "executionInfo": {
     "elapsed": 342,
     "status": "ok",
     "timestamp": 1649914420335,
     "user": {
      "displayName": "Сергей Холоденин",
      "userId": "02339464120149742563"
     },
     "user_tz": -180
    },
    "id": "Z12zchdXvnAn",
    "outputId": "75db3a2b-5345-474c-962a-d87edd2b910d"
   },
   "outputs": [
    {
     "data": {
      "text/plain": [
       "<AxesSubplot:>"
      ]
     },
     "execution_count": 40,
     "metadata": {},
     "output_type": "execute_result"
    },
    {
     "data": {
      "image/png": "[encoded data removed]",
      "text/plain": [
       "<Figure size 432x288 with 1 Axes>"
      ]
     },
     "metadata": {
      "needs_background": "light"
     },
     "output_type": "display_data"
    }
   ],
   "source": [
    "count_sum_duration_with_days['time_day'].hist()"
   ]
  },
  {
   "cell_type": "markdown",
   "metadata": {
    "id": "3z9ACQnDL3A1"
   },
   "source": [
    "Данные уже близки к реальности, есть сомнения в выбросах: аномалия ли это, либо оператор работает на пределах своих возможностей. А возможно на линии работает две смены. посмотрим верхние значения."
   ]
  },
  {
   "cell_type": "code",
   "execution_count": 41,
   "metadata": {
    "colab": {
     "base_uri": "https://localhost:8080/",
     "height": 144
    },
    "executionInfo": {
     "elapsed": 24,
     "status": "ok",
     "timestamp": 1649914420337,
     "user": {
      "displayName": "Сергей Холоденин",
      "userId": "02339464120149742563"
     },
     "user_tz": -180
    },
    "id": "0JjEqapEwmFw",
    "outputId": "aa039378-48e1-415a-bdde-2e5bfe46f00e"
   },
   "outputs": [
    {
     "data": {
      "text/html": [
       "<div>\n",
       "<style scoped>\n",
       "    .dataframe tbody tr th:only-of-type {\n",
       "        vertical-align: middle;\n",
       "    }\n",
       "\n",
       "    .dataframe tbody tr th {\n",
       "        vertical-align: top;\n",
       "    }\n",
       "\n",
       "    .dataframe thead th {\n",
       "        text-align: right;\n",
       "    }\n",
       "</style>\n",
       "<table border=\"1\" class=\"dataframe\">\n",
       "  <thead>\n",
       "    <tr style=\"text-align: right;\">\n",
       "      <th></th>\n",
       "      <th>user_id</th>\n",
       "      <th>operator_id</th>\n",
       "      <th>calls_count</th>\n",
       "      <th>call_duration</th>\n",
       "      <th>total_call_duration</th>\n",
       "      <th>date</th>\n",
       "      <th>time_day</th>\n",
       "      <th>time_call</th>\n",
       "    </tr>\n",
       "  </thead>\n",
       "  <tbody>\n",
       "    <tr>\n",
       "      <th>72</th>\n",
       "      <td>166582</td>\n",
       "      <td>885876.0</td>\n",
       "      <td>58437</td>\n",
       "      <td>71746</td>\n",
       "      <td>94417</td>\n",
       "      <td>97</td>\n",
       "      <td>974</td>\n",
       "      <td>2</td>\n",
       "    </tr>\n",
       "    <tr>\n",
       "      <th>73</th>\n",
       "      <td>166582</td>\n",
       "      <td>885890.0</td>\n",
       "      <td>58977</td>\n",
       "      <td>54356</td>\n",
       "      <td>78217</td>\n",
       "      <td>80</td>\n",
       "      <td>978</td>\n",
       "      <td>2</td>\n",
       "    </tr>\n",
       "    <tr>\n",
       "      <th>74</th>\n",
       "      <td>166582</td>\n",
       "      <td>925922.0</td>\n",
       "      <td>19603</td>\n",
       "      <td>13269</td>\n",
       "      <td>20285</td>\n",
       "      <td>24</td>\n",
       "      <td>846</td>\n",
       "      <td>2</td>\n",
       "    </tr>\n",
       "  </tbody>\n",
       "</table>\n",
       "</div>"
      ],
      "text/plain": [
       "    user_id  operator_id  calls_count  call_duration  total_call_duration  \\\n",
       "72   166582     885876.0        58437          71746                94417   \n",
       "73   166582     885890.0        58977          54356                78217   \n",
       "74   166582     925922.0        19603          13269                20285   \n",
       "\n",
       "    date  time_day  time_call  \n",
       "72    97       974          2  \n",
       "73    80       978          2  \n",
       "74    24       846          2  "
      ]
     },
     "execution_count": 41,
     "metadata": {},
     "output_type": "execute_result"
    }
   ],
   "source": [
    "count_sum_duration_with_days[count_sum_duration_with_days['time_day'] > 400]"
   ]
  },
  {
   "cell_type": "markdown",
   "metadata": {
    "id": "bNagl_wZMUJQ"
   },
   "source": [
    "Возможно данные операторы работают на активный дозвон, учитывая среднее время разговора, то можно предположить, что это телемаркетер или робот."
   ]
  },
  {
   "cell_type": "code",
   "execution_count": 42,
   "metadata": {
    "colab": {
     "base_uri": "https://localhost:8080/",
     "height": 282
    },
    "executionInfo": {
     "elapsed": 499,
     "status": "ok",
     "timestamp": 1649914420814,
     "user": {
      "displayName": "Сергей Холоденин",
      "userId": "02339464120149742563"
     },
     "user_tz": -180
    },
    "id": "-fyAGqGDyHis",
    "outputId": "ef0e12a2-5e51-418e-973e-0190738626ff"
   },
   "outputs": [
    {
     "data": {
      "text/plain": [
       "<AxesSubplot:>"
      ]
     },
     "execution_count": 42,
     "metadata": {},
     "output_type": "execute_result"
    },
    {
     "data": {
      "image/png": "[encoded data removed]",
      "text/plain": [
       "<Figure size 432x288 with 1 Axes>"
      ]
     },
     "metadata": {
      "needs_background": "light"
     },
     "output_type": "display_data"
    }
   ],
   "source": [
    "count_sum_duration_with_days[count_sum_duration_with_days['time_day'] <= 60]['time_day'].hist()"
   ]
  },
  {
   "cell_type": "markdown",
   "metadata": {
    "id": "DE2uex63M6jN"
   },
   "source": [
    "В интервале 60 минут лежит большая часть наблюдений, что позволяет предположить, что данная информация пригодится в анализе данных для возможной сегментации клиентов."
   ]
  },
  {
   "cell_type": "code",
   "execution_count": 43,
   "metadata": {
    "colab": {
     "base_uri": "https://localhost:8080/",
     "height": 206
    },
    "executionInfo": {
     "elapsed": 13,
     "status": "ok",
     "timestamp": 1649914420815,
     "user": {
      "displayName": "Сергей Холоденин",
      "userId": "02339464120149742563"
     },
     "user_tz": -180
    },
    "id": "I8-AIdpwhM9W",
    "outputId": "64ff56e8-e826-400b-c507-9f9cdf548eb0"
   },
   "outputs": [
    {
     "data": {
      "text/html": [
       "<div>\n",
       "<style scoped>\n",
       "    .dataframe tbody tr th:only-of-type {\n",
       "        vertical-align: middle;\n",
       "    }\n",
       "\n",
       "    .dataframe tbody tr th {\n",
       "        vertical-align: top;\n",
       "    }\n",
       "\n",
       "    .dataframe thead th {\n",
       "        text-align: right;\n",
       "    }\n",
       "</style>\n",
       "<table border=\"1\" class=\"dataframe\">\n",
       "  <thead>\n",
       "    <tr style=\"text-align: right;\">\n",
       "      <th></th>\n",
       "      <th>month</th>\n",
       "      <th>direction</th>\n",
       "      <th>calls_count</th>\n",
       "      <th>call_duration</th>\n",
       "      <th>total_call_duration</th>\n",
       "    </tr>\n",
       "  </thead>\n",
       "  <tbody>\n",
       "    <tr>\n",
       "      <th>0</th>\n",
       "      <td>8</td>\n",
       "      <td>in</td>\n",
       "      <td>4411</td>\n",
       "      <td>213886</td>\n",
       "      <td>4345.200000</td>\n",
       "    </tr>\n",
       "    <tr>\n",
       "      <th>1</th>\n",
       "      <td>8</td>\n",
       "      <td>out</td>\n",
       "      <td>32980</td>\n",
       "      <td>2176941</td>\n",
       "      <td>47931.883333</td>\n",
       "    </tr>\n",
       "    <tr>\n",
       "      <th>2</th>\n",
       "      <td>9</td>\n",
       "      <td>in</td>\n",
       "      <td>23651</td>\n",
       "      <td>1211802</td>\n",
       "      <td>25312.350000</td>\n",
       "    </tr>\n",
       "    <tr>\n",
       "      <th>3</th>\n",
       "      <td>9</td>\n",
       "      <td>out</td>\n",
       "      <td>122939</td>\n",
       "      <td>7715421</td>\n",
       "      <td>171684.166667</td>\n",
       "    </tr>\n",
       "    <tr>\n",
       "      <th>4</th>\n",
       "      <td>10</td>\n",
       "      <td>in</td>\n",
       "      <td>78385</td>\n",
       "      <td>3242286</td>\n",
       "      <td>68974.266667</td>\n",
       "    </tr>\n",
       "  </tbody>\n",
       "</table>\n",
       "</div>"
      ],
      "text/plain": [
       "   month direction  calls_count  call_duration  total_call_duration\n",
       "0      8        in         4411         213886          4345.200000\n",
       "1      8       out        32980        2176941         47931.883333\n",
       "2      9        in        23651        1211802         25312.350000\n",
       "3      9       out       122939        7715421        171684.166667\n",
       "4     10        in        78385        3242286         68974.266667"
      ]
     },
     "execution_count": 43,
     "metadata": {},
     "output_type": "execute_result"
    }
   ],
   "source": [
    "td = telecom_dataset.copy()\n",
    "td['month'] = td['date'].dt.month\n",
    "count_sum_duration_group = (td\n",
    "                      .groupby(['month','direction'])\n",
    "                      .agg({'calls_count':'sum', 'call_duration':'sum','total_call_duration':'sum'})\n",
    "                      .reset_index()\n",
    ")\n",
    "count_sum_duration_group['total_call_duration'] = count_sum_duration_group['total_call_duration']/60\n",
    "count_sum_duration_group.head()"
   ]
  },
  {
   "cell_type": "code",
   "execution_count": 44,
   "metadata": {
    "colab": {
     "base_uri": "https://localhost:8080/",
     "height": 566
    },
    "executionInfo": {
     "elapsed": 418,
     "status": "ok",
     "timestamp": 1649914421223,
     "user": {
      "displayName": "Сергей Холоденин",
      "userId": "02339464120149742563"
     },
     "user_tz": -180
    },
    "id": "aLqTbDXXn0Bs",
    "outputId": "6c3059c6-d5c0-4e08-9084-df2a3ab693cd"
   },
   "outputs": [
    {
     "data": {
      "image/png": "[encoded data removed]",
      "text/plain": [
       "<Figure size 936x648 with 1 Axes>"
      ]
     },
     "metadata": {
      "needs_background": "light"
     },
     "output_type": "display_data"
    }
   ],
   "source": [
    "fig, ax = plt.subplots()\n",
    "ax.bar(count_sum_duration_group.query('direction == \"in\"')['month'],\n",
    "       count_sum_duration_group.query('direction == \"in\"')['total_call_duration'],\n",
    "       alpha = 0.5, color = 'red')\n",
    "ax.bar(count_sum_duration_group.query('direction == \"out\"')['month'],\n",
    "       count_sum_duration_group.query('direction == \"out\"')['total_call_duration'],\n",
    "       alpha = 0.5, color = 'blue', bottom = count_sum_duration_group.query('direction == \"in\"')['total_call_duration'])\n",
    "fig.set_figwidth(13)\n",
    "fig.set_figheight(9)\n",
    "c_dict = {'Входящие':'red', 'Исходящие':'blue'}\n",
    "legend_elements = [Patch(facecolor=c_dict[i], label=i, alpha=0.5) for i in c_dict]\n",
    "plt.legend(handles=legend_elements)\n",
    "plt.title('Соотношение входящих/исходящих по месяцам')\n",
    "plt.xlabel('Месяц')\n",
    "plt.ylabel('Количество минут')\n",
    "plt.show()"
   ]
  },
  {
   "cell_type": "markdown",
   "metadata": {
    "id": "0-wT75w9vkpB"
   },
   "source": [
    "Из данных видно, что количество входящих минут стремительно растет из месяца в месяц, аколичество исходящих минут за последний месяц сократилось. Возможно бесплантые входящие минуты привлекают колл-центры с входящим трафиком. Следует это исследовать в работе."
   ]
  },
  {
   "cell_type": "markdown",
   "metadata": {
    "id": "4cjJ8nYvnPsz"
   },
   "source": [
    "<div class=\"alert alert-warning\">\n",
    "<b>Комментарий тимлида v.1</b> \n",
    "    \n",
    "📝 Сергей, в целом тут была проделана хорошая аналитическая работа. Только, у меня есть несколько моментов, на которые я хотел бы обратить внимание. Во-первых, в начале мы отфильтровали данные только по исходящим звонкам, хотя операторы могут работать и на входящие. А во-вторых, мы используем расчет средних как сумму всех коммуникаций деленную на количество дней. В этом нет необходимости, так как лучше изучить распределение данных по дням для каждого оператора. Например, у оператора будет один день с ошибочной фиксацией времени, но если применять такой подход как выше, то мы это упустим. Давай посмотрим на примере - сгруппируем данные по оператору по всем звонкам за день (будем учитывать для входящих время без ожидания, а для исходящих - с ожиданием):\n",
    "</div>"
   ]
  },
  {
   "cell_type": "code",
   "execution_count": 45,
   "metadata": {
    "colab": {
     "base_uri": "https://localhost:8080/",
     "height": 269
    },
    "executionInfo": {
     "elapsed": 962,
     "status": "ok",
     "timestamp": 1649914422178,
     "user": {
      "displayName": "Сергей Холоденин",
      "userId": "02339464120149742563"
     },
     "user_tz": -180
    },
    "id": "JYLtrw73nPs0",
    "outputId": "029d45a4-86d2-457b-c022-23c37112b196"
   },
   "outputs": [
    {
     "data": {
      "text/html": [
       "<div>\n",
       "<style scoped>\n",
       "    .dataframe tbody tr th:only-of-type {\n",
       "        vertical-align: middle;\n",
       "    }\n",
       "\n",
       "    .dataframe tbody tr th {\n",
       "        vertical-align: top;\n",
       "    }\n",
       "\n",
       "    .dataframe thead th {\n",
       "        text-align: right;\n",
       "    }\n",
       "</style>\n",
       "<table border=\"1\" class=\"dataframe\">\n",
       "  <thead>\n",
       "    <tr style=\"text-align: right;\">\n",
       "      <th></th>\n",
       "      <th>operator_id</th>\n",
       "      <th>date</th>\n",
       "      <th>total_work_days</th>\n",
       "      <th>clients</th>\n",
       "    </tr>\n",
       "  </thead>\n",
       "  <tbody>\n",
       "    <tr>\n",
       "      <th>0</th>\n",
       "      <td>885876.0</td>\n",
       "      <td>48</td>\n",
       "      <td>97</td>\n",
       "      <td>[166582]</td>\n",
       "    </tr>\n",
       "    <tr>\n",
       "      <th>1</th>\n",
       "      <td>885890.0</td>\n",
       "      <td>55</td>\n",
       "      <td>80</td>\n",
       "      <td>[166582]</td>\n",
       "    </tr>\n",
       "    <tr>\n",
       "      <th>2</th>\n",
       "      <td>908640.0</td>\n",
       "      <td>2</td>\n",
       "      <td>19</td>\n",
       "      <td>[167285]</td>\n",
       "    </tr>\n",
       "    <tr>\n",
       "      <th>3</th>\n",
       "      <td>925922.0</td>\n",
       "      <td>14</td>\n",
       "      <td>24</td>\n",
       "      <td>[166582]</td>\n",
       "    </tr>\n",
       "    <tr>\n",
       "      <th>4</th>\n",
       "      <td>929424.0</td>\n",
       "      <td>1</td>\n",
       "      <td>49</td>\n",
       "      <td>[167827]</td>\n",
       "    </tr>\n",
       "    <tr>\n",
       "      <th>5</th>\n",
       "      <td>929428.0</td>\n",
       "      <td>2</td>\n",
       "      <td>33</td>\n",
       "      <td>[167827]</td>\n",
       "    </tr>\n",
       "    <tr>\n",
       "      <th>6</th>\n",
       "      <td>945278.0</td>\n",
       "      <td>1</td>\n",
       "      <td>22</td>\n",
       "      <td>[168361]</td>\n",
       "    </tr>\n",
       "  </tbody>\n",
       "</table>\n",
       "</div>"
      ],
      "text/plain": [
       "   operator_id  date  total_work_days   clients\n",
       "0     885876.0    48               97  [166582]\n",
       "1     885890.0    55               80  [166582]\n",
       "2     908640.0     2               19  [167285]\n",
       "3     925922.0    14               24  [166582]\n",
       "4     929424.0     1               49  [167827]\n",
       "5     929428.0     2               33  [167827]\n",
       "6     945278.0     1               22  [168361]"
      ]
     },
     "execution_count": 45,
     "metadata": {},
     "output_type": "execute_result"
    }
   ],
   "source": [
    "# ячейка тимлида:\n",
    "\n",
    "# сгруппируем данные по дням для каждого оператора:\n",
    "(telecom_dataset\n",
    " \n",
    " # отфильтруем строки без номера оператора:\n",
    " .query('operator_id == operator_id')\n",
    " \n",
    " # отфильтруем исходящие звонки и подсчитаем длительность входящих:\n",
    " .query('direction == \"in\"')\n",
    " .groupby(['operator_id','date'])\n",
    " .agg(incoming_call_duration = ('call_duration', 'sum'))\n",
    " .reset_index()\n",
    " \n",
    " # добавим данные по исходящим:\n",
    " .merge((telecom_dataset.query('operator_id == operator_id and direction == \"out\"')\n",
    "         .groupby(['operator_id','date'])\n",
    "         .agg(outgoing_call_duration = ('total_call_duration', 'sum'))\n",
    "         .reset_index()), on = ['operator_id','date'], how = 'outer')\n",
    " .fillna(0)\n",
    " \n",
    " # суммируем данные по длительности звонка в день для каждого оператора и переведем в часы:\n",
    " .assign(total_call_duration = lambda x : (x['incoming_call_duration'] + x['outgoing_call_duration']) / 60 / 60)\n",
    " \n",
    " # посмотрим на операторов, которые \"проговорили\" больше 12 часов день:\n",
    " .query('total_call_duration > 12')\n",
    " .groupby('operator_id')\n",
    " \n",
    " # подсчитаем количество аномальных дней:\n",
    " .agg({'date' : 'nunique'})\n",
    " .reset_index()\n",
    " \n",
    " # и добавим общее количество дней работы этих операторов и номера клиентов, на которые они работали:\n",
    " .merge((telecom_dataset.query('operator_id == operator_id')\n",
    "         .groupby(['operator_id'])\n",
    "         .agg(total_work_days = ('date', 'nunique'),\n",
    "              clients = ('user_id', 'unique'))\n",
    "         .reset_index()), on = ['operator_id'], how = 'left') \n",
    ")"
   ]
  },
  {
   "cell_type": "markdown",
   "metadata": {
    "id": "qih2Qf7FnPs1"
   },
   "source": [
    "<div class=\"alert alert-warning\">\n",
    "<b>Комментарий тимлида v.1</b> \n",
    "    \n",
    "📝 Извини, что написал немного замысловатый код - хотел, показать, как можно комбинировать разные методы, но по результатам видно, что у нас есть 7 клиентов, которые говорят больше 12 часов в день (кстати, в запросы мы можем изменить количество часов и посмотреть на данные по-другому). При этом эти операторы работают на четырех клиентов. Также мы видим, что в основная переработка у операторов, которые работают на клиента 166582 - возможно его стоит отфильтровать из данных и рассматривать отдельно.\n",
    "</div>"
   ]
  },
  {
   "cell_type": "markdown",
   "metadata": {
    "id": "hlsE08V6eMzR"
   },
   "source": [
    "<div class=\"alert alert-info\"> \n",
    "<b>Комментарий студента</b> \n",
    "    \n",
    "Это очень крутой пример! Я и не думал, что можно так кратко такой объем сразу прописать и получить столько информации! Беру на вооружение!Спасибо!\n",
    "</div>"
   ]
  },
  {
   "cell_type": "markdown",
   "metadata": {
    "id": "EdzycrU-nPsm"
   },
   "source": [
    "<div class=\"alert alert-success\">\n",
    "<b>Комментарий тимлида v.2</b>    \n",
    "    \n",
    "👍\n",
    "</div>"
   ]
  },
  {
   "cell_type": "markdown",
   "metadata": {
    "id": "rMCqQYr8SCpc"
   },
   "source": [
    "Проверим столбец is_missed_call на корректность. "
   ]
  },
  {
   "cell_type": "code",
   "execution_count": 46,
   "metadata": {
    "colab": {
     "base_uri": "https://localhost:8080/"
    },
    "executionInfo": {
     "elapsed": 61,
     "status": "ok",
     "timestamp": 1649914422180,
     "user": {
      "displayName": "Сергей Холоденин",
      "userId": "02339464120149742563"
     },
     "user_tz": -180
    },
    "id": "gfRzk5N10aAh",
    "outputId": "9b591872-24b7-4ce7-bd99-bef7d195a91f"
   },
   "outputs": [
    {
     "data": {
      "text/plain": [
       "23761"
      ]
     },
     "execution_count": 46,
     "metadata": {},
     "output_type": "execute_result"
    }
   ],
   "source": [
    "telecom_dataset[telecom_dataset['is_missed_call'] == True]['call_duration'].sum()"
   ]
  },
  {
   "cell_type": "code",
   "execution_count": 47,
   "metadata": {
    "id": "WCC5ldCf3hQ5"
   },
   "outputs": [],
   "source": [
    "missed_call_with_duration = telecom_dataset.query('is_missed_call == True and call_duration != 0')"
   ]
  },
  {
   "cell_type": "code",
   "execution_count": 48,
   "metadata": {
    "colab": {
     "base_uri": "https://localhost:8080/"
    },
    "executionInfo": {
     "elapsed": 56,
     "status": "ok",
     "timestamp": 1649914422183,
     "user": {
      "displayName": "Сергей Холоденин",
      "userId": "02339464120149742563"
     },
     "user_tz": -180
    },
    "id": "igPay1yp3z3m",
    "outputId": "f4321249-da17-4e15-9673-9c51a25d2f22"
   },
   "outputs": [
    {
     "data": {
      "text/plain": [
       "296.0"
      ]
     },
     "execution_count": 48,
     "metadata": {},
     "output_type": "execute_result"
    }
   ],
   "source": [
    "missed_call_with_duration.count().mean()"
   ]
  },
  {
   "cell_type": "code",
   "execution_count": 49,
   "metadata": {
    "id": "8wgQtqAETVxP"
   },
   "outputs": [],
   "source": [
    "not_missed_call_with_duration = telecom_dataset.query('is_missed_call == False and call_duration == 0')"
   ]
  },
  {
   "cell_type": "code",
   "execution_count": 50,
   "metadata": {
    "colab": {
     "base_uri": "https://localhost:8080/"
    },
    "executionInfo": {
     "elapsed": 46,
     "status": "ok",
     "timestamp": 1649914422185,
     "user": {
      "displayName": "Сергей Холоденин",
      "userId": "02339464120149742563"
     },
     "user_tz": -180
    },
    "id": "tb4DHglHThbA",
    "outputId": "e38f4728-4c4a-4251-e8a7-bc12434983d1"
   },
   "outputs": [
    {
     "data": {
      "text/plain": [
       "17.0"
      ]
     },
     "execution_count": 50,
     "metadata": {},
     "output_type": "execute_result"
    }
   ],
   "source": [
    "not_missed_call_with_duration.count().mean()"
   ]
  },
  {
   "cell_type": "markdown",
   "metadata": {
    "id": "miU7CCnhTqhJ"
   },
   "source": [
    "В столбце обнаружена аномалия, 296 значений имеют продолжительность в разговоре и обозначены, как пропущенные, а 17 значений обозначены как пропущенные, при этом нет продолжительности в разговоре. Опять же данную информацию следует предоставить техническому отделу. Т.к. данный столбец не важен для вычислений и дублирует информацию столбца с продолжительностью разговора, то нет смысла его обрабатывать."
   ]
  },
  {
   "cell_type": "markdown",
   "metadata": {
    "id": "AVwkZb4vnPs3"
   },
   "source": [
    "<div class=\"alert alert-success\">\n",
    "<b>Комментарий тимлида v.1</b>    \n",
    "    \n",
    "👍 Все верно.\n",
    "</div>"
   ]
  },
  {
   "cell_type": "code",
   "execution_count": 51,
   "metadata": {
    "colab": {
     "base_uri": "https://localhost:8080/"
    },
    "executionInfo": {
     "elapsed": 40,
     "status": "ok",
     "timestamp": 1649914422187,
     "user": {
      "displayName": "Сергей Холоденин",
      "userId": "02339464120149742563"
     },
     "user_tz": -180
    },
    "id": "VHxEtmK66Omg",
    "outputId": "a2ed5220-989c-4b15-9109-6003faa81610"
   },
   "outputs": [
    {
     "data": {
      "text/plain": [
       "0"
      ]
     },
     "execution_count": 51,
     "metadata": {},
     "output_type": "execute_result"
    }
   ],
   "source": [
    "(telecom_dataset['total_call_duration'] - telecom_dataset['call_duration']).min()"
   ]
  },
  {
   "cell_type": "markdown",
   "metadata": {
    "id": "9mhshXn1Ujtj"
   },
   "source": [
    "Аномалий между столбцом с общим количеством минут и временем разговора не обнаружено."
   ]
  },
  {
   "cell_type": "code",
   "execution_count": 52,
   "metadata": {
    "colab": {
     "base_uri": "https://localhost:8080/"
    },
    "executionInfo": {
     "elapsed": 32,
     "status": "ok",
     "timestamp": 1649914422188,
     "user": {
      "displayName": "Сергей Холоденин",
      "userId": "02339464120149742563"
     },
     "user_tz": -180
    },
    "id": "qQBgfnMk7G8a",
    "outputId": "8da353ac-cfb9-40b9-96c9-fe0897e5bd59"
   },
   "outputs": [
    {
     "data": {
      "text/plain": [
       "1"
      ]
     },
     "execution_count": 52,
     "metadata": {},
     "output_type": "execute_result"
    }
   ],
   "source": [
    "telecom_dataset.groupby('operator_id')['user_id'].nunique().max()"
   ]
  },
  {
   "cell_type": "markdown",
   "metadata": {
    "id": "Nusxi_DpUz7I"
   },
   "source": [
    "Операторы указаны корректно, нет пересечений."
   ]
  },
  {
   "cell_type": "markdown",
   "metadata": {
    "id": "0CiNHtsZU9Tl"
   },
   "source": [
    "Данные загружены и подготовлены к анализу. Перейдем к исследованию."
   ]
  },
  {
   "cell_type": "markdown",
   "metadata": {
    "id": "Yu1AhiAKnPs7"
   },
   "source": [
    "<div class=\"alert alert-success\">\n",
    "<b>Комментарий тимлида v.1</b>    \n",
    "    \n",
    "👍 В целом была проведена хорошая работа на этой стадии. Что, как мне кажется, можно было бы улучшить / детализировать - посмотреть на выбросы немного по-другому, а также таким же способом подсчитать количество звонков в день для каждого оператора и оценить их корректность.\n",
    "</div>"
   ]
  },
  {
   "cell_type": "markdown",
   "metadata": {
    "id": "cEgWBXMyVG--"
   },
   "source": [
    "## Исследовательский анализ данных"
   ]
  },
  {
   "cell_type": "markdown",
   "metadata": {
    "id": "3qOIZxkrVtcM"
   },
   "source": [
    "Для анализа данных нам потребуется добавить данные по тарифам и рассчитать текущие расходы клиентов за пользование тарифами согласно тарификации."
   ]
  },
  {
   "cell_type": "markdown",
   "metadata": {
    "id": "meNtGTbBXBi2"
   },
   "source": [
    "### Расчет расходов клиентов по тарифам"
   ]
  },
  {
   "cell_type": "markdown",
   "metadata": {
    "id": "SUUxlF4PXPrr"
   },
   "source": [
    "Сперва добавим данные по тарифам в датасет с клиентами."
   ]
  },
  {
   "cell_type": "code",
   "execution_count": 53,
   "metadata": {
    "colab": {
     "base_uri": "https://localhost:8080/",
     "height": 206
    },
    "executionInfo": {
     "elapsed": 24,
     "status": "ok",
     "timestamp": 1649914422189,
     "user": {
      "displayName": "Сергей Холоденин",
      "userId": "02339464120149742563"
     },
     "user_tz": -180
    },
    "id": "pzuDwVTQ-AC4",
    "outputId": "cb1c2f6c-00f1-4c92-d831-4b49b72b90b7"
   },
   "outputs": [
    {
     "data": {
      "text/html": [
       "<div>\n",
       "<style scoped>\n",
       "    .dataframe tbody tr th:only-of-type {\n",
       "        vertical-align: middle;\n",
       "    }\n",
       "\n",
       "    .dataframe tbody tr th {\n",
       "        vertical-align: top;\n",
       "    }\n",
       "\n",
       "    .dataframe thead th {\n",
       "        text-align: right;\n",
       "    }\n",
       "</style>\n",
       "<table border=\"1\" class=\"dataframe\">\n",
       "  <thead>\n",
       "    <tr style=\"text-align: right;\">\n",
       "      <th></th>\n",
       "      <th>user_id</th>\n",
       "      <th>tariff_plan</th>\n",
       "      <th>date_start</th>\n",
       "      <th>first_month</th>\n",
       "    </tr>\n",
       "  </thead>\n",
       "  <tbody>\n",
       "    <tr>\n",
       "      <th>0</th>\n",
       "      <td>166713</td>\n",
       "      <td>A</td>\n",
       "      <td>2019-08-15</td>\n",
       "      <td>2019-08-01</td>\n",
       "    </tr>\n",
       "    <tr>\n",
       "      <th>1</th>\n",
       "      <td>166901</td>\n",
       "      <td>A</td>\n",
       "      <td>2019-08-23</td>\n",
       "      <td>2019-08-01</td>\n",
       "    </tr>\n",
       "    <tr>\n",
       "      <th>2</th>\n",
       "      <td>168527</td>\n",
       "      <td>A</td>\n",
       "      <td>2019-10-29</td>\n",
       "      <td>2019-10-01</td>\n",
       "    </tr>\n",
       "    <tr>\n",
       "      <th>3</th>\n",
       "      <td>167097</td>\n",
       "      <td>A</td>\n",
       "      <td>2019-09-01</td>\n",
       "      <td>2019-09-01</td>\n",
       "    </tr>\n",
       "    <tr>\n",
       "      <th>4</th>\n",
       "      <td>168193</td>\n",
       "      <td>A</td>\n",
       "      <td>2019-10-16</td>\n",
       "      <td>2019-10-01</td>\n",
       "    </tr>\n",
       "  </tbody>\n",
       "</table>\n",
       "</div>"
      ],
      "text/plain": [
       "   user_id tariff_plan date_start first_month\n",
       "0   166713           A 2019-08-15  2019-08-01\n",
       "1   166901           A 2019-08-23  2019-08-01\n",
       "2   168527           A 2019-10-29  2019-10-01\n",
       "3   167097           A 2019-09-01  2019-09-01\n",
       "4   168193           A 2019-10-16  2019-10-01"
      ]
     },
     "execution_count": 53,
     "metadata": {},
     "output_type": "execute_result"
    }
   ],
   "source": [
    "telecom_clients.head()"
   ]
  },
  {
   "cell_type": "markdown",
   "metadata": {
    "id": "LrXCmkyvdS0m"
   },
   "source": [
    "Создадим столбец с ежемесячной оплатой тарифа."
   ]
  },
  {
   "cell_type": "code",
   "execution_count": 54,
   "metadata": {
    "id": "Bfau73UGYqbj"
   },
   "outputs": [],
   "source": [
    "def price_mnt(x):\n",
    "  if x == 'A':\n",
    "    return 5000\n",
    "  elif x == 'B':\n",
    "    return 2000\n",
    "  else:\n",
    "    return 1000"
   ]
  },
  {
   "cell_type": "code",
   "execution_count": 55,
   "metadata": {
    "id": "je-qG670Xf6o"
   },
   "outputs": [],
   "source": [
    "telecom_clients['price_month'] = telecom_clients['tariff_plan'].apply(price_mnt)"
   ]
  },
  {
   "cell_type": "markdown",
   "metadata": {
    "id": "EwquhNs_eRjt"
   },
   "source": [
    "Также добавим столбец с тарификацией сверхлимита 2000 минут внутри сети."
   ]
  },
  {
   "cell_type": "code",
   "execution_count": 56,
   "metadata": {
    "id": "FlCywwy-bf9u"
   },
   "outputs": [],
   "source": [
    "def price_in(x):\n",
    "  if x == 'A':\n",
    "    return 0.1\n",
    "  elif x == 'B':\n",
    "    return 0.15\n",
    "  else:\n",
    "    return 0.3"
   ]
  },
  {
   "cell_type": "code",
   "execution_count": 57,
   "metadata": {
    "id": "srRieooZaTxK"
   },
   "outputs": [],
   "source": [
    "telecom_clients['IN_price_per_min'] = telecom_clients['tariff_plan'].apply(price_in)"
   ]
  },
  {
   "cell_type": "markdown",
   "metadata": {
    "id": "Fe6pbNN3edJ-"
   },
   "source": [
    "Аналогично добавим столбец с тарификацией по внешним звонкам."
   ]
  },
  {
   "cell_type": "code",
   "execution_count": 58,
   "metadata": {
    "id": "IMnUXm8ycIz0"
   },
   "outputs": [],
   "source": [
    "def price_out(x):\n",
    "  if x == 'A':\n",
    "    return 0.4\n",
    "  elif x == 'B':\n",
    "    return 0.5\n",
    "  else:\n",
    "    return 0.7"
   ]
  },
  {
   "cell_type": "markdown",
   "metadata": {
    "id": "i38rzPjHnPs_"
   },
   "source": [
    "<div class=\"alert alert-warning\">\n",
    "<b>Комментарий тимлида v.1</b> \n",
    "    \n",
    "📝 Лучше учитывать все тарифы в условии, или использовать словарь для добавления информации - так код будет более универсальным (например, если изменится количество тарифов).\n",
    "</div>"
   ]
  },
  {
   "cell_type": "markdown",
   "metadata": {
    "id": "VYEXS-aqLZ5s"
   },
   "source": [
    "<div class=\"alert alert-info\"> \n",
    "<b>Комментарий студента</b> \n",
    "    \n",
    "Не стал менять, но на будущее учту.\n",
    "</div>"
   ]
  },
  {
   "cell_type": "markdown",
   "metadata": {
    "id": "EdzycrU-nPsm"
   },
   "source": [
    "<div class=\"alert alert-success\">\n",
    "<b>Комментарий тимлида v.2</b>    \n",
    "    \n",
    "👍\n",
    "</div>"
   ]
  },
  {
   "cell_type": "code",
   "execution_count": 59,
   "metadata": {
    "id": "4rw7cqTmbQb_"
   },
   "outputs": [],
   "source": [
    "telecom_clients['OUT_price_per_min'] = telecom_clients['tariff_plan'].apply(price_out)"
   ]
  },
  {
   "cell_type": "markdown",
   "metadata": {
    "id": "ZnT7f6jEfYd4"
   },
   "source": [
    "Посмотрим получившийся датасет."
   ]
  },
  {
   "cell_type": "code",
   "execution_count": 60,
   "metadata": {
    "colab": {
     "base_uri": "https://localhost:8080/",
     "height": 424
    },
    "executionInfo": {
     "elapsed": 37,
     "status": "ok",
     "timestamp": 1649914422716,
     "user": {
      "displayName": "Сергей Холоденин",
      "userId": "02339464120149742563"
     },
     "user_tz": -180
    },
    "id": "Nc9ilYyhb5QW",
    "outputId": "31c6e25a-8c07-4bbc-dead-6a2dd6d17ced"
   },
   "outputs": [
    {
     "data": {
      "text/html": [
       "<div>\n",
       "<style scoped>\n",
       "    .dataframe tbody tr th:only-of-type {\n",
       "        vertical-align: middle;\n",
       "    }\n",
       "\n",
       "    .dataframe tbody tr th {\n",
       "        vertical-align: top;\n",
       "    }\n",
       "\n",
       "    .dataframe thead th {\n",
       "        text-align: right;\n",
       "    }\n",
       "</style>\n",
       "<table border=\"1\" class=\"dataframe\">\n",
       "  <thead>\n",
       "    <tr style=\"text-align: right;\">\n",
       "      <th></th>\n",
       "      <th>user_id</th>\n",
       "      <th>tariff_plan</th>\n",
       "      <th>date_start</th>\n",
       "      <th>first_month</th>\n",
       "      <th>price_month</th>\n",
       "      <th>IN_price_per_min</th>\n",
       "      <th>OUT_price_per_min</th>\n",
       "    </tr>\n",
       "  </thead>\n",
       "  <tbody>\n",
       "    <tr>\n",
       "      <th>0</th>\n",
       "      <td>166713</td>\n",
       "      <td>A</td>\n",
       "      <td>2019-08-15</td>\n",
       "      <td>2019-08-01</td>\n",
       "      <td>5000</td>\n",
       "      <td>0.10</td>\n",
       "      <td>0.4</td>\n",
       "    </tr>\n",
       "    <tr>\n",
       "      <th>1</th>\n",
       "      <td>166901</td>\n",
       "      <td>A</td>\n",
       "      <td>2019-08-23</td>\n",
       "      <td>2019-08-01</td>\n",
       "      <td>5000</td>\n",
       "      <td>0.10</td>\n",
       "      <td>0.4</td>\n",
       "    </tr>\n",
       "    <tr>\n",
       "      <th>2</th>\n",
       "      <td>168527</td>\n",
       "      <td>A</td>\n",
       "      <td>2019-10-29</td>\n",
       "      <td>2019-10-01</td>\n",
       "      <td>5000</td>\n",
       "      <td>0.10</td>\n",
       "      <td>0.4</td>\n",
       "    </tr>\n",
       "    <tr>\n",
       "      <th>3</th>\n",
       "      <td>167097</td>\n",
       "      <td>A</td>\n",
       "      <td>2019-09-01</td>\n",
       "      <td>2019-09-01</td>\n",
       "      <td>5000</td>\n",
       "      <td>0.10</td>\n",
       "      <td>0.4</td>\n",
       "    </tr>\n",
       "    <tr>\n",
       "      <th>4</th>\n",
       "      <td>168193</td>\n",
       "      <td>A</td>\n",
       "      <td>2019-10-16</td>\n",
       "      <td>2019-10-01</td>\n",
       "      <td>5000</td>\n",
       "      <td>0.10</td>\n",
       "      <td>0.4</td>\n",
       "    </tr>\n",
       "    <tr>\n",
       "      <th>...</th>\n",
       "      <td>...</td>\n",
       "      <td>...</td>\n",
       "      <td>...</td>\n",
       "      <td>...</td>\n",
       "      <td>...</td>\n",
       "      <td>...</td>\n",
       "      <td>...</td>\n",
       "    </tr>\n",
       "    <tr>\n",
       "      <th>727</th>\n",
       "      <td>166554</td>\n",
       "      <td>B</td>\n",
       "      <td>2019-08-08</td>\n",
       "      <td>2019-08-01</td>\n",
       "      <td>2000</td>\n",
       "      <td>0.15</td>\n",
       "      <td>0.5</td>\n",
       "    </tr>\n",
       "    <tr>\n",
       "      <th>728</th>\n",
       "      <td>166911</td>\n",
       "      <td>B</td>\n",
       "      <td>2019-08-23</td>\n",
       "      <td>2019-08-01</td>\n",
       "      <td>2000</td>\n",
       "      <td>0.15</td>\n",
       "      <td>0.5</td>\n",
       "    </tr>\n",
       "    <tr>\n",
       "      <th>729</th>\n",
       "      <td>167012</td>\n",
       "      <td>B</td>\n",
       "      <td>2019-08-28</td>\n",
       "      <td>2019-08-01</td>\n",
       "      <td>2000</td>\n",
       "      <td>0.15</td>\n",
       "      <td>0.5</td>\n",
       "    </tr>\n",
       "    <tr>\n",
       "      <th>730</th>\n",
       "      <td>166867</td>\n",
       "      <td>B</td>\n",
       "      <td>2019-08-22</td>\n",
       "      <td>2019-08-01</td>\n",
       "      <td>2000</td>\n",
       "      <td>0.15</td>\n",
       "      <td>0.5</td>\n",
       "    </tr>\n",
       "    <tr>\n",
       "      <th>731</th>\n",
       "      <td>166565</td>\n",
       "      <td>B</td>\n",
       "      <td>2019-08-08</td>\n",
       "      <td>2019-08-01</td>\n",
       "      <td>2000</td>\n",
       "      <td>0.15</td>\n",
       "      <td>0.5</td>\n",
       "    </tr>\n",
       "  </tbody>\n",
       "</table>\n",
       "<p>732 rows × 7 columns</p>\n",
       "</div>"
      ],
      "text/plain": [
       "     user_id tariff_plan date_start first_month  price_month  \\\n",
       "0     166713           A 2019-08-15  2019-08-01         5000   \n",
       "1     166901           A 2019-08-23  2019-08-01         5000   \n",
       "2     168527           A 2019-10-29  2019-10-01         5000   \n",
       "3     167097           A 2019-09-01  2019-09-01         5000   \n",
       "4     168193           A 2019-10-16  2019-10-01         5000   \n",
       "..       ...         ...        ...         ...          ...   \n",
       "727   166554           B 2019-08-08  2019-08-01         2000   \n",
       "728   166911           B 2019-08-23  2019-08-01         2000   \n",
       "729   167012           B 2019-08-28  2019-08-01         2000   \n",
       "730   166867           B 2019-08-22  2019-08-01         2000   \n",
       "731   166565           B 2019-08-08  2019-08-01         2000   \n",
       "\n",
       "     IN_price_per_min  OUT_price_per_min  \n",
       "0                0.10                0.4  \n",
       "1                0.10                0.4  \n",
       "2                0.10                0.4  \n",
       "3                0.10                0.4  \n",
       "4                0.10                0.4  \n",
       "..                ...                ...  \n",
       "727              0.15                0.5  \n",
       "728              0.15                0.5  \n",
       "729              0.15                0.5  \n",
       "730              0.15                0.5  \n",
       "731              0.15                0.5  \n",
       "\n",
       "[732 rows x 7 columns]"
      ]
     },
     "execution_count": 60,
     "metadata": {},
     "output_type": "execute_result"
    }
   ],
   "source": [
    "telecom_clients"
   ]
  },
  {
   "cell_type": "markdown",
   "metadata": {
    "id": "sVSQKhLRnPtA"
   },
   "source": [
    "<div class=\"alert alert-success\">\n",
    "<b>Комментарий тимлида v.1</b> \n",
    "    \n",
    "👍 В целом - можно было бы сделать датасет с тарифами и присоединить его к исходным данным.\n",
    "</div>"
   ]
  },
  {
   "cell_type": "markdown",
   "metadata": {
    "id": "PmH4GtNagmrV"
   },
   "source": [
    "Теперь подготовим данные по исходящим звонкам с делением на внутренние и внешние для соединения с датасетом по клиентам."
   ]
  },
  {
   "cell_type": "code",
   "execution_count": 61,
   "metadata": {
    "id": "mN-1ryVRcZ6g"
   },
   "outputs": [],
   "source": [
    "telecom_dataset['month'] = telecom_dataset['date'].astype('datetime64[M]')"
   ]
  },
  {
   "cell_type": "code",
   "execution_count": 62,
   "metadata": {
    "id": "x0SpgoM1iJhH"
   },
   "outputs": [],
   "source": [
    "telecom_dataset_group = telecom_dataset.query(\n",
    "    'direction == \"out\"').groupby(['user_id','month','internal']).agg({'operator_id':'nunique', 'total_call_duration':'sum'}).reset_index()"
   ]
  },
  {
   "cell_type": "code",
   "execution_count": 63,
   "metadata": {
    "id": "qapq7MfVJJI3"
   },
   "outputs": [],
   "source": [
    "telecom_dataset_group['total_call_duration'] = list(map(lambda x: np.ceil(x/60), telecom_dataset_group['total_call_duration']))"
   ]
  },
  {
   "cell_type": "code",
   "execution_count": 64,
   "metadata": {
    "colab": {
     "base_uri": "https://localhost:8080/",
     "height": 424
    },
    "executionInfo": {
     "elapsed": 41,
     "status": "ok",
     "timestamp": 1649914422724,
     "user": {
      "displayName": "Сергей Холоденин",
      "userId": "02339464120149742563"
     },
     "user_tz": -180
    },
    "id": "RpqupKfrkxVJ",
    "outputId": "21802b4c-d0f1-405d-efae-2feb55d79790"
   },
   "outputs": [
    {
     "data": {
      "text/html": [
       "<div>\n",
       "<style scoped>\n",
       "    .dataframe tbody tr th:only-of-type {\n",
       "        vertical-align: middle;\n",
       "    }\n",
       "\n",
       "    .dataframe tbody tr th {\n",
       "        vertical-align: top;\n",
       "    }\n",
       "\n",
       "    .dataframe thead th {\n",
       "        text-align: right;\n",
       "    }\n",
       "</style>\n",
       "<table border=\"1\" class=\"dataframe\">\n",
       "  <thead>\n",
       "    <tr style=\"text-align: right;\">\n",
       "      <th></th>\n",
       "      <th>user_id</th>\n",
       "      <th>month</th>\n",
       "      <th>internal</th>\n",
       "      <th>operator_id</th>\n",
       "      <th>total_call_duration</th>\n",
       "    </tr>\n",
       "  </thead>\n",
       "  <tbody>\n",
       "    <tr>\n",
       "      <th>0</th>\n",
       "      <td>166377</td>\n",
       "      <td>2019-08-01</td>\n",
       "      <td>False</td>\n",
       "      <td>5</td>\n",
       "      <td>1301.0</td>\n",
       "    </tr>\n",
       "    <tr>\n",
       "      <th>1</th>\n",
       "      <td>166377</td>\n",
       "      <td>2019-08-01</td>\n",
       "      <td>True</td>\n",
       "      <td>5</td>\n",
       "      <td>2.0</td>\n",
       "    </tr>\n",
       "    <tr>\n",
       "      <th>2</th>\n",
       "      <td>166377</td>\n",
       "      <td>2019-09-01</td>\n",
       "      <td>False</td>\n",
       "      <td>4</td>\n",
       "      <td>1764.0</td>\n",
       "    </tr>\n",
       "    <tr>\n",
       "      <th>3</th>\n",
       "      <td>166377</td>\n",
       "      <td>2019-09-01</td>\n",
       "      <td>True</td>\n",
       "      <td>4</td>\n",
       "      <td>1.0</td>\n",
       "    </tr>\n",
       "    <tr>\n",
       "      <th>4</th>\n",
       "      <td>166377</td>\n",
       "      <td>2019-10-01</td>\n",
       "      <td>False</td>\n",
       "      <td>5</td>\n",
       "      <td>1654.0</td>\n",
       "    </tr>\n",
       "    <tr>\n",
       "      <th>...</th>\n",
       "      <td>...</td>\n",
       "      <td>...</td>\n",
       "      <td>...</td>\n",
       "      <td>...</td>\n",
       "      <td>...</td>\n",
       "    </tr>\n",
       "    <tr>\n",
       "      <th>777</th>\n",
       "      <td>168601</td>\n",
       "      <td>2019-11-01</td>\n",
       "      <td>False</td>\n",
       "      <td>2</td>\n",
       "      <td>554.0</td>\n",
       "    </tr>\n",
       "    <tr>\n",
       "      <th>778</th>\n",
       "      <td>168601</td>\n",
       "      <td>2019-11-01</td>\n",
       "      <td>True</td>\n",
       "      <td>1</td>\n",
       "      <td>0.0</td>\n",
       "    </tr>\n",
       "    <tr>\n",
       "      <th>779</th>\n",
       "      <td>168603</td>\n",
       "      <td>2019-11-01</td>\n",
       "      <td>False</td>\n",
       "      <td>1</td>\n",
       "      <td>20.0</td>\n",
       "    </tr>\n",
       "    <tr>\n",
       "      <th>780</th>\n",
       "      <td>168606</td>\n",
       "      <td>2019-11-01</td>\n",
       "      <td>False</td>\n",
       "      <td>1</td>\n",
       "      <td>17.0</td>\n",
       "    </tr>\n",
       "    <tr>\n",
       "      <th>781</th>\n",
       "      <td>168606</td>\n",
       "      <td>2019-11-01</td>\n",
       "      <td>True</td>\n",
       "      <td>1</td>\n",
       "      <td>63.0</td>\n",
       "    </tr>\n",
       "  </tbody>\n",
       "</table>\n",
       "<p>782 rows × 5 columns</p>\n",
       "</div>"
      ],
      "text/plain": [
       "     user_id      month  internal  operator_id  total_call_duration\n",
       "0     166377 2019-08-01     False            5               1301.0\n",
       "1     166377 2019-08-01      True            5                  2.0\n",
       "2     166377 2019-09-01     False            4               1764.0\n",
       "3     166377 2019-09-01      True            4                  1.0\n",
       "4     166377 2019-10-01     False            5               1654.0\n",
       "..       ...        ...       ...          ...                  ...\n",
       "777   168601 2019-11-01     False            2                554.0\n",
       "778   168601 2019-11-01      True            1                  0.0\n",
       "779   168603 2019-11-01     False            1                 20.0\n",
       "780   168606 2019-11-01     False            1                 17.0\n",
       "781   168606 2019-11-01      True            1                 63.0\n",
       "\n",
       "[782 rows x 5 columns]"
      ]
     },
     "execution_count": 64,
     "metadata": {},
     "output_type": "execute_result"
    }
   ],
   "source": [
    "telecom_dataset_group"
   ]
  },
  {
   "cell_type": "markdown",
   "metadata": {
    "id": "ZLkMm3jBUkgW"
   },
   "source": [
    "Объединим датасеты и вычтем 2000 минут исходящих по внутренним звонкам сети."
   ]
  },
  {
   "cell_type": "code",
   "execution_count": 65,
   "metadata": {
    "id": "Ssa09jtnm86E"
   },
   "outputs": [],
   "source": [
    "telecom_total = telecom_dataset_group.merge(telecom_clients)"
   ]
  },
  {
   "cell_type": "code",
   "execution_count": 66,
   "metadata": {
    "id": "acTH9YJ5rpC2"
   },
   "outputs": [],
   "source": [
    "def f_duration(x):\n",
    "  internal = x['internal']\n",
    "  total_call_duration = x['total_call_duration']\n",
    "  if internal == False:\n",
    "    return 0\n",
    "  else:\n",
    "    return total_call_duration-2000\n",
    "  "
   ]
  },
  {
   "cell_type": "markdown",
   "metadata": {
    "id": "IXjU8cpDVFiF"
   },
   "source": [
    "Отрицательные значения приравняем к 0, чтобы понимать, что перерасхода тарифа не было."
   ]
  },
  {
   "cell_type": "code",
   "execution_count": 67,
   "metadata": {
    "id": "-mKBAYFZnmBg"
   },
   "outputs": [],
   "source": [
    "telecom_total['false_duration'] = telecom_total.apply(f_duration, axis=1)"
   ]
  },
  {
   "cell_type": "code",
   "execution_count": 68,
   "metadata": {
    "id": "_eyTYMloxxhU"
   },
   "outputs": [],
   "source": [
    "def zero(x):\n",
    "  if x < 0:\n",
    "    return 0\n",
    "  else:\n",
    "    return x"
   ]
  },
  {
   "cell_type": "code",
   "execution_count": 69,
   "metadata": {
    "id": "NgW27VdmsrjG"
   },
   "outputs": [],
   "source": [
    "telecom_total['false_duration'] = telecom_total['false_duration'].apply(zero)"
   ]
  },
  {
   "cell_type": "markdown",
   "metadata": {
    "id": "QS2s1OnDVTMp"
   },
   "source": [
    "Посмотрим, есть ли перерасход. Судя по данным: все укладываются в лимит."
   ]
  },
  {
   "cell_type": "code",
   "execution_count": 70,
   "metadata": {
    "colab": {
     "base_uri": "https://localhost:8080/",
     "height": 49
    },
    "executionInfo": {
     "elapsed": 29,
     "status": "ok",
     "timestamp": 1649914423161,
     "user": {
      "displayName": "Сергей Холоденин",
      "userId": "02339464120149742563"
     },
     "user_tz": -180
    },
    "id": "kTc-OU-zs42k",
    "outputId": "11cb167d-029c-4bc8-fed0-7ccfcc735ec9"
   },
   "outputs": [
    {
     "data": {
      "text/html": [
       "<div>\n",
       "<style scoped>\n",
       "    .dataframe tbody tr th:only-of-type {\n",
       "        vertical-align: middle;\n",
       "    }\n",
       "\n",
       "    .dataframe tbody tr th {\n",
       "        vertical-align: top;\n",
       "    }\n",
       "\n",
       "    .dataframe thead th {\n",
       "        text-align: right;\n",
       "    }\n",
       "</style>\n",
       "<table border=\"1\" class=\"dataframe\">\n",
       "  <thead>\n",
       "    <tr style=\"text-align: right;\">\n",
       "      <th></th>\n",
       "      <th>user_id</th>\n",
       "      <th>month</th>\n",
       "      <th>internal</th>\n",
       "      <th>operator_id</th>\n",
       "      <th>total_call_duration</th>\n",
       "      <th>tariff_plan</th>\n",
       "      <th>date_start</th>\n",
       "      <th>first_month</th>\n",
       "      <th>price_month</th>\n",
       "      <th>IN_price_per_min</th>\n",
       "      <th>OUT_price_per_min</th>\n",
       "      <th>false_duration</th>\n",
       "    </tr>\n",
       "  </thead>\n",
       "  <tbody>\n",
       "  </tbody>\n",
       "</table>\n",
       "</div>"
      ],
      "text/plain": [
       "Empty DataFrame\n",
       "Columns: [user_id, month, internal, operator_id, total_call_duration, tariff_plan, date_start, first_month, price_month, IN_price_per_min, OUT_price_per_min, false_duration]\n",
       "Index: []"
      ]
     },
     "execution_count": 70,
     "metadata": {},
     "output_type": "execute_result"
    }
   ],
   "source": [
    "telecom_total[telecom_total['false_duration'] > 0].head()"
   ]
  },
  {
   "cell_type": "markdown",
   "metadata": {
    "id": "JmZFSi2hWmD_"
   },
   "source": [
    "Т.к. в дальнейшем будут использовать данные с периодическими загрузками, то мы создадим расчет с учетом исходящих внутри сети, для этого столбец `internal` преобразуем."
   ]
  },
  {
   "cell_type": "code",
   "execution_count": 71,
   "metadata": {
    "id": "ZSYU6icozKiy"
   },
   "outputs": [],
   "source": [
    "telecom_total = pd.get_dummies(telecom_total, columns=['internal'])"
   ]
  },
  {
   "cell_type": "code",
   "execution_count": 72,
   "metadata": {
    "id": "Kuq4eNTW0EjY"
   },
   "outputs": [],
   "source": [
    "telecom_total['value'] = (telecom_total['false_duration']*telecom_total['IN_price_per_min']*telecom_total['internal_True']+\n",
    "                                telecom_total['total_call_duration']*telecom_total['OUT_price_per_min']*telecom_total['internal_False'])"
   ]
  },
  {
   "cell_type": "code",
   "execution_count": 73,
   "metadata": {
    "id": "YCxvqXAVXuo6"
   },
   "outputs": [],
   "source": [
    "telecom_total_value = telecom_total.groupby(['user_id','first_month','month']).agg({'total_call_duration':'sum','tariff_plan':'first','price_month':'mean','value':'sum'})"
   ]
  },
  {
   "cell_type": "code",
   "execution_count": 74,
   "metadata": {
    "colab": {
     "base_uri": "https://localhost:8080/",
     "height": 454
    },
    "executionInfo": {
     "elapsed": 30,
     "status": "ok",
     "timestamp": 1649914423166,
     "user": {
      "displayName": "Сергей Холоденин",
      "userId": "02339464120149742563"
     },
     "user_tz": -180
    },
    "id": "smksGgpha0nc",
    "outputId": "355aaca7-cf2e-4362-90d2-3bc05507783c"
   },
   "outputs": [
    {
     "data": {
      "text/html": [
       "<div>\n",
       "<style scoped>\n",
       "    .dataframe tbody tr th:only-of-type {\n",
       "        vertical-align: middle;\n",
       "    }\n",
       "\n",
       "    .dataframe tbody tr th {\n",
       "        vertical-align: top;\n",
       "    }\n",
       "\n",
       "    .dataframe thead th {\n",
       "        text-align: right;\n",
       "    }\n",
       "</style>\n",
       "<table border=\"1\" class=\"dataframe\">\n",
       "  <thead>\n",
       "    <tr style=\"text-align: right;\">\n",
       "      <th></th>\n",
       "      <th></th>\n",
       "      <th></th>\n",
       "      <th>total_call_duration</th>\n",
       "      <th>tariff_plan</th>\n",
       "      <th>price_month</th>\n",
       "      <th>value</th>\n",
       "    </tr>\n",
       "    <tr>\n",
       "      <th>user_id</th>\n",
       "      <th>first_month</th>\n",
       "      <th>month</th>\n",
       "      <th></th>\n",
       "      <th></th>\n",
       "      <th></th>\n",
       "      <th></th>\n",
       "    </tr>\n",
       "  </thead>\n",
       "  <tbody>\n",
       "    <tr>\n",
       "      <th rowspan=\"4\" valign=\"top\">166377</th>\n",
       "      <th rowspan=\"4\" valign=\"top\">2019-08-01</th>\n",
       "      <th>2019-08-01</th>\n",
       "      <td>1303.0</td>\n",
       "      <td>B</td>\n",
       "      <td>2000</td>\n",
       "      <td>650.5</td>\n",
       "    </tr>\n",
       "    <tr>\n",
       "      <th>2019-09-01</th>\n",
       "      <td>1765.0</td>\n",
       "      <td>B</td>\n",
       "      <td>2000</td>\n",
       "      <td>882.0</td>\n",
       "    </tr>\n",
       "    <tr>\n",
       "      <th>2019-10-01</th>\n",
       "      <td>1655.0</td>\n",
       "      <td>B</td>\n",
       "      <td>2000</td>\n",
       "      <td>827.0</td>\n",
       "    </tr>\n",
       "    <tr>\n",
       "      <th>2019-11-01</th>\n",
       "      <td>1593.0</td>\n",
       "      <td>B</td>\n",
       "      <td>2000</td>\n",
       "      <td>795.0</td>\n",
       "    </tr>\n",
       "    <tr>\n",
       "      <th>166391</th>\n",
       "      <th>2019-08-01</th>\n",
       "      <th>2019-08-01</th>\n",
       "      <td>1.0</td>\n",
       "      <td>C</td>\n",
       "      <td>1000</td>\n",
       "      <td>0.0</td>\n",
       "    </tr>\n",
       "    <tr>\n",
       "      <th>...</th>\n",
       "      <th>...</th>\n",
       "      <th>...</th>\n",
       "      <td>...</td>\n",
       "      <td>...</td>\n",
       "      <td>...</td>\n",
       "      <td>...</td>\n",
       "    </tr>\n",
       "    <tr>\n",
       "      <th>168481</th>\n",
       "      <th>2019-10-01</th>\n",
       "      <th>2019-11-01</th>\n",
       "      <td>8.0</td>\n",
       "      <td>B</td>\n",
       "      <td>2000</td>\n",
       "      <td>4.0</td>\n",
       "    </tr>\n",
       "    <tr>\n",
       "      <th>168500</th>\n",
       "      <th>2019-10-01</th>\n",
       "      <th>2019-11-01</th>\n",
       "      <td>2.0</td>\n",
       "      <td>B</td>\n",
       "      <td>2000</td>\n",
       "      <td>0.5</td>\n",
       "    </tr>\n",
       "    <tr>\n",
       "      <th>168601</th>\n",
       "      <th>2019-10-01</th>\n",
       "      <th>2019-11-01</th>\n",
       "      <td>554.0</td>\n",
       "      <td>C</td>\n",
       "      <td>1000</td>\n",
       "      <td>387.8</td>\n",
       "    </tr>\n",
       "    <tr>\n",
       "      <th>168603</th>\n",
       "      <th>2019-10-01</th>\n",
       "      <th>2019-11-01</th>\n",
       "      <td>20.0</td>\n",
       "      <td>B</td>\n",
       "      <td>2000</td>\n",
       "      <td>10.0</td>\n",
       "    </tr>\n",
       "    <tr>\n",
       "      <th>168606</th>\n",
       "      <th>2019-10-01</th>\n",
       "      <th>2019-11-01</th>\n",
       "      <td>80.0</td>\n",
       "      <td>C</td>\n",
       "      <td>1000</td>\n",
       "      <td>11.9</td>\n",
       "    </tr>\n",
       "  </tbody>\n",
       "</table>\n",
       "<p>516 rows × 4 columns</p>\n",
       "</div>"
      ],
      "text/plain": [
       "                                total_call_duration tariff_plan  price_month  \\\n",
       "user_id first_month month                                                      \n",
       "166377  2019-08-01  2019-08-01               1303.0           B         2000   \n",
       "                    2019-09-01               1765.0           B         2000   \n",
       "                    2019-10-01               1655.0           B         2000   \n",
       "                    2019-11-01               1593.0           B         2000   \n",
       "166391  2019-08-01  2019-08-01                  1.0           C         1000   \n",
       "...                                             ...         ...          ...   \n",
       "168481  2019-10-01  2019-11-01                  8.0           B         2000   \n",
       "168500  2019-10-01  2019-11-01                  2.0           B         2000   \n",
       "168601  2019-10-01  2019-11-01                554.0           C         1000   \n",
       "168603  2019-10-01  2019-11-01                 20.0           B         2000   \n",
       "168606  2019-10-01  2019-11-01                 80.0           C         1000   \n",
       "\n",
       "                                value  \n",
       "user_id first_month month              \n",
       "166377  2019-08-01  2019-08-01  650.5  \n",
       "                    2019-09-01  882.0  \n",
       "                    2019-10-01  827.0  \n",
       "                    2019-11-01  795.0  \n",
       "166391  2019-08-01  2019-08-01    0.0  \n",
       "...                               ...  \n",
       "168481  2019-10-01  2019-11-01    4.0  \n",
       "168500  2019-10-01  2019-11-01    0.5  \n",
       "168601  2019-10-01  2019-11-01  387.8  \n",
       "168603  2019-10-01  2019-11-01   10.0  \n",
       "168606  2019-10-01  2019-11-01   11.9  \n",
       "\n",
       "[516 rows x 4 columns]"
      ]
     },
     "execution_count": 74,
     "metadata": {},
     "output_type": "execute_result"
    }
   ],
   "source": [
    "telecom_total_value"
   ]
  },
  {
   "cell_type": "markdown",
   "metadata": {
    "id": "b-36_X-Se0Gi"
   },
   "source": [
    "Мы посчитали, сколько в месяц каждый оператор платит сверх абонентской платы, посчитаем также операторов и абонентскую плату."
   ]
  },
  {
   "cell_type": "markdown",
   "metadata": {
    "id": "qJCUAbLVnPtI"
   },
   "source": [
    "<div class=\"alert alert-success\">\n",
    "<b>Комментарий тимлида v.1</b> \n",
    "    \n",
    "👍 В целом - расчеты проведены корректно.\n",
    "</div>"
   ]
  },
  {
   "cell_type": "code",
   "execution_count": 75,
   "metadata": {
    "id": "s9br7Hu_ebcu"
   },
   "outputs": [],
   "source": [
    "operators_count = telecom_total.groupby(['user_id','first_month','month'])['operator_id'].max()"
   ]
  },
  {
   "cell_type": "markdown",
   "metadata": {
    "id": "116wBUeXnPtJ"
   },
   "source": [
    "<div class=\"alert alert-warning\">\n",
    "<b>Комментарий тимлида v.1</b> \n",
    "    \n",
    "📝 Если я правильно понял, то для расчета количества операторов мы используем данные только по исходящим звонкам? Но, нам нужно не забывать, что у нас могут быть клиенты, которые используют только входящие звонки - их тоже нужно учитывать.\n",
    "</div>"
   ]
  },
  {
   "cell_type": "markdown",
   "metadata": {
    "id": "Jun4ygIeXTEA"
   },
   "source": [
    "<div class=\"alert alert-info\"> \n",
    "<b>Комментарий студента</b> \n",
    "    \n",
    "Да, действительно, я произвожу расчет по исходящим звонкам и пока не учитываю операторов на входящих звонках, потому что:\n",
    "1. Компании приносит выручку в первую очередь тарификация исходящих, при этом их больше чем входящих.\n",
    "2. Мы ищем компании, которым пытаемся предложить оптимизацию тарифов, а это в первую очередь - исходящие\n",
    "3. Если будем учитывать входящих - это исказит результаты исследования по исходящим, исследования будут дополнены входящими ниже.\n",
    "</div>"
   ]
  },
  {
   "cell_type": "markdown",
   "metadata": {
    "id": "EdzycrU-nPsm"
   },
   "source": [
    "<div class=\"alert alert-success\">\n",
    "<b>Комментарий тимлида v.2</b>    \n",
    "    \n",
    "👍 Спасибо, что привел детальное объяснение того, как ты поступил в этом месте. Такие объяснения лучше вставлять в проект перед расчетами - это повысит информативность для читателя проекта и избавит от лишних вопросов :)\n",
    "</div>"
   ]
  },
  {
   "cell_type": "code",
   "execution_count": 76,
   "metadata": {
    "id": "NsTJXQrAgmvl"
   },
   "outputs": [],
   "source": [
    "telecom_total_value = telecom_total_value.join(operators_count)"
   ]
  },
  {
   "cell_type": "code",
   "execution_count": 77,
   "metadata": {
    "id": "SZnnQLibgxm1"
   },
   "outputs": [],
   "source": [
    "telecom_total_value['total_value'] = telecom_total_value['price_month'] + telecom_total_value['operator_id']*100 + telecom_total_value['value']"
   ]
  },
  {
   "cell_type": "code",
   "execution_count": 78,
   "metadata": {
    "colab": {
     "base_uri": "https://localhost:8080/",
     "height": 424
    },
    "executionInfo": {
     "elapsed": 248,
     "status": "ok",
     "timestamp": 1649914423389,
     "user": {
      "displayName": "Сергей Холоденин",
      "userId": "02339464120149742563"
     },
     "user_tz": -180
    },
    "id": "iRdfj03xhqZi",
    "outputId": "38f5ca4a-57ec-4932-dd4a-5457bdb842b8"
   },
   "outputs": [
    {
     "data": {
      "text/html": [
       "<div>\n",
       "<style scoped>\n",
       "    .dataframe tbody tr th:only-of-type {\n",
       "        vertical-align: middle;\n",
       "    }\n",
       "\n",
       "    .dataframe tbody tr th {\n",
       "        vertical-align: top;\n",
       "    }\n",
       "\n",
       "    .dataframe thead th {\n",
       "        text-align: right;\n",
       "    }\n",
       "</style>\n",
       "<table border=\"1\" class=\"dataframe\">\n",
       "  <thead>\n",
       "    <tr style=\"text-align: right;\">\n",
       "      <th></th>\n",
       "      <th>user_id</th>\n",
       "      <th>first_month</th>\n",
       "      <th>month</th>\n",
       "      <th>total_call_duration</th>\n",
       "      <th>tariff_plan</th>\n",
       "      <th>price_month</th>\n",
       "      <th>value</th>\n",
       "      <th>operator_id</th>\n",
       "      <th>total_value</th>\n",
       "    </tr>\n",
       "  </thead>\n",
       "  <tbody>\n",
       "    <tr>\n",
       "      <th>0</th>\n",
       "      <td>166377</td>\n",
       "      <td>2019-08-01</td>\n",
       "      <td>2019-08-01</td>\n",
       "      <td>1303.0</td>\n",
       "      <td>B</td>\n",
       "      <td>2000</td>\n",
       "      <td>650.5</td>\n",
       "      <td>5</td>\n",
       "      <td>3150.5</td>\n",
       "    </tr>\n",
       "    <tr>\n",
       "      <th>1</th>\n",
       "      <td>166377</td>\n",
       "      <td>2019-08-01</td>\n",
       "      <td>2019-09-01</td>\n",
       "      <td>1765.0</td>\n",
       "      <td>B</td>\n",
       "      <td>2000</td>\n",
       "      <td>882.0</td>\n",
       "      <td>4</td>\n",
       "      <td>3282.0</td>\n",
       "    </tr>\n",
       "    <tr>\n",
       "      <th>2</th>\n",
       "      <td>166377</td>\n",
       "      <td>2019-08-01</td>\n",
       "      <td>2019-10-01</td>\n",
       "      <td>1655.0</td>\n",
       "      <td>B</td>\n",
       "      <td>2000</td>\n",
       "      <td>827.0</td>\n",
       "      <td>5</td>\n",
       "      <td>3327.0</td>\n",
       "    </tr>\n",
       "    <tr>\n",
       "      <th>3</th>\n",
       "      <td>166377</td>\n",
       "      <td>2019-08-01</td>\n",
       "      <td>2019-11-01</td>\n",
       "      <td>1593.0</td>\n",
       "      <td>B</td>\n",
       "      <td>2000</td>\n",
       "      <td>795.0</td>\n",
       "      <td>4</td>\n",
       "      <td>3195.0</td>\n",
       "    </tr>\n",
       "    <tr>\n",
       "      <th>4</th>\n",
       "      <td>166391</td>\n",
       "      <td>2019-08-01</td>\n",
       "      <td>2019-08-01</td>\n",
       "      <td>1.0</td>\n",
       "      <td>C</td>\n",
       "      <td>1000</td>\n",
       "      <td>0.0</td>\n",
       "      <td>1</td>\n",
       "      <td>1100.0</td>\n",
       "    </tr>\n",
       "    <tr>\n",
       "      <th>...</th>\n",
       "      <td>...</td>\n",
       "      <td>...</td>\n",
       "      <td>...</td>\n",
       "      <td>...</td>\n",
       "      <td>...</td>\n",
       "      <td>...</td>\n",
       "      <td>...</td>\n",
       "      <td>...</td>\n",
       "      <td>...</td>\n",
       "    </tr>\n",
       "    <tr>\n",
       "      <th>511</th>\n",
       "      <td>168481</td>\n",
       "      <td>2019-10-01</td>\n",
       "      <td>2019-11-01</td>\n",
       "      <td>8.0</td>\n",
       "      <td>B</td>\n",
       "      <td>2000</td>\n",
       "      <td>4.0</td>\n",
       "      <td>3</td>\n",
       "      <td>2304.0</td>\n",
       "    </tr>\n",
       "    <tr>\n",
       "      <th>512</th>\n",
       "      <td>168500</td>\n",
       "      <td>2019-10-01</td>\n",
       "      <td>2019-11-01</td>\n",
       "      <td>2.0</td>\n",
       "      <td>B</td>\n",
       "      <td>2000</td>\n",
       "      <td>0.5</td>\n",
       "      <td>1</td>\n",
       "      <td>2100.5</td>\n",
       "    </tr>\n",
       "    <tr>\n",
       "      <th>513</th>\n",
       "      <td>168601</td>\n",
       "      <td>2019-10-01</td>\n",
       "      <td>2019-11-01</td>\n",
       "      <td>554.0</td>\n",
       "      <td>C</td>\n",
       "      <td>1000</td>\n",
       "      <td>387.8</td>\n",
       "      <td>2</td>\n",
       "      <td>1587.8</td>\n",
       "    </tr>\n",
       "    <tr>\n",
       "      <th>514</th>\n",
       "      <td>168603</td>\n",
       "      <td>2019-10-01</td>\n",
       "      <td>2019-11-01</td>\n",
       "      <td>20.0</td>\n",
       "      <td>B</td>\n",
       "      <td>2000</td>\n",
       "      <td>10.0</td>\n",
       "      <td>1</td>\n",
       "      <td>2110.0</td>\n",
       "    </tr>\n",
       "    <tr>\n",
       "      <th>515</th>\n",
       "      <td>168606</td>\n",
       "      <td>2019-10-01</td>\n",
       "      <td>2019-11-01</td>\n",
       "      <td>80.0</td>\n",
       "      <td>C</td>\n",
       "      <td>1000</td>\n",
       "      <td>11.9</td>\n",
       "      <td>1</td>\n",
       "      <td>1111.9</td>\n",
       "    </tr>\n",
       "  </tbody>\n",
       "</table>\n",
       "<p>516 rows × 9 columns</p>\n",
       "</div>"
      ],
      "text/plain": [
       "     user_id first_month      month  total_call_duration tariff_plan  \\\n",
       "0     166377  2019-08-01 2019-08-01               1303.0           B   \n",
       "1     166377  2019-08-01 2019-09-01               1765.0           B   \n",
       "2     166377  2019-08-01 2019-10-01               1655.0           B   \n",
       "3     166377  2019-08-01 2019-11-01               1593.0           B   \n",
       "4     166391  2019-08-01 2019-08-01                  1.0           C   \n",
       "..       ...         ...        ...                  ...         ...   \n",
       "511   168481  2019-10-01 2019-11-01                  8.0           B   \n",
       "512   168500  2019-10-01 2019-11-01                  2.0           B   \n",
       "513   168601  2019-10-01 2019-11-01                554.0           C   \n",
       "514   168603  2019-10-01 2019-11-01                 20.0           B   \n",
       "515   168606  2019-10-01 2019-11-01                 80.0           C   \n",
       "\n",
       "     price_month  value  operator_id  total_value  \n",
       "0           2000  650.5            5       3150.5  \n",
       "1           2000  882.0            4       3282.0  \n",
       "2           2000  827.0            5       3327.0  \n",
       "3           2000  795.0            4       3195.0  \n",
       "4           1000    0.0            1       1100.0  \n",
       "..           ...    ...          ...          ...  \n",
       "511         2000    4.0            3       2304.0  \n",
       "512         2000    0.5            1       2100.5  \n",
       "513         1000  387.8            2       1587.8  \n",
       "514         2000   10.0            1       2110.0  \n",
       "515         1000   11.9            1       1111.9  \n",
       "\n",
       "[516 rows x 9 columns]"
      ]
     },
     "execution_count": 78,
     "metadata": {},
     "output_type": "execute_result"
    }
   ],
   "source": [
    "telecom_total_value.reset_index(inplace=True)\n",
    "telecom_total_value"
   ]
  },
  {
   "cell_type": "markdown",
   "metadata": {
    "id": "WspW09NKhTrI"
   },
   "source": [
    "У нас теперь есть данные по реальным расходам по каждому клиенту. Посчитаем средний чек."
   ]
  },
  {
   "cell_type": "markdown",
   "metadata": {
    "id": "VLdaKsmQnPtL"
   },
   "source": [
    "<div class=\"alert alert-danger\">\n",
    "<b>Комментарий тимлида v.1</b> \n",
    "    \n",
    "✍ Сергей, проверь, пожалуйста, подсчет количества уникальных операторов - тут, кажется, есть неточность: данные в таблице `telecom_total` по операторам уже агрегированы, поэтому, нам лучше использовать `.agg({\"operator_id\" : 'max'})` при агрегации данных. Соответственно после этого нужно проверить общие выводы, так как суммы затрат изменятся. Поэтому, дальше я посмотрю проект по смыслу.\n",
    "</div>"
   ]
  },
  {
   "cell_type": "markdown",
   "metadata": {
    "id": "WEEAmspELMr5"
   },
   "source": [
    "<div class=\"alert alert-info\"> \n",
    "<b>Комментарий студента</b> \n",
    "    \n",
    "Спасибо, что обратил мое внимание на это, я действительно не заметил, поправил расчеты и средний чек чуть изменился.\n",
    "</div>"
   ]
  },
  {
   "cell_type": "markdown",
   "metadata": {
    "id": "EdzycrU-nPsm"
   },
   "source": [
    "<div class=\"alert alert-success\">\n",
    "<b>Комментарий тимлида v.2</b>    \n",
    "    \n",
    "👍 Теперь все корректно! Спасибо, что разобрал этот момент.\n",
    "</div>"
   ]
  },
  {
   "cell_type": "markdown",
   "metadata": {
    "id": "SpMOtCGChg4a"
   },
   "source": [
    "### Расчет среднего чека по месяцам"
   ]
  },
  {
   "cell_type": "markdown",
   "metadata": {
    "id": "5O99L_6zWBb7"
   },
   "source": [
    "Посмотрим распределение среднего чека по тарифам в разрезе месяца."
   ]
  },
  {
   "cell_type": "code",
   "execution_count": 79,
   "metadata": {
    "colab": {
     "base_uri": "https://localhost:8080/",
     "height": 749
    },
    "executionInfo": {
     "elapsed": 927,
     "status": "ok",
     "timestamp": 1649914424310,
     "user": {
      "displayName": "Сергей Холоденин",
      "userId": "02339464120149742563"
     },
     "user_tz": -180
    },
    "id": "krqAIko5Ou3P",
    "outputId": "31d4e171-876d-4476-9878-0cf32dd4e44c"
   },
   "outputs": [
    {
     "data": {
      "image/png": "[encoded data removed]",
      "text/plain": [
       "<Figure size 936x648 with 2 Axes>"
      ]
     },
     "metadata": {},
     "output_type": "display_data"
    }
   ],
   "source": [
    "df_t = telecom_total_value.groupby(['tariff_plan','month'])['total_value'].mean().reset_index()\n",
    "sns.set(style='white')\n",
    "plt.figure(figsize=(13, 9))\n",
    "plt.title('Средний чек тарифов по месяцам')\n",
    "plt.xlabel('Месяц')\n",
    "plt.ylabel('Тарифный план')\n",
    "sns.heatmap(\n",
    "    df_t.pivot_table(\n",
    "      index='tariff_plan',\n",
    "      columns='month',\n",
    "      values='total_value',\n",
    "      aggfunc='mean'\n",
    "    ), annot=True, fmt='.0f', linewidths=1, linecolor='gray'\n",
    ")\n",
    "plt.show()"
   ]
  },
  {
   "cell_type": "markdown",
   "metadata": {
    "id": "0SjA9L0jWJIf"
   },
   "source": [
    "Из данных видно, что наиболее высокий средний чек у тарифа А, тариф С приносит наименьший средний чек. Это приводит к выводам, что перевод всех клиентов на один тариф серьезно повлияет на иотговую выручку компании. Соответственно, следует искать более компромиссные варианты."
   ]
  },
  {
   "cell_type": "markdown",
   "metadata": {
    "id": "Xv_eLDxAfv4B"
   },
   "source": [
    "Посчитаем средний чек в месяц и посмотрим как он меняется среди операторов по их когортам."
   ]
  },
  {
   "cell_type": "code",
   "execution_count": 80,
   "metadata": {
    "colab": {
     "base_uri": "https://localhost:8080/",
     "height": 332
    },
    "executionInfo": {
     "elapsed": 21,
     "status": "ok",
     "timestamp": 1649914424313,
     "user": {
      "displayName": "Сергей Холоденин",
      "userId": "02339464120149742563"
     },
     "user_tz": -180
    },
    "id": "kb3WYIuuhsDC",
    "outputId": "22122f4e-2dfb-4ac9-b443-c63235b9a222"
   },
   "outputs": [
    {
     "data": {
      "text/html": [
       "<div>\n",
       "<style scoped>\n",
       "    .dataframe tbody tr th:only-of-type {\n",
       "        vertical-align: middle;\n",
       "    }\n",
       "\n",
       "    .dataframe tbody tr th {\n",
       "        vertical-align: top;\n",
       "    }\n",
       "\n",
       "    .dataframe thead th {\n",
       "        text-align: right;\n",
       "    }\n",
       "</style>\n",
       "<table border=\"1\" class=\"dataframe\">\n",
       "  <thead>\n",
       "    <tr style=\"text-align: right;\">\n",
       "      <th></th>\n",
       "      <th>first_month</th>\n",
       "      <th>month</th>\n",
       "      <th>total_value</th>\n",
       "      <th>user_id</th>\n",
       "      <th>revenue_per_user</th>\n",
       "    </tr>\n",
       "  </thead>\n",
       "  <tbody>\n",
       "    <tr>\n",
       "      <th>0</th>\n",
       "      <td>2019-08-01</td>\n",
       "      <td>2019-08-01</td>\n",
       "      <td>129928.6</td>\n",
       "      <td>50</td>\n",
       "      <td>2599</td>\n",
       "    </tr>\n",
       "    <tr>\n",
       "      <th>1</th>\n",
       "      <td>2019-08-01</td>\n",
       "      <td>2019-09-01</td>\n",
       "      <td>215465.4</td>\n",
       "      <td>70</td>\n",
       "      <td>3078</td>\n",
       "    </tr>\n",
       "    <tr>\n",
       "      <th>2</th>\n",
       "      <td>2019-08-01</td>\n",
       "      <td>2019-10-01</td>\n",
       "      <td>198937.0</td>\n",
       "      <td>63</td>\n",
       "      <td>3158</td>\n",
       "    </tr>\n",
       "    <tr>\n",
       "      <th>3</th>\n",
       "      <td>2019-08-01</td>\n",
       "      <td>2019-11-01</td>\n",
       "      <td>159336.9</td>\n",
       "      <td>59</td>\n",
       "      <td>2701</td>\n",
       "    </tr>\n",
       "    <tr>\n",
       "      <th>4</th>\n",
       "      <td>2019-09-01</td>\n",
       "      <td>2019-09-01</td>\n",
       "      <td>121149.6</td>\n",
       "      <td>49</td>\n",
       "      <td>2472</td>\n",
       "    </tr>\n",
       "    <tr>\n",
       "      <th>5</th>\n",
       "      <td>2019-09-01</td>\n",
       "      <td>2019-10-01</td>\n",
       "      <td>164970.8</td>\n",
       "      <td>55</td>\n",
       "      <td>2999</td>\n",
       "    </tr>\n",
       "    <tr>\n",
       "      <th>6</th>\n",
       "      <td>2019-09-01</td>\n",
       "      <td>2019-11-01</td>\n",
       "      <td>123768.3</td>\n",
       "      <td>56</td>\n",
       "      <td>2210</td>\n",
       "    </tr>\n",
       "    <tr>\n",
       "      <th>7</th>\n",
       "      <td>2019-10-01</td>\n",
       "      <td>2019-10-01</td>\n",
       "      <td>151668.3</td>\n",
       "      <td>50</td>\n",
       "      <td>3033</td>\n",
       "    </tr>\n",
       "    <tr>\n",
       "      <th>8</th>\n",
       "      <td>2019-10-01</td>\n",
       "      <td>2019-11-01</td>\n",
       "      <td>239400.9</td>\n",
       "      <td>64</td>\n",
       "      <td>3741</td>\n",
       "    </tr>\n",
       "  </tbody>\n",
       "</table>\n",
       "</div>"
      ],
      "text/plain": [
       "  first_month      month  total_value  user_id  revenue_per_user\n",
       "0  2019-08-01 2019-08-01     129928.6       50              2599\n",
       "1  2019-08-01 2019-09-01     215465.4       70              3078\n",
       "2  2019-08-01 2019-10-01     198937.0       63              3158\n",
       "3  2019-08-01 2019-11-01     159336.9       59              2701\n",
       "4  2019-09-01 2019-09-01     121149.6       49              2472\n",
       "5  2019-09-01 2019-10-01     164970.8       55              2999\n",
       "6  2019-09-01 2019-11-01     123768.3       56              2210\n",
       "7  2019-10-01 2019-10-01     151668.3       50              3033\n",
       "8  2019-10-01 2019-11-01     239400.9       64              3741"
      ]
     },
     "execution_count": 80,
     "metadata": {},
     "output_type": "execute_result"
    }
   ],
   "source": [
    "telecom_total_value_groupby_cohorts = telecom_total_value.groupby(['first_month', 'month']).agg({'total_value':'sum', 'user_id':'count'})\n",
    "telecom_total_value_groupby_cohorts['revenue_per_user'] = telecom_total_value_groupby_cohorts['total_value']/telecom_total_value_groupby_cohorts['user_id']\n",
    "telecom_total_value_groupby_cohorts['revenue_per_user'] = telecom_total_value_groupby_cohorts['revenue_per_user'].round().astype('int')\n",
    "telecom_total_value_groupby_cohorts.reset_index(inplace=True)\n",
    "telecom_total_value_groupby_cohorts"
   ]
  },
  {
   "cell_type": "markdown",
   "metadata": {
    "id": "qEvoZYFznPtO"
   },
   "source": [
    "<div class=\"alert alert-warning\">\n",
    "<b>Комментарий тимлида v.1</b> \n",
    "    \n",
    "📝 Тут мы не учитываем тарифный план, так как абонентская плата определяет чек для каждого клиента. Поэтому, в начале лучше проанализировать поведение среднего чека по тарифам, а уже потом в целом для всех данных.\n",
    "</div>"
   ]
  },
  {
   "cell_type": "markdown",
   "metadata": {
    "id": "QlqHggPUYciI"
   },
   "source": [
    "<div class=\"alert alert-info\"> \n",
    "<b>Комментарий студента</b> \n",
    "    \n",
    "Проанализировал поведение среднего чека по тарифам согласно рекомендации, дополнил выводы.\n",
    "</div>"
   ]
  },
  {
   "cell_type": "markdown",
   "metadata": {
    "id": "EdzycrU-nPsm"
   },
   "source": [
    "<div class=\"alert alert-success\">\n",
    "<b>Комментарий тимлида v.2</b>    \n",
    "    \n",
    "👍 Спасибо, теперь этот момент разобран.\n",
    "</div>"
   ]
  },
  {
   "cell_type": "code",
   "execution_count": 81,
   "metadata": {
    "id": "VDcuU6vCOTAB"
   },
   "outputs": [],
   "source": [
    "telecom_total_value_groupby_cohorts['cohort_lifetime'] = (\n",
    "    (telecom_total_value_groupby_cohorts['month'] - telecom_total_value_groupby_cohorts['first_month'])/np.timedelta64(1, 'M')).round().astype('int')"
   ]
  },
  {
   "cell_type": "code",
   "execution_count": 82,
   "metadata": {
    "colab": {
     "base_uri": "https://localhost:8080/",
     "height": 332
    },
    "executionInfo": {
     "elapsed": 19,
     "status": "ok",
     "timestamp": 1649914424315,
     "user": {
      "displayName": "Сергей Холоденин",
      "userId": "02339464120149742563"
     },
     "user_tz": -180
    },
    "id": "DGsvqroeSxhc",
    "outputId": "f79996e0-4782-48b4-c8a9-18f0e8898247"
   },
   "outputs": [
    {
     "data": {
      "text/html": [
       "<div>\n",
       "<style scoped>\n",
       "    .dataframe tbody tr th:only-of-type {\n",
       "        vertical-align: middle;\n",
       "    }\n",
       "\n",
       "    .dataframe tbody tr th {\n",
       "        vertical-align: top;\n",
       "    }\n",
       "\n",
       "    .dataframe thead th {\n",
       "        text-align: right;\n",
       "    }\n",
       "</style>\n",
       "<table border=\"1\" class=\"dataframe\">\n",
       "  <thead>\n",
       "    <tr style=\"text-align: right;\">\n",
       "      <th></th>\n",
       "      <th>first_month</th>\n",
       "      <th>month</th>\n",
       "      <th>total_value</th>\n",
       "      <th>user_id</th>\n",
       "      <th>revenue_per_user</th>\n",
       "      <th>cohort_lifetime</th>\n",
       "    </tr>\n",
       "  </thead>\n",
       "  <tbody>\n",
       "    <tr>\n",
       "      <th>0</th>\n",
       "      <td>2019-08-01</td>\n",
       "      <td>2019-08-01</td>\n",
       "      <td>129928.6</td>\n",
       "      <td>50</td>\n",
       "      <td>2599</td>\n",
       "      <td>0</td>\n",
       "    </tr>\n",
       "    <tr>\n",
       "      <th>1</th>\n",
       "      <td>2019-08-01</td>\n",
       "      <td>2019-09-01</td>\n",
       "      <td>215465.4</td>\n",
       "      <td>70</td>\n",
       "      <td>3078</td>\n",
       "      <td>1</td>\n",
       "    </tr>\n",
       "    <tr>\n",
       "      <th>2</th>\n",
       "      <td>2019-08-01</td>\n",
       "      <td>2019-10-01</td>\n",
       "      <td>198937.0</td>\n",
       "      <td>63</td>\n",
       "      <td>3158</td>\n",
       "      <td>2</td>\n",
       "    </tr>\n",
       "    <tr>\n",
       "      <th>3</th>\n",
       "      <td>2019-08-01</td>\n",
       "      <td>2019-11-01</td>\n",
       "      <td>159336.9</td>\n",
       "      <td>59</td>\n",
       "      <td>2701</td>\n",
       "      <td>3</td>\n",
       "    </tr>\n",
       "    <tr>\n",
       "      <th>4</th>\n",
       "      <td>2019-09-01</td>\n",
       "      <td>2019-09-01</td>\n",
       "      <td>121149.6</td>\n",
       "      <td>49</td>\n",
       "      <td>2472</td>\n",
       "      <td>0</td>\n",
       "    </tr>\n",
       "    <tr>\n",
       "      <th>5</th>\n",
       "      <td>2019-09-01</td>\n",
       "      <td>2019-10-01</td>\n",
       "      <td>164970.8</td>\n",
       "      <td>55</td>\n",
       "      <td>2999</td>\n",
       "      <td>1</td>\n",
       "    </tr>\n",
       "    <tr>\n",
       "      <th>6</th>\n",
       "      <td>2019-09-01</td>\n",
       "      <td>2019-11-01</td>\n",
       "      <td>123768.3</td>\n",
       "      <td>56</td>\n",
       "      <td>2210</td>\n",
       "      <td>2</td>\n",
       "    </tr>\n",
       "    <tr>\n",
       "      <th>7</th>\n",
       "      <td>2019-10-01</td>\n",
       "      <td>2019-10-01</td>\n",
       "      <td>151668.3</td>\n",
       "      <td>50</td>\n",
       "      <td>3033</td>\n",
       "      <td>0</td>\n",
       "    </tr>\n",
       "    <tr>\n",
       "      <th>8</th>\n",
       "      <td>2019-10-01</td>\n",
       "      <td>2019-11-01</td>\n",
       "      <td>239400.9</td>\n",
       "      <td>64</td>\n",
       "      <td>3741</td>\n",
       "      <td>1</td>\n",
       "    </tr>\n",
       "  </tbody>\n",
       "</table>\n",
       "</div>"
      ],
      "text/plain": [
       "  first_month      month  total_value  user_id  revenue_per_user  \\\n",
       "0  2019-08-01 2019-08-01     129928.6       50              2599   \n",
       "1  2019-08-01 2019-09-01     215465.4       70              3078   \n",
       "2  2019-08-01 2019-10-01     198937.0       63              3158   \n",
       "3  2019-08-01 2019-11-01     159336.9       59              2701   \n",
       "4  2019-09-01 2019-09-01     121149.6       49              2472   \n",
       "5  2019-09-01 2019-10-01     164970.8       55              2999   \n",
       "6  2019-09-01 2019-11-01     123768.3       56              2210   \n",
       "7  2019-10-01 2019-10-01     151668.3       50              3033   \n",
       "8  2019-10-01 2019-11-01     239400.9       64              3741   \n",
       "\n",
       "   cohort_lifetime  \n",
       "0                0  \n",
       "1                1  \n",
       "2                2  \n",
       "3                3  \n",
       "4                0  \n",
       "5                1  \n",
       "6                2  \n",
       "7                0  \n",
       "8                1  "
      ]
     },
     "execution_count": 82,
     "metadata": {},
     "output_type": "execute_result"
    }
   ],
   "source": [
    "telecom_total_value_groupby_cohorts"
   ]
  },
  {
   "cell_type": "code",
   "execution_count": 83,
   "metadata": {
    "colab": {
     "base_uri": "https://localhost:8080/",
     "height": 573
    },
    "executionInfo": {
     "elapsed": 651,
     "status": "ok",
     "timestamp": 1649914424949,
     "user": {
      "displayName": "Сергей Холоденин",
      "userId": "02339464120149742563"
     },
     "user_tz": -180
    },
    "id": "xzp3lBrmcNz6",
    "outputId": "f5b20897-3e9f-4c99-e32f-f89796fc55c0"
   },
   "outputs": [
    {
     "data": {
      "image/png": "[encoded data removed]",
      "text/plain": [
       "<Figure size 936x648 with 2 Axes>"
      ]
     },
     "metadata": {},
     "output_type": "display_data"
    }
   ],
   "source": [
    "revenue_per_user_pivot = telecom_total_value_groupby_cohorts.pivot_table(\n",
    "    index='first_month',\n",
    "    columns='cohort_lifetime',\n",
    "    values='revenue_per_user',\n",
    "    aggfunc='mean',\n",
    ")\n",
    "sns.set(style='white')\n",
    "plt.figure(figsize=(13, 9))\n",
    "plt.title('Средний чек по месяцам')\n",
    "sns.heatmap(revenue_per_user_pivot, annot=True, fmt='.0f', linewidths=1, linecolor='gray')\n",
    "plt.show()"
   ]
  },
  {
   "cell_type": "markdown",
   "metadata": {
    "id": "af3YQ2AggPWw"
   },
   "source": [
    "Из данных видно, что средний чек в когортах растет, но в последнем месяце падает, кроме последней когорты. Это может говорить о том, что более ранние клиенты начали переходить на другого оператора. "
   ]
  },
  {
   "cell_type": "markdown",
   "metadata": {
    "id": "7HLNET6RnPtQ"
   },
   "source": [
    "<div class=\"alert alert-success\">\n",
    "<b>Комментарий тимлида v.1</b> \n",
    "    \n",
    "👍 В целом тут все отлично по задумке и выводам - интересные данные. Видимо сказывается появление конкурента.\n",
    "</div>"
   ]
  },
  {
   "cell_type": "markdown",
   "metadata": {
    "id": "Jp2kdLkO3gSB"
   },
   "source": [
    "### Расчет retantion rate и churn rate за последний месяц активности"
   ]
  },
  {
   "cell_type": "markdown",
   "metadata": {
    "id": "j4eWGigh3z1-"
   },
   "source": [
    "Создадим датасет с информацией по активности исходящих вызовов по каждому клиенту."
   ]
  },
  {
   "cell_type": "code",
   "execution_count": 84,
   "metadata": {
    "id": "7tJLOzP-dpmJ"
   },
   "outputs": [],
   "source": [
    "user_activity = telecom_dataset.query('date >= \"2019-11-01\" and direction == \"out\" and internal == False')[['user_id','date']]"
   ]
  },
  {
   "cell_type": "markdown",
   "metadata": {
    "id": "dP8fCuhJnPtR"
   },
   "source": [
    "<div class=\"alert alert-warning\">\n",
    "<b>Комментарий тимлида v.1</b> \n",
    "    \n",
    "📝 Тут опять мы игнорируем клиентов, которые могут работать только на входящие звонки.\n",
    "</div>"
   ]
  },
  {
   "cell_type": "markdown",
   "metadata": {
    "id": "zNEfoPTRYtb_"
   },
   "source": [
    "<div class=\"alert alert-info\"> \n",
    "<b>Комментарий студента</b> \n",
    "    \n",
    "Повторюсь: сконцентрировался на удержании клиентов, которыее переплачивают - а это в первую очередь те, кто работают на исходящих, поэтому и строил анализ на исходящих. входящие я уже включил ниже в работе, когда разрабатывал предложения.\n",
    "</div>"
   ]
  },
  {
   "cell_type": "markdown",
   "metadata": {
    "id": "EdzycrU-nPsm"
   },
   "source": [
    "<div class=\"alert alert-success\">\n",
    "<b>Комментарий тимлида v.2</b>    \n",
    "    \n",
    "👍 Теперь вопросов больше нет :) Спасибо!\n",
    "</div>"
   ]
  },
  {
   "cell_type": "markdown",
   "metadata": {
    "id": "CaG1Raf94L8b"
   },
   "source": [
    "Разделим данные по неделям, чтобы отследить активность внутри месяца для расчета RR и CR."
   ]
  },
  {
   "cell_type": "code",
   "execution_count": 85,
   "metadata": {
    "id": "TUe6aS_GdL3I"
   },
   "outputs": [],
   "source": [
    "user_activity['activity_week'] = pd.to_datetime(\n",
    "    user_activity['date'], unit='d'\n",
    ") - pd.to_timedelta(user_activity['date'].dt.dayofweek, unit='d')"
   ]
  },
  {
   "cell_type": "code",
   "execution_count": 86,
   "metadata": {
    "id": "PhnGiTdmdqPE"
   },
   "outputs": [],
   "source": [
    "first_activity_date = user_activity.groupby(['user_id'])['date'].min()\n",
    "first_activity_date.name = 'first_activity_date'\n",
    "user_activity = user_activity.join(first_activity_date,on='user_id')"
   ]
  },
  {
   "cell_type": "code",
   "execution_count": 87,
   "metadata": {
    "id": "iBchDdY9eHzu"
   },
   "outputs": [],
   "source": [
    "user_activity['first_activity_week'] = pd.to_datetime(\n",
    "    user_activity['first_activity_date'], unit='d'\n",
    ") - pd.to_timedelta(\n",
    "    user_activity['first_activity_date'].dt.dayofweek, unit='d')"
   ]
  },
  {
   "cell_type": "markdown",
   "metadata": {
    "id": "thM3g0ty4ZWM"
   },
   "source": [
    "Посчитаем время жизни когорт по активности клиентов."
   ]
  },
  {
   "cell_type": "code",
   "execution_count": 88,
   "metadata": {
    "id": "tjrH89TNeeS-"
   },
   "outputs": [],
   "source": [
    "user_activity['cohort_lifetime'] = (\n",
    "    user_activity['activity_week'] - user_activity['first_activity_week']\n",
    ")\n",
    "user_activity['cohort_lifetime'] = user_activity[\n",
    "    'cohort_lifetime'\n",
    "] / np.timedelta64(1, 'W')\n",
    "user_activity['cohort_lifetime'] = user_activity['cohort_lifetime'].astype(\n",
    "    'int'\n",
    ") "
   ]
  },
  {
   "cell_type": "code",
   "execution_count": 89,
   "metadata": {
    "colab": {
     "base_uri": "https://localhost:8080/",
     "height": 424
    },
    "executionInfo": {
     "elapsed": 18,
     "status": "ok",
     "timestamp": 1649914425674,
     "user": {
      "displayName": "Сергей Холоденин",
      "userId": "02339464120149742563"
     },
     "user_tz": -180
    },
    "id": "NlNvWh8_kZdz",
    "outputId": "b8c22390-a3f8-4e54-89f6-933c684250cf"
   },
   "outputs": [
    {
     "data": {
      "text/html": [
       "<div>\n",
       "<style scoped>\n",
       "    .dataframe tbody tr th:only-of-type {\n",
       "        vertical-align: middle;\n",
       "    }\n",
       "\n",
       "    .dataframe tbody tr th {\n",
       "        vertical-align: top;\n",
       "    }\n",
       "\n",
       "    .dataframe thead th {\n",
       "        text-align: right;\n",
       "    }\n",
       "</style>\n",
       "<table border=\"1\" class=\"dataframe\">\n",
       "  <thead>\n",
       "    <tr style=\"text-align: right;\">\n",
       "      <th></th>\n",
       "      <th>user_id</th>\n",
       "      <th>date</th>\n",
       "      <th>activity_week</th>\n",
       "      <th>first_activity_date</th>\n",
       "      <th>first_activity_week</th>\n",
       "      <th>cohort_lifetime</th>\n",
       "    </tr>\n",
       "  </thead>\n",
       "  <tbody>\n",
       "    <tr>\n",
       "      <th>438</th>\n",
       "      <td>166377</td>\n",
       "      <td>2019-11-01</td>\n",
       "      <td>2019-10-28</td>\n",
       "      <td>2019-11-01</td>\n",
       "      <td>2019-10-28</td>\n",
       "      <td>0</td>\n",
       "    </tr>\n",
       "    <tr>\n",
       "      <th>440</th>\n",
       "      <td>166377</td>\n",
       "      <td>2019-11-01</td>\n",
       "      <td>2019-10-28</td>\n",
       "      <td>2019-11-01</td>\n",
       "      <td>2019-10-28</td>\n",
       "      <td>0</td>\n",
       "    </tr>\n",
       "    <tr>\n",
       "      <th>441</th>\n",
       "      <td>166377</td>\n",
       "      <td>2019-11-01</td>\n",
       "      <td>2019-10-28</td>\n",
       "      <td>2019-11-01</td>\n",
       "      <td>2019-10-28</td>\n",
       "      <td>0</td>\n",
       "    </tr>\n",
       "    <tr>\n",
       "      <th>442</th>\n",
       "      <td>166377</td>\n",
       "      <td>2019-11-01</td>\n",
       "      <td>2019-10-28</td>\n",
       "      <td>2019-11-01</td>\n",
       "      <td>2019-10-28</td>\n",
       "      <td>0</td>\n",
       "    </tr>\n",
       "    <tr>\n",
       "      <th>444</th>\n",
       "      <td>166377</td>\n",
       "      <td>2019-11-05</td>\n",
       "      <td>2019-11-04</td>\n",
       "      <td>2019-11-01</td>\n",
       "      <td>2019-10-28</td>\n",
       "      <td>1</td>\n",
       "    </tr>\n",
       "    <tr>\n",
       "      <th>...</th>\n",
       "      <td>...</td>\n",
       "      <td>...</td>\n",
       "      <td>...</td>\n",
       "      <td>...</td>\n",
       "      <td>...</td>\n",
       "      <td>...</td>\n",
       "    </tr>\n",
       "    <tr>\n",
       "      <th>53887</th>\n",
       "      <td>168603</td>\n",
       "      <td>2019-11-21</td>\n",
       "      <td>2019-11-18</td>\n",
       "      <td>2019-11-12</td>\n",
       "      <td>2019-11-11</td>\n",
       "      <td>1</td>\n",
       "    </tr>\n",
       "    <tr>\n",
       "      <th>53888</th>\n",
       "      <td>168603</td>\n",
       "      <td>2019-11-27</td>\n",
       "      <td>2019-11-25</td>\n",
       "      <td>2019-11-12</td>\n",
       "      <td>2019-11-11</td>\n",
       "      <td>2</td>\n",
       "    </tr>\n",
       "    <tr>\n",
       "      <th>53890</th>\n",
       "      <td>168606</td>\n",
       "      <td>2019-11-08</td>\n",
       "      <td>2019-11-04</td>\n",
       "      <td>2019-11-08</td>\n",
       "      <td>2019-11-04</td>\n",
       "      <td>0</td>\n",
       "    </tr>\n",
       "    <tr>\n",
       "      <th>53892</th>\n",
       "      <td>168606</td>\n",
       "      <td>2019-11-08</td>\n",
       "      <td>2019-11-04</td>\n",
       "      <td>2019-11-08</td>\n",
       "      <td>2019-11-04</td>\n",
       "      <td>0</td>\n",
       "    </tr>\n",
       "    <tr>\n",
       "      <th>53895</th>\n",
       "      <td>168606</td>\n",
       "      <td>2019-11-09</td>\n",
       "      <td>2019-11-04</td>\n",
       "      <td>2019-11-08</td>\n",
       "      <td>2019-11-04</td>\n",
       "      <td>0</td>\n",
       "    </tr>\n",
       "  </tbody>\n",
       "</table>\n",
       "<p>10486 rows × 6 columns</p>\n",
       "</div>"
      ],
      "text/plain": [
       "       user_id       date activity_week first_activity_date  \\\n",
       "438     166377 2019-11-01    2019-10-28          2019-11-01   \n",
       "440     166377 2019-11-01    2019-10-28          2019-11-01   \n",
       "441     166377 2019-11-01    2019-10-28          2019-11-01   \n",
       "442     166377 2019-11-01    2019-10-28          2019-11-01   \n",
       "444     166377 2019-11-05    2019-11-04          2019-11-01   \n",
       "...        ...        ...           ...                 ...   \n",
       "53887   168603 2019-11-21    2019-11-18          2019-11-12   \n",
       "53888   168603 2019-11-27    2019-11-25          2019-11-12   \n",
       "53890   168606 2019-11-08    2019-11-04          2019-11-08   \n",
       "53892   168606 2019-11-08    2019-11-04          2019-11-08   \n",
       "53895   168606 2019-11-09    2019-11-04          2019-11-08   \n",
       "\n",
       "      first_activity_week  cohort_lifetime  \n",
       "438            2019-10-28                0  \n",
       "440            2019-10-28                0  \n",
       "441            2019-10-28                0  \n",
       "442            2019-10-28                0  \n",
       "444            2019-10-28                1  \n",
       "...                   ...              ...  \n",
       "53887          2019-11-11                1  \n",
       "53888          2019-11-11                2  \n",
       "53890          2019-11-04                0  \n",
       "53892          2019-11-04                0  \n",
       "53895          2019-11-04                0  \n",
       "\n",
       "[10486 rows x 6 columns]"
      ]
     },
     "execution_count": 89,
     "metadata": {},
     "output_type": "execute_result"
    }
   ],
   "source": [
    "user_activity"
   ]
  },
  {
   "cell_type": "code",
   "execution_count": 90,
   "metadata": {
    "id": "4zg-bPFTes--"
   },
   "outputs": [],
   "source": [
    "cohorts = user_activity.groupby(['first_activity_week','cohort_lifetime']).agg({'user_id':'nunique'}).reset_index() "
   ]
  },
  {
   "cell_type": "code",
   "execution_count": 91,
   "metadata": {
    "id": "LYeahHu1kgmC"
   },
   "outputs": [],
   "source": [
    "initial_users_count = cohorts[cohorts['cohort_lifetime'] == 0][\n",
    "    ['first_activity_week', 'user_id']\n",
    "]"
   ]
  },
  {
   "cell_type": "code",
   "execution_count": 92,
   "metadata": {
    "id": "eecEvvcBe3cz"
   },
   "outputs": [],
   "source": [
    "initial_users_count = initial_users_count.rename(columns={'user_id':'cohort_users'})"
   ]
  },
  {
   "cell_type": "code",
   "execution_count": 93,
   "metadata": {
    "id": "JMVkueMte_U8"
   },
   "outputs": [],
   "source": [
    "cohorts = cohorts.merge(initial_users_count,on='first_activity_week') "
   ]
  },
  {
   "cell_type": "markdown",
   "metadata": {
    "id": "jDPebcx_4mkP"
   },
   "source": [
    "Посчитаем retention и посмотрим на тепловой карте какой % от первоначальных пользователей остается в последующих неделях."
   ]
  },
  {
   "cell_type": "code",
   "execution_count": 94,
   "metadata": {
    "id": "UNgWAsbKfEOq"
   },
   "outputs": [],
   "source": [
    "cohorts['retention'] = cohorts['user_id']/cohorts['cohort_users'] "
   ]
  },
  {
   "cell_type": "code",
   "execution_count": 95,
   "metadata": {
    "id": "XQgsdlgVfJDH"
   },
   "outputs": [],
   "source": [
    "retention_pivot = cohorts.pivot_table(\n",
    "    index='first_activity_week',\n",
    "    columns='cohort_lifetime',\n",
    "    values='retention',\n",
    "    aggfunc='sum',\n",
    ") \n"
   ]
  },
  {
   "cell_type": "code",
   "execution_count": 96,
   "metadata": {
    "colab": {
     "base_uri": "https://localhost:8080/",
     "height": 590
    },
    "executionInfo": {
     "elapsed": 1056,
     "status": "ok",
     "timestamp": 1649914426719,
     "user": {
      "displayName": "Сергей Холоденин",
      "userId": "02339464120149742563"
     },
     "user_tz": -180
    },
    "id": "Oaj_flrLfPeb",
    "outputId": "a9576f18-27e0-453e-c7a5-8606d0e3e9ce"
   },
   "outputs": [
    {
     "data": {
      "text/plain": [
       "<AxesSubplot:title={'center':'Cohorts: User Retention'}, xlabel='cohort_lifetime', ylabel='first_activity_week'>"
      ]
     },
     "execution_count": 96,
     "metadata": {},
     "output_type": "execute_result"
    },
    {
     "data": {
      "image/png": "[encoded data removed]",
      "text/plain": [
       "<Figure size 936x648 with 2 Axes>"
      ]
     },
     "metadata": {},
     "output_type": "display_data"
    }
   ],
   "source": [
    "sns.set(style='white')\n",
    "plt.figure(figsize=(13, 9))\n",
    "plt.title('Cohorts: User Retention')\n",
    "sns.heatmap(retention_pivot, annot=True, fmt='.1%', linewidths=1, linecolor='gray')"
   ]
  },
  {
   "cell_type": "markdown",
   "metadata": {
    "id": "ny-Q0R8l5LHH"
   },
   "source": [
    "Мы видим, что после 11.11.2019 снижается активность клиентов. Посчитаем CR и посмотрим какой % в неделю оттока."
   ]
  },
  {
   "cell_type": "code",
   "execution_count": 97,
   "metadata": {
    "colab": {
     "base_uri": "https://localhost:8080/",
     "height": 424
    },
    "executionInfo": {
     "elapsed": 20,
     "status": "ok",
     "timestamp": 1649914426721,
     "user": {
      "displayName": "Сергей Холоденин",
      "userId": "02339464120149742563"
     },
     "user_tz": -180
    },
    "id": "oMCKHpitgFD9",
    "outputId": "38f2a6ff-cecf-427d-a8b7-af8ff873baea"
   },
   "outputs": [
    {
     "data": {
      "text/html": [
       "<div>\n",
       "<style scoped>\n",
       "    .dataframe tbody tr th:only-of-type {\n",
       "        vertical-align: middle;\n",
       "    }\n",
       "\n",
       "    .dataframe tbody tr th {\n",
       "        vertical-align: top;\n",
       "    }\n",
       "\n",
       "    .dataframe thead th {\n",
       "        text-align: right;\n",
       "    }\n",
       "</style>\n",
       "<table border=\"1\" class=\"dataframe\">\n",
       "  <thead>\n",
       "    <tr style=\"text-align: right;\">\n",
       "      <th></th>\n",
       "      <th>user_id</th>\n",
       "      <th>date</th>\n",
       "      <th>activity_week</th>\n",
       "      <th>first_activity_date</th>\n",
       "      <th>first_activity_week</th>\n",
       "      <th>cohort_lifetime</th>\n",
       "    </tr>\n",
       "  </thead>\n",
       "  <tbody>\n",
       "    <tr>\n",
       "      <th>7731</th>\n",
       "      <td>166619</td>\n",
       "      <td>2019-11-06</td>\n",
       "      <td>2019-11-04</td>\n",
       "      <td>2019-11-06</td>\n",
       "      <td>2019-11-04</td>\n",
       "      <td>0</td>\n",
       "    </tr>\n",
       "    <tr>\n",
       "      <th>7732</th>\n",
       "      <td>166619</td>\n",
       "      <td>2019-11-07</td>\n",
       "      <td>2019-11-04</td>\n",
       "      <td>2019-11-06</td>\n",
       "      <td>2019-11-04</td>\n",
       "      <td>0</td>\n",
       "    </tr>\n",
       "    <tr>\n",
       "      <th>7733</th>\n",
       "      <td>166619</td>\n",
       "      <td>2019-11-15</td>\n",
       "      <td>2019-11-11</td>\n",
       "      <td>2019-11-06</td>\n",
       "      <td>2019-11-04</td>\n",
       "      <td>1</td>\n",
       "    </tr>\n",
       "    <tr>\n",
       "      <th>7734</th>\n",
       "      <td>166619</td>\n",
       "      <td>2019-11-15</td>\n",
       "      <td>2019-11-11</td>\n",
       "      <td>2019-11-06</td>\n",
       "      <td>2019-11-04</td>\n",
       "      <td>1</td>\n",
       "    </tr>\n",
       "    <tr>\n",
       "      <th>7735</th>\n",
       "      <td>166619</td>\n",
       "      <td>2019-11-21</td>\n",
       "      <td>2019-11-18</td>\n",
       "      <td>2019-11-06</td>\n",
       "      <td>2019-11-04</td>\n",
       "      <td>2</td>\n",
       "    </tr>\n",
       "    <tr>\n",
       "      <th>...</th>\n",
       "      <td>...</td>\n",
       "      <td>...</td>\n",
       "      <td>...</td>\n",
       "      <td>...</td>\n",
       "      <td>...</td>\n",
       "      <td>...</td>\n",
       "    </tr>\n",
       "    <tr>\n",
       "      <th>53669</th>\n",
       "      <td>168481</td>\n",
       "      <td>2019-11-12</td>\n",
       "      <td>2019-11-11</td>\n",
       "      <td>2019-11-07</td>\n",
       "      <td>2019-11-04</td>\n",
       "      <td>1</td>\n",
       "    </tr>\n",
       "    <tr>\n",
       "      <th>53678</th>\n",
       "      <td>168500</td>\n",
       "      <td>2019-11-08</td>\n",
       "      <td>2019-11-04</td>\n",
       "      <td>2019-11-08</td>\n",
       "      <td>2019-11-04</td>\n",
       "      <td>0</td>\n",
       "    </tr>\n",
       "    <tr>\n",
       "      <th>53890</th>\n",
       "      <td>168606</td>\n",
       "      <td>2019-11-08</td>\n",
       "      <td>2019-11-04</td>\n",
       "      <td>2019-11-08</td>\n",
       "      <td>2019-11-04</td>\n",
       "      <td>0</td>\n",
       "    </tr>\n",
       "    <tr>\n",
       "      <th>53892</th>\n",
       "      <td>168606</td>\n",
       "      <td>2019-11-08</td>\n",
       "      <td>2019-11-04</td>\n",
       "      <td>2019-11-08</td>\n",
       "      <td>2019-11-04</td>\n",
       "      <td>0</td>\n",
       "    </tr>\n",
       "    <tr>\n",
       "      <th>53895</th>\n",
       "      <td>168606</td>\n",
       "      <td>2019-11-09</td>\n",
       "      <td>2019-11-04</td>\n",
       "      <td>2019-11-08</td>\n",
       "      <td>2019-11-04</td>\n",
       "      <td>0</td>\n",
       "    </tr>\n",
       "  </tbody>\n",
       "</table>\n",
       "<p>440 rows × 6 columns</p>\n",
       "</div>"
      ],
      "text/plain": [
       "       user_id       date activity_week first_activity_date  \\\n",
       "7731    166619 2019-11-06    2019-11-04          2019-11-06   \n",
       "7732    166619 2019-11-07    2019-11-04          2019-11-06   \n",
       "7733    166619 2019-11-15    2019-11-11          2019-11-06   \n",
       "7734    166619 2019-11-15    2019-11-11          2019-11-06   \n",
       "7735    166619 2019-11-21    2019-11-18          2019-11-06   \n",
       "...        ...        ...           ...                 ...   \n",
       "53669   168481 2019-11-12    2019-11-11          2019-11-07   \n",
       "53678   168500 2019-11-08    2019-11-04          2019-11-08   \n",
       "53890   168606 2019-11-08    2019-11-04          2019-11-08   \n",
       "53892   168606 2019-11-08    2019-11-04          2019-11-08   \n",
       "53895   168606 2019-11-09    2019-11-04          2019-11-08   \n",
       "\n",
       "      first_activity_week  cohort_lifetime  \n",
       "7731           2019-11-04                0  \n",
       "7732           2019-11-04                0  \n",
       "7733           2019-11-04                1  \n",
       "7734           2019-11-04                1  \n",
       "7735           2019-11-04                2  \n",
       "...                   ...              ...  \n",
       "53669          2019-11-04                1  \n",
       "53678          2019-11-04                0  \n",
       "53890          2019-11-04                0  \n",
       "53892          2019-11-04                0  \n",
       "53895          2019-11-04                0  \n",
       "\n",
       "[440 rows x 6 columns]"
      ]
     },
     "execution_count": 97,
     "metadata": {},
     "output_type": "execute_result"
    }
   ],
   "source": [
    "user_activity[user_activity['first_activity_week'] == '2019-11-04']"
   ]
  },
  {
   "cell_type": "code",
   "execution_count": 98,
   "metadata": {
    "id": "JffGg1Vfh7RE"
   },
   "outputs": [],
   "source": [
    "cohorts['churn_rate'] = cohorts.groupby(['first_activity_week'])['user_id'].pct_change() "
   ]
  },
  {
   "cell_type": "code",
   "execution_count": 99,
   "metadata": {
    "colab": {
     "base_uri": "https://localhost:8080/",
     "height": 590
    },
    "executionInfo": {
     "elapsed": 861,
     "status": "ok",
     "timestamp": 1649914427566,
     "user": {
      "displayName": "Сергей Холоденин",
      "userId": "02339464120149742563"
     },
     "user_tz": -180
    },
    "id": "v-WtduwgkMEC",
    "outputId": "fc2629f3-52d9-4d83-a21c-afc24ba832eb"
   },
   "outputs": [
    {
     "data": {
      "text/plain": [
       "<AxesSubplot:title={'center':'Cohorts: Churn Rate'}, xlabel='cohort_lifetime', ylabel='first_activity_week'>"
      ]
     },
     "execution_count": 99,
     "metadata": {},
     "output_type": "execute_result"
    },
    {
     "data": {
      "image/png": "[encoded data removed]",
      "text/plain": [
       "<Figure size 936x648 with 2 Axes>"
      ]
     },
     "metadata": {},
     "output_type": "display_data"
    }
   ],
   "source": [
    "churn_pivot = cohorts.pivot_table(\n",
    "    index='first_activity_week',\n",
    "    columns='cohort_lifetime',\n",
    "    values='churn_rate',\n",
    "    aggfunc='sum',\n",
    ")\n",
    "\n",
    "sns.set(style='white')\n",
    "plt.figure(figsize=(13, 9))\n",
    "plt.title('Cohorts: Churn Rate')\n",
    "sns.heatmap(churn_pivot, annot=True, fmt='.1%', linewidths=1, linecolor='gray') "
   ]
  },
  {
   "cell_type": "markdown",
   "metadata": {
    "id": "WTwzT5lL5isO"
   },
   "source": [
    "% оттока велик начиная с 11.11.2019, в среднем 35%, при таком оттоке в следующем месяце может значительно снизится ТО. Следует разработать предложения для удержания текущих клиентов."
   ]
  },
  {
   "cell_type": "markdown",
   "metadata": {
    "id": "PG2hqZdXnPta"
   },
   "source": [
    "<div class=\"alert alert-success\">\n",
    "<b>Комментарий тимлида v.1</b> \n",
    "    \n",
    "👍 Тут тоже все здорово было сделано! Видимо такой отток клиентов в ноябре инициировал наши исследования. Кстати, в этом блоке мы можем посмотреть отдельно на поведение когорт по месяцу регистрации в ноябре, возможно, мы сможем детализировать выводы.\n",
    "\n",
    "</div>"
   ]
  },
  {
   "cell_type": "markdown",
   "metadata": {
    "id": "1U0MNT_36y3d"
   },
   "source": [
    "## Решение основных вопросов заказчика"
   ]
  },
  {
   "cell_type": "markdown",
   "metadata": {
    "id": "zOzIcHJF_LeH"
   },
   "source": [
    "Сперва выделим список клиентов, которых хотим удержать и вычислим оптимальный тариф для них, затем проверим финансовые показатели и разработаем предложения по нивелированию потерь от оптимизации тарифов."
   ]
  },
  {
   "cell_type": "markdown",
   "metadata": {
    "id": "QbPIs10G_IgV"
   },
   "source": [
    "### Создание оптимального списка для менеджеров по клиентам, которым следует предложить переход на другой тариф"
   ]
  },
  {
   "cell_type": "markdown",
   "metadata": {
    "id": "rZLZwAtm7w9P"
   },
   "source": [
    "Выделим список активных пользователей с 11.11.2019 для того, чтобы определить фокус группу для удержания."
   ]
  },
  {
   "cell_type": "code",
   "execution_count": 100,
   "metadata": {
    "id": "U6QvGnIJkQnm"
   },
   "outputs": [],
   "source": [
    "users_for_retention = user_activity[user_activity['activity_week'] >= '2019-11-11']['user_id'].unique()"
   ]
  },
  {
   "cell_type": "code",
   "execution_count": 101,
   "metadata": {
    "id": "hRTIake0mjik"
   },
   "outputs": [],
   "source": [
    "focus_group = telecom_total_value.loc[telecom_total_value['user_id'].isin(users_for_retention)]"
   ]
  },
  {
   "cell_type": "code",
   "execution_count": 102,
   "metadata": {
    "colab": {
     "base_uri": "https://localhost:8080/"
    },
    "executionInfo": {
     "elapsed": 378,
     "status": "ok",
     "timestamp": 1649914427930,
     "user": {
      "displayName": "Сергей Холоденин",
      "userId": "02339464120149742563"
     },
     "user_tz": -180
    },
    "id": "qIb0O2JIZ3ji",
    "outputId": "a9e04e8e-7f82-4bc6-ca6d-ed5a3c24aa16"
   },
   "outputs": [
    {
     "data": {
      "text/plain": [
       "167"
      ]
     },
     "execution_count": 102,
     "metadata": {},
     "output_type": "execute_result"
    }
   ],
   "source": [
    "focus_group['user_id'].nunique()"
   ]
  },
  {
   "cell_type": "markdown",
   "metadata": {
    "id": "9EGYV3MtcNMs"
   },
   "source": [
    "В выборку попали 167 клиентов."
   ]
  },
  {
   "cell_type": "code",
   "execution_count": 103,
   "metadata": {
    "colab": {
     "base_uri": "https://localhost:8080/",
     "height": 174
    },
    "executionInfo": {
     "elapsed": 9,
     "status": "ok",
     "timestamp": 1649914427931,
     "user": {
      "displayName": "Сергей Холоденин",
      "userId": "02339464120149742563"
     },
     "user_tz": -180
    },
    "id": "415FwrRdfis2",
    "outputId": "e00a334c-d298-4338-942f-abe1639d65ca"
   },
   "outputs": [
    {
     "data": {
      "text/html": [
       "<div>\n",
       "<style scoped>\n",
       "    .dataframe tbody tr th:only-of-type {\n",
       "        vertical-align: middle;\n",
       "    }\n",
       "\n",
       "    .dataframe tbody tr th {\n",
       "        vertical-align: top;\n",
       "    }\n",
       "\n",
       "    .dataframe thead th {\n",
       "        text-align: right;\n",
       "    }\n",
       "</style>\n",
       "<table border=\"1\" class=\"dataframe\">\n",
       "  <thead>\n",
       "    <tr style=\"text-align: right;\">\n",
       "      <th></th>\n",
       "      <th>user_id</th>\n",
       "      <th>total_call_duration</th>\n",
       "      <th>total_value</th>\n",
       "    </tr>\n",
       "    <tr>\n",
       "      <th>tariff_plan</th>\n",
       "      <th></th>\n",
       "      <th></th>\n",
       "      <th></th>\n",
       "    </tr>\n",
       "  </thead>\n",
       "  <tbody>\n",
       "    <tr>\n",
       "      <th>A</th>\n",
       "      <td>22</td>\n",
       "      <td>352561.0</td>\n",
       "      <td>456341.6</td>\n",
       "    </tr>\n",
       "    <tr>\n",
       "      <th>B</th>\n",
       "      <td>65</td>\n",
       "      <td>137530.0</td>\n",
       "      <td>464021.0</td>\n",
       "    </tr>\n",
       "    <tr>\n",
       "      <th>C</th>\n",
       "      <td>80</td>\n",
       "      <td>130150.0</td>\n",
       "      <td>326915.3</td>\n",
       "    </tr>\n",
       "  </tbody>\n",
       "</table>\n",
       "</div>"
      ],
      "text/plain": [
       "             user_id  total_call_duration  total_value\n",
       "tariff_plan                                           \n",
       "A                 22             352561.0     456341.6\n",
       "B                 65             137530.0     464021.0\n",
       "C                 80             130150.0     326915.3"
      ]
     },
     "execution_count": 103,
     "metadata": {},
     "output_type": "execute_result"
    }
   ],
   "source": [
    "focus_group.groupby('tariff_plan').agg({'user_id':'nunique','total_call_duration':'sum', 'total_value':'sum'})"
   ]
  },
  {
   "cell_type": "markdown",
   "metadata": {
    "id": "_-rEAz-GhRlN"
   },
   "source": [
    "Мы видим, что почти половина фокусной группы пользуется тарифом С, остальные на тарифе А и В, при этом на тарифе А находятся более активные колл-центры, использующие гораздо больше трафика, чем на тарифах А и В. Видим, что тариф В при схожем количестве минут с тарифом С платит почти как тариф А."
   ]
  },
  {
   "cell_type": "code",
   "execution_count": 104,
   "metadata": {
    "colab": {
     "base_uri": "https://localhost:8080/",
     "height": 749
    },
    "executionInfo": {
     "elapsed": 429,
     "status": "ok",
     "timestamp": 1649914428353,
     "user": {
      "displayName": "Сергей Холоденин",
      "userId": "02339464120149742563"
     },
     "user_tz": -180
    },
    "id": "BlHc5r1scwgw",
    "outputId": "28be3bc4-a5b2-4651-dc20-1c6ce025d563"
   },
   "outputs": [
    {
     "data": {
      "image/png": "[encoded data removed]",
      "text/plain": [
       "<Figure size 936x648 with 2 Axes>"
      ]
     },
     "metadata": {},
     "output_type": "display_data"
    }
   ],
   "source": [
    "fg = focus_group.groupby(['tariff_plan','month'])['total_value'].mean().reset_index()\n",
    "sns.set(style='white')\n",
    "plt.figure(figsize=(13, 9))\n",
    "plt.title('Средний чек тарифов по месяцам')\n",
    "plt.xlabel('Месяц')\n",
    "plt.ylabel('Тарифный план')\n",
    "sns.heatmap(\n",
    "    fg.pivot_table(\n",
    "      index='tariff_plan',\n",
    "      columns='month',\n",
    "      values='total_value',\n",
    "      aggfunc='mean'\n",
    "    ), annot=True, fmt='.0f', linewidths=1, linecolor='gray'\n",
    ")\n",
    "plt.show()"
   ]
  },
  {
   "cell_type": "markdown",
   "metadata": {
    "id": "hhl3LOAlhhpb"
   },
   "source": [
    "Распределение среднего чека по тарифам соответствует общему распределению."
   ]
  },
  {
   "cell_type": "code",
   "execution_count": 105,
   "metadata": {
    "id": "31tp45cnnj6v"
   },
   "outputs": [],
   "source": [
    "focus_group = focus_group[focus_group['month'] == '2019-11-01' ]"
   ]
  },
  {
   "cell_type": "markdown",
   "metadata": {
    "id": "7zzZmkn-nPtj"
   },
   "source": [
    "<div class=\"alert alert-warning\">\n",
    "<b>Комментарий тимлида v.1</b> \n",
    "    \n",
    "📝 В целом идея хорошая - но не хватает анализа полученной выборки - сколько таких клиентов, какие тарифы они используют и тд.\n",
    "</div>"
   ]
  },
  {
   "cell_type": "markdown",
   "metadata": {
    "id": "yI0NG52kh_2v"
   },
   "source": [
    "<div class=\"alert alert-info\"> \n",
    "<b>Комментарий студента</b> \n",
    "    \n",
    "Добавил анализ фокусной группы, чтобы было более понятно, кто в нее вошел.\n",
    "</div>"
   ]
  },
  {
   "cell_type": "markdown",
   "metadata": {
    "id": "EdzycrU-nPsm"
   },
   "source": [
    "<div class=\"alert alert-success\">\n",
    "<b>Комментарий тимлида v.2</b>    \n",
    "    \n",
    "👍 Спасибо! Кстати, обрати, пожалуйста, внимание, что в фокусной группе в тарифе А в последний месяц средний чек не продолжил снижение, а наоборот - поднялся.\n",
    "</div>"
   ]
  },
  {
   "cell_type": "markdown",
   "metadata": {
    "id": "zTkpV1u18PaX"
   },
   "source": [
    "Посмотрим на их итоговую плату за месяц."
   ]
  },
  {
   "cell_type": "code",
   "execution_count": 106,
   "metadata": {
    "colab": {
     "base_uri": "https://localhost:8080/",
     "height": 206
    },
    "executionInfo": {
     "elapsed": 21,
     "status": "ok",
     "timestamp": 1649914428355,
     "user": {
      "displayName": "Сергей Холоденин",
      "userId": "02339464120149742563"
     },
     "user_tz": -180
    },
    "id": "gXKlGKXQqNNR",
    "outputId": "3af1daa1-c197-4ed4-ef9b-f1f36936bab7"
   },
   "outputs": [
    {
     "data": {
      "text/html": [
       "<div>\n",
       "<style scoped>\n",
       "    .dataframe tbody tr th:only-of-type {\n",
       "        vertical-align: middle;\n",
       "    }\n",
       "\n",
       "    .dataframe tbody tr th {\n",
       "        vertical-align: top;\n",
       "    }\n",
       "\n",
       "    .dataframe thead th {\n",
       "        text-align: right;\n",
       "    }\n",
       "</style>\n",
       "<table border=\"1\" class=\"dataframe\">\n",
       "  <thead>\n",
       "    <tr style=\"text-align: right;\">\n",
       "      <th></th>\n",
       "      <th>user_id</th>\n",
       "      <th>first_month</th>\n",
       "      <th>month</th>\n",
       "      <th>total_call_duration</th>\n",
       "      <th>tariff_plan</th>\n",
       "      <th>price_month</th>\n",
       "      <th>value</th>\n",
       "      <th>operator_id</th>\n",
       "      <th>total_value</th>\n",
       "    </tr>\n",
       "  </thead>\n",
       "  <tbody>\n",
       "    <tr>\n",
       "      <th>3</th>\n",
       "      <td>166377</td>\n",
       "      <td>2019-08-01</td>\n",
       "      <td>2019-11-01</td>\n",
       "      <td>1593.0</td>\n",
       "      <td>B</td>\n",
       "      <td>2000</td>\n",
       "      <td>795.0</td>\n",
       "      <td>4</td>\n",
       "      <td>3195.0</td>\n",
       "    </tr>\n",
       "    <tr>\n",
       "      <th>8</th>\n",
       "      <td>166405</td>\n",
       "      <td>2019-08-01</td>\n",
       "      <td>2019-11-01</td>\n",
       "      <td>6783.0</td>\n",
       "      <td>B</td>\n",
       "      <td>2000</td>\n",
       "      <td>3390.5</td>\n",
       "      <td>8</td>\n",
       "      <td>6190.5</td>\n",
       "    </tr>\n",
       "    <tr>\n",
       "      <th>12</th>\n",
       "      <td>166406</td>\n",
       "      <td>2019-08-01</td>\n",
       "      <td>2019-11-01</td>\n",
       "      <td>789.0</td>\n",
       "      <td>B</td>\n",
       "      <td>2000</td>\n",
       "      <td>394.5</td>\n",
       "      <td>2</td>\n",
       "      <td>2594.5</td>\n",
       "    </tr>\n",
       "    <tr>\n",
       "      <th>16</th>\n",
       "      <td>166407</td>\n",
       "      <td>2019-08-01</td>\n",
       "      <td>2019-11-01</td>\n",
       "      <td>244.0</td>\n",
       "      <td>A</td>\n",
       "      <td>5000</td>\n",
       "      <td>49.6</td>\n",
       "      <td>8</td>\n",
       "      <td>5849.6</td>\n",
       "    </tr>\n",
       "    <tr>\n",
       "      <th>20</th>\n",
       "      <td>166485</td>\n",
       "      <td>2019-08-01</td>\n",
       "      <td>2019-11-01</td>\n",
       "      <td>3564.0</td>\n",
       "      <td>B</td>\n",
       "      <td>2000</td>\n",
       "      <td>1673.0</td>\n",
       "      <td>5</td>\n",
       "      <td>4173.0</td>\n",
       "    </tr>\n",
       "  </tbody>\n",
       "</table>\n",
       "</div>"
      ],
      "text/plain": [
       "    user_id first_month      month  total_call_duration tariff_plan  \\\n",
       "3    166377  2019-08-01 2019-11-01               1593.0           B   \n",
       "8    166405  2019-08-01 2019-11-01               6783.0           B   \n",
       "12   166406  2019-08-01 2019-11-01                789.0           B   \n",
       "16   166407  2019-08-01 2019-11-01                244.0           A   \n",
       "20   166485  2019-08-01 2019-11-01               3564.0           B   \n",
       "\n",
       "    price_month   value  operator_id  total_value  \n",
       "3          2000   795.0            4       3195.0  \n",
       "8          2000  3390.5            8       6190.5  \n",
       "12         2000   394.5            2       2594.5  \n",
       "16         5000    49.6            8       5849.6  \n",
       "20         2000  1673.0            5       4173.0  "
      ]
     },
     "execution_count": 106,
     "metadata": {},
     "output_type": "execute_result"
    }
   ],
   "source": [
    "focus_group.head()"
   ]
  },
  {
   "cell_type": "code",
   "execution_count": 107,
   "metadata": {
    "colab": {
     "base_uri": "https://localhost:8080/",
     "height": 174
    },
    "executionInfo": {
     "elapsed": 20,
     "status": "ok",
     "timestamp": 1649914428356,
     "user": {
      "displayName": "Сергей Холоденин",
      "userId": "02339464120149742563"
     },
     "user_tz": -180
    },
    "id": "IaplLNa1pyNM",
    "outputId": "7b857679-1a48-4a3b-9db0-d8485e49c9df"
   },
   "outputs": [
    {
     "data": {
      "text/html": [
       "<div>\n",
       "<style scoped>\n",
       "    .dataframe tbody tr th:only-of-type {\n",
       "        vertical-align: middle;\n",
       "    }\n",
       "\n",
       "    .dataframe tbody tr th {\n",
       "        vertical-align: top;\n",
       "    }\n",
       "\n",
       "    .dataframe thead th {\n",
       "        text-align: right;\n",
       "    }\n",
       "</style>\n",
       "<table border=\"1\" class=\"dataframe\">\n",
       "  <thead>\n",
       "    <tr style=\"text-align: right;\">\n",
       "      <th></th>\n",
       "      <th>user_id</th>\n",
       "      <th>total_call_duration</th>\n",
       "      <th>total_value</th>\n",
       "    </tr>\n",
       "    <tr>\n",
       "      <th>price_month</th>\n",
       "      <th></th>\n",
       "      <th></th>\n",
       "      <th></th>\n",
       "    </tr>\n",
       "  </thead>\n",
       "  <tbody>\n",
       "    <tr>\n",
       "      <th>1000</th>\n",
       "      <td>80</td>\n",
       "      <td>56902.0</td>\n",
       "      <td>138429.4</td>\n",
       "    </tr>\n",
       "    <tr>\n",
       "      <th>2000</th>\n",
       "      <td>65</td>\n",
       "      <td>57191.0</td>\n",
       "      <td>179794.5</td>\n",
       "    </tr>\n",
       "    <tr>\n",
       "      <th>5000</th>\n",
       "      <td>22</td>\n",
       "      <td>127283.0</td>\n",
       "      <td>177848.0</td>\n",
       "    </tr>\n",
       "  </tbody>\n",
       "</table>\n",
       "</div>"
      ],
      "text/plain": [
       "             user_id  total_call_duration  total_value\n",
       "price_month                                           \n",
       "1000              80              56902.0     138429.4\n",
       "2000              65              57191.0     179794.5\n",
       "5000              22             127283.0     177848.0"
      ]
     },
     "execution_count": 107,
     "metadata": {},
     "output_type": "execute_result"
    }
   ],
   "source": [
    "focus_group.groupby('price_month').agg({'user_id':'nunique', 'total_call_duration':'sum', 'total_value': 'sum'})"
   ]
  },
  {
   "cell_type": "markdown",
   "metadata": {
    "id": "w-OEDtcl89Fb"
   },
   "source": [
    "Создадим столбцы с альтернативными тарифами для сравнения."
   ]
  },
  {
   "cell_type": "code",
   "execution_count": 108,
   "metadata": {
    "id": "7x0GymahqOk9"
   },
   "outputs": [],
   "source": [
    "def tariff_A(row):\n",
    " total_call_duration = row['total_call_duration']\n",
    " operator_id = row['operator_id']\n",
    " return total_call_duration*0.4 + 5000 + operator_id*100\n",
    "\n",
    "def tariff_B(row):\n",
    " total_call_duration = row['total_call_duration']\n",
    " operator_id = row['operator_id']\n",
    " return total_call_duration*0.5 + 2000 + operator_id*100\n",
    "\n",
    "def tariff_C(row):\n",
    " total_call_duration = row['total_call_duration']\n",
    " operator_id = row['operator_id']\n",
    " return total_call_duration*0.7 + 1000 + operator_id*100"
   ]
  },
  {
   "cell_type": "code",
   "execution_count": 109,
   "metadata": {
    "id": "IH36Ajzprpef"
   },
   "outputs": [],
   "source": [
    "focus_group['A'] = focus_group.apply(tariff_A, axis=1)\n",
    "focus_group['B'] = focus_group.apply(tariff_B, axis=1)\n",
    "focus_group['C'] = focus_group.apply(tariff_C, axis=1)"
   ]
  },
  {
   "cell_type": "markdown",
   "metadata": {
    "id": "B7DIC9-Z9FBW"
   },
   "source": [
    "Выберем наиболее оптимальный тариф для каждого клиента."
   ]
  },
  {
   "cell_type": "code",
   "execution_count": 110,
   "metadata": {
    "id": "fe93KFdPsKNZ"
   },
   "outputs": [],
   "source": [
    "def recom(row):\n",
    "  tariff_A = row['A']\n",
    "  tariff_B = row['B']\n",
    "  tariff_C = row['C']\n",
    "  total_value = row['total_value']\n",
    "  recom = min(tariff_A,tariff_B,tariff_C)\n",
    "  if recom == total_value:\n",
    "    return 'OK'\n",
    "  else:\n",
    "    if recom == tariff_A:\n",
    "      return 'A'\n",
    "    elif recom == tariff_B:\n",
    "      return 'B'\n",
    "    else:\n",
    "      return 'C'"
   ]
  },
  {
   "cell_type": "code",
   "execution_count": 111,
   "metadata": {
    "id": "pk-ZGO6DuGx6"
   },
   "outputs": [],
   "source": [
    "focus_group['recommendation_tariff'] = focus_group.apply(recom, axis=1)"
   ]
  },
  {
   "cell_type": "code",
   "execution_count": 112,
   "metadata": {
    "id": "CWNvhphm-INp"
   },
   "outputs": [],
   "source": [
    "def rec_value(row):\n",
    "  tariff_A = row['A']\n",
    "  tariff_B = row['B']\n",
    "  tariff_C = row['C']\n",
    "  total_value = row['total_value']\n",
    "  recom = min(tariff_A,tariff_B,tariff_C)\n",
    "  if recom == total_value:\n",
    "    return total_value\n",
    "  else:\n",
    "    if recom == tariff_A:\n",
    "      return tariff_A\n",
    "    elif recom == tariff_B:\n",
    "      return tariff_B\n",
    "    else:\n",
    "      return tariff_C"
   ]
  },
  {
   "cell_type": "markdown",
   "metadata": {
    "id": "bUBgBYt59Vjn"
   },
   "source": [
    "Посчитаем разницу между текущим тарифом и оптимальным, чтобы посчитать итоговую потерю в ТО Телекома."
   ]
  },
  {
   "cell_type": "code",
   "execution_count": 113,
   "metadata": {
    "id": "3rLEYB-z4gEJ"
   },
   "outputs": [],
   "source": [
    "focus_group['rec_value'] = focus_group.apply(rec_value, axis=1)"
   ]
  },
  {
   "cell_type": "code",
   "execution_count": 114,
   "metadata": {
    "id": "w1csyIvHAGPb"
   },
   "outputs": [],
   "source": [
    "focus_group['delta'] = focus_group['total_value'] - focus_group['rec_value']"
   ]
  },
  {
   "cell_type": "code",
   "execution_count": 115,
   "metadata": {
    "colab": {
     "base_uri": "https://localhost:8080/",
     "height": 661
    },
    "executionInfo": {
     "elapsed": 20,
     "status": "ok",
     "timestamp": 1649914428711,
     "user": {
      "displayName": "Сергей Холоденин",
      "userId": "02339464120149742563"
     },
     "user_tz": -180
    },
    "id": "yvx3pFVG-d_I",
    "outputId": "a2b91344-05c2-4744-f6a1-118c4283ad90"
   },
   "outputs": [
    {
     "data": {
      "text/html": [
       "<div>\n",
       "<style scoped>\n",
       "    .dataframe tbody tr th:only-of-type {\n",
       "        vertical-align: middle;\n",
       "    }\n",
       "\n",
       "    .dataframe tbody tr th {\n",
       "        vertical-align: top;\n",
       "    }\n",
       "\n",
       "    .dataframe thead th {\n",
       "        text-align: right;\n",
       "    }\n",
       "</style>\n",
       "<table border=\"1\" class=\"dataframe\">\n",
       "  <thead>\n",
       "    <tr style=\"text-align: right;\">\n",
       "      <th></th>\n",
       "      <th>user_id</th>\n",
       "      <th>first_month</th>\n",
       "      <th>month</th>\n",
       "      <th>total_call_duration</th>\n",
       "      <th>tariff_plan</th>\n",
       "      <th>price_month</th>\n",
       "      <th>value</th>\n",
       "      <th>operator_id</th>\n",
       "      <th>total_value</th>\n",
       "      <th>A</th>\n",
       "      <th>B</th>\n",
       "      <th>C</th>\n",
       "      <th>recommendation_tariff</th>\n",
       "      <th>rec_value</th>\n",
       "      <th>delta</th>\n",
       "    </tr>\n",
       "  </thead>\n",
       "  <tbody>\n",
       "    <tr>\n",
       "      <th>3</th>\n",
       "      <td>166377</td>\n",
       "      <td>2019-08-01</td>\n",
       "      <td>2019-11-01</td>\n",
       "      <td>1593.0</td>\n",
       "      <td>B</td>\n",
       "      <td>2000</td>\n",
       "      <td>795.0</td>\n",
       "      <td>4</td>\n",
       "      <td>3195.0</td>\n",
       "      <td>6037.2</td>\n",
       "      <td>3196.5</td>\n",
       "      <td>2515.1</td>\n",
       "      <td>C</td>\n",
       "      <td>2515.1</td>\n",
       "      <td>679.9</td>\n",
       "    </tr>\n",
       "    <tr>\n",
       "      <th>8</th>\n",
       "      <td>166405</td>\n",
       "      <td>2019-08-01</td>\n",
       "      <td>2019-11-01</td>\n",
       "      <td>6783.0</td>\n",
       "      <td>B</td>\n",
       "      <td>2000</td>\n",
       "      <td>3390.5</td>\n",
       "      <td>8</td>\n",
       "      <td>6190.5</td>\n",
       "      <td>8513.2</td>\n",
       "      <td>6191.5</td>\n",
       "      <td>6548.1</td>\n",
       "      <td>B</td>\n",
       "      <td>6191.5</td>\n",
       "      <td>-1.0</td>\n",
       "    </tr>\n",
       "    <tr>\n",
       "      <th>12</th>\n",
       "      <td>166406</td>\n",
       "      <td>2019-08-01</td>\n",
       "      <td>2019-11-01</td>\n",
       "      <td>789.0</td>\n",
       "      <td>B</td>\n",
       "      <td>2000</td>\n",
       "      <td>394.5</td>\n",
       "      <td>2</td>\n",
       "      <td>2594.5</td>\n",
       "      <td>5515.6</td>\n",
       "      <td>2594.5</td>\n",
       "      <td>1752.3</td>\n",
       "      <td>C</td>\n",
       "      <td>1752.3</td>\n",
       "      <td>842.2</td>\n",
       "    </tr>\n",
       "    <tr>\n",
       "      <th>16</th>\n",
       "      <td>166407</td>\n",
       "      <td>2019-08-01</td>\n",
       "      <td>2019-11-01</td>\n",
       "      <td>244.0</td>\n",
       "      <td>A</td>\n",
       "      <td>5000</td>\n",
       "      <td>49.6</td>\n",
       "      <td>8</td>\n",
       "      <td>5849.6</td>\n",
       "      <td>5897.6</td>\n",
       "      <td>2922.0</td>\n",
       "      <td>1970.8</td>\n",
       "      <td>C</td>\n",
       "      <td>1970.8</td>\n",
       "      <td>3878.8</td>\n",
       "    </tr>\n",
       "    <tr>\n",
       "      <th>20</th>\n",
       "      <td>166485</td>\n",
       "      <td>2019-08-01</td>\n",
       "      <td>2019-11-01</td>\n",
       "      <td>3564.0</td>\n",
       "      <td>B</td>\n",
       "      <td>2000</td>\n",
       "      <td>1673.0</td>\n",
       "      <td>5</td>\n",
       "      <td>4173.0</td>\n",
       "      <td>6925.6</td>\n",
       "      <td>4282.0</td>\n",
       "      <td>3994.8</td>\n",
       "      <td>C</td>\n",
       "      <td>3994.8</td>\n",
       "      <td>178.2</td>\n",
       "    </tr>\n",
       "    <tr>\n",
       "      <th>...</th>\n",
       "      <td>...</td>\n",
       "      <td>...</td>\n",
       "      <td>...</td>\n",
       "      <td>...</td>\n",
       "      <td>...</td>\n",
       "      <td>...</td>\n",
       "      <td>...</td>\n",
       "      <td>...</td>\n",
       "      <td>...</td>\n",
       "      <td>...</td>\n",
       "      <td>...</td>\n",
       "      <td>...</td>\n",
       "      <td>...</td>\n",
       "      <td>...</td>\n",
       "      <td>...</td>\n",
       "    </tr>\n",
       "    <tr>\n",
       "      <th>509</th>\n",
       "      <td>168466</td>\n",
       "      <td>2019-10-01</td>\n",
       "      <td>2019-11-01</td>\n",
       "      <td>834.0</td>\n",
       "      <td>C</td>\n",
       "      <td>1000</td>\n",
       "      <td>583.8</td>\n",
       "      <td>2</td>\n",
       "      <td>1783.8</td>\n",
       "      <td>5533.6</td>\n",
       "      <td>2617.0</td>\n",
       "      <td>1783.8</td>\n",
       "      <td>OK</td>\n",
       "      <td>1783.8</td>\n",
       "      <td>0.0</td>\n",
       "    </tr>\n",
       "    <tr>\n",
       "      <th>510</th>\n",
       "      <td>168473</td>\n",
       "      <td>2019-10-01</td>\n",
       "      <td>2019-11-01</td>\n",
       "      <td>9.0</td>\n",
       "      <td>C</td>\n",
       "      <td>1000</td>\n",
       "      <td>6.3</td>\n",
       "      <td>1</td>\n",
       "      <td>1106.3</td>\n",
       "      <td>5103.6</td>\n",
       "      <td>2104.5</td>\n",
       "      <td>1106.3</td>\n",
       "      <td>OK</td>\n",
       "      <td>1106.3</td>\n",
       "      <td>0.0</td>\n",
       "    </tr>\n",
       "    <tr>\n",
       "      <th>511</th>\n",
       "      <td>168481</td>\n",
       "      <td>2019-10-01</td>\n",
       "      <td>2019-11-01</td>\n",
       "      <td>8.0</td>\n",
       "      <td>B</td>\n",
       "      <td>2000</td>\n",
       "      <td>4.0</td>\n",
       "      <td>3</td>\n",
       "      <td>2304.0</td>\n",
       "      <td>5303.2</td>\n",
       "      <td>2304.0</td>\n",
       "      <td>1305.6</td>\n",
       "      <td>C</td>\n",
       "      <td>1305.6</td>\n",
       "      <td>998.4</td>\n",
       "    </tr>\n",
       "    <tr>\n",
       "      <th>513</th>\n",
       "      <td>168601</td>\n",
       "      <td>2019-10-01</td>\n",
       "      <td>2019-11-01</td>\n",
       "      <td>554.0</td>\n",
       "      <td>C</td>\n",
       "      <td>1000</td>\n",
       "      <td>387.8</td>\n",
       "      <td>2</td>\n",
       "      <td>1587.8</td>\n",
       "      <td>5421.6</td>\n",
       "      <td>2477.0</td>\n",
       "      <td>1587.8</td>\n",
       "      <td>OK</td>\n",
       "      <td>1587.8</td>\n",
       "      <td>0.0</td>\n",
       "    </tr>\n",
       "    <tr>\n",
       "      <th>514</th>\n",
       "      <td>168603</td>\n",
       "      <td>2019-10-01</td>\n",
       "      <td>2019-11-01</td>\n",
       "      <td>20.0</td>\n",
       "      <td>B</td>\n",
       "      <td>2000</td>\n",
       "      <td>10.0</td>\n",
       "      <td>1</td>\n",
       "      <td>2110.0</td>\n",
       "      <td>5108.0</td>\n",
       "      <td>2110.0</td>\n",
       "      <td>1114.0</td>\n",
       "      <td>C</td>\n",
       "      <td>1114.0</td>\n",
       "      <td>996.0</td>\n",
       "    </tr>\n",
       "  </tbody>\n",
       "</table>\n",
       "<p>167 rows × 15 columns</p>\n",
       "</div>"
      ],
      "text/plain": [
       "     user_id first_month      month  total_call_duration tariff_plan  \\\n",
       "3     166377  2019-08-01 2019-11-01               1593.0           B   \n",
       "8     166405  2019-08-01 2019-11-01               6783.0           B   \n",
       "12    166406  2019-08-01 2019-11-01                789.0           B   \n",
       "16    166407  2019-08-01 2019-11-01                244.0           A   \n",
       "20    166485  2019-08-01 2019-11-01               3564.0           B   \n",
       "..       ...         ...        ...                  ...         ...   \n",
       "509   168466  2019-10-01 2019-11-01                834.0           C   \n",
       "510   168473  2019-10-01 2019-11-01                  9.0           C   \n",
       "511   168481  2019-10-01 2019-11-01                  8.0           B   \n",
       "513   168601  2019-10-01 2019-11-01                554.0           C   \n",
       "514   168603  2019-10-01 2019-11-01                 20.0           B   \n",
       "\n",
       "     price_month   value  operator_id  total_value       A       B       C  \\\n",
       "3           2000   795.0            4       3195.0  6037.2  3196.5  2515.1   \n",
       "8           2000  3390.5            8       6190.5  8513.2  6191.5  6548.1   \n",
       "12          2000   394.5            2       2594.5  5515.6  2594.5  1752.3   \n",
       "16          5000    49.6            8       5849.6  5897.6  2922.0  1970.8   \n",
       "20          2000  1673.0            5       4173.0  6925.6  4282.0  3994.8   \n",
       "..           ...     ...          ...          ...     ...     ...     ...   \n",
       "509         1000   583.8            2       1783.8  5533.6  2617.0  1783.8   \n",
       "510         1000     6.3            1       1106.3  5103.6  2104.5  1106.3   \n",
       "511         2000     4.0            3       2304.0  5303.2  2304.0  1305.6   \n",
       "513         1000   387.8            2       1587.8  5421.6  2477.0  1587.8   \n",
       "514         2000    10.0            1       2110.0  5108.0  2110.0  1114.0   \n",
       "\n",
       "    recommendation_tariff  rec_value   delta  \n",
       "3                       C     2515.1   679.9  \n",
       "8                       B     6191.5    -1.0  \n",
       "12                      C     1752.3   842.2  \n",
       "16                      C     1970.8  3878.8  \n",
       "20                      C     3994.8   178.2  \n",
       "..                    ...        ...     ...  \n",
       "509                    OK     1783.8     0.0  \n",
       "510                    OK     1106.3     0.0  \n",
       "511                     C     1305.6   998.4  \n",
       "513                    OK     1587.8     0.0  \n",
       "514                     C     1114.0   996.0  \n",
       "\n",
       "[167 rows x 15 columns]"
      ]
     },
     "execution_count": 115,
     "metadata": {},
     "output_type": "execute_result"
    }
   ],
   "source": [
    "focus_group"
   ]
  },
  {
   "cell_type": "code",
   "execution_count": 116,
   "metadata": {
    "id": "JKoour72-hUp"
   },
   "outputs": [],
   "source": [
    "clients_for_change_tariff = focus_group.query('delta > 0')[['user_id','tariff_plan','total_value','recommendation_tariff','rec_value','delta']]"
   ]
  },
  {
   "cell_type": "markdown",
   "metadata": {
    "id": "kPNX1e8l9y6v"
   },
   "source": [
    "Посмотрим какие тарифы рекомендованы для клиентов."
   ]
  },
  {
   "cell_type": "code",
   "execution_count": 117,
   "metadata": {
    "colab": {
     "base_uri": "https://localhost:8080/",
     "height": 424
    },
    "executionInfo": {
     "elapsed": 36,
     "status": "ok",
     "timestamp": 1649914428992,
     "user": {
      "displayName": "Сергей Холоденин",
      "userId": "02339464120149742563"
     },
     "user_tz": -180
    },
    "id": "G1t5HnxZBWHw",
    "outputId": "996d4001-b449-44ed-d709-03189d209a90"
   },
   "outputs": [
    {
     "data": {
      "text/html": [
       "<div>\n",
       "<style scoped>\n",
       "    .dataframe tbody tr th:only-of-type {\n",
       "        vertical-align: middle;\n",
       "    }\n",
       "\n",
       "    .dataframe tbody tr th {\n",
       "        vertical-align: top;\n",
       "    }\n",
       "\n",
       "    .dataframe thead th {\n",
       "        text-align: right;\n",
       "    }\n",
       "</style>\n",
       "<table border=\"1\" class=\"dataframe\">\n",
       "  <thead>\n",
       "    <tr style=\"text-align: right;\">\n",
       "      <th></th>\n",
       "      <th>user_id</th>\n",
       "      <th>tariff_plan</th>\n",
       "      <th>total_value</th>\n",
       "      <th>recommendation_tariff</th>\n",
       "      <th>rec_value</th>\n",
       "      <th>delta</th>\n",
       "    </tr>\n",
       "  </thead>\n",
       "  <tbody>\n",
       "    <tr>\n",
       "      <th>3</th>\n",
       "      <td>166377</td>\n",
       "      <td>B</td>\n",
       "      <td>3195.0</td>\n",
       "      <td>C</td>\n",
       "      <td>2515.1</td>\n",
       "      <td>679.9</td>\n",
       "    </tr>\n",
       "    <tr>\n",
       "      <th>12</th>\n",
       "      <td>166406</td>\n",
       "      <td>B</td>\n",
       "      <td>2594.5</td>\n",
       "      <td>C</td>\n",
       "      <td>1752.3</td>\n",
       "      <td>842.2</td>\n",
       "    </tr>\n",
       "    <tr>\n",
       "      <th>16</th>\n",
       "      <td>166407</td>\n",
       "      <td>A</td>\n",
       "      <td>5849.6</td>\n",
       "      <td>C</td>\n",
       "      <td>1970.8</td>\n",
       "      <td>3878.8</td>\n",
       "    </tr>\n",
       "    <tr>\n",
       "      <th>20</th>\n",
       "      <td>166485</td>\n",
       "      <td>B</td>\n",
       "      <td>4173.0</td>\n",
       "      <td>C</td>\n",
       "      <td>3994.8</td>\n",
       "      <td>178.2</td>\n",
       "    </tr>\n",
       "    <tr>\n",
       "      <th>25</th>\n",
       "      <td>166495</td>\n",
       "      <td>B</td>\n",
       "      <td>2337.5</td>\n",
       "      <td>C</td>\n",
       "      <td>1432.5</td>\n",
       "      <td>905.0</td>\n",
       "    </tr>\n",
       "    <tr>\n",
       "      <th>...</th>\n",
       "      <td>...</td>\n",
       "      <td>...</td>\n",
       "      <td>...</td>\n",
       "      <td>...</td>\n",
       "      <td>...</td>\n",
       "      <td>...</td>\n",
       "    </tr>\n",
       "    <tr>\n",
       "      <th>493</th>\n",
       "      <td>168253</td>\n",
       "      <td>A</td>\n",
       "      <td>5702.0</td>\n",
       "      <td>C</td>\n",
       "      <td>2153.5</td>\n",
       "      <td>3548.5</td>\n",
       "    </tr>\n",
       "    <tr>\n",
       "      <th>497</th>\n",
       "      <td>168291</td>\n",
       "      <td>B</td>\n",
       "      <td>2100.0</td>\n",
       "      <td>C</td>\n",
       "      <td>1101.4</td>\n",
       "      <td>998.6</td>\n",
       "    </tr>\n",
       "    <tr>\n",
       "      <th>498</th>\n",
       "      <td>168295</td>\n",
       "      <td>A</td>\n",
       "      <td>5295.2</td>\n",
       "      <td>C</td>\n",
       "      <td>1366.6</td>\n",
       "      <td>3928.6</td>\n",
       "    </tr>\n",
       "    <tr>\n",
       "      <th>511</th>\n",
       "      <td>168481</td>\n",
       "      <td>B</td>\n",
       "      <td>2304.0</td>\n",
       "      <td>C</td>\n",
       "      <td>1305.6</td>\n",
       "      <td>998.4</td>\n",
       "    </tr>\n",
       "    <tr>\n",
       "      <th>514</th>\n",
       "      <td>168603</td>\n",
       "      <td>B</td>\n",
       "      <td>2110.0</td>\n",
       "      <td>C</td>\n",
       "      <td>1114.0</td>\n",
       "      <td>996.0</td>\n",
       "    </tr>\n",
       "  </tbody>\n",
       "</table>\n",
       "<p>84 rows × 6 columns</p>\n",
       "</div>"
      ],
      "text/plain": [
       "     user_id tariff_plan  total_value recommendation_tariff  rec_value   delta\n",
       "3     166377           B       3195.0                     C     2515.1   679.9\n",
       "12    166406           B       2594.5                     C     1752.3   842.2\n",
       "16    166407           A       5849.6                     C     1970.8  3878.8\n",
       "20    166485           B       4173.0                     C     3994.8   178.2\n",
       "25    166495           B       2337.5                     C     1432.5   905.0\n",
       "..       ...         ...          ...                   ...        ...     ...\n",
       "493   168253           A       5702.0                     C     2153.5  3548.5\n",
       "497   168291           B       2100.0                     C     1101.4   998.6\n",
       "498   168295           A       5295.2                     C     1366.6  3928.6\n",
       "511   168481           B       2304.0                     C     1305.6   998.4\n",
       "514   168603           B       2110.0                     C     1114.0   996.0\n",
       "\n",
       "[84 rows x 6 columns]"
      ]
     },
     "execution_count": 117,
     "metadata": {},
     "output_type": "execute_result"
    }
   ],
   "source": [
    "clients_for_change_tariff"
   ]
  },
  {
   "cell_type": "code",
   "execution_count": 118,
   "metadata": {
    "colab": {
     "base_uri": "https://localhost:8080/"
    },
    "executionInfo": {
     "elapsed": 35,
     "status": "ok",
     "timestamp": 1649914428993,
     "user": {
      "displayName": "Сергей Холоденин",
      "userId": "02339464120149742563"
     },
     "user_tz": -180
    },
    "id": "O-vaMvHsZ0Ye",
    "outputId": "339c89a9-3168-49d9-b339-ebcf9a06dbd7"
   },
   "outputs": [
    {
     "data": {
      "text/plain": [
       "recommendation_tariff\n",
       "B     4\n",
       "C    80\n",
       "Name: user_id, dtype: int64"
      ]
     },
     "execution_count": 118,
     "metadata": {},
     "output_type": "execute_result"
    }
   ],
   "source": [
    "clients_for_change_tariff.groupby('recommendation_tariff')['user_id'].nunique()"
   ]
  },
  {
   "cell_type": "code",
   "execution_count": 119,
   "metadata": {
    "colab": {
     "base_uri": "https://localhost:8080/"
    },
    "executionInfo": {
     "elapsed": 271,
     "status": "ok",
     "timestamp": 1649925118025,
     "user": {
      "displayName": "Сергей Холоденин",
      "userId": "02339464120149742563"
     },
     "user_tz": -180
    },
    "id": "23wybX2CMR8L",
    "outputId": "d0cf4840-7226-4220-c0fe-009b85eaea50"
   },
   "outputs": [
    {
     "data": {
      "text/plain": [
       "0.4692737430167598"
      ]
     },
     "execution_count": 119,
     "metadata": {},
     "output_type": "execute_result"
    }
   ],
   "source": [
    "clients_for_change_tariff['user_id'].nunique()/telecom_total_value[telecom_total_value['month']=='2019-11-01']['user_id'].nunique()"
   ]
  },
  {
   "cell_type": "markdown",
   "metadata": {
    "id": "w-8eM0Ho-EVf"
   },
   "source": [
    "В большинстве - это тариф С, от общего количества клиентов на ноябрь фокусная группа составляет 47%. Посчитаем какой % от общего ТО состаляет сэкономленная клиентами сумма."
   ]
  },
  {
   "cell_type": "code",
   "execution_count": 120,
   "metadata": {
    "id": "FDUYcbPdBYb5"
   },
   "outputs": [],
   "source": [
    "novemder_revenue = telecom_total_value[telecom_total_value['month'] == '2019-11-01']['total_value'].sum()"
   ]
  },
  {
   "cell_type": "code",
   "execution_count": 121,
   "metadata": {
    "id": "HUbj9ePCBvnE"
   },
   "outputs": [],
   "source": [
    "delta_november = clients_for_change_tariff['delta'].sum()"
   ]
  },
  {
   "cell_type": "code",
   "execution_count": 122,
   "metadata": {
    "id": "9BAsOamFCRDT"
   },
   "outputs": [],
   "source": [
    "november_revenue_delta = novemder_revenue - delta_november"
   ]
  },
  {
   "cell_type": "code",
   "execution_count": 123,
   "metadata": {
    "colab": {
     "base_uri": "https://localhost:8080/"
    },
    "executionInfo": {
     "elapsed": 26,
     "status": "ok",
     "timestamp": 1649914428998,
     "user": {
      "displayName": "Сергей Холоденин",
      "userId": "02339464120149742563"
     },
     "user_tz": -180
    },
    "id": "0x8zkoAtCaDb",
    "outputId": "5f51a24d-ac4f-4be6-f967-af4daca6165e"
   },
   "outputs": [
    {
     "data": {
      "text/plain": [
       "-0.24139526792127397"
      ]
     },
     "execution_count": 123,
     "metadata": {},
     "output_type": "execute_result"
    }
   ],
   "source": [
    "november_revenue_delta/novemder_revenue-1"
   ]
  },
  {
   "cell_type": "markdown",
   "metadata": {
    "id": "thyOO5si-boA"
   },
   "source": [
    "24% от общего ТО - это внушительная сумма. Следует рассмотреть возможные варианты нивелирования такой корректировки. Посмотрим на то, как распределяются входящие звонки, которые никак не тарифицированы. Возможно есть колл-центры, которые работают только на входящий трафик и затрачивают большое количество минут, оплачивая лишь абонентскую плату по тарифу и операторов."
   ]
  },
  {
   "cell_type": "markdown",
   "metadata": {
    "id": "pyKfFVZvnPty"
   },
   "source": [
    "<div class=\"alert alert-success\">\n",
    "<b>Комментарий тимлида v.1</b> \n",
    "    \n",
    "👍 В этом блоке тоже все корректно - были рассчитаны альтернативные тарифы, выручка по ним. Возможно в таблицу `clients_for_change_tariff` стоит добавить информацию по названию текущего тарифа.\n",
    "\n",
    "</div>"
   ]
  },
  {
   "cell_type": "markdown",
   "metadata": {
    "id": "ywldKUu8_60q"
   },
   "source": [
    "### Прогноз возможных финансовых результатов после перехода ключевых клиентов на другие тарифы, оптимизация тарифов"
   ]
  },
  {
   "cell_type": "markdown",
   "metadata": {
    "id": "ST78178vAGId"
   },
   "source": [
    "Выделим срез с данными по входящим звонкам и проанализируем."
   ]
  },
  {
   "cell_type": "code",
   "execution_count": 124,
   "metadata": {
    "id": "cFiy1D_RCsy5"
   },
   "outputs": [],
   "source": [
    "telecom_dataset_group_in = telecom_dataset.query(\n",
    "    'direction == \"in\" and month == \"2019-11-01\"').groupby(\n",
    "        ['user_id','internal']).agg({'operator_id':'nunique','call_duration':'sum' ,'total_call_duration':'sum'}).reset_index()"
   ]
  },
  {
   "cell_type": "code",
   "execution_count": 125,
   "metadata": {
    "id": "CEXtobbsXkFw"
   },
   "outputs": [],
   "source": [
    "telecom_dataset_group_in['total_call_duration'] = list(map(lambda x: math.ceil(x/60), telecom_dataset_group_in['total_call_duration']))\n",
    "telecom_dataset_group_in['call_duration'] = list(map(lambda x: math.ceil(x/60), telecom_dataset_group_in['call_duration']))"
   ]
  },
  {
   "cell_type": "markdown",
   "metadata": {
    "id": "gDq2v14wAQAz"
   },
   "source": [
    "Посмотрим сколько минут в месяц потратили клиенты на входящих звонках."
   ]
  },
  {
   "cell_type": "code",
   "execution_count": 126,
   "metadata": {
    "colab": {
     "base_uri": "https://localhost:8080/",
     "height": 424
    },
    "executionInfo": {
     "elapsed": 22,
     "status": "ok",
     "timestamp": 1649914429313,
     "user": {
      "displayName": "Сергей Холоденин",
      "userId": "02339464120149742563"
     },
     "user_tz": -180
    },
    "id": "pjVnGTNgYgbY",
    "outputId": "6b7eb0ee-6ea9-4512-9657-ce5b03499c0c"
   },
   "outputs": [
    {
     "data": {
      "text/html": [
       "<div>\n",
       "<style scoped>\n",
       "    .dataframe tbody tr th:only-of-type {\n",
       "        vertical-align: middle;\n",
       "    }\n",
       "\n",
       "    .dataframe tbody tr th {\n",
       "        vertical-align: top;\n",
       "    }\n",
       "\n",
       "    .dataframe thead th {\n",
       "        text-align: right;\n",
       "    }\n",
       "</style>\n",
       "<table border=\"1\" class=\"dataframe\">\n",
       "  <thead>\n",
       "    <tr style=\"text-align: right;\">\n",
       "      <th></th>\n",
       "      <th>user_id</th>\n",
       "      <th>internal</th>\n",
       "      <th>operator_id</th>\n",
       "      <th>call_duration</th>\n",
       "      <th>total_call_duration</th>\n",
       "    </tr>\n",
       "  </thead>\n",
       "  <tbody>\n",
       "    <tr>\n",
       "      <th>270</th>\n",
       "      <td>168252</td>\n",
       "      <td>False</td>\n",
       "      <td>14</td>\n",
       "      <td>13977</td>\n",
       "      <td>16467</td>\n",
       "    </tr>\n",
       "    <tr>\n",
       "      <th>262</th>\n",
       "      <td>168187</td>\n",
       "      <td>False</td>\n",
       "      <td>39</td>\n",
       "      <td>6798</td>\n",
       "      <td>8144</td>\n",
       "    </tr>\n",
       "    <tr>\n",
       "      <th>272</th>\n",
       "      <td>168253</td>\n",
       "      <td>False</td>\n",
       "      <td>2</td>\n",
       "      <td>6618</td>\n",
       "      <td>6719</td>\n",
       "    </tr>\n",
       "    <tr>\n",
       "      <th>172</th>\n",
       "      <td>167650</td>\n",
       "      <td>False</td>\n",
       "      <td>4</td>\n",
       "      <td>4319</td>\n",
       "      <td>6017</td>\n",
       "    </tr>\n",
       "    <tr>\n",
       "      <th>88</th>\n",
       "      <td>167071</td>\n",
       "      <td>False</td>\n",
       "      <td>2</td>\n",
       "      <td>3554</td>\n",
       "      <td>4301</td>\n",
       "    </tr>\n",
       "    <tr>\n",
       "      <th>...</th>\n",
       "      <td>...</td>\n",
       "      <td>...</td>\n",
       "      <td>...</td>\n",
       "      <td>...</td>\n",
       "      <td>...</td>\n",
       "    </tr>\n",
       "    <tr>\n",
       "      <th>32</th>\n",
       "      <td>166669</td>\n",
       "      <td>False</td>\n",
       "      <td>0</td>\n",
       "      <td>0</td>\n",
       "      <td>1</td>\n",
       "    </tr>\n",
       "    <tr>\n",
       "      <th>204</th>\n",
       "      <td>167906</td>\n",
       "      <td>True</td>\n",
       "      <td>0</td>\n",
       "      <td>0</td>\n",
       "      <td>1</td>\n",
       "    </tr>\n",
       "    <tr>\n",
       "      <th>180</th>\n",
       "      <td>167721</td>\n",
       "      <td>False</td>\n",
       "      <td>0</td>\n",
       "      <td>0</td>\n",
       "      <td>1</td>\n",
       "    </tr>\n",
       "    <tr>\n",
       "      <th>298</th>\n",
       "      <td>168466</td>\n",
       "      <td>True</td>\n",
       "      <td>0</td>\n",
       "      <td>0</td>\n",
       "      <td>0</td>\n",
       "    </tr>\n",
       "    <tr>\n",
       "      <th>206</th>\n",
       "      <td>167923</td>\n",
       "      <td>False</td>\n",
       "      <td>0</td>\n",
       "      <td>0</td>\n",
       "      <td>0</td>\n",
       "    </tr>\n",
       "  </tbody>\n",
       "</table>\n",
       "<p>316 rows × 5 columns</p>\n",
       "</div>"
      ],
      "text/plain": [
       "     user_id  internal  operator_id  call_duration  total_call_duration\n",
       "270   168252     False           14          13977                16467\n",
       "262   168187     False           39           6798                 8144\n",
       "272   168253     False            2           6618                 6719\n",
       "172   167650     False            4           4319                 6017\n",
       "88    167071     False            2           3554                 4301\n",
       "..       ...       ...          ...            ...                  ...\n",
       "32    166669     False            0              0                    1\n",
       "204   167906      True            0              0                    1\n",
       "180   167721     False            0              0                    1\n",
       "298   168466      True            0              0                    0\n",
       "206   167923     False            0              0                    0\n",
       "\n",
       "[316 rows x 5 columns]"
      ]
     },
     "execution_count": 126,
     "metadata": {},
     "output_type": "execute_result"
    }
   ],
   "source": [
    "telecom_dataset_group_in.sort_values(by='total_call_duration', ascending=False)"
   ]
  },
  {
   "cell_type": "markdown",
   "metadata": {
    "id": "GyP6FFSjAYty"
   },
   "source": [
    "Предположение подтвердилось, есть клиенты которые имеют значительный входящий трафик. Перед тем, как присоединить таблицу с тарифами, заменим для фокусной группы тарифы на оптимальные."
   ]
  },
  {
   "cell_type": "code",
   "execution_count": 127,
   "metadata": {
    "colab": {
     "base_uri": "https://localhost:8080/",
     "height": 424
    },
    "executionInfo": {
     "elapsed": 21,
     "status": "ok",
     "timestamp": 1649914429314,
     "user": {
      "displayName": "Сергей Холоденин",
      "userId": "02339464120149742563"
     },
     "user_tz": -180
    },
    "id": "YhRyglL3YjfN",
    "outputId": "a16093d5-c0f9-4622-a1bd-53d3e6c3c2a9"
   },
   "outputs": [
    {
     "data": {
      "text/html": [
       "<div>\n",
       "<style scoped>\n",
       "    .dataframe tbody tr th:only-of-type {\n",
       "        vertical-align: middle;\n",
       "    }\n",
       "\n",
       "    .dataframe tbody tr th {\n",
       "        vertical-align: top;\n",
       "    }\n",
       "\n",
       "    .dataframe thead th {\n",
       "        text-align: right;\n",
       "    }\n",
       "</style>\n",
       "<table border=\"1\" class=\"dataframe\">\n",
       "  <thead>\n",
       "    <tr style=\"text-align: right;\">\n",
       "      <th></th>\n",
       "      <th>user_id</th>\n",
       "      <th>tariff_plan</th>\n",
       "      <th>date_start</th>\n",
       "      <th>first_month</th>\n",
       "      <th>price_month</th>\n",
       "      <th>IN_price_per_min</th>\n",
       "      <th>OUT_price_per_min</th>\n",
       "    </tr>\n",
       "  </thead>\n",
       "  <tbody>\n",
       "    <tr>\n",
       "      <th>0</th>\n",
       "      <td>166713</td>\n",
       "      <td>A</td>\n",
       "      <td>2019-08-15</td>\n",
       "      <td>2019-08-01</td>\n",
       "      <td>5000</td>\n",
       "      <td>0.10</td>\n",
       "      <td>0.4</td>\n",
       "    </tr>\n",
       "    <tr>\n",
       "      <th>1</th>\n",
       "      <td>166901</td>\n",
       "      <td>A</td>\n",
       "      <td>2019-08-23</td>\n",
       "      <td>2019-08-01</td>\n",
       "      <td>5000</td>\n",
       "      <td>0.10</td>\n",
       "      <td>0.4</td>\n",
       "    </tr>\n",
       "    <tr>\n",
       "      <th>2</th>\n",
       "      <td>168527</td>\n",
       "      <td>A</td>\n",
       "      <td>2019-10-29</td>\n",
       "      <td>2019-10-01</td>\n",
       "      <td>5000</td>\n",
       "      <td>0.10</td>\n",
       "      <td>0.4</td>\n",
       "    </tr>\n",
       "    <tr>\n",
       "      <th>3</th>\n",
       "      <td>167097</td>\n",
       "      <td>A</td>\n",
       "      <td>2019-09-01</td>\n",
       "      <td>2019-09-01</td>\n",
       "      <td>5000</td>\n",
       "      <td>0.10</td>\n",
       "      <td>0.4</td>\n",
       "    </tr>\n",
       "    <tr>\n",
       "      <th>4</th>\n",
       "      <td>168193</td>\n",
       "      <td>A</td>\n",
       "      <td>2019-10-16</td>\n",
       "      <td>2019-10-01</td>\n",
       "      <td>5000</td>\n",
       "      <td>0.10</td>\n",
       "      <td>0.4</td>\n",
       "    </tr>\n",
       "    <tr>\n",
       "      <th>...</th>\n",
       "      <td>...</td>\n",
       "      <td>...</td>\n",
       "      <td>...</td>\n",
       "      <td>...</td>\n",
       "      <td>...</td>\n",
       "      <td>...</td>\n",
       "      <td>...</td>\n",
       "    </tr>\n",
       "    <tr>\n",
       "      <th>727</th>\n",
       "      <td>166554</td>\n",
       "      <td>B</td>\n",
       "      <td>2019-08-08</td>\n",
       "      <td>2019-08-01</td>\n",
       "      <td>2000</td>\n",
       "      <td>0.15</td>\n",
       "      <td>0.5</td>\n",
       "    </tr>\n",
       "    <tr>\n",
       "      <th>728</th>\n",
       "      <td>166911</td>\n",
       "      <td>B</td>\n",
       "      <td>2019-08-23</td>\n",
       "      <td>2019-08-01</td>\n",
       "      <td>2000</td>\n",
       "      <td>0.15</td>\n",
       "      <td>0.5</td>\n",
       "    </tr>\n",
       "    <tr>\n",
       "      <th>729</th>\n",
       "      <td>167012</td>\n",
       "      <td>B</td>\n",
       "      <td>2019-08-28</td>\n",
       "      <td>2019-08-01</td>\n",
       "      <td>2000</td>\n",
       "      <td>0.15</td>\n",
       "      <td>0.5</td>\n",
       "    </tr>\n",
       "    <tr>\n",
       "      <th>730</th>\n",
       "      <td>166867</td>\n",
       "      <td>B</td>\n",
       "      <td>2019-08-22</td>\n",
       "      <td>2019-08-01</td>\n",
       "      <td>2000</td>\n",
       "      <td>0.15</td>\n",
       "      <td>0.5</td>\n",
       "    </tr>\n",
       "    <tr>\n",
       "      <th>731</th>\n",
       "      <td>166565</td>\n",
       "      <td>B</td>\n",
       "      <td>2019-08-08</td>\n",
       "      <td>2019-08-01</td>\n",
       "      <td>2000</td>\n",
       "      <td>0.15</td>\n",
       "      <td>0.5</td>\n",
       "    </tr>\n",
       "  </tbody>\n",
       "</table>\n",
       "<p>732 rows × 7 columns</p>\n",
       "</div>"
      ],
      "text/plain": [
       "     user_id tariff_plan date_start first_month  price_month  \\\n",
       "0     166713           A 2019-08-15  2019-08-01         5000   \n",
       "1     166901           A 2019-08-23  2019-08-01         5000   \n",
       "2     168527           A 2019-10-29  2019-10-01         5000   \n",
       "3     167097           A 2019-09-01  2019-09-01         5000   \n",
       "4     168193           A 2019-10-16  2019-10-01         5000   \n",
       "..       ...         ...        ...         ...          ...   \n",
       "727   166554           B 2019-08-08  2019-08-01         2000   \n",
       "728   166911           B 2019-08-23  2019-08-01         2000   \n",
       "729   167012           B 2019-08-28  2019-08-01         2000   \n",
       "730   166867           B 2019-08-22  2019-08-01         2000   \n",
       "731   166565           B 2019-08-08  2019-08-01         2000   \n",
       "\n",
       "     IN_price_per_min  OUT_price_per_min  \n",
       "0                0.10                0.4  \n",
       "1                0.10                0.4  \n",
       "2                0.10                0.4  \n",
       "3                0.10                0.4  \n",
       "4                0.10                0.4  \n",
       "..                ...                ...  \n",
       "727              0.15                0.5  \n",
       "728              0.15                0.5  \n",
       "729              0.15                0.5  \n",
       "730              0.15                0.5  \n",
       "731              0.15                0.5  \n",
       "\n",
       "[732 rows x 7 columns]"
      ]
     },
     "execution_count": 127,
     "metadata": {},
     "output_type": "execute_result"
    }
   ],
   "source": [
    "telecom_clients"
   ]
  },
  {
   "cell_type": "code",
   "execution_count": 128,
   "metadata": {
    "id": "gefhWHIRZI6A"
   },
   "outputs": [],
   "source": [
    "clients_for_change_tariff_c = list(clients_for_change_tariff[clients_for_change_tariff['recommendation_tariff']== 'C']['user_id'])\n",
    "clients_for_change_tariff_b = list(clients_for_change_tariff[clients_for_change_tariff['recommendation_tariff']== 'B']['user_id'])"
   ]
  },
  {
   "cell_type": "code",
   "execution_count": 129,
   "metadata": {
    "id": "j2FMhXHziI6k"
   },
   "outputs": [],
   "source": [
    "telecom_clients_new = telecom_clients[['user_id','tariff_plan']].copy()"
   ]
  },
  {
   "cell_type": "code",
   "execution_count": 130,
   "metadata": {
    "id": "8eeg_zqpcC90"
   },
   "outputs": [],
   "source": [
    "def change_tariff(row):\n",
    "  user_id = row['user_id']\n",
    "  tariff_plan = row['tariff_plan']\n",
    "  if user_id in clients_for_change_tariff_c:\n",
    "    return 'C'\n",
    "  elif user_id in clients_for_change_tariff_b:\n",
    "    return 'B'\n",
    "  else:\n",
    "    return tariff_plan"
   ]
  },
  {
   "cell_type": "code",
   "execution_count": 131,
   "metadata": {
    "id": "CeZKVrzogByX"
   },
   "outputs": [],
   "source": [
    "telecom_clients_new['tariff_plan'] = telecom_clients_new.apply(change_tariff, axis=1)"
   ]
  },
  {
   "cell_type": "code",
   "execution_count": 132,
   "metadata": {
    "id": "d8WCzra8gozZ"
   },
   "outputs": [],
   "source": [
    "telecom_clients_new['price_month'] = telecom_clients_new['tariff_plan'].apply(price_mnt)\n",
    "telecom_clients_new['IN_price_per_min'] = telecom_clients_new['tariff_plan'].apply(price_in)\n",
    "telecom_clients_new['OUT_price_per_min'] = telecom_clients_new['tariff_plan'].apply(price_out)"
   ]
  },
  {
   "cell_type": "markdown",
   "metadata": {
    "id": "FQ61BSwYBDoi"
   },
   "source": [
    "Тарифы оптимизированы, их условия отражены в таблице. Соединим данные."
   ]
  },
  {
   "cell_type": "code",
   "execution_count": 133,
   "metadata": {
    "colab": {
     "base_uri": "https://localhost:8080/",
     "height": 424
    },
    "executionInfo": {
     "elapsed": 83,
     "status": "ok",
     "timestamp": 1649914429944,
     "user": {
      "displayName": "Сергей Холоденин",
      "userId": "02339464120149742563"
     },
     "user_tz": -180
    },
    "id": "5m-MwbJxjgsO",
    "outputId": "5973afb4-cc26-41de-a847-7a6db3c3ffb4"
   },
   "outputs": [
    {
     "data": {
      "text/html": [
       "<div>\n",
       "<style scoped>\n",
       "    .dataframe tbody tr th:only-of-type {\n",
       "        vertical-align: middle;\n",
       "    }\n",
       "\n",
       "    .dataframe tbody tr th {\n",
       "        vertical-align: top;\n",
       "    }\n",
       "\n",
       "    .dataframe thead th {\n",
       "        text-align: right;\n",
       "    }\n",
       "</style>\n",
       "<table border=\"1\" class=\"dataframe\">\n",
       "  <thead>\n",
       "    <tr style=\"text-align: right;\">\n",
       "      <th></th>\n",
       "      <th>user_id</th>\n",
       "      <th>tariff_plan</th>\n",
       "      <th>price_month</th>\n",
       "      <th>IN_price_per_min</th>\n",
       "      <th>OUT_price_per_min</th>\n",
       "    </tr>\n",
       "  </thead>\n",
       "  <tbody>\n",
       "    <tr>\n",
       "      <th>0</th>\n",
       "      <td>166713</td>\n",
       "      <td>C</td>\n",
       "      <td>1000</td>\n",
       "      <td>0.30</td>\n",
       "      <td>0.7</td>\n",
       "    </tr>\n",
       "    <tr>\n",
       "      <th>1</th>\n",
       "      <td>166901</td>\n",
       "      <td>C</td>\n",
       "      <td>1000</td>\n",
       "      <td>0.30</td>\n",
       "      <td>0.7</td>\n",
       "    </tr>\n",
       "    <tr>\n",
       "      <th>2</th>\n",
       "      <td>168527</td>\n",
       "      <td>A</td>\n",
       "      <td>5000</td>\n",
       "      <td>0.10</td>\n",
       "      <td>0.4</td>\n",
       "    </tr>\n",
       "    <tr>\n",
       "      <th>3</th>\n",
       "      <td>167097</td>\n",
       "      <td>A</td>\n",
       "      <td>5000</td>\n",
       "      <td>0.10</td>\n",
       "      <td>0.4</td>\n",
       "    </tr>\n",
       "    <tr>\n",
       "      <th>4</th>\n",
       "      <td>168193</td>\n",
       "      <td>C</td>\n",
       "      <td>1000</td>\n",
       "      <td>0.30</td>\n",
       "      <td>0.7</td>\n",
       "    </tr>\n",
       "    <tr>\n",
       "      <th>...</th>\n",
       "      <td>...</td>\n",
       "      <td>...</td>\n",
       "      <td>...</td>\n",
       "      <td>...</td>\n",
       "      <td>...</td>\n",
       "    </tr>\n",
       "    <tr>\n",
       "      <th>727</th>\n",
       "      <td>166554</td>\n",
       "      <td>B</td>\n",
       "      <td>2000</td>\n",
       "      <td>0.15</td>\n",
       "      <td>0.5</td>\n",
       "    </tr>\n",
       "    <tr>\n",
       "      <th>728</th>\n",
       "      <td>166911</td>\n",
       "      <td>B</td>\n",
       "      <td>2000</td>\n",
       "      <td>0.15</td>\n",
       "      <td>0.5</td>\n",
       "    </tr>\n",
       "    <tr>\n",
       "      <th>729</th>\n",
       "      <td>167012</td>\n",
       "      <td>B</td>\n",
       "      <td>2000</td>\n",
       "      <td>0.15</td>\n",
       "      <td>0.5</td>\n",
       "    </tr>\n",
       "    <tr>\n",
       "      <th>730</th>\n",
       "      <td>166867</td>\n",
       "      <td>B</td>\n",
       "      <td>2000</td>\n",
       "      <td>0.15</td>\n",
       "      <td>0.5</td>\n",
       "    </tr>\n",
       "    <tr>\n",
       "      <th>731</th>\n",
       "      <td>166565</td>\n",
       "      <td>B</td>\n",
       "      <td>2000</td>\n",
       "      <td>0.15</td>\n",
       "      <td>0.5</td>\n",
       "    </tr>\n",
       "  </tbody>\n",
       "</table>\n",
       "<p>732 rows × 5 columns</p>\n",
       "</div>"
      ],
      "text/plain": [
       "     user_id tariff_plan  price_month  IN_price_per_min  OUT_price_per_min\n",
       "0     166713           C         1000              0.30                0.7\n",
       "1     166901           C         1000              0.30                0.7\n",
       "2     168527           A         5000              0.10                0.4\n",
       "3     167097           A         5000              0.10                0.4\n",
       "4     168193           C         1000              0.30                0.7\n",
       "..       ...         ...          ...               ...                ...\n",
       "727   166554           B         2000              0.15                0.5\n",
       "728   166911           B         2000              0.15                0.5\n",
       "729   167012           B         2000              0.15                0.5\n",
       "730   166867           B         2000              0.15                0.5\n",
       "731   166565           B         2000              0.15                0.5\n",
       "\n",
       "[732 rows x 5 columns]"
      ]
     },
     "execution_count": 133,
     "metadata": {},
     "output_type": "execute_result"
    }
   ],
   "source": [
    "telecom_clients_new"
   ]
  },
  {
   "cell_type": "code",
   "execution_count": 134,
   "metadata": {
    "id": "ei61n9EUjmGW"
   },
   "outputs": [],
   "source": [
    "telecom_total_in = telecom_dataset_group_in.merge(telecom_clients_new)"
   ]
  },
  {
   "cell_type": "code",
   "execution_count": 135,
   "metadata": {
    "colab": {
     "base_uri": "https://localhost:8080/",
     "height": 424
    },
    "executionInfo": {
     "elapsed": 74,
     "status": "ok",
     "timestamp": 1649914429956,
     "user": {
      "displayName": "Сергей Холоденин",
      "userId": "02339464120149742563"
     },
     "user_tz": -180
    },
    "id": "gv32rW2Rj2vX",
    "outputId": "c6ec08a7-2237-43cd-df88-106dbbe7a5a2"
   },
   "outputs": [
    {
     "data": {
      "text/html": [
       "<div>\n",
       "<style scoped>\n",
       "    .dataframe tbody tr th:only-of-type {\n",
       "        vertical-align: middle;\n",
       "    }\n",
       "\n",
       "    .dataframe tbody tr th {\n",
       "        vertical-align: top;\n",
       "    }\n",
       "\n",
       "    .dataframe thead th {\n",
       "        text-align: right;\n",
       "    }\n",
       "</style>\n",
       "<table border=\"1\" class=\"dataframe\">\n",
       "  <thead>\n",
       "    <tr style=\"text-align: right;\">\n",
       "      <th></th>\n",
       "      <th>user_id</th>\n",
       "      <th>internal</th>\n",
       "      <th>operator_id</th>\n",
       "      <th>call_duration</th>\n",
       "      <th>total_call_duration</th>\n",
       "      <th>tariff_plan</th>\n",
       "      <th>price_month</th>\n",
       "      <th>IN_price_per_min</th>\n",
       "      <th>OUT_price_per_min</th>\n",
       "    </tr>\n",
       "  </thead>\n",
       "  <tbody>\n",
       "    <tr>\n",
       "      <th>0</th>\n",
       "      <td>166377</td>\n",
       "      <td>False</td>\n",
       "      <td>3</td>\n",
       "      <td>42</td>\n",
       "      <td>50</td>\n",
       "      <td>C</td>\n",
       "      <td>1000</td>\n",
       "      <td>0.30</td>\n",
       "      <td>0.7</td>\n",
       "    </tr>\n",
       "    <tr>\n",
       "      <th>1</th>\n",
       "      <td>166391</td>\n",
       "      <td>False</td>\n",
       "      <td>1</td>\n",
       "      <td>1</td>\n",
       "      <td>2</td>\n",
       "      <td>C</td>\n",
       "      <td>1000</td>\n",
       "      <td>0.30</td>\n",
       "      <td>0.7</td>\n",
       "    </tr>\n",
       "    <tr>\n",
       "      <th>2</th>\n",
       "      <td>166392</td>\n",
       "      <td>False</td>\n",
       "      <td>2</td>\n",
       "      <td>137</td>\n",
       "      <td>162</td>\n",
       "      <td>C</td>\n",
       "      <td>1000</td>\n",
       "      <td>0.30</td>\n",
       "      <td>0.7</td>\n",
       "    </tr>\n",
       "    <tr>\n",
       "      <th>3</th>\n",
       "      <td>166405</td>\n",
       "      <td>False</td>\n",
       "      <td>8</td>\n",
       "      <td>1351</td>\n",
       "      <td>1970</td>\n",
       "      <td>B</td>\n",
       "      <td>2000</td>\n",
       "      <td>0.15</td>\n",
       "      <td>0.5</td>\n",
       "    </tr>\n",
       "    <tr>\n",
       "      <th>4</th>\n",
       "      <td>166406</td>\n",
       "      <td>False</td>\n",
       "      <td>1</td>\n",
       "      <td>20</td>\n",
       "      <td>30</td>\n",
       "      <td>C</td>\n",
       "      <td>1000</td>\n",
       "      <td>0.30</td>\n",
       "      <td>0.7</td>\n",
       "    </tr>\n",
       "    <tr>\n",
       "      <th>...</th>\n",
       "      <td>...</td>\n",
       "      <td>...</td>\n",
       "      <td>...</td>\n",
       "      <td>...</td>\n",
       "      <td>...</td>\n",
       "      <td>...</td>\n",
       "      <td>...</td>\n",
       "      <td>...</td>\n",
       "      <td>...</td>\n",
       "    </tr>\n",
       "    <tr>\n",
       "      <th>311</th>\n",
       "      <td>168598</td>\n",
       "      <td>False</td>\n",
       "      <td>1</td>\n",
       "      <td>70</td>\n",
       "      <td>82</td>\n",
       "      <td>C</td>\n",
       "      <td>1000</td>\n",
       "      <td>0.30</td>\n",
       "      <td>0.7</td>\n",
       "    </tr>\n",
       "    <tr>\n",
       "      <th>312</th>\n",
       "      <td>168598</td>\n",
       "      <td>True</td>\n",
       "      <td>1</td>\n",
       "      <td>1</td>\n",
       "      <td>1</td>\n",
       "      <td>C</td>\n",
       "      <td>1000</td>\n",
       "      <td>0.30</td>\n",
       "      <td>0.7</td>\n",
       "    </tr>\n",
       "    <tr>\n",
       "      <th>313</th>\n",
       "      <td>168601</td>\n",
       "      <td>False</td>\n",
       "      <td>2</td>\n",
       "      <td>141</td>\n",
       "      <td>162</td>\n",
       "      <td>C</td>\n",
       "      <td>1000</td>\n",
       "      <td>0.30</td>\n",
       "      <td>0.7</td>\n",
       "    </tr>\n",
       "    <tr>\n",
       "      <th>314</th>\n",
       "      <td>168603</td>\n",
       "      <td>False</td>\n",
       "      <td>0</td>\n",
       "      <td>0</td>\n",
       "      <td>1</td>\n",
       "      <td>C</td>\n",
       "      <td>1000</td>\n",
       "      <td>0.30</td>\n",
       "      <td>0.7</td>\n",
       "    </tr>\n",
       "    <tr>\n",
       "      <th>315</th>\n",
       "      <td>168606</td>\n",
       "      <td>False</td>\n",
       "      <td>1</td>\n",
       "      <td>12</td>\n",
       "      <td>15</td>\n",
       "      <td>C</td>\n",
       "      <td>1000</td>\n",
       "      <td>0.30</td>\n",
       "      <td>0.7</td>\n",
       "    </tr>\n",
       "  </tbody>\n",
       "</table>\n",
       "<p>316 rows × 9 columns</p>\n",
       "</div>"
      ],
      "text/plain": [
       "     user_id  internal  operator_id  call_duration  total_call_duration  \\\n",
       "0     166377     False            3             42                   50   \n",
       "1     166391     False            1              1                    2   \n",
       "2     166392     False            2            137                  162   \n",
       "3     166405     False            8           1351                 1970   \n",
       "4     166406     False            1             20                   30   \n",
       "..       ...       ...          ...            ...                  ...   \n",
       "311   168598     False            1             70                   82   \n",
       "312   168598      True            1              1                    1   \n",
       "313   168601     False            2            141                  162   \n",
       "314   168603     False            0              0                    1   \n",
       "315   168606     False            1             12                   15   \n",
       "\n",
       "    tariff_plan  price_month  IN_price_per_min  OUT_price_per_min  \n",
       "0             C         1000              0.30                0.7  \n",
       "1             C         1000              0.30                0.7  \n",
       "2             C         1000              0.30                0.7  \n",
       "3             B         2000              0.15                0.5  \n",
       "4             C         1000              0.30                0.7  \n",
       "..          ...          ...               ...                ...  \n",
       "311           C         1000              0.30                0.7  \n",
       "312           C         1000              0.30                0.7  \n",
       "313           C         1000              0.30                0.7  \n",
       "314           C         1000              0.30                0.7  \n",
       "315           C         1000              0.30                0.7  \n",
       "\n",
       "[316 rows x 9 columns]"
      ]
     },
     "execution_count": 135,
     "metadata": {},
     "output_type": "execute_result"
    }
   ],
   "source": [
    "telecom_total_in"
   ]
  },
  {
   "cell_type": "markdown",
   "metadata": {
    "id": "AKZevma9BV4b"
   },
   "source": [
    "Внутренние входящие не превышают разумных пределов, тогда как внешние входящие звонки имеют серьезный вес у части клиентов. Если установить лимит в 1000 минут входящих бесплатно, а остальное тарифицировать по той же ставке, что и внешние исходящие, то мы получим справедливый баланс между исходящими колл-центрами и входящими колл-центрами."
   ]
  },
  {
   "cell_type": "code",
   "execution_count": 136,
   "metadata": {
    "id": "csvuI7sMu1qp"
   },
   "outputs": [],
   "source": [
    "def duration_limit(x):\n",
    "  internal = x['internal']\n",
    "  total_call_duration = x['total_call_duration']\n",
    "  if internal == True:\n",
    "    return 0\n",
    "  else:\n",
    "    return total_call_duration-1000"
   ]
  },
  {
   "cell_type": "code",
   "execution_count": 137,
   "metadata": {
    "id": "GWMb5MUCo-x_"
   },
   "outputs": [],
   "source": [
    "telecom_total_in['duration_limit'] = telecom_total_in.apply(duration_limit, axis=1)"
   ]
  },
  {
   "cell_type": "code",
   "execution_count": 138,
   "metadata": {
    "id": "IMetrULLpaFT"
   },
   "outputs": [],
   "source": [
    "telecom_total_in['duration_limit'] = telecom_total_in['duration_limit'].apply(zero)"
   ]
  },
  {
   "cell_type": "markdown",
   "metadata": {
    "id": "TYy0g01GCZ12"
   },
   "source": [
    "Посчитаем возможную выручку от введенного изменения."
   ]
  },
  {
   "cell_type": "code",
   "execution_count": 139,
   "metadata": {
    "id": "A8eUETYQqDKe"
   },
   "outputs": [],
   "source": [
    "telecom_total_in['revenue_limit']  =telecom_total_in['duration_limit']*telecom_total_in['OUT_price_per_min']"
   ]
  },
  {
   "cell_type": "code",
   "execution_count": 140,
   "metadata": {
    "colab": {
     "base_uri": "https://localhost:8080/",
     "height": 206
    },
    "executionInfo": {
     "elapsed": 594,
     "status": "ok",
     "timestamp": 1649914430511,
     "user": {
      "displayName": "Сергей Холоденин",
      "userId": "02339464120149742563"
     },
     "user_tz": -180
    },
    "id": "o4Qs96n_v4MM",
    "outputId": "cd59b51a-9809-450c-93b1-c0020d4d4b7d"
   },
   "outputs": [
    {
     "data": {
      "text/html": [
       "<div>\n",
       "<style scoped>\n",
       "    .dataframe tbody tr th:only-of-type {\n",
       "        vertical-align: middle;\n",
       "    }\n",
       "\n",
       "    .dataframe tbody tr th {\n",
       "        vertical-align: top;\n",
       "    }\n",
       "\n",
       "    .dataframe thead th {\n",
       "        text-align: right;\n",
       "    }\n",
       "</style>\n",
       "<table border=\"1\" class=\"dataframe\">\n",
       "  <thead>\n",
       "    <tr style=\"text-align: right;\">\n",
       "      <th></th>\n",
       "      <th>user_id</th>\n",
       "      <th>internal</th>\n",
       "      <th>operator_id</th>\n",
       "      <th>call_duration</th>\n",
       "      <th>total_call_duration</th>\n",
       "      <th>tariff_plan</th>\n",
       "      <th>price_month</th>\n",
       "      <th>IN_price_per_min</th>\n",
       "      <th>OUT_price_per_min</th>\n",
       "      <th>duration_limit</th>\n",
       "      <th>revenue_limit</th>\n",
       "    </tr>\n",
       "  </thead>\n",
       "  <tbody>\n",
       "    <tr>\n",
       "      <th>3</th>\n",
       "      <td>166405</td>\n",
       "      <td>False</td>\n",
       "      <td>8</td>\n",
       "      <td>1351</td>\n",
       "      <td>1970</td>\n",
       "      <td>B</td>\n",
       "      <td>2000</td>\n",
       "      <td>0.15</td>\n",
       "      <td>0.5</td>\n",
       "      <td>970</td>\n",
       "      <td>485.0</td>\n",
       "    </tr>\n",
       "    <tr>\n",
       "      <th>14</th>\n",
       "      <td>166511</td>\n",
       "      <td>False</td>\n",
       "      <td>3</td>\n",
       "      <td>1368</td>\n",
       "      <td>1554</td>\n",
       "      <td>C</td>\n",
       "      <td>1000</td>\n",
       "      <td>0.30</td>\n",
       "      <td>0.7</td>\n",
       "      <td>554</td>\n",
       "      <td>387.8</td>\n",
       "    </tr>\n",
       "    <tr>\n",
       "      <th>18</th>\n",
       "      <td>166541</td>\n",
       "      <td>False</td>\n",
       "      <td>2</td>\n",
       "      <td>917</td>\n",
       "      <td>1151</td>\n",
       "      <td>C</td>\n",
       "      <td>1000</td>\n",
       "      <td>0.30</td>\n",
       "      <td>0.7</td>\n",
       "      <td>151</td>\n",
       "      <td>105.7</td>\n",
       "    </tr>\n",
       "    <tr>\n",
       "      <th>29</th>\n",
       "      <td>166658</td>\n",
       "      <td>False</td>\n",
       "      <td>5</td>\n",
       "      <td>1603</td>\n",
       "      <td>1686</td>\n",
       "      <td>B</td>\n",
       "      <td>2000</td>\n",
       "      <td>0.15</td>\n",
       "      <td>0.5</td>\n",
       "      <td>686</td>\n",
       "      <td>343.0</td>\n",
       "    </tr>\n",
       "    <tr>\n",
       "      <th>50</th>\n",
       "      <td>166782</td>\n",
       "      <td>False</td>\n",
       "      <td>3</td>\n",
       "      <td>1210</td>\n",
       "      <td>1361</td>\n",
       "      <td>C</td>\n",
       "      <td>1000</td>\n",
       "      <td>0.30</td>\n",
       "      <td>0.7</td>\n",
       "      <td>361</td>\n",
       "      <td>252.7</td>\n",
       "    </tr>\n",
       "  </tbody>\n",
       "</table>\n",
       "</div>"
      ],
      "text/plain": [
       "    user_id  internal  operator_id  call_duration  total_call_duration  \\\n",
       "3    166405     False            8           1351                 1970   \n",
       "14   166511     False            3           1368                 1554   \n",
       "18   166541     False            2            917                 1151   \n",
       "29   166658     False            5           1603                 1686   \n",
       "50   166782     False            3           1210                 1361   \n",
       "\n",
       "   tariff_plan  price_month  IN_price_per_min  OUT_price_per_min  \\\n",
       "3            B         2000              0.15                0.5   \n",
       "14           C         1000              0.30                0.7   \n",
       "18           C         1000              0.30                0.7   \n",
       "29           B         2000              0.15                0.5   \n",
       "50           C         1000              0.30                0.7   \n",
       "\n",
       "    duration_limit  revenue_limit  \n",
       "3              970          485.0  \n",
       "14             554          387.8  \n",
       "18             151          105.7  \n",
       "29             686          343.0  \n",
       "50             361          252.7  "
      ]
     },
     "execution_count": 140,
     "metadata": {},
     "output_type": "execute_result"
    }
   ],
   "source": [
    "telecom_total_in[telecom_total_in['duration_limit'] > 0].head()"
   ]
  },
  {
   "cell_type": "code",
   "execution_count": 141,
   "metadata": {
    "id": "wbkPa-LTv_OQ"
   },
   "outputs": [],
   "source": [
    "november_revenue_limit_in = telecom_total_in['duration_limit'].sum()"
   ]
  },
  {
   "cell_type": "code",
   "execution_count": 142,
   "metadata": {
    "colab": {
     "base_uri": "https://localhost:8080/"
    },
    "executionInfo": {
     "elapsed": 248,
     "status": "ok",
     "timestamp": 1649914430522,
     "user": {
      "displayName": "Сергей Холоденин",
      "userId": "02339464120149742563"
     },
     "user_tz": -180
    },
    "id": "CXWLokaUwMRK",
    "outputId": "0683b7c0-f9e8-4eed-f389-5b4c0319900a"
   },
   "outputs": [
    {
     "data": {
      "text/plain": [
       "0.1048236566042004"
      ]
     },
     "execution_count": 142,
     "metadata": {},
     "output_type": "execute_result"
    }
   ],
   "source": [
    "november_revenue_limit_in/novemder_revenue"
   ]
  },
  {
   "cell_type": "markdown",
   "metadata": {
    "id": "XPXtQF_fCn2b"
   },
   "source": [
    "10% мы смогли принести Телекому за счет ограничения входящих. При этом даже если колл-центры решат уйти к конкуренту, то потери будут минимальны, т.к. они платили по минимальным требованиям, а если останутся то это принесет дополнительный доход. Проверим, какое количество операторов работало в ноябре всего."
   ]
  },
  {
   "cell_type": "markdown",
   "metadata": {
    "id": "s77wRG59nPuD"
   },
   "source": [
    "<div class=\"alert alert-success\">\n",
    "<b>Комментарий тимлида v.1</b> \n",
    "    \n",
    "👍 Интересное предложение и реализация! Конечно, в реальных условиях, для комдира нужно обосновать, почему мы выбрали 1000 минут как лимит.\n",
    "\n",
    "</div>"
   ]
  },
  {
   "cell_type": "code",
   "execution_count": 143,
   "metadata": {
    "id": "KoJyhLPMwevR"
   },
   "outputs": [],
   "source": [
    "operators_count = telecom_dataset[telecom_dataset['date'] >= '2019-11-01']['operator_id'].nunique()"
   ]
  },
  {
   "cell_type": "markdown",
   "metadata": {
    "id": "lYGbiIdEE0KE"
   },
   "source": [
    "Если сделать плату за 1 оператора в месяц вместо 100 руб. - 200 руб., то мы получаем еще 15% от ТО, что в совокупности с лимитом на входящие позволяет нивелировать разницу, которая была после оптимизации тарифов для фокусной группы."
   ]
  },
  {
   "cell_type": "code",
   "execution_count": 144,
   "metadata": {
    "id": "cuZlPeRjEPYE"
   },
   "outputs": [],
   "source": [
    "operators_count_revenue = operators_count*100"
   ]
  },
  {
   "cell_type": "code",
   "execution_count": 145,
   "metadata": {
    "colab": {
     "base_uri": "https://localhost:8080/"
    },
    "executionInfo": {
     "elapsed": 224,
     "status": "ok",
     "timestamp": 1649914430535,
     "user": {
      "displayName": "Сергей Холоденин",
      "userId": "02339464120149742563"
     },
     "user_tz": -180
    },
    "id": "WSzzxCRDEj49",
    "outputId": "e0568328-654b-43a6-bf6a-3016a4e6b90b"
   },
   "outputs": [
    {
     "data": {
      "text/plain": [
       "0.14966332450472827"
      ]
     },
     "execution_count": 145,
     "metadata": {},
     "output_type": "execute_result"
    }
   ],
   "source": [
    "operators_count_revenue/novemder_revenue"
   ]
  },
  {
   "cell_type": "markdown",
   "metadata": {
    "id": "AO43ZXPanPuF"
   },
   "source": [
    "<div class=\"alert alert-success\">\n",
    "<b>Комментарий тимлида v.1</b> \n",
    "    \n",
    "👍 В целом в этой части проекта все сделано хорошо и интересно. Только, проверь, пожалуйста, результаты, когда будет решена проблема с подсчетом количества уникальных операторов.\n",
    "\n",
    "</div>"
   ]
  },
  {
   "cell_type": "markdown",
   "metadata": {
    "id": "LyLXl1KTZIKp"
   },
   "source": [
    "### Расчет выручки и среднего чека за ноябрь до и после введения новых условий тарифа"
   ]
  },
  {
   "cell_type": "markdown",
   "metadata": {
    "id": "a_1J9JwqOkoG"
   },
   "source": [
    "#### До введения изменений"
   ]
  },
  {
   "cell_type": "markdown",
   "metadata": {
    "id": "xwDcQLnXNXtk"
   },
   "source": [
    "Рассчитаем текущую выручку по клиентам за ноябрь. Подготовим датасет телеком к расчету."
   ]
  },
  {
   "cell_type": "code",
   "execution_count": 146,
   "metadata": {
    "id": "7jVGcyeSEsu3"
   },
   "outputs": [],
   "source": [
    "telecom_dataset_before = telecom_dataset.query('month == \"2019-11-01\"').groupby(\n",
    "    ['user_id','month','direction','internal']).agg({'operator_id':'nunique', 'total_call_duration':'sum'}).reset_index()"
   ]
  },
  {
   "cell_type": "code",
   "execution_count": 147,
   "metadata": {
    "id": "gfnzxmPTagdR"
   },
   "outputs": [],
   "source": [
    "telecom_dataset_before['total_call_duration'] = list(map(lambda x: math.ceil(x/60), telecom_dataset_before['total_call_duration']))"
   ]
  },
  {
   "cell_type": "markdown",
   "metadata": {
    "id": "1rrq92NkNlj4"
   },
   "source": [
    "Объединим с изначальными тарифами."
   ]
  },
  {
   "cell_type": "code",
   "execution_count": 148,
   "metadata": {
    "id": "HpInKYBLanSL"
   },
   "outputs": [],
   "source": [
    "telecom_dataset_before = telecom_dataset_before.merge(telecom_clients)"
   ]
  },
  {
   "cell_type": "code",
   "execution_count": 149,
   "metadata": {
    "colab": {
     "base_uri": "https://localhost:8080/",
     "height": 206
    },
    "executionInfo": {
     "elapsed": 223,
     "status": "ok",
     "timestamp": 1649914430566,
     "user": {
      "displayName": "Сергей Холоденин",
      "userId": "02339464120149742563"
     },
     "user_tz": -180
    },
    "id": "gOExyvZja3z-",
    "outputId": "e06a98ee-6820-4526-dd51-c2ab61caef49"
   },
   "outputs": [
    {
     "data": {
      "text/html": [
       "<div>\n",
       "<style scoped>\n",
       "    .dataframe tbody tr th:only-of-type {\n",
       "        vertical-align: middle;\n",
       "    }\n",
       "\n",
       "    .dataframe tbody tr th {\n",
       "        vertical-align: top;\n",
       "    }\n",
       "\n",
       "    .dataframe thead th {\n",
       "        text-align: right;\n",
       "    }\n",
       "</style>\n",
       "<table border=\"1\" class=\"dataframe\">\n",
       "  <thead>\n",
       "    <tr style=\"text-align: right;\">\n",
       "      <th></th>\n",
       "      <th>user_id</th>\n",
       "      <th>month</th>\n",
       "      <th>direction</th>\n",
       "      <th>internal</th>\n",
       "      <th>operator_id</th>\n",
       "      <th>total_call_duration</th>\n",
       "      <th>tariff_plan</th>\n",
       "      <th>date_start</th>\n",
       "      <th>first_month</th>\n",
       "      <th>price_month</th>\n",
       "      <th>IN_price_per_min</th>\n",
       "      <th>OUT_price_per_min</th>\n",
       "    </tr>\n",
       "  </thead>\n",
       "  <tbody>\n",
       "    <tr>\n",
       "      <th>0</th>\n",
       "      <td>166377</td>\n",
       "      <td>2019-11-01</td>\n",
       "      <td>in</td>\n",
       "      <td>False</td>\n",
       "      <td>3</td>\n",
       "      <td>50</td>\n",
       "      <td>B</td>\n",
       "      <td>2019-08-01</td>\n",
       "      <td>2019-08-01</td>\n",
       "      <td>2000</td>\n",
       "      <td>0.15</td>\n",
       "      <td>0.5</td>\n",
       "    </tr>\n",
       "    <tr>\n",
       "      <th>1</th>\n",
       "      <td>166377</td>\n",
       "      <td>2019-11-01</td>\n",
       "      <td>out</td>\n",
       "      <td>False</td>\n",
       "      <td>4</td>\n",
       "      <td>1590</td>\n",
       "      <td>B</td>\n",
       "      <td>2019-08-01</td>\n",
       "      <td>2019-08-01</td>\n",
       "      <td>2000</td>\n",
       "      <td>0.15</td>\n",
       "      <td>0.5</td>\n",
       "    </tr>\n",
       "    <tr>\n",
       "      <th>2</th>\n",
       "      <td>166377</td>\n",
       "      <td>2019-11-01</td>\n",
       "      <td>out</td>\n",
       "      <td>True</td>\n",
       "      <td>4</td>\n",
       "      <td>3</td>\n",
       "      <td>B</td>\n",
       "      <td>2019-08-01</td>\n",
       "      <td>2019-08-01</td>\n",
       "      <td>2000</td>\n",
       "      <td>0.15</td>\n",
       "      <td>0.5</td>\n",
       "    </tr>\n",
       "    <tr>\n",
       "      <th>3</th>\n",
       "      <td>166391</td>\n",
       "      <td>2019-11-01</td>\n",
       "      <td>in</td>\n",
       "      <td>False</td>\n",
       "      <td>1</td>\n",
       "      <td>2</td>\n",
       "      <td>C</td>\n",
       "      <td>2019-08-01</td>\n",
       "      <td>2019-08-01</td>\n",
       "      <td>1000</td>\n",
       "      <td>0.30</td>\n",
       "      <td>0.7</td>\n",
       "    </tr>\n",
       "    <tr>\n",
       "      <th>4</th>\n",
       "      <td>166392</td>\n",
       "      <td>2019-11-01</td>\n",
       "      <td>in</td>\n",
       "      <td>False</td>\n",
       "      <td>2</td>\n",
       "      <td>162</td>\n",
       "      <td>C</td>\n",
       "      <td>2019-08-01</td>\n",
       "      <td>2019-08-01</td>\n",
       "      <td>1000</td>\n",
       "      <td>0.30</td>\n",
       "      <td>0.7</td>\n",
       "    </tr>\n",
       "  </tbody>\n",
       "</table>\n",
       "</div>"
      ],
      "text/plain": [
       "   user_id      month direction  internal  operator_id  total_call_duration  \\\n",
       "0   166377 2019-11-01        in     False            3                   50   \n",
       "1   166377 2019-11-01       out     False            4                 1590   \n",
       "2   166377 2019-11-01       out      True            4                    3   \n",
       "3   166391 2019-11-01        in     False            1                    2   \n",
       "4   166392 2019-11-01        in     False            2                  162   \n",
       "\n",
       "  tariff_plan date_start first_month  price_month  IN_price_per_min  \\\n",
       "0           B 2019-08-01  2019-08-01         2000              0.15   \n",
       "1           B 2019-08-01  2019-08-01         2000              0.15   \n",
       "2           B 2019-08-01  2019-08-01         2000              0.15   \n",
       "3           C 2019-08-01  2019-08-01         1000              0.30   \n",
       "4           C 2019-08-01  2019-08-01         1000              0.30   \n",
       "\n",
       "   OUT_price_per_min  \n",
       "0                0.5  \n",
       "1                0.5  \n",
       "2                0.5  \n",
       "3                0.7  \n",
       "4                0.7  "
      ]
     },
     "execution_count": 149,
     "metadata": {},
     "output_type": "execute_result"
    }
   ],
   "source": [
    "telecom_dataset_before.head()"
   ]
  },
  {
   "cell_type": "markdown",
   "metadata": {
    "id": "V1Co66L5Nrae"
   },
   "source": [
    "Для удобства расчета разделим колонки обозначения внутри-вне сети и входящие-исходящие звонки."
   ]
  },
  {
   "cell_type": "code",
   "execution_count": 150,
   "metadata": {
    "id": "Pj6rkiBwa57Z"
   },
   "outputs": [],
   "source": [
    "telecom_dataset_before = pd.get_dummies(telecom_dataset_before, columns=['direction','internal'])"
   ]
  },
  {
   "cell_type": "code",
   "execution_count": 151,
   "metadata": {
    "colab": {
     "base_uri": "https://localhost:8080/",
     "height": 357
    },
    "executionInfo": {
     "elapsed": 212,
     "status": "ok",
     "timestamp": 1649914430578,
     "user": {
      "displayName": "Сергей Холоденин",
      "userId": "02339464120149742563"
     },
     "user_tz": -180
    },
    "id": "0Pd_5lh0bowa",
    "outputId": "91d95278-e5ce-489a-e3f8-7e3895ab0a3a"
   },
   "outputs": [
    {
     "data": {
      "text/html": [
       "<div>\n",
       "<style scoped>\n",
       "    .dataframe tbody tr th:only-of-type {\n",
       "        vertical-align: middle;\n",
       "    }\n",
       "\n",
       "    .dataframe tbody tr th {\n",
       "        vertical-align: top;\n",
       "    }\n",
       "\n",
       "    .dataframe thead th {\n",
       "        text-align: right;\n",
       "    }\n",
       "</style>\n",
       "<table border=\"1\" class=\"dataframe\">\n",
       "  <thead>\n",
       "    <tr style=\"text-align: right;\">\n",
       "      <th></th>\n",
       "      <th>user_id</th>\n",
       "      <th>month</th>\n",
       "      <th>operator_id</th>\n",
       "      <th>total_call_duration</th>\n",
       "      <th>tariff_plan</th>\n",
       "      <th>date_start</th>\n",
       "      <th>first_month</th>\n",
       "      <th>price_month</th>\n",
       "      <th>IN_price_per_min</th>\n",
       "      <th>OUT_price_per_min</th>\n",
       "      <th>direction_in</th>\n",
       "      <th>direction_out</th>\n",
       "      <th>internal_False</th>\n",
       "      <th>internal_True</th>\n",
       "    </tr>\n",
       "  </thead>\n",
       "  <tbody>\n",
       "    <tr>\n",
       "      <th>0</th>\n",
       "      <td>166377</td>\n",
       "      <td>2019-11-01</td>\n",
       "      <td>3</td>\n",
       "      <td>50</td>\n",
       "      <td>B</td>\n",
       "      <td>2019-08-01</td>\n",
       "      <td>2019-08-01</td>\n",
       "      <td>2000</td>\n",
       "      <td>0.15</td>\n",
       "      <td>0.5</td>\n",
       "      <td>1</td>\n",
       "      <td>0</td>\n",
       "      <td>1</td>\n",
       "      <td>0</td>\n",
       "    </tr>\n",
       "    <tr>\n",
       "      <th>1</th>\n",
       "      <td>166377</td>\n",
       "      <td>2019-11-01</td>\n",
       "      <td>4</td>\n",
       "      <td>1590</td>\n",
       "      <td>B</td>\n",
       "      <td>2019-08-01</td>\n",
       "      <td>2019-08-01</td>\n",
       "      <td>2000</td>\n",
       "      <td>0.15</td>\n",
       "      <td>0.5</td>\n",
       "      <td>0</td>\n",
       "      <td>1</td>\n",
       "      <td>1</td>\n",
       "      <td>0</td>\n",
       "    </tr>\n",
       "    <tr>\n",
       "      <th>2</th>\n",
       "      <td>166377</td>\n",
       "      <td>2019-11-01</td>\n",
       "      <td>4</td>\n",
       "      <td>3</td>\n",
       "      <td>B</td>\n",
       "      <td>2019-08-01</td>\n",
       "      <td>2019-08-01</td>\n",
       "      <td>2000</td>\n",
       "      <td>0.15</td>\n",
       "      <td>0.5</td>\n",
       "      <td>0</td>\n",
       "      <td>1</td>\n",
       "      <td>0</td>\n",
       "      <td>1</td>\n",
       "    </tr>\n",
       "    <tr>\n",
       "      <th>3</th>\n",
       "      <td>166391</td>\n",
       "      <td>2019-11-01</td>\n",
       "      <td>1</td>\n",
       "      <td>2</td>\n",
       "      <td>C</td>\n",
       "      <td>2019-08-01</td>\n",
       "      <td>2019-08-01</td>\n",
       "      <td>1000</td>\n",
       "      <td>0.30</td>\n",
       "      <td>0.7</td>\n",
       "      <td>1</td>\n",
       "      <td>0</td>\n",
       "      <td>1</td>\n",
       "      <td>0</td>\n",
       "    </tr>\n",
       "    <tr>\n",
       "      <th>4</th>\n",
       "      <td>166392</td>\n",
       "      <td>2019-11-01</td>\n",
       "      <td>2</td>\n",
       "      <td>162</td>\n",
       "      <td>C</td>\n",
       "      <td>2019-08-01</td>\n",
       "      <td>2019-08-01</td>\n",
       "      <td>1000</td>\n",
       "      <td>0.30</td>\n",
       "      <td>0.7</td>\n",
       "      <td>1</td>\n",
       "      <td>0</td>\n",
       "      <td>1</td>\n",
       "      <td>0</td>\n",
       "    </tr>\n",
       "  </tbody>\n",
       "</table>\n",
       "</div>"
      ],
      "text/plain": [
       "   user_id      month  operator_id  total_call_duration tariff_plan  \\\n",
       "0   166377 2019-11-01            3                   50           B   \n",
       "1   166377 2019-11-01            4                 1590           B   \n",
       "2   166377 2019-11-01            4                    3           B   \n",
       "3   166391 2019-11-01            1                    2           C   \n",
       "4   166392 2019-11-01            2                  162           C   \n",
       "\n",
       "  date_start first_month  price_month  IN_price_per_min  OUT_price_per_min  \\\n",
       "0 2019-08-01  2019-08-01         2000              0.15                0.5   \n",
       "1 2019-08-01  2019-08-01         2000              0.15                0.5   \n",
       "2 2019-08-01  2019-08-01         2000              0.15                0.5   \n",
       "3 2019-08-01  2019-08-01         1000              0.30                0.7   \n",
       "4 2019-08-01  2019-08-01         1000              0.30                0.7   \n",
       "\n",
       "   direction_in  direction_out  internal_False  internal_True  \n",
       "0             1              0               1              0  \n",
       "1             0              1               1              0  \n",
       "2             0              1               0              1  \n",
       "3             1              0               1              0  \n",
       "4             1              0               1              0  "
      ]
     },
     "execution_count": 151,
     "metadata": {},
     "output_type": "execute_result"
    }
   ],
   "source": [
    "telecom_dataset_before.head()"
   ]
  },
  {
   "cell_type": "markdown",
   "metadata": {
    "id": "M2D-0zx4N5Jw"
   },
   "source": [
    "Посчитаем сколько получилось на превышении лимита внутри сети."
   ]
  },
  {
   "cell_type": "code",
   "execution_count": 152,
   "metadata": {
    "id": "F1ZRLykAbsQk"
   },
   "outputs": [],
   "source": [
    "telecom_dataset_before['limit_before']  = (\n",
    "    (telecom_dataset_before['total_call_duration']-2000)*\n",
    "    telecom_dataset_before['direction_out']*\n",
    "    telecom_dataset_before['IN_price_per_min']*telecom_dataset_before['internal_True']\n",
    ")"
   ]
  },
  {
   "cell_type": "code",
   "execution_count": 153,
   "metadata": {
    "id": "xv6qnlOtmtIU"
   },
   "outputs": [],
   "source": [
    "telecom_dataset_before['limit_before'] = telecom_dataset_before['limit_before'].apply(zero)"
   ]
  },
  {
   "cell_type": "markdown",
   "metadata": {
    "id": "_UsmNluvOB8C"
   },
   "source": [
    "Суммируем с тарификацие исходящих звонков внешних."
   ]
  },
  {
   "cell_type": "code",
   "execution_count": 154,
   "metadata": {
    "id": "-3AnFlcDmViN"
   },
   "outputs": [],
   "source": [
    "telecom_dataset_before['value_before'] = (\n",
    "    telecom_dataset_before['limit_before']\n",
    "    +telecom_dataset_before['total_call_duration']*\n",
    "    telecom_dataset_before['OUT_price_per_min']*\n",
    "    telecom_dataset_before['direction_out']*\n",
    "    telecom_dataset_before['internal_False']\n",
    ")"
   ]
  },
  {
   "cell_type": "code",
   "execution_count": 155,
   "metadata": {
    "id": "cGGVxm1Med0B"
   },
   "outputs": [],
   "source": [
    "telecom_dataset_before_total = telecom_dataset_before.groupby('user_id').agg({'tariff_plan':'first','price_month':'mean','value_before':'sum'}).reset_index()"
   ]
  },
  {
   "cell_type": "code",
   "execution_count": 156,
   "metadata": {
    "colab": {
     "base_uri": "https://localhost:8080/",
     "height": 206
    },
    "executionInfo": {
     "elapsed": 20,
     "status": "ok",
     "timestamp": 1649915090494,
     "user": {
      "displayName": "Сергей Холоденин",
      "userId": "02339464120149742563"
     },
     "user_tz": -180
    },
    "id": "cpjZHIwMfO7V",
    "outputId": "3bce9c44-36dc-4f73-acf8-d795c6ec09fa"
   },
   "outputs": [
    {
     "data": {
      "text/html": [
       "<div>\n",
       "<style scoped>\n",
       "    .dataframe tbody tr th:only-of-type {\n",
       "        vertical-align: middle;\n",
       "    }\n",
       "\n",
       "    .dataframe tbody tr th {\n",
       "        vertical-align: top;\n",
       "    }\n",
       "\n",
       "    .dataframe thead th {\n",
       "        text-align: right;\n",
       "    }\n",
       "</style>\n",
       "<table border=\"1\" class=\"dataframe\">\n",
       "  <thead>\n",
       "    <tr style=\"text-align: right;\">\n",
       "      <th></th>\n",
       "      <th>user_id</th>\n",
       "      <th>tariff_plan</th>\n",
       "      <th>price_month</th>\n",
       "      <th>value_before</th>\n",
       "    </tr>\n",
       "  </thead>\n",
       "  <tbody>\n",
       "    <tr>\n",
       "      <th>0</th>\n",
       "      <td>166377</td>\n",
       "      <td>B</td>\n",
       "      <td>2000</td>\n",
       "      <td>795.0</td>\n",
       "    </tr>\n",
       "    <tr>\n",
       "      <th>1</th>\n",
       "      <td>166391</td>\n",
       "      <td>C</td>\n",
       "      <td>1000</td>\n",
       "      <td>0.0</td>\n",
       "    </tr>\n",
       "    <tr>\n",
       "      <th>2</th>\n",
       "      <td>166392</td>\n",
       "      <td>C</td>\n",
       "      <td>1000</td>\n",
       "      <td>0.0</td>\n",
       "    </tr>\n",
       "    <tr>\n",
       "      <th>3</th>\n",
       "      <td>166405</td>\n",
       "      <td>B</td>\n",
       "      <td>2000</td>\n",
       "      <td>3390.5</td>\n",
       "    </tr>\n",
       "    <tr>\n",
       "      <th>4</th>\n",
       "      <td>166406</td>\n",
       "      <td>B</td>\n",
       "      <td>2000</td>\n",
       "      <td>394.5</td>\n",
       "    </tr>\n",
       "  </tbody>\n",
       "</table>\n",
       "</div>"
      ],
      "text/plain": [
       "   user_id tariff_plan  price_month  value_before\n",
       "0   166377           B         2000         795.0\n",
       "1   166391           C         1000           0.0\n",
       "2   166392           C         1000           0.0\n",
       "3   166405           B         2000        3390.5\n",
       "4   166406           B         2000         394.5"
      ]
     },
     "execution_count": 156,
     "metadata": {},
     "output_type": "execute_result"
    }
   ],
   "source": [
    "telecom_dataset_before_total.head()"
   ]
  },
  {
   "cell_type": "markdown",
   "metadata": {
    "id": "QY7fi6HdOLhD"
   },
   "source": [
    "Посчитаем количество уникальных операторов по каждому клиенту и добавим к расчету."
   ]
  },
  {
   "cell_type": "code",
   "execution_count": 157,
   "metadata": {
    "id": "zebyOIPNfSuc"
   },
   "outputs": [],
   "source": [
    "operators_count_november = telecom_dataset.query('month == \"2019-11-01\"').groupby('user_id')['operator_id'].nunique().reset_index()"
   ]
  },
  {
   "cell_type": "code",
   "execution_count": 158,
   "metadata": {
    "id": "GIoqXrqxf0e8"
   },
   "outputs": [],
   "source": [
    "telecom_dataset_before_total = telecom_dataset_before_total.merge(operators_count_november)"
   ]
  },
  {
   "cell_type": "code",
   "execution_count": 159,
   "metadata": {
    "colab": {
     "base_uri": "https://localhost:8080/",
     "height": 206
    },
    "executionInfo": {
     "elapsed": 26,
     "status": "ok",
     "timestamp": 1649915114433,
     "user": {
      "displayName": "Сергей Холоденин",
      "userId": "02339464120149742563"
     },
     "user_tz": -180
    },
    "id": "blOht9-Of2Y9",
    "outputId": "ada4d59d-3ecd-4833-e96b-f97558495f3b"
   },
   "outputs": [
    {
     "data": {
      "text/html": [
       "<div>\n",
       "<style scoped>\n",
       "    .dataframe tbody tr th:only-of-type {\n",
       "        vertical-align: middle;\n",
       "    }\n",
       "\n",
       "    .dataframe tbody tr th {\n",
       "        vertical-align: top;\n",
       "    }\n",
       "\n",
       "    .dataframe thead th {\n",
       "        text-align: right;\n",
       "    }\n",
       "</style>\n",
       "<table border=\"1\" class=\"dataframe\">\n",
       "  <thead>\n",
       "    <tr style=\"text-align: right;\">\n",
       "      <th></th>\n",
       "      <th>user_id</th>\n",
       "      <th>tariff_plan</th>\n",
       "      <th>price_month</th>\n",
       "      <th>value_before</th>\n",
       "      <th>operator_id</th>\n",
       "    </tr>\n",
       "  </thead>\n",
       "  <tbody>\n",
       "    <tr>\n",
       "      <th>0</th>\n",
       "      <td>166377</td>\n",
       "      <td>B</td>\n",
       "      <td>2000</td>\n",
       "      <td>795.0</td>\n",
       "      <td>4</td>\n",
       "    </tr>\n",
       "    <tr>\n",
       "      <th>1</th>\n",
       "      <td>166391</td>\n",
       "      <td>C</td>\n",
       "      <td>1000</td>\n",
       "      <td>0.0</td>\n",
       "      <td>1</td>\n",
       "    </tr>\n",
       "    <tr>\n",
       "      <th>2</th>\n",
       "      <td>166392</td>\n",
       "      <td>C</td>\n",
       "      <td>1000</td>\n",
       "      <td>0.0</td>\n",
       "      <td>2</td>\n",
       "    </tr>\n",
       "    <tr>\n",
       "      <th>3</th>\n",
       "      <td>166405</td>\n",
       "      <td>B</td>\n",
       "      <td>2000</td>\n",
       "      <td>3390.5</td>\n",
       "      <td>8</td>\n",
       "    </tr>\n",
       "    <tr>\n",
       "      <th>4</th>\n",
       "      <td>166406</td>\n",
       "      <td>B</td>\n",
       "      <td>2000</td>\n",
       "      <td>394.5</td>\n",
       "      <td>2</td>\n",
       "    </tr>\n",
       "  </tbody>\n",
       "</table>\n",
       "</div>"
      ],
      "text/plain": [
       "   user_id tariff_plan  price_month  value_before  operator_id\n",
       "0   166377           B         2000         795.0            4\n",
       "1   166391           C         1000           0.0            1\n",
       "2   166392           C         1000           0.0            2\n",
       "3   166405           B         2000        3390.5            8\n",
       "4   166406           B         2000         394.5            2"
      ]
     },
     "execution_count": 159,
     "metadata": {},
     "output_type": "execute_result"
    }
   ],
   "source": [
    "telecom_dataset_before_total.head()"
   ]
  },
  {
   "cell_type": "markdown",
   "metadata": {
    "id": "LkFjpxDgOXcJ"
   },
   "source": [
    "Посчитаем итоговую выручку по каждому клиенту."
   ]
  },
  {
   "cell_type": "code",
   "execution_count": 160,
   "metadata": {
    "id": "Wkc1qhoLgO-S"
   },
   "outputs": [],
   "source": [
    "telecom_dataset_before_total['revenue_before'] = (\n",
    "    telecom_dataset_before_total['price_month'] +\n",
    "    telecom_dataset_before_total['value_before'] +\n",
    "    telecom_dataset_before_total['operator_id']*100\n",
    ")"
   ]
  },
  {
   "cell_type": "markdown",
   "metadata": {
    "id": "uhc38JTkObao"
   },
   "source": [
    "Посчитаем итоговую выручку по компании."
   ]
  },
  {
   "cell_type": "code",
   "execution_count": 161,
   "metadata": {
    "colab": {
     "base_uri": "https://localhost:8080/"
    },
    "executionInfo": {
     "elapsed": 263,
     "status": "ok",
     "timestamp": 1649915125307,
     "user": {
      "displayName": "Сергей Холоденин",
      "userId": "02339464120149742563"
     },
     "user_tz": -180
    },
    "id": "NEVnnDDgg1_O",
    "outputId": "85b6dedd-bf5d-4d3d-ff2d-52fca8aae466"
   },
   "outputs": [
    {
     "data": {
      "text/plain": [
       "671706.1"
      ]
     },
     "execution_count": 161,
     "metadata": {},
     "output_type": "execute_result"
    }
   ],
   "source": [
    "telecom_dataset_before_total_revenue = telecom_dataset_before_total['revenue_before'].sum()\n",
    "telecom_dataset_before_total_revenue"
   ]
  },
  {
   "cell_type": "markdown",
   "metadata": {
    "id": "CMYYbKPyOf3l"
   },
   "source": [
    "Посчитаем средний чек."
   ]
  },
  {
   "cell_type": "code",
   "execution_count": 162,
   "metadata": {
    "colab": {
     "base_uri": "https://localhost:8080/"
    },
    "executionInfo": {
     "elapsed": 237,
     "status": "ok",
     "timestamp": 1649915127647,
     "user": {
      "displayName": "Сергей Холоденин",
      "userId": "02339464120149742563"
     },
     "user_tz": -180
    },
    "id": "ddcfhP0fhInM",
    "outputId": "9663a6e5-4516-4b51-e145-39a3e3012086"
   },
   "outputs": [
    {
     "data": {
      "text/plain": [
       "2573.586590038314"
      ]
     },
     "execution_count": 162,
     "metadata": {},
     "output_type": "execute_result"
    }
   ],
   "source": [
    "telecom_dataset_before_total_mean = telecom_dataset_before_total_revenue/telecom_dataset_before_total['user_id'].nunique()\n",
    "telecom_dataset_before_total_mean"
   ]
  },
  {
   "cell_type": "markdown",
   "metadata": {
    "id": "JUHBJXz7OtJg"
   },
   "source": [
    "#### После введения изменений"
   ]
  },
  {
   "cell_type": "markdown",
   "metadata": {
    "id": "KGeM9i1qOyi1"
   },
   "source": [
    "Посчитаем итоговую выручку, которая бы получилась в ноябре, если бы клиенты оптимизировали свои тарифы по нашей рекомендации и мы бы ввели дополнительные условия по всем тарифам. Подготовим данные."
   ]
  },
  {
   "cell_type": "code",
   "execution_count": 163,
   "metadata": {
    "id": "kIROjFPVigKB"
   },
   "outputs": [],
   "source": [
    "telecom_dataset_after = telecom_dataset.query('month == \"2019-11-01\"').groupby(\n",
    "    ['user_id','month','direction','internal']).agg({'operator_id':'nunique', 'total_call_duration':'sum'}).reset_index()"
   ]
  },
  {
   "cell_type": "code",
   "execution_count": 164,
   "metadata": {
    "id": "2fYmD_pcivsy"
   },
   "outputs": [],
   "source": [
    "telecom_dataset_after['total_call_duration'] = list(map(lambda x: math.ceil(x/60), telecom_dataset_after['total_call_duration']))"
   ]
  },
  {
   "cell_type": "markdown",
   "metadata": {
    "id": "Wh6i0GlUPFyK"
   },
   "source": [
    "Добавим данные по новому распределению тарифов."
   ]
  },
  {
   "cell_type": "code",
   "execution_count": 165,
   "metadata": {
    "id": "x52SrAXVhaXi"
   },
   "outputs": [],
   "source": [
    "telecom_dataset_after = telecom_dataset_after.merge(telecom_clients_new)"
   ]
  },
  {
   "cell_type": "markdown",
   "metadata": {
    "id": "XSQPTH8rPL7N"
   },
   "source": [
    "Разделим столбцы с обозначением внутри-вне сети и входящие-исходящие для удобства расчета."
   ]
  },
  {
   "cell_type": "code",
   "execution_count": 166,
   "metadata": {
    "id": "oi6Kb6RZjAIM"
   },
   "outputs": [],
   "source": [
    "telecom_dataset_after = pd.get_dummies(telecom_dataset_after, columns=['direction','internal'])"
   ]
  },
  {
   "cell_type": "code",
   "execution_count": 167,
   "metadata": {
    "colab": {
     "base_uri": "https://localhost:8080/",
     "height": 357
    },
    "executionInfo": {
     "elapsed": 10,
     "status": "ok",
     "timestamp": 1649914522915,
     "user": {
      "displayName": "Сергей Холоденин",
      "userId": "02339464120149742563"
     },
     "user_tz": -180
    },
    "id": "ozdUQTReifFY",
    "outputId": "b423f4f8-d60c-456e-cd37-c506a820339d"
   },
   "outputs": [
    {
     "data": {
      "text/html": [
       "<div>\n",
       "<style scoped>\n",
       "    .dataframe tbody tr th:only-of-type {\n",
       "        vertical-align: middle;\n",
       "    }\n",
       "\n",
       "    .dataframe tbody tr th {\n",
       "        vertical-align: top;\n",
       "    }\n",
       "\n",
       "    .dataframe thead th {\n",
       "        text-align: right;\n",
       "    }\n",
       "</style>\n",
       "<table border=\"1\" class=\"dataframe\">\n",
       "  <thead>\n",
       "    <tr style=\"text-align: right;\">\n",
       "      <th></th>\n",
       "      <th>user_id</th>\n",
       "      <th>month</th>\n",
       "      <th>operator_id</th>\n",
       "      <th>total_call_duration</th>\n",
       "      <th>tariff_plan</th>\n",
       "      <th>price_month</th>\n",
       "      <th>IN_price_per_min</th>\n",
       "      <th>OUT_price_per_min</th>\n",
       "      <th>direction_in</th>\n",
       "      <th>direction_out</th>\n",
       "      <th>internal_False</th>\n",
       "      <th>internal_True</th>\n",
       "    </tr>\n",
       "  </thead>\n",
       "  <tbody>\n",
       "    <tr>\n",
       "      <th>0</th>\n",
       "      <td>166377</td>\n",
       "      <td>2019-11-01</td>\n",
       "      <td>3</td>\n",
       "      <td>50</td>\n",
       "      <td>C</td>\n",
       "      <td>1000</td>\n",
       "      <td>0.3</td>\n",
       "      <td>0.7</td>\n",
       "      <td>1</td>\n",
       "      <td>0</td>\n",
       "      <td>1</td>\n",
       "      <td>0</td>\n",
       "    </tr>\n",
       "    <tr>\n",
       "      <th>1</th>\n",
       "      <td>166377</td>\n",
       "      <td>2019-11-01</td>\n",
       "      <td>4</td>\n",
       "      <td>1590</td>\n",
       "      <td>C</td>\n",
       "      <td>1000</td>\n",
       "      <td>0.3</td>\n",
       "      <td>0.7</td>\n",
       "      <td>0</td>\n",
       "      <td>1</td>\n",
       "      <td>1</td>\n",
       "      <td>0</td>\n",
       "    </tr>\n",
       "    <tr>\n",
       "      <th>2</th>\n",
       "      <td>166377</td>\n",
       "      <td>2019-11-01</td>\n",
       "      <td>4</td>\n",
       "      <td>3</td>\n",
       "      <td>C</td>\n",
       "      <td>1000</td>\n",
       "      <td>0.3</td>\n",
       "      <td>0.7</td>\n",
       "      <td>0</td>\n",
       "      <td>1</td>\n",
       "      <td>0</td>\n",
       "      <td>1</td>\n",
       "    </tr>\n",
       "    <tr>\n",
       "      <th>3</th>\n",
       "      <td>166391</td>\n",
       "      <td>2019-11-01</td>\n",
       "      <td>1</td>\n",
       "      <td>2</td>\n",
       "      <td>C</td>\n",
       "      <td>1000</td>\n",
       "      <td>0.3</td>\n",
       "      <td>0.7</td>\n",
       "      <td>1</td>\n",
       "      <td>0</td>\n",
       "      <td>1</td>\n",
       "      <td>0</td>\n",
       "    </tr>\n",
       "    <tr>\n",
       "      <th>4</th>\n",
       "      <td>166392</td>\n",
       "      <td>2019-11-01</td>\n",
       "      <td>2</td>\n",
       "      <td>162</td>\n",
       "      <td>C</td>\n",
       "      <td>1000</td>\n",
       "      <td>0.3</td>\n",
       "      <td>0.7</td>\n",
       "      <td>1</td>\n",
       "      <td>0</td>\n",
       "      <td>1</td>\n",
       "      <td>0</td>\n",
       "    </tr>\n",
       "  </tbody>\n",
       "</table>\n",
       "</div>"
      ],
      "text/plain": [
       "   user_id      month  operator_id  total_call_duration tariff_plan  \\\n",
       "0   166377 2019-11-01            3                   50           C   \n",
       "1   166377 2019-11-01            4                 1590           C   \n",
       "2   166377 2019-11-01            4                    3           C   \n",
       "3   166391 2019-11-01            1                    2           C   \n",
       "4   166392 2019-11-01            2                  162           C   \n",
       "\n",
       "   price_month  IN_price_per_min  OUT_price_per_min  direction_in  \\\n",
       "0         1000               0.3                0.7             1   \n",
       "1         1000               0.3                0.7             0   \n",
       "2         1000               0.3                0.7             0   \n",
       "3         1000               0.3                0.7             1   \n",
       "4         1000               0.3                0.7             1   \n",
       "\n",
       "   direction_out  internal_False  internal_True  \n",
       "0              0               1              0  \n",
       "1              1               1              0  \n",
       "2              1               0              1  \n",
       "3              0               1              0  \n",
       "4              0               1              0  "
      ]
     },
     "execution_count": 167,
     "metadata": {},
     "output_type": "execute_result"
    }
   ],
   "source": [
    "telecom_dataset_after.head()"
   ]
  },
  {
   "cell_type": "markdown",
   "metadata": {
    "id": "_ih4cR3sPiig"
   },
   "source": [
    "Посчитаем выручку за превышения лимита 2000 минут внутри сети."
   ]
  },
  {
   "cell_type": "code",
   "execution_count": 168,
   "metadata": {
    "id": "cKDx84dwiUYI"
   },
   "outputs": [],
   "source": [
    "telecom_dataset_after['limit_after_out']  = (\n",
    "    (telecom_dataset_after['total_call_duration']-2000)*\n",
    "    telecom_dataset_after['direction_out']*\n",
    "    telecom_dataset_after['IN_price_per_min']*\n",
    "    telecom_dataset_after['internal_True']    \n",
    ")"
   ]
  },
  {
   "cell_type": "code",
   "execution_count": 169,
   "metadata": {
    "id": "bH6RtCeapFAk"
   },
   "outputs": [],
   "source": [
    "telecom_dataset_after['limit_after_out'] = telecom_dataset_after['limit_after_out'].apply(zero)"
   ]
  },
  {
   "cell_type": "markdown",
   "metadata": {
    "id": "4c_ssFEJPo6v"
   },
   "source": [
    "Посчитаем выручку за превышение 1000 минут по внешним входящим. (Новое условие)"
   ]
  },
  {
   "cell_type": "code",
   "execution_count": 170,
   "metadata": {
    "id": "NQFX5W9spedj"
   },
   "outputs": [],
   "source": [
    "telecom_dataset_after['limit_after_in'] = (\n",
    "    (telecom_dataset_after['total_call_duration']-1000)*\n",
    "    telecom_dataset_after['OUT_price_per_min']*\n",
    "    telecom_dataset_after['direction_in']*\n",
    "    telecom_dataset_after['internal_False']\n",
    ")"
   ]
  },
  {
   "cell_type": "code",
   "execution_count": 171,
   "metadata": {
    "id": "vOer43jHpq25"
   },
   "outputs": [],
   "source": [
    "telecom_dataset_after['limit_after_in'] = telecom_dataset_after['limit_after_in'].apply(zero)"
   ]
  },
  {
   "cell_type": "markdown",
   "metadata": {
    "id": "4sP_fXzoP1Y4"
   },
   "source": [
    "Посчитаем сумму этих зачений и тарифицированных исходящих по тарифам."
   ]
  },
  {
   "cell_type": "code",
   "execution_count": 172,
   "metadata": {
    "id": "nMiEIEJuo50_"
   },
   "outputs": [],
   "source": [
    "telecom_dataset_after['value_after'] = (\n",
    "    telecom_dataset_after['limit_after_out']+\n",
    "    telecom_dataset_after['limit_after_in']+    \n",
    "    telecom_dataset_after['total_call_duration']*\n",
    "    telecom_dataset_after['OUT_price_per_min']*\n",
    "    telecom_dataset_after['direction_out']*\n",
    "    telecom_dataset_after['internal_False']\n",
    ")"
   ]
  },
  {
   "cell_type": "code",
   "execution_count": 173,
   "metadata": {
    "id": "cy0zY7G3lRDk"
   },
   "outputs": [],
   "source": [
    "telecom_dataset_after_total = telecom_dataset_after.groupby('user_id').agg({'tariff_plan':'first','price_month':'mean','value_after':'sum'}).reset_index()"
   ]
  },
  {
   "cell_type": "code",
   "execution_count": 174,
   "metadata": {
    "colab": {
     "base_uri": "https://localhost:8080/",
     "height": 206
    },
    "executionInfo": {
     "elapsed": 26,
     "status": "ok",
     "timestamp": 1649915199463,
     "user": {
      "displayName": "Сергей Холоденин",
      "userId": "02339464120149742563"
     },
     "user_tz": -180
    },
    "id": "uRtrDB3CllbU",
    "outputId": "4da6f5ef-86bb-4cd2-d245-d46830b58309"
   },
   "outputs": [
    {
     "data": {
      "text/html": [
       "<div>\n",
       "<style scoped>\n",
       "    .dataframe tbody tr th:only-of-type {\n",
       "        vertical-align: middle;\n",
       "    }\n",
       "\n",
       "    .dataframe tbody tr th {\n",
       "        vertical-align: top;\n",
       "    }\n",
       "\n",
       "    .dataframe thead th {\n",
       "        text-align: right;\n",
       "    }\n",
       "</style>\n",
       "<table border=\"1\" class=\"dataframe\">\n",
       "  <thead>\n",
       "    <tr style=\"text-align: right;\">\n",
       "      <th></th>\n",
       "      <th>user_id</th>\n",
       "      <th>tariff_plan</th>\n",
       "      <th>price_month</th>\n",
       "      <th>value_after</th>\n",
       "    </tr>\n",
       "  </thead>\n",
       "  <tbody>\n",
       "    <tr>\n",
       "      <th>0</th>\n",
       "      <td>166377</td>\n",
       "      <td>C</td>\n",
       "      <td>1000</td>\n",
       "      <td>1113.0</td>\n",
       "    </tr>\n",
       "    <tr>\n",
       "      <th>1</th>\n",
       "      <td>166391</td>\n",
       "      <td>C</td>\n",
       "      <td>1000</td>\n",
       "      <td>0.0</td>\n",
       "    </tr>\n",
       "    <tr>\n",
       "      <th>2</th>\n",
       "      <td>166392</td>\n",
       "      <td>C</td>\n",
       "      <td>1000</td>\n",
       "      <td>0.0</td>\n",
       "    </tr>\n",
       "    <tr>\n",
       "      <th>3</th>\n",
       "      <td>166405</td>\n",
       "      <td>B</td>\n",
       "      <td>2000</td>\n",
       "      <td>3875.5</td>\n",
       "    </tr>\n",
       "    <tr>\n",
       "      <th>4</th>\n",
       "      <td>166406</td>\n",
       "      <td>C</td>\n",
       "      <td>1000</td>\n",
       "      <td>552.3</td>\n",
       "    </tr>\n",
       "  </tbody>\n",
       "</table>\n",
       "</div>"
      ],
      "text/plain": [
       "   user_id tariff_plan  price_month  value_after\n",
       "0   166377           C         1000       1113.0\n",
       "1   166391           C         1000          0.0\n",
       "2   166392           C         1000          0.0\n",
       "3   166405           B         2000       3875.5\n",
       "4   166406           C         1000        552.3"
      ]
     },
     "execution_count": 174,
     "metadata": {},
     "output_type": "execute_result"
    }
   ],
   "source": [
    "telecom_dataset_after_total.head()"
   ]
  },
  {
   "cell_type": "markdown",
   "metadata": {
    "id": "5Cfb4V8IQC82"
   },
   "source": [
    "Добавим количество операторов по каждому клиенту."
   ]
  },
  {
   "cell_type": "code",
   "execution_count": 175,
   "metadata": {
    "id": "_NJQbqxYlq94"
   },
   "outputs": [],
   "source": [
    "telecom_dataset_after_total = telecom_dataset_after_total.merge(operators_count_november)"
   ]
  },
  {
   "cell_type": "markdown",
   "metadata": {
    "id": "im6Qea0xQHoN"
   },
   "source": [
    "Посчитаем по новому тарифу за оператора в 200 р. и суммируем с месячной абонентской платой и тарифицированными минутами."
   ]
  },
  {
   "cell_type": "code",
   "execution_count": 176,
   "metadata": {
    "id": "DWCPNkRbrukB"
   },
   "outputs": [],
   "source": [
    "telecom_dataset_after_total['revenue_after'] = (\n",
    "    telecom_dataset_after_total['price_month'] +\n",
    "    telecom_dataset_after_total['value_after'] +\n",
    "    telecom_dataset_after_total['operator_id']*200\n",
    ")"
   ]
  },
  {
   "cell_type": "markdown",
   "metadata": {
    "id": "eOnZroa4QXHu"
   },
   "source": [
    "Посчитаем итоговую выручку по компании на новых условиях."
   ]
  },
  {
   "cell_type": "code",
   "execution_count": 177,
   "metadata": {
    "colab": {
     "base_uri": "https://localhost:8080/"
    },
    "executionInfo": {
     "elapsed": 327,
     "status": "ok",
     "timestamp": 1649915208625,
     "user": {
      "displayName": "Сергей Холоденин",
      "userId": "02339464120149742563"
     },
     "user_tz": -180
    },
    "id": "BEJb-JUGsMTU",
    "outputId": "637b8c16-50f9-46d0-8386-34272cdc0b63"
   },
   "outputs": [
    {
     "data": {
      "text/plain": [
       "654005.6"
      ]
     },
     "execution_count": 177,
     "metadata": {},
     "output_type": "execute_result"
    }
   ],
   "source": [
    "telecom_dataset_after_total_revenue = telecom_dataset_after_total['revenue_after'].sum()\n",
    "telecom_dataset_after_total_revenue"
   ]
  },
  {
   "cell_type": "markdown",
   "metadata": {
    "id": "h2eCBnStQgbi"
   },
   "source": [
    "Посчитаем получившийся средний чек."
   ]
  },
  {
   "cell_type": "code",
   "execution_count": 178,
   "metadata": {
    "colab": {
     "base_uri": "https://localhost:8080/"
    },
    "executionInfo": {
     "elapsed": 264,
     "status": "ok",
     "timestamp": 1649915212080,
     "user": {
      "displayName": "Сергей Холоденин",
      "userId": "02339464120149742563"
     },
     "user_tz": -180
    },
    "id": "PNUQJmc_sRxk",
    "outputId": "44ad2245-8d33-4a79-e3d3-39cde9e860f9"
   },
   "outputs": [
    {
     "data": {
      "text/plain": [
       "2505.7685823754787"
      ]
     },
     "execution_count": 178,
     "metadata": {},
     "output_type": "execute_result"
    }
   ],
   "source": [
    "telecom_dataset_after_total_mean = telecom_dataset_after_total_revenue/telecom_dataset_after_total['user_id'].nunique()\n",
    "telecom_dataset_after_total_mean"
   ]
  },
  {
   "cell_type": "markdown",
   "metadata": {
    "id": "zIqqqAC8qAn8"
   },
   "source": [
    "Сведем полученные данные в сводную таблицу."
   ]
  },
  {
   "cell_type": "code",
   "execution_count": 179,
   "metadata": {
    "colab": {
     "base_uri": "https://localhost:8080/",
     "height": 269
    },
    "executionInfo": {
     "elapsed": 271,
     "status": "ok",
     "timestamp": 1649918449195,
     "user": {
      "displayName": "Сергей Холоденин",
      "userId": "02339464120149742563"
     },
     "user_tz": -180
    },
    "id": "XxMTi2CNlCGF",
    "outputId": "b818b37a-98d0-402d-f940-b409768ac4a0"
   },
   "outputs": [
    {
     "data": {
      "text/html": [
       "<div>\n",
       "<style scoped>\n",
       "    .dataframe tbody tr th:only-of-type {\n",
       "        vertical-align: middle;\n",
       "    }\n",
       "\n",
       "    .dataframe tbody tr th {\n",
       "        vertical-align: top;\n",
       "    }\n",
       "\n",
       "    .dataframe thead th {\n",
       "        text-align: right;\n",
       "    }\n",
       "</style>\n",
       "<table border=\"1\" class=\"dataframe\">\n",
       "  <thead>\n",
       "    <tr style=\"text-align: right;\">\n",
       "      <th></th>\n",
       "      <th>tariff_plan_before</th>\n",
       "      <th>tariff_plan_after</th>\n",
       "      <th>revenue_before_total</th>\n",
       "      <th>revenue_before_mean</th>\n",
       "      <th>revenue_after_total</th>\n",
       "      <th>revenue_after_mean</th>\n",
       "      <th>delta_revenue</th>\n",
       "      <th>delta_mean</th>\n",
       "    </tr>\n",
       "  </thead>\n",
       "  <tbody>\n",
       "    <tr>\n",
       "      <th>0</th>\n",
       "      <td>A</td>\n",
       "      <td>A</td>\n",
       "      <td>77339.6</td>\n",
       "      <td>8593.288889</td>\n",
       "      <td>80839.6</td>\n",
       "      <td>8982.177778</td>\n",
       "      <td>3500.0</td>\n",
       "      <td>388.888889</td>\n",
       "    </tr>\n",
       "    <tr>\n",
       "      <th>1</th>\n",
       "      <td>A</td>\n",
       "      <td>B</td>\n",
       "      <td>40561.6</td>\n",
       "      <td>13520.533333</td>\n",
       "      <td>56607.5</td>\n",
       "      <td>18869.166667</td>\n",
       "      <td>16045.9</td>\n",
       "      <td>5348.633333</td>\n",
       "    </tr>\n",
       "    <tr>\n",
       "      <th>2</th>\n",
       "      <td>A</td>\n",
       "      <td>C</td>\n",
       "      <td>103448.8</td>\n",
       "      <td>5747.155556</td>\n",
       "      <td>48758.3</td>\n",
       "      <td>2708.794444</td>\n",
       "      <td>-54690.5</td>\n",
       "      <td>-3038.361111</td>\n",
       "    </tr>\n",
       "    <tr>\n",
       "      <th>3</th>\n",
       "      <td>B</td>\n",
       "      <td>B</td>\n",
       "      <td>84761.5</td>\n",
       "      <td>2492.985294</td>\n",
       "      <td>92829.0</td>\n",
       "      <td>2730.264706</td>\n",
       "      <td>8067.5</td>\n",
       "      <td>237.279412</td>\n",
       "    </tr>\n",
       "    <tr>\n",
       "      <th>4</th>\n",
       "      <td>B</td>\n",
       "      <td>C</td>\n",
       "      <td>163350.5</td>\n",
       "      <td>2634.685484</td>\n",
       "      <td>139302.1</td>\n",
       "      <td>2246.808065</td>\n",
       "      <td>-24048.4</td>\n",
       "      <td>-387.877419</td>\n",
       "    </tr>\n",
       "    <tr>\n",
       "      <th>5</th>\n",
       "      <td>C</td>\n",
       "      <td>B</td>\n",
       "      <td>8048.7</td>\n",
       "      <td>8048.700000</td>\n",
       "      <td>7420.5</td>\n",
       "      <td>7420.500000</td>\n",
       "      <td>-628.2</td>\n",
       "      <td>-628.200000</td>\n",
       "    </tr>\n",
       "    <tr>\n",
       "      <th>6</th>\n",
       "      <td>C</td>\n",
       "      <td>C</td>\n",
       "      <td>194195.4</td>\n",
       "      <td>1449.219403</td>\n",
       "      <td>228248.6</td>\n",
       "      <td>1703.347761</td>\n",
       "      <td>34053.2</td>\n",
       "      <td>254.128358</td>\n",
       "    </tr>\n",
       "  </tbody>\n",
       "</table>\n",
       "</div>"
      ],
      "text/plain": [
       "  tariff_plan_before tariff_plan_after  revenue_before_total  \\\n",
       "0                  A                 A               77339.6   \n",
       "1                  A                 B               40561.6   \n",
       "2                  A                 C              103448.8   \n",
       "3                  B                 B               84761.5   \n",
       "4                  B                 C              163350.5   \n",
       "5                  C                 B                8048.7   \n",
       "6                  C                 C              194195.4   \n",
       "\n",
       "   revenue_before_mean  revenue_after_total  revenue_after_mean  \\\n",
       "0          8593.288889              80839.6         8982.177778   \n",
       "1         13520.533333              56607.5        18869.166667   \n",
       "2          5747.155556              48758.3         2708.794444   \n",
       "3          2492.985294              92829.0         2730.264706   \n",
       "4          2634.685484             139302.1         2246.808065   \n",
       "5          8048.700000               7420.5         7420.500000   \n",
       "6          1449.219403             228248.6         1703.347761   \n",
       "\n",
       "   delta_revenue   delta_mean  \n",
       "0         3500.0   388.888889  \n",
       "1        16045.9  5348.633333  \n",
       "2       -54690.5 -3038.361111  \n",
       "3         8067.5   237.279412  \n",
       "4       -24048.4  -387.877419  \n",
       "5         -628.2  -628.200000  \n",
       "6        34053.2   254.128358  "
      ]
     },
     "execution_count": 179,
     "metadata": {},
     "output_type": "execute_result"
    }
   ],
   "source": [
    "telecom_dataset_before_after = (telecom_dataset_before_total\n",
    "  .merge(telecom_dataset_after_total, on=['user_id'], suffixes=('_before', '_after'))\n",
    "  . groupby(['tariff_plan_before','tariff_plan_after'])\n",
    "  .agg(revenue_before_total=('revenue_before','sum'),\n",
    "      revenue_before_mean=('revenue_before','mean'),\n",
    "      revenue_after_total=('revenue_after','sum'),\n",
    "      revenue_after_mean=('revenue_after','mean'))\n",
    "  .reset_index()\n",
    "  .assign(delta_revenue = lambda x: x['revenue_after_total']-x['revenue_before_total'])\n",
    "  .assign(delta_mean = lambda x: x['revenue_after_mean']-x['revenue_before_mean'])\n",
    ")\n",
    "telecom_dataset_before_after"
   ]
  },
  {
   "cell_type": "markdown",
   "metadata": {
    "id": "AO43ZXPanPuF"
   },
   "source": [
    "<div class=\"alert alert-success\">\n",
    "<b>Комментарий тимлида v.2</b> \n",
    "    \n",
    "👍 Отличная сводная таблица!\n",
    "\n",
    "</div>"
   ]
  },
  {
   "cell_type": "code",
   "execution_count": 180,
   "metadata": {
    "colab": {
     "base_uri": "https://localhost:8080/",
     "height": 410
    },
    "executionInfo": {
     "elapsed": 781,
     "status": "ok",
     "timestamp": 1649920722897,
     "user": {
      "displayName": "Сергей Холоденин",
      "userId": "02339464120149742563"
     },
     "user_tz": -180
    },
    "id": "5b6tOH7_wH1m",
    "outputId": "9e50de80-7b67-494b-835c-0d27248eb284"
   },
   "outputs": [
    {
     "data": {
      "image/png": "[encoded data removed]",
      "text/plain": [
       "<Figure size 720x432 with 1 Axes>"
      ]
     },
     "metadata": {},
     "output_type": "display_data"
    }
   ],
   "source": [
    "plt.figure(figsize=(10,6))\n",
    "plt.bar(data=telecom_dataset_before_after, x='tariff_plan_before', height='revenue_before_total',width=0.5, label='До изменения тарифов')\n",
    "plt.bar(data=telecom_dataset_before_after, x='tariff_plan_after', height='revenue_after_total', align='edge',width=0.5, label='После изменения тарифов')\n",
    "plt.title('Изменение выручки после смены тарифа')\n",
    "plt.xlabel('Тариф')\n",
    "plt.ylabel('Сумма выручки')\n",
    "plt.legend()\n",
    "plt.show()"
   ]
  },
  {
   "cell_type": "code",
   "execution_count": 181,
   "metadata": {
    "colab": {
     "base_uri": "https://localhost:8080/",
     "height": 1000
    },
    "executionInfo": {
     "elapsed": 939,
     "status": "ok",
     "timestamp": 1649920841226,
     "user": {
      "displayName": "Сергей Холоденин",
      "userId": "02339464120149742563"
     },
     "user_tz": -180
    },
    "id": "XTyQu_hv6vWK",
    "outputId": "3ab5c3c0-8cab-4110-86a4-e36a41275fb0"
   },
   "outputs": [
    {
     "data": {
      "image/png": "[encoded data removed]",
      "text/plain": [
       "<Figure size 720x432 with 1 Axes>"
      ]
     },
     "metadata": {},
     "output_type": "display_data"
    },
    {
     "data": {
      "image/png": "[encoded data removed]",
      "text/plain": [
       "<Figure size 720x432 with 1 Axes>"
      ]
     },
     "metadata": {},
     "output_type": "display_data"
    },
    {
     "data": {
      "image/png": "[encoded data removed]",
      "text/plain": [
       "<Figure size 720x432 with 1 Axes>"
      ]
     },
     "metadata": {},
     "output_type": "display_data"
    }
   ],
   "source": [
    "for i in ['A','B','C']:\n",
    "  plt.figure(figsize=(10,6))\n",
    "  plt.bar(data=telecom_dataset_before_after[telecom_dataset_before_after['tariff_plan_before']== i], x='tariff_plan_before', height='revenue_before_mean',width=0.5, label='До изменения тарифа '+i)\n",
    "  plt.bar(data=telecom_dataset_before_after[telecom_dataset_before_after['tariff_plan_before']== i], x='tariff_plan_after', height='revenue_after_mean', align='edge',width=0.5, label='После изменения тарифа '+i)\n",
    "  plt.title('Изменение среднего чека после смены тарифа '+i)\n",
    "  plt.xlabel('Тариф')\n",
    "  plt.ylabel('Сумма среднего чека')\n",
    "  plt.legend()\n",
    "  plt.show()"
   ]
  },
  {
   "cell_type": "markdown",
   "metadata": {
    "id": "I2tvEPDcQvHg"
   },
   "source": [
    "Итак мы видим снижение данных показателей, нужно это проверить и провести статистические тесты."
   ]
  },
  {
   "cell_type": "markdown",
   "metadata": {
    "id": "ajTJf2rTnPuf"
   },
   "source": [
    "<div class=\"alert alert-success\">\n",
    "<b>Комментарий тимлида v.1</b> \n",
    "    \n",
    "👍 Отлично, результаты по выручке за ноябрь для текущих условий и предлагаемых получены. Не хватает какой-то общей сводной таблицы или визуализации данных.\n",
    "\n",
    "</div>"
   ]
  },
  {
   "cell_type": "markdown",
   "metadata": {
    "id": "66TIgU1p9TCV"
   },
   "source": [
    "<div class=\"alert alert-info\"> \n",
    "<b>Комментарий студента</b> \n",
    "    \n",
    "Добавил сводную таблицу и визуализации для наглядного сравнения.\n",
    "</div>"
   ]
  },
  {
   "cell_type": "markdown",
   "metadata": {
    "id": "ajTJf2rTnPuf"
   },
   "source": [
    "<div class=\"alert alert-success\">\n",
    "<b>Комментарий тимлида v.2</b> \n",
    "    \n",
    "👍 Вышло интересно! Спасибо.\n",
    "\n",
    "</div>"
   ]
  },
  {
   "cell_type": "markdown",
   "metadata": {
    "id": "AyDDI_8oMN88"
   },
   "source": [
    "## Проверка гипотез"
   ]
  },
  {
   "cell_type": "markdown",
   "metadata": {
    "id": "06uf30jWQ5qj"
   },
   "source": [
    "Итак у нас есть два датасета с данными. Нам следует проверить де гипотезы. Проверить равны ли выручки до и после изменений. А также проверить уменьшился ли средний чек после введения изменений."
   ]
  },
  {
   "cell_type": "markdown",
   "metadata": {
    "id": "mGT6kNNOtI-E"
   },
   "source": [
    "### Сравнение выручки до и после введения новых условий по тарифам"
   ]
  },
  {
   "cell_type": "markdown",
   "metadata": {
    "id": "8b7nJbI3tUZP"
   },
   "source": [
    "За нулевую гипотезу Н0 мы возьмем утверждение, что выручка не поменяется после введения новых условий тарифа. Альтернативная гипотеза - выручка изменилась.\n",
    "\n",
    "Для сравнения мы возьмем `revenue_before` и `revenue_after` из соответствующих датасетов. Будем проверять гипотезу о равенстве двух зависимых выборок."
   ]
  },
  {
   "cell_type": "code",
   "execution_count": 182,
   "metadata": {
    "id": "8filh053ssxA"
   },
   "outputs": [],
   "source": [
    "before = list(telecom_dataset_before_total['revenue_before'])\n",
    "after = list(telecom_dataset_after_total['revenue_after'])"
   ]
  },
  {
   "cell_type": "code",
   "execution_count": 183,
   "metadata": {
    "colab": {
     "base_uri": "https://localhost:8080/",
     "height": 433
    },
    "executionInfo": {
     "elapsed": 2915,
     "status": "ok",
     "timestamp": 1649922032211,
     "user": {
      "displayName": "Сергей Холоденин",
      "userId": "02339464120149742563"
     },
     "user_tz": -180
    },
    "id": "twVkvBU79tT1",
    "outputId": "390bb6e0-3825-4abc-f0ea-66ba1c963683"
   },
   "outputs": [
    {
     "data": {
      "text/plain": [
       "[]"
      ]
     },
     "execution_count": 183,
     "metadata": {},
     "output_type": "execute_result"
    },
    {
     "data": {
      "image/png": "[encoded data removed]",
      "text/plain": [
       "<Figure size 720x432 with 1 Axes>"
      ]
     },
     "metadata": {},
     "output_type": "display_data"
    }
   ],
   "source": [
    "plt.figure(figsize=(10,6))\n",
    "plt.hist(telecom_dataset_before_total['revenue_before'], bins=60,alpha=0.8, label='До изменения')\n",
    "plt.hist(telecom_dataset_after_total['revenue_after'],bins=60,alpha=0.4, label='После изменения')\n",
    "plt.title('Распределение выручки до и после изменений')\n",
    "plt.xlabel('Сумма выручки')\n",
    "plt.ylabel('Количество клиентов')\n",
    "plt.legend()\n",
    "plt.semilogx()"
   ]
  },
  {
   "cell_type": "markdown",
   "metadata": {
    "id": "N-7MXqd0BPER"
   },
   "source": [
    "Видим, что распределение изменилось после введения новых тарифов."
   ]
  },
  {
   "cell_type": "code",
   "execution_count": 184,
   "metadata": {
    "colab": {
     "base_uri": "https://localhost:8080/"
    },
    "executionInfo": {
     "elapsed": 272,
     "status": "ok",
     "timestamp": 1649922209439,
     "user": {
      "displayName": "Сергей Холоденин",
      "userId": "02339464120149742563"
     },
     "user_tz": -180
    },
    "id": "qf2IaT5-BoXl",
    "outputId": "428d7406-c9ad-4afb-c4a6-5fb98cf15743"
   },
   "outputs": [
    {
     "data": {
      "text/plain": [
       "count      261.000000\n",
       "mean      2573.586590\n",
       "std       2828.678257\n",
       "min       1000.000000\n",
       "25%       1200.000000\n",
       "50%       2000.000000\n",
       "75%       2594.500000\n",
       "max      36337.600000\n",
       "Name: revenue_before, dtype: float64"
      ]
     },
     "execution_count": 184,
     "metadata": {},
     "output_type": "execute_result"
    }
   ],
   "source": [
    "telecom_dataset_before_total['revenue_before'].describe()"
   ]
  },
  {
   "cell_type": "code",
   "execution_count": 185,
   "metadata": {
    "colab": {
     "base_uri": "https://localhost:8080/"
    },
    "executionInfo": {
     "elapsed": 311,
     "status": "ok",
     "timestamp": 1649922253884,
     "user": {
      "displayName": "Сергей Холоденин",
      "userId": "02339464120149742563"
     },
     "user_tz": -180
    },
    "id": "_DkcqZjgByaA",
    "outputId": "493d2850-a852-4e71-8c69-d80c49f421bf"
   },
   "outputs": [
    {
     "data": {
      "text/plain": [
       "count      261.000000\n",
       "mean      2505.768582\n",
       "std       3205.361982\n",
       "min       1000.000000\n",
       "25%       1242.000000\n",
       "50%       1677.700000\n",
       "75%       2320.800000\n",
       "max      38837.600000\n",
       "Name: revenue_after, dtype: float64"
      ]
     },
     "execution_count": 185,
     "metadata": {},
     "output_type": "execute_result"
    }
   ],
   "source": [
    "telecom_dataset_after_total['revenue_after'].describe()"
   ]
  },
  {
   "cell_type": "markdown",
   "metadata": {
    "id": "CGyitlsaB-HE"
   },
   "source": [
    "Также видим, что размер выборок совпадает - 261 значение, стандартное отклонение во второй выборке выше, центр сместился вниз."
   ]
  },
  {
   "cell_type": "markdown",
   "metadata": {
    "id": "qvXq5AtzLi4z"
   },
   "source": [
    "Уровень статистической значимости возьмем 0,05. Если значение p-value будет ниже этого уровня, то нулевую гипотезу мы сможем отвергнуть."
   ]
  },
  {
   "cell_type": "code",
   "execution_count": 186,
   "metadata": {
    "colab": {
     "base_uri": "https://localhost:8080/"
    },
    "executionInfo": {
     "elapsed": 335,
     "status": "ok",
     "timestamp": 1649920954788,
     "user": {
      "displayName": "Сергей Холоденин",
      "userId": "02339464120149742563"
     },
     "user_tz": -180
    },
    "id": "qpsdT3dKS94f",
    "outputId": "a0cecd6d-5e3b-4247-eb87-17c2c559122a"
   },
   "outputs": [
    {
     "name": "stdout",
     "output_type": "stream",
     "text": [
      "p-значение:  0.7978301794625983\n",
      "Не получилось отвергнуть нулевую гипотезу\n"
     ]
    }
   ],
   "source": [
    "alpha = .05\n",
    "\n",
    "results_r = st.ttest_ind(\n",
    "    before, \n",
    "    after)\n",
    "\n",
    "print('p-значение: ', results_r.pvalue)\n",
    "\n",
    "if results_r.pvalue < alpha:\n",
    "    print(\"Отвергаем нулевую гипотезу\")\n",
    "else:\n",
    "    print(\"Не получилось отвергнуть нулевую гипотезу\") "
   ]
  },
  {
   "cell_type": "markdown",
   "metadata": {
    "id": "v7IfnUKqLjBj"
   },
   "source": [
    "Значение p-value существенно превышает уровень статистической значимости, это говорит о том, что с высокой долей вероятности мы можем утверждать, что выручка при внесении изменений в тарифы не изменится."
   ]
  },
  {
   "cell_type": "markdown",
   "metadata": {
    "id": "rkUjbCn2TtAr"
   },
   "source": [
    "### Проверка изменения среднего чека после введения новых условий"
   ]
  },
  {
   "cell_type": "markdown",
   "metadata": {
    "id": "5MCowpVvT3-_"
   },
   "source": [
    "У нас есть показатель среднего чека при текущих условиях тарифа. Возьмем это значение за оптимальное. Также у нас есть выручка по каждому клиенту `after`. Проверим гипотезу о том, что средний чек уменьшился. За нулевую гипотезу мы берем НО утверждение, что средний чек не изменился. За альтернативную гипотезу Н1 - средний чек уменьшился. Статистический уровень значимости возьмем 0.05."
   ]
  },
  {
   "cell_type": "code",
   "execution_count": 187,
   "metadata": {
    "colab": {
     "base_uri": "https://localhost:8080/"
    },
    "executionInfo": {
     "elapsed": 253,
     "status": "ok",
     "timestamp": 1649920969335,
     "user": {
      "displayName": "Сергей Холоденин",
      "userId": "02339464120149742563"
     },
     "user_tz": -180
    },
    "id": "QhS21S1rToNQ",
    "outputId": "14ae95d3-dacb-4bea-d571-97579716f5f5"
   },
   "outputs": [
    {
     "name": "stdout",
     "output_type": "stream",
     "text": [
      "p-значение:  0.36638397992936234\n",
      "Не получилось отвергнуть нулевую гипотезу\n"
     ]
    }
   ],
   "source": [
    "optimal_value = telecom_dataset_before_total_mean\n",
    "\n",
    "alpha = .05\n",
    "\n",
    "results_m = st.ttest_1samp(\n",
    "   after,\n",
    "   optimal_value \n",
    ")\n",
    "\n",
    "print('p-значение: ', results_m.pvalue/2)\n",
    "\n",
    "if (results_m.pvalue/2 < alpha) and (after.mean() < optimal_value):\n",
    "    print(\"Отвергаем нулевую гипотезу\")\n",
    "else:\n",
    "    print(\"Не получилось отвергнуть нулевую гипотезу\") "
   ]
  },
  {
   "cell_type": "markdown",
   "metadata": {
    "id": "XE7pyIiRT22A"
   },
   "source": [
    "Значение p-value существенно превышает уровень статистической значимости, это говорит о том, что с высокой долей вероятности мы можем утверждать, что средний чек при внесении изменений в тарифы не уменьшится. Опасения о снижении не оправдались. Отразим получившиеся значения в итоговой таблице для наглядности."
   ]
  },
  {
   "cell_type": "code",
   "execution_count": 188,
   "metadata": {
    "colab": {
     "base_uri": "https://localhost:8080/",
     "height": 144
    },
    "executionInfo": {
     "elapsed": 256,
     "status": "ok",
     "timestamp": 1649920974525,
     "user": {
      "displayName": "Сергей Холоденин",
      "userId": "02339464120149742563"
     },
     "user_tz": -180
    },
    "id": "idwLcl88vskr",
    "outputId": "61b69cff-d43f-4e56-d53a-35af644cb29d"
   },
   "outputs": [
    {
     "data": {
      "text/html": [
       "<div>\n",
       "<style scoped>\n",
       "    .dataframe tbody tr th:only-of-type {\n",
       "        vertical-align: middle;\n",
       "    }\n",
       "\n",
       "    .dataframe tbody tr th {\n",
       "        vertical-align: top;\n",
       "    }\n",
       "\n",
       "    .dataframe thead th {\n",
       "        text-align: right;\n",
       "    }\n",
       "</style>\n",
       "<table border=\"1\" class=\"dataframe\">\n",
       "  <thead>\n",
       "    <tr style=\"text-align: right;\">\n",
       "      <th></th>\n",
       "      <th>Выручка</th>\n",
       "      <th>Средний чек</th>\n",
       "    </tr>\n",
       "  </thead>\n",
       "  <tbody>\n",
       "    <tr>\n",
       "      <th>Текущие значения</th>\n",
       "      <td>671706.10000</td>\n",
       "      <td>2573.586590</td>\n",
       "    </tr>\n",
       "    <tr>\n",
       "      <th>Новые значения</th>\n",
       "      <td>654005.60000</td>\n",
       "      <td>2505.768582</td>\n",
       "    </tr>\n",
       "    <tr>\n",
       "      <th>Значение p-value</th>\n",
       "      <td>0.79783</td>\n",
       "      <td>0.366384</td>\n",
       "    </tr>\n",
       "  </tbody>\n",
       "</table>\n",
       "</div>"
      ],
      "text/plain": [
       "                       Выручка  Средний чек\n",
       "Текущие значения  671706.10000  2573.586590\n",
       "Новые значения    654005.60000  2505.768582\n",
       "Значение p-value       0.79783     0.366384"
      ]
     },
     "execution_count": 188,
     "metadata": {},
     "output_type": "execute_result"
    }
   ],
   "source": [
    "index_f = ['Текущие значения', 'Новые значения', 'Значение p-value']\n",
    "final = pd.DataFrame(data={\n",
    "    'Выручка':[telecom_dataset_before_total_revenue,telecom_dataset_after_total_revenue,results_r.pvalue],\n",
    "    'Средний чек':[telecom_dataset_before_total_mean,telecom_dataset_after_total_mean, results_m.pvalue/2]}, index = index_f)\n",
    "final"
   ]
  },
  {
   "cell_type": "markdown",
   "metadata": {
    "id": "0ITc4tfinPum"
   },
   "source": [
    "<div class=\"alert alert-warning\">\n",
    "<b>Комментарий тимлида v.1</b> \n",
    "    \n",
    "📝 В целом стат. часть приведена корректно, но не хватает анализа сравниваемых данных, какой их объем, какое их распределение. Еще вопрос по поводу зависимого теста, по идее выборки зависимы, когда мы сравниваем какую-то динамику, например, до приема лекарства и после, т.е. выручка с клиентов в ноябре (т.е. после внедрения изменений) не изменится по сравнению с выручкой в октябре (т.е. до внедрения изменений). Но, в целом поскольку мы моделируем изменения, то можно использовать и зависимый тест.\n",
    "</div>"
   ]
  },
  {
   "cell_type": "markdown",
   "metadata": {
    "id": "AszgTWwo9c5G"
   },
   "source": [
    "<div class=\"alert alert-info\"> \n",
    "<b>Комментарий студента</b> \n",
    "    \n",
    "Изменил тест для сравнения двух выборок на независимый, значение еще более высокое у pvalue. Также проанализировал выборки, посмотрел на их распределение и объем.\n",
    "</div>"
   ]
  },
  {
   "cell_type": "markdown",
   "metadata": {
    "id": "ajTJf2rTnPuf"
   },
   "source": [
    "<div class=\"alert alert-success\">\n",
    "<b>Комментарий тимлида v.2</b> \n",
    "    \n",
    "👍 Спасибо, что скорректировал эту часть. Еще такой момент по интерпретации результатов в этом случае мы можем немного скорректировать вывод: Значение p-value превышает уровень статистической значимости, что не позволяет отвергнуть нулевую гипотезу. Чтобы говорить о вероятности, нам следует изучить мощность критерия (или иногда подразумевают мощность стат теста). Мощность — это вероятность отклонения нулевой гипотезы, когда она ложна.\n",
    "\n",
    "</div>"
   ]
  },
  {
   "cell_type": "markdown",
   "metadata": {
    "id": "AlGScJLGWmeB"
   },
   "source": [
    "## Общие выводы по исследованию"
   ]
  },
  {
   "cell_type": "markdown",
   "metadata": {
    "id": "lcQdFnBiboQx"
   },
   "source": [
    "В ходе исследования были сделаны следующие выводы:\n",
    "\n",
    "1.   В предоставленных данных были обнаружены аномалии, о которых следует дать информацию в технический отдел, собирающий эти данные, т.к. ошибочность предоставляемых данных может влиять на расчет итоговой выручки по клиентам, а соответсвенно они будут переплачивать за дублированную информацию по статистике звонков. Помимо дубликатов было выявлено несколько аномалий в указании исходящих пропущенных звонков с отсутствием оператора, что явно является ошибкой фиксации входящий/исходящий. Также есть аномалия в обозначении маркера пропущенных звонков, где 296 значений пропущенных звонков имеют продолжительность разговора.\n",
    "\n",
    "2.   При исследовании использования лимита 2000 минут в месяц исходящих внутри сети было выявлено, что в данный лимит укладываются все операторы. Теоретически данный лимит можно было уменьшить до 1000 минут в месяц, но также в ходе исследования было выявлено использования большого количество минут частью клиентов на входящих звонках внесети. Это подтолкнуло к мысли о том, что данные клиенты работают как входящие колл-центры и платят минимальную плату по тарифу за месяц и своих операторов, при этом используя большой трафик. Для сохранения текущих клиентов, которые платят за исходящий трафик, было принято рассмотреть лимит на входящие звонки внесети.\n",
    "\n",
    "3.   При расчете среднего чека по месяцам было выявлено, что те клиенты, которые пришли в августе и сентябре стабильно увеличивали средний чек, а впоследнем месяце показали падение, что может указывать на частичный переход к конкурентам. Те клиенты, кто пришли в октябре: показали прирост, соответственно для удержания оставшихся клиентов требуется предпринять меры.\n",
    "\n",
    "4.   Для выявления активных пользователей в ходе исследования был проанализирован ноябрь в разрезе по недельной активности клиентов, было зафиксировано, что после 11.11.2019 начался серьезный спад по всем когортам, поэтому для удержания оставшихся была выделена фокусная группа клиентов, которые был активны после данной даты с целью их удержания и повышения лояльности.\n",
    "\n",
    "5.   Для фокусной группы были расчитаны оптимальные тарифы и разработан список со всей необходимой информацией для менеджеров коммерческого отдела, чтобы они могли проработать ключевых клиентов для удержания.\n",
    "\n",
    "6.   В ходе исследования было подсчитано возможное изменение выручки при условии перехода клиентов из фокусной группы на оптимальные тарифы и составило 24% от общего ТО. Для компенсации были разработаны следующие предложения:\n",
    "\n",
    "\n",
    "*   Для всех тарифов ввести ограничение по бесплатному использованию входящих звонков внесети равному 1000 минут. Это позволит компенсировать 10% от текущей выручки.\n",
    "*   Для всех тарифов повысить стоимость работы одного оператора в месяц со 100 руб. на оператора, до 200 руб. в месяц за одного оператора. Данное изменение позволит скомпенсировать 15% выручки от текущего значения.\n",
    "\n",
    "7.   Были подсчитаны значения выручки и среднего чека до и после введения новых условий тарифа и перевода ключевых клиентов на оптимальные тарифы за ноябрь. Для выяснения изменений были проведены статистические тесты в ходе которых было выявлено, что с высокой долей вероятности выручка после изменений не изменится, а средний чек не уменьшится.\n",
    "\n",
    "8.   Данные предложения были выделены в соответствующие материалы для коммерческого отдела и предоставлен отчет в формате презентации.\n",
    "\n",
    "\n",
    "\n",
    "\n"
   ]
  },
  {
   "cell_type": "markdown",
   "metadata": {
    "id": "lqqrGy0DnPuo"
   },
   "source": [
    "<div class=\"alert alert-success\">\n",
    "<b>Комментарий тимлида v.1</b> \n",
    "    \n",
    "👍 В целом выводы соответствуют полученным результатам, тут все корректно и по делу.\n",
    "\n",
    "</div>"
   ]
  },
  {
   "cell_type": "markdown",
   "metadata": {
    "id": "69h6fgdjKN4b"
   },
   "source": [
    "Ссылка на дашборд:\n",
    "\n",
    "https://public.tableau.com/app/profile/sergei.kholodenin/viz/Final_dash_16496866431810/sheet4?publish=yes\n",
    "\n",
    "\n",
    "Ссылка на список клиентов для оптимизации тарифа:\n",
    "\n",
    "https://public.tableau.com/app/profile/sergei.kholodenin/viz/clients_for_change_tariff/sheet5?publish=yes\n",
    "\n",
    "Ссылка на презентацию:\n",
    "\n",
    "https://disk.yandex.ru/i/RNFetizCxKGaOw\n",
    "\n"
   ]
  },
  {
   "cell_type": "code",
   "execution_count": null,
   "metadata": {
    "id": "egzvQs6TW37t"
   },
   "outputs": [],
   "source": []
  },
  {
   "cell_type": "code",
   "execution_count": null,
   "metadata": {
    "id": "KbbTM30pKS-s"
   },
   "outputs": [],
   "source": []
  }
 ],
 "metadata": {
  "ExecuteTimeLog": [
   {
    "duration": 1342,
    "start_time": "2022-04-12T05:18:38.095Z"
   },
   {
    "duration": 150,
    "start_time": "2022-04-12T05:18:39.439Z"
   },
   {
    "duration": 0,
    "start_time": "2022-04-12T05:18:39.595Z"
   },
   {
    "duration": 0,
    "start_time": "2022-04-12T05:18:39.596Z"
   },
   {
    "duration": 0,
    "start_time": "2022-04-12T05:18:39.597Z"
   },
   {
    "duration": 0,
    "start_time": "2022-04-12T05:18:39.597Z"
   },
   {
    "duration": 0,
    "start_time": "2022-04-12T05:18:39.598Z"
   },
   {
    "duration": 0,
    "start_time": "2022-04-12T05:18:39.599Z"
   },
   {
    "duration": 0,
    "start_time": "2022-04-12T05:18:39.600Z"
   },
   {
    "duration": 0,
    "start_time": "2022-04-12T05:18:39.601Z"
   },
   {
    "duration": 0,
    "start_time": "2022-04-12T05:18:39.602Z"
   },
   {
    "duration": 0,
    "start_time": "2022-04-12T05:18:39.602Z"
   },
   {
    "duration": 0,
    "start_time": "2022-04-12T05:18:39.604Z"
   },
   {
    "duration": 0,
    "start_time": "2022-04-12T05:18:39.604Z"
   },
   {
    "duration": 0,
    "start_time": "2022-04-12T05:18:39.605Z"
   },
   {
    "duration": 0,
    "start_time": "2022-04-12T05:18:39.606Z"
   },
   {
    "duration": 0,
    "start_time": "2022-04-12T05:18:39.607Z"
   },
   {
    "duration": 0,
    "start_time": "2022-04-12T05:18:39.608Z"
   },
   {
    "duration": 0,
    "start_time": "2022-04-12T05:18:39.609Z"
   },
   {
    "duration": 0,
    "start_time": "2022-04-12T05:18:39.610Z"
   },
   {
    "duration": 0,
    "start_time": "2022-04-12T05:18:39.611Z"
   },
   {
    "duration": 0,
    "start_time": "2022-04-12T05:18:39.612Z"
   },
   {
    "duration": 0,
    "start_time": "2022-04-12T05:18:39.613Z"
   },
   {
    "duration": 0,
    "start_time": "2022-04-12T05:18:39.614Z"
   },
   {
    "duration": 0,
    "start_time": "2022-04-12T05:18:39.615Z"
   },
   {
    "duration": 0,
    "start_time": "2022-04-12T05:18:39.616Z"
   },
   {
    "duration": 0,
    "start_time": "2022-04-12T05:18:39.648Z"
   },
   {
    "duration": 0,
    "start_time": "2022-04-12T05:18:39.649Z"
   },
   {
    "duration": 0,
    "start_time": "2022-04-12T05:18:39.650Z"
   },
   {
    "duration": 0,
    "start_time": "2022-04-12T05:18:39.651Z"
   },
   {
    "duration": 0,
    "start_time": "2022-04-12T05:18:39.652Z"
   },
   {
    "duration": 0,
    "start_time": "2022-04-12T05:18:39.653Z"
   },
   {
    "duration": 0,
    "start_time": "2022-04-12T05:18:39.654Z"
   },
   {
    "duration": 0,
    "start_time": "2022-04-12T05:18:39.656Z"
   },
   {
    "duration": 0,
    "start_time": "2022-04-12T05:18:39.656Z"
   },
   {
    "duration": 0,
    "start_time": "2022-04-12T05:18:39.658Z"
   },
   {
    "duration": 0,
    "start_time": "2022-04-12T05:18:39.659Z"
   },
   {
    "duration": 0,
    "start_time": "2022-04-12T05:18:39.660Z"
   },
   {
    "duration": 0,
    "start_time": "2022-04-12T05:18:39.661Z"
   },
   {
    "duration": 0,
    "start_time": "2022-04-12T05:18:39.662Z"
   },
   {
    "duration": 0,
    "start_time": "2022-04-12T05:18:39.663Z"
   },
   {
    "duration": 0,
    "start_time": "2022-04-12T05:18:39.664Z"
   },
   {
    "duration": 0,
    "start_time": "2022-04-12T05:18:39.665Z"
   },
   {
    "duration": 0,
    "start_time": "2022-04-12T05:18:39.666Z"
   },
   {
    "duration": 0,
    "start_time": "2022-04-12T05:18:39.667Z"
   },
   {
    "duration": 0,
    "start_time": "2022-04-12T05:18:39.669Z"
   },
   {
    "duration": 0,
    "start_time": "2022-04-12T05:18:39.670Z"
   },
   {
    "duration": 0,
    "start_time": "2022-04-12T05:18:39.671Z"
   },
   {
    "duration": 0,
    "start_time": "2022-04-12T05:18:39.672Z"
   },
   {
    "duration": 0,
    "start_time": "2022-04-12T05:18:39.673Z"
   },
   {
    "duration": 0,
    "start_time": "2022-04-12T05:18:39.674Z"
   },
   {
    "duration": 0,
    "start_time": "2022-04-12T05:18:39.675Z"
   },
   {
    "duration": 0,
    "start_time": "2022-04-12T05:18:39.676Z"
   },
   {
    "duration": 0,
    "start_time": "2022-04-12T05:18:39.677Z"
   },
   {
    "duration": 0,
    "start_time": "2022-04-12T05:18:39.678Z"
   },
   {
    "duration": 0,
    "start_time": "2022-04-12T05:18:39.679Z"
   },
   {
    "duration": 0,
    "start_time": "2022-04-12T05:18:39.680Z"
   },
   {
    "duration": 0,
    "start_time": "2022-04-12T05:18:39.681Z"
   },
   {
    "duration": 0,
    "start_time": "2022-04-12T05:18:39.681Z"
   },
   {
    "duration": 0,
    "start_time": "2022-04-12T05:18:39.682Z"
   },
   {
    "duration": 0,
    "start_time": "2022-04-12T05:18:39.683Z"
   },
   {
    "duration": 0,
    "start_time": "2022-04-12T05:18:39.684Z"
   },
   {
    "duration": 0,
    "start_time": "2022-04-12T05:18:39.686Z"
   },
   {
    "duration": 0,
    "start_time": "2022-04-12T05:18:39.748Z"
   },
   {
    "duration": 0,
    "start_time": "2022-04-12T05:18:39.749Z"
   },
   {
    "duration": 0,
    "start_time": "2022-04-12T05:18:39.750Z"
   },
   {
    "duration": 0,
    "start_time": "2022-04-12T05:18:39.751Z"
   },
   {
    "duration": 0,
    "start_time": "2022-04-12T05:18:39.752Z"
   },
   {
    "duration": 0,
    "start_time": "2022-04-12T05:18:39.753Z"
   },
   {
    "duration": 0,
    "start_time": "2022-04-12T05:18:39.754Z"
   },
   {
    "duration": 0,
    "start_time": "2022-04-12T05:18:39.755Z"
   },
   {
    "duration": 0,
    "start_time": "2022-04-12T05:18:39.756Z"
   },
   {
    "duration": 0,
    "start_time": "2022-04-12T05:18:39.757Z"
   },
   {
    "duration": 0,
    "start_time": "2022-04-12T05:18:39.758Z"
   },
   {
    "duration": 0,
    "start_time": "2022-04-12T05:18:39.759Z"
   },
   {
    "duration": 0,
    "start_time": "2022-04-12T05:18:39.760Z"
   },
   {
    "duration": 0,
    "start_time": "2022-04-12T05:18:39.761Z"
   },
   {
    "duration": 0,
    "start_time": "2022-04-12T05:18:39.763Z"
   },
   {
    "duration": 0,
    "start_time": "2022-04-12T05:18:39.763Z"
   },
   {
    "duration": 0,
    "start_time": "2022-04-12T05:18:39.764Z"
   },
   {
    "duration": 0,
    "start_time": "2022-04-12T05:18:39.765Z"
   },
   {
    "duration": 0,
    "start_time": "2022-04-12T05:18:39.766Z"
   },
   {
    "duration": 0,
    "start_time": "2022-04-12T05:18:39.768Z"
   },
   {
    "duration": 0,
    "start_time": "2022-04-12T05:18:39.769Z"
   },
   {
    "duration": 0,
    "start_time": "2022-04-12T05:18:39.770Z"
   },
   {
    "duration": 0,
    "start_time": "2022-04-12T05:18:39.770Z"
   },
   {
    "duration": 0,
    "start_time": "2022-04-12T05:18:39.771Z"
   },
   {
    "duration": 0,
    "start_time": "2022-04-12T05:18:39.772Z"
   },
   {
    "duration": 0,
    "start_time": "2022-04-12T05:18:39.774Z"
   },
   {
    "duration": 0,
    "start_time": "2022-04-12T05:18:39.775Z"
   },
   {
    "duration": 0,
    "start_time": "2022-04-12T05:18:39.775Z"
   },
   {
    "duration": 0,
    "start_time": "2022-04-12T05:18:39.777Z"
   },
   {
    "duration": 0,
    "start_time": "2022-04-12T05:18:39.777Z"
   },
   {
    "duration": 0,
    "start_time": "2022-04-12T05:18:39.778Z"
   },
   {
    "duration": 0,
    "start_time": "2022-04-12T05:18:39.779Z"
   },
   {
    "duration": 0,
    "start_time": "2022-04-12T05:18:39.781Z"
   },
   {
    "duration": 0,
    "start_time": "2022-04-12T05:18:39.781Z"
   },
   {
    "duration": 0,
    "start_time": "2022-04-12T05:18:39.782Z"
   },
   {
    "duration": 0,
    "start_time": "2022-04-12T05:18:39.848Z"
   },
   {
    "duration": 0,
    "start_time": "2022-04-12T05:18:39.849Z"
   },
   {
    "duration": 0,
    "start_time": "2022-04-12T05:18:39.851Z"
   },
   {
    "duration": 0,
    "start_time": "2022-04-12T05:18:39.852Z"
   },
   {
    "duration": 0,
    "start_time": "2022-04-12T05:18:39.853Z"
   },
   {
    "duration": 0,
    "start_time": "2022-04-12T05:18:39.855Z"
   },
   {
    "duration": 0,
    "start_time": "2022-04-12T05:18:39.856Z"
   },
   {
    "duration": 0,
    "start_time": "2022-04-12T05:18:39.858Z"
   },
   {
    "duration": 0,
    "start_time": "2022-04-12T05:18:39.859Z"
   },
   {
    "duration": 0,
    "start_time": "2022-04-12T05:18:39.861Z"
   },
   {
    "duration": 0,
    "start_time": "2022-04-12T05:18:39.862Z"
   },
   {
    "duration": 0,
    "start_time": "2022-04-12T05:18:39.864Z"
   },
   {
    "duration": 0,
    "start_time": "2022-04-12T05:18:39.865Z"
   },
   {
    "duration": 0,
    "start_time": "2022-04-12T05:18:39.866Z"
   },
   {
    "duration": 0,
    "start_time": "2022-04-12T05:18:39.868Z"
   },
   {
    "duration": 0,
    "start_time": "2022-04-12T05:18:39.869Z"
   },
   {
    "duration": 0,
    "start_time": "2022-04-12T05:18:39.870Z"
   },
   {
    "duration": 0,
    "start_time": "2022-04-12T05:18:39.872Z"
   },
   {
    "duration": 0,
    "start_time": "2022-04-12T05:18:39.873Z"
   },
   {
    "duration": 0,
    "start_time": "2022-04-12T05:18:39.875Z"
   },
   {
    "duration": 0,
    "start_time": "2022-04-12T05:18:39.876Z"
   },
   {
    "duration": 0,
    "start_time": "2022-04-12T05:18:39.877Z"
   },
   {
    "duration": 0,
    "start_time": "2022-04-12T05:18:39.878Z"
   },
   {
    "duration": 0,
    "start_time": "2022-04-12T05:18:39.880Z"
   },
   {
    "duration": 0,
    "start_time": "2022-04-12T05:18:39.881Z"
   },
   {
    "duration": 0,
    "start_time": "2022-04-12T05:18:39.883Z"
   },
   {
    "duration": 0,
    "start_time": "2022-04-12T05:18:39.884Z"
   },
   {
    "duration": 0,
    "start_time": "2022-04-12T05:18:39.885Z"
   },
   {
    "duration": 0,
    "start_time": "2022-04-12T05:18:39.887Z"
   },
   {
    "duration": 0,
    "start_time": "2022-04-12T05:18:39.948Z"
   },
   {
    "duration": 0,
    "start_time": "2022-04-12T05:18:39.949Z"
   },
   {
    "duration": 0,
    "start_time": "2022-04-12T05:18:39.951Z"
   },
   {
    "duration": 0,
    "start_time": "2022-04-12T05:18:39.952Z"
   },
   {
    "duration": 0,
    "start_time": "2022-04-12T05:18:39.953Z"
   },
   {
    "duration": 0,
    "start_time": "2022-04-12T05:18:39.955Z"
   },
   {
    "duration": 0,
    "start_time": "2022-04-12T05:18:39.957Z"
   },
   {
    "duration": 0,
    "start_time": "2022-04-12T05:18:39.959Z"
   },
   {
    "duration": 0,
    "start_time": "2022-04-12T05:18:39.961Z"
   },
   {
    "duration": 0,
    "start_time": "2022-04-12T05:18:39.962Z"
   },
   {
    "duration": 0,
    "start_time": "2022-04-12T05:18:39.963Z"
   },
   {
    "duration": 0,
    "start_time": "2022-04-12T05:18:39.965Z"
   },
   {
    "duration": 0,
    "start_time": "2022-04-12T05:18:39.966Z"
   },
   {
    "duration": 0,
    "start_time": "2022-04-12T05:18:39.968Z"
   },
   {
    "duration": 0,
    "start_time": "2022-04-12T05:18:39.969Z"
   },
   {
    "duration": 0,
    "start_time": "2022-04-12T05:18:39.971Z"
   },
   {
    "duration": 0,
    "start_time": "2022-04-12T05:18:39.972Z"
   },
   {
    "duration": 0,
    "start_time": "2022-04-12T05:18:39.973Z"
   },
   {
    "duration": 0,
    "start_time": "2022-04-12T05:18:39.975Z"
   },
   {
    "duration": 0,
    "start_time": "2022-04-12T05:18:39.976Z"
   },
   {
    "duration": 0,
    "start_time": "2022-04-12T05:18:39.977Z"
   },
   {
    "duration": 0,
    "start_time": "2022-04-12T05:18:39.979Z"
   },
   {
    "duration": 0,
    "start_time": "2022-04-12T05:18:39.980Z"
   },
   {
    "duration": 0,
    "start_time": "2022-04-12T05:18:39.982Z"
   },
   {
    "duration": 0,
    "start_time": "2022-04-12T05:18:39.983Z"
   },
   {
    "duration": 0,
    "start_time": "2022-04-12T05:18:39.984Z"
   },
   {
    "duration": 0,
    "start_time": "2022-04-12T05:18:39.985Z"
   },
   {
    "duration": 0,
    "start_time": "2022-04-12T05:18:40.048Z"
   },
   {
    "duration": 0,
    "start_time": "2022-04-12T05:18:40.050Z"
   },
   {
    "duration": 0,
    "start_time": "2022-04-12T05:18:40.051Z"
   },
   {
    "duration": 0,
    "start_time": "2022-04-12T05:18:40.052Z"
   },
   {
    "duration": 0,
    "start_time": "2022-04-12T05:18:40.053Z"
   },
   {
    "duration": 0,
    "start_time": "2022-04-12T05:18:40.054Z"
   },
   {
    "duration": 0,
    "start_time": "2022-04-12T05:18:40.055Z"
   },
   {
    "duration": 0,
    "start_time": "2022-04-12T05:18:40.056Z"
   },
   {
    "duration": 0,
    "start_time": "2022-04-12T05:18:40.057Z"
   },
   {
    "duration": 0,
    "start_time": "2022-04-12T05:18:40.058Z"
   },
   {
    "duration": 127,
    "start_time": "2022-04-12T05:19:14.514Z"
   },
   {
    "duration": 1255,
    "start_time": "2022-04-12T05:19:18.763Z"
   },
   {
    "duration": 73,
    "start_time": "2022-04-12T05:19:20.021Z"
   },
   {
    "duration": 12,
    "start_time": "2022-04-12T05:19:20.095Z"
   },
   {
    "duration": 10,
    "start_time": "2022-04-12T05:19:20.110Z"
   },
   {
    "duration": 29,
    "start_time": "2022-04-12T05:19:20.122Z"
   },
   {
    "duration": 11,
    "start_time": "2022-04-12T05:19:20.153Z"
   },
   {
    "duration": 6,
    "start_time": "2022-04-12T05:19:20.166Z"
   },
   {
    "duration": 21,
    "start_time": "2022-04-12T05:19:20.173Z"
   },
   {
    "duration": 20,
    "start_time": "2022-04-12T05:19:20.196Z"
   },
   {
    "duration": 33,
    "start_time": "2022-04-12T05:19:20.219Z"
   },
   {
    "duration": 19,
    "start_time": "2022-04-12T05:19:20.253Z"
   },
   {
    "duration": 22,
    "start_time": "2022-04-12T05:19:20.273Z"
   },
   {
    "duration": 443,
    "start_time": "2022-04-12T05:19:20.296Z"
   },
   {
    "duration": 15,
    "start_time": "2022-04-12T05:19:20.740Z"
   },
   {
    "duration": 5,
    "start_time": "2022-04-12T05:19:20.757Z"
   },
   {
    "duration": 232,
    "start_time": "2022-04-12T05:19:20.764Z"
   },
   {
    "duration": 174,
    "start_time": "2022-04-12T05:19:20.998Z"
   },
   {
    "duration": 5,
    "start_time": "2022-04-12T05:19:21.173Z"
   },
   {
    "duration": 16,
    "start_time": "2022-04-12T05:19:21.180Z"
   },
   {
    "duration": 112,
    "start_time": "2022-04-12T05:19:21.198Z"
   },
   {
    "duration": 12,
    "start_time": "2022-04-12T05:19:21.312Z"
   },
   {
    "duration": 30,
    "start_time": "2022-04-12T05:19:21.325Z"
   },
   {
    "duration": 682,
    "start_time": "2022-04-12T05:19:21.356Z"
   },
   {
    "duration": 108,
    "start_time": "2022-04-12T05:19:22.040Z"
   },
   {
    "duration": 17,
    "start_time": "2022-04-12T05:19:22.149Z"
   },
   {
    "duration": 18,
    "start_time": "2022-04-12T05:19:22.168Z"
   },
   {
    "duration": 7,
    "start_time": "2022-04-12T05:19:22.188Z"
   },
   {
    "duration": 13,
    "start_time": "2022-04-12T05:19:22.200Z"
   },
   {
    "duration": 120,
    "start_time": "2022-04-12T05:19:22.247Z"
   },
   {
    "duration": 132,
    "start_time": "2022-04-12T05:19:22.369Z"
   },
   {
    "duration": 10,
    "start_time": "2022-04-12T05:19:22.503Z"
   },
   {
    "duration": 234,
    "start_time": "2022-04-12T05:19:22.515Z"
   },
   {
    "duration": 8,
    "start_time": "2022-04-12T05:19:22.751Z"
   },
   {
    "duration": 11,
    "start_time": "2022-04-12T05:19:22.761Z"
   },
   {
    "duration": 12,
    "start_time": "2022-04-12T05:19:22.774Z"
   },
   {
    "duration": 9,
    "start_time": "2022-04-12T05:19:22.787Z"
   },
   {
    "duration": 6,
    "start_time": "2022-04-12T05:19:22.798Z"
   },
   {
    "duration": 5,
    "start_time": "2022-04-12T05:19:22.805Z"
   },
   {
    "duration": 37,
    "start_time": "2022-04-12T05:19:22.812Z"
   },
   {
    "duration": 8,
    "start_time": "2022-04-12T05:19:22.851Z"
   },
   {
    "duration": 6,
    "start_time": "2022-04-12T05:19:22.860Z"
   },
   {
    "duration": 7,
    "start_time": "2022-04-12T05:19:22.867Z"
   },
   {
    "duration": 6,
    "start_time": "2022-04-12T05:19:22.876Z"
   },
   {
    "duration": 5,
    "start_time": "2022-04-12T05:19:22.884Z"
   },
   {
    "duration": 5,
    "start_time": "2022-04-12T05:19:22.890Z"
   },
   {
    "duration": 4,
    "start_time": "2022-04-12T05:19:22.897Z"
   },
   {
    "duration": 16,
    "start_time": "2022-04-12T05:19:22.903Z"
   },
   {
    "duration": 31,
    "start_time": "2022-04-12T05:19:22.921Z"
   },
   {
    "duration": 18,
    "start_time": "2022-04-12T05:19:22.953Z"
   },
   {
    "duration": 3,
    "start_time": "2022-04-12T05:19:22.973Z"
   },
   {
    "duration": 15,
    "start_time": "2022-04-12T05:19:22.978Z"
   },
   {
    "duration": 9,
    "start_time": "2022-04-12T05:19:22.994Z"
   },
   {
    "duration": 3,
    "start_time": "2022-04-12T05:19:23.004Z"
   },
   {
    "duration": 48,
    "start_time": "2022-04-12T05:19:23.009Z"
   },
   {
    "duration": 3,
    "start_time": "2022-04-12T05:19:23.059Z"
   },
   {
    "duration": 5,
    "start_time": "2022-04-12T05:19:23.064Z"
   },
   {
    "duration": 10,
    "start_time": "2022-04-12T05:19:23.071Z"
   },
   {
    "duration": 6,
    "start_time": "2022-04-12T05:19:23.083Z"
   },
   {
    "duration": 6,
    "start_time": "2022-04-12T05:19:23.091Z"
   },
   {
    "duration": 10,
    "start_time": "2022-04-12T05:19:23.099Z"
   },
   {
    "duration": 46,
    "start_time": "2022-04-12T05:19:23.111Z"
   },
   {
    "duration": 13,
    "start_time": "2022-04-12T05:19:23.159Z"
   },
   {
    "duration": 6,
    "start_time": "2022-04-12T05:19:23.173Z"
   },
   {
    "duration": 5,
    "start_time": "2022-04-12T05:19:23.180Z"
   },
   {
    "duration": 19,
    "start_time": "2022-04-12T05:19:23.187Z"
   },
   {
    "duration": 18,
    "start_time": "2022-04-12T05:19:23.208Z"
   },
   {
    "duration": 22,
    "start_time": "2022-04-12T05:19:23.227Z"
   },
   {
    "duration": 11,
    "start_time": "2022-04-12T05:19:23.251Z"
   },
   {
    "duration": 337,
    "start_time": "2022-04-12T05:19:23.264Z"
   },
   {
    "duration": 9,
    "start_time": "2022-04-12T05:19:23.603Z"
   },
   {
    "duration": 15,
    "start_time": "2022-04-12T05:19:23.614Z"
   },
   {
    "duration": 20,
    "start_time": "2022-04-12T05:19:23.631Z"
   },
   {
    "duration": 13,
    "start_time": "2022-04-12T05:19:23.653Z"
   },
   {
    "duration": 5,
    "start_time": "2022-04-12T05:19:23.668Z"
   },
   {
    "duration": 13,
    "start_time": "2022-04-12T05:19:23.675Z"
   },
   {
    "duration": 8,
    "start_time": "2022-04-12T05:19:23.690Z"
   },
   {
    "duration": 5,
    "start_time": "2022-04-12T05:19:23.699Z"
   },
   {
    "duration": 5,
    "start_time": "2022-04-12T05:19:23.705Z"
   },
   {
    "duration": 37,
    "start_time": "2022-04-12T05:19:23.711Z"
   },
   {
    "duration": 5,
    "start_time": "2022-04-12T05:19:23.749Z"
   },
   {
    "duration": 12,
    "start_time": "2022-04-12T05:19:23.755Z"
   },
   {
    "duration": 356,
    "start_time": "2022-04-12T05:19:23.774Z"
   },
   {
    "duration": 23,
    "start_time": "2022-04-12T05:19:24.131Z"
   },
   {
    "duration": 6,
    "start_time": "2022-04-12T05:19:24.156Z"
   },
   {
    "duration": 376,
    "start_time": "2022-04-12T05:19:24.164Z"
   },
   {
    "duration": 8,
    "start_time": "2022-04-12T05:19:24.542Z"
   },
   {
    "duration": 5,
    "start_time": "2022-04-12T05:19:24.551Z"
   },
   {
    "duration": 5,
    "start_time": "2022-04-12T05:19:24.557Z"
   },
   {
    "duration": 11,
    "start_time": "2022-04-12T05:19:24.564Z"
   },
   {
    "duration": 12,
    "start_time": "2022-04-12T05:19:24.576Z"
   },
   {
    "duration": 4,
    "start_time": "2022-04-12T05:19:24.589Z"
   },
   {
    "duration": 17,
    "start_time": "2022-04-12T05:19:24.595Z"
   },
   {
    "duration": 35,
    "start_time": "2022-04-12T05:19:24.614Z"
   },
   {
    "duration": 10,
    "start_time": "2022-04-12T05:19:24.650Z"
   },
   {
    "duration": 5,
    "start_time": "2022-04-12T05:19:24.661Z"
   },
   {
    "duration": 9,
    "start_time": "2022-04-12T05:19:24.667Z"
   },
   {
    "duration": 5,
    "start_time": "2022-04-12T05:19:24.678Z"
   },
   {
    "duration": 22,
    "start_time": "2022-04-12T05:19:24.684Z"
   },
   {
    "duration": 8,
    "start_time": "2022-04-12T05:19:24.708Z"
   },
   {
    "duration": 39,
    "start_time": "2022-04-12T05:19:24.718Z"
   },
   {
    "duration": 5,
    "start_time": "2022-04-12T05:19:24.759Z"
   },
   {
    "duration": 4,
    "start_time": "2022-04-12T05:19:24.766Z"
   },
   {
    "duration": 4,
    "start_time": "2022-04-12T05:19:24.772Z"
   },
   {
    "duration": 6,
    "start_time": "2022-04-12T05:19:24.778Z"
   },
   {
    "duration": 12,
    "start_time": "2022-04-12T05:19:24.785Z"
   },
   {
    "duration": 14,
    "start_time": "2022-04-12T05:19:24.798Z"
   },
   {
    "duration": 4,
    "start_time": "2022-04-12T05:19:24.814Z"
   },
   {
    "duration": 32,
    "start_time": "2022-04-12T05:19:24.819Z"
   },
   {
    "duration": 16,
    "start_time": "2022-04-12T05:19:24.853Z"
   },
   {
    "duration": 4,
    "start_time": "2022-04-12T05:19:24.871Z"
   },
   {
    "duration": 5,
    "start_time": "2022-04-12T05:19:24.876Z"
   },
   {
    "duration": 3,
    "start_time": "2022-04-12T05:19:24.883Z"
   },
   {
    "duration": 12,
    "start_time": "2022-04-12T05:19:24.887Z"
   },
   {
    "duration": 7,
    "start_time": "2022-04-12T05:19:24.901Z"
   },
   {
    "duration": 40,
    "start_time": "2022-04-12T05:19:24.909Z"
   },
   {
    "duration": 7,
    "start_time": "2022-04-12T05:19:24.950Z"
   },
   {
    "duration": 13,
    "start_time": "2022-04-12T05:19:24.959Z"
   },
   {
    "duration": 3,
    "start_time": "2022-04-12T05:19:24.974Z"
   },
   {
    "duration": 9,
    "start_time": "2022-04-12T05:19:24.978Z"
   },
   {
    "duration": 3,
    "start_time": "2022-04-12T05:19:24.988Z"
   },
   {
    "duration": 6,
    "start_time": "2022-04-12T05:19:24.993Z"
   },
   {
    "duration": 47,
    "start_time": "2022-04-12T05:19:25.001Z"
   },
   {
    "duration": 3,
    "start_time": "2022-04-12T05:19:25.050Z"
   },
   {
    "duration": 9,
    "start_time": "2022-04-12T05:19:25.054Z"
   },
   {
    "duration": 6,
    "start_time": "2022-04-12T05:19:25.064Z"
   },
   {
    "duration": 3,
    "start_time": "2022-04-12T05:19:25.071Z"
   },
   {
    "duration": 8,
    "start_time": "2022-04-12T05:19:25.075Z"
   },
   {
    "duration": 18,
    "start_time": "2022-04-12T05:19:25.084Z"
   },
   {
    "duration": 4,
    "start_time": "2022-04-12T05:19:25.103Z"
   },
   {
    "duration": 8,
    "start_time": "2022-04-12T05:19:25.109Z"
   },
   {
    "duration": 12,
    "start_time": "2022-04-12T05:19:25.148Z"
   },
   {
    "duration": 8,
    "start_time": "2022-04-12T05:19:25.162Z"
   },
   {
    "duration": 13,
    "start_time": "2022-04-12T05:19:25.171Z"
   },
   {
    "duration": 5,
    "start_time": "2022-04-12T05:19:25.186Z"
   },
   {
    "duration": 5,
    "start_time": "2022-04-12T05:19:25.192Z"
   },
   {
    "duration": 5,
    "start_time": "2022-04-12T05:19:25.199Z"
   },
   {
    "duration": 6,
    "start_time": "2022-04-12T05:19:25.206Z"
   },
   {
    "duration": 39,
    "start_time": "2022-04-12T05:19:25.213Z"
   },
   {
    "duration": 10,
    "start_time": "2022-04-12T05:19:25.253Z"
   },
   {
    "duration": 6,
    "start_time": "2022-04-12T05:19:25.265Z"
   },
   {
    "duration": 8,
    "start_time": "2022-04-12T05:19:25.273Z"
   },
   {
    "duration": 5,
    "start_time": "2022-04-12T05:19:25.282Z"
   },
   {
    "duration": 7,
    "start_time": "2022-04-12T05:19:25.289Z"
   },
   {
    "duration": 5,
    "start_time": "2022-04-12T05:19:25.297Z"
   },
   {
    "duration": 51,
    "start_time": "2022-04-12T05:19:25.303Z"
   },
   {
    "duration": 3,
    "start_time": "2022-04-12T05:19:25.356Z"
   },
   {
    "duration": 10,
    "start_time": "2022-04-12T05:19:25.360Z"
   },
   {
    "duration": 9,
    "start_time": "2022-04-12T05:19:25.371Z"
   },
   {
    "duration": 11,
    "start_time": "2022-04-12T05:19:25.381Z"
   },
   {
    "duration": 6,
    "start_time": "2022-04-12T05:19:25.394Z"
   },
   {
    "duration": 6,
    "start_time": "2022-04-12T05:19:25.401Z"
   },
   {
    "duration": 6,
    "start_time": "2022-04-12T05:19:25.408Z"
   },
   {
    "duration": 6,
    "start_time": "2022-04-12T05:19:25.415Z"
   },
   {
    "duration": 5,
    "start_time": "2022-04-12T05:19:25.447Z"
   },
   {
    "duration": 10,
    "start_time": "2022-04-12T05:19:25.454Z"
   },
   {
    "duration": 7,
    "start_time": "2022-04-12T05:19:25.465Z"
   },
   {
    "duration": 7,
    "start_time": "2022-04-12T05:19:25.473Z"
   },
   {
    "duration": 4,
    "start_time": "2022-04-12T05:19:25.482Z"
   },
   {
    "duration": 5,
    "start_time": "2022-04-12T05:19:25.488Z"
   },
   {
    "duration": 5,
    "start_time": "2022-04-12T05:19:25.495Z"
   },
   {
    "duration": 4,
    "start_time": "2022-04-12T05:19:25.502Z"
   },
   {
    "duration": 6,
    "start_time": "2022-04-12T05:19:25.507Z"
   },
   {
    "duration": 5,
    "start_time": "2022-04-12T05:19:25.547Z"
   },
   {
    "duration": 10,
    "start_time": "2022-04-12T05:19:25.554Z"
   },
   {
    "duration": 27,
    "start_time": "2022-04-12T05:40:11.748Z"
   },
   {
    "duration": 131,
    "start_time": "2022-04-12T05:46:02.333Z"
   },
   {
    "duration": 114,
    "start_time": "2022-04-12T05:46:22.733Z"
   },
   {
    "duration": 56,
    "start_time": "2022-04-12T05:46:25.754Z"
   },
   {
    "duration": 59,
    "start_time": "2022-04-12T05:46:52.869Z"
   },
   {
    "duration": 142,
    "start_time": "2022-04-12T05:48:16.214Z"
   },
   {
    "duration": 60,
    "start_time": "2022-04-12T05:48:22.523Z"
   },
   {
    "duration": 59,
    "start_time": "2022-04-12T05:48:37.893Z"
   },
   {
    "duration": 60,
    "start_time": "2022-04-12T05:49:29.716Z"
   },
   {
    "duration": 57,
    "start_time": "2022-04-12T05:51:17.646Z"
   },
   {
    "duration": 1262,
    "start_time": "2022-04-12T05:53:45.171Z"
   },
   {
    "duration": 128,
    "start_time": "2022-04-12T05:53:58.029Z"
   },
   {
    "duration": 128,
    "start_time": "2022-04-12T05:55:46.615Z"
   },
   {
    "duration": 22,
    "start_time": "2022-04-12T06:07:37.317Z"
   },
   {
    "duration": 13,
    "start_time": "2022-04-12T06:12:17.839Z"
   },
   {
    "duration": 20,
    "start_time": "2022-04-12T06:12:21.236Z"
   },
   {
    "duration": 14,
    "start_time": "2022-04-12T06:12:33.302Z"
   },
   {
    "duration": 13,
    "start_time": "2022-04-12T06:12:56.708Z"
   },
   {
    "duration": 20,
    "start_time": "2022-04-12T06:13:13.470Z"
   },
   {
    "duration": 13,
    "start_time": "2022-04-12T06:14:30.138Z"
   },
   {
    "duration": 5,
    "start_time": "2022-04-12T06:35:09.664Z"
   },
   {
    "duration": 6,
    "start_time": "2022-04-12T06:35:32.280Z"
   },
   {
    "duration": 4,
    "start_time": "2022-04-12T06:35:37.601Z"
   },
   {
    "duration": 5,
    "start_time": "2022-04-12T06:36:33.367Z"
   },
   {
    "duration": 5,
    "start_time": "2022-04-12T06:36:48.101Z"
   },
   {
    "duration": 5,
    "start_time": "2022-04-12T06:36:58.591Z"
   },
   {
    "duration": 6,
    "start_time": "2022-04-12T06:37:08.575Z"
   },
   {
    "duration": 4,
    "start_time": "2022-04-12T06:37:14.062Z"
   },
   {
    "duration": 10,
    "start_time": "2022-04-12T06:37:25.062Z"
   },
   {
    "duration": 1210,
    "start_time": "2022-04-14T15:51:54.133Z"
   },
   {
    "duration": 276,
    "start_time": "2022-04-14T15:51:55.345Z"
   },
   {
    "duration": 12,
    "start_time": "2022-04-14T15:51:55.622Z"
   },
   {
    "duration": 27,
    "start_time": "2022-04-14T15:51:55.636Z"
   },
   {
    "duration": 20,
    "start_time": "2022-04-14T15:51:55.665Z"
   },
   {
    "duration": 39,
    "start_time": "2022-04-14T15:51:55.687Z"
   },
   {
    "duration": 12,
    "start_time": "2022-04-14T15:51:55.728Z"
   },
   {
    "duration": 319,
    "start_time": "2022-04-14T15:51:55.742Z"
   },
   {
    "duration": 11,
    "start_time": "2022-04-14T15:51:56.063Z"
   },
   {
    "duration": 33,
    "start_time": "2022-04-14T15:51:56.077Z"
   },
   {
    "duration": 27,
    "start_time": "2022-04-14T15:51:56.111Z"
   },
   {
    "duration": 14,
    "start_time": "2022-04-14T15:51:56.140Z"
   },
   {
    "duration": 50,
    "start_time": "2022-04-14T15:51:56.156Z"
   },
   {
    "duration": 207,
    "start_time": "2022-04-14T15:51:56.208Z"
   },
   {
    "duration": 20,
    "start_time": "2022-04-14T15:51:56.418Z"
   },
   {
    "duration": 21,
    "start_time": "2022-04-14T15:51:56.439Z"
   },
   {
    "duration": 444,
    "start_time": "2022-04-14T15:51:56.462Z"
   },
   {
    "duration": 19,
    "start_time": "2022-04-14T15:51:56.908Z"
   },
   {
    "duration": 19,
    "start_time": "2022-04-14T15:51:56.929Z"
   },
   {
    "duration": 30,
    "start_time": "2022-04-14T15:51:56.950Z"
   },
   {
    "duration": 261,
    "start_time": "2022-04-14T15:51:56.982Z"
   },
   {
    "duration": 8,
    "start_time": "2022-04-14T15:51:57.245Z"
   },
   {
    "duration": 1041,
    "start_time": "2022-04-14T15:51:57.255Z"
   },
   {
    "duration": 19,
    "start_time": "2022-04-14T15:51:58.298Z"
   },
   {
    "duration": 868,
    "start_time": "2022-04-14T15:51:58.319Z"
   },
   {
    "duration": 0,
    "start_time": "2022-04-14T15:51:59.192Z"
   },
   {
    "duration": 0,
    "start_time": "2022-04-14T15:51:59.194Z"
   },
   {
    "duration": 0,
    "start_time": "2022-04-14T15:51:59.195Z"
   },
   {
    "duration": 0,
    "start_time": "2022-04-14T15:51:59.196Z"
   },
   {
    "duration": 0,
    "start_time": "2022-04-14T15:51:59.210Z"
   },
   {
    "duration": 0,
    "start_time": "2022-04-14T15:51:59.212Z"
   },
   {
    "duration": 0,
    "start_time": "2022-04-14T15:51:59.213Z"
   },
   {
    "duration": 0,
    "start_time": "2022-04-14T15:51:59.214Z"
   },
   {
    "duration": 0,
    "start_time": "2022-04-14T15:51:59.216Z"
   },
   {
    "duration": 0,
    "start_time": "2022-04-14T15:51:59.219Z"
   },
   {
    "duration": 0,
    "start_time": "2022-04-14T15:51:59.220Z"
   },
   {
    "duration": 0,
    "start_time": "2022-04-14T15:51:59.221Z"
   },
   {
    "duration": 0,
    "start_time": "2022-04-14T15:51:59.223Z"
   },
   {
    "duration": 0,
    "start_time": "2022-04-14T15:51:59.225Z"
   },
   {
    "duration": 0,
    "start_time": "2022-04-14T15:51:59.226Z"
   },
   {
    "duration": 0,
    "start_time": "2022-04-14T15:51:59.228Z"
   },
   {
    "duration": 0,
    "start_time": "2022-04-14T15:51:59.229Z"
   },
   {
    "duration": 0,
    "start_time": "2022-04-14T15:51:59.230Z"
   },
   {
    "duration": 0,
    "start_time": "2022-04-14T15:51:59.232Z"
   },
   {
    "duration": 0,
    "start_time": "2022-04-14T15:51:59.233Z"
   },
   {
    "duration": 0,
    "start_time": "2022-04-14T15:51:59.235Z"
   },
   {
    "duration": 0,
    "start_time": "2022-04-14T15:51:59.236Z"
   },
   {
    "duration": 0,
    "start_time": "2022-04-14T15:51:59.237Z"
   },
   {
    "duration": 0,
    "start_time": "2022-04-14T15:51:59.238Z"
   },
   {
    "duration": 0,
    "start_time": "2022-04-14T15:51:59.239Z"
   },
   {
    "duration": 0,
    "start_time": "2022-04-14T15:51:59.240Z"
   },
   {
    "duration": 0,
    "start_time": "2022-04-14T15:51:59.241Z"
   },
   {
    "duration": 0,
    "start_time": "2022-04-14T15:51:59.242Z"
   },
   {
    "duration": 0,
    "start_time": "2022-04-14T15:51:59.243Z"
   },
   {
    "duration": 0,
    "start_time": "2022-04-14T15:51:59.244Z"
   },
   {
    "duration": 0,
    "start_time": "2022-04-14T15:51:59.245Z"
   },
   {
    "duration": 0,
    "start_time": "2022-04-14T15:51:59.246Z"
   },
   {
    "duration": 0,
    "start_time": "2022-04-14T15:51:59.248Z"
   },
   {
    "duration": 0,
    "start_time": "2022-04-14T15:51:59.249Z"
   },
   {
    "duration": 0,
    "start_time": "2022-04-14T15:51:59.250Z"
   },
   {
    "duration": 0,
    "start_time": "2022-04-14T15:51:59.251Z"
   },
   {
    "duration": 0,
    "start_time": "2022-04-14T15:51:59.307Z"
   },
   {
    "duration": 0,
    "start_time": "2022-04-14T15:51:59.315Z"
   },
   {
    "duration": 0,
    "start_time": "2022-04-14T15:51:59.317Z"
   },
   {
    "duration": 0,
    "start_time": "2022-04-14T15:51:59.318Z"
   },
   {
    "duration": 0,
    "start_time": "2022-04-14T15:51:59.319Z"
   },
   {
    "duration": 0,
    "start_time": "2022-04-14T15:51:59.326Z"
   },
   {
    "duration": 0,
    "start_time": "2022-04-14T15:51:59.327Z"
   },
   {
    "duration": 0,
    "start_time": "2022-04-14T15:51:59.328Z"
   },
   {
    "duration": 0,
    "start_time": "2022-04-14T15:51:59.329Z"
   },
   {
    "duration": 0,
    "start_time": "2022-04-14T15:51:59.330Z"
   },
   {
    "duration": 0,
    "start_time": "2022-04-14T15:51:59.331Z"
   },
   {
    "duration": 0,
    "start_time": "2022-04-14T15:51:59.332Z"
   },
   {
    "duration": 0,
    "start_time": "2022-04-14T15:51:59.333Z"
   },
   {
    "duration": 0,
    "start_time": "2022-04-14T15:51:59.334Z"
   },
   {
    "duration": 0,
    "start_time": "2022-04-14T15:51:59.335Z"
   },
   {
    "duration": 0,
    "start_time": "2022-04-14T15:51:59.336Z"
   },
   {
    "duration": 0,
    "start_time": "2022-04-14T15:51:59.337Z"
   },
   {
    "duration": 0,
    "start_time": "2022-04-14T15:51:59.338Z"
   },
   {
    "duration": 0,
    "start_time": "2022-04-14T15:51:59.339Z"
   },
   {
    "duration": 0,
    "start_time": "2022-04-14T15:51:59.340Z"
   },
   {
    "duration": 0,
    "start_time": "2022-04-14T15:51:59.341Z"
   },
   {
    "duration": 0,
    "start_time": "2022-04-14T15:51:59.342Z"
   },
   {
    "duration": 0,
    "start_time": "2022-04-14T15:51:59.343Z"
   },
   {
    "duration": 0,
    "start_time": "2022-04-14T15:51:59.344Z"
   },
   {
    "duration": 0,
    "start_time": "2022-04-14T15:51:59.345Z"
   },
   {
    "duration": 0,
    "start_time": "2022-04-14T15:51:59.346Z"
   },
   {
    "duration": 0,
    "start_time": "2022-04-14T15:51:59.347Z"
   },
   {
    "duration": 0,
    "start_time": "2022-04-14T15:51:59.348Z"
   },
   {
    "duration": 0,
    "start_time": "2022-04-14T15:51:59.349Z"
   },
   {
    "duration": 0,
    "start_time": "2022-04-14T15:51:59.350Z"
   },
   {
    "duration": 0,
    "start_time": "2022-04-14T15:51:59.407Z"
   },
   {
    "duration": 0,
    "start_time": "2022-04-14T15:51:59.408Z"
   },
   {
    "duration": 0,
    "start_time": "2022-04-14T15:51:59.409Z"
   },
   {
    "duration": 0,
    "start_time": "2022-04-14T15:51:59.410Z"
   },
   {
    "duration": 0,
    "start_time": "2022-04-14T15:51:59.411Z"
   },
   {
    "duration": 0,
    "start_time": "2022-04-14T15:51:59.418Z"
   },
   {
    "duration": 0,
    "start_time": "2022-04-14T15:51:59.421Z"
   },
   {
    "duration": 0,
    "start_time": "2022-04-14T15:51:59.424Z"
   },
   {
    "duration": 0,
    "start_time": "2022-04-14T15:51:59.425Z"
   },
   {
    "duration": 0,
    "start_time": "2022-04-14T15:51:59.427Z"
   },
   {
    "duration": 0,
    "start_time": "2022-04-14T15:51:59.428Z"
   },
   {
    "duration": 0,
    "start_time": "2022-04-14T15:51:59.429Z"
   },
   {
    "duration": 0,
    "start_time": "2022-04-14T15:51:59.430Z"
   },
   {
    "duration": 0,
    "start_time": "2022-04-14T15:51:59.431Z"
   },
   {
    "duration": 0,
    "start_time": "2022-04-14T15:51:59.432Z"
   },
   {
    "duration": 0,
    "start_time": "2022-04-14T15:51:59.433Z"
   },
   {
    "duration": 0,
    "start_time": "2022-04-14T15:51:59.434Z"
   },
   {
    "duration": 0,
    "start_time": "2022-04-14T15:51:59.435Z"
   },
   {
    "duration": 0,
    "start_time": "2022-04-14T15:51:59.436Z"
   },
   {
    "duration": 0,
    "start_time": "2022-04-14T15:51:59.437Z"
   },
   {
    "duration": 0,
    "start_time": "2022-04-14T15:51:59.439Z"
   },
   {
    "duration": 0,
    "start_time": "2022-04-14T15:51:59.439Z"
   },
   {
    "duration": 0,
    "start_time": "2022-04-14T15:51:59.440Z"
   },
   {
    "duration": 0,
    "start_time": "2022-04-14T15:51:59.441Z"
   },
   {
    "duration": 0,
    "start_time": "2022-04-14T15:51:59.442Z"
   },
   {
    "duration": 0,
    "start_time": "2022-04-14T15:51:59.443Z"
   },
   {
    "duration": 0,
    "start_time": "2022-04-14T15:51:59.445Z"
   },
   {
    "duration": 0,
    "start_time": "2022-04-14T15:51:59.445Z"
   },
   {
    "duration": 0,
    "start_time": "2022-04-14T15:51:59.446Z"
   },
   {
    "duration": 0,
    "start_time": "2022-04-14T15:51:59.448Z"
   },
   {
    "duration": 0,
    "start_time": "2022-04-14T15:51:59.448Z"
   },
   {
    "duration": 0,
    "start_time": "2022-04-14T15:51:59.450Z"
   },
   {
    "duration": 0,
    "start_time": "2022-04-14T15:51:59.451Z"
   },
   {
    "duration": 0,
    "start_time": "2022-04-14T15:51:59.509Z"
   },
   {
    "duration": 0,
    "start_time": "2022-04-14T15:51:59.509Z"
   },
   {
    "duration": 0,
    "start_time": "2022-04-14T15:51:59.510Z"
   },
   {
    "duration": 0,
    "start_time": "2022-04-14T15:51:59.511Z"
   },
   {
    "duration": 0,
    "start_time": "2022-04-14T15:51:59.511Z"
   },
   {
    "duration": 0,
    "start_time": "2022-04-14T15:51:59.512Z"
   },
   {
    "duration": 0,
    "start_time": "2022-04-14T15:51:59.513Z"
   },
   {
    "duration": 0,
    "start_time": "2022-04-14T15:51:59.513Z"
   },
   {
    "duration": 0,
    "start_time": "2022-04-14T15:51:59.514Z"
   },
   {
    "duration": 0,
    "start_time": "2022-04-14T15:51:59.514Z"
   },
   {
    "duration": 0,
    "start_time": "2022-04-14T15:51:59.515Z"
   },
   {
    "duration": 0,
    "start_time": "2022-04-14T15:51:59.515Z"
   },
   {
    "duration": 0,
    "start_time": "2022-04-14T15:51:59.516Z"
   },
   {
    "duration": 0,
    "start_time": "2022-04-14T15:51:59.517Z"
   },
   {
    "duration": 0,
    "start_time": "2022-04-14T15:51:59.517Z"
   },
   {
    "duration": 0,
    "start_time": "2022-04-14T15:51:59.519Z"
   },
   {
    "duration": 0,
    "start_time": "2022-04-14T15:51:59.519Z"
   },
   {
    "duration": 0,
    "start_time": "2022-04-14T15:51:59.520Z"
   },
   {
    "duration": 0,
    "start_time": "2022-04-14T15:51:59.521Z"
   },
   {
    "duration": 0,
    "start_time": "2022-04-14T15:51:59.522Z"
   },
   {
    "duration": 0,
    "start_time": "2022-04-14T15:51:59.526Z"
   },
   {
    "duration": 0,
    "start_time": "2022-04-14T15:51:59.526Z"
   },
   {
    "duration": 0,
    "start_time": "2022-04-14T15:51:59.528Z"
   },
   {
    "duration": 0,
    "start_time": "2022-04-14T15:51:59.529Z"
   },
   {
    "duration": 0,
    "start_time": "2022-04-14T15:51:59.530Z"
   },
   {
    "duration": 0,
    "start_time": "2022-04-14T15:51:59.531Z"
   },
   {
    "duration": 0,
    "start_time": "2022-04-14T15:51:59.532Z"
   },
   {
    "duration": 0,
    "start_time": "2022-04-14T15:51:59.533Z"
   },
   {
    "duration": 0,
    "start_time": "2022-04-14T15:51:59.534Z"
   },
   {
    "duration": 0,
    "start_time": "2022-04-14T15:51:59.535Z"
   },
   {
    "duration": 0,
    "start_time": "2022-04-14T15:51:59.537Z"
   },
   {
    "duration": 0,
    "start_time": "2022-04-14T15:51:59.538Z"
   },
   {
    "duration": 0,
    "start_time": "2022-04-14T15:51:59.539Z"
   },
   {
    "duration": 0,
    "start_time": "2022-04-14T15:51:59.540Z"
   },
   {
    "duration": 0,
    "start_time": "2022-04-14T15:51:59.541Z"
   },
   {
    "duration": 0,
    "start_time": "2022-04-14T15:51:59.542Z"
   },
   {
    "duration": 0,
    "start_time": "2022-04-14T15:51:59.543Z"
   },
   {
    "duration": 0,
    "start_time": "2022-04-14T15:51:59.543Z"
   },
   {
    "duration": 0,
    "start_time": "2022-04-14T15:51:59.544Z"
   },
   {
    "duration": 0,
    "start_time": "2022-04-14T15:51:59.546Z"
   },
   {
    "duration": 0,
    "start_time": "2022-04-14T15:51:59.546Z"
   },
   {
    "duration": 0,
    "start_time": "2022-04-14T15:51:59.609Z"
   },
   {
    "duration": 0,
    "start_time": "2022-04-14T15:51:59.610Z"
   },
   {
    "duration": 0,
    "start_time": "2022-04-14T15:51:59.611Z"
   },
   {
    "duration": 0,
    "start_time": "2022-04-14T15:51:59.612Z"
   },
   {
    "duration": 0,
    "start_time": "2022-04-14T15:51:59.613Z"
   },
   {
    "duration": 0,
    "start_time": "2022-04-14T15:51:59.614Z"
   },
   {
    "duration": 0,
    "start_time": "2022-04-14T15:51:59.615Z"
   },
   {
    "duration": 0,
    "start_time": "2022-04-14T15:51:59.616Z"
   },
   {
    "duration": 0,
    "start_time": "2022-04-14T15:51:59.617Z"
   },
   {
    "duration": 0,
    "start_time": "2022-04-14T15:51:59.618Z"
   },
   {
    "duration": 0,
    "start_time": "2022-04-14T15:51:59.619Z"
   },
   {
    "duration": 0,
    "start_time": "2022-04-14T15:51:59.620Z"
   },
   {
    "duration": 0,
    "start_time": "2022-04-14T15:51:59.621Z"
   },
   {
    "duration": 0,
    "start_time": "2022-04-14T15:51:59.624Z"
   },
   {
    "duration": 0,
    "start_time": "2022-04-14T15:51:59.627Z"
   },
   {
    "duration": 0,
    "start_time": "2022-04-14T15:51:59.627Z"
   },
   {
    "duration": 0,
    "start_time": "2022-04-14T15:51:59.628Z"
   },
   {
    "duration": 0,
    "start_time": "2022-04-14T15:51:59.629Z"
   },
   {
    "duration": 0,
    "start_time": "2022-04-14T15:51:59.630Z"
   },
   {
    "duration": 0,
    "start_time": "2022-04-14T15:51:59.631Z"
   },
   {
    "duration": 0,
    "start_time": "2022-04-14T15:51:59.632Z"
   },
   {
    "duration": 0,
    "start_time": "2022-04-14T15:51:59.633Z"
   },
   {
    "duration": 0,
    "start_time": "2022-04-14T15:51:59.634Z"
   },
   {
    "duration": 1212,
    "start_time": "2022-04-14T18:21:52.514Z"
   },
   {
    "duration": 251,
    "start_time": "2022-04-14T18:21:53.728Z"
   },
   {
    "duration": 10,
    "start_time": "2022-04-14T18:21:53.981Z"
   },
   {
    "duration": 9,
    "start_time": "2022-04-14T18:21:53.994Z"
   },
   {
    "duration": 11,
    "start_time": "2022-04-14T18:21:54.004Z"
   },
   {
    "duration": 7,
    "start_time": "2022-04-14T18:21:54.016Z"
   },
   {
    "duration": 5,
    "start_time": "2022-04-14T18:21:54.024Z"
   },
   {
    "duration": 290,
    "start_time": "2022-04-14T18:21:54.030Z"
   },
   {
    "duration": 12,
    "start_time": "2022-04-14T18:21:54.321Z"
   },
   {
    "duration": 16,
    "start_time": "2022-04-14T18:21:54.336Z"
   },
   {
    "duration": 21,
    "start_time": "2022-04-14T18:21:54.354Z"
   },
   {
    "duration": 38,
    "start_time": "2022-04-14T18:21:54.376Z"
   },
   {
    "duration": 32,
    "start_time": "2022-04-14T18:21:54.415Z"
   },
   {
    "duration": 203,
    "start_time": "2022-04-14T18:21:54.448Z"
   },
   {
    "duration": 18,
    "start_time": "2022-04-14T18:21:54.653Z"
   },
   {
    "duration": 39,
    "start_time": "2022-04-14T18:21:54.673Z"
   },
   {
    "duration": 367,
    "start_time": "2022-04-14T18:21:54.714Z"
   },
   {
    "duration": 14,
    "start_time": "2022-04-14T18:21:55.083Z"
   },
   {
    "duration": 22,
    "start_time": "2022-04-14T18:21:55.099Z"
   },
   {
    "duration": 11,
    "start_time": "2022-04-14T18:21:55.122Z"
   },
   {
    "duration": 229,
    "start_time": "2022-04-14T18:21:55.135Z"
   },
   {
    "duration": 7,
    "start_time": "2022-04-14T18:21:55.366Z"
   },
   {
    "duration": 891,
    "start_time": "2022-04-14T18:21:55.375Z"
   },
   {
    "duration": 16,
    "start_time": "2022-04-14T18:21:56.267Z"
   },
   {
    "duration": 791,
    "start_time": "2022-04-14T18:21:56.284Z"
   },
   {
    "duration": 0,
    "start_time": "2022-04-14T18:21:57.081Z"
   },
   {
    "duration": 0,
    "start_time": "2022-04-14T18:21:57.082Z"
   },
   {
    "duration": 0,
    "start_time": "2022-04-14T18:21:57.083Z"
   },
   {
    "duration": 0,
    "start_time": "2022-04-14T18:21:57.084Z"
   },
   {
    "duration": 0,
    "start_time": "2022-04-14T18:21:57.085Z"
   },
   {
    "duration": 0,
    "start_time": "2022-04-14T18:21:57.086Z"
   },
   {
    "duration": 0,
    "start_time": "2022-04-14T18:21:57.088Z"
   },
   {
    "duration": 0,
    "start_time": "2022-04-14T18:21:57.089Z"
   },
   {
    "duration": 0,
    "start_time": "2022-04-14T18:21:57.107Z"
   },
   {
    "duration": 0,
    "start_time": "2022-04-14T18:21:57.108Z"
   },
   {
    "duration": 0,
    "start_time": "2022-04-14T18:21:57.109Z"
   },
   {
    "duration": 0,
    "start_time": "2022-04-14T18:21:57.110Z"
   },
   {
    "duration": 0,
    "start_time": "2022-04-14T18:21:57.111Z"
   },
   {
    "duration": 0,
    "start_time": "2022-04-14T18:21:57.113Z"
   },
   {
    "duration": 0,
    "start_time": "2022-04-14T18:21:57.114Z"
   },
   {
    "duration": 0,
    "start_time": "2022-04-14T18:21:57.115Z"
   },
   {
    "duration": 0,
    "start_time": "2022-04-14T18:21:57.116Z"
   },
   {
    "duration": 0,
    "start_time": "2022-04-14T18:21:57.117Z"
   },
   {
    "duration": 0,
    "start_time": "2022-04-14T18:21:57.118Z"
   },
   {
    "duration": 0,
    "start_time": "2022-04-14T18:21:57.119Z"
   },
   {
    "duration": 0,
    "start_time": "2022-04-14T18:21:57.120Z"
   },
   {
    "duration": 0,
    "start_time": "2022-04-14T18:21:57.121Z"
   },
   {
    "duration": 0,
    "start_time": "2022-04-14T18:21:57.122Z"
   },
   {
    "duration": 0,
    "start_time": "2022-04-14T18:21:57.123Z"
   },
   {
    "duration": 0,
    "start_time": "2022-04-14T18:21:57.124Z"
   },
   {
    "duration": 0,
    "start_time": "2022-04-14T18:21:57.125Z"
   },
   {
    "duration": 0,
    "start_time": "2022-04-14T18:21:57.126Z"
   },
   {
    "duration": 0,
    "start_time": "2022-04-14T18:21:57.127Z"
   },
   {
    "duration": 0,
    "start_time": "2022-04-14T18:21:57.128Z"
   },
   {
    "duration": 0,
    "start_time": "2022-04-14T18:21:57.129Z"
   },
   {
    "duration": 0,
    "start_time": "2022-04-14T18:21:57.131Z"
   },
   {
    "duration": 0,
    "start_time": "2022-04-14T18:21:57.131Z"
   },
   {
    "duration": 0,
    "start_time": "2022-04-14T18:21:57.132Z"
   },
   {
    "duration": 0,
    "start_time": "2022-04-14T18:21:57.133Z"
   },
   {
    "duration": 0,
    "start_time": "2022-04-14T18:21:57.134Z"
   },
   {
    "duration": 0,
    "start_time": "2022-04-14T18:21:57.135Z"
   },
   {
    "duration": 0,
    "start_time": "2022-04-14T18:21:57.136Z"
   },
   {
    "duration": 0,
    "start_time": "2022-04-14T18:21:57.137Z"
   },
   {
    "duration": 0,
    "start_time": "2022-04-14T18:21:57.138Z"
   },
   {
    "duration": 0,
    "start_time": "2022-04-14T18:21:57.139Z"
   },
   {
    "duration": 0,
    "start_time": "2022-04-14T18:21:57.140Z"
   },
   {
    "duration": 0,
    "start_time": "2022-04-14T18:21:57.141Z"
   },
   {
    "duration": 0,
    "start_time": "2022-04-14T18:21:57.142Z"
   },
   {
    "duration": 0,
    "start_time": "2022-04-14T18:21:57.143Z"
   },
   {
    "duration": 0,
    "start_time": "2022-04-14T18:21:57.144Z"
   },
   {
    "duration": 0,
    "start_time": "2022-04-14T18:21:57.145Z"
   },
   {
    "duration": 0,
    "start_time": "2022-04-14T18:21:57.146Z"
   },
   {
    "duration": 0,
    "start_time": "2022-04-14T18:21:57.146Z"
   },
   {
    "duration": 0,
    "start_time": "2022-04-14T18:21:57.147Z"
   },
   {
    "duration": 0,
    "start_time": "2022-04-14T18:21:57.147Z"
   },
   {
    "duration": 0,
    "start_time": "2022-04-14T18:21:57.148Z"
   },
   {
    "duration": 0,
    "start_time": "2022-04-14T18:21:57.148Z"
   },
   {
    "duration": 0,
    "start_time": "2022-04-14T18:21:57.149Z"
   },
   {
    "duration": 0,
    "start_time": "2022-04-14T18:21:57.149Z"
   },
   {
    "duration": 0,
    "start_time": "2022-04-14T18:21:57.207Z"
   },
   {
    "duration": 0,
    "start_time": "2022-04-14T18:21:57.208Z"
   },
   {
    "duration": 0,
    "start_time": "2022-04-14T18:21:57.209Z"
   },
   {
    "duration": 0,
    "start_time": "2022-04-14T18:21:57.210Z"
   },
   {
    "duration": 0,
    "start_time": "2022-04-14T18:21:57.211Z"
   },
   {
    "duration": 0,
    "start_time": "2022-04-14T18:21:57.212Z"
   },
   {
    "duration": 0,
    "start_time": "2022-04-14T18:21:57.213Z"
   },
   {
    "duration": 0,
    "start_time": "2022-04-14T18:21:57.214Z"
   },
   {
    "duration": 0,
    "start_time": "2022-04-14T18:21:57.215Z"
   },
   {
    "duration": 0,
    "start_time": "2022-04-14T18:21:57.216Z"
   },
   {
    "duration": 0,
    "start_time": "2022-04-14T18:21:57.217Z"
   },
   {
    "duration": 0,
    "start_time": "2022-04-14T18:21:57.218Z"
   },
   {
    "duration": 0,
    "start_time": "2022-04-14T18:21:57.219Z"
   },
   {
    "duration": 0,
    "start_time": "2022-04-14T18:21:57.220Z"
   },
   {
    "duration": 0,
    "start_time": "2022-04-14T18:21:57.221Z"
   },
   {
    "duration": 0,
    "start_time": "2022-04-14T18:21:57.222Z"
   },
   {
    "duration": 0,
    "start_time": "2022-04-14T18:21:57.223Z"
   },
   {
    "duration": 0,
    "start_time": "2022-04-14T18:21:57.224Z"
   },
   {
    "duration": 0,
    "start_time": "2022-04-14T18:21:57.225Z"
   },
   {
    "duration": 0,
    "start_time": "2022-04-14T18:21:57.226Z"
   },
   {
    "duration": 0,
    "start_time": "2022-04-14T18:21:57.227Z"
   },
   {
    "duration": 0,
    "start_time": "2022-04-14T18:21:57.228Z"
   },
   {
    "duration": 0,
    "start_time": "2022-04-14T18:21:57.228Z"
   },
   {
    "duration": 0,
    "start_time": "2022-04-14T18:21:57.230Z"
   },
   {
    "duration": 0,
    "start_time": "2022-04-14T18:21:57.230Z"
   },
   {
    "duration": 0,
    "start_time": "2022-04-14T18:21:57.231Z"
   },
   {
    "duration": 0,
    "start_time": "2022-04-14T18:21:57.232Z"
   },
   {
    "duration": 0,
    "start_time": "2022-04-14T18:21:57.233Z"
   },
   {
    "duration": 0,
    "start_time": "2022-04-14T18:21:57.234Z"
   },
   {
    "duration": 0,
    "start_time": "2022-04-14T18:21:57.235Z"
   },
   {
    "duration": 0,
    "start_time": "2022-04-14T18:21:57.236Z"
   },
   {
    "duration": 0,
    "start_time": "2022-04-14T18:21:57.237Z"
   },
   {
    "duration": 0,
    "start_time": "2022-04-14T18:21:57.238Z"
   },
   {
    "duration": 0,
    "start_time": "2022-04-14T18:21:57.239Z"
   },
   {
    "duration": 0,
    "start_time": "2022-04-14T18:21:57.240Z"
   },
   {
    "duration": 0,
    "start_time": "2022-04-14T18:21:57.241Z"
   },
   {
    "duration": 0,
    "start_time": "2022-04-14T18:21:57.242Z"
   },
   {
    "duration": 0,
    "start_time": "2022-04-14T18:21:57.243Z"
   },
   {
    "duration": 0,
    "start_time": "2022-04-14T18:21:57.308Z"
   },
   {
    "duration": 0,
    "start_time": "2022-04-14T18:21:57.309Z"
   },
   {
    "duration": 0,
    "start_time": "2022-04-14T18:21:57.310Z"
   },
   {
    "duration": 0,
    "start_time": "2022-04-14T18:21:57.311Z"
   },
   {
    "duration": 0,
    "start_time": "2022-04-14T18:21:57.312Z"
   },
   {
    "duration": 0,
    "start_time": "2022-04-14T18:21:57.313Z"
   },
   {
    "duration": 0,
    "start_time": "2022-04-14T18:21:57.314Z"
   },
   {
    "duration": 0,
    "start_time": "2022-04-14T18:21:57.315Z"
   },
   {
    "duration": 0,
    "start_time": "2022-04-14T18:21:57.316Z"
   },
   {
    "duration": 0,
    "start_time": "2022-04-14T18:21:57.317Z"
   },
   {
    "duration": 0,
    "start_time": "2022-04-14T18:21:57.318Z"
   },
   {
    "duration": 0,
    "start_time": "2022-04-14T18:21:57.319Z"
   },
   {
    "duration": 0,
    "start_time": "2022-04-14T18:21:57.320Z"
   },
   {
    "duration": 0,
    "start_time": "2022-04-14T18:21:57.321Z"
   },
   {
    "duration": 0,
    "start_time": "2022-04-14T18:21:57.322Z"
   },
   {
    "duration": 0,
    "start_time": "2022-04-14T18:21:57.323Z"
   },
   {
    "duration": 0,
    "start_time": "2022-04-14T18:21:57.324Z"
   },
   {
    "duration": 0,
    "start_time": "2022-04-14T18:21:57.325Z"
   },
   {
    "duration": 0,
    "start_time": "2022-04-14T18:21:57.326Z"
   },
   {
    "duration": 0,
    "start_time": "2022-04-14T18:21:57.327Z"
   },
   {
    "duration": 0,
    "start_time": "2022-04-14T18:21:57.328Z"
   },
   {
    "duration": 0,
    "start_time": "2022-04-14T18:21:57.329Z"
   },
   {
    "duration": 0,
    "start_time": "2022-04-14T18:21:57.330Z"
   },
   {
    "duration": 0,
    "start_time": "2022-04-14T18:21:57.332Z"
   },
   {
    "duration": 0,
    "start_time": "2022-04-14T18:21:57.332Z"
   },
   {
    "duration": 0,
    "start_time": "2022-04-14T18:21:57.333Z"
   },
   {
    "duration": 0,
    "start_time": "2022-04-14T18:21:57.335Z"
   },
   {
    "duration": 0,
    "start_time": "2022-04-14T18:21:57.335Z"
   },
   {
    "duration": 0,
    "start_time": "2022-04-14T18:21:57.336Z"
   },
   {
    "duration": 0,
    "start_time": "2022-04-14T18:21:57.337Z"
   },
   {
    "duration": 0,
    "start_time": "2022-04-14T18:21:57.338Z"
   },
   {
    "duration": 0,
    "start_time": "2022-04-14T18:21:57.339Z"
   },
   {
    "duration": 0,
    "start_time": "2022-04-14T18:21:57.340Z"
   },
   {
    "duration": 0,
    "start_time": "2022-04-14T18:21:57.341Z"
   },
   {
    "duration": 0,
    "start_time": "2022-04-14T18:21:57.342Z"
   },
   {
    "duration": 0,
    "start_time": "2022-04-14T18:21:57.408Z"
   },
   {
    "duration": 0,
    "start_time": "2022-04-14T18:21:57.409Z"
   },
   {
    "duration": 0,
    "start_time": "2022-04-14T18:21:57.410Z"
   },
   {
    "duration": 0,
    "start_time": "2022-04-14T18:21:57.411Z"
   },
   {
    "duration": 0,
    "start_time": "2022-04-14T18:21:57.412Z"
   },
   {
    "duration": 0,
    "start_time": "2022-04-14T18:21:57.413Z"
   },
   {
    "duration": 0,
    "start_time": "2022-04-14T18:21:57.414Z"
   },
   {
    "duration": 0,
    "start_time": "2022-04-14T18:21:57.415Z"
   },
   {
    "duration": 0,
    "start_time": "2022-04-14T18:21:57.416Z"
   },
   {
    "duration": 0,
    "start_time": "2022-04-14T18:21:57.417Z"
   },
   {
    "duration": 0,
    "start_time": "2022-04-14T18:21:57.418Z"
   },
   {
    "duration": 0,
    "start_time": "2022-04-14T18:21:57.419Z"
   },
   {
    "duration": 0,
    "start_time": "2022-04-14T18:21:57.420Z"
   },
   {
    "duration": 0,
    "start_time": "2022-04-14T18:21:57.421Z"
   },
   {
    "duration": 0,
    "start_time": "2022-04-14T18:21:57.422Z"
   },
   {
    "duration": 0,
    "start_time": "2022-04-14T18:21:57.423Z"
   },
   {
    "duration": 0,
    "start_time": "2022-04-14T18:21:57.424Z"
   },
   {
    "duration": 0,
    "start_time": "2022-04-14T18:21:57.425Z"
   },
   {
    "duration": 0,
    "start_time": "2022-04-14T18:21:57.426Z"
   },
   {
    "duration": 0,
    "start_time": "2022-04-14T18:21:57.427Z"
   },
   {
    "duration": 0,
    "start_time": "2022-04-14T18:21:57.428Z"
   },
   {
    "duration": 0,
    "start_time": "2022-04-14T18:21:57.429Z"
   },
   {
    "duration": 0,
    "start_time": "2022-04-14T18:21:57.430Z"
   },
   {
    "duration": 0,
    "start_time": "2022-04-14T18:21:57.431Z"
   },
   {
    "duration": 0,
    "start_time": "2022-04-14T18:21:57.432Z"
   },
   {
    "duration": 0,
    "start_time": "2022-04-14T18:21:57.433Z"
   },
   {
    "duration": 0,
    "start_time": "2022-04-14T18:21:57.434Z"
   },
   {
    "duration": 0,
    "start_time": "2022-04-14T18:21:57.435Z"
   },
   {
    "duration": 0,
    "start_time": "2022-04-14T18:21:57.436Z"
   },
   {
    "duration": 0,
    "start_time": "2022-04-14T18:21:57.437Z"
   },
   {
    "duration": 0,
    "start_time": "2022-04-14T18:21:57.438Z"
   },
   {
    "duration": 0,
    "start_time": "2022-04-14T18:21:57.439Z"
   },
   {
    "duration": 0,
    "start_time": "2022-04-14T18:21:57.441Z"
   },
   {
    "duration": 0,
    "start_time": "2022-04-14T18:21:57.442Z"
   },
   {
    "duration": 0,
    "start_time": "2022-04-14T18:21:57.443Z"
   },
   {
    "duration": 0,
    "start_time": "2022-04-14T18:21:57.444Z"
   },
   {
    "duration": 239,
    "start_time": "2022-04-14T18:22:27.880Z"
   },
   {
    "duration": 4,
    "start_time": "2022-04-14T18:22:29.158Z"
   },
   {
    "duration": 13,
    "start_time": "2022-04-14T18:22:29.423Z"
   },
   {
    "duration": 704,
    "start_time": "2022-04-14T18:22:29.576Z"
   },
   {
    "duration": 37,
    "start_time": "2022-04-14T18:22:30.862Z"
   },
   {
    "duration": 11,
    "start_time": "2022-04-14T18:22:31.404Z"
   },
   {
    "duration": 17,
    "start_time": "2022-04-14T18:22:31.556Z"
   },
   {
    "duration": 590,
    "start_time": "2022-04-14T18:22:31.917Z"
   },
   {
    "duration": 112,
    "start_time": "2022-04-14T18:22:32.645Z"
   },
   {
    "duration": 17,
    "start_time": "2022-04-14T18:22:32.990Z"
   },
   {
    "duration": 20,
    "start_time": "2022-04-14T18:22:33.589Z"
   },
   {
    "duration": 8,
    "start_time": "2022-04-14T18:22:33.948Z"
   },
   {
    "duration": 14,
    "start_time": "2022-04-14T18:22:34.269Z"
   },
   {
    "duration": 130,
    "start_time": "2022-04-14T18:22:34.604Z"
   },
   {
    "duration": 131,
    "start_time": "2022-04-14T18:22:34.832Z"
   },
   {
    "duration": 11,
    "start_time": "2022-04-14T18:22:35.039Z"
   },
   {
    "duration": 138,
    "start_time": "2022-04-14T18:22:35.265Z"
   },
   {
    "duration": 32,
    "start_time": "2022-04-14T18:22:35.482Z"
   },
   {
    "duration": 208,
    "start_time": "2022-04-14T18:22:35.593Z"
   },
   {
    "duration": 142,
    "start_time": "2022-04-14T18:22:35.938Z"
   },
   {
    "duration": 8,
    "start_time": "2022-04-14T18:22:36.568Z"
   },
   {
    "duration": 7,
    "start_time": "2022-04-14T18:22:36.703Z"
   },
   {
    "duration": 8,
    "start_time": "2022-04-14T18:22:36.840Z"
   },
   {
    "duration": 6,
    "start_time": "2022-04-14T18:22:36.960Z"
   },
   {
    "duration": 8,
    "start_time": "2022-04-14T18:22:37.055Z"
   },
   {
    "duration": 6,
    "start_time": "2022-04-14T18:22:37.388Z"
   },
   {
    "duration": 9,
    "start_time": "2022-04-14T18:22:37.607Z"
   },
   {
    "duration": 8,
    "start_time": "2022-04-14T18:22:38.479Z"
   },
   {
    "duration": 4,
    "start_time": "2022-04-14T18:22:38.695Z"
   },
   {
    "duration": 4,
    "start_time": "2022-04-14T18:22:38.804Z"
   },
   {
    "duration": 3,
    "start_time": "2022-04-14T18:22:39.036Z"
   },
   {
    "duration": 5,
    "start_time": "2022-04-14T18:22:39.122Z"
   },
   {
    "duration": 3,
    "start_time": "2022-04-14T18:22:40.109Z"
   },
   {
    "duration": 4,
    "start_time": "2022-04-14T18:22:40.444Z"
   },
   {
    "duration": 17,
    "start_time": "2022-04-14T18:22:40.701Z"
   },
   {
    "duration": 7,
    "start_time": "2022-04-14T18:22:41.164Z"
   },
   {
    "duration": 19,
    "start_time": "2022-04-14T18:22:41.334Z"
   },
   {
    "duration": 5,
    "start_time": "2022-04-14T18:22:41.597Z"
   },
   {
    "duration": 14,
    "start_time": "2022-04-14T18:22:41.781Z"
   },
   {
    "duration": 9,
    "start_time": "2022-04-14T18:22:42.157Z"
   },
   {
    "duration": 3,
    "start_time": "2022-04-14T18:22:42.299Z"
   },
   {
    "duration": 19,
    "start_time": "2022-04-14T18:22:42.563Z"
   },
   {
    "duration": 3,
    "start_time": "2022-04-14T18:22:42.709Z"
   },
   {
    "duration": 4,
    "start_time": "2022-04-14T18:22:42.855Z"
   },
   {
    "duration": 9,
    "start_time": "2022-04-14T18:22:43.165Z"
   },
   {
    "duration": 8,
    "start_time": "2022-04-14T18:22:43.524Z"
   },
   {
    "duration": 5,
    "start_time": "2022-04-14T18:22:43.734Z"
   },
   {
    "duration": 12,
    "start_time": "2022-04-14T18:22:43.918Z"
   },
   {
    "duration": 20,
    "start_time": "2022-04-14T18:22:44.101Z"
   },
   {
    "duration": 7,
    "start_time": "2022-04-14T18:22:44.715Z"
   },
   {
    "duration": 7,
    "start_time": "2022-04-14T18:22:45.188Z"
   },
   {
    "duration": 5,
    "start_time": "2022-04-14T18:22:45.317Z"
   },
   {
    "duration": 24,
    "start_time": "2022-04-14T18:22:45.476Z"
   },
   {
    "duration": 443,
    "start_time": "2022-04-14T18:22:47.181Z"
   },
   {
    "duration": 20,
    "start_time": "2022-04-14T18:22:47.627Z"
   },
   {
    "duration": 5,
    "start_time": "2022-04-14T18:22:47.907Z"
   },
   {
    "duration": 10,
    "start_time": "2022-04-14T18:22:48.149Z"
   },
   {
    "duration": 372,
    "start_time": "2022-04-14T18:22:48.235Z"
   },
   {
    "duration": 10,
    "start_time": "2022-04-14T18:22:48.752Z"
   },
   {
    "duration": 16,
    "start_time": "2022-04-14T18:22:49.212Z"
   },
   {
    "duration": 7,
    "start_time": "2022-04-14T18:22:49.307Z"
   },
   {
    "duration": 118,
    "start_time": "2022-04-14T18:22:49.454Z"
   },
   {
    "duration": 6,
    "start_time": "2022-04-14T18:22:49.652Z"
   },
   {
    "duration": 14,
    "start_time": "2022-04-14T18:22:49.956Z"
   },
   {
    "duration": 9,
    "start_time": "2022-04-14T18:22:50.189Z"
   },
   {
    "duration": 5,
    "start_time": "2022-04-14T18:22:50.285Z"
   },
   {
    "duration": 3,
    "start_time": "2022-04-14T18:22:50.430Z"
   },
   {
    "duration": 7,
    "start_time": "2022-04-14T18:22:50.534Z"
   },
   {
    "duration": 4,
    "start_time": "2022-04-14T18:22:50.772Z"
   },
   {
    "duration": 14,
    "start_time": "2022-04-14T18:22:50.996Z"
   },
   {
    "duration": 401,
    "start_time": "2022-04-14T18:22:51.112Z"
   },
   {
    "duration": 14,
    "start_time": "2022-04-14T18:22:51.515Z"
   },
   {
    "duration": 5,
    "start_time": "2022-04-14T18:22:51.531Z"
   },
   {
    "duration": 470,
    "start_time": "2022-04-14T18:22:51.540Z"
   },
   {
    "duration": 5,
    "start_time": "2022-04-14T18:22:52.340Z"
   },
   {
    "duration": 5,
    "start_time": "2022-04-14T18:22:52.444Z"
   },
   {
    "duration": 4,
    "start_time": "2022-04-14T18:22:52.637Z"
   },
   {
    "duration": 12,
    "start_time": "2022-04-14T18:22:52.936Z"
   },
   {
    "duration": 410,
    "start_time": "2022-04-14T18:22:53.152Z"
   },
   {
    "duration": 4,
    "start_time": "2022-04-14T18:22:54.140Z"
   },
   {
    "duration": 13,
    "start_time": "2022-04-14T18:22:55.093Z"
   },
   {
    "duration": 11,
    "start_time": "2022-04-14T18:22:55.267Z"
   },
   {
    "duration": 4,
    "start_time": "2022-04-14T18:22:55.731Z"
   },
   {
    "duration": 16,
    "start_time": "2022-04-14T18:22:55.846Z"
   },
   {
    "duration": 3,
    "start_time": "2022-04-14T18:22:56.101Z"
   },
   {
    "duration": 8,
    "start_time": "2022-04-14T18:22:56.239Z"
   },
   {
    "duration": 3,
    "start_time": "2022-04-14T18:22:56.364Z"
   },
   {
    "duration": 9,
    "start_time": "2022-04-14T18:22:56.586Z"
   },
   {
    "duration": 4,
    "start_time": "2022-04-14T18:22:56.731Z"
   },
   {
    "duration": 30,
    "start_time": "2022-04-14T18:22:56.860Z"
   },
   {
    "duration": 7,
    "start_time": "2022-04-14T18:22:57.123Z"
   },
   {
    "duration": 15,
    "start_time": "2022-04-14T18:22:57.444Z"
   },
   {
    "duration": 7,
    "start_time": "2022-04-14T18:22:57.620Z"
   },
   {
    "duration": 6,
    "start_time": "2022-04-14T18:22:57.756Z"
   },
   {
    "duration": 5,
    "start_time": "2022-04-14T18:22:58.170Z"
   },
   {
    "duration": 3,
    "start_time": "2022-04-14T18:22:58.317Z"
   },
   {
    "duration": 2,
    "start_time": "2022-04-14T18:22:58.469Z"
   },
   {
    "duration": 4,
    "start_time": "2022-04-14T18:22:58.614Z"
   },
   {
    "duration": 17,
    "start_time": "2022-04-14T18:22:59.389Z"
   },
   {
    "duration": 4,
    "start_time": "2022-04-14T18:22:59.541Z"
   },
   {
    "duration": 11,
    "start_time": "2022-04-14T18:22:59.852Z"
   },
   {
    "duration": 17,
    "start_time": "2022-04-14T18:23:00.115Z"
   },
   {
    "duration": 4,
    "start_time": "2022-04-14T18:23:00.244Z"
   },
   {
    "duration": 4,
    "start_time": "2022-04-14T18:23:00.405Z"
   },
   {
    "duration": 3,
    "start_time": "2022-04-14T18:23:00.596Z"
   },
   {
    "duration": 12,
    "start_time": "2022-04-14T18:23:00.764Z"
   },
   {
    "duration": 7,
    "start_time": "2022-04-14T18:23:00.931Z"
   },
   {
    "duration": 14,
    "start_time": "2022-04-14T18:23:01.219Z"
   },
   {
    "duration": 8,
    "start_time": "2022-04-14T18:23:01.352Z"
   },
   {
    "duration": 17,
    "start_time": "2022-04-14T18:23:01.489Z"
   },
   {
    "duration": 2,
    "start_time": "2022-04-14T18:23:01.804Z"
   },
   {
    "duration": 7,
    "start_time": "2022-04-14T18:23:01.972Z"
   },
   {
    "duration": 4,
    "start_time": "2022-04-14T18:23:02.148Z"
   },
   {
    "duration": 4,
    "start_time": "2022-04-14T18:23:02.483Z"
   },
   {
    "duration": 13,
    "start_time": "2022-04-14T18:23:02.635Z"
   },
   {
    "duration": 3,
    "start_time": "2022-04-14T18:23:02.784Z"
   },
   {
    "duration": 3,
    "start_time": "2022-04-14T18:23:02.940Z"
   },
   {
    "duration": 6,
    "start_time": "2022-04-14T18:23:03.411Z"
   },
   {
    "duration": 3,
    "start_time": "2022-04-14T18:23:03.714Z"
   },
   {
    "duration": 4,
    "start_time": "2022-04-14T18:23:03.868Z"
   },
   {
    "duration": 20,
    "start_time": "2022-04-14T18:23:04.683Z"
   },
   {
    "duration": 4,
    "start_time": "2022-04-14T18:23:04.819Z"
   },
   {
    "duration": 9,
    "start_time": "2022-04-14T18:23:05.227Z"
   },
   {
    "duration": 14,
    "start_time": "2022-04-14T18:23:05.381Z"
   },
   {
    "duration": 10,
    "start_time": "2022-04-14T18:23:05.715Z"
   },
   {
    "duration": 13,
    "start_time": "2022-04-14T18:23:05.867Z"
   },
   {
    "duration": 5,
    "start_time": "2022-04-14T18:23:06.203Z"
   },
   {
    "duration": 4,
    "start_time": "2022-04-14T18:23:06.372Z"
   },
   {
    "duration": 4,
    "start_time": "2022-04-14T18:23:06.692Z"
   },
   {
    "duration": 9,
    "start_time": "2022-04-14T18:23:06.852Z"
   },
   {
    "duration": 8,
    "start_time": "2022-04-14T18:23:07.028Z"
   },
   {
    "duration": 11,
    "start_time": "2022-04-14T18:23:07.379Z"
   },
   {
    "duration": 8,
    "start_time": "2022-04-14T18:23:07.564Z"
   },
   {
    "duration": 8,
    "start_time": "2022-04-14T18:23:07.731Z"
   },
   {
    "duration": 5,
    "start_time": "2022-04-14T18:23:08.076Z"
   },
   {
    "duration": 4,
    "start_time": "2022-04-14T18:23:08.379Z"
   },
   {
    "duration": 4,
    "start_time": "2022-04-14T18:23:08.787Z"
   },
   {
    "duration": 20,
    "start_time": "2022-04-14T18:23:09.355Z"
   },
   {
    "duration": 4,
    "start_time": "2022-04-14T18:23:09.539Z"
   },
   {
    "duration": 9,
    "start_time": "2022-04-14T18:23:09.878Z"
   },
   {
    "duration": 9,
    "start_time": "2022-04-14T18:23:10.243Z"
   },
   {
    "duration": 12,
    "start_time": "2022-04-14T18:23:10.468Z"
   },
   {
    "duration": 5,
    "start_time": "2022-04-14T18:23:10.803Z"
   },
   {
    "duration": 4,
    "start_time": "2022-04-14T18:23:10.988Z"
   },
   {
    "duration": 6,
    "start_time": "2022-04-14T18:23:11.306Z"
   },
   {
    "duration": 4,
    "start_time": "2022-04-14T18:23:11.548Z"
   },
   {
    "duration": 6,
    "start_time": "2022-04-14T18:23:11.941Z"
   },
   {
    "duration": 9,
    "start_time": "2022-04-14T18:23:12.092Z"
   },
   {
    "duration": 9,
    "start_time": "2022-04-14T18:23:12.275Z"
   },
   {
    "duration": 8,
    "start_time": "2022-04-14T18:23:12.643Z"
   },
   {
    "duration": 5,
    "start_time": "2022-04-14T18:23:13.002Z"
   },
   {
    "duration": 5,
    "start_time": "2022-04-14T18:23:13.354Z"
   },
   {
    "duration": 5,
    "start_time": "2022-04-14T18:23:13.582Z"
   },
   {
    "duration": 31,
    "start_time": "2022-04-14T18:23:13.931Z"
   },
   {
    "duration": 187,
    "start_time": "2022-04-14T18:23:14.102Z"
   },
   {
    "duration": 524,
    "start_time": "2022-04-14T18:23:14.292Z"
   },
   {
    "duration": 2,
    "start_time": "2022-04-14T18:23:15.755Z"
   },
   {
    "duration": 660,
    "start_time": "2022-04-14T18:23:15.939Z"
   },
   {
    "duration": 14,
    "start_time": "2022-04-14T18:23:16.602Z"
   },
   {
    "duration": 8,
    "start_time": "2022-04-14T18:23:16.618Z"
   },
   {
    "duration": 4,
    "start_time": "2022-04-14T18:23:16.955Z"
   },
   {
    "duration": 5,
    "start_time": "2022-04-14T18:23:17.633Z"
   },
   {
    "duration": 10,
    "start_time": "2022-04-14T18:23:18.011Z"
   },
   {
    "duration": 15,
    "start_time": "2022-04-14T18:26:01.090Z"
   },
   {
    "duration": 271,
    "start_time": "2022-04-14T18:26:53.136Z"
   },
   {
    "duration": 401,
    "start_time": "2022-04-14T18:27:49.253Z"
   },
   {
    "duration": 402,
    "start_time": "2022-04-14T18:28:03.484Z"
   },
   {
    "duration": 399,
    "start_time": "2022-04-14T18:29:28.311Z"
   }
  ],
  "colab": {
   "collapsed_sections": [],
   "name": "notebook (2).ipynb",
   "provenance": []
  },
  "kernelspec": {
   "display_name": "Python 3",
   "language": "python",
   "name": "python3"
  },
  "language_info": {
   "codemirror_mode": {
    "name": "ipython",
    "version": 3
   },
   "file_extension": ".py",
   "mimetype": "text/x-python",
   "name": "python",
   "nbconvert_exporter": "python",
   "pygments_lexer": "ipython3",
   "version": "3.8.8"
  },
  "toc": {
   "base_numbering": 1,
   "nav_menu": {},
   "number_sections": true,
   "sideBar": true,
   "skip_h1_title": true,
   "title_cell": "Table of Contents",
   "title_sidebar": "Contents",
   "toc_cell": false,
   "toc_position": {},
   "toc_section_display": true,
   "toc_window_display": false
  }
 },
 "nbformat": 4,
 "nbformat_minor": 1
}
