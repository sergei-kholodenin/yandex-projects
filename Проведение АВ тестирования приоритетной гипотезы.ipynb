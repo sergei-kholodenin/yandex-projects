{
 "cells": [
  {
   "cell_type": "markdown",
   "metadata": {},
   "source": [
    "<img src=https://kto-ozvuchival.ru/wp-content/uploads/2017/12/kto-ozvuchivaet-toni-starka-na-russkom-800x500.jpg><br>\n",
    "<hr style=\"border: 10px solid green;\" />\n",
    "\n",
    "## <span style=\"color:green\">Финальный комментарий<span>\n",
    "Спасибо за проделанную работу🤝\n",
    "\n",
    "Сергей, спасибо за доработки, всё принято👌 Желаю дальнейших успехов🖐\n",
    "\n",
    "Поздравляю, проект принят👍"
   ]
  },
  {
   "cell_type": "markdown",
   "metadata": {},
   "source": [
    "<hr style=\"border: 2px solid green;\" />\n",
    "\n",
    "## Комментарий ревьювера\n",
    "\n",
    "Сергей, привет! \n",
    "\n",
    "🤚Меня зовут, Олег Юрьев, я буду проверять твой проект. Если не против, я буду обращаться к тебе на _ТЫ_ . Если это неприемлемо, обязательно напиши мне в комментариях - мы перейдем на _ВЫ_ .\n",
    "\n",
    "🤝Спасибо, что сдал проект вовремя. Тобой проделана большая работа, молодец! \n",
    "\n",
    "✏️В этой тетрадке ты найдешь мои комментарии.\n",
    "\n",
    "Комментарии будут выделены:\n",
    "\n",
    "<div style=\"border-radius: 15px; box-shadow: 4px 4px 4px; border: solid green 2px; padding: 20px\"> <b>Отличная работа</b><br>\n",
    "    Безупречная работа</div>       \n",
    "<br>\n",
    "<div style=\"border-radius: 15px; box-shadow: 4px 4px 4px; border: solid orange 2px; padding: 20px\"> <b>Что можно улучшить</b><br>\n",
    "    Ничего дорабатывать не надо, данные пункты работают нормально, но есть способы улучшить. Несколько таких комментариев допустимы, но более - придется некоторые доработать. Большое кол-во мелких замечаний и помарок сказываются на общем впечатлении от работы.</div>   \n",
    "<br>\n",
    "<div style=\"border-radius: 15px; box-shadow: 4px 4px 4px; border: solid red 2px; padding: 20px\"> <b>Что необходимо доработать</b><br>\n",
    "    Такие пункты необходимо исправить в первую очередь, чтобы я смог принять проект.</div>\n",
    " \n",
    "Не удаляй комментарии, так будем следить за динамикой 📈\n",
    "   \n",
    "Давай будем в диалоге - основные цели в диалоге:\n",
    "- обмен опытом (да я тоже учусь у студентов👨‍🎓)\n",
    "- выполнить проект еще лучше\n",
    "- помочь тебе стать аналитиком\n",
    "\n",
    "Поэтому чтобы мне проще было проверять повторно, а тебе контролировать процесс ревью, оставляй свои комментарии и выделяй их. \n",
    "    \n",
    "<div class=\"alert alert-info\" style=\"border:solid blue 2px; padding: 20px\"> <b>Комментарий студента:</b> Например, вот так.</div>\n",
    "   \n",
    "Поехали! :)\n",
    "\n",
    "<hr style=\"border: 2px solid green;\" />"
   ]
  },
  {
   "cell_type": "markdown",
   "metadata": {},
   "source": [
    "<div class=\"alert alert-info\" style=\"border:solid blue 2px; padding: 20px\"> <b>Комментарий студента:</b> Привет, Олег! Спасибо за обратную связь, постарался учесть все комментарии при доработке=)</div>"
   ]
  },
  {
   "cell_type": "markdown",
   "metadata": {},
   "source": [
    "# Проведение A/B тестирования приоритетной гипотезы"
   ]
  },
  {
   "cell_type": "markdown",
   "metadata": {},
   "source": [
    "Я — аналитик крупного интернет-магазина. Вместе с отделом маркетинга мы подготовили список гипотез для увеличения выручки."
   ]
  },
  {
   "cell_type": "markdown",
   "metadata": {},
   "source": [
    "Цель проекта - приоритизировать гипотезы, запустить A/B-тест и проанализировать результаты. По итогу дать рекомендации."
   ]
  },
  {
   "cell_type": "markdown",
   "metadata": {},
   "source": [
    "## Часть 1. Приоритизация гипотез."
   ]
  },
  {
   "cell_type": "markdown",
   "metadata": {},
   "source": [
    "В файле /datasets/hypothesis.csv 9 гипотез по увеличению выручки интернет-магазина с указанными параметрами Reach, Impact, Confidence, Effort.\n",
    "\n",
    " - Hypothesis — краткое описание гипотезы;\n",
    " - Reach — охват пользователей по 10-балльной шкале;\n",
    " - Impact — влияние на пользователей по 10-балльной шкале;\n",
    " - Confidence — уверенность в гипотезе по 10-балльной шкале;\n",
    " - Efforts — затраты ресурсов на проверку гипотезы по 10-балльной шкале. Чем больше значение Efforts, тем дороже проверка гипотезы.\n",
    "\n",
    "**Проведем приоритизацию гипотез:**\n",
    "\n",
    " - Применим фреймворк ICE для приоритизации гипотез. Отсортируем их по убыванию приоритета.\n",
    " - Применим фреймворк RICE для приоритизации гипотез. Отсортируем их по убыванию приоритета.\n",
    " - Посмотрим, как изменилась приоритизация гипотез при применении RICE вместо ICE. Проанализируем, почему так произошло."
   ]
  },
  {
   "cell_type": "markdown",
   "metadata": {},
   "source": [
    "### Приоритизация гипотез (ICE)"
   ]
  },
  {
   "cell_type": "markdown",
   "metadata": {},
   "source": [
    "Прочитаем данные из файла."
   ]
  },
  {
   "cell_type": "code",
   "execution_count": 1,
   "metadata": {},
   "outputs": [],
   "source": [
    "import pandas as pd\n",
    "import datetime as dt\n",
    "import numpy as np\n",
    "import scipy.stats as stats\n",
    "import matplotlib.pyplot as plt\n",
    "import warnings\n",
    "warnings.filterwarnings(\"ignore\")"
   ]
  },
  {
   "cell_type": "code",
   "execution_count": 2,
   "metadata": {},
   "outputs": [
    {
     "data": {
      "text/html": [
       "<div>\n",
       "<style scoped>\n",
       "    .dataframe tbody tr th:only-of-type {\n",
       "        vertical-align: middle;\n",
       "    }\n",
       "\n",
       "    .dataframe tbody tr th {\n",
       "        vertical-align: top;\n",
       "    }\n",
       "\n",
       "    .dataframe thead th {\n",
       "        text-align: right;\n",
       "    }\n",
       "</style>\n",
       "<table border=\"1\" class=\"dataframe\">\n",
       "  <thead>\n",
       "    <tr style=\"text-align: right;\">\n",
       "      <th></th>\n",
       "      <th>index</th>\n",
       "      <th>Hypothesis</th>\n",
       "      <th>Reach</th>\n",
       "      <th>Impact</th>\n",
       "      <th>Confidence</th>\n",
       "      <th>Efforts</th>\n",
       "    </tr>\n",
       "  </thead>\n",
       "  <tbody>\n",
       "    <tr>\n",
       "      <td>0</td>\n",
       "      <td>1</td>\n",
       "      <td>Добавить два новых канала привлечения трафика, что позволит привлекать на 30% больше пользователей</td>\n",
       "      <td>3</td>\n",
       "      <td>10</td>\n",
       "      <td>8</td>\n",
       "      <td>6</td>\n",
       "    </tr>\n",
       "    <tr>\n",
       "      <td>1</td>\n",
       "      <td>2</td>\n",
       "      <td>Запустить собственную службу доставки, что сократит срок доставки заказов</td>\n",
       "      <td>2</td>\n",
       "      <td>5</td>\n",
       "      <td>4</td>\n",
       "      <td>10</td>\n",
       "    </tr>\n",
       "    <tr>\n",
       "      <td>2</td>\n",
       "      <td>3</td>\n",
       "      <td>Добавить блоки рекомендаций товаров на сайт интернет магазина, чтобы повысить конверсию и средний чек заказа</td>\n",
       "      <td>8</td>\n",
       "      <td>3</td>\n",
       "      <td>7</td>\n",
       "      <td>3</td>\n",
       "    </tr>\n",
       "    <tr>\n",
       "      <td>3</td>\n",
       "      <td>4</td>\n",
       "      <td>Изменить структура категорий, что увеличит конверсию, т.к. пользователи быстрее найдут нужный товар</td>\n",
       "      <td>8</td>\n",
       "      <td>3</td>\n",
       "      <td>3</td>\n",
       "      <td>8</td>\n",
       "    </tr>\n",
       "    <tr>\n",
       "      <td>4</td>\n",
       "      <td>5</td>\n",
       "      <td>Изменить цвет фона главной страницы, чтобы увеличить вовлеченность пользователей</td>\n",
       "      <td>3</td>\n",
       "      <td>1</td>\n",
       "      <td>1</td>\n",
       "      <td>1</td>\n",
       "    </tr>\n",
       "  </tbody>\n",
       "</table>\n",
       "</div>"
      ],
      "text/plain": [
       "   index  \\\n",
       "0      1   \n",
       "1      2   \n",
       "2      3   \n",
       "3      4   \n",
       "4      5   \n",
       "\n",
       "                                                                                                     Hypothesis  \\\n",
       "0            Добавить два новых канала привлечения трафика, что позволит привлекать на 30% больше пользователей   \n",
       "1                                     Запустить собственную службу доставки, что сократит срок доставки заказов   \n",
       "2  Добавить блоки рекомендаций товаров на сайт интернет магазина, чтобы повысить конверсию и средний чек заказа   \n",
       "3           Изменить структура категорий, что увеличит конверсию, т.к. пользователи быстрее найдут нужный товар   \n",
       "4                              Изменить цвет фона главной страницы, чтобы увеличить вовлеченность пользователей   \n",
       "\n",
       "   Reach  Impact  Confidence  Efforts  \n",
       "0      3      10           8        6  \n",
       "1      2       5           4       10  \n",
       "2      8       3           7        3  \n",
       "3      8       3           3        8  \n",
       "4      3       1           1        1  "
      ]
     },
     "execution_count": 2,
     "metadata": {},
     "output_type": "execute_result"
    }
   ],
   "source": [
    "hypothesis = pd.read_csv('/datasets/hypothesis.csv')\n",
    "hypothesis = hypothesis.reset_index()\n",
    "hypothesis['index'] +=1 \n",
    "pd.set_option('max_colwidth', 200)\n",
    "hypothesis.head()"
   ]
  },
  {
   "cell_type": "markdown",
   "metadata": {},
   "source": [
    "Посчитаем фреймворк ICE  и отсортируем по приоритетности. Формула для расчета: $$ICE = \\frac{Impact*Confidence}{Efforts}$$"
   ]
  },
  {
   "cell_type": "code",
   "execution_count": 3,
   "metadata": {},
   "outputs": [
    {
     "data": {
      "text/html": [
       "<div>\n",
       "<style scoped>\n",
       "    .dataframe tbody tr th:only-of-type {\n",
       "        vertical-align: middle;\n",
       "    }\n",
       "\n",
       "    .dataframe tbody tr th {\n",
       "        vertical-align: top;\n",
       "    }\n",
       "\n",
       "    .dataframe thead th {\n",
       "        text-align: right;\n",
       "    }\n",
       "</style>\n",
       "<table border=\"1\" class=\"dataframe\">\n",
       "  <thead>\n",
       "    <tr style=\"text-align: right;\">\n",
       "      <th></th>\n",
       "      <th>Hypothesis</th>\n",
       "      <th>ICE</th>\n",
       "    </tr>\n",
       "  </thead>\n",
       "  <tbody>\n",
       "    <tr>\n",
       "      <td>8</td>\n",
       "      <td>Запустить акцию, дающую скидку на товар в день рождения</td>\n",
       "      <td>16.200000</td>\n",
       "    </tr>\n",
       "    <tr>\n",
       "      <td>0</td>\n",
       "      <td>Добавить два новых канала привлечения трафика, что позволит привлекать на 30% больше пользователей</td>\n",
       "      <td>13.333333</td>\n",
       "    </tr>\n",
       "    <tr>\n",
       "      <td>7</td>\n",
       "      <td>Добавить форму подписки на все основные страницы, чтобы собрать базу клиентов для email-рассылок</td>\n",
       "      <td>11.200000</td>\n",
       "    </tr>\n",
       "    <tr>\n",
       "      <td>6</td>\n",
       "      <td>Показать на главной странице баннеры с актуальными акциями и распродажами, чтобы увеличить конверсию</td>\n",
       "      <td>8.000000</td>\n",
       "    </tr>\n",
       "    <tr>\n",
       "      <td>2</td>\n",
       "      <td>Добавить блоки рекомендаций товаров на сайт интернет магазина, чтобы повысить конверсию и средний чек заказа</td>\n",
       "      <td>7.000000</td>\n",
       "    </tr>\n",
       "    <tr>\n",
       "      <td>1</td>\n",
       "      <td>Запустить собственную службу доставки, что сократит срок доставки заказов</td>\n",
       "      <td>2.000000</td>\n",
       "    </tr>\n",
       "    <tr>\n",
       "      <td>5</td>\n",
       "      <td>Добавить страницу отзывов клиентов о магазине, что позволит увеличить количество заказов</td>\n",
       "      <td>1.333333</td>\n",
       "    </tr>\n",
       "    <tr>\n",
       "      <td>3</td>\n",
       "      <td>Изменить структура категорий, что увеличит конверсию, т.к. пользователи быстрее найдут нужный товар</td>\n",
       "      <td>1.125000</td>\n",
       "    </tr>\n",
       "    <tr>\n",
       "      <td>4</td>\n",
       "      <td>Изменить цвет фона главной страницы, чтобы увеличить вовлеченность пользователей</td>\n",
       "      <td>1.000000</td>\n",
       "    </tr>\n",
       "  </tbody>\n",
       "</table>\n",
       "</div>"
      ],
      "text/plain": [
       "                                                                                                     Hypothesis  \\\n",
       "8                                                       Запустить акцию, дающую скидку на товар в день рождения   \n",
       "0            Добавить два новых канала привлечения трафика, что позволит привлекать на 30% больше пользователей   \n",
       "7              Добавить форму подписки на все основные страницы, чтобы собрать базу клиентов для email-рассылок   \n",
       "6          Показать на главной странице баннеры с актуальными акциями и распродажами, чтобы увеличить конверсию   \n",
       "2  Добавить блоки рекомендаций товаров на сайт интернет магазина, чтобы повысить конверсию и средний чек заказа   \n",
       "1                                     Запустить собственную службу доставки, что сократит срок доставки заказов   \n",
       "5                      Добавить страницу отзывов клиентов о магазине, что позволит увеличить количество заказов   \n",
       "3           Изменить структура категорий, что увеличит конверсию, т.к. пользователи быстрее найдут нужный товар   \n",
       "4                              Изменить цвет фона главной страницы, чтобы увеличить вовлеченность пользователей   \n",
       "\n",
       "         ICE  \n",
       "8  16.200000  \n",
       "0  13.333333  \n",
       "7  11.200000  \n",
       "6   8.000000  \n",
       "2   7.000000  \n",
       "1   2.000000  \n",
       "5   1.333333  \n",
       "3   1.125000  \n",
       "4   1.000000  "
      ]
     },
     "execution_count": 3,
     "metadata": {},
     "output_type": "execute_result"
    }
   ],
   "source": [
    "hypothesis['ICE'] = hypothesis['Impact']*hypothesis['Confidence']/hypothesis['Efforts']\n",
    "hypothesis[['Hypothesis','ICE']].sort_values(by='ICE', ascending=False)"
   ]
  },
  {
   "cell_type": "markdown",
   "metadata": {},
   "source": [
    "Наиболее приоритетные гипотезы по расчету ICE - это 9, 1 и 8. При этом расчете не учитывается охват. Посчитаем RICE и сравним."
   ]
  },
  {
   "cell_type": "markdown",
   "metadata": {},
   "source": [
    "### Приоритезация гипотез (RICE)"
   ]
  },
  {
   "cell_type": "markdown",
   "metadata": {},
   "source": [
    "Добавим в таблицу столбец RICE и отфильтруем по приоритетности. Формула для расчета: $$RICE = \\frac{Reach*Impact*Confidence}{Efforts}$$"
   ]
  },
  {
   "cell_type": "code",
   "execution_count": 4,
   "metadata": {},
   "outputs": [
    {
     "data": {
      "text/html": [
       "<div>\n",
       "<style scoped>\n",
       "    .dataframe tbody tr th:only-of-type {\n",
       "        vertical-align: middle;\n",
       "    }\n",
       "\n",
       "    .dataframe tbody tr th {\n",
       "        vertical-align: top;\n",
       "    }\n",
       "\n",
       "    .dataframe thead th {\n",
       "        text-align: right;\n",
       "    }\n",
       "</style>\n",
       "<table border=\"1\" class=\"dataframe\">\n",
       "  <thead>\n",
       "    <tr style=\"text-align: right;\">\n",
       "      <th></th>\n",
       "      <th>Hypothesis</th>\n",
       "      <th>RICE</th>\n",
       "    </tr>\n",
       "  </thead>\n",
       "  <tbody>\n",
       "    <tr>\n",
       "      <td>7</td>\n",
       "      <td>Добавить форму подписки на все основные страницы, чтобы собрать базу клиентов для email-рассылок</td>\n",
       "      <td>112.0</td>\n",
       "    </tr>\n",
       "    <tr>\n",
       "      <td>2</td>\n",
       "      <td>Добавить блоки рекомендаций товаров на сайт интернет магазина, чтобы повысить конверсию и средний чек заказа</td>\n",
       "      <td>56.0</td>\n",
       "    </tr>\n",
       "    <tr>\n",
       "      <td>0</td>\n",
       "      <td>Добавить два новых канала привлечения трафика, что позволит привлекать на 30% больше пользователей</td>\n",
       "      <td>40.0</td>\n",
       "    </tr>\n",
       "    <tr>\n",
       "      <td>6</td>\n",
       "      <td>Показать на главной странице баннеры с актуальными акциями и распродажами, чтобы увеличить конверсию</td>\n",
       "      <td>40.0</td>\n",
       "    </tr>\n",
       "    <tr>\n",
       "      <td>8</td>\n",
       "      <td>Запустить акцию, дающую скидку на товар в день рождения</td>\n",
       "      <td>16.2</td>\n",
       "    </tr>\n",
       "    <tr>\n",
       "      <td>3</td>\n",
       "      <td>Изменить структура категорий, что увеличит конверсию, т.к. пользователи быстрее найдут нужный товар</td>\n",
       "      <td>9.0</td>\n",
       "    </tr>\n",
       "    <tr>\n",
       "      <td>1</td>\n",
       "      <td>Запустить собственную службу доставки, что сократит срок доставки заказов</td>\n",
       "      <td>4.0</td>\n",
       "    </tr>\n",
       "    <tr>\n",
       "      <td>5</td>\n",
       "      <td>Добавить страницу отзывов клиентов о магазине, что позволит увеличить количество заказов</td>\n",
       "      <td>4.0</td>\n",
       "    </tr>\n",
       "    <tr>\n",
       "      <td>4</td>\n",
       "      <td>Изменить цвет фона главной страницы, чтобы увеличить вовлеченность пользователей</td>\n",
       "      <td>3.0</td>\n",
       "    </tr>\n",
       "  </tbody>\n",
       "</table>\n",
       "</div>"
      ],
      "text/plain": [
       "                                                                                                     Hypothesis  \\\n",
       "7              Добавить форму подписки на все основные страницы, чтобы собрать базу клиентов для email-рассылок   \n",
       "2  Добавить блоки рекомендаций товаров на сайт интернет магазина, чтобы повысить конверсию и средний чек заказа   \n",
       "0            Добавить два новых канала привлечения трафика, что позволит привлекать на 30% больше пользователей   \n",
       "6          Показать на главной странице баннеры с актуальными акциями и распродажами, чтобы увеличить конверсию   \n",
       "8                                                       Запустить акцию, дающую скидку на товар в день рождения   \n",
       "3           Изменить структура категорий, что увеличит конверсию, т.к. пользователи быстрее найдут нужный товар   \n",
       "1                                     Запустить собственную службу доставки, что сократит срок доставки заказов   \n",
       "5                      Добавить страницу отзывов клиентов о магазине, что позволит увеличить количество заказов   \n",
       "4                              Изменить цвет фона главной страницы, чтобы увеличить вовлеченность пользователей   \n",
       "\n",
       "    RICE  \n",
       "7  112.0  \n",
       "2   56.0  \n",
       "0   40.0  \n",
       "6   40.0  \n",
       "8   16.2  \n",
       "3    9.0  \n",
       "1    4.0  \n",
       "5    4.0  \n",
       "4    3.0  "
      ]
     },
     "execution_count": 4,
     "metadata": {},
     "output_type": "execute_result"
    }
   ],
   "source": [
    "hypothesis['RICE'] = hypothesis['Reach']*hypothesis['Impact']*hypothesis['Confidence']/hypothesis['Efforts']\n",
    "hypothesis[['Hypothesis','RICE']].sort_values(by='RICE', ascending=False)"
   ]
  },
  {
   "cell_type": "markdown",
   "metadata": {},
   "source": [
    "При добавлении охвата в расчет наиболее приоритетной становится гипотеза 8, это говорит о том, что данная гипотеза затронет максимальное количество пользователей, максимально повлияет на пользователей, при этом есть высокая уверенность в гипотезе и умеренные затраты на ее осуществление. А вот 9 гипотеза сместилась с первой строчки на пятую, что говорит о маленьком охвате от общей массы пользователей, а точнее 1 (минимальный охват), поэтому цифра та же, что и в расчете ICE. Следует отдать предпочтение для проверки гипотезы 8, т.к. она по приоритетности наиболее перспективна."
   ]
  },
  {
   "cell_type": "markdown",
   "metadata": {},
   "source": [
    "<div style=\"border-radius: 15px; box-shadow: 4px 4px 4px; border: solid green 2px; padding: 20px\"> <b>Отличная работа</b><br>\n",
    "Супер, приоритезация выполнена успешно, ты увидел, что параметр <code>REACH</code> может сильно влиять на итоговую позицию</div> <br>\n",
    "<div style=\"border-radius: 15px; box-shadow: 4px 4px 4px; border: solid orange 2px; padding: 20px\"> <b>Что можно улучшить</b><br>\n",
    "<ul>\n",
    "    <li> гипотезы имеют длинные названия, чтобы они полностью отображались  можно использовать <a href=\"https://pandas.pydata.org/pandas-docs/stable/user_guide/options.html\">опции pandas</a>\n",
    "   <li>в качестве визуализации изменения приоритетов можно использовать <a href=\"https://datayoga.ru/tpost/zh3s62fori-sloupgraf\">slope graph</a>, <a href=\"https://chart-studio.plotly.com/~pcchang/224/slopegraph-spending-and-academic-performance-by-states-doc/#/\">реализация на plotly</a>\n",
    "    <li> В отчёте есть формулы для расчёта приоритезации, почему бы их не оформить, для этого есть микропакет для вёрстки `LaTex` - <a href=\"https://www.youtube.com/watch?v=vSc25kdgecg\">Использование LaTex в Jupyter Notebook</a>\n",
    "<br><a href=\"https://www.overleaf.com/static/latex/learn/free-online-introduction-to-latex-part-1.pdf\">LaTex for beginners</a>. Вот так будут выглядеть формулы:👇\n",
    "</ul></div> <br>\n",
    "\n",
    "$$ICE = \\frac{Impact * Confidence}{Efforts}$$\n",
    "\n",
    "$$RICE = \\frac{Rearch * Impact * Confidence}{Efforts}$$\n",
    "<hr style=\"border: 2px solid orange;\" />"
   ]
  },
  {
   "cell_type": "markdown",
   "metadata": {},
   "source": [
    "<div class=\"alert alert-info\" style=\"border:solid blue 2px; padding: 20px\"> <b>Комментарий студента:</b> Рекомендации по визуализации очень помогли, со slope graph не до конца разобрался, поискал по открытым источникам, там все как то усложнено, а по твоей ссылке почему-то код не доступен. Отложу на следующие проекты данный вид визуализации, в целом принцип мне понятен.</div>"
   ]
  },
  {
   "cell_type": "markdown",
   "metadata": {},
   "source": [
    "<div style=\"border-radius: 15px; box-shadow: 4px 4px 4px; border: solid green 2px; padding: 20px\"> <b>Отличная работа 2</b><br>👍</div> "
   ]
  },
  {
   "cell_type": "markdown",
   "metadata": {},
   "source": [
    "## Часть 2. Анализ A/B-теста"
   ]
  },
  {
   "cell_type": "markdown",
   "metadata": {},
   "source": [
    "Мы провели A/B-тест и получили результаты, которые описаны в файлах /datasets/orders.csv и /datasets/visitors.csv.\n",
    "\n",
    "Файл /datasets/orders.csv:\n",
    "\n",
    " - transactionId — идентификатор заказа;\n",
    " - visitorId — идентификатор пользователя, совершившего заказ;\n",
    " - date — дата, когда был совершён заказ;\n",
    " - revenue — выручка заказа;\n",
    " - group — группа A/B-теста, в которую попал заказ.   \n",
    " \n",
    " \n",
    "Файл /datasets/visitors.csv:\n",
    "\n",
    " - date — дата;\n",
    " - group — группа A/B-теста;\n",
    " - visitors — количество пользователей в указанную дату в указанной группе A/B-теста\n",
    " \n",
    "Проведем анализ полученных данных A/B-теста и сделаем выводы."
   ]
  },
  {
   "cell_type": "markdown",
   "metadata": {},
   "source": [
    "### Анализ кумулятивной выручки обеих групп"
   ]
  },
  {
   "cell_type": "markdown",
   "metadata": {},
   "source": [
    "Прочитаем данные из файлов. При прочтении сразу же переведем столбец с датами приведем к формату дат."
   ]
  },
  {
   "cell_type": "code",
   "execution_count": 5,
   "metadata": {},
   "outputs": [
    {
     "data": {
      "text/html": [
       "<div>\n",
       "<style scoped>\n",
       "    .dataframe tbody tr th:only-of-type {\n",
       "        vertical-align: middle;\n",
       "    }\n",
       "\n",
       "    .dataframe tbody tr th {\n",
       "        vertical-align: top;\n",
       "    }\n",
       "\n",
       "    .dataframe thead th {\n",
       "        text-align: right;\n",
       "    }\n",
       "</style>\n",
       "<table border=\"1\" class=\"dataframe\">\n",
       "  <thead>\n",
       "    <tr style=\"text-align: right;\">\n",
       "      <th></th>\n",
       "      <th>transactionId</th>\n",
       "      <th>visitorId</th>\n",
       "      <th>date</th>\n",
       "      <th>revenue</th>\n",
       "      <th>group</th>\n",
       "    </tr>\n",
       "  </thead>\n",
       "  <tbody>\n",
       "    <tr>\n",
       "      <td>0</td>\n",
       "      <td>3667963787</td>\n",
       "      <td>3312258926</td>\n",
       "      <td>2019-08-15</td>\n",
       "      <td>1650</td>\n",
       "      <td>B</td>\n",
       "    </tr>\n",
       "    <tr>\n",
       "      <td>1</td>\n",
       "      <td>2804400009</td>\n",
       "      <td>3642806036</td>\n",
       "      <td>2019-08-15</td>\n",
       "      <td>730</td>\n",
       "      <td>B</td>\n",
       "    </tr>\n",
       "    <tr>\n",
       "      <td>2</td>\n",
       "      <td>2961555356</td>\n",
       "      <td>4069496402</td>\n",
       "      <td>2019-08-15</td>\n",
       "      <td>400</td>\n",
       "      <td>A</td>\n",
       "    </tr>\n",
       "    <tr>\n",
       "      <td>3</td>\n",
       "      <td>3797467345</td>\n",
       "      <td>1196621759</td>\n",
       "      <td>2019-08-15</td>\n",
       "      <td>9759</td>\n",
       "      <td>B</td>\n",
       "    </tr>\n",
       "    <tr>\n",
       "      <td>4</td>\n",
       "      <td>2282983706</td>\n",
       "      <td>2322279887</td>\n",
       "      <td>2019-08-15</td>\n",
       "      <td>2308</td>\n",
       "      <td>B</td>\n",
       "    </tr>\n",
       "  </tbody>\n",
       "</table>\n",
       "</div>"
      ],
      "text/plain": [
       "   transactionId   visitorId       date  revenue group\n",
       "0     3667963787  3312258926 2019-08-15     1650     B\n",
       "1     2804400009  3642806036 2019-08-15      730     B\n",
       "2     2961555356  4069496402 2019-08-15      400     A\n",
       "3     3797467345  1196621759 2019-08-15     9759     B\n",
       "4     2282983706  2322279887 2019-08-15     2308     B"
      ]
     },
     "execution_count": 5,
     "metadata": {},
     "output_type": "execute_result"
    }
   ],
   "source": [
    "orders = pd.read_csv('/datasets/orders.csv', parse_dates=['date'])\n",
    "orders.head()"
   ]
  },
  {
   "cell_type": "code",
   "execution_count": 6,
   "metadata": {},
   "outputs": [
    {
     "name": "stdout",
     "output_type": "stream",
     "text": [
      "<class 'pandas.core.frame.DataFrame'>\n",
      "RangeIndex: 1197 entries, 0 to 1196\n",
      "Data columns (total 5 columns):\n",
      "transactionId    1197 non-null int64\n",
      "visitorId        1197 non-null int64\n",
      "date             1197 non-null datetime64[ns]\n",
      "revenue          1197 non-null int64\n",
      "group            1197 non-null object\n",
      "dtypes: datetime64[ns](1), int64(3), object(1)\n",
      "memory usage: 46.9+ KB\n"
     ]
    }
   ],
   "source": [
    "orders.info()"
   ]
  },
  {
   "cell_type": "markdown",
   "metadata": {},
   "source": [
    "Типы данных приведены к нужным типам, тип object в столбце группы теста можно заменить на category, но в принципе это никак не повлияет на расчеты, поэтому е вижу смысла заменять тип данных."
   ]
  },
  {
   "cell_type": "code",
   "execution_count": 7,
   "metadata": {},
   "outputs": [
    {
     "data": {
      "text/plain": [
       "0"
      ]
     },
     "execution_count": 7,
     "metadata": {},
     "output_type": "execute_result"
    }
   ],
   "source": [
    "orders.duplicated().sum()"
   ]
  },
  {
   "cell_type": "markdown",
   "metadata": {},
   "source": [
    "Дубликатов в данных нет. Проверим корректность распределения пользователей между группами. Если пользователь попал в обе группы, то такие данные следует убрать из данных, т.к. они некорректны."
   ]
  },
  {
   "cell_type": "code",
   "execution_count": 8,
   "metadata": {},
   "outputs": [
    {
     "name": "stdout",
     "output_type": "stream",
     "text": [
      "<class 'pandas.core.frame.DataFrame'>\n",
      "Int64Index: 1016 entries, 0 to 1196\n",
      "Data columns (total 5 columns):\n",
      "transactionId    1016 non-null int64\n",
      "visitorId        1016 non-null int64\n",
      "date             1016 non-null datetime64[ns]\n",
      "revenue          1016 non-null int64\n",
      "group            1016 non-null object\n",
      "dtypes: datetime64[ns](1), int64(3), object(1)\n",
      "memory usage: 47.6+ KB\n"
     ]
    }
   ],
   "source": [
    "usersA = orders[orders['group'] == 'A']['visitorId'].unique()\n",
    "usersB = orders[orders['group'] == 'B']['visitorId'].unique()\n",
    "error_users = [x for x in usersA if x in usersB]\n",
    "orders = orders[np.logical_not(orders['visitorId'].isin(error_users))]\n",
    "orders.info()"
   ]
  },
  {
   "cell_type": "markdown",
   "metadata": {},
   "source": [
    "Данные очищены, можно перейти к дальнейшим расчетам."
   ]
  },
  {
   "cell_type": "code",
   "execution_count": 9,
   "metadata": {},
   "outputs": [
    {
     "data": {
      "text/html": [
       "<div>\n",
       "<style scoped>\n",
       "    .dataframe tbody tr th:only-of-type {\n",
       "        vertical-align: middle;\n",
       "    }\n",
       "\n",
       "    .dataframe tbody tr th {\n",
       "        vertical-align: top;\n",
       "    }\n",
       "\n",
       "    .dataframe thead th {\n",
       "        text-align: right;\n",
       "    }\n",
       "</style>\n",
       "<table border=\"1\" class=\"dataframe\">\n",
       "  <thead>\n",
       "    <tr style=\"text-align: right;\">\n",
       "      <th></th>\n",
       "      <th>date</th>\n",
       "      <th>group</th>\n",
       "      <th>visitors</th>\n",
       "    </tr>\n",
       "  </thead>\n",
       "  <tbody>\n",
       "    <tr>\n",
       "      <td>0</td>\n",
       "      <td>2019-08-01</td>\n",
       "      <td>A</td>\n",
       "      <td>719</td>\n",
       "    </tr>\n",
       "    <tr>\n",
       "      <td>1</td>\n",
       "      <td>2019-08-02</td>\n",
       "      <td>A</td>\n",
       "      <td>619</td>\n",
       "    </tr>\n",
       "    <tr>\n",
       "      <td>2</td>\n",
       "      <td>2019-08-03</td>\n",
       "      <td>A</td>\n",
       "      <td>507</td>\n",
       "    </tr>\n",
       "    <tr>\n",
       "      <td>3</td>\n",
       "      <td>2019-08-04</td>\n",
       "      <td>A</td>\n",
       "      <td>717</td>\n",
       "    </tr>\n",
       "    <tr>\n",
       "      <td>4</td>\n",
       "      <td>2019-08-05</td>\n",
       "      <td>A</td>\n",
       "      <td>756</td>\n",
       "    </tr>\n",
       "  </tbody>\n",
       "</table>\n",
       "</div>"
      ],
      "text/plain": [
       "        date group  visitors\n",
       "0 2019-08-01     A       719\n",
       "1 2019-08-02     A       619\n",
       "2 2019-08-03     A       507\n",
       "3 2019-08-04     A       717\n",
       "4 2019-08-05     A       756"
      ]
     },
     "execution_count": 9,
     "metadata": {},
     "output_type": "execute_result"
    }
   ],
   "source": [
    "visitors = pd.read_csv('/datasets/visitors.csv', parse_dates=['date'])\n",
    "visitors.head()"
   ]
  },
  {
   "cell_type": "code",
   "execution_count": 10,
   "metadata": {},
   "outputs": [
    {
     "name": "stdout",
     "output_type": "stream",
     "text": [
      "<class 'pandas.core.frame.DataFrame'>\n",
      "RangeIndex: 62 entries, 0 to 61\n",
      "Data columns (total 3 columns):\n",
      "date        62 non-null datetime64[ns]\n",
      "group       62 non-null object\n",
      "visitors    62 non-null int64\n",
      "dtypes: datetime64[ns](1), int64(1), object(1)\n",
      "memory usage: 1.6+ KB\n"
     ]
    }
   ],
   "source": [
    "visitors.info()"
   ]
  },
  {
   "cell_type": "markdown",
   "metadata": {},
   "source": [
    "Данные прочитаны, создадим таблицу с датами и группами для подсчета кумулятивных данных."
   ]
  },
  {
   "cell_type": "markdown",
   "metadata": {},
   "source": [
    "<div style=\"border-radius: 15px; box-shadow: 4px 4px 4px; border: solid red 2px; padding: 20px\"> <b>Что необходимо доработать</b><br>\n",
    "А как же хотя бы минимальный джентельменский набор: <code>head+info+duplicates</code>, а также в рамках данного проекта проверить корректность распределения пользователей на группы - возможно есть те кто попал в обе группы?!</div><br>"
   ]
  },
  {
   "cell_type": "markdown",
   "metadata": {},
   "source": [
    "<div class=\"alert alert-info\" style=\"border:solid blue 2px; padding: 20px\"> <b>Комментарий студента:</b> Проверил данные и очистил от некорректных транзакций. В выводах поправил полученные цифры.</div>"
   ]
  },
  {
   "cell_type": "markdown",
   "metadata": {},
   "source": [
    "<div style=\"border-radius: 15px; box-shadow: 4px 4px 4px; border: solid green 2px; padding: 20px\"> <b>Отличная работа 2</b><br>👍</div> "
   ]
  },
  {
   "cell_type": "code",
   "execution_count": 11,
   "metadata": {},
   "outputs": [],
   "source": [
    "datesGroups = orders[['date','group']].drop_duplicates()"
   ]
  },
  {
   "cell_type": "markdown",
   "metadata": {},
   "source": [
    "Соберем данные по датам и групам."
   ]
  },
  {
   "cell_type": "code",
   "execution_count": 12,
   "metadata": {},
   "outputs": [
    {
     "data": {
      "text/html": [
       "<div>\n",
       "<style scoped>\n",
       "    .dataframe tbody tr th:only-of-type {\n",
       "        vertical-align: middle;\n",
       "    }\n",
       "\n",
       "    .dataframe tbody tr th {\n",
       "        vertical-align: top;\n",
       "    }\n",
       "\n",
       "    .dataframe thead th {\n",
       "        text-align: right;\n",
       "    }\n",
       "</style>\n",
       "<table border=\"1\" class=\"dataframe\">\n",
       "  <thead>\n",
       "    <tr style=\"text-align: right;\">\n",
       "      <th></th>\n",
       "      <th>date</th>\n",
       "      <th>group</th>\n",
       "      <th>orders</th>\n",
       "      <th>buyers</th>\n",
       "      <th>revenue</th>\n",
       "    </tr>\n",
       "  </thead>\n",
       "  <tbody>\n",
       "    <tr>\n",
       "      <td>55</td>\n",
       "      <td>2019-08-01</td>\n",
       "      <td>A</td>\n",
       "      <td>23</td>\n",
       "      <td>19</td>\n",
       "      <td>142779</td>\n",
       "    </tr>\n",
       "    <tr>\n",
       "      <td>66</td>\n",
       "      <td>2019-08-01</td>\n",
       "      <td>B</td>\n",
       "      <td>17</td>\n",
       "      <td>17</td>\n",
       "      <td>59758</td>\n",
       "    </tr>\n",
       "    <tr>\n",
       "      <td>175</td>\n",
       "      <td>2019-08-02</td>\n",
       "      <td>A</td>\n",
       "      <td>42</td>\n",
       "      <td>36</td>\n",
       "      <td>234381</td>\n",
       "    </tr>\n",
       "    <tr>\n",
       "      <td>173</td>\n",
       "      <td>2019-08-02</td>\n",
       "      <td>B</td>\n",
       "      <td>40</td>\n",
       "      <td>39</td>\n",
       "      <td>221801</td>\n",
       "    </tr>\n",
       "    <tr>\n",
       "      <td>291</td>\n",
       "      <td>2019-08-03</td>\n",
       "      <td>A</td>\n",
       "      <td>66</td>\n",
       "      <td>60</td>\n",
       "      <td>346854</td>\n",
       "    </tr>\n",
       "  </tbody>\n",
       "</table>\n",
       "</div>"
      ],
      "text/plain": [
       "          date group  orders  buyers  revenue\n",
       "55  2019-08-01     A      23      19   142779\n",
       "66  2019-08-01     B      17      17    59758\n",
       "175 2019-08-02     A      42      36   234381\n",
       "173 2019-08-02     B      40      39   221801\n",
       "291 2019-08-03     A      66      60   346854"
      ]
     },
     "execution_count": 12,
     "metadata": {},
     "output_type": "execute_result"
    }
   ],
   "source": [
    "ordersAggregated = datesGroups.apply(\n",
    "    lambda x: orders[\n",
    "        np.logical_and(\n",
    "            orders['date'] <= x['date'], orders['group'] == x['group']\n",
    "        )\n",
    "    ].agg(\n",
    "        {\n",
    "            'date': 'max',\n",
    "            'group': 'max',\n",
    "            'transactionId': pd.Series.nunique,\n",
    "            'visitorId': pd.Series.nunique,\n",
    "            'revenue': 'sum',\n",
    "        }\n",
    "    ),\n",
    "    axis=1,\n",
    ").sort_values(by=['date', 'group'])\n",
    "ordersAggregated.columns = [\n",
    "    'date',\n",
    "    'group',\n",
    "    'orders',\n",
    "    'buyers',\n",
    "    'revenue'\n",
    "]\n",
    "ordersAggregated.head()"
   ]
  },
  {
   "cell_type": "markdown",
   "metadata": {},
   "source": [
    "Выделим данные по каждой группе."
   ]
  },
  {
   "cell_type": "code",
   "execution_count": 13,
   "metadata": {},
   "outputs": [],
   "source": [
    "ordersAggregatedA = ordersAggregated[ordersAggregated['group']=='A']\n",
    "ordersAggregatedB = ordersAggregated[ordersAggregated['group']=='B']"
   ]
  },
  {
   "cell_type": "markdown",
   "metadata": {},
   "source": [
    "Построим графики кумулятивных выручек по группам и сравним."
   ]
  },
  {
   "cell_type": "code",
   "execution_count": 14,
   "metadata": {},
   "outputs": [
    {
     "data": {
      "text/plain": [
       "<matplotlib.legend.Legend at 0x7f4f051343d0>"
      ]
     },
     "execution_count": 14,
     "metadata": {},
     "output_type": "execute_result"
    },
    {
     "data": {
      "image/png": "[encoded data removed]",
      "text/plain": [
       "<Figure size 864x648 with 1 Axes>"
      ]
     },
     "metadata": {
      "needs_background": "light"
     },
     "output_type": "display_data"
    }
   ],
   "source": [
    "plt.figure(figsize=(12,9))\n",
    "plt.plot(ordersAggregatedA['date'],ordersAggregatedA['revenue'],label='A')\n",
    "plt.plot(ordersAggregatedB['date'],ordersAggregatedB['revenue'],label='B')\n",
    "plt.xticks(rotation=45)\n",
    "plt.title('График кумулятивной выручки по группам')\n",
    "plt.xlabel('Дата')\n",
    "plt.ylabel('Выручка')\n",
    "plt.legend()"
   ]
  },
  {
   "cell_type": "markdown",
   "metadata": {},
   "source": [
    "Из графика видно, что сперва выручки растут примерно одинаково, но в определенный момент в группе В наблюдается резкий скачок выручки, а затем снова параллельный рост. Это сигнализирует скорее всего о выбросе, что может исказить выводы. Следует проанализировать средний чек."
   ]
  },
  {
   "cell_type": "markdown",
   "metadata": {},
   "source": [
    "### Кумулятивный средний чек по группам"
   ]
  },
  {
   "cell_type": "markdown",
   "metadata": {},
   "source": [
    "Посчитаем средний чек и построим графики."
   ]
  },
  {
   "cell_type": "code",
   "execution_count": 15,
   "metadata": {},
   "outputs": [
    {
     "data": {
      "text/plain": [
       "<matplotlib.legend.Legend at 0x7f4f04837fd0>"
      ]
     },
     "execution_count": 15,
     "metadata": {},
     "output_type": "execute_result"
    },
    {
     "data": {
      "image/png": "[encoded data removed]",
      "text/plain": [
       "<Figure size 864x648 with 1 Axes>"
      ]
     },
     "metadata": {
      "needs_background": "light"
     },
     "output_type": "display_data"
    }
   ],
   "source": [
    "plt.figure(figsize=(12,9))\n",
    "plt.plot(ordersAggregatedA['date'],ordersAggregatedA['revenue']/ordersAggregatedA['orders'],label='A')\n",
    "plt.plot(ordersAggregatedB['date'],ordersAggregatedB['revenue']/ordersAggregatedB['orders'],label='B')\n",
    "plt.xticks(rotation=45)\n",
    "plt.title('График кумулятивного среднего чека по группам')\n",
    "plt.xlabel('Дата')\n",
    "plt.ylabel('Средний чек')\n",
    "plt.ylim([0,11000])\n",
    "plt.legend()"
   ]
  },
  {
   "cell_type": "markdown",
   "metadata": {},
   "source": [
    "Из графика можно сделать вывод, что действительно была большая покупка, которая резко увеличила средний чек группы B. Ближе к концу теста происходит меньше колебаний, график выравнивается. Построим график относительного изменения кумулятивного чека группы B относительно группы А."
   ]
  },
  {
   "cell_type": "markdown",
   "metadata": {},
   "source": [
    "### График относительного изменения кумулятивного среднего чека"
   ]
  },
  {
   "cell_type": "code",
   "execution_count": 16,
   "metadata": {},
   "outputs": [
    {
     "data": {
      "text/html": [
       "<div>\n",
       "<style scoped>\n",
       "    .dataframe tbody tr th:only-of-type {\n",
       "        vertical-align: middle;\n",
       "    }\n",
       "\n",
       "    .dataframe tbody tr th {\n",
       "        vertical-align: top;\n",
       "    }\n",
       "\n",
       "    .dataframe thead th {\n",
       "        text-align: right;\n",
       "    }\n",
       "</style>\n",
       "<table border=\"1\" class=\"dataframe\">\n",
       "  <thead>\n",
       "    <tr style=\"text-align: right;\">\n",
       "      <th></th>\n",
       "      <th>date</th>\n",
       "      <th>revenueA</th>\n",
       "      <th>ordersA</th>\n",
       "      <th>revenueB</th>\n",
       "      <th>ordersB</th>\n",
       "    </tr>\n",
       "  </thead>\n",
       "  <tbody>\n",
       "    <tr>\n",
       "      <td>0</td>\n",
       "      <td>2019-08-01</td>\n",
       "      <td>142779</td>\n",
       "      <td>23</td>\n",
       "      <td>59758</td>\n",
       "      <td>17</td>\n",
       "    </tr>\n",
       "    <tr>\n",
       "      <td>1</td>\n",
       "      <td>2019-08-02</td>\n",
       "      <td>234381</td>\n",
       "      <td>42</td>\n",
       "      <td>221801</td>\n",
       "      <td>40</td>\n",
       "    </tr>\n",
       "    <tr>\n",
       "      <td>2</td>\n",
       "      <td>2019-08-03</td>\n",
       "      <td>346854</td>\n",
       "      <td>66</td>\n",
       "      <td>288850</td>\n",
       "      <td>54</td>\n",
       "    </tr>\n",
       "    <tr>\n",
       "      <td>3</td>\n",
       "      <td>2019-08-04</td>\n",
       "      <td>388030</td>\n",
       "      <td>77</td>\n",
       "      <td>385740</td>\n",
       "      <td>68</td>\n",
       "    </tr>\n",
       "    <tr>\n",
       "      <td>4</td>\n",
       "      <td>2019-08-05</td>\n",
       "      <td>474413</td>\n",
       "      <td>99</td>\n",
       "      <td>475648</td>\n",
       "      <td>89</td>\n",
       "    </tr>\n",
       "  </tbody>\n",
       "</table>\n",
       "</div>"
      ],
      "text/plain": [
       "        date  revenueA  ordersA  revenueB  ordersB\n",
       "0 2019-08-01    142779       23     59758       17\n",
       "1 2019-08-02    234381       42    221801       40\n",
       "2 2019-08-03    346854       66    288850       54\n",
       "3 2019-08-04    388030       77    385740       68\n",
       "4 2019-08-05    474413       99    475648       89"
      ]
     },
     "execution_count": 16,
     "metadata": {},
     "output_type": "execute_result"
    }
   ],
   "source": [
    "cumulativeRevenueA = ordersAggregated[ordersAggregated['group'] == 'A'][\n",
    "    ['date', 'revenue', 'orders']\n",
    "]\n",
    "cumulativeRevenueB = ordersAggregated[ordersAggregated['group'] == 'B'][\n",
    "    ['date', 'revenue', 'orders']\n",
    "]\n",
    "mergedCumulativeRevenue = cumulativeRevenueA.merge(cumulativeRevenueB, left_on='date', right_on='date', how='left', suffixes=['A','B'])\n",
    "mergedCumulativeRevenue.head()"
   ]
  },
  {
   "cell_type": "code",
   "execution_count": 17,
   "metadata": {},
   "outputs": [
    {
     "data": {
      "text/plain": [
       "<matplotlib.lines.Line2D at 0x7f4f04a25e90>"
      ]
     },
     "execution_count": 17,
     "metadata": {},
     "output_type": "execute_result"
    },
    {
     "data": {
      "image/png": "[encoded data removed]",
      "text/plain": [
       "<Figure size 864x648 with 1 Axes>"
      ]
     },
     "metadata": {
      "needs_background": "light"
     },
     "output_type": "display_data"
    }
   ],
   "source": [
    "plt.figure(figsize=(12,9))\n",
    "plt.plot(mergedCumulativeRevenue['date'],(mergedCumulativeRevenue['revenueB']/mergedCumulativeRevenue['ordersB'])/(mergedCumulativeRevenue['revenueA']/mergedCumulativeRevenue['ordersA'])-1)\n",
    "plt.title('График кумулятивного среднего чека по группам')\n",
    "plt.xlabel('Дата')\n",
    "plt.axhline(y=0, color='black', linestyle='--')"
   ]
  },
  {
   "cell_type": "markdown",
   "metadata": {},
   "source": [
    "Из графика видно, что есть скачок группы А, из-за чего прирост уходит в отрицательное значение, но в большей части теста присрост среднего чека в положительной динамике. Для понимания, в какой группе выброс - проанализируем конверсию."
   ]
  },
  {
   "cell_type": "markdown",
   "metadata": {},
   "source": [
    "### Анализ кумулятивной конверсии"
   ]
  },
  {
   "cell_type": "markdown",
   "metadata": {},
   "source": [
    "Агрегируем данные по посетителям в кумулятивную таблицу."
   ]
  },
  {
   "cell_type": "code",
   "execution_count": 18,
   "metadata": {},
   "outputs": [],
   "source": [
    "visitorsAggregated = datesGroups.apply(\n",
    "    lambda x: visitors[\n",
    "        np.logical_and(\n",
    "            visitors['date'] <= x['date'], visitors['group'] == x['group']\n",
    "        )\n",
    "    ].agg({'date': 'max', 'group': 'max', 'visitors': 'sum'}),\n",
    "    axis=1,\n",
    ").sort_values(by=['date', 'group'])"
   ]
  },
  {
   "cell_type": "markdown",
   "metadata": {},
   "source": [
    "Объединим"
   ]
  },
  {
   "cell_type": "code",
   "execution_count": 19,
   "metadata": {},
   "outputs": [
    {
     "data": {
      "text/html": [
       "<div>\n",
       "<style scoped>\n",
       "    .dataframe tbody tr th:only-of-type {\n",
       "        vertical-align: middle;\n",
       "    }\n",
       "\n",
       "    .dataframe tbody tr th {\n",
       "        vertical-align: top;\n",
       "    }\n",
       "\n",
       "    .dataframe thead th {\n",
       "        text-align: right;\n",
       "    }\n",
       "</style>\n",
       "<table border=\"1\" class=\"dataframe\">\n",
       "  <thead>\n",
       "    <tr style=\"text-align: right;\">\n",
       "      <th></th>\n",
       "      <th>date</th>\n",
       "      <th>group</th>\n",
       "      <th>orders</th>\n",
       "      <th>buyers</th>\n",
       "      <th>revenue</th>\n",
       "      <th>visitors</th>\n",
       "    </tr>\n",
       "  </thead>\n",
       "  <tbody>\n",
       "    <tr>\n",
       "      <td>0</td>\n",
       "      <td>2019-08-01</td>\n",
       "      <td>A</td>\n",
       "      <td>23</td>\n",
       "      <td>19</td>\n",
       "      <td>142779</td>\n",
       "      <td>719</td>\n",
       "    </tr>\n",
       "    <tr>\n",
       "      <td>1</td>\n",
       "      <td>2019-08-01</td>\n",
       "      <td>B</td>\n",
       "      <td>17</td>\n",
       "      <td>17</td>\n",
       "      <td>59758</td>\n",
       "      <td>713</td>\n",
       "    </tr>\n",
       "    <tr>\n",
       "      <td>2</td>\n",
       "      <td>2019-08-02</td>\n",
       "      <td>A</td>\n",
       "      <td>42</td>\n",
       "      <td>36</td>\n",
       "      <td>234381</td>\n",
       "      <td>1338</td>\n",
       "    </tr>\n",
       "    <tr>\n",
       "      <td>3</td>\n",
       "      <td>2019-08-02</td>\n",
       "      <td>B</td>\n",
       "      <td>40</td>\n",
       "      <td>39</td>\n",
       "      <td>221801</td>\n",
       "      <td>1294</td>\n",
       "    </tr>\n",
       "    <tr>\n",
       "      <td>4</td>\n",
       "      <td>2019-08-03</td>\n",
       "      <td>A</td>\n",
       "      <td>66</td>\n",
       "      <td>60</td>\n",
       "      <td>346854</td>\n",
       "      <td>1845</td>\n",
       "    </tr>\n",
       "  </tbody>\n",
       "</table>\n",
       "</div>"
      ],
      "text/plain": [
       "        date group  orders  buyers  revenue  visitors\n",
       "0 2019-08-01     A      23      19   142779       719\n",
       "1 2019-08-01     B      17      17    59758       713\n",
       "2 2019-08-02     A      42      36   234381      1338\n",
       "3 2019-08-02     B      40      39   221801      1294\n",
       "4 2019-08-03     A      66      60   346854      1845"
      ]
     },
     "execution_count": 19,
     "metadata": {},
     "output_type": "execute_result"
    }
   ],
   "source": [
    "cumulativeData = ordersAggregated.merge(\n",
    "    visitorsAggregated, left_on=['date', 'group'], right_on=['date', 'group']\n",
    ")\n",
    "cumulativeData.columns = [\n",
    "    'date',\n",
    "    'group',\n",
    "    'orders',\n",
    "    'buyers',\n",
    "    'revenue',\n",
    "    'visitors',\n",
    "]\n",
    "cumulativeData.head()"
   ]
  },
  {
   "cell_type": "markdown",
   "metadata": {},
   "source": [
    "Вычислим комулятивную конверсию, создав столбец, разделим на группы и сравним на графике."
   ]
  },
  {
   "cell_type": "code",
   "execution_count": 20,
   "metadata": {},
   "outputs": [],
   "source": [
    "cumulativeData['conversion'] = cumulativeData['orders']/cumulativeData['visitors']"
   ]
  },
  {
   "cell_type": "code",
   "execution_count": 21,
   "metadata": {},
   "outputs": [],
   "source": [
    "cumulativeDataA = cumulativeData[cumulativeData['group'] == 'A']\n",
    "cumulativeDataB = cumulativeData[cumulativeData['group'] == 'B']"
   ]
  },
  {
   "cell_type": "code",
   "execution_count": 22,
   "metadata": {},
   "outputs": [
    {
     "data": {
      "text/plain": [
       "<matplotlib.legend.Legend at 0x7f4f049358d0>"
      ]
     },
     "execution_count": 22,
     "metadata": {},
     "output_type": "execute_result"
    },
    {
     "data": {
      "image/png": "[encoded data removed]",
      "text/plain": [
       "<Figure size 864x648 with 1 Axes>"
      ]
     },
     "metadata": {
      "needs_background": "light"
     },
     "output_type": "display_data"
    }
   ],
   "source": [
    "plt.figure(figsize=(12,9))\n",
    "plt.plot(cumulativeDataA['date'],cumulativeDataA['conversion'],label='A')\n",
    "plt.plot(cumulativeDataB['date'],cumulativeDataB['conversion'],label='B')\n",
    "plt.xticks(rotation=45)\n",
    "plt.title('График кумулятивной конверсии по группам')\n",
    "plt.xlabel('Дата')\n",
    "plt.ylabel('Конверсия')\n",
    "plt.legend()"
   ]
  },
  {
   "cell_type": "markdown",
   "metadata": {},
   "source": [
    "Из графика видно, что сперва конверсия стабилизируется, далее видно, что конверсия группы В (около 3%) стабильно выше группы А (около 2,5%). Проанализируем отосительное изменение кумулятивных конверсий по группам."
   ]
  },
  {
   "cell_type": "markdown",
   "metadata": {},
   "source": [
    "<div style=\"border-radius: 15px; box-shadow: 4px 4px 4px; border: solid green 2px; padding: 20px\"> <b>Отличная работа</b><br>\n",
    "Молодец, что отметил стабилизацию кумулятивных конверсий!</div> <br>"
   ]
  },
  {
   "cell_type": "markdown",
   "metadata": {},
   "source": [
    "### График относительного изменения кумулятивной конверсии группы B к группе A"
   ]
  },
  {
   "cell_type": "markdown",
   "metadata": {},
   "source": [
    "Построим график относительного изменения кумулятивной конверсии группы B к группе A и проанализируем данные."
   ]
  },
  {
   "cell_type": "code",
   "execution_count": 23,
   "metadata": {},
   "outputs": [
    {
     "data": {
      "text/plain": [
       "<matplotlib.lines.Line2D at 0x7f4f04872610>"
      ]
     },
     "execution_count": 23,
     "metadata": {},
     "output_type": "execute_result"
    },
    {
     "data": {
      "image/png": "[encoded data removed]",
      "text/plain": [
       "<Figure size 864x648 with 1 Axes>"
      ]
     },
     "metadata": {
      "needs_background": "light"
     },
     "output_type": "display_data"
    }
   ],
   "source": [
    "plt.figure(figsize=(12,9))\n",
    "mergedCumulativeConversions = (\n",
    "    cumulativeDataA[['date','conversion']]\n",
    "    .merge(cumulativeDataB[['date','conversion']],\n",
    "           left_on='date',\n",
    "           right_on='date',\n",
    "           how='left',\n",
    "           suffixes=['A','B']))\n",
    "plt.plot(mergedCumulativeConversions['date'],\n",
    "         mergedCumulativeConversions['conversionB']/\n",
    "         mergedCumulativeConversions['conversionA']-1,\n",
    "         label='Относительный прирост конверсии группы B относительно группы А')\n",
    "plt.legend()\n",
    "plt.xticks(rotation=45)\n",
    "plt.axhline(y=0, color='black', linestyle='--')\n",
    "plt.axhline(y=0.15, color='grey', linestyle='--')"
   ]
  },
  {
   "cell_type": "markdown",
   "metadata": {},
   "source": [
    "Из графика видно, что сперва данные стабилизируются, далее фиксируется прирост вокруг значения +15%. Это говорит, что конверсия в групее B выше, чем в групее на 15%, что сигнализирует о успешности гипотезы в части повышения импульса к покупке."
   ]
  },
  {
   "cell_type": "markdown",
   "metadata": {},
   "source": [
    "<div style=\"border-radius: 15px; box-shadow: 4px 4px 4px; border: solid green 2px; padding: 20px\"> <b>Отличная работа</b><br>\n",
    "Все шаги раздела кумулятивных метрик выполнены отлично: ты подготовил данные, построил графики, отметил динамику метрик и аномалии не удалось скрыться от твоего взора, молодец, так держать!</div> <br>"
   ]
  },
  {
   "cell_type": "markdown",
   "metadata": {},
   "source": [
    "### График количества заказов по пользователям"
   ]
  },
  {
   "cell_type": "markdown",
   "metadata": {},
   "source": [
    "Построим точечный график количества заказов по пользователям и сделаем выводы, предположения."
   ]
  },
  {
   "cell_type": "code",
   "execution_count": 24,
   "metadata": {},
   "outputs": [
    {
     "data": {
      "text/html": [
       "<div>\n",
       "<style scoped>\n",
       "    .dataframe tbody tr th:only-of-type {\n",
       "        vertical-align: middle;\n",
       "    }\n",
       "\n",
       "    .dataframe tbody tr th {\n",
       "        vertical-align: top;\n",
       "    }\n",
       "\n",
       "    .dataframe thead th {\n",
       "        text-align: right;\n",
       "    }\n",
       "</style>\n",
       "<table border=\"1\" class=\"dataframe\">\n",
       "  <thead>\n",
       "    <tr style=\"text-align: right;\">\n",
       "      <th></th>\n",
       "      <th>visitorId</th>\n",
       "      <th>transactionId</th>\n",
       "      <th>group</th>\n",
       "    </tr>\n",
       "  </thead>\n",
       "  <tbody>\n",
       "    <tr>\n",
       "      <td>0</td>\n",
       "      <td>5114589</td>\n",
       "      <td>1</td>\n",
       "      <td>B</td>\n",
       "    </tr>\n",
       "    <tr>\n",
       "      <td>1</td>\n",
       "      <td>6958315</td>\n",
       "      <td>1</td>\n",
       "      <td>B</td>\n",
       "    </tr>\n",
       "    <tr>\n",
       "      <td>2</td>\n",
       "      <td>11685486</td>\n",
       "      <td>1</td>\n",
       "      <td>A</td>\n",
       "    </tr>\n",
       "    <tr>\n",
       "      <td>3</td>\n",
       "      <td>39475350</td>\n",
       "      <td>1</td>\n",
       "      <td>B</td>\n",
       "    </tr>\n",
       "    <tr>\n",
       "      <td>4</td>\n",
       "      <td>47206413</td>\n",
       "      <td>1</td>\n",
       "      <td>B</td>\n",
       "    </tr>\n",
       "  </tbody>\n",
       "</table>\n",
       "</div>"
      ],
      "text/plain": [
       "   visitorId  transactionId group\n",
       "0    5114589              1     B\n",
       "1    6958315              1     B\n",
       "2   11685486              1     A\n",
       "3   39475350              1     B\n",
       "4   47206413              1     B"
      ]
     },
     "execution_count": 24,
     "metadata": {},
     "output_type": "execute_result"
    }
   ],
   "source": [
    "users_orders = orders.groupby('visitorId', as_index=False).agg({'transactionId':'count', 'group':'max'})\n",
    "users_orders.head()"
   ]
  },
  {
   "cell_type": "code",
   "execution_count": 25,
   "metadata": {},
   "outputs": [],
   "source": [
    "users_ordersA = users_orders[users_orders['group']=='A']\n",
    "users_ordersB = users_orders[users_orders['group']=='B']"
   ]
  },
  {
   "cell_type": "code",
   "execution_count": 26,
   "metadata": {},
   "outputs": [
    {
     "data": {
      "text/plain": [
       "<matplotlib.legend.Legend at 0x7f4f04629250>"
      ]
     },
     "execution_count": 26,
     "metadata": {},
     "output_type": "execute_result"
    },
    {
     "data": {
      "image/png": "[encoded data removed]",
      "text/plain": [
       "<Figure size 864x648 with 1 Axes>"
      ]
     },
     "metadata": {
      "needs_background": "light"
     },
     "output_type": "display_data"
    }
   ],
   "source": [
    "plt.figure(figsize=(12,9))\n",
    "plt.scatter(list(range(0,len(users_ordersA['transactionId']))),users_ordersA['transactionId'],label='A')\n",
    "plt.scatter(list(range(0,len(users_ordersB['transactionId']))),users_ordersB['transactionId'],label='B')\n",
    "plt.xticks(rotation=45)\n",
    "plt.title('Распределение наполнения чека ')\n",
    "plt.xlabel('Уникальный пользователь')\n",
    "plt.ylabel('Количество заказов на 1 пользователя')\n",
    "plt.legend()"
   ]
  },
  {
   "cell_type": "markdown",
   "metadata": {},
   "source": [
    "Из диаграммы видно, что в обеих группах в основном 1-2 заказа. Выбросы могут влиять на кумулятивную конверсию, нужно выделить аномальную группу пользователей и исследовать данные."
   ]
  },
  {
   "cell_type": "markdown",
   "metadata": {},
   "source": [
    "### Расчет границы аномальных пользователей по количеству заказов"
   ]
  },
  {
   "cell_type": "markdown",
   "metadata": {},
   "source": [
    "Посчитаем 95-й и 99-й перцентили количества заказов на пользователя. Выберем границу для определения аномальных пользователей."
   ]
  },
  {
   "cell_type": "code",
   "execution_count": 27,
   "metadata": {},
   "outputs": [
    {
     "data": {
      "text/plain": [
       "array([1.  , 1.  , 2.56])"
      ]
     },
     "execution_count": 27,
     "metadata": {},
     "output_type": "execute_result"
    }
   ],
   "source": [
    "np.percentile(users_ordersA['transactionId'],[90,95,99])"
   ]
  },
  {
   "cell_type": "code",
   "execution_count": 28,
   "metadata": {},
   "outputs": [
    {
     "data": {
      "text/plain": [
       "array([1., 1., 2.])"
      ]
     },
     "execution_count": 28,
     "metadata": {},
     "output_type": "execute_result"
    }
   ],
   "source": [
    "np.percentile(users_ordersB['transactionId'],[90,95,99])"
   ]
  },
  {
   "cell_type": "code",
   "execution_count": 29,
   "metadata": {},
   "outputs": [
    {
     "data": {
      "text/plain": [
       "array([1., 1., 2.])"
      ]
     },
     "execution_count": 29,
     "metadata": {},
     "output_type": "execute_result"
    }
   ],
   "source": [
    "np.percentile(users_orders['transactionId'],[90,95,99])"
   ]
  },
  {
   "cell_type": "markdown",
   "metadata": {},
   "source": [
    "Для группы А в пределах 99% в заказе 1 позиция, и лишь в 1% - 2 и выше. Также и в группе В. Границу аномальных пользователей следует брать 2."
   ]
  },
  {
   "cell_type": "markdown",
   "metadata": {},
   "source": [
    "### График распределения стоимости заказов"
   ]
  },
  {
   "cell_type": "markdown",
   "metadata": {},
   "source": [
    "Построим точечный график стоимостей заказов. Сделаем выводы и предположения."
   ]
  },
  {
   "cell_type": "code",
   "execution_count": 30,
   "metadata": {},
   "outputs": [
    {
     "data": {
      "text/html": [
       "<div>\n",
       "<style scoped>\n",
       "    .dataframe tbody tr th:only-of-type {\n",
       "        vertical-align: middle;\n",
       "    }\n",
       "\n",
       "    .dataframe tbody tr th {\n",
       "        vertical-align: top;\n",
       "    }\n",
       "\n",
       "    .dataframe thead th {\n",
       "        text-align: right;\n",
       "    }\n",
       "</style>\n",
       "<table border=\"1\" class=\"dataframe\">\n",
       "  <thead>\n",
       "    <tr style=\"text-align: right;\">\n",
       "      <th></th>\n",
       "      <th>revenue</th>\n",
       "      <th>group</th>\n",
       "    </tr>\n",
       "    <tr>\n",
       "      <th>transactionId</th>\n",
       "      <th></th>\n",
       "      <th></th>\n",
       "    </tr>\n",
       "  </thead>\n",
       "  <tbody>\n",
       "    <tr>\n",
       "      <td>1062393</td>\n",
       "      <td>6420</td>\n",
       "      <td>A</td>\n",
       "    </tr>\n",
       "    <tr>\n",
       "      <td>4919758</td>\n",
       "      <td>2350</td>\n",
       "      <td>B</td>\n",
       "    </tr>\n",
       "    <tr>\n",
       "      <td>7210578</td>\n",
       "      <td>3739</td>\n",
       "      <td>A</td>\n",
       "    </tr>\n",
       "    <tr>\n",
       "      <td>8131427</td>\n",
       "      <td>4710</td>\n",
       "      <td>A</td>\n",
       "    </tr>\n",
       "    <tr>\n",
       "      <td>11068804</td>\n",
       "      <td>4790</td>\n",
       "      <td>B</td>\n",
       "    </tr>\n",
       "  </tbody>\n",
       "</table>\n",
       "</div>"
      ],
      "text/plain": [
       "               revenue group\n",
       "transactionId               \n",
       "1062393           6420     A\n",
       "4919758           2350     B\n",
       "7210578           3739     A\n",
       "8131427           4710     A\n",
       "11068804          4790     B"
      ]
     },
     "execution_count": 30,
     "metadata": {},
     "output_type": "execute_result"
    }
   ],
   "source": [
    "orders_revenue = orders.groupby('transactionId').agg({'revenue':'sum', 'group':'max'})\n",
    "orders_revenue.head()"
   ]
  },
  {
   "cell_type": "code",
   "execution_count": 31,
   "metadata": {},
   "outputs": [],
   "source": [
    "orders_revenueA = orders_revenue[orders_revenue['group']=='A']\n",
    "orders_revenueB = orders_revenue[orders_revenue['group']=='B']"
   ]
  },
  {
   "cell_type": "code",
   "execution_count": 32,
   "metadata": {},
   "outputs": [
    {
     "data": {
      "text/plain": [
       "<matplotlib.legend.Legend at 0x7f4f045b9250>"
      ]
     },
     "execution_count": 32,
     "metadata": {},
     "output_type": "execute_result"
    },
    {
     "data": {
      "image/png": "[encoded data removed]",
      "text/plain": [
       "<Figure size 864x648 with 1 Axes>"
      ]
     },
     "metadata": {
      "needs_background": "light"
     },
     "output_type": "display_data"
    }
   ],
   "source": [
    "plt.figure(figsize=(12,9))\n",
    "plt.scatter(list(range(0,len(orders_revenueA['revenue']))),orders_revenueA['revenue'],label='A')\n",
    "plt.scatter(list(range(0,len(orders_revenueB['revenue']))),orders_revenueB['revenue'],label='B')\n",
    "plt.xticks(rotation=45)\n",
    "plt.title('Распределение стоимости заказа')\n",
    "plt.xlabel('Уникальный заказ')\n",
    "plt.ylabel('Стоимость заказа')\n",
    "plt.legend()"
   ]
  },
  {
   "cell_type": "markdown",
   "metadata": {},
   "source": [
    "Из диаграммы видно, что большая часть заказов по стоимости не превышает 100 тыс. у.е., но есть выбросы, которые могут влиять на показатели кумулятивного среднего чека и кумулятивной выручки. Нужно также выделить аномальную группу пользователей и изучить данные."
   ]
  },
  {
   "cell_type": "markdown",
   "metadata": {},
   "source": [
    "### Расчет границы аномальных пользователей по стоимости заказов"
   ]
  },
  {
   "cell_type": "markdown",
   "metadata": {},
   "source": [
    "Посчитайте 95-й и 99-й перцентили стоимости заказов. Выберите границу для определения аномальных заказов."
   ]
  },
  {
   "cell_type": "code",
   "execution_count": 33,
   "metadata": {},
   "outputs": [
    {
     "data": {
      "text/plain": [
       "array([17990.  , 24944.5 , 56064.18])"
      ]
     },
     "execution_count": 33,
     "metadata": {},
     "output_type": "execute_result"
    }
   ],
   "source": [
    "np.percentile(orders_revenueA['revenue'],[90,95,99])"
   ]
  },
  {
   "cell_type": "code",
   "execution_count": 34,
   "metadata": {},
   "outputs": [
    {
     "data": {
      "text/plain": [
       "array([17990. , 27561.5, 49553.6])"
      ]
     },
     "execution_count": 34,
     "metadata": {},
     "output_type": "execute_result"
    }
   ],
   "source": [
    "np.percentile(orders_revenueB['revenue'],[90,95,99])"
   ]
  },
  {
   "cell_type": "code",
   "execution_count": 35,
   "metadata": {},
   "outputs": [
    {
     "data": {
      "text/plain": [
       "array([17990., 26785., 53904.])"
      ]
     },
     "execution_count": 35,
     "metadata": {},
     "output_type": "execute_result"
    }
   ],
   "source": [
    "np.percentile(orders_revenue['revenue'],[90,95,99])"
   ]
  },
  {
   "cell_type": "markdown",
   "metadata": {},
   "source": [
    "Из данных видно, что в группе А 95% заказов стоимость не превышает отметку 26718, а в группе B - 28787 соответственно. Выберем границу 28000."
   ]
  },
  {
   "cell_type": "markdown",
   "metadata": {},
   "source": [
    "<div style=\"border-radius: 15px; box-shadow: 4px 4px 4px; border: solid green 2px; padding: 20px\"> <b>Отличная работа</b><br>\n",
    "Границы аномалий выбраны корректно!</div> <br>"
   ]
  },
  {
   "cell_type": "markdown",
   "metadata": {},
   "source": [
    "### Расчет статистической значимости различий в конверсии по сырым данным"
   ]
  },
  {
   "cell_type": "markdown",
   "metadata": {},
   "source": [
    "Посчитаем статистическую значимость различий в конверсии между группами по «сырым» данным. Сделаем выводы и предположения. Сперва рассчитаем куммулятивное количество зашедших по группам."
   ]
  },
  {
   "cell_type": "code",
   "execution_count": 36,
   "metadata": {},
   "outputs": [],
   "source": [
    "visitorsADaily = visitors[visitors['group'] == 'A'][['date', 'visitors']]\n",
    "visitorsADaily.columns = ['date', 'visitorsPerDateA']\n",
    "visitorsACummulative = visitorsADaily.apply(\n",
    "    lambda x: visitorsADaily[visitorsADaily['date'] <= x['date']].agg(\n",
    "        {'date': 'max', 'visitorsPerDateA': 'sum'}\n",
    "    ),\n",
    "    axis=1,\n",
    ")\n",
    "visitorsACummulative.columns = ['date', 'visitorsCummulativeA']\n",
    "\n",
    "visitorsBDaily = visitors[visitors['group'] == 'B'][['date', 'visitors']]\n",
    "visitorsBDaily.columns = ['date', 'visitorsPerDateB']\n",
    "\n",
    "visitorsBCummulative = visitorsBDaily.apply(\n",
    "    lambda x: visitorsBDaily[visitorsBDaily['date'] <= x['date']].agg(\n",
    "        {'date': 'max', 'visitorsPerDateB': 'sum'}\n",
    "    ),\n",
    "    axis=1,\n",
    ")\n",
    "visitorsBCummulative.columns = ['date', 'visitorsCummulativeB']"
   ]
  },
  {
   "cell_type": "markdown",
   "metadata": {},
   "source": [
    "Посчитаем кумулятивное количество заказов и выручки по группам."
   ]
  },
  {
   "cell_type": "code",
   "execution_count": 37,
   "metadata": {},
   "outputs": [],
   "source": [
    "ordersADaily = (\n",
    "    orders[orders['group'] == 'A'][['transactionId', 'visitorId','date', 'revenue']]\n",
    "    .groupby('date', as_index=False)\n",
    "    .agg({'transactionId': pd.Series.nunique, 'revenue': 'sum'})\n",
    ")\n",
    "ordersADaily.columns = ['date', 'ordersPerDateA', 'revenuePerDateA']\n",
    "\n",
    "ordersACummulative = ordersADaily.apply(\n",
    "    lambda x: ordersADaily[ordersADaily['date'] <= x['date']].agg(\n",
    "        {'date': 'max', 'ordersPerDateA': 'sum', 'revenuePerDateA': 'sum'}\n",
    "    ),\n",
    "    axis=1,\n",
    ").sort_values(by=['date'])\n",
    "ordersACummulative.columns = [\n",
    "    'date',\n",
    "    'ordersCummulativeA',\n",
    "    'revenueCummulativeA',\n",
    "]\n",
    "\n",
    "ordersBDaily = (\n",
    "    orders[orders['group'] == 'B'][['transactionId', 'visitorId','date', 'revenue']]\n",
    "    .groupby('date', as_index=False)\n",
    "    .agg({'transactionId': pd.Series.nunique, 'revenue': 'sum'})\n",
    ")\n",
    "ordersBDaily.columns = ['date', 'ordersPerDateB', 'revenuePerDateB']\n",
    "\n",
    "ordersBCummulative = ordersBDaily.apply(\n",
    "    lambda x: ordersBDaily[ordersBDaily['date'] <= x['date']].agg(\n",
    "        {'date': 'max', 'ordersPerDateB': 'sum', 'revenuePerDateB': 'sum'}\n",
    "    ),\n",
    "    axis=1,\n",
    ").sort_values(by=['date'])\n",
    "ordersBCummulative.columns = [\n",
    "    'date',\n",
    "    'ordersCummulativeB',\n",
    "    'revenueCummulativeB',\n",
    "]"
   ]
  },
  {
   "cell_type": "markdown",
   "metadata": {},
   "source": [
    "Объединим получившиеся таблицы."
   ]
  },
  {
   "cell_type": "code",
   "execution_count": 38,
   "metadata": {},
   "outputs": [],
   "source": [
    "data = (\n",
    "    ordersADaily.merge(\n",
    "        ordersBDaily, left_on='date', right_on='date', how='left'\n",
    "    )\n",
    "    .merge(ordersACummulative, left_on='date', right_on='date', how='left')\n",
    "    .merge(ordersBCummulative, left_on='date', right_on='date', how='left')\n",
    "    .merge(visitorsADaily, left_on='date', right_on='date', how='left')\n",
    "    .merge(visitorsBDaily, left_on='date', right_on='date', how='left')\n",
    "    .merge(visitorsACummulative, left_on='date', right_on='date', how='left')\n",
    "    .merge(visitorsBCummulative, left_on='date', right_on='date', how='left')\n",
    ")"
   ]
  },
  {
   "cell_type": "code",
   "execution_count": 39,
   "metadata": {},
   "outputs": [
    {
     "data": {
      "text/html": [
       "<div>\n",
       "<style scoped>\n",
       "    .dataframe tbody tr th:only-of-type {\n",
       "        vertical-align: middle;\n",
       "    }\n",
       "\n",
       "    .dataframe tbody tr th {\n",
       "        vertical-align: top;\n",
       "    }\n",
       "\n",
       "    .dataframe thead th {\n",
       "        text-align: right;\n",
       "    }\n",
       "</style>\n",
       "<table border=\"1\" class=\"dataframe\">\n",
       "  <thead>\n",
       "    <tr style=\"text-align: right;\">\n",
       "      <th></th>\n",
       "      <th>date</th>\n",
       "      <th>ordersPerDateA</th>\n",
       "      <th>revenuePerDateA</th>\n",
       "      <th>ordersPerDateB</th>\n",
       "      <th>revenuePerDateB</th>\n",
       "      <th>ordersCummulativeA</th>\n",
       "      <th>revenueCummulativeA</th>\n",
       "      <th>ordersCummulativeB</th>\n",
       "      <th>revenueCummulativeB</th>\n",
       "      <th>visitorsPerDateA</th>\n",
       "      <th>visitorsPerDateB</th>\n",
       "      <th>visitorsCummulativeA</th>\n",
       "      <th>visitorsCummulativeB</th>\n",
       "    </tr>\n",
       "  </thead>\n",
       "  <tbody>\n",
       "    <tr>\n",
       "      <td>0</td>\n",
       "      <td>2019-08-01</td>\n",
       "      <td>23</td>\n",
       "      <td>142779</td>\n",
       "      <td>17</td>\n",
       "      <td>59758</td>\n",
       "      <td>23</td>\n",
       "      <td>142779</td>\n",
       "      <td>17</td>\n",
       "      <td>59758</td>\n",
       "      <td>719</td>\n",
       "      <td>713</td>\n",
       "      <td>719</td>\n",
       "      <td>713</td>\n",
       "    </tr>\n",
       "    <tr>\n",
       "      <td>1</td>\n",
       "      <td>2019-08-02</td>\n",
       "      <td>19</td>\n",
       "      <td>91602</td>\n",
       "      <td>23</td>\n",
       "      <td>162043</td>\n",
       "      <td>42</td>\n",
       "      <td>234381</td>\n",
       "      <td>40</td>\n",
       "      <td>221801</td>\n",
       "      <td>619</td>\n",
       "      <td>581</td>\n",
       "      <td>1338</td>\n",
       "      <td>1294</td>\n",
       "    </tr>\n",
       "    <tr>\n",
       "      <td>2</td>\n",
       "      <td>2019-08-03</td>\n",
       "      <td>24</td>\n",
       "      <td>112473</td>\n",
       "      <td>14</td>\n",
       "      <td>67049</td>\n",
       "      <td>66</td>\n",
       "      <td>346854</td>\n",
       "      <td>54</td>\n",
       "      <td>288850</td>\n",
       "      <td>507</td>\n",
       "      <td>509</td>\n",
       "      <td>1845</td>\n",
       "      <td>1803</td>\n",
       "    </tr>\n",
       "    <tr>\n",
       "      <td>3</td>\n",
       "      <td>2019-08-04</td>\n",
       "      <td>11</td>\n",
       "      <td>41176</td>\n",
       "      <td>14</td>\n",
       "      <td>96890</td>\n",
       "      <td>77</td>\n",
       "      <td>388030</td>\n",
       "      <td>68</td>\n",
       "      <td>385740</td>\n",
       "      <td>717</td>\n",
       "      <td>770</td>\n",
       "      <td>2562</td>\n",
       "      <td>2573</td>\n",
       "    </tr>\n",
       "    <tr>\n",
       "      <td>4</td>\n",
       "      <td>2019-08-05</td>\n",
       "      <td>22</td>\n",
       "      <td>86383</td>\n",
       "      <td>21</td>\n",
       "      <td>89908</td>\n",
       "      <td>99</td>\n",
       "      <td>474413</td>\n",
       "      <td>89</td>\n",
       "      <td>475648</td>\n",
       "      <td>756</td>\n",
       "      <td>707</td>\n",
       "      <td>3318</td>\n",
       "      <td>3280</td>\n",
       "    </tr>\n",
       "  </tbody>\n",
       "</table>\n",
       "</div>"
      ],
      "text/plain": [
       "        date  ordersPerDateA  revenuePerDateA  ordersPerDateB  \\\n",
       "0 2019-08-01              23           142779              17   \n",
       "1 2019-08-02              19            91602              23   \n",
       "2 2019-08-03              24           112473              14   \n",
       "3 2019-08-04              11            41176              14   \n",
       "4 2019-08-05              22            86383              21   \n",
       "\n",
       "   revenuePerDateB  ordersCummulativeA  revenueCummulativeA  \\\n",
       "0            59758                  23               142779   \n",
       "1           162043                  42               234381   \n",
       "2            67049                  66               346854   \n",
       "3            96890                  77               388030   \n",
       "4            89908                  99               474413   \n",
       "\n",
       "   ordersCummulativeB  revenueCummulativeB  visitorsPerDateA  \\\n",
       "0                  17                59758               719   \n",
       "1                  40               221801               619   \n",
       "2                  54               288850               507   \n",
       "3                  68               385740               717   \n",
       "4                  89               475648               756   \n",
       "\n",
       "   visitorsPerDateB  visitorsCummulativeA  visitorsCummulativeB  \n",
       "0               713                   719                   713  \n",
       "1               581                  1338                  1294  \n",
       "2               509                  1845                  1803  \n",
       "3               770                  2562                  2573  \n",
       "4               707                  3318                  3280  "
      ]
     },
     "execution_count": 39,
     "metadata": {},
     "output_type": "execute_result"
    }
   ],
   "source": [
    "data.head()"
   ]
  },
  {
   "cell_type": "markdown",
   "metadata": {},
   "source": [
    "Соберем данные по количеству заказов в каждой группе по пользователям."
   ]
  },
  {
   "cell_type": "code",
   "execution_count": 40,
   "metadata": {},
   "outputs": [],
   "source": [
    "ordersByUsersA = (\n",
    "    orders[orders['group'] == 'A']\n",
    "    .groupby('visitorId', as_index=False)\n",
    "    .agg({'transactionId': pd.Series.nunique})\n",
    ")\n",
    "ordersByUsersA.columns = ['userId', 'orders']\n",
    "\n",
    "ordersByUsersB = (\n",
    "    orders[orders['group'] == 'B']\n",
    "    .groupby('visitorId', as_index=False)\n",
    "    .agg({'transactionId': pd.Series.nunique})\n",
    ")\n",
    "ordersByUsersB.columns = ['userId', 'orders']"
   ]
  },
  {
   "cell_type": "markdown",
   "metadata": {},
   "source": [
    "Соединим полученные данные в сэмплы для анализа статистической значимости."
   ]
  },
  {
   "cell_type": "code",
   "execution_count": 41,
   "metadata": {},
   "outputs": [],
   "source": [
    "sampleA = pd.concat(\n",
    "    [\n",
    "        ordersByUsersA['orders'],\n",
    "        pd.Series(\n",
    "            0,\n",
    "            index=np.arange(\n",
    "                data['visitorsPerDateA'].sum() - len(ordersByUsersA['orders'])\n",
    "            ),\n",
    "            name='orders',\n",
    "        ),\n",
    "    ],\n",
    "    axis=0,\n",
    ")\n",
    "\n",
    "sampleB = pd.concat(\n",
    "    [\n",
    "        ordersByUsersB['orders'],\n",
    "        pd.Series(\n",
    "            0,\n",
    "            index=np.arange(\n",
    "                data['visitorsPerDateB'].sum() - len(ordersByUsersB['orders'])\n",
    "            ),\n",
    "            name='orders',\n",
    "        ),\n",
    "    ],\n",
    "    axis=0,\n",
    ")"
   ]
  },
  {
   "cell_type": "markdown",
   "metadata": {},
   "source": [
    "Рассчитаем p-value. Возьмем за нулевую гипотезу то, что две последовательности схожи, статистических различий между ними нет. Альтернативная теория - статистические различия в конверсии по группам есть."
   ]
  },
  {
   "cell_type": "markdown",
   "metadata": {},
   "source": [
    "<div style=\"border-radius: 15px; box-shadow: 4px 4px 4px; border: solid green 2px; padding: 20px\"> <b>Отличная работа 2</b><br>\n",
    "Гипотезы сформулированы верно ✅</div> <br>"
   ]
  },
  {
   "cell_type": "code",
   "execution_count": 42,
   "metadata": {},
   "outputs": [
    {
     "data": {
      "text/plain": [
       "0.011018084110014691"
      ]
     },
     "execution_count": 42,
     "metadata": {},
     "output_type": "execute_result"
    }
   ],
   "source": [
    "stats.mannwhitneyu(sampleA,sampleB, alternative=\"two-sided\")[1]"
   ]
  },
  {
   "cell_type": "markdown",
   "metadata": {},
   "source": [
    "Посмотрим относительный прирост."
   ]
  },
  {
   "cell_type": "code",
   "execution_count": 43,
   "metadata": {},
   "outputs": [
    {
     "data": {
      "text/plain": [
       "0.1597977924896936"
      ]
     },
     "execution_count": 43,
     "metadata": {},
     "output_type": "execute_result"
    }
   ],
   "source": [
    "(data['ordersPerDateB'].sum()/data['visitorsPerDateB'].sum())/(data['ordersPerDateA'].sum()/data['visitorsPerDateA'].sum())-1"
   ]
  },
  {
   "cell_type": "markdown",
   "metadata": {},
   "source": [
    "P-value меньше 0,05, значит нулевую гипотезу мы отвергаем. По сырым данным можно сказать, что различия в конверсии имеют статистическую значимость и прирост конверсии в группе B составляет 16%"
   ]
  },
  {
   "cell_type": "markdown",
   "metadata": {},
   "source": [
    "### Расчет статистической значимости различий в среднем чеке по сырым данным"
   ]
  },
  {
   "cell_type": "markdown",
   "metadata": {},
   "source": [
    "Посчитаем статистическую значимость различий в среднем чеке заказа между группами по «сырым» данным. Сделаем выводы и предположения. Рассчитаем p-value. Возьмем за нулевую гипотезу то, что две последовательности схожи, статистических различий между ними нет. Альтернативная теория - статистические различия в среднем чеке по группам есть."
   ]
  },
  {
   "cell_type": "markdown",
   "metadata": {},
   "source": [
    "<div style=\"border-radius: 15px; box-shadow: 4px 4px 4px; border: solid green 2px; padding: 20px\"> <b>Отличная работа 2</b><br>\n",
    "Гипотезы сформулированы верно ✅</div> <br>"
   ]
  },
  {
   "cell_type": "code",
   "execution_count": 44,
   "metadata": {},
   "outputs": [
    {
     "data": {
      "text/plain": [
       "0.8294908998149533"
      ]
     },
     "execution_count": 44,
     "metadata": {},
     "output_type": "execute_result"
    }
   ],
   "source": [
    "stats.mannwhitneyu(orders[orders['group']=='A']['revenue'], orders[orders['group']=='B']['revenue'], alternative=\"two-sided\")[1]"
   ]
  },
  {
   "cell_type": "markdown",
   "metadata": {},
   "source": [
    "Посчитаем прирост."
   ]
  },
  {
   "cell_type": "code",
   "execution_count": 45,
   "metadata": {},
   "outputs": [
    {
     "data": {
      "text/plain": [
       "0.28660287636871096"
      ]
     },
     "execution_count": 45,
     "metadata": {},
     "output_type": "execute_result"
    }
   ],
   "source": [
    "orders[orders['group']=='B']['revenue'].mean()/orders[orders['group']=='A']['revenue'].mean()-1"
   ]
  },
  {
   "cell_type": "markdown",
   "metadata": {},
   "source": [
    "P-value значительно выше 0,05, это говорит о том, что по сырым данным статистической значимости различий нет, при этом прирост в группе В +28,7%. Следует проверить по очищенным данным."
   ]
  },
  {
   "cell_type": "markdown",
   "metadata": {},
   "source": [
    "### Расчет статистической значимости различий в конверсии по очищенным данным"
   ]
  },
  {
   "cell_type": "markdown",
   "metadata": {},
   "source": [
    "Посчитаем статистическую значимость различий в конверсии между группами по «очищенным» данным. Сделаем выводы и предположения. Сперва выделим группу аномальных пользователей по количеству заказов и сумме заказа."
   ]
  },
  {
   "cell_type": "code",
   "execution_count": 46,
   "metadata": {},
   "outputs": [],
   "source": [
    "usersWithManyOrders = pd.concat(\n",
    "    [\n",
    "        ordersByUsersA[ordersByUsersA['orders'] > 2]['userId'],\n",
    "        ordersByUsersB[ordersByUsersB['orders'] > 2]['userId'],\n",
    "    ],\n",
    "    axis=0,\n",
    ")\n",
    "usersWithExpensiveOrders = orders[orders['revenue'] > 28000]['visitorId']\n",
    "abnormalUsers = (\n",
    "    pd.concat([usersWithManyOrders, usersWithExpensiveOrders], axis=0)\n",
    "    .drop_duplicates()\n",
    "    .sort_values()\n",
    ")"
   ]
  },
  {
   "cell_type": "markdown",
   "metadata": {},
   "source": [
    "Объединим данные с отфильтрованными данными."
   ]
  },
  {
   "cell_type": "code",
   "execution_count": 47,
   "metadata": {},
   "outputs": [],
   "source": [
    "sampleAFiltered = pd.concat(\n",
    "    [\n",
    "        ordersByUsersA[\n",
    "            np.logical_not(ordersByUsersA['userId'].isin(abnormalUsers))\n",
    "        ]['orders'],\n",
    "        pd.Series(\n",
    "            0,\n",
    "            index=np.arange(\n",
    "                data['visitorsPerDateA'].sum() - len(ordersByUsersA['orders'])\n",
    "            ),\n",
    "            name='orders',\n",
    "        ),\n",
    "    ],\n",
    "    axis=0,\n",
    ")\n",
    "\n",
    "sampleBFiltered = pd.concat(\n",
    "    [\n",
    "        ordersByUsersB[\n",
    "            np.logical_not(ordersByUsersB['userId'].isin(abnormalUsers))\n",
    "        ]['orders'],\n",
    "        pd.Series(\n",
    "            0,\n",
    "            index=np.arange(\n",
    "                data['visitorsPerDateB'].sum() - len(ordersByUsersB['orders'])\n",
    "            ),\n",
    "            name='orders',\n",
    "        ),\n",
    "    ],\n",
    "    axis=0,\n",
    ")"
   ]
  },
  {
   "cell_type": "markdown",
   "metadata": {},
   "source": [
    "Посчитаем p-value по очищенным данным.Возьмем за нулевую гипотезу то, что две последовательности схожи, статистических различий между ними нет. Альтернативная теория - статистические различия в конверсии по группам есть."
   ]
  },
  {
   "cell_type": "code",
   "execution_count": 48,
   "metadata": {},
   "outputs": [
    {
     "data": {
      "text/plain": [
       "0.00945335018662552"
      ]
     },
     "execution_count": 48,
     "metadata": {},
     "output_type": "execute_result"
    }
   ],
   "source": [
    "stats.mannwhitneyu(sampleAFiltered, sampleBFiltered, alternative=\"two-sided\")[1]"
   ]
  },
  {
   "cell_type": "markdown",
   "metadata": {},
   "source": [
    "Посчитаем прирост по очищенным данным."
   ]
  },
  {
   "cell_type": "code",
   "execution_count": 49,
   "metadata": {},
   "outputs": [
    {
     "data": {
      "text/plain": [
       "0.18862770012706487"
      ]
     },
     "execution_count": 49,
     "metadata": {},
     "output_type": "execute_result"
    }
   ],
   "source": [
    "sampleBFiltered.mean()/sampleAFiltered.mean()-1"
   ]
  },
  {
   "cell_type": "markdown",
   "metadata": {},
   "source": [
    "P-value снова ниже 0,05, т.е. статистическая значимость различия в конверсии есть, а прирост по очищенным данным 17,2% в группе В."
   ]
  },
  {
   "cell_type": "markdown",
   "metadata": {},
   "source": [
    "### Расчет статистической значимости различий в среднем чеке по очищенным данным"
   ]
  },
  {
   "cell_type": "markdown",
   "metadata": {},
   "source": [
    "Посчитаем статистическую значимость различий в среднем чеке заказа между группами по «очищенным» данным. Сделаем выводы и предположения. Возьмем за нулевую гипотезу то, что две последовательности схожи, статистических различий между ними нет. Альтернативная теория - статистические различия в среднем чеке по группам есть."
   ]
  },
  {
   "cell_type": "code",
   "execution_count": 50,
   "metadata": {},
   "outputs": [
    {
     "data": {
      "text/plain": [
       "0.7616880562749192"
      ]
     },
     "execution_count": 50,
     "metadata": {},
     "output_type": "execute_result"
    }
   ],
   "source": [
    "stats.mannwhitneyu(\n",
    "    orders[\n",
    "        np.logical_and(\n",
    "            orders['group'] == 'A',\n",
    "            np.logical_not(orders['visitorId'].isin(abnormalUsers)),\n",
    "        )\n",
    "    ]['revenue'],\n",
    "    orders[\n",
    "        np.logical_and(\n",
    "            orders['group'] == 'B',\n",
    "            np.logical_not(orders['visitorId'].isin(abnormalUsers)),\n",
    "        )\n",
    "    ]['revenue'], alternative=\"two-sided\"\n",
    ")[1]"
   ]
  },
  {
   "cell_type": "code",
   "execution_count": 51,
   "metadata": {},
   "outputs": [
    {
     "data": {
      "text/plain": [
       "-0.022449424512020366"
      ]
     },
     "execution_count": 51,
     "metadata": {},
     "output_type": "execute_result"
    }
   ],
   "source": [
    "(orders[\n",
    "    np.logical_and(\n",
    "        orders['group'] == 'B',\n",
    "        np.logical_not(orders['visitorId'].isin(abnormalUsers)),\n",
    "    )\n",
    "]['revenue'].mean()\n",
    "/ orders[\n",
    "    np.logical_and(\n",
    "        orders['group'] == 'A',\n",
    "        np.logical_not(orders['visitorId'].isin(abnormalUsers)),\n",
    "    )\n",
    "]['revenue'].mean()\n",
    "- 1\n",
    ")"
   ]
  },
  {
   "cell_type": "markdown",
   "metadata": {},
   "source": [
    "P-value по очищенным данным выше 0,05, т.е. стастистической значимости различий в среднем чеке не наблюдается, отрицательное значение прироста -2% не является значимым. Перейдем к общим выводам, в которых укажем итоговое решение по А/В-тесту."
   ]
  },
  {
   "cell_type": "markdown",
   "metadata": {},
   "source": [
    "<div style=\"border-radius: 15px; box-shadow: 4px 4px 4px; border: solid green 2px; padding: 20px\"> <b>Отличная работа</b><br>\n",
    "Проверки выполнены корректно, результаты интерпретированы верно!</div> <br>\n",
    "<div style=\"border-radius: 15px; box-shadow: 4px 4px 4px; border: solid red 2px; padding: 20px\"> <b>Что необходимо доработать</b><br>\n",
    "Попрошу тебя сформулировать гипотезы - <b>нулевую и альтеранативную</b></div><br>\n",
    "<div style=\"border-radius: 15px; box-shadow: 4px 4px 4px; border: solid orange 2px; padding: 20px\"> <b>Что можно улучшить</b><br>\n",
    "Отмечу одну особенность реализации теста Манна-Уитни stats.mannwhitneyu, у него есть параметр alternative, по-умолчанию, он принимает значение None для совместимости, но в таком случае тест выполняет проверку похожую на одностороннюю, что не корректно для нашего теста. Для получения правильных результатов нужно использовать alternative=\"two-sided\". В новых версиях библиотеки эта ошибка исправлена, по-умолчанию, установлена проверка двусторонней гипотезы</div> <br>"
   ]
  },
  {
   "cell_type": "markdown",
   "metadata": {},
   "source": [
    "<div class=\"alert alert-info\" style=\"border:solid blue 2px; padding: 20px\"> <b>Комментарий студента:</b> Нулевую и альтернативную гипотезы сформулировал для каждого теста, улучшил тест Манна-Уитни согласно твоим рекомендациям. Спасибо за наставничество! </div>"
   ]
  },
  {
   "cell_type": "markdown",
   "metadata": {},
   "source": [
    "<div style=\"border-radius: 15px; box-shadow: 4px 4px 4px; border: solid green 2px; padding: 20px\"> <b>Отличная работа 2</b><br>👍</div> "
   ]
  },
  {
   "cell_type": "markdown",
   "metadata": {},
   "source": [
    "## Выводы"
   ]
  },
  {
   "cell_type": "markdown",
   "metadata": {},
   "source": [
    "В ходе исследования была проведена приоритезация гипотез по фреймворкам ICE и RICE. Наиболее приоритетные гипотезы по расчету ICE - это 9, 1 и 8. При этом расчете не учитывается охват. При добавлении охвата в расчет наиболее приоритетной становится гипотеза 8, это говорит о том, что данная гипотеза затронет максимальное количество пользователей, максимально повлияет на пользователей, при этом есть высокая уверенность в гипотезе и умеренные затраты на ее осуществление.\n",
    "\n",
    "В ходе анализа А/В-теста были сделаны следующие выводы:\n",
    "1. Из графика кумулятивной выручки увидели, что сперва выручки растут примерно одинаково, но в определенный момент в группе В наблюдается резкий скачок вверх, а затем снова параллельный рост. Это сигнализирует скорее всего о выбросе, что может исказить данные.\n",
    "2. Из графика кумулятивного среднего чека увидели, что была большая покупка, которая резко увеличила средний чек группы B. Ближе к концу теста происходит меньше колебаний, график выравнивается.\n",
    "3. Из графика относительного изменения кумулятивного среднего чека увидели, что есть скачок группы А, из-за чего прирост уходит в отрицательное значение, но в большей части теста присрост среднего чека в положительной динамике. Для понимания, в какой группе выброс - проанализировали кумулятивную конверсию.\n",
    "4. Из графика кумулятивной конверсии увидели, что сперва конверсия стабилизируется, далее - конверсия группы В (около 3%) стабильно выше группы А (около 2,5%).\n",
    "5. Из графика относительного изменения кумулятивной конверсии увидели, что сперва данные стабилизируются, далее фиксируется прирост вокруг значения +15%. Это говорит, что конверсия в групее B выше, чем в групее А на 15%, что дало первый сигнал о успешности гипотезы в части повышения импульса к покупке.\n",
    "6. Из диаграммы с рассеивания по количеству заказов на пользователей увидели, что в обеих группах один пользователь совершает 1-2 заказа. Выбросы повлияли на кумулятивную конверсию. Для группы А в пределах 99% в заказе 1 позиция, и лишь в 1% - 2 и выше. Границу аномальных пользователей взяли 2 заказа.\n",
    "7. Из диаграммы рассеивания по стоимости заказов увидели, что большая часть заказов по стоимости не превышает 100 тыс. у.е., но есть выбросы, которые повлияли на показатели кумулятивного среднего чека и кумулятивной выручки. Из данных увидели, что в группе А 95% заказов стоимость не превышает отметку 26718, а в группе B - 27787 соответственно. Выбрали границу 28000.\n",
    "8. При рассчете стастичиской значимости различий в конверсии по сырым данным выяснили, что P-value меньше 0,05, значит нулевую гипотезу мы отвергаем. По сырым данным можно сказать, что различия в конверсии имеют статистическую значимость и прирост конверсии в группе B составляет 16%. По очищенным данным укрепили уверенность в данных: P-value снова ниже 0,05, т.е. статистическая значимость различия в конверсии есть, а прирост по очищенным данным 18,9% в группе В.\n",
    "9. При рассчете стастичиской значимости различий в среднем чеке по сырым данным выяснили, что P-value значительно выше 0,05, это говорит о том, что по сырым данным статистической значимости различий нет, при этом прирост в группе В +25,8%. Следует проверить по очищенным данным. По очищенным данным укрепились в том, что P-value по очищенным данным выше 0,05, т.е. стастистической значимости различий в среднем чеке не наблюдается, отрицательное значение прироста -2% не является значимым, а прирост +25% обеспечили единичные заказы с аномально высокой стоимостью.\n",
    "10. По итогу анализа A/B-теста следует остановить тест и признать победу группы B, т.к. она показала прирост в конверсии на 18,9%, при этом средний чек не изменился, но столь высокое повышение конверсии значительно увеличит товарооборот при равном среднем чеке. Т.е. товарооборот прирастет с аналогичного трафика на 18,9%"
   ]
  },
  {
   "cell_type": "markdown",
   "metadata": {},
   "source": [
    "<hr style=\"border: 2px solid green;\" />\n",
    "\n",
    "## Общий комментарий\n",
    "Спасибо за проделанную работу🤝\n",
    "\n",
    "Сергей, проект выполнен очень хорошо, ты отлично справился с проверкой результатов АВ теста, но всё же есть места для доработки:\n",
    "- провести небольшой обзор данных и проверить корректность\n",
    "- сформлуировать гипотезы\n",
    "\n",
    "\n",
    "**Решение по тесту**\n",
    "\n",
    "Согласен с решением по тесту, ты привел убедительные доводы👌\n",
    "\n",
    "\n",
    "Исправляй и отправляй на проверку🛠"
   ]
  }
 ],
 "metadata": {
  "ExecuteTimeLog": [
   {
    "duration": 776,
    "start_time": "2021-11-06T18:38:22.140Z"
   },
   {
    "duration": 3354,
    "start_time": "2021-11-06T18:40:32.076Z"
   },
   {
    "duration": 35,
    "start_time": "2021-11-06T18:41:12.769Z"
   },
   {
    "duration": 12,
    "start_time": "2021-11-06T19:00:06.020Z"
   },
   {
    "duration": 14,
    "start_time": "2021-11-06T19:01:54.443Z"
   },
   {
    "duration": 122,
    "start_time": "2021-11-06T19:19:41.990Z"
   },
   {
    "duration": 460,
    "start_time": "2021-11-06T19:23:25.226Z"
   },
   {
    "duration": 15,
    "start_time": "2021-11-06T19:23:40.436Z"
   },
   {
    "duration": 64,
    "start_time": "2021-11-06T19:52:23.206Z"
   },
   {
    "duration": 70,
    "start_time": "2021-11-06T19:52:47.967Z"
   },
   {
    "duration": 48,
    "start_time": "2021-11-06T19:52:58.903Z"
   },
   {
    "duration": 49,
    "start_time": "2021-11-06T19:54:32.218Z"
   },
   {
    "duration": 46,
    "start_time": "2021-11-06T19:59:21.569Z"
   },
   {
    "duration": 43,
    "start_time": "2021-11-06T19:59:34.239Z"
   },
   {
    "duration": 45,
    "start_time": "2021-11-06T19:59:45.739Z"
   },
   {
    "duration": 23,
    "start_time": "2021-11-06T20:00:42.223Z"
   },
   {
    "duration": 25,
    "start_time": "2021-11-06T20:00:58.480Z"
   },
   {
    "duration": 114,
    "start_time": "2021-11-06T20:05:00.710Z"
   },
   {
    "duration": 9,
    "start_time": "2021-11-06T20:06:49.258Z"
   },
   {
    "duration": 435,
    "start_time": "2021-11-06T20:12:03.702Z"
   },
   {
    "duration": 317,
    "start_time": "2021-11-06T20:12:18.227Z"
   },
   {
    "duration": 8,
    "start_time": "2021-11-06T20:12:34.066Z"
   },
   {
    "duration": 317,
    "start_time": "2021-11-06T20:12:35.731Z"
   },
   {
    "duration": 255,
    "start_time": "2021-11-06T20:12:36.575Z"
   },
   {
    "duration": 19,
    "start_time": "2021-11-06T20:12:54.730Z"
   },
   {
    "duration": 7,
    "start_time": "2021-11-06T20:15:25.369Z"
   },
   {
    "duration": 378,
    "start_time": "2021-11-06T20:18:16.016Z"
   },
   {
    "duration": 4,
    "start_time": "2021-11-06T20:19:30.425Z"
   },
   {
    "duration": 292,
    "start_time": "2021-11-06T20:19:37.388Z"
   },
   {
    "duration": 405,
    "start_time": "2021-11-06T20:24:53.143Z"
   },
   {
    "duration": 305,
    "start_time": "2021-11-06T20:27:09.300Z"
   },
   {
    "duration": 492,
    "start_time": "2021-11-06T20:28:31.568Z"
   },
   {
    "duration": 476,
    "start_time": "2021-11-06T20:31:04.310Z"
   },
   {
    "duration": 464,
    "start_time": "2021-11-06T20:31:31.839Z"
   },
   {
    "duration": 337,
    "start_time": "2021-11-06T20:37:30.570Z"
   },
   {
    "duration": 6,
    "start_time": "2021-11-06T20:39:03.746Z"
   },
   {
    "duration": 567,
    "start_time": "2021-11-06T20:40:01.767Z"
   },
   {
    "duration": 342,
    "start_time": "2021-11-06T20:49:24.036Z"
   },
   {
    "duration": 7,
    "start_time": "2021-11-06T20:49:31.549Z"
   },
   {
    "duration": 502,
    "start_time": "2021-11-06T20:49:33.612Z"
   },
   {
    "duration": 463,
    "start_time": "2021-11-06T20:53:14.864Z"
   },
   {
    "duration": 476,
    "start_time": "2021-11-06T20:56:50.609Z"
   },
   {
    "duration": 742,
    "start_time": "2021-11-06T21:04:53.693Z"
   },
   {
    "duration": 757,
    "start_time": "2021-11-06T21:07:07.404Z"
   },
   {
    "duration": 16,
    "start_time": "2021-11-06T21:13:31.609Z"
   },
   {
    "duration": 583,
    "start_time": "2021-11-06T21:13:32.792Z"
   },
   {
    "duration": 15,
    "start_time": "2021-11-06T21:14:04.243Z"
   },
   {
    "duration": 432,
    "start_time": "2021-11-06T21:14:06.289Z"
   },
   {
    "duration": 74,
    "start_time": "2021-11-06T21:14:23.896Z"
   },
   {
    "duration": 75,
    "start_time": "2021-11-06T21:14:42.790Z"
   },
   {
    "duration": 24,
    "start_time": "2021-11-06T21:15:32.128Z"
   },
   {
    "duration": 548,
    "start_time": "2021-11-06T21:15:52.609Z"
   },
   {
    "duration": 752,
    "start_time": "2021-11-09T18:58:30.729Z"
   },
   {
    "duration": 26,
    "start_time": "2021-11-09T18:58:31.483Z"
   },
   {
    "duration": 12,
    "start_time": "2021-11-09T18:58:31.510Z"
   },
   {
    "duration": 20,
    "start_time": "2021-11-09T18:58:31.524Z"
   },
   {
    "duration": 48,
    "start_time": "2021-11-09T18:58:31.547Z"
   },
   {
    "duration": 23,
    "start_time": "2021-11-09T18:58:31.597Z"
   },
   {
    "duration": 10,
    "start_time": "2021-11-09T18:58:31.621Z"
   },
   {
    "duration": 228,
    "start_time": "2021-11-09T18:58:31.634Z"
   },
   {
    "duration": 7,
    "start_time": "2021-11-09T18:58:31.865Z"
   },
   {
    "duration": 337,
    "start_time": "2021-11-09T18:58:31.874Z"
   },
   {
    "duration": 346,
    "start_time": "2021-11-09T18:58:32.213Z"
   },
   {
    "duration": 22,
    "start_time": "2021-11-09T18:58:32.562Z"
   },
   {
    "duration": 411,
    "start_time": "2021-11-09T18:58:32.585Z"
   },
   {
    "duration": 230,
    "start_time": "2021-11-09T18:58:32.998Z"
   },
   {
    "duration": 31,
    "start_time": "2021-11-09T18:58:33.230Z"
   },
   {
    "duration": 7,
    "start_time": "2021-11-09T18:58:33.264Z"
   },
   {
    "duration": 358,
    "start_time": "2021-11-09T18:58:33.274Z"
   },
   {
    "duration": 10,
    "start_time": "2021-11-09T18:58:33.635Z"
   },
   {
    "duration": 406,
    "start_time": "2021-11-09T18:58:33.647Z"
   },
   {
    "duration": 3,
    "start_time": "2021-11-09T19:07:46.796Z"
   },
   {
    "duration": 5,
    "start_time": "2021-11-09T19:07:50.013Z"
   },
   {
    "duration": 464,
    "start_time": "2021-11-09T19:09:26.619Z"
   },
   {
    "duration": 3,
    "start_time": "2021-11-09T19:10:05.416Z"
   },
   {
    "duration": 5,
    "start_time": "2021-11-09T19:10:07.265Z"
   },
   {
    "duration": 294,
    "start_time": "2021-11-09T19:10:07.961Z"
   },
   {
    "duration": 4,
    "start_time": "2021-11-09T19:12:16.009Z"
   },
   {
    "duration": 5,
    "start_time": "2021-11-09T19:12:17.408Z"
   },
   {
    "duration": 299,
    "start_time": "2021-11-09T19:12:18.012Z"
   },
   {
    "duration": 315,
    "start_time": "2021-11-09T19:17:09.512Z"
   },
   {
    "duration": 348,
    "start_time": "2021-11-09T19:18:35.548Z"
   },
   {
    "duration": 321,
    "start_time": "2021-11-09T19:19:03.202Z"
   },
   {
    "duration": 293,
    "start_time": "2021-11-09T19:19:48.585Z"
   },
   {
    "duration": 392,
    "start_time": "2021-11-09T19:20:21.597Z"
   },
   {
    "duration": 277,
    "start_time": "2021-11-09T19:28:07.061Z"
   },
   {
    "duration": 277,
    "start_time": "2021-11-09T19:30:11.095Z"
   },
   {
    "duration": 545,
    "start_time": "2021-11-09T19:31:37.929Z"
   },
   {
    "duration": 353,
    "start_time": "2021-11-09T19:31:44.403Z"
   },
   {
    "duration": 405,
    "start_time": "2021-11-09T19:32:54.453Z"
   },
   {
    "duration": 408,
    "start_time": "2021-11-09T19:33:55.553Z"
   },
   {
    "duration": 506,
    "start_time": "2021-11-09T19:34:51.114Z"
   },
   {
    "duration": 414,
    "start_time": "2021-11-09T19:39:46.440Z"
   },
   {
    "duration": 368,
    "start_time": "2021-11-09T19:42:23.537Z"
   },
   {
    "duration": 452,
    "start_time": "2021-11-09T19:43:22.120Z"
   },
   {
    "duration": 461,
    "start_time": "2021-11-09T19:47:46.030Z"
   },
   {
    "duration": 437,
    "start_time": "2021-11-09T19:48:05.375Z"
   },
   {
    "duration": 414,
    "start_time": "2021-11-09T19:48:31.245Z"
   },
   {
    "duration": 389,
    "start_time": "2021-11-09T19:49:49.400Z"
   },
   {
    "duration": 953,
    "start_time": "2021-11-10T18:19:25.073Z"
   },
   {
    "duration": 31,
    "start_time": "2021-11-10T18:19:26.029Z"
   },
   {
    "duration": 21,
    "start_time": "2021-11-10T18:19:26.064Z"
   },
   {
    "duration": 17,
    "start_time": "2021-11-10T18:19:26.088Z"
   },
   {
    "duration": 53,
    "start_time": "2021-11-10T18:19:26.123Z"
   },
   {
    "duration": 26,
    "start_time": "2021-11-10T18:19:26.179Z"
   },
   {
    "duration": 12,
    "start_time": "2021-11-10T18:19:26.207Z"
   },
   {
    "duration": 361,
    "start_time": "2021-11-10T18:19:26.222Z"
   },
   {
    "duration": 7,
    "start_time": "2021-11-10T18:19:26.587Z"
   },
   {
    "duration": 529,
    "start_time": "2021-11-10T18:19:26.596Z"
   },
   {
    "duration": 495,
    "start_time": "2021-11-10T18:19:27.127Z"
   },
   {
    "duration": 23,
    "start_time": "2021-11-10T18:19:27.625Z"
   },
   {
    "duration": 548,
    "start_time": "2021-11-10T18:19:27.651Z"
   },
   {
    "duration": 347,
    "start_time": "2021-11-10T18:19:28.202Z"
   },
   {
    "duration": 20,
    "start_time": "2021-11-10T18:19:28.552Z"
   },
   {
    "duration": 6,
    "start_time": "2021-11-10T18:19:28.574Z"
   },
   {
    "duration": 40,
    "start_time": "2021-11-10T18:19:28.583Z"
   },
   {
    "duration": 519,
    "start_time": "2021-11-10T18:19:28.625Z"
   },
   {
    "duration": 602,
    "start_time": "2021-11-10T18:19:29.146Z"
   },
   {
    "duration": 667,
    "start_time": "2021-11-10T18:19:29.750Z"
   },
   {
    "duration": 8,
    "start_time": "2021-11-10T18:29:47.597Z"
   },
   {
    "duration": 8,
    "start_time": "2021-11-10T18:38:28.213Z"
   },
   {
    "duration": 29,
    "start_time": "2021-11-10T18:38:56.612Z"
   },
   {
    "duration": 203,
    "start_time": "2021-11-10T18:39:44.978Z"
   },
   {
    "duration": 666,
    "start_time": "2021-11-10T18:43:15.205Z"
   },
   {
    "duration": 7,
    "start_time": "2021-11-10T18:43:23.150Z"
   },
   {
    "duration": 570,
    "start_time": "2021-11-10T18:43:24.499Z"
   },
   {
    "duration": 111,
    "start_time": "2021-11-10T18:45:28.392Z"
   },
   {
    "duration": 107,
    "start_time": "2021-11-10T18:46:07.084Z"
   },
   {
    "duration": 569,
    "start_time": "2021-11-10T18:46:52.738Z"
   },
   {
    "duration": 595,
    "start_time": "2021-11-10T18:47:22.602Z"
   },
   {
    "duration": 594,
    "start_time": "2021-11-10T18:48:19.432Z"
   },
   {
    "duration": 8,
    "start_time": "2021-11-10T18:51:55.663Z"
   },
   {
    "duration": 6,
    "start_time": "2021-11-10T18:52:10.767Z"
   },
   {
    "duration": 253,
    "start_time": "2021-11-10T19:00:27.785Z"
   },
   {
    "duration": 253,
    "start_time": "2021-11-10T19:00:37.505Z"
   },
   {
    "duration": 196,
    "start_time": "2021-11-10T19:00:50.326Z"
   },
   {
    "duration": 7,
    "start_time": "2021-11-10T19:01:38.484Z"
   },
   {
    "duration": 7766,
    "start_time": "2021-11-10T19:03:27.489Z"
   },
   {
    "duration": 604,
    "start_time": "2021-11-10T19:04:12.664Z"
   },
   {
    "duration": 611,
    "start_time": "2021-11-10T19:05:06.355Z"
   },
   {
    "duration": 7,
    "start_time": "2021-11-10T19:10:40.828Z"
   },
   {
    "duration": 7,
    "start_time": "2021-11-10T19:10:53.719Z"
   },
   {
    "duration": 7,
    "start_time": "2021-11-10T19:12:54.724Z"
   },
   {
    "duration": 7,
    "start_time": "2021-11-10T19:13:30.501Z"
   },
   {
    "duration": 7,
    "start_time": "2021-11-10T19:14:32.060Z"
   },
   {
    "duration": 1483,
    "start_time": "2021-11-10T19:20:36.255Z"
   },
   {
    "duration": 253,
    "start_time": "2021-11-10T19:32:59.831Z"
   },
   {
    "duration": 286,
    "start_time": "2021-11-10T19:38:35.153Z"
   },
   {
    "duration": 315,
    "start_time": "2021-11-10T19:40:15.766Z"
   },
   {
    "duration": 942,
    "start_time": "2021-11-10T19:40:47.209Z"
   },
   {
    "duration": 31,
    "start_time": "2021-11-10T19:40:48.154Z"
   },
   {
    "duration": 15,
    "start_time": "2021-11-10T19:40:48.188Z"
   },
   {
    "duration": 28,
    "start_time": "2021-11-10T19:40:48.206Z"
   },
   {
    "duration": 50,
    "start_time": "2021-11-10T19:40:48.236Z"
   },
   {
    "duration": 27,
    "start_time": "2021-11-10T19:40:48.288Z"
   },
   {
    "duration": 10,
    "start_time": "2021-11-10T19:40:48.318Z"
   },
   {
    "duration": 519,
    "start_time": "2021-11-10T19:40:48.333Z"
   },
   {
    "duration": 9,
    "start_time": "2021-11-10T19:40:48.856Z"
   },
   {
    "duration": 721,
    "start_time": "2021-11-10T19:40:48.868Z"
   },
   {
    "duration": 696,
    "start_time": "2021-11-10T19:40:49.593Z"
   },
   {
    "duration": 43,
    "start_time": "2021-11-10T19:40:50.292Z"
   },
   {
    "duration": 546,
    "start_time": "2021-11-10T19:40:50.338Z"
   },
   {
    "duration": 343,
    "start_time": "2021-11-10T19:40:50.886Z"
   },
   {
    "duration": 18,
    "start_time": "2021-11-10T19:40:51.231Z"
   },
   {
    "duration": 8,
    "start_time": "2021-11-10T19:40:51.251Z"
   },
   {
    "duration": 13,
    "start_time": "2021-11-10T19:40:51.261Z"
   },
   {
    "duration": 523,
    "start_time": "2021-11-10T19:40:51.276Z"
   },
   {
    "duration": 594,
    "start_time": "2021-11-10T19:40:51.802Z"
   },
   {
    "duration": 198,
    "start_time": "2021-11-10T19:40:52.399Z"
   },
   {
    "duration": 21,
    "start_time": "2021-11-10T19:40:52.600Z"
   },
   {
    "duration": 645,
    "start_time": "2021-11-10T19:40:52.624Z"
   },
   {
    "duration": 7,
    "start_time": "2021-11-10T19:40:53.273Z"
   },
   {
    "duration": 6,
    "start_time": "2021-11-10T19:40:53.283Z"
   },
   {
    "duration": 35,
    "start_time": "2021-11-10T19:40:53.291Z"
   },
   {
    "duration": 241,
    "start_time": "2021-11-10T19:40:53.329Z"
   },
   {
    "duration": 7,
    "start_time": "2021-11-10T19:40:53.572Z"
   },
   {
    "duration": 643,
    "start_time": "2021-11-10T19:40:53.582Z"
   },
   {
    "duration": 7,
    "start_time": "2021-11-10T19:40:54.228Z"
   },
   {
    "duration": 10,
    "start_time": "2021-11-10T19:40:54.237Z"
   },
   {
    "duration": 6,
    "start_time": "2021-11-10T19:40:54.250Z"
   },
   {
    "duration": 231,
    "start_time": "2021-11-10T19:40:54.259Z"
   },
   {
    "duration": 7367,
    "start_time": "2021-11-10T19:40:54.493Z"
   },
   {
    "duration": 503,
    "start_time": "2021-11-10T19:41:01.361Z"
   },
   {
    "duration": 238,
    "start_time": "2021-11-10T19:41:47.559Z"
   },
   {
    "duration": 38,
    "start_time": "2021-11-10T19:42:32.351Z"
   },
   {
    "duration": 25,
    "start_time": "2021-11-10T19:42:44.053Z"
   },
   {
    "duration": 287,
    "start_time": "2021-11-10T19:52:27.345Z"
   },
   {
    "duration": 208,
    "start_time": "2021-11-10T19:52:40.057Z"
   },
   {
    "duration": 10,
    "start_time": "2021-11-10T19:53:35.774Z"
   },
   {
    "duration": 85,
    "start_time": "2021-11-10T19:53:37.272Z"
   },
   {
    "duration": 95,
    "start_time": "2021-11-10T19:54:01.087Z"
   },
   {
    "duration": 472,
    "start_time": "2021-11-10T19:55:08.872Z"
   },
   {
    "duration": 85,
    "start_time": "2021-11-10T19:55:21.491Z"
   },
   {
    "duration": 1330,
    "start_time": "2021-11-10T19:55:33.259Z"
   },
   {
    "duration": 31,
    "start_time": "2021-11-10T19:55:34.592Z"
   },
   {
    "duration": 17,
    "start_time": "2021-11-10T19:55:34.625Z"
   },
   {
    "duration": 15,
    "start_time": "2021-11-10T19:55:34.644Z"
   },
   {
    "duration": 52,
    "start_time": "2021-11-10T19:55:34.662Z"
   },
   {
    "duration": 27,
    "start_time": "2021-11-10T19:55:34.716Z"
   },
   {
    "duration": 8,
    "start_time": "2021-11-10T19:55:34.745Z"
   },
   {
    "duration": 361,
    "start_time": "2021-11-10T19:55:34.757Z"
   },
   {
    "duration": 6,
    "start_time": "2021-11-10T19:55:35.123Z"
   },
   {
    "duration": 502,
    "start_time": "2021-11-10T19:55:35.132Z"
   },
   {
    "duration": 516,
    "start_time": "2021-11-10T19:55:35.637Z"
   },
   {
    "duration": 24,
    "start_time": "2021-11-10T19:55:36.155Z"
   },
   {
    "duration": 589,
    "start_time": "2021-11-10T19:55:36.181Z"
   },
   {
    "duration": 280,
    "start_time": "2021-11-10T19:55:36.773Z"
   },
   {
    "duration": 18,
    "start_time": "2021-11-10T19:55:37.056Z"
   },
   {
    "duration": 12,
    "start_time": "2021-11-10T19:55:37.077Z"
   },
   {
    "duration": 31,
    "start_time": "2021-11-10T19:55:37.091Z"
   },
   {
    "duration": 514,
    "start_time": "2021-11-10T19:55:37.125Z"
   },
   {
    "duration": 582,
    "start_time": "2021-11-10T19:55:37.642Z"
   },
   {
    "duration": 197,
    "start_time": "2021-11-10T19:55:38.226Z"
   },
   {
    "duration": 6,
    "start_time": "2021-11-10T19:55:38.426Z"
   },
   {
    "duration": 580,
    "start_time": "2021-11-10T19:55:38.435Z"
   },
   {
    "duration": 6,
    "start_time": "2021-11-10T19:55:39.022Z"
   },
   {
    "duration": 7,
    "start_time": "2021-11-10T19:55:39.031Z"
   },
   {
    "duration": 15,
    "start_time": "2021-11-10T19:55:39.040Z"
   },
   {
    "duration": 277,
    "start_time": "2021-11-10T19:55:39.061Z"
   },
   {
    "duration": 7,
    "start_time": "2021-11-10T19:55:39.340Z"
   },
   {
    "duration": 655,
    "start_time": "2021-11-10T19:55:39.350Z"
   },
   {
    "duration": 16,
    "start_time": "2021-11-10T19:55:40.008Z"
   },
   {
    "duration": 7,
    "start_time": "2021-11-10T19:55:40.026Z"
   },
   {
    "duration": 8,
    "start_time": "2021-11-10T19:55:40.036Z"
   },
   {
    "duration": 229,
    "start_time": "2021-11-10T19:55:40.046Z"
   },
   {
    "duration": 261,
    "start_time": "2021-11-10T19:55:40.278Z"
   },
   {
    "duration": 37,
    "start_time": "2021-11-10T19:55:40.542Z"
   },
   {
    "duration": 40,
    "start_time": "2021-11-10T19:55:40.582Z"
   },
   {
    "duration": 245,
    "start_time": "2021-11-10T19:55:40.624Z"
   },
   {
    "duration": 8,
    "start_time": "2021-11-10T19:55:40.872Z"
   },
   {
    "duration": 102,
    "start_time": "2021-11-10T19:55:40.882Z"
   },
   {
    "duration": 624,
    "start_time": "2021-11-10T19:55:40.362Z"
   },
   {
    "duration": 7,
    "start_time": "2021-11-10T19:56:10.030Z"
   },
   {
    "duration": 7,
    "start_time": "2021-11-10T19:56:25.009Z"
   },
   {
    "duration": 10,
    "start_time": "2021-11-10T19:56:48.593Z"
   },
   {
    "duration": 8,
    "start_time": "2021-11-10T19:57:05.298Z"
   },
   {
    "duration": 11,
    "start_time": "2021-11-10T20:04:40.674Z"
   },
   {
    "duration": 11,
    "start_time": "2021-11-10T20:04:54.743Z"
   },
   {
    "duration": 12,
    "start_time": "2021-11-10T20:16:46.473Z"
   },
   {
    "duration": 12,
    "start_time": "2021-11-10T20:17:26.053Z"
   },
   {
    "duration": 9,
    "start_time": "2021-11-10T20:17:44.324Z"
   },
   {
    "duration": 7,
    "start_time": "2021-11-10T20:17:55.531Z"
   },
   {
    "duration": 6819,
    "start_time": "2021-11-10T20:25:16.731Z"
   },
   {
    "duration": 15,
    "start_time": "2021-11-10T20:25:33.806Z"
   },
   {
    "duration": 104,
    "start_time": "2021-11-10T20:26:41.282Z"
   },
   {
    "duration": 4019,
    "start_time": "2021-11-10T20:27:45.474Z"
   },
   {
    "duration": 17,
    "start_time": "2021-11-10T20:28:03.639Z"
   },
   {
    "duration": 15,
    "start_time": "2021-11-10T20:30:21.800Z"
   },
   {
    "duration": 901,
    "start_time": "2021-11-11T04:53:28.746Z"
   },
   {
    "duration": 25,
    "start_time": "2021-11-11T04:53:29.649Z"
   },
   {
    "duration": 13,
    "start_time": "2021-11-11T04:53:29.676Z"
   },
   {
    "duration": 10,
    "start_time": "2021-11-11T04:53:29.691Z"
   },
   {
    "duration": 44,
    "start_time": "2021-11-11T04:53:29.702Z"
   },
   {
    "duration": 20,
    "start_time": "2021-11-11T04:53:29.748Z"
   },
   {
    "duration": 7,
    "start_time": "2021-11-11T04:53:29.770Z"
   },
   {
    "duration": 206,
    "start_time": "2021-11-11T04:53:29.779Z"
   },
   {
    "duration": 4,
    "start_time": "2021-11-11T04:53:29.991Z"
   },
   {
    "duration": 329,
    "start_time": "2021-11-11T04:53:29.997Z"
   },
   {
    "duration": 307,
    "start_time": "2021-11-11T04:53:30.328Z"
   },
   {
    "duration": 15,
    "start_time": "2021-11-11T04:53:30.637Z"
   },
   {
    "duration": 447,
    "start_time": "2021-11-11T04:53:30.653Z"
   },
   {
    "duration": 151,
    "start_time": "2021-11-11T04:53:31.102Z"
   },
   {
    "duration": 11,
    "start_time": "2021-11-11T04:53:31.255Z"
   },
   {
    "duration": 9,
    "start_time": "2021-11-11T04:53:31.268Z"
   },
   {
    "duration": 19,
    "start_time": "2021-11-11T04:53:31.278Z"
   },
   {
    "duration": 307,
    "start_time": "2021-11-11T04:53:31.299Z"
   },
   {
    "duration": 401,
    "start_time": "2021-11-11T04:53:31.608Z"
   },
   {
    "duration": 102,
    "start_time": "2021-11-11T04:53:32.011Z"
   },
   {
    "duration": 5,
    "start_time": "2021-11-11T04:53:32.115Z"
   },
   {
    "duration": 407,
    "start_time": "2021-11-11T04:53:32.121Z"
   },
   {
    "duration": 5,
    "start_time": "2021-11-11T04:53:32.532Z"
   },
   {
    "duration": 15,
    "start_time": "2021-11-11T04:53:32.538Z"
   },
   {
    "duration": 27,
    "start_time": "2021-11-11T04:53:32.555Z"
   },
   {
    "duration": 119,
    "start_time": "2021-11-11T04:53:32.583Z"
   },
   {
    "duration": 5,
    "start_time": "2021-11-11T04:53:32.704Z"
   },
   {
    "duration": 437,
    "start_time": "2021-11-11T04:53:32.711Z"
   },
   {
    "duration": 7,
    "start_time": "2021-11-11T04:53:33.150Z"
   },
   {
    "duration": 16,
    "start_time": "2021-11-11T04:53:33.159Z"
   },
   {
    "duration": 15,
    "start_time": "2021-11-11T04:53:33.177Z"
   },
   {
    "duration": 149,
    "start_time": "2021-11-11T04:53:33.194Z"
   },
   {
    "duration": 131,
    "start_time": "2021-11-11T04:53:33.344Z"
   },
   {
    "duration": 28,
    "start_time": "2021-11-11T04:53:33.476Z"
   },
   {
    "duration": 11,
    "start_time": "2021-11-11T04:53:33.506Z"
   },
   {
    "duration": 121,
    "start_time": "2021-11-11T04:53:33.519Z"
   },
   {
    "duration": 5,
    "start_time": "2021-11-11T04:53:33.642Z"
   },
   {
    "duration": 23,
    "start_time": "2021-11-11T04:53:33.649Z"
   },
   {
    "duration": 7,
    "start_time": "2021-11-11T04:53:33.674Z"
   },
   {
    "duration": 27,
    "start_time": "2021-11-11T04:53:33.682Z"
   },
   {
    "duration": 14,
    "start_time": "2021-11-11T04:53:33.711Z"
   },
   {
    "duration": 24,
    "start_time": "2021-11-11T04:53:33.727Z"
   },
   {
    "duration": 16,
    "start_time": "2021-11-11T04:53:33.753Z"
   },
   {
    "duration": 32,
    "start_time": "2021-11-11T04:53:33.771Z"
   },
   {
    "duration": 12,
    "start_time": "2021-11-11T04:53:33.804Z"
   },
   {
    "duration": 16,
    "start_time": "2021-11-11T04:53:33.817Z"
   },
   {
    "duration": 11,
    "start_time": "2021-11-11T04:53:33.834Z"
   },
   {
    "duration": 4,
    "start_time": "2021-11-11T05:04:27.490Z"
   },
   {
    "duration": 38,
    "start_time": "2021-11-11T05:04:33.091Z"
   },
   {
    "duration": 422,
    "start_time": "2021-11-12T17:44:55.420Z"
   },
   {
    "duration": 1316,
    "start_time": "2021-11-12T17:45:09.210Z"
   },
   {
    "duration": 477,
    "start_time": "2021-11-12T17:45:10.529Z"
   },
   {
    "duration": 635,
    "start_time": "2021-11-12T17:45:10.376Z"
   },
   {
    "duration": 630,
    "start_time": "2021-11-12T17:45:10.383Z"
   },
   {
    "duration": 624,
    "start_time": "2021-11-12T17:45:10.390Z"
   },
   {
    "duration": 621,
    "start_time": "2021-11-12T17:45:10.395Z"
   },
   {
    "duration": 617,
    "start_time": "2021-11-12T17:45:10.401Z"
   },
   {
    "duration": 613,
    "start_time": "2021-11-12T17:45:10.407Z"
   },
   {
    "duration": 608,
    "start_time": "2021-11-12T17:45:10.413Z"
   },
   {
    "duration": 605,
    "start_time": "2021-11-12T17:45:10.418Z"
   },
   {
    "duration": 601,
    "start_time": "2021-11-12T17:45:10.424Z"
   },
   {
    "duration": 597,
    "start_time": "2021-11-12T17:45:10.429Z"
   },
   {
    "duration": 593,
    "start_time": "2021-11-12T17:45:10.435Z"
   },
   {
    "duration": 590,
    "start_time": "2021-11-12T17:45:10.440Z"
   },
   {
    "duration": 586,
    "start_time": "2021-11-12T17:45:10.445Z"
   },
   {
    "duration": 583,
    "start_time": "2021-11-12T17:45:10.450Z"
   },
   {
    "duration": 578,
    "start_time": "2021-11-12T17:45:10.456Z"
   },
   {
    "duration": 566,
    "start_time": "2021-11-12T17:45:10.470Z"
   },
   {
    "duration": 560,
    "start_time": "2021-11-12T17:45:10.478Z"
   },
   {
    "duration": 555,
    "start_time": "2021-11-12T17:45:10.484Z"
   },
   {
    "duration": 550,
    "start_time": "2021-11-12T17:45:10.491Z"
   },
   {
    "duration": 547,
    "start_time": "2021-11-12T17:45:10.496Z"
   },
   {
    "duration": 542,
    "start_time": "2021-11-12T17:45:10.502Z"
   },
   {
    "duration": 552,
    "start_time": "2021-11-12T17:45:10.508Z"
   },
   {
    "duration": 548,
    "start_time": "2021-11-12T17:45:10.514Z"
   },
   {
    "duration": 546,
    "start_time": "2021-11-12T17:45:10.518Z"
   },
   {
    "duration": 541,
    "start_time": "2021-11-12T17:45:10.524Z"
   },
   {
    "duration": 538,
    "start_time": "2021-11-12T17:45:10.529Z"
   },
   {
    "duration": 535,
    "start_time": "2021-11-12T17:45:10.534Z"
   },
   {
    "duration": 532,
    "start_time": "2021-11-12T17:45:10.539Z"
   },
   {
    "duration": 528,
    "start_time": "2021-11-12T17:45:10.544Z"
   },
   {
    "duration": 525,
    "start_time": "2021-11-12T17:45:10.549Z"
   },
   {
    "duration": 521,
    "start_time": "2021-11-12T17:45:10.554Z"
   },
   {
    "duration": 518,
    "start_time": "2021-11-12T17:45:10.559Z"
   },
   {
    "duration": 514,
    "start_time": "2021-11-12T17:45:10.564Z"
   },
   {
    "duration": 502,
    "start_time": "2021-11-12T17:45:10.578Z"
   },
   {
    "duration": 497,
    "start_time": "2021-11-12T17:45:10.585Z"
   },
   {
    "duration": 493,
    "start_time": "2021-11-12T17:45:10.590Z"
   },
   {
    "duration": 463,
    "start_time": "2021-11-12T17:45:10.621Z"
   },
   {
    "duration": 458,
    "start_time": "2021-11-12T17:45:10.628Z"
   },
   {
    "duration": 454,
    "start_time": "2021-11-12T17:45:10.633Z"
   },
   {
    "duration": 451,
    "start_time": "2021-11-12T17:45:10.638Z"
   },
   {
    "duration": 442,
    "start_time": "2021-11-12T17:45:10.648Z"
   },
   {
    "duration": 439,
    "start_time": "2021-11-12T17:45:10.652Z"
   },
   {
    "duration": 432,
    "start_time": "2021-11-12T17:45:10.661Z"
   },
   {
    "duration": 429,
    "start_time": "2021-11-12T17:45:10.665Z"
   },
   {
    "duration": 422,
    "start_time": "2021-11-12T17:45:10.673Z"
   },
   {
    "duration": 29,
    "start_time": "2021-11-12T17:45:34.137Z"
   },
   {
    "duration": 1369,
    "start_time": "2021-11-12T17:45:44.638Z"
   },
   {
    "duration": 29,
    "start_time": "2021-11-12T17:45:46.010Z"
   },
   {
    "duration": 29,
    "start_time": "2021-11-12T17:45:46.043Z"
   },
   {
    "duration": 17,
    "start_time": "2021-11-12T17:45:46.076Z"
   },
   {
    "duration": 86,
    "start_time": "2021-11-12T17:45:46.096Z"
   },
   {
    "duration": 26,
    "start_time": "2021-11-12T17:45:46.184Z"
   },
   {
    "duration": 12,
    "start_time": "2021-11-12T17:45:46.212Z"
   },
   {
    "duration": 353,
    "start_time": "2021-11-12T17:45:46.229Z"
   },
   {
    "duration": 6,
    "start_time": "2021-11-12T17:45:46.586Z"
   },
   {
    "duration": 507,
    "start_time": "2021-11-12T17:45:46.594Z"
   },
   {
    "duration": 475,
    "start_time": "2021-11-12T17:45:47.103Z"
   },
   {
    "duration": 25,
    "start_time": "2021-11-12T17:45:47.580Z"
   },
   {
    "duration": 591,
    "start_time": "2021-11-12T17:45:47.607Z"
   },
   {
    "duration": 288,
    "start_time": "2021-11-12T17:45:48.201Z"
   },
   {
    "duration": 18,
    "start_time": "2021-11-12T17:45:48.492Z"
   },
   {
    "duration": 9,
    "start_time": "2021-11-12T17:45:48.513Z"
   },
   {
    "duration": 9,
    "start_time": "2021-11-12T17:45:48.524Z"
   },
   {
    "duration": 504,
    "start_time": "2021-11-12T17:45:48.560Z"
   },
   {
    "duration": 611,
    "start_time": "2021-11-12T17:45:49.066Z"
   },
   {
    "duration": 324,
    "start_time": "2021-11-12T17:45:49.679Z"
   },
   {
    "duration": 7,
    "start_time": "2021-11-12T17:45:50.061Z"
   },
   {
    "duration": 749,
    "start_time": "2021-11-12T17:45:50.070Z"
   },
   {
    "duration": 7,
    "start_time": "2021-11-12T17:45:50.824Z"
   },
   {
    "duration": 27,
    "start_time": "2021-11-12T17:45:50.834Z"
   },
   {
    "duration": 8,
    "start_time": "2021-11-12T17:45:50.864Z"
   },
   {
    "duration": 265,
    "start_time": "2021-11-12T17:45:50.875Z"
   },
   {
    "duration": 19,
    "start_time": "2021-11-12T17:45:51.143Z"
   },
   {
    "duration": 595,
    "start_time": "2021-11-12T17:45:51.164Z"
   },
   {
    "duration": 7,
    "start_time": "2021-11-12T17:45:51.761Z"
   },
   {
    "duration": 7,
    "start_time": "2021-11-12T17:45:51.770Z"
   },
   {
    "duration": 8,
    "start_time": "2021-11-12T17:45:51.780Z"
   },
   {
    "duration": 222,
    "start_time": "2021-11-12T17:45:51.790Z"
   },
   {
    "duration": 236,
    "start_time": "2021-11-12T17:45:52.014Z"
   },
   {
    "duration": 40,
    "start_time": "2021-11-12T17:45:52.252Z"
   },
   {
    "duration": 15,
    "start_time": "2021-11-12T17:45:52.295Z"
   },
   {
    "duration": 214,
    "start_time": "2021-11-12T17:45:52.312Z"
   },
   {
    "duration": 9,
    "start_time": "2021-11-12T17:45:52.529Z"
   },
   {
    "duration": 20,
    "start_time": "2021-11-12T17:45:52.541Z"
   },
   {
    "duration": 9,
    "start_time": "2021-11-12T17:45:52.564Z"
   },
   {
    "duration": 12,
    "start_time": "2021-11-12T17:45:52.576Z"
   },
   {
    "duration": 12,
    "start_time": "2021-11-12T17:45:52.591Z"
   },
   {
    "duration": 62,
    "start_time": "2021-11-12T17:45:52.606Z"
   },
   {
    "duration": 12,
    "start_time": "2021-11-12T17:45:52.670Z"
   },
   {
    "duration": 12,
    "start_time": "2021-11-12T17:45:52.685Z"
   },
   {
    "duration": 6,
    "start_time": "2021-11-12T17:45:52.699Z"
   },
   {
    "duration": 55,
    "start_time": "2021-11-12T17:45:52.707Z"
   },
   {
    "duration": 15,
    "start_time": "2021-11-12T17:45:52.765Z"
   },
   {
    "duration": 25,
    "start_time": "2021-11-12T17:46:08.696Z"
   },
   {
    "duration": 15,
    "start_time": "2021-11-12T17:46:18.919Z"
   },
   {
    "duration": 17,
    "start_time": "2021-11-12T17:46:22.457Z"
   },
   {
    "duration": 29,
    "start_time": "2021-11-12T18:06:00.939Z"
   },
   {
    "duration": 123,
    "start_time": "2021-11-12T18:06:52.753Z"
   },
   {
    "duration": 30,
    "start_time": "2021-11-12T18:07:07.445Z"
   },
   {
    "duration": 28,
    "start_time": "2021-11-12T18:07:20.664Z"
   },
   {
    "duration": 495,
    "start_time": "2021-11-12T18:07:35.227Z"
   },
   {
    "duration": 29,
    "start_time": "2021-11-12T18:07:47.212Z"
   },
   {
    "duration": 28,
    "start_time": "2021-11-12T18:08:13.751Z"
   },
   {
    "duration": 16,
    "start_time": "2021-11-12T18:08:26.440Z"
   },
   {
    "duration": 369,
    "start_time": "2021-11-12T18:15:34.350Z"
   },
   {
    "duration": 9353,
    "start_time": "2021-11-12T18:16:21.098Z"
   },
   {
    "duration": 9,
    "start_time": "2021-11-12T18:20:57.797Z"
   },
   {
    "duration": 367,
    "start_time": "2021-11-12T18:22:12.985Z"
   },
   {
    "duration": 8,
    "start_time": "2021-11-12T18:23:15.301Z"
   },
   {
    "duration": 6,
    "start_time": "2021-11-12T18:27:16.935Z"
   },
   {
    "duration": 10,
    "start_time": "2021-11-12T18:27:27.347Z"
   },
   {
    "duration": 138,
    "start_time": "2021-11-12T18:28:54.714Z"
   },
   {
    "duration": 373,
    "start_time": "2021-11-12T18:29:07.448Z"
   },
   {
    "duration": 373,
    "start_time": "2021-11-12T18:31:13.537Z"
   },
   {
    "duration": 370,
    "start_time": "2021-11-12T18:31:27.471Z"
   },
   {
    "duration": 113,
    "start_time": "2021-11-12T18:32:36.241Z"
   },
   {
    "duration": 13,
    "start_time": "2021-11-12T18:33:13.652Z"
   },
   {
    "duration": 368,
    "start_time": "2021-11-12T18:33:33.651Z"
   },
   {
    "duration": 21,
    "start_time": "2021-11-12T18:33:44.019Z"
   },
   {
    "duration": 429,
    "start_time": "2021-11-12T18:36:08.899Z"
   },
   {
    "duration": 367,
    "start_time": "2021-11-12T18:36:18.197Z"
   },
   {
    "duration": 428,
    "start_time": "2021-11-12T18:36:39.355Z"
   },
   {
    "duration": 12,
    "start_time": "2021-11-12T18:36:58.161Z"
   },
   {
    "duration": 16,
    "start_time": "2021-11-12T18:37:05.938Z"
   },
   {
    "duration": 385,
    "start_time": "2021-11-12T18:37:15.850Z"
   },
   {
    "duration": 15,
    "start_time": "2021-11-12T18:37:25.284Z"
   },
   {
    "duration": 379,
    "start_time": "2021-11-12T18:37:39.213Z"
   },
   {
    "duration": 14,
    "start_time": "2021-11-12T18:38:08.483Z"
   },
   {
    "duration": 9149,
    "start_time": "2021-11-12T18:39:48.062Z"
   },
   {
    "duration": 1403,
    "start_time": "2021-11-12T18:40:18.216Z"
   },
   {
    "duration": 35,
    "start_time": "2021-11-12T18:40:19.621Z"
   },
   {
    "duration": 16,
    "start_time": "2021-11-12T18:40:19.659Z"
   },
   {
    "duration": 16,
    "start_time": "2021-11-12T18:40:19.678Z"
   },
   {
    "duration": 86,
    "start_time": "2021-11-12T18:40:19.696Z"
   },
   {
    "duration": 8,
    "start_time": "2021-11-12T18:40:19.785Z"
   },
   {
    "duration": 8,
    "start_time": "2021-11-12T18:40:19.796Z"
   },
   {
    "duration": 9143,
    "start_time": "2021-11-12T18:40:19.808Z"
   },
   {
    "duration": 645,
    "start_time": "2021-11-12T18:40:28.316Z"
   },
   {
    "duration": 634,
    "start_time": "2021-11-12T18:40:28.332Z"
   },
   {
    "duration": 629,
    "start_time": "2021-11-12T18:40:28.339Z"
   },
   {
    "duration": 623,
    "start_time": "2021-11-12T18:40:28.347Z"
   },
   {
    "duration": 620,
    "start_time": "2021-11-12T18:40:28.351Z"
   },
   {
    "duration": 617,
    "start_time": "2021-11-12T18:40:28.356Z"
   },
   {
    "duration": 614,
    "start_time": "2021-11-12T18:40:28.360Z"
   },
   {
    "duration": 610,
    "start_time": "2021-11-12T18:40:28.366Z"
   },
   {
    "duration": 607,
    "start_time": "2021-11-12T18:40:28.370Z"
   },
   {
    "duration": 601,
    "start_time": "2021-11-12T18:40:28.383Z"
   },
   {
    "duration": 598,
    "start_time": "2021-11-12T18:40:28.388Z"
   },
   {
    "duration": 593,
    "start_time": "2021-11-12T18:40:28.394Z"
   },
   {
    "duration": 589,
    "start_time": "2021-11-12T18:40:28.401Z"
   },
   {
    "duration": 587,
    "start_time": "2021-11-12T18:40:28.407Z"
   },
   {
    "duration": 584,
    "start_time": "2021-11-12T18:40:28.412Z"
   },
   {
    "duration": 581,
    "start_time": "2021-11-12T18:40:28.417Z"
   },
   {
    "duration": 579,
    "start_time": "2021-11-12T18:40:28.421Z"
   },
   {
    "duration": 575,
    "start_time": "2021-11-12T18:40:28.426Z"
   },
   {
    "duration": 572,
    "start_time": "2021-11-12T18:40:28.430Z"
   },
   {
    "duration": 568,
    "start_time": "2021-11-12T18:40:28.436Z"
   },
   {
    "duration": 564,
    "start_time": "2021-11-12T18:40:28.441Z"
   },
   {
    "duration": 561,
    "start_time": "2021-11-12T18:40:28.446Z"
   },
   {
    "duration": 558,
    "start_time": "2021-11-12T18:40:28.451Z"
   },
   {
    "duration": 555,
    "start_time": "2021-11-12T18:40:28.455Z"
   },
   {
    "duration": 553,
    "start_time": "2021-11-12T18:40:28.459Z"
   },
   {
    "duration": 551,
    "start_time": "2021-11-12T18:40:28.463Z"
   },
   {
    "duration": 547,
    "start_time": "2021-11-12T18:40:28.468Z"
   },
   {
    "duration": 534,
    "start_time": "2021-11-12T18:40:28.483Z"
   },
   {
    "duration": 531,
    "start_time": "2021-11-12T18:40:28.487Z"
   },
   {
    "duration": 529,
    "start_time": "2021-11-12T18:40:28.492Z"
   },
   {
    "duration": 525,
    "start_time": "2021-11-12T18:40:28.497Z"
   },
   {
    "duration": 522,
    "start_time": "2021-11-12T18:40:28.502Z"
   },
   {
    "duration": 518,
    "start_time": "2021-11-12T18:40:28.507Z"
   },
   {
    "duration": 554,
    "start_time": "2021-11-12T18:40:28.513Z"
   },
   {
    "duration": 555,
    "start_time": "2021-11-12T18:40:28.538Z"
   },
   {
    "duration": 537,
    "start_time": "2021-11-12T18:40:28.557Z"
   },
   {
    "duration": 533,
    "start_time": "2021-11-12T18:40:28.563Z"
   },
   {
    "duration": 533,
    "start_time": "2021-11-12T18:40:28.573Z"
   },
   {
    "duration": 533,
    "start_time": "2021-11-12T18:40:28.578Z"
   },
   {
    "duration": 508,
    "start_time": "2021-11-12T18:40:28.604Z"
   },
   {
    "duration": 507,
    "start_time": "2021-11-12T18:40:28.611Z"
   },
   {
    "duration": 508,
    "start_time": "2021-11-12T18:40:28.618Z"
   },
   {
    "duration": 129,
    "start_time": "2021-11-12T18:42:03.322Z"
   },
   {
    "duration": 397,
    "start_time": "2021-11-12T18:42:13.137Z"
   },
   {
    "duration": 134,
    "start_time": "2021-11-12T18:42:32.460Z"
   },
   {
    "duration": 125,
    "start_time": "2021-11-12T18:42:51.272Z"
   },
   {
    "duration": 141,
    "start_time": "2021-11-12T18:43:27.540Z"
   },
   {
    "duration": 130,
    "start_time": "2021-11-12T18:43:40.119Z"
   },
   {
    "duration": 15,
    "start_time": "2021-11-12T18:43:52.708Z"
   },
   {
    "duration": 15,
    "start_time": "2021-11-12T18:43:58.893Z"
   },
   {
    "duration": 30,
    "start_time": "2021-11-12T18:44:08.929Z"
   },
   {
    "duration": 1579,
    "start_time": "2021-11-12T18:44:51.035Z"
   },
   {
    "duration": 35,
    "start_time": "2021-11-12T18:44:52.617Z"
   },
   {
    "duration": 15,
    "start_time": "2021-11-12T18:44:52.654Z"
   },
   {
    "duration": 15,
    "start_time": "2021-11-12T18:44:52.672Z"
   },
   {
    "duration": 63,
    "start_time": "2021-11-12T18:44:52.689Z"
   },
   {
    "duration": 9,
    "start_time": "2021-11-12T18:44:52.754Z"
   },
   {
    "duration": 18,
    "start_time": "2021-11-12T18:44:52.765Z"
   },
   {
    "duration": 29,
    "start_time": "2021-11-12T18:44:52.787Z"
   },
   {
    "duration": 24,
    "start_time": "2021-11-12T18:44:52.819Z"
   },
   {
    "duration": 16,
    "start_time": "2021-11-12T18:44:52.845Z"
   },
   {
    "duration": 360,
    "start_time": "2021-11-12T18:44:52.864Z"
   },
   {
    "duration": 7,
    "start_time": "2021-11-12T18:44:53.227Z"
   },
   {
    "duration": 493,
    "start_time": "2021-11-12T18:44:53.236Z"
   },
   {
    "duration": 474,
    "start_time": "2021-11-12T18:44:53.731Z"
   },
   {
    "duration": 24,
    "start_time": "2021-11-12T18:44:54.207Z"
   },
   {
    "duration": 569,
    "start_time": "2021-11-12T18:44:54.233Z"
   },
   {
    "duration": 372,
    "start_time": "2021-11-12T18:44:54.805Z"
   },
   {
    "duration": 18,
    "start_time": "2021-11-12T18:44:55.180Z"
   },
   {
    "duration": 59,
    "start_time": "2021-11-12T18:44:55.200Z"
   },
   {
    "duration": 8,
    "start_time": "2021-11-12T18:44:55.262Z"
   },
   {
    "duration": 730,
    "start_time": "2021-11-12T18:44:55.272Z"
   },
   {
    "duration": 622,
    "start_time": "2021-11-12T18:44:56.005Z"
   },
   {
    "duration": 195,
    "start_time": "2021-11-12T18:44:56.632Z"
   },
   {
    "duration": 6,
    "start_time": "2021-11-12T18:44:56.830Z"
   },
   {
    "duration": 605,
    "start_time": "2021-11-12T18:44:56.839Z"
   },
   {
    "duration": 7,
    "start_time": "2021-11-12T18:44:57.446Z"
   },
   {
    "duration": 6,
    "start_time": "2021-11-12T18:44:57.459Z"
   },
   {
    "duration": 8,
    "start_time": "2021-11-12T18:44:57.467Z"
   },
   {
    "duration": 299,
    "start_time": "2021-11-12T18:44:57.477Z"
   },
   {
    "duration": 6,
    "start_time": "2021-11-12T18:44:57.778Z"
   },
   {
    "duration": 763,
    "start_time": "2021-11-12T18:44:57.786Z"
   },
   {
    "duration": 11,
    "start_time": "2021-11-12T18:44:58.552Z"
   },
   {
    "duration": 10,
    "start_time": "2021-11-12T18:44:58.565Z"
   },
   {
    "duration": 7,
    "start_time": "2021-11-12T18:44:58.577Z"
   },
   {
    "duration": 218,
    "start_time": "2021-11-12T18:44:58.586Z"
   },
   {
    "duration": 261,
    "start_time": "2021-11-12T18:44:58.806Z"
   },
   {
    "duration": 36,
    "start_time": "2021-11-12T18:44:59.070Z"
   },
   {
    "duration": 17,
    "start_time": "2021-11-12T18:44:59.108Z"
   },
   {
    "duration": 228,
    "start_time": "2021-11-12T18:44:59.127Z"
   },
   {
    "duration": 7,
    "start_time": "2021-11-12T18:44:59.359Z"
   },
   {
    "duration": 14,
    "start_time": "2021-11-12T18:44:59.368Z"
   },
   {
    "duration": 7,
    "start_time": "2021-11-12T18:44:59.384Z"
   },
   {
    "duration": 12,
    "start_time": "2021-11-12T18:44:59.393Z"
   },
   {
    "duration": 9,
    "start_time": "2021-11-12T18:44:59.407Z"
   },
   {
    "duration": 13,
    "start_time": "2021-11-12T18:44:59.458Z"
   },
   {
    "duration": 17,
    "start_time": "2021-11-12T18:44:59.473Z"
   },
   {
    "duration": 9,
    "start_time": "2021-11-12T18:44:59.492Z"
   },
   {
    "duration": 6,
    "start_time": "2021-11-12T18:44:59.503Z"
   },
   {
    "duration": 51,
    "start_time": "2021-11-12T18:44:59.512Z"
   },
   {
    "duration": 13,
    "start_time": "2021-11-12T18:44:59.565Z"
   },
   {
    "duration": 118,
    "start_time": "2021-11-12T18:45:47.358Z"
   },
   {
    "duration": 12,
    "start_time": "2021-11-12T18:45:53.940Z"
   },
   {
    "duration": 23,
    "start_time": "2021-11-12T18:46:12.303Z"
   },
   {
    "duration": 15,
    "start_time": "2021-11-12T18:46:28.500Z"
   },
   {
    "duration": 574,
    "start_time": "2021-11-12T18:50:30.436Z"
   },
   {
    "duration": 416,
    "start_time": "2021-11-12T18:52:17.662Z"
   },
   {
    "duration": 118,
    "start_time": "2021-11-12T18:53:21.356Z"
   },
   {
    "duration": 378,
    "start_time": "2021-11-12T18:55:04.063Z"
   },
   {
    "duration": 14,
    "start_time": "2021-11-12T19:12:04.484Z"
   },
   {
    "duration": 12,
    "start_time": "2021-11-12T19:15:18.269Z"
   },
   {
    "duration": 18,
    "start_time": "2021-11-12T19:15:28.567Z"
   },
   {
    "duration": 1394,
    "start_time": "2021-11-12T19:15:46.217Z"
   },
   {
    "duration": 35,
    "start_time": "2021-11-12T19:15:47.613Z"
   },
   {
    "duration": 19,
    "start_time": "2021-11-12T19:15:47.651Z"
   },
   {
    "duration": 16,
    "start_time": "2021-11-12T19:15:47.673Z"
   },
   {
    "duration": 57,
    "start_time": "2021-11-12T19:15:47.692Z"
   },
   {
    "duration": 9,
    "start_time": "2021-11-12T19:15:47.751Z"
   },
   {
    "duration": 10,
    "start_time": "2021-11-12T19:15:47.762Z"
   },
   {
    "duration": 18,
    "start_time": "2021-11-12T19:15:47.776Z"
   },
   {
    "duration": 25,
    "start_time": "2021-11-12T19:15:47.797Z"
   },
   {
    "duration": 7,
    "start_time": "2021-11-12T19:15:47.824Z"
   },
   {
    "duration": 372,
    "start_time": "2021-11-12T19:15:47.833Z"
   },
   {
    "duration": 5,
    "start_time": "2021-11-12T19:15:48.207Z"
   },
   {
    "duration": 498,
    "start_time": "2021-11-12T19:15:48.215Z"
   },
   {
    "duration": 490,
    "start_time": "2021-11-12T19:15:48.716Z"
   },
   {
    "duration": 25,
    "start_time": "2021-11-12T19:15:49.208Z"
   },
   {
    "duration": 554,
    "start_time": "2021-11-12T19:15:49.235Z"
   },
   {
    "duration": 285,
    "start_time": "2021-11-12T19:15:49.791Z"
   },
   {
    "duration": 20,
    "start_time": "2021-11-12T19:15:50.079Z"
   },
   {
    "duration": 10,
    "start_time": "2021-11-12T19:15:50.101Z"
   },
   {
    "duration": 8,
    "start_time": "2021-11-12T19:15:50.114Z"
   },
   {
    "duration": 592,
    "start_time": "2021-11-12T19:15:50.124Z"
   },
   {
    "duration": 582,
    "start_time": "2021-11-12T19:15:50.718Z"
   },
   {
    "duration": 200,
    "start_time": "2021-11-12T19:15:51.307Z"
   },
   {
    "duration": 6,
    "start_time": "2021-11-12T19:15:51.510Z"
   },
   {
    "duration": 618,
    "start_time": "2021-11-12T19:15:51.519Z"
   },
   {
    "duration": 6,
    "start_time": "2021-11-12T19:15:52.140Z"
   },
   {
    "duration": 15,
    "start_time": "2021-11-12T19:15:52.148Z"
   },
   {
    "duration": 10,
    "start_time": "2021-11-12T19:15:52.166Z"
   },
   {
    "duration": 224,
    "start_time": "2021-11-12T19:15:52.179Z"
   },
   {
    "duration": 7,
    "start_time": "2021-11-12T19:15:52.405Z"
   },
   {
    "duration": 626,
    "start_time": "2021-11-12T19:15:52.414Z"
   },
   {
    "duration": 7,
    "start_time": "2021-11-12T19:15:53.043Z"
   },
   {
    "duration": 9,
    "start_time": "2021-11-12T19:15:53.060Z"
   },
   {
    "duration": 9,
    "start_time": "2021-11-12T19:15:53.072Z"
   },
   {
    "duration": 235,
    "start_time": "2021-11-12T19:15:53.083Z"
   },
   {
    "duration": 242,
    "start_time": "2021-11-12T19:15:53.321Z"
   },
   {
    "duration": 41,
    "start_time": "2021-11-12T19:15:53.566Z"
   },
   {
    "duration": 16,
    "start_time": "2021-11-12T19:15:53.609Z"
   },
   {
    "duration": 245,
    "start_time": "2021-11-12T19:15:53.628Z"
   },
   {
    "duration": 8,
    "start_time": "2021-11-12T19:15:53.875Z"
   },
   {
    "duration": 17,
    "start_time": "2021-11-12T19:15:53.885Z"
   },
   {
    "duration": 8,
    "start_time": "2021-11-12T19:15:53.905Z"
   },
   {
    "duration": 13,
    "start_time": "2021-11-12T19:15:53.915Z"
   },
   {
    "duration": 34,
    "start_time": "2021-11-12T19:15:53.930Z"
   },
   {
    "duration": 15,
    "start_time": "2021-11-12T19:15:53.967Z"
   },
   {
    "duration": 11,
    "start_time": "2021-11-12T19:15:53.985Z"
   },
   {
    "duration": 12,
    "start_time": "2021-11-12T19:15:53.999Z"
   },
   {
    "duration": 46,
    "start_time": "2021-11-12T19:15:54.013Z"
   },
   {
    "duration": 15,
    "start_time": "2021-11-12T19:15:54.062Z"
   },
   {
    "duration": 13,
    "start_time": "2021-11-12T19:15:54.079Z"
   },
   {
    "duration": 9,
    "start_time": "2021-11-12T19:22:19.955Z"
   },
   {
    "duration": 8,
    "start_time": "2021-11-12T19:30:04.489Z"
   },
   {
    "duration": 11,
    "start_time": "2021-11-12T19:30:24.198Z"
   },
   {
    "duration": 8,
    "start_time": "2021-11-12T19:30:42.164Z"
   },
   {
    "duration": 14,
    "start_time": "2021-11-12T19:31:01.626Z"
   },
   {
    "duration": 1113,
    "start_time": "2021-11-13T03:51:18.925Z"
   },
   {
    "duration": 34,
    "start_time": "2021-11-13T03:51:20.040Z"
   },
   {
    "duration": 11,
    "start_time": "2021-11-13T03:51:20.076Z"
   },
   {
    "duration": 13,
    "start_time": "2021-11-13T03:51:20.090Z"
   },
   {
    "duration": 46,
    "start_time": "2021-11-13T03:51:20.105Z"
   },
   {
    "duration": 6,
    "start_time": "2021-11-13T03:51:20.153Z"
   },
   {
    "duration": 11,
    "start_time": "2021-11-13T03:51:20.161Z"
   },
   {
    "duration": 16,
    "start_time": "2021-11-13T03:51:20.175Z"
   },
   {
    "duration": 24,
    "start_time": "2021-11-13T03:51:20.193Z"
   },
   {
    "duration": 11,
    "start_time": "2021-11-13T03:51:20.219Z"
   },
   {
    "duration": 8,
    "start_time": "2021-11-13T03:51:20.232Z"
   },
   {
    "duration": 212,
    "start_time": "2021-11-13T03:51:20.242Z"
   },
   {
    "duration": 10,
    "start_time": "2021-11-13T03:51:20.456Z"
   },
   {
    "duration": 299,
    "start_time": "2021-11-13T03:51:20.468Z"
   },
   {
    "duration": 296,
    "start_time": "2021-11-13T03:51:20.769Z"
   },
   {
    "duration": 17,
    "start_time": "2021-11-13T03:51:21.067Z"
   },
   {
    "duration": 384,
    "start_time": "2021-11-13T03:51:21.086Z"
   },
   {
    "duration": 160,
    "start_time": "2021-11-13T03:51:21.472Z"
   },
   {
    "duration": 13,
    "start_time": "2021-11-13T03:51:21.634Z"
   },
   {
    "duration": 4,
    "start_time": "2021-11-13T03:51:21.663Z"
   },
   {
    "duration": 9,
    "start_time": "2021-11-13T03:51:21.669Z"
   },
   {
    "duration": 298,
    "start_time": "2021-11-13T03:51:21.679Z"
   },
   {
    "duration": 491,
    "start_time": "2021-11-13T03:51:21.981Z"
   },
   {
    "duration": 101,
    "start_time": "2021-11-13T03:51:22.474Z"
   },
   {
    "duration": 5,
    "start_time": "2021-11-13T03:51:22.577Z"
   },
   {
    "duration": 421,
    "start_time": "2021-11-13T03:51:22.583Z"
   },
   {
    "duration": 6,
    "start_time": "2021-11-13T03:51:23.005Z"
   },
   {
    "duration": 6,
    "start_time": "2021-11-13T03:51:23.013Z"
   },
   {
    "duration": 6,
    "start_time": "2021-11-13T03:51:23.021Z"
   },
   {
    "duration": 109,
    "start_time": "2021-11-13T03:51:23.028Z"
   },
   {
    "duration": 6,
    "start_time": "2021-11-13T03:51:23.140Z"
   },
   {
    "duration": 440,
    "start_time": "2021-11-13T03:51:23.148Z"
   },
   {
    "duration": 5,
    "start_time": "2021-11-13T03:51:23.590Z"
   },
   {
    "duration": 10,
    "start_time": "2021-11-13T03:51:23.596Z"
   },
   {
    "duration": 6,
    "start_time": "2021-11-13T03:51:23.608Z"
   },
   {
    "duration": 116,
    "start_time": "2021-11-13T03:51:23.615Z"
   },
   {
    "duration": 138,
    "start_time": "2021-11-13T03:51:23.733Z"
   },
   {
    "duration": 21,
    "start_time": "2021-11-13T03:51:23.873Z"
   },
   {
    "duration": 14,
    "start_time": "2021-11-13T03:51:23.896Z"
   },
   {
    "duration": 103,
    "start_time": "2021-11-13T03:51:23.912Z"
   },
   {
    "duration": 6,
    "start_time": "2021-11-13T03:51:24.017Z"
   },
   {
    "duration": 15,
    "start_time": "2021-11-13T03:51:24.024Z"
   },
   {
    "duration": 5,
    "start_time": "2021-11-13T03:51:24.041Z"
   },
   {
    "duration": 21,
    "start_time": "2021-11-13T03:51:24.047Z"
   },
   {
    "duration": 7,
    "start_time": "2021-11-13T03:51:24.070Z"
   },
   {
    "duration": 11,
    "start_time": "2021-11-13T03:51:24.078Z"
   },
   {
    "duration": 8,
    "start_time": "2021-11-13T03:51:24.091Z"
   },
   {
    "duration": 9,
    "start_time": "2021-11-13T03:51:24.100Z"
   },
   {
    "duration": 4,
    "start_time": "2021-11-13T03:51:24.111Z"
   },
   {
    "duration": 17,
    "start_time": "2021-11-13T03:51:24.117Z"
   },
   {
    "duration": 36,
    "start_time": "2021-11-13T03:51:24.136Z"
   }
  ],
  "kernelspec": {
   "display_name": "Python 3",
   "language": "python",
   "name": "python3"
  },
  "language_info": {
   "codemirror_mode": {
    "name": "ipython",
    "version": 3
   },
   "file_extension": ".py",
   "mimetype": "text/x-python",
   "name": "python",
   "nbconvert_exporter": "python",
   "pygments_lexer": "ipython3",
   "version": "3.8.8"
  },
  "toc": {
   "base_numbering": 1,
   "nav_menu": {},
   "number_sections": true,
   "sideBar": true,
   "skip_h1_title": true,
   "title_cell": "Table of Contents",
   "title_sidebar": "Contents",
   "toc_cell": false,
   "toc_position": {
    "height": "calc(100% - 180px)",
    "left": "10px",
    "top": "150px",
    "width": "239px"
   },
   "toc_section_display": true,
   "toc_window_display": false
  }
 },
 "nbformat": 4,
 "nbformat_minor": 2
}
