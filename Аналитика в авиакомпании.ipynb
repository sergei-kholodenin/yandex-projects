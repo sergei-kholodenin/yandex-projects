{
 "cells": [
  {
   "cell_type": "markdown",
   "metadata": {},
   "source": [
    "<div class=\"alert alert-success\">\n",
    "<font size=\"5\"><b>Комментарий ревьюера 2</b></font>\n",
    "\n",
    "Привет еще раз. Спасибо, что доделал работу. Оформление комментариев по работе сохраняется. Только обозначим, что это вторая итерация. \n",
    "\n",
    "</div>"
   ]
  },
  {
   "cell_type": "markdown",
   "metadata": {},
   "source": [
    "<div class=\"alert alert-success\">\n",
    "<font size=\"5\"><b>Комментарий ревьюера</b></font>\n",
    "\n",
    "Привет, Сергей! Спасибо, что прислал задание:) Меня зовут Слепцов Артем, и я буду проверять твой проект) Если ты дошел до данного анализа, то ты уже проделал большую работу над проектом в тренажере. Давай завершим исследование посредством инструментов Python. Будет здорово, если ты, надеюсь, не против, если я буду на ты,  будешь отвечать на комментарии и участвовать в диалоге. \n",
    "\n",
    "Мои комментарии обозначены пометкой **Комментарий ревьюера**. Далее в файле ты сможешь найти их в похожих ячейках (если фон комментария <font color=green>зелёный</font> - всё сделано правильно. Рекомендации укажу таким же цветом; <font color=orange>оранжевый</font> - некритичные замечания. Если таких замечаний меньше трех - проект может быть принят без их отработки; <font color=red>красный</font> - нужно переделать). Не удаляй эти комментарии и постарайся учесть их в ходе выполнения данного проекта. \n",
    "\n",
    "</div>"
   ]
  },
  {
   "cell_type": "markdown",
   "metadata": {},
   "source": [
    "<div class=\"alert alert-success\">\n",
    "<font size=\"5\"><b>Комментарий студента</b></font>\n",
    "\n",
    "Привет, Артем! Спасибо за ОС, постарался учесть все твои комментарии.\n",
    "</div>"
   ]
  },
  {
   "cell_type": "markdown",
   "metadata": {},
   "source": [
    "# Аналитика в авиакомпании"
   ]
  },
  {
   "cell_type": "markdown",
   "metadata": {},
   "source": [
    "У меня есть файлы, в которых содержатся результаты запросов из предыдущих заданий. Проведу анализ данных в этих таблицах.   \n",
    "   \n",
    "**Описание данных**   \n",
    "    \n",
    "Таблица *query_1* — информация о моделях самолетов и количестве рейсов на них:   \n",
    "   \n",
    "    model — название модели самолета\n",
    "    flights_amount — количество рейсов на данной модели\n",
    "\n",
    "Таблица *query_3* — информация о городах и рейсах из них:   \n",
    "   \n",
    "    city — город отправления\n",
    "    average_flights — среднее количество рейсов в день из данного города\n"
   ]
  },
  {
   "cell_type": "markdown",
   "metadata": {},
   "source": [
    "<div class=\"alert alert-danger\">\n",
    "<font size=\"5\"><b>Комментарий ревьюера</b></font>\n",
    "\n",
    "Стоит делать краткое вступление в работу, описание того, что надо делать. В работе необходимо приводить информацию о входных данных: какие столбцы есть в таблице, их названия и какую информацию они несут. Так работа выглядит презентабельно. Подробнее смотри методичку по оформлению проектов. Она располагается в Notion в разделе \"Как оформлять проект\".\n",
    "\n",
    "</div>"
   ]
  },
  {
   "cell_type": "markdown",
   "metadata": {},
   "source": [
    "<div class=\"alert alert-success\">\n",
    "<font size=\"5\"><b>Комментарий студента</b></font>\n",
    "\n",
    "Добавил=)\n",
    "</div>"
   ]
  },
  {
   "cell_type": "markdown",
   "metadata": {},
   "source": [
    "<div class=\"alert alert-success\">\n",
    "<font size=\"5\"><b>Комментарий ревьюера 2</b></font>\n",
    "\n",
    "Вступление в работу очень важно. Так ты поясняешь то, чему она посвящена. Цель работы также хорошо бы вынести в отдельный блок вступления. Еще лучше будет, если ты сделаешь план работы с гиперссылками. Да, есть плагин ToC. Но хорошо бы уметь реализовывать интерактивный план проекта вручную. Как это реализовать - смотри по [ссылке](https://stackoverflow.com/questions/49535664/how-to-hyperlink-in-a-jupyter-notebook/49717704).\n",
    "\n",
    "</div>"
   ]
  },
  {
   "cell_type": "markdown",
   "metadata": {},
   "source": [
    "## Изучение данных в таблицах"
   ]
  },
  {
   "cell_type": "markdown",
   "metadata": {},
   "source": [
    "Прочитаем данные и посмотрим информацию по таблицам."
   ]
  },
  {
   "cell_type": "code",
   "execution_count": 1,
   "metadata": {},
   "outputs": [],
   "source": [
    "import pandas as pd\n",
    "import matplotlib.pyplot as plt\n",
    "\n",
    "df_1 = pd.read_csv('/datasets/query_1.csv')"
   ]
  },
  {
   "cell_type": "code",
   "execution_count": 2,
   "metadata": {},
   "outputs": [
    {
     "data": {
      "text/html": [
       "<div>\n",
       "<style scoped>\n",
       "    .dataframe tbody tr th:only-of-type {\n",
       "        vertical-align: middle;\n",
       "    }\n",
       "\n",
       "    .dataframe tbody tr th {\n",
       "        vertical-align: top;\n",
       "    }\n",
       "\n",
       "    .dataframe thead th {\n",
       "        text-align: right;\n",
       "    }\n",
       "</style>\n",
       "<table border=\"1\" class=\"dataframe\">\n",
       "  <thead>\n",
       "    <tr style=\"text-align: right;\">\n",
       "      <th></th>\n",
       "      <th>model</th>\n",
       "      <th>flights_amount</th>\n",
       "    </tr>\n",
       "  </thead>\n",
       "  <tbody>\n",
       "    <tr>\n",
       "      <td>0</td>\n",
       "      <td>Airbus A319-100</td>\n",
       "      <td>607</td>\n",
       "    </tr>\n",
       "    <tr>\n",
       "      <td>1</td>\n",
       "      <td>Airbus A321-200</td>\n",
       "      <td>960</td>\n",
       "    </tr>\n",
       "    <tr>\n",
       "      <td>2</td>\n",
       "      <td>Boeing 737-300</td>\n",
       "      <td>630</td>\n",
       "    </tr>\n",
       "    <tr>\n",
       "      <td>3</td>\n",
       "      <td>Boeing 767-300</td>\n",
       "      <td>600</td>\n",
       "    </tr>\n",
       "    <tr>\n",
       "      <td>4</td>\n",
       "      <td>Boeing 777-300</td>\n",
       "      <td>300</td>\n",
       "    </tr>\n",
       "    <tr>\n",
       "      <td>5</td>\n",
       "      <td>Bombardier CRJ-200</td>\n",
       "      <td>4446</td>\n",
       "    </tr>\n",
       "    <tr>\n",
       "      <td>6</td>\n",
       "      <td>Cessna 208 Caravan</td>\n",
       "      <td>4557</td>\n",
       "    </tr>\n",
       "    <tr>\n",
       "      <td>7</td>\n",
       "      <td>Sukhoi SuperJet-100</td>\n",
       "      <td>4185</td>\n",
       "    </tr>\n",
       "  </tbody>\n",
       "</table>\n",
       "</div>"
      ],
      "text/plain": [
       "                 model  flights_amount\n",
       "0      Airbus A319-100             607\n",
       "1      Airbus A321-200             960\n",
       "2       Boeing 737-300             630\n",
       "3       Boeing 767-300             600\n",
       "4       Boeing 777-300             300\n",
       "5   Bombardier CRJ-200            4446\n",
       "6   Cessna 208 Caravan            4557\n",
       "7  Sukhoi SuperJet-100            4185"
      ]
     },
     "execution_count": 2,
     "metadata": {},
     "output_type": "execute_result"
    }
   ],
   "source": [
    "df_1"
   ]
  },
  {
   "cell_type": "code",
   "execution_count": 3,
   "metadata": {
    "scrolled": false
   },
   "outputs": [
    {
     "name": "stdout",
     "output_type": "stream",
     "text": [
      "<class 'pandas.core.frame.DataFrame'>\n",
      "RangeIndex: 8 entries, 0 to 7\n",
      "Data columns (total 2 columns):\n",
      "model             8 non-null object\n",
      "flights_amount    8 non-null int64\n",
      "dtypes: int64(1), object(1)\n",
      "memory usage: 256.0+ bytes\n"
     ]
    }
   ],
   "source": [
    "df_1.info()"
   ]
  },
  {
   "cell_type": "code",
   "execution_count": 4,
   "metadata": {},
   "outputs": [],
   "source": [
    "df_2 = pd.read_csv('/datasets/query_3.csv')"
   ]
  },
  {
   "cell_type": "code",
   "execution_count": 5,
   "metadata": {},
   "outputs": [
    {
     "data": {
      "text/html": [
       "<div>\n",
       "<style scoped>\n",
       "    .dataframe tbody tr th:only-of-type {\n",
       "        vertical-align: middle;\n",
       "    }\n",
       "\n",
       "    .dataframe tbody tr th {\n",
       "        vertical-align: top;\n",
       "    }\n",
       "\n",
       "    .dataframe thead th {\n",
       "        text-align: right;\n",
       "    }\n",
       "</style>\n",
       "<table border=\"1\" class=\"dataframe\">\n",
       "  <thead>\n",
       "    <tr style=\"text-align: right;\">\n",
       "      <th></th>\n",
       "      <th>city</th>\n",
       "      <th>average_flights</th>\n",
       "    </tr>\n",
       "  </thead>\n",
       "  <tbody>\n",
       "    <tr>\n",
       "      <td>0</td>\n",
       "      <td>Абакан</td>\n",
       "      <td>3.870968</td>\n",
       "    </tr>\n",
       "    <tr>\n",
       "      <td>1</td>\n",
       "      <td>Анадырь</td>\n",
       "      <td>1.000000</td>\n",
       "    </tr>\n",
       "    <tr>\n",
       "      <td>2</td>\n",
       "      <td>Анапа</td>\n",
       "      <td>2.161290</td>\n",
       "    </tr>\n",
       "    <tr>\n",
       "      <td>3</td>\n",
       "      <td>Архангельск</td>\n",
       "      <td>5.354839</td>\n",
       "    </tr>\n",
       "    <tr>\n",
       "      <td>4</td>\n",
       "      <td>Астрахань</td>\n",
       "      <td>2.451613</td>\n",
       "    </tr>\n",
       "    <tr>\n",
       "      <td>...</td>\n",
       "      <td>...</td>\n",
       "      <td>...</td>\n",
       "    </tr>\n",
       "    <tr>\n",
       "      <td>96</td>\n",
       "      <td>Чита</td>\n",
       "      <td>1.580645</td>\n",
       "    </tr>\n",
       "    <tr>\n",
       "      <td>97</td>\n",
       "      <td>Элиста</td>\n",
       "      <td>4.870968</td>\n",
       "    </tr>\n",
       "    <tr>\n",
       "      <td>98</td>\n",
       "      <td>Южно-Сахалинск</td>\n",
       "      <td>4.290323</td>\n",
       "    </tr>\n",
       "    <tr>\n",
       "      <td>99</td>\n",
       "      <td>Якутск</td>\n",
       "      <td>2.741935</td>\n",
       "    </tr>\n",
       "    <tr>\n",
       "      <td>100</td>\n",
       "      <td>Ярославль</td>\n",
       "      <td>1.322581</td>\n",
       "    </tr>\n",
       "  </tbody>\n",
       "</table>\n",
       "<p>101 rows × 2 columns</p>\n",
       "</div>"
      ],
      "text/plain": [
       "               city  average_flights\n",
       "0            Абакан         3.870968\n",
       "1           Анадырь         1.000000\n",
       "2             Анапа         2.161290\n",
       "3       Архангельск         5.354839\n",
       "4         Астрахань         2.451613\n",
       "..              ...              ...\n",
       "96             Чита         1.580645\n",
       "97           Элиста         4.870968\n",
       "98   Южно-Сахалинск         4.290323\n",
       "99           Якутск         2.741935\n",
       "100       Ярославль         1.322581\n",
       "\n",
       "[101 rows x 2 columns]"
      ]
     },
     "execution_count": 5,
     "metadata": {},
     "output_type": "execute_result"
    }
   ],
   "source": [
    "df_2"
   ]
  },
  {
   "cell_type": "code",
   "execution_count": 6,
   "metadata": {
    "scrolled": false
   },
   "outputs": [
    {
     "name": "stdout",
     "output_type": "stream",
     "text": [
      "<class 'pandas.core.frame.DataFrame'>\n",
      "RangeIndex: 101 entries, 0 to 100\n",
      "Data columns (total 2 columns):\n",
      "city               101 non-null object\n",
      "average_flights    101 non-null float64\n",
      "dtypes: float64(1), object(1)\n",
      "memory usage: 1.7+ KB\n"
     ]
    }
   ],
   "source": [
    "df_2.info()"
   ]
  },
  {
   "cell_type": "code",
   "execution_count": 7,
   "metadata": {},
   "outputs": [],
   "source": [
    "df_2['average_flights'] = df_2['average_flights'].astype('float16')"
   ]
  },
  {
   "cell_type": "code",
   "execution_count": 8,
   "metadata": {
    "scrolled": false
   },
   "outputs": [
    {
     "name": "stdout",
     "output_type": "stream",
     "text": [
      "<class 'pandas.core.frame.DataFrame'>\n",
      "RangeIndex: 101 entries, 0 to 100\n",
      "Data columns (total 2 columns):\n",
      "city               101 non-null object\n",
      "average_flights    101 non-null float16\n",
      "dtypes: float16(1), object(1)\n",
      "memory usage: 1.1+ KB\n"
     ]
    }
   ],
   "source": [
    "df_2.info()"
   ]
  },
  {
   "cell_type": "markdown",
   "metadata": {},
   "source": [
    "Из данных видно, что в каждой из таблиц по 2 столбца, в первой таблице представлены модели самолетов с типом данных object, второй столбец int. Типы данных заменять не надо. Во второй таблице названия городов и среднее количество прилетов в день. Формат столбцов object и float (с плавающей точкой). Типы данных также корректны. Уменьшим объем памяти за счет изменения столбца average_flights на тип float16."
   ]
  },
  {
   "cell_type": "markdown",
   "metadata": {},
   "source": [
    "<div class=\"alert alert-success\">\n",
    "<font size=\"5\"><b>Комментарий ревьюера</b></font>\n",
    "\n",
    "Первый взгляд на данные выполнен. Видим, что в `average_fligts` довольно небольшие вещественные цисла. Можно поменять формат для этого поля с `float64` на, например `float16`. Данное действие позволит нам уменьшить объем занимаемой памяти в 4 раза для данного параметра. \n",
    "\n",
    "</div>"
   ]
  },
  {
   "cell_type": "markdown",
   "metadata": {},
   "source": [
    "<div class=\"alert alert-success\">\n",
    "<font size=\"5\"><b>Комментарий студента</b></font>\n",
    "\n",
    "Последовал совету=)\n",
    "</div>"
   ]
  },
  {
   "cell_type": "markdown",
   "metadata": {},
   "source": [
    "<div class=\"alert alert-success\">\n",
    "<font size=\"5\"><b>Комментарий ревьюера 2</b></font>\n",
    "\n",
    "👍 \n",
    "\n",
    "</div>"
   ]
  },
  {
   "cell_type": "markdown",
   "metadata": {},
   "source": [
    "## ТОП-10 городов по количеству рейсов"
   ]
  },
  {
   "cell_type": "markdown",
   "metadata": {},
   "source": [
    "Выберем топ-10 городов по количеству рейсов."
   ]
  },
  {
   "cell_type": "code",
   "execution_count": 9,
   "metadata": {},
   "outputs": [
    {
     "data": {
      "text/html": [
       "<div>\n",
       "<style scoped>\n",
       "    .dataframe tbody tr th:only-of-type {\n",
       "        vertical-align: middle;\n",
       "    }\n",
       "\n",
       "    .dataframe tbody tr th {\n",
       "        vertical-align: top;\n",
       "    }\n",
       "\n",
       "    .dataframe thead th {\n",
       "        text-align: right;\n",
       "    }\n",
       "</style>\n",
       "<table border=\"1\" class=\"dataframe\">\n",
       "  <thead>\n",
       "    <tr style=\"text-align: right;\">\n",
       "      <th></th>\n",
       "      <th>city</th>\n",
       "      <th>average_flights</th>\n",
       "    </tr>\n",
       "  </thead>\n",
       "  <tbody>\n",
       "    <tr>\n",
       "      <td>43</td>\n",
       "      <td>Москва</td>\n",
       "      <td>129.750000</td>\n",
       "    </tr>\n",
       "    <tr>\n",
       "      <td>70</td>\n",
       "      <td>Санкт-Петербург</td>\n",
       "      <td>31.156250</td>\n",
       "    </tr>\n",
       "    <tr>\n",
       "      <td>54</td>\n",
       "      <td>Новосибирск</td>\n",
       "      <td>17.328125</td>\n",
       "    </tr>\n",
       "    <tr>\n",
       "      <td>33</td>\n",
       "      <td>Красноярск</td>\n",
       "      <td>11.578125</td>\n",
       "    </tr>\n",
       "    <tr>\n",
       "      <td>20</td>\n",
       "      <td>Екатеринбург</td>\n",
       "      <td>11.320312</td>\n",
       "    </tr>\n",
       "    <tr>\n",
       "      <td>67</td>\n",
       "      <td>Ростов-на-Дону</td>\n",
       "      <td>10.195312</td>\n",
       "    </tr>\n",
       "    <tr>\n",
       "      <td>63</td>\n",
       "      <td>Пермь</td>\n",
       "      <td>10.132812</td>\n",
       "    </tr>\n",
       "    <tr>\n",
       "      <td>10</td>\n",
       "      <td>Брянск</td>\n",
       "      <td>10.000000</td>\n",
       "    </tr>\n",
       "    <tr>\n",
       "      <td>74</td>\n",
       "      <td>Сочи</td>\n",
       "      <td>9.609375</td>\n",
       "    </tr>\n",
       "    <tr>\n",
       "      <td>84</td>\n",
       "      <td>Ульяновск</td>\n",
       "      <td>9.578125</td>\n",
       "    </tr>\n",
       "  </tbody>\n",
       "</table>\n",
       "</div>"
      ],
      "text/plain": [
       "               city  average_flights\n",
       "43           Москва       129.750000\n",
       "70  Санкт-Петербург        31.156250\n",
       "54      Новосибирск        17.328125\n",
       "33       Красноярск        11.578125\n",
       "20     Екатеринбург        11.320312\n",
       "67   Ростов-на-Дону        10.195312\n",
       "63            Пермь        10.132812\n",
       "10           Брянск        10.000000\n",
       "74             Сочи         9.609375\n",
       "84        Ульяновск         9.578125"
      ]
     },
     "execution_count": 9,
     "metadata": {},
     "output_type": "execute_result"
    }
   ],
   "source": [
    "df_2_top_10 = df_2.sort_values(by='average_flights', ascending=False).head(10)\n",
    "df_2_top_10"
   ]
  },
  {
   "cell_type": "markdown",
   "metadata": {},
   "source": [
    "## Анализ данных по графикам"
   ]
  },
  {
   "cell_type": "markdown",
   "metadata": {},
   "source": [
    "Построим график с моделями самолетов и рейсами на них."
   ]
  },
  {
   "cell_type": "code",
   "execution_count": 10,
   "metadata": {},
   "outputs": [
    {
     "data": {
      "image/png": "[encoded data removed]",
      "text/plain": [
       "<Figure size 432x288 with 1 Axes>"
      ]
     },
     "metadata": {
      "needs_background": "light"
     },
     "output_type": "display_data"
    }
   ],
   "source": [
    "plt.bar(df_1['model'],df_1['flights_amount'])\n",
    "plt.xticks(rotation=90)\n",
    "plt.title('Модели самолетов и рейсы')\n",
    "plt.xlabel('Модели самолетов')\n",
    "plt.ylabel('Количество рейсов')\n",
    "plt.show()"
   ]
  },
  {
   "cell_type": "markdown",
   "metadata": {},
   "source": [
    "Из графика видно, что боинги и аэробусы менее популярны на данном направлении. Более 4000 полетов совершено на моделях Sukhoi, Cessna и Bombardier. Последние два - это маленькие самолеты для региональных перелетов, Сухой чуть больше (87-108 пассажиров), соответственно он наиболее вместителен. Объективно самолеты малофюзеляжные дешевле в обслуживании, более мобильны по количеству пассажиров (например города, где маленький спрос, лочинее обслуживать более маленькими самолетами и менее дорогостоящими, что в свою очередь снижает стоимость билета)."
   ]
  },
  {
   "cell_type": "markdown",
   "metadata": {},
   "source": [
    "<div class=\"alert alert-warning\">\n",
    "<font size=\"5\"><b>Комментарий ревьюера</b></font>\n",
    " \n",
    "Подумай, из-за чего формируется разница между самолетами. Старайся не только описывать результат, но и трактовать его. \n",
    "\n",
    "</div>"
   ]
  },
  {
   "cell_type": "markdown",
   "metadata": {},
   "source": [
    "<div class=\"alert alert-success\">\n",
    "<font size=\"5\"><b>Комментарий студента</b></font>\n",
    "\n",
    "Дополнил комментарий=)\n",
    "</div>"
   ]
  },
  {
   "cell_type": "markdown",
   "metadata": {},
   "source": [
    "<div class=\"alert alert-success\">\n",
    "<font size=\"5\"><b>Комментарий ревьюера 2</b></font>\n",
    "\n",
    "Соглашусь с твоей трактовкой получаемого результата. \n",
    "\n",
    "</div>"
   ]
  },
  {
   "cell_type": "markdown",
   "metadata": {},
   "source": [
    "Теперь постороим график зависимости между городами и количеством рейсов."
   ]
  },
  {
   "cell_type": "code",
   "execution_count": 11,
   "metadata": {},
   "outputs": [],
   "source": [
    "df_2 = df_2.sort_values(by=['average_flights'], ascending=True)"
   ]
  },
  {
   "cell_type": "code",
   "execution_count": 12,
   "metadata": {},
   "outputs": [
    {
     "data": {
      "image/png": "[encoded data removed]",
      "text/plain": [
       "<Figure size 360x864 with 1 Axes>"
      ]
     },
     "metadata": {
      "needs_background": "light"
     },
     "output_type": "display_data"
    }
   ],
   "source": [
    "plt.figure(figsize=(5,12))\n",
    "plt.rcParams['font.size'] = '7.3'\n",
    "plt.barh(df_2['city'],df_2['average_flights'])\n",
    "plt.xticks(rotation=90)\n",
    "plt.title('Города и рейсы', fontsize = 16)\n",
    "plt.xlabel('Среднее количество рейсов', fontsize = 16)\n",
    "plt.ylabel('Название города', fontsize = 16)\n",
    "plt.show()"
   ]
  },
  {
   "cell_type": "markdown",
   "metadata": {},
   "source": [
    "В общей масссе выделяются Москва (более 120) и Петербург (30), тут самое большое количество рейсов (города миллионеры) и далее идет Новосибирск - чуть больше 20, остальные города не превышают отметку в 20 полетов."
   ]
  },
  {
   "cell_type": "markdown",
   "metadata": {},
   "source": [
    "<div class=\"alert alert-danger\">\n",
    "<font size=\"5\"><b>Комментарий ревьюера</b></font>\n",
    "\n",
    "Стоит повернуть график. Иначе мы имеем слишком длинные названия по оси X, которые нагладываются друг на друга и их приходится поворачивать. Также стоит провести сортировку городов по убыванию числа полетов. Этоо позволит нам детальнее проанализировать информацию, а также будет куда легче сравнивать города между собой. \n",
    "\n",
    "</div>"
   ]
  },
  {
   "cell_type": "markdown",
   "metadata": {},
   "source": [
    "<div class=\"alert alert-success\">\n",
    "<font size=\"5\"><b>Комментарий студента</b></font>\n",
    "\n",
    "Перевернул=)\n",
    "</div>"
   ]
  },
  {
   "cell_type": "markdown",
   "metadata": {},
   "source": [
    "<div class=\"alert alert-success\">\n",
    "<font size=\"5\"><b>Комментарий ревьюера 2</b></font>\n",
    "\n",
    "Теперь получилась отличная визуализация!\n",
    "\n",
    "</div>"
   ]
  },
  {
   "cell_type": "code",
   "execution_count": 13,
   "metadata": {},
   "outputs": [
    {
     "data": {
      "image/png": "[encoded data removed]",
      "text/plain": [
       "<Figure size 360x720 with 1 Axes>"
      ]
     },
     "metadata": {
      "needs_background": "light"
     },
     "output_type": "display_data"
    }
   ],
   "source": [
    "plt.figure(figsize=(5,10))\n",
    "plt.rcParams['font.size'] = '16'\n",
    "plt.bar(df_2_top_10['city'],df_2_top_10['average_flights'])\n",
    "plt.xticks(rotation=90)\n",
    "plt.title('Города и рейсы')\n",
    "plt.xlabel('Название города')\n",
    "plt.ylabel('Среднее количество рейсов')\n",
    "plt.grid()\n",
    "plt.show()"
   ]
  },
  {
   "cell_type": "markdown",
   "metadata": {},
   "source": [
    "Мы видим, что Москва является общим хабом, куда летят со всех городов, а также транспортным узлом при международных перелетах. Ни один из городов в топе 10 не имеет даже половины такого же количества рейсов. Это связано с тем, что в Москве несколько аэропортов, также она является пересадочным узлом при международных перелетах. Чуть больше, чем у других помимо Москвы перелетов в Санкт-Петербурге и Новосибирске. Это скорее всего связано с крупностью городов и их крупными аэропортами. В каждом из них всего по одному аэропорту, поэтому пропускная способность ниже, чем в Москве."
   ]
  },
  {
   "cell_type": "markdown",
   "metadata": {},
   "source": [
    "<div class=\"alert alert-success\">\n",
    "<font size=\"5\"><b>Комментарий ревьюера</b></font>\n",
    "\n",
    "Соглашусь с твоим обоснованием получаемого результата. \n",
    "\n",
    "</div>"
   ]
  },
  {
   "cell_type": "markdown",
   "metadata": {},
   "source": [
    "## Выводы"
   ]
  },
  {
   "cell_type": "markdown",
   "metadata": {},
   "source": [
    "В ходе выполнения работы, мною был получен срез топа-10 городов, в которых среднее количество рейсов в день наибольшее по стране. Далее мною построены графики по каждой из 3-х таблиц, благодаря которым удалось вывести следующие выводы:\n",
    "\n",
    "1. Из графика видно, что боинги и аэробусы совершают меньше рейсов, т.к. они расчитаны на перелеты на большие расстояния и большую вместимость. Более 4000 полетов совершено на моделях Sukhoi, Cessna и Bombardier. Последние два - это маленькие самолеты для региональных перелетов, Сухой чуть больше (87-108 пассажиров), соответственно он наиболее вместителен. Это говорит о том, что наибольшее количество перелетов совершается на региональном уровне (внутри страны).\n",
    "2. В общей масссе выделяются Москва (более 120) и Петербург (30), тут самое большое количество рейсов (города миллионеры) и далее идет Новосибирск - чуть меньше 20, остальные города не превышают отметку в 10 полетов в день.\n",
    "3. Москва является общим хабом, куда летят со всех городов, а также транспортным узлом при международных перелетах. Ни один из городов в топе 10 не имеет даже половины такого же количества рейсов. Это связано с тем, что в Москве несколько аэропортов, также она является пересадочным узлом при международных перелетах. Чуть больше, чем у других помимо Москвы перелетов в Санкт-Петербурге и Новосибирске. Это скорее всего связано с крупностью городов и их крупными аэропортами. В каждом из них всего по одному аэропорту, поэтому пропускная способность ниже, чем в Москве."
   ]
  },
  {
   "cell_type": "markdown",
   "metadata": {},
   "source": [
    "<div class=\"alert alert-success\">\n",
    "<font size=\"5\"><b>Комментарий ревьюера</b></font>\n",
    "\n",
    "Выводы описаны грамотно. Приведены ответы на главные вопросы проекта. В выводах можно приводить полученные ранее значения, верно. Также можно расписать все, что было сделано в ходе проведения работы. \n",
    "\n",
    "</div>"
   ]
  },
  {
   "cell_type": "markdown",
   "metadata": {},
   "source": [
    "<div class=\"alert alert-success\">\n",
    "<font size=\"5\"><b>Комментарий ревьюера</b></font>\n",
    "\n",
    "Повторюсь, основная работа тобой уже проделана в тренажере. Молодец, что ты его прошел. Работы в плане кода тут у нас было немного. Удели внимание красным комментариям. Как сделаешь это, присылай работу снова :)\n",
    "    \n",
    "</div>"
   ]
  },
  {
   "cell_type": "markdown",
   "metadata": {},
   "source": [
    "<div class=\"alert alert-success\">\n",
    "<font size=\"5\"><b>Комментарий ревьюера 2</b></font>\n",
    "\n",
    "Помарки исправлены, и теперь работа выполнена хорошо. Ты здорово поработал, молодец. Продолжай в том же духе! Успехов в дальнейших проектах :)\n",
    "\n",
    "</div>\n",
    "   "
   ]
  }
 ],
 "metadata": {
  "ExecuteTimeLog": [
   {
    "duration": 741,
    "start_time": "2021-10-04T10:22:01.306Z"
   },
   {
    "duration": 18,
    "start_time": "2021-10-04T10:22:08.368Z"
   },
   {
    "duration": 8,
    "start_time": "2021-10-04T10:26:09.516Z"
   },
   {
    "duration": 17,
    "start_time": "2021-10-04T10:27:20.381Z"
   },
   {
    "duration": 10,
    "start_time": "2021-10-04T10:27:23.029Z"
   },
   {
    "duration": 438,
    "start_time": "2021-10-04T10:28:05.381Z"
   },
   {
    "duration": 16,
    "start_time": "2021-10-04T10:28:08.039Z"
   },
   {
    "duration": 13,
    "start_time": "2021-10-04T10:28:10.350Z"
   },
   {
    "duration": 9,
    "start_time": "2021-10-04T10:28:27.054Z"
   },
   {
    "duration": 332,
    "start_time": "2021-10-04T10:35:56.900Z"
   },
   {
    "duration": 12,
    "start_time": "2021-10-04T10:36:32.584Z"
   },
   {
    "duration": 134,
    "start_time": "2021-10-04T10:40:14.979Z"
   },
   {
    "duration": 276,
    "start_time": "2021-10-04T10:42:28.920Z"
   },
   {
    "duration": 234,
    "start_time": "2021-10-04T10:46:53.410Z"
   },
   {
    "duration": 281,
    "start_time": "2021-10-04T10:48:28.679Z"
   },
   {
    "duration": 285,
    "start_time": "2021-10-04T10:49:15.090Z"
   },
   {
    "duration": 267,
    "start_time": "2021-10-04T10:50:49.367Z"
   },
   {
    "duration": 2251,
    "start_time": "2021-10-04T10:59:57.894Z"
   },
   {
    "duration": 2424,
    "start_time": "2021-10-04T11:02:27.126Z"
   },
   {
    "duration": 800,
    "start_time": "2021-10-04T11:03:02.184Z"
   },
   {
    "duration": 2609,
    "start_time": "2021-10-04T11:03:25.503Z"
   },
   {
    "duration": 2139,
    "start_time": "2021-10-04T11:05:15.406Z"
   },
   {
    "duration": 2298,
    "start_time": "2021-10-04T11:05:26.822Z"
   },
   {
    "duration": 2254,
    "start_time": "2021-10-04T11:09:23.016Z"
   },
   {
    "duration": 2240,
    "start_time": "2021-10-04T11:09:34.186Z"
   },
   {
    "duration": 2234,
    "start_time": "2021-10-04T11:09:45.866Z"
   },
   {
    "duration": 2184,
    "start_time": "2021-10-04T11:10:50.698Z"
   },
   {
    "duration": 284,
    "start_time": "2021-10-04T11:15:19.786Z"
   },
   {
    "duration": 276,
    "start_time": "2021-10-04T11:15:55.851Z"
   },
   {
    "duration": 362,
    "start_time": "2021-10-04T11:16:31.768Z"
   },
   {
    "duration": 387,
    "start_time": "2021-10-04T11:17:13.628Z"
   },
   {
    "duration": 350,
    "start_time": "2021-10-04T11:18:06.937Z"
   },
   {
    "duration": 944,
    "start_time": "2021-10-04T11:28:17.048Z"
   },
   {
    "duration": 15,
    "start_time": "2021-10-04T11:28:17.995Z"
   },
   {
    "duration": 10,
    "start_time": "2021-10-04T11:28:18.013Z"
   },
   {
    "duration": 18,
    "start_time": "2021-10-04T11:28:18.025Z"
   },
   {
    "duration": 14,
    "start_time": "2021-10-04T11:28:18.045Z"
   },
   {
    "duration": 22,
    "start_time": "2021-10-04T11:28:18.062Z"
   },
   {
    "duration": 11,
    "start_time": "2021-10-04T11:28:18.087Z"
   },
   {
    "duration": 300,
    "start_time": "2021-10-04T11:28:18.101Z"
   },
   {
    "duration": 2230,
    "start_time": "2021-10-04T11:28:18.403Z"
   },
   {
    "duration": 450,
    "start_time": "2021-10-04T11:28:20.635Z"
   },
   {
    "duration": 110,
    "start_time": "2021-10-04T12:38:18.565Z"
   },
   {
    "duration": 126,
    "start_time": "2021-10-04T12:38:37.705Z"
   },
   {
    "duration": 123,
    "start_time": "2021-10-04T12:38:51.347Z"
   },
   {
    "duration": 119,
    "start_time": "2021-10-04T12:39:44.379Z"
   },
   {
    "duration": 5,
    "start_time": "2021-10-04T12:41:30.636Z"
   },
   {
    "duration": 8,
    "start_time": "2021-10-04T12:41:44.672Z"
   },
   {
    "duration": 133,
    "start_time": "2021-10-04T13:14:47.592Z"
   },
   {
    "duration": 2190,
    "start_time": "2021-10-04T13:18:35.159Z"
   },
   {
    "duration": 2302,
    "start_time": "2021-10-04T13:19:02.911Z"
   },
   {
    "duration": 2211,
    "start_time": "2021-10-04T13:19:18.240Z"
   },
   {
    "duration": 519,
    "start_time": "2021-10-04T13:25:25.307Z"
   },
   {
    "duration": 2349,
    "start_time": "2021-10-04T13:25:40.174Z"
   },
   {
    "duration": 407,
    "start_time": "2021-10-04T13:28:47.798Z"
   },
   {
    "duration": 2165,
    "start_time": "2021-10-04T13:28:54.425Z"
   },
   {
    "duration": 2573,
    "start_time": "2021-10-04T13:34:20.209Z"
   },
   {
    "duration": 648,
    "start_time": "2021-10-04T13:38:02.490Z"
   },
   {
    "duration": 1474,
    "start_time": "2021-10-04T13:38:36.448Z"
   },
   {
    "duration": 3546,
    "start_time": "2021-10-04T13:39:11.776Z"
   },
   {
    "duration": 2142,
    "start_time": "2021-10-04T13:42:53.736Z"
   },
   {
    "duration": 2130,
    "start_time": "2021-10-04T13:43:09.352Z"
   },
   {
    "duration": 2228,
    "start_time": "2021-10-04T13:43:23.421Z"
   },
   {
    "duration": 2162,
    "start_time": "2021-10-04T13:43:30.835Z"
   },
   {
    "duration": 2149,
    "start_time": "2021-10-04T13:43:43.191Z"
   },
   {
    "duration": 2171,
    "start_time": "2021-10-04T13:43:50.434Z"
   },
   {
    "duration": 5,
    "start_time": "2021-10-04T13:44:53.364Z"
   },
   {
    "duration": 2250,
    "start_time": "2021-10-04T13:44:54.768Z"
   },
   {
    "duration": 5,
    "start_time": "2021-10-04T13:45:10.754Z"
   },
   {
    "duration": 2143,
    "start_time": "2021-10-04T13:45:14.866Z"
   },
   {
    "duration": 2154,
    "start_time": "2021-10-04T13:45:26.081Z"
   },
   {
    "duration": 2219,
    "start_time": "2021-10-04T13:46:12.977Z"
   },
   {
    "duration": 2230,
    "start_time": "2021-10-04T13:46:41.932Z"
   },
   {
    "duration": 2154,
    "start_time": "2021-10-04T13:46:54.670Z"
   },
   {
    "duration": 2108,
    "start_time": "2021-10-04T13:47:03.844Z"
   },
   {
    "duration": 1023,
    "start_time": "2021-10-04T13:51:54.914Z"
   },
   {
    "duration": 15,
    "start_time": "2021-10-04T13:51:55.940Z"
   },
   {
    "duration": 16,
    "start_time": "2021-10-04T13:51:55.960Z"
   },
   {
    "duration": 17,
    "start_time": "2021-10-04T13:51:55.982Z"
   },
   {
    "duration": 15,
    "start_time": "2021-10-04T13:51:56.002Z"
   },
   {
    "duration": 15,
    "start_time": "2021-10-04T13:51:56.020Z"
   },
   {
    "duration": 8,
    "start_time": "2021-10-04T13:51:56.038Z"
   },
   {
    "duration": 33,
    "start_time": "2021-10-04T13:51:56.050Z"
   },
   {
    "duration": 15,
    "start_time": "2021-10-04T13:51:56.086Z"
   },
   {
    "duration": 272,
    "start_time": "2021-10-04T13:51:56.104Z"
   },
   {
    "duration": 5,
    "start_time": "2021-10-04T13:51:56.383Z"
   },
   {
    "duration": 2186,
    "start_time": "2021-10-04T13:51:56.390Z"
   },
   {
    "duration": 418,
    "start_time": "2021-10-04T13:51:58.583Z"
   }
  ],
  "kernelspec": {
   "display_name": "Python 3",
   "language": "python",
   "name": "python3"
  },
  "language_info": {
   "codemirror_mode": {
    "name": "ipython",
    "version": 3
   },
   "file_extension": ".py",
   "mimetype": "text/x-python",
   "name": "python",
   "nbconvert_exporter": "python",
   "pygments_lexer": "ipython3",
   "version": "3.8.8"
  },
  "toc": {
   "base_numbering": 1,
   "nav_menu": {},
   "number_sections": true,
   "sideBar": true,
   "skip_h1_title": true,
   "title_cell": "Table of Contents",
   "title_sidebar": "Contents",
   "toc_cell": false,
   "toc_position": {},
   "toc_section_display": true,
   "toc_window_display": false
  }
 },
 "nbformat": 4,
 "nbformat_minor": 2
}
