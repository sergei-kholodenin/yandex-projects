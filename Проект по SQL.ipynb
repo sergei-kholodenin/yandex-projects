{
 "cells": [
  {
   "cell_type": "markdown",
   "metadata": {},
   "source": [
    "**Сергей, привет!**\n",
    "\n",
    "Это опять я, Алексей Каргин, я буду проверять проект по **SQL** в рамках финального спринта. Как всегда для удобства я оставлю комментарии в отдельных ячейках Markdown с заголовком «Комментарий ревьюера». Пожалуйста, не перемещай, не изменяй и не удаляй их - так наше общение будет более продуктивным. Я буду использовать цветовую разметку:\n",
    "\n",
    "<div class=\"alert alert-danger\">\n",
    "<b>Комментарий ревьюера</b> \n",
    "    \n",
    "✍ Так выделены самые важные замечания. Без их отработки проект не будет принят.\n",
    "</div>\n",
    "\n",
    "<div class=\"alert alert-warning\">\n",
    "<b>Комментарий ревьюера</b> \n",
    "    \n",
    "📝 Так выделены небольшие замечания или рекомендации. Постарайся учесть эти комментарии в этом проекте.\n",
    "</div>\n",
    "\n",
    "<div class=\"alert alert-success\">\n",
    "<b>Комментарий ревьюера</b> \n",
    "    \n",
    "👍 Так выделены все остальные комментарии, включая рекомендации, позитивные моменты или какие-то рассуждения.\n",
    "</div>\n",
    "\n",
    "Давай работать над проектом в диалоге: если ты что-то меняешь в проекте или отвечаешь на мои комментарии — пиши об этом. Мне будет легче отследить изменения, если ты выделишь свои комментарии:\n",
    "\n",
    "<div class=\"alert alert-info\"> \n",
    "<b>Комментарий студента</b> \n",
    "    \n",
    "Например, вот так.\n",
    "</div>\n",
    "\n",
    "---\n",
    "\n",
    "<div class=\"alert alert-success\">\n",
    "<b>Обратная связь v.1</b> \n",
    "    \n",
    "👋 Сергей, спасибо, что прислал проект! Ты хорошо придерживаешься оформления проекта, твои запросы легко читать, и они также хорошо оформлены. Мы можем также добавлять небольшие комментарии к подзапросам - так проще возвращаться к своим запросам и проектам через некоторое время.\n",
    "    \n",
    "<br>\n",
    "<div class=\"text-danger\">   \n",
    "    \n",
    "✍ Однако проект пока нельзя принять, так как один из пунктов задания был пропущен. Дополнительно посмотри, пожалуста, четвертый запрос - его нужно немного скорректировать.\n",
    "       \n",
    "</div>    \n",
    "    \n",
    "Мне кажется, что несмотря на все мои комментарии у тебя не составит труда внести необходимые изменения. Буду ждать новой версии проекта!\n",
    "\n",
    "<br>    \n",
    "С наилучшими пожеланиями, <br>\n",
    "Алексей\n",
    "</div>"
   ]
  },
  {
   "cell_type": "markdown",
   "metadata": {},
   "source": [
    "<div class=\"alert alert-info\"> \n",
    "<b>Комментарий студента</b> \n",
    "    \n",
    "Привет, Алексей!\n",
    "    \n",
    "Скорректировал четвертый запрос и добавил просмотр таблиц перед обработкой запросов.=)\n",
    "    \n",
    "Спасибо за обратную связь!\n",
    "</div>\n",
    "\n",
    "---\n",
    "\n",
    "<div class=\"alert alert-success\">\n",
    "<b>Обратная связь v.2</b> \n",
    "    \n",
    "👋 Сергей, спасибо, что оперативно внес правки в четвертый запрос и добавил необходимое задание. Теперь все верно и проект может быть принят! Поздравляю с окончанием финального спринта и обучения на курсе Практикума 🎉\n",
    "    \n",
    "Как тимлид финального спринта я еще напишу с Слаке финальную обратную связь, но это будет где-то ближе к финальному созвону. Было интересно проверять твои проекты, спасибо!\n",
    "    \n",
    "\n",
    "<br>    \n",
    "С наилучшими пожеланиями, <br>\n",
    "Алексей\n",
    "</div>\n"
   ]
  },
  {
   "cell_type": "markdown",
   "metadata": {},
   "source": [
    "# Проект по SQL"
   ]
  },
  {
   "cell_type": "markdown",
   "metadata": {},
   "source": [
    "Коронавирус застал мир врасплох, изменив привычный порядок вещей. В свободное время жители городов больше не выходят на улицу, не посещают кафе и торговые центры. Зато стало больше времени для книг. Это заметили стартаперы — и бросились создавать приложения для тех, кто любит читать.\n",
    "\n",
    "Наша компания решила быть на волне и купила крупный сервис для чтения книг по подписке. Моя первая задача как аналитика — проанализировать базу данных. В ней — информация о книгах, издательствах, авторах, а также пользовательские обзоры книг. Эти данные помогут сформулировать ценностное предложение для нового продукта.\n",
    "\n",
    "**Описание данных**\n",
    "\n",
    "Таблица `books`\n",
    "\n",
    "Содержит данные о книгах:\n",
    "\n",
    "* `book_id` — идентификатор книги;\n",
    "* `author_id` — идентификатор автора;\n",
    "* `title` — название книги;\n",
    "* `num_pages` — количество страниц;\n",
    "* `publication_date` — дата публикации книги;\n",
    "* `publisher_id` — идентификатор издателя.\n",
    "\n",
    "Таблица `authors`\n",
    "\n",
    "Содержит данные об авторах:\n",
    "\n",
    "* `author_id` — идентификатор автора;\n",
    "* `author` — имя автора.\n",
    "\n",
    "Таблица `publishers`\n",
    "\n",
    "Содержит данные об издательствах:\n",
    "\n",
    "* `publisher_id` — идентификатор издательства;\n",
    "* `publisher` — название издательства;\n",
    "\n",
    "Таблица `ratings`\n",
    "\n",
    "Содержит данные о пользовательских оценках книг:\n",
    "\n",
    "* `rating_id` — идентификатор оценки;\n",
    "* `book_id` — идентификатор книги;\n",
    "* `username` — имя пользователя, оставившего оценку;\n",
    "* `rating` — оценка книги.\n",
    "\n",
    "Таблица `reviews`\n",
    "\n",
    "Содержит данные о пользовательских обзорах:\n",
    "\n",
    "* `review_id` — идентификатор обзора;\n",
    "* `book_id` — идентификатор книги;\n",
    "* `username` — имя автора обзора;\n",
    "* `text` — текст обзора.\n",
    "\n",
    "**План работы**\n",
    "\n",
    "1. Загрузка данных\n",
    "2. Исследование таблиц\n",
    " * Подсчет, сколько книг вышло после 1 января 2000 года;\n",
    " * Для каждой книги подсчет количества обзоров и средней оценки;\n",
    " * Определение издательства, которое выпустило наибольшее число книг толще 50 страниц (без брошюр);\n",
    " * Определение автора с самой высокой средней оценкой книг с 50 и более оценками;\n",
    " * Подсчет среднего количества обзоров от пользователей, которые поставили больше 50 оценок.\n",
    "3. Выводы"
   ]
  },
  {
   "cell_type": "markdown",
   "metadata": {},
   "source": [
    "<div class=\"alert alert-success\">\n",
    "<b>Комментарий ревьюера v.1</b> \n",
    "    \n",
    "👍 Хорошо, что в начале проекта есть краткое описание, а также данные о исходных таблицах. Также мы можем добавить схему базы данных, чтобы понимать, как таблицы связаны между собой.\n",
    "</div>"
   ]
  },
  {
   "cell_type": "markdown",
   "metadata": {},
   "source": [
    "## Загрузка данных"
   ]
  },
  {
   "cell_type": "markdown",
   "metadata": {},
   "source": [
    "Импортируем библиотеки и подготовим соединение с базой для запросов."
   ]
  },
  {
   "cell_type": "code",
   "execution_count": 1,
   "metadata": {},
   "outputs": [],
   "source": [
    "import pandas as pd\n",
    "from sqlalchemy import create_engine"
   ]
  },
  {
   "cell_type": "code",
   "execution_count": 2,
   "metadata": {},
   "outputs": [],
   "source": [
    "db_config = {'user': 'praktikum_student',\n",
    "             'pwd': 'Sdf4$2;d-d30pp',  \n",
    "             'host': 'rc1b-wcoijxj3yxfsf3fs.mdb.yandexcloud.net', \n",
    "             'port': 6432, \n",
    "             'db': 'data-analyst-final-project-db'} \n",
    "\n",
    "connection_string = 'postgresql://{}:{}@{}:{}/{}'.format(db_config['user'],\n",
    "                                                         db_config['pwd'],\n",
    "                                                         db_config['host'],\n",
    "                                                         db_config['port'],\n",
    "                                                         db_config['db'])\n",
    "\n",
    "engine = create_engine(connection_string, connect_args={'sslmode':'require'}) "
   ]
  },
  {
   "cell_type": "markdown",
   "metadata": {},
   "source": [
    "Перейдем к исследованию таблиц и к ответам на поставленные вопросы."
   ]
  },
  {
   "cell_type": "markdown",
   "metadata": {},
   "source": [
    "<div class=\"alert alert-success\">\n",
    "<b>Комментарий ревьюера v.1</b>\n",
    "    \n",
    "👍 Все готово для подключения к базе данных! \n",
    "\n",
    "</div>"
   ]
  },
  {
   "cell_type": "markdown",
   "metadata": {},
   "source": [
    "## Исследование таблиц"
   ]
  },
  {
   "cell_type": "markdown",
   "metadata": {},
   "source": [
    "<div class=\"alert alert-danger\">\n",
    "<b>Комментарий ревьюера v.1</b> \n",
    "    \n",
    "✍ Сергей, согласно заданию к проекту, нам нужно выполнить следующий пункт \"Исследуйте таблицы — выведите первые строки\". Пожалуйста, проведи дополнительные исследования в этой части проекта. Нам важно убедиться, что подключение работает и все данные на месте и они надлежащего качества.\n",
    "</div> "
   ]
  },
  {
   "cell_type": "markdown",
   "metadata": {},
   "source": [
    "<div class=\"alert alert-info\"> \n",
    "<b>Комментарий студента</b> \n",
    "    \n",
    "Вывел первые строки и проверил типы данных.\n",
    "</div>"
   ]
  },
  {
   "cell_type": "markdown",
   "metadata": {},
   "source": [
    "<div class=\"alert alert-success\">\n",
    "<b>Комментарий ревьюера v.2</b>\n",
    "    \n",
    "👍 Отлично! Подключение к базе  данных работает, таблицы на месте. На экран были выведены первые строки из каждой таблицы, что позволило оценить их содержание, а также основная информация. Однако, обрати, пожалуйста, внимание, что в запросе мы загружаем все данные, поэтому перед их выгрузкой лучше оценить их объем. Почему это важно - если данных много, а их может быть много и они могут быть объемными, мы можем создать дополнительную нагрузку на окружение, что может быть не очень хорошо.\n",
    "</div>"
   ]
  },
  {
   "cell_type": "markdown",
   "metadata": {},
   "source": [
    "Проверим установленное соединение и посмтрим первые строки таблиц, чтобы убедиться, что все данные на месте. Также посмотрим типы данных по столбцам на соответствие указанным типам в схеме данных."
   ]
  },
  {
   "cell_type": "code",
   "execution_count": 3,
   "metadata": {},
   "outputs": [],
   "source": [
    "query = '''SELECT *\n",
    "           FROM books\n",
    "        '''"
   ]
  },
  {
   "cell_type": "code",
   "execution_count": 4,
   "metadata": {},
   "outputs": [
    {
     "data": {
      "text/html": [
       "<div>\n",
       "<style scoped>\n",
       "    .dataframe tbody tr th:only-of-type {\n",
       "        vertical-align: middle;\n",
       "    }\n",
       "\n",
       "    .dataframe tbody tr th {\n",
       "        vertical-align: top;\n",
       "    }\n",
       "\n",
       "    .dataframe thead th {\n",
       "        text-align: right;\n",
       "    }\n",
       "</style>\n",
       "<table border=\"1\" class=\"dataframe\">\n",
       "  <thead>\n",
       "    <tr style=\"text-align: right;\">\n",
       "      <th></th>\n",
       "      <th>book_id</th>\n",
       "      <th>author_id</th>\n",
       "      <th>title</th>\n",
       "      <th>num_pages</th>\n",
       "      <th>publication_date</th>\n",
       "      <th>publisher_id</th>\n",
       "    </tr>\n",
       "  </thead>\n",
       "  <tbody>\n",
       "    <tr>\n",
       "      <th>0</th>\n",
       "      <td>1</td>\n",
       "      <td>546</td>\n",
       "      <td>'Salem's Lot</td>\n",
       "      <td>594</td>\n",
       "      <td>2005-11-01</td>\n",
       "      <td>93</td>\n",
       "    </tr>\n",
       "    <tr>\n",
       "      <th>1</th>\n",
       "      <td>2</td>\n",
       "      <td>465</td>\n",
       "      <td>1 000 Places to See Before You Die</td>\n",
       "      <td>992</td>\n",
       "      <td>2003-05-22</td>\n",
       "      <td>336</td>\n",
       "    </tr>\n",
       "    <tr>\n",
       "      <th>2</th>\n",
       "      <td>3</td>\n",
       "      <td>407</td>\n",
       "      <td>13 Little Blue Envelopes (Little Blue Envelope...</td>\n",
       "      <td>322</td>\n",
       "      <td>2010-12-21</td>\n",
       "      <td>135</td>\n",
       "    </tr>\n",
       "    <tr>\n",
       "      <th>3</th>\n",
       "      <td>4</td>\n",
       "      <td>82</td>\n",
       "      <td>1491: New Revelations of the Americas Before C...</td>\n",
       "      <td>541</td>\n",
       "      <td>2006-10-10</td>\n",
       "      <td>309</td>\n",
       "    </tr>\n",
       "    <tr>\n",
       "      <th>4</th>\n",
       "      <td>5</td>\n",
       "      <td>125</td>\n",
       "      <td>1776</td>\n",
       "      <td>386</td>\n",
       "      <td>2006-07-04</td>\n",
       "      <td>268</td>\n",
       "    </tr>\n",
       "  </tbody>\n",
       "</table>\n",
       "</div>"
      ],
      "text/plain": [
       "   book_id  author_id                                              title  \\\n",
       "0        1        546                                       'Salem's Lot   \n",
       "1        2        465                 1 000 Places to See Before You Die   \n",
       "2        3        407  13 Little Blue Envelopes (Little Blue Envelope...   \n",
       "3        4         82  1491: New Revelations of the Americas Before C...   \n",
       "4        5        125                                               1776   \n",
       "\n",
       "   num_pages publication_date  publisher_id  \n",
       "0        594       2005-11-01            93  \n",
       "1        992       2003-05-22           336  \n",
       "2        322       2010-12-21           135  \n",
       "3        541       2006-10-10           309  \n",
       "4        386       2006-07-04           268  "
      ]
     },
     "execution_count": 4,
     "metadata": {},
     "output_type": "execute_result"
    }
   ],
   "source": [
    "books = pd.io.sql.read_sql(query, con = engine)\n",
    "books.head()"
   ]
  },
  {
   "cell_type": "code",
   "execution_count": 5,
   "metadata": {},
   "outputs": [
    {
     "name": "stdout",
     "output_type": "stream",
     "text": [
      "<class 'pandas.core.frame.DataFrame'>\n",
      "RangeIndex: 1000 entries, 0 to 999\n",
      "Data columns (total 6 columns):\n",
      " #   Column            Non-Null Count  Dtype \n",
      "---  ------            --------------  ----- \n",
      " 0   book_id           1000 non-null   int64 \n",
      " 1   author_id         1000 non-null   int64 \n",
      " 2   title             1000 non-null   object\n",
      " 3   num_pages         1000 non-null   int64 \n",
      " 4   publication_date  1000 non-null   object\n",
      " 5   publisher_id      1000 non-null   int64 \n",
      "dtypes: int64(4), object(2)\n",
      "memory usage: 47.0+ KB\n"
     ]
    }
   ],
   "source": [
    "books.info()"
   ]
  },
  {
   "cell_type": "markdown",
   "metadata": {},
   "source": [
    "В таблице с книгами видим, что все данные присутствуют, типы данных соответствуют заявленным."
   ]
  },
  {
   "cell_type": "code",
   "execution_count": 6,
   "metadata": {},
   "outputs": [],
   "source": [
    "query = '''SELECT *\n",
    "           FROM authors\n",
    "        '''"
   ]
  },
  {
   "cell_type": "code",
   "execution_count": 7,
   "metadata": {},
   "outputs": [
    {
     "data": {
      "text/html": [
       "<div>\n",
       "<style scoped>\n",
       "    .dataframe tbody tr th:only-of-type {\n",
       "        vertical-align: middle;\n",
       "    }\n",
       "\n",
       "    .dataframe tbody tr th {\n",
       "        vertical-align: top;\n",
       "    }\n",
       "\n",
       "    .dataframe thead th {\n",
       "        text-align: right;\n",
       "    }\n",
       "</style>\n",
       "<table border=\"1\" class=\"dataframe\">\n",
       "  <thead>\n",
       "    <tr style=\"text-align: right;\">\n",
       "      <th></th>\n",
       "      <th>author_id</th>\n",
       "      <th>author</th>\n",
       "    </tr>\n",
       "  </thead>\n",
       "  <tbody>\n",
       "    <tr>\n",
       "      <th>0</th>\n",
       "      <td>1</td>\n",
       "      <td>A.S. Byatt</td>\n",
       "    </tr>\n",
       "    <tr>\n",
       "      <th>1</th>\n",
       "      <td>2</td>\n",
       "      <td>Aesop/Laura Harris/Laura Gibbs</td>\n",
       "    </tr>\n",
       "    <tr>\n",
       "      <th>2</th>\n",
       "      <td>3</td>\n",
       "      <td>Agatha Christie</td>\n",
       "    </tr>\n",
       "    <tr>\n",
       "      <th>3</th>\n",
       "      <td>4</td>\n",
       "      <td>Alan Brennert</td>\n",
       "    </tr>\n",
       "    <tr>\n",
       "      <th>4</th>\n",
       "      <td>5</td>\n",
       "      <td>Alan Moore/David   Lloyd</td>\n",
       "    </tr>\n",
       "  </tbody>\n",
       "</table>\n",
       "</div>"
      ],
      "text/plain": [
       "   author_id                          author\n",
       "0          1                      A.S. Byatt\n",
       "1          2  Aesop/Laura Harris/Laura Gibbs\n",
       "2          3                 Agatha Christie\n",
       "3          4                   Alan Brennert\n",
       "4          5        Alan Moore/David   Lloyd"
      ]
     },
     "execution_count": 7,
     "metadata": {},
     "output_type": "execute_result"
    }
   ],
   "source": [
    "authors = pd.io.sql.read_sql(query, con = engine)\n",
    "authors.head()"
   ]
  },
  {
   "cell_type": "code",
   "execution_count": 8,
   "metadata": {},
   "outputs": [
    {
     "name": "stdout",
     "output_type": "stream",
     "text": [
      "<class 'pandas.core.frame.DataFrame'>\n",
      "RangeIndex: 636 entries, 0 to 635\n",
      "Data columns (total 2 columns):\n",
      " #   Column     Non-Null Count  Dtype \n",
      "---  ------     --------------  ----- \n",
      " 0   author_id  636 non-null    int64 \n",
      " 1   author     636 non-null    object\n",
      "dtypes: int64(1), object(1)\n",
      "memory usage: 10.1+ KB\n"
     ]
    }
   ],
   "source": [
    "authors.info()"
   ]
  },
  {
   "cell_type": "markdown",
   "metadata": {},
   "source": [
    "В таблице с авторами также видим, что все данные присутствуют, типы данных соответствуют заявленным."
   ]
  },
  {
   "cell_type": "code",
   "execution_count": 9,
   "metadata": {},
   "outputs": [],
   "source": [
    "query = '''SELECT *\n",
    "           FROM publishers\n",
    "        '''"
   ]
  },
  {
   "cell_type": "code",
   "execution_count": 10,
   "metadata": {},
   "outputs": [
    {
     "data": {
      "text/html": [
       "<div>\n",
       "<style scoped>\n",
       "    .dataframe tbody tr th:only-of-type {\n",
       "        vertical-align: middle;\n",
       "    }\n",
       "\n",
       "    .dataframe tbody tr th {\n",
       "        vertical-align: top;\n",
       "    }\n",
       "\n",
       "    .dataframe thead th {\n",
       "        text-align: right;\n",
       "    }\n",
       "</style>\n",
       "<table border=\"1\" class=\"dataframe\">\n",
       "  <thead>\n",
       "    <tr style=\"text-align: right;\">\n",
       "      <th></th>\n",
       "      <th>publisher_id</th>\n",
       "      <th>publisher</th>\n",
       "    </tr>\n",
       "  </thead>\n",
       "  <tbody>\n",
       "    <tr>\n",
       "      <th>0</th>\n",
       "      <td>1</td>\n",
       "      <td>Ace</td>\n",
       "    </tr>\n",
       "    <tr>\n",
       "      <th>1</th>\n",
       "      <td>2</td>\n",
       "      <td>Ace Book</td>\n",
       "    </tr>\n",
       "    <tr>\n",
       "      <th>2</th>\n",
       "      <td>3</td>\n",
       "      <td>Ace Books</td>\n",
       "    </tr>\n",
       "    <tr>\n",
       "      <th>3</th>\n",
       "      <td>4</td>\n",
       "      <td>Ace Hardcover</td>\n",
       "    </tr>\n",
       "    <tr>\n",
       "      <th>4</th>\n",
       "      <td>5</td>\n",
       "      <td>Addison Wesley Publishing Company</td>\n",
       "    </tr>\n",
       "  </tbody>\n",
       "</table>\n",
       "</div>"
      ],
      "text/plain": [
       "   publisher_id                          publisher\n",
       "0             1                                Ace\n",
       "1             2                           Ace Book\n",
       "2             3                          Ace Books\n",
       "3             4                      Ace Hardcover\n",
       "4             5  Addison Wesley Publishing Company"
      ]
     },
     "execution_count": 10,
     "metadata": {},
     "output_type": "execute_result"
    }
   ],
   "source": [
    "publishers = pd.io.sql.read_sql(query, con = engine)\n",
    "publishers.head()"
   ]
  },
  {
   "cell_type": "code",
   "execution_count": 11,
   "metadata": {},
   "outputs": [
    {
     "name": "stdout",
     "output_type": "stream",
     "text": [
      "<class 'pandas.core.frame.DataFrame'>\n",
      "RangeIndex: 340 entries, 0 to 339\n",
      "Data columns (total 2 columns):\n",
      " #   Column        Non-Null Count  Dtype \n",
      "---  ------        --------------  ----- \n",
      " 0   publisher_id  340 non-null    int64 \n",
      " 1   publisher     340 non-null    object\n",
      "dtypes: int64(1), object(1)\n",
      "memory usage: 5.4+ KB\n"
     ]
    }
   ],
   "source": [
    "publishers.info()"
   ]
  },
  {
   "cell_type": "markdown",
   "metadata": {},
   "source": [
    "В таблице с издательствами аналогично: все данные присутствуют, типы данных соответствуют заявленным."
   ]
  },
  {
   "cell_type": "code",
   "execution_count": 12,
   "metadata": {},
   "outputs": [],
   "source": [
    "query = '''SELECT *\n",
    "           FROM ratings\n",
    "        '''"
   ]
  },
  {
   "cell_type": "code",
   "execution_count": 13,
   "metadata": {},
   "outputs": [
    {
     "data": {
      "text/html": [
       "<div>\n",
       "<style scoped>\n",
       "    .dataframe tbody tr th:only-of-type {\n",
       "        vertical-align: middle;\n",
       "    }\n",
       "\n",
       "    .dataframe tbody tr th {\n",
       "        vertical-align: top;\n",
       "    }\n",
       "\n",
       "    .dataframe thead th {\n",
       "        text-align: right;\n",
       "    }\n",
       "</style>\n",
       "<table border=\"1\" class=\"dataframe\">\n",
       "  <thead>\n",
       "    <tr style=\"text-align: right;\">\n",
       "      <th></th>\n",
       "      <th>rating_id</th>\n",
       "      <th>book_id</th>\n",
       "      <th>username</th>\n",
       "      <th>rating</th>\n",
       "    </tr>\n",
       "  </thead>\n",
       "  <tbody>\n",
       "    <tr>\n",
       "      <th>0</th>\n",
       "      <td>1</td>\n",
       "      <td>1</td>\n",
       "      <td>ryanfranco</td>\n",
       "      <td>4</td>\n",
       "    </tr>\n",
       "    <tr>\n",
       "      <th>1</th>\n",
       "      <td>2</td>\n",
       "      <td>1</td>\n",
       "      <td>grantpatricia</td>\n",
       "      <td>2</td>\n",
       "    </tr>\n",
       "    <tr>\n",
       "      <th>2</th>\n",
       "      <td>3</td>\n",
       "      <td>1</td>\n",
       "      <td>brandtandrea</td>\n",
       "      <td>5</td>\n",
       "    </tr>\n",
       "    <tr>\n",
       "      <th>3</th>\n",
       "      <td>4</td>\n",
       "      <td>2</td>\n",
       "      <td>lorichen</td>\n",
       "      <td>3</td>\n",
       "    </tr>\n",
       "    <tr>\n",
       "      <th>4</th>\n",
       "      <td>5</td>\n",
       "      <td>2</td>\n",
       "      <td>mariokeller</td>\n",
       "      <td>2</td>\n",
       "    </tr>\n",
       "  </tbody>\n",
       "</table>\n",
       "</div>"
      ],
      "text/plain": [
       "   rating_id  book_id       username  rating\n",
       "0          1        1     ryanfranco       4\n",
       "1          2        1  grantpatricia       2\n",
       "2          3        1   brandtandrea       5\n",
       "3          4        2       lorichen       3\n",
       "4          5        2    mariokeller       2"
      ]
     },
     "execution_count": 13,
     "metadata": {},
     "output_type": "execute_result"
    }
   ],
   "source": [
    "ratings = pd.io.sql.read_sql(query, con = engine)\n",
    "ratings.head()"
   ]
  },
  {
   "cell_type": "code",
   "execution_count": 14,
   "metadata": {},
   "outputs": [
    {
     "name": "stdout",
     "output_type": "stream",
     "text": [
      "<class 'pandas.core.frame.DataFrame'>\n",
      "RangeIndex: 6456 entries, 0 to 6455\n",
      "Data columns (total 4 columns):\n",
      " #   Column     Non-Null Count  Dtype \n",
      "---  ------     --------------  ----- \n",
      " 0   rating_id  6456 non-null   int64 \n",
      " 1   book_id    6456 non-null   int64 \n",
      " 2   username   6456 non-null   object\n",
      " 3   rating     6456 non-null   int64 \n",
      "dtypes: int64(3), object(1)\n",
      "memory usage: 201.9+ KB\n"
     ]
    }
   ],
   "source": [
    "ratings.info()"
   ]
  },
  {
   "cell_type": "markdown",
   "metadata": {},
   "source": [
    "В таблице с оценками видим, что все данные присутствуют, типы данных соответствуют заявленным."
   ]
  },
  {
   "cell_type": "code",
   "execution_count": 15,
   "metadata": {},
   "outputs": [],
   "source": [
    "query = '''SELECT *\n",
    "           FROM reviews\n",
    "        '''"
   ]
  },
  {
   "cell_type": "code",
   "execution_count": 16,
   "metadata": {},
   "outputs": [
    {
     "data": {
      "text/html": [
       "<div>\n",
       "<style scoped>\n",
       "    .dataframe tbody tr th:only-of-type {\n",
       "        vertical-align: middle;\n",
       "    }\n",
       "\n",
       "    .dataframe tbody tr th {\n",
       "        vertical-align: top;\n",
       "    }\n",
       "\n",
       "    .dataframe thead th {\n",
       "        text-align: right;\n",
       "    }\n",
       "</style>\n",
       "<table border=\"1\" class=\"dataframe\">\n",
       "  <thead>\n",
       "    <tr style=\"text-align: right;\">\n",
       "      <th></th>\n",
       "      <th>review_id</th>\n",
       "      <th>book_id</th>\n",
       "      <th>username</th>\n",
       "      <th>text</th>\n",
       "    </tr>\n",
       "  </thead>\n",
       "  <tbody>\n",
       "    <tr>\n",
       "      <th>0</th>\n",
       "      <td>1</td>\n",
       "      <td>1</td>\n",
       "      <td>brandtandrea</td>\n",
       "      <td>Mention society tell send professor analysis. ...</td>\n",
       "    </tr>\n",
       "    <tr>\n",
       "      <th>1</th>\n",
       "      <td>2</td>\n",
       "      <td>1</td>\n",
       "      <td>ryanfranco</td>\n",
       "      <td>Foot glass pretty audience hit themselves. Amo...</td>\n",
       "    </tr>\n",
       "    <tr>\n",
       "      <th>2</th>\n",
       "      <td>3</td>\n",
       "      <td>2</td>\n",
       "      <td>lorichen</td>\n",
       "      <td>Listen treat keep worry. Miss husband tax but ...</td>\n",
       "    </tr>\n",
       "    <tr>\n",
       "      <th>3</th>\n",
       "      <td>4</td>\n",
       "      <td>3</td>\n",
       "      <td>johnsonamanda</td>\n",
       "      <td>Finally month interesting blue could nature cu...</td>\n",
       "    </tr>\n",
       "    <tr>\n",
       "      <th>4</th>\n",
       "      <td>5</td>\n",
       "      <td>3</td>\n",
       "      <td>scotttamara</td>\n",
       "      <td>Nation purpose heavy give wait song will. List...</td>\n",
       "    </tr>\n",
       "  </tbody>\n",
       "</table>\n",
       "</div>"
      ],
      "text/plain": [
       "   review_id  book_id       username  \\\n",
       "0          1        1   brandtandrea   \n",
       "1          2        1     ryanfranco   \n",
       "2          3        2       lorichen   \n",
       "3          4        3  johnsonamanda   \n",
       "4          5        3    scotttamara   \n",
       "\n",
       "                                                text  \n",
       "0  Mention society tell send professor analysis. ...  \n",
       "1  Foot glass pretty audience hit themselves. Amo...  \n",
       "2  Listen treat keep worry. Miss husband tax but ...  \n",
       "3  Finally month interesting blue could nature cu...  \n",
       "4  Nation purpose heavy give wait song will. List...  "
      ]
     },
     "execution_count": 16,
     "metadata": {},
     "output_type": "execute_result"
    }
   ],
   "source": [
    "reviews = pd.io.sql.read_sql(query, con = engine)\n",
    "reviews.head()"
   ]
  },
  {
   "cell_type": "code",
   "execution_count": 17,
   "metadata": {},
   "outputs": [
    {
     "name": "stdout",
     "output_type": "stream",
     "text": [
      "<class 'pandas.core.frame.DataFrame'>\n",
      "RangeIndex: 2793 entries, 0 to 2792\n",
      "Data columns (total 4 columns):\n",
      " #   Column     Non-Null Count  Dtype \n",
      "---  ------     --------------  ----- \n",
      " 0   review_id  2793 non-null   int64 \n",
      " 1   book_id    2793 non-null   int64 \n",
      " 2   username   2793 non-null   object\n",
      " 3   text       2793 non-null   object\n",
      "dtypes: int64(2), object(2)\n",
      "memory usage: 87.4+ KB\n"
     ]
    }
   ],
   "source": [
    "reviews.info()"
   ]
  },
  {
   "cell_type": "markdown",
   "metadata": {},
   "source": [
    "В таблице с отзывами также все данные присутствуют, типы данных соответствуют заявленным.\n",
    "Данные корректны во всех таблицах, перейдем к выполнению запросов."
   ]
  },
  {
   "cell_type": "markdown",
   "metadata": {},
   "source": [
    "### Подсчет, сколько книг вышло после 1 января 2000 года"
   ]
  },
  {
   "cell_type": "markdown",
   "metadata": {},
   "source": [
    "Произведем запрос SQL и выведем количество книг."
   ]
  },
  {
   "cell_type": "code",
   "execution_count": 18,
   "metadata": {},
   "outputs": [],
   "source": [
    "query = '''SELECT COUNT(book_id) AS cnt_books\n",
    "           FROM books\n",
    "           WHERE publication_date > '2000-01-01'\n",
    "        '''"
   ]
  },
  {
   "cell_type": "code",
   "execution_count": 19,
   "metadata": {},
   "outputs": [
    {
     "data": {
      "text/html": [
       "<div>\n",
       "<style scoped>\n",
       "    .dataframe tbody tr th:only-of-type {\n",
       "        vertical-align: middle;\n",
       "    }\n",
       "\n",
       "    .dataframe tbody tr th {\n",
       "        vertical-align: top;\n",
       "    }\n",
       "\n",
       "    .dataframe thead th {\n",
       "        text-align: right;\n",
       "    }\n",
       "</style>\n",
       "<table border=\"1\" class=\"dataframe\">\n",
       "  <thead>\n",
       "    <tr style=\"text-align: right;\">\n",
       "      <th></th>\n",
       "      <th>cnt_books</th>\n",
       "    </tr>\n",
       "  </thead>\n",
       "  <tbody>\n",
       "    <tr>\n",
       "      <th>0</th>\n",
       "      <td>819</td>\n",
       "    </tr>\n",
       "  </tbody>\n",
       "</table>\n",
       "</div>"
      ],
      "text/plain": [
       "   cnt_books\n",
       "0        819"
      ]
     },
     "execution_count": 19,
     "metadata": {},
     "output_type": "execute_result"
    }
   ],
   "source": [
    "cnt_books = pd.io.sql.read_sql(query, con = engine) \n",
    "cnt_books"
   ]
  },
  {
   "cell_type": "markdown",
   "metadata": {},
   "source": [
    "После первого января 2000 года выпущено 819 книг."
   ]
  },
  {
   "cell_type": "markdown",
   "metadata": {},
   "source": [
    "<div class=\"alert alert-success\">\n",
    "<b>Комментарий ревьюера v.1</b> \n",
    "    \n",
    "👍 <b>Запрос 1:</b> Тут все верно! \n",
    "</div>"
   ]
  },
  {
   "cell_type": "markdown",
   "metadata": {},
   "source": [
    "### Для каждой книги подсчет количества обзоров и средней оценки;"
   ]
  },
  {
   "cell_type": "markdown",
   "metadata": {},
   "source": [
    "Сделаем SQL запрос и выведем таблицу с количеством обзоров и средней оценкой по каждой книге."
   ]
  },
  {
   "cell_type": "code",
   "execution_count": 20,
   "metadata": {},
   "outputs": [],
   "source": [
    "query = '''SELECT\n",
    "             books.book_id AS book_id,             \n",
    "             books.title AS title,\n",
    "             rev_cnt.cnt_reviews AS cnt_reviews,\n",
    "             avg_rat.avg_rating AS avg_rating             \n",
    "           FROM\n",
    "             books\n",
    "             LEFT JOIN (SELECT\n",
    "                           book_id,\n",
    "                           COUNT(review_id) AS cnt_reviews             \n",
    "                         FROM\n",
    "                           reviews\n",
    "                         GROUP BY\n",
    "                           book_id) AS rev_cnt ON rev_cnt.book_id = books.book_id\n",
    "             LEFT JOIN (SELECT\n",
    "                           book_id,\n",
    "                           AVG(rating) AS avg_rating             \n",
    "                         FROM\n",
    "                           ratings\n",
    "                         GROUP BY\n",
    "                           book_id) AS avg_rat ON avg_rat.book_id = books.book_id\n",
    "           \n",
    "        '''"
   ]
  },
  {
   "cell_type": "code",
   "execution_count": 21,
   "metadata": {},
   "outputs": [
    {
     "data": {
      "text/html": [
       "<div>\n",
       "<style scoped>\n",
       "    .dataframe tbody tr th:only-of-type {\n",
       "        vertical-align: middle;\n",
       "    }\n",
       "\n",
       "    .dataframe tbody tr th {\n",
       "        vertical-align: top;\n",
       "    }\n",
       "\n",
       "    .dataframe thead th {\n",
       "        text-align: right;\n",
       "    }\n",
       "</style>\n",
       "<table border=\"1\" class=\"dataframe\">\n",
       "  <thead>\n",
       "    <tr style=\"text-align: right;\">\n",
       "      <th></th>\n",
       "      <th>book_id</th>\n",
       "      <th>title</th>\n",
       "      <th>cnt_reviews</th>\n",
       "      <th>avg_rating</th>\n",
       "    </tr>\n",
       "  </thead>\n",
       "  <tbody>\n",
       "    <tr>\n",
       "      <th>0</th>\n",
       "      <td>652</td>\n",
       "      <td>The Body in the Library (Miss Marple  #3)</td>\n",
       "      <td>2.0</td>\n",
       "      <td>4.500000</td>\n",
       "    </tr>\n",
       "    <tr>\n",
       "      <th>1</th>\n",
       "      <td>273</td>\n",
       "      <td>Galápagos</td>\n",
       "      <td>2.0</td>\n",
       "      <td>4.500000</td>\n",
       "    </tr>\n",
       "    <tr>\n",
       "      <th>2</th>\n",
       "      <td>51</td>\n",
       "      <td>A Tree Grows in Brooklyn</td>\n",
       "      <td>5.0</td>\n",
       "      <td>4.250000</td>\n",
       "    </tr>\n",
       "    <tr>\n",
       "      <th>3</th>\n",
       "      <td>951</td>\n",
       "      <td>Undaunted Courage: The Pioneering First Missio...</td>\n",
       "      <td>2.0</td>\n",
       "      <td>4.000000</td>\n",
       "    </tr>\n",
       "    <tr>\n",
       "      <th>4</th>\n",
       "      <td>839</td>\n",
       "      <td>The Prophet</td>\n",
       "      <td>4.0</td>\n",
       "      <td>4.285714</td>\n",
       "    </tr>\n",
       "    <tr>\n",
       "      <th>...</th>\n",
       "      <td>...</td>\n",
       "      <td>...</td>\n",
       "      <td>...</td>\n",
       "      <td>...</td>\n",
       "    </tr>\n",
       "    <tr>\n",
       "      <th>995</th>\n",
       "      <td>64</td>\n",
       "      <td>Alice in Wonderland</td>\n",
       "      <td>4.0</td>\n",
       "      <td>4.230769</td>\n",
       "    </tr>\n",
       "    <tr>\n",
       "      <th>996</th>\n",
       "      <td>55</td>\n",
       "      <td>A Woman of Substance (Emma Harte Saga #1)</td>\n",
       "      <td>2.0</td>\n",
       "      <td>5.000000</td>\n",
       "    </tr>\n",
       "    <tr>\n",
       "      <th>997</th>\n",
       "      <td>148</td>\n",
       "      <td>Christine</td>\n",
       "      <td>3.0</td>\n",
       "      <td>3.428571</td>\n",
       "    </tr>\n",
       "    <tr>\n",
       "      <th>998</th>\n",
       "      <td>790</td>\n",
       "      <td>The Magicians' Guild (Black Magician Trilogy  #1)</td>\n",
       "      <td>2.0</td>\n",
       "      <td>3.500000</td>\n",
       "    </tr>\n",
       "    <tr>\n",
       "      <th>999</th>\n",
       "      <td>828</td>\n",
       "      <td>The Plot Against America</td>\n",
       "      <td>2.0</td>\n",
       "      <td>3.000000</td>\n",
       "    </tr>\n",
       "  </tbody>\n",
       "</table>\n",
       "<p>1000 rows × 4 columns</p>\n",
       "</div>"
      ],
      "text/plain": [
       "     book_id                                              title  cnt_reviews  \\\n",
       "0        652          The Body in the Library (Miss Marple  #3)          2.0   \n",
       "1        273                                          Galápagos          2.0   \n",
       "2         51                           A Tree Grows in Brooklyn          5.0   \n",
       "3        951  Undaunted Courage: The Pioneering First Missio...          2.0   \n",
       "4        839                                        The Prophet          4.0   \n",
       "..       ...                                                ...          ...   \n",
       "995       64                                Alice in Wonderland          4.0   \n",
       "996       55          A Woman of Substance (Emma Harte Saga #1)          2.0   \n",
       "997      148                                          Christine          3.0   \n",
       "998      790  The Magicians' Guild (Black Magician Trilogy  #1)          2.0   \n",
       "999      828                           The Plot Against America          2.0   \n",
       "\n",
       "     avg_rating  \n",
       "0      4.500000  \n",
       "1      4.500000  \n",
       "2      4.250000  \n",
       "3      4.000000  \n",
       "4      4.285714  \n",
       "..          ...  \n",
       "995    4.230769  \n",
       "996    5.000000  \n",
       "997    3.428571  \n",
       "998    3.500000  \n",
       "999    3.000000  \n",
       "\n",
       "[1000 rows x 4 columns]"
      ]
     },
     "execution_count": 21,
     "metadata": {},
     "output_type": "execute_result"
    }
   ],
   "source": [
    "books_reviews_rating = pd.io.sql.read_sql(query, con = engine)\n",
    "books_reviews_rating"
   ]
  },
  {
   "cell_type": "markdown",
   "metadata": {},
   "source": [
    "Видим, что у каждой книги есть по несколько отзывов, средняя оценка разнится."
   ]
  },
  {
   "cell_type": "markdown",
   "metadata": {},
   "source": [
    "<div class=\"alert alert-success\">\n",
    "<b>Комментарий ревьюера v.1</b> \n",
    "    \n",
    "👍 <b>Запрос 2:</b> Все корректно, здорово, что в начале ты последовательно подсоединил подсчитанные количество обзоров и средний рейтинг. Использование левого объединение позволило не упустить ни одну книгу. Все верно!\n",
    "</div>"
   ]
  },
  {
   "cell_type": "markdown",
   "metadata": {},
   "source": [
    "### Определение издательства, которое выпустило наибольшее число книг толще 50 страниц (без брошюр)"
   ]
  },
  {
   "cell_type": "markdown",
   "metadata": {},
   "source": [
    "Сделаем SQL запрос и найдем издательство, которое выпустило наибольшее количество книг тольще 50 страниц."
   ]
  },
  {
   "cell_type": "code",
   "execution_count": 22,
   "metadata": {},
   "outputs": [],
   "source": [
    "query = '''SELECT\n",
    "             publishers.publisher AS publisher,\n",
    "             COUNT(books.book_id) AS cnt_books\n",
    "           FROM\n",
    "             publishers\n",
    "             LEFT JOIN books ON books.publisher_id = publishers.publisher_id\n",
    "           WHERE\n",
    "             books.num_pages > 50\n",
    "           GROUP BY\n",
    "             publisher\n",
    "           ORDER BY\n",
    "             cnt_books DESC\n",
    "           LIMIT\n",
    "             1\n",
    "        '''"
   ]
  },
  {
   "cell_type": "code",
   "execution_count": 23,
   "metadata": {},
   "outputs": [
    {
     "data": {
      "text/html": [
       "<div>\n",
       "<style scoped>\n",
       "    .dataframe tbody tr th:only-of-type {\n",
       "        vertical-align: middle;\n",
       "    }\n",
       "\n",
       "    .dataframe tbody tr th {\n",
       "        vertical-align: top;\n",
       "    }\n",
       "\n",
       "    .dataframe thead th {\n",
       "        text-align: right;\n",
       "    }\n",
       "</style>\n",
       "<table border=\"1\" class=\"dataframe\">\n",
       "  <thead>\n",
       "    <tr style=\"text-align: right;\">\n",
       "      <th></th>\n",
       "      <th>publisher</th>\n",
       "      <th>cnt_books</th>\n",
       "    </tr>\n",
       "  </thead>\n",
       "  <tbody>\n",
       "    <tr>\n",
       "      <th>0</th>\n",
       "      <td>Penguin Books</td>\n",
       "      <td>42</td>\n",
       "    </tr>\n",
       "  </tbody>\n",
       "</table>\n",
       "</div>"
      ],
      "text/plain": [
       "       publisher  cnt_books\n",
       "0  Penguin Books         42"
      ]
     },
     "execution_count": 23,
     "metadata": {},
     "output_type": "execute_result"
    }
   ],
   "source": [
    "top_publisher = pd.io.sql.read_sql(query, con = engine)\n",
    "top_publisher"
   ]
  },
  {
   "cell_type": "markdown",
   "metadata": {},
   "source": [
    "Издатель Penguin Books выпустил наибольшее количество книг - 42 штуки."
   ]
  },
  {
   "cell_type": "markdown",
   "metadata": {},
   "source": [
    "<div class=\"alert alert-success\">\n",
    "<b>Комментарий ревьюера v.1</b> \n",
    "    \n",
    "👍 <b>Запрос 3:</b> Тут тоже все корректно.\n",
    "</div>"
   ]
  },
  {
   "cell_type": "markdown",
   "metadata": {},
   "source": [
    "### Определение автора с самой высокой средней оценкой книг с 50 и более оценками"
   ]
  },
  {
   "cell_type": "markdown",
   "metadata": {},
   "source": [
    "Сделаем SQL запрос и и определим топ автора."
   ]
  },
  {
   "cell_type": "code",
   "execution_count": 32,
   "metadata": {},
   "outputs": [],
   "source": [
    "query = '''SELECT\n",
    "             authors.author AS author,\n",
    "             AVG(ratings_50.avg_rating) AS avg_rating,\n",
    "             COUNT(books.book_id) AS cnt_books\n",
    "           FROM\n",
    "             books\n",
    "             INNER JOIN (SELECT\n",
    "                          book_id AS book_id,\n",
    "                          AVG(rating) AS avg_rating                          \n",
    "                        FROM\n",
    "                          ratings\n",
    "                        GROUP BY\n",
    "                          book_id                          \n",
    "                        HAVING\n",
    "                          COUNT(rating_id) > 50) AS ratings_50 ON ratings_50.book_id = books.book_id\n",
    "             LEFT JOIN authors ON authors.author_id = books.author_id\n",
    "           GROUP BY\n",
    "             author\n",
    "           ORDER BY\n",
    "             avg_rating DESC\n",
    "           LIMIT 1\n",
    "        '''"
   ]
  },
  {
   "cell_type": "code",
   "execution_count": 33,
   "metadata": {},
   "outputs": [
    {
     "data": {
      "text/html": [
       "<div>\n",
       "<style scoped>\n",
       "    .dataframe tbody tr th:only-of-type {\n",
       "        vertical-align: middle;\n",
       "    }\n",
       "\n",
       "    .dataframe tbody tr th {\n",
       "        vertical-align: top;\n",
       "    }\n",
       "\n",
       "    .dataframe thead th {\n",
       "        text-align: right;\n",
       "    }\n",
       "</style>\n",
       "<table border=\"1\" class=\"dataframe\">\n",
       "  <thead>\n",
       "    <tr style=\"text-align: right;\">\n",
       "      <th></th>\n",
       "      <th>author</th>\n",
       "      <th>avg_rating</th>\n",
       "      <th>cnt_books</th>\n",
       "    </tr>\n",
       "  </thead>\n",
       "  <tbody>\n",
       "    <tr>\n",
       "      <th>0</th>\n",
       "      <td>J.K. Rowling/Mary GrandPré</td>\n",
       "      <td>4.283844</td>\n",
       "      <td>4</td>\n",
       "    </tr>\n",
       "  </tbody>\n",
       "</table>\n",
       "</div>"
      ],
      "text/plain": [
       "                       author  avg_rating  cnt_books\n",
       "0  J.K. Rowling/Mary GrandPré    4.283844          4"
      ]
     },
     "execution_count": 33,
     "metadata": {},
     "output_type": "execute_result"
    }
   ],
   "source": [
    "top_author = pd.io.sql.read_sql(query, con = engine)\n",
    "top_author"
   ]
  },
  {
   "cell_type": "markdown",
   "metadata": {},
   "source": [
    "Автор с самой высокой средней оценкой с 50 и более оценками является J.K. Rowling/Mary GrandPré. Средний рейтинг составлен на основе оценки 4-х книг."
   ]
  },
  {
   "cell_type": "markdown",
   "metadata": {},
   "source": [
    "<div class=\"alert alert-danger\">\n",
    "<b>Комментарий ревьюера v.1</b> \n",
    "    \n",
    "📝 <b>Запрос 4:</b> А вот этот запрос нужно немного скорректировать. Смотри, по заданию, нам в начале нужно выбрать книги, у которых 50 или более оценок и уже используя только эти книги подсчитать средний рейтинг для каждой книги и агрегировать данные по автору. Сейчас мы выбрали авторов, у которых количество оценок для всех книг 50 или более. Пожалуйста, скорректируй этот запрос. Также будет полезно вывести количество книг, которые вошли в подсчет (опционально).\n",
    "</div> "
   ]
  },
  {
   "cell_type": "markdown",
   "metadata": {},
   "source": [
    "<div class=\"alert alert-info\"> \n",
    "<b>Комментарий студента</b> \n",
    "    \n",
    "Понял, поправил, видимо я не так воспринял задание в этом пункте, мне почему-то показалось, что автора у которого все книги заработали более 50 оценок. Переделал, добавил подсчет книг.=) Надеюсь, что все верно.\n",
    "</div>"
   ]
  },
  {
   "cell_type": "markdown",
   "metadata": {},
   "source": [
    "<div class=\"alert alert-success\">\n",
    "<b>Комментарий ревьюера v.2</b> \n",
    "    \n",
    "👍 <b>Запрос 4:</b> Спасибо, что объяснил почему сделал запрос таким образом. Теперь все корректно! Спасибо, что проработал этот момент.\n",
    "</div>"
   ]
  },
  {
   "cell_type": "markdown",
   "metadata": {},
   "source": [
    "### Подсчет среднего количества обзоров от пользователей, которые поставили больше 50 оценок"
   ]
  },
  {
   "cell_type": "markdown",
   "metadata": {},
   "source": [
    "Сделаем SQL запрос и подсчитаем среднее количество обзоров от пользователей, которые поставили больше 50 оценок."
   ]
  },
  {
   "cell_type": "code",
   "execution_count": 26,
   "metadata": {},
   "outputs": [],
   "source": [
    "query = '''SELECT\n",
    "             AVG(Sub.cnt_reviews) AS avg_reviews\n",
    "           FROM\n",
    "             (SELECT\n",
    "                username,\n",
    "                COUNT(review_id) AS cnt_reviews\n",
    "              FROM\n",
    "                reviews\n",
    "              WHERE\n",
    "                username IN (SELECT\n",
    "                                 username\n",
    "                               FROM\n",
    "                                 ratings\n",
    "                               GROUP BY\n",
    "                                 username\n",
    "                               HAVING\n",
    "                                 COUNT(rating_id) >50)\n",
    "              GROUP BY\n",
    "                username) AS Sub\n",
    "            \n",
    "        '''"
   ]
  },
  {
   "cell_type": "code",
   "execution_count": 27,
   "metadata": {},
   "outputs": [
    {
     "data": {
      "text/html": [
       "<div>\n",
       "<style scoped>\n",
       "    .dataframe tbody tr th:only-of-type {\n",
       "        vertical-align: middle;\n",
       "    }\n",
       "\n",
       "    .dataframe tbody tr th {\n",
       "        vertical-align: top;\n",
       "    }\n",
       "\n",
       "    .dataframe thead th {\n",
       "        text-align: right;\n",
       "    }\n",
       "</style>\n",
       "<table border=\"1\" class=\"dataframe\">\n",
       "  <thead>\n",
       "    <tr style=\"text-align: right;\">\n",
       "      <th></th>\n",
       "      <th>avg_reviews</th>\n",
       "    </tr>\n",
       "  </thead>\n",
       "  <tbody>\n",
       "    <tr>\n",
       "      <th>0</th>\n",
       "      <td>24.333333</td>\n",
       "    </tr>\n",
       "  </tbody>\n",
       "</table>\n",
       "</div>"
      ],
      "text/plain": [
       "   avg_reviews\n",
       "0    24.333333"
      ]
     },
     "execution_count": 27,
     "metadata": {},
     "output_type": "execute_result"
    }
   ],
   "source": [
    "avg_count_reviews = pd.io.sql.read_sql(query, con = engine)\n",
    "avg_count_reviews"
   ]
  },
  {
   "cell_type": "markdown",
   "metadata": {},
   "source": [
    "Среднее количество обзоров от пользователей, поставивших более 50 оценок - 24.33. Это говорит о том, что активные читатели оставляют отзывы не на все прочитанные книги. Отзывов как миниму в половину меньше, чем оценок."
   ]
  },
  {
   "cell_type": "markdown",
   "metadata": {},
   "source": [
    "<div class=\"alert alert-success\">\n",
    "<b>Комментарий ревьюера v.1</b> \n",
    "    \n",
    "👍 <b>Запрос 5:</b> А здесь все верно!\n",
    "</div>"
   ]
  },
  {
   "cell_type": "markdown",
   "metadata": {},
   "source": [
    "## Выводы"
   ]
  },
  {
   "cell_type": "markdown",
   "metadata": {},
   "source": [
    "После проведения исследования таблиц с помощью SQL-запросов выяснили следующее:\n",
    "\n",
    "1. Из 1000 книг, 819 - это книги, выпущенные после 01 января 2000 года. Т.е. преимущественно книги современного авторства превалируют. Можно данную информацию выделить на входной страницедля привлечения аудитории по тэгам.\n",
    "2. У каждой книги есть как минимум несколько отзывов и средняя оценка, что позволяет в данном списке выделить наиболее интересные и понравившиеся книги для новых читателей, сделать отбор и рекомендации.\n",
    "3. Издатель Penguin Books выпустил наибольшее количество книг - 42 штуки. Его активность говорит о том, что стоит изучить ассортимент выпускаемых книг, возможно, что выпускаемые им книги пользуются популярностью и их можно выделить, как отдельный контент с ссылкой на данное издательство на входной странице.\n",
    "4. Автор с самой высокой средней оценкой с 50 и более оценками является J.K. Rowling/Mary GrandPré. Оценка составлена на средней оценке 4 книг этого автора, возможно это Гарри Поттер. Стоит это отметить на входной странице как топ автор и его книги выделить в отдельный контент с ссылкой на входной странице.\n",
    "5. Среднее количество обзоров от пользователей, поставивших более 50 оценок - 24.33. Это говорит о том, что активные читатели оставляют отзывы не на все прочитанные книги. Отзывов как миниму в половину меньше, чем оценок. Возможно, что следует добавить пояснение для читателей при оценке, что его отзыв поможет другим читателям в выборе книги, это повысит частоту написания отзывов."
   ]
  },
  {
   "cell_type": "markdown",
   "metadata": {},
   "source": [
    "<div class=\"alert alert-success\">\n",
    "<b>Комментарий ревьюера v.1</b> \n",
    "    \n",
    "👍 Отлично, что в проекте есть небольшое резюме по результатам запросов! Не забудь, пожалуйста, проверить его после работы с комментариями.\n",
    "\n",
    "</div>"
   ]
  },
  {
   "cell_type": "markdown",
   "metadata": {},
   "source": [
    "<div class=\"alert alert-info\"> \n",
    "<b>Комментарий студента</b> \n",
    "    \n",
    "Подкорректировал=)\n",
    "</div>"
   ]
  },
  {
   "cell_type": "markdown",
   "metadata": {},
   "source": [
    "<div class=\"alert alert-success\">\n",
    "<b>Комментарий ревьюера v.2</b> \n",
    "    \n",
    "👍 Спасибо!\n",
    "</div>"
   ]
  }
 ],
 "metadata": {
  "ExecuteTimeLog": [
   {
    "duration": 666,
    "start_time": "2022-04-19T08:17:08.580Z"
   },
   {
    "duration": 6455,
    "start_time": "2022-04-19T08:19:23.052Z"
   },
   {
    "duration": 3,
    "start_time": "2022-04-19T08:27:07.862Z"
   },
   {
    "duration": 261,
    "start_time": "2022-04-19T08:27:14.871Z"
   },
   {
    "duration": 3,
    "start_time": "2022-04-19T08:36:55.763Z"
   },
   {
    "duration": 73,
    "start_time": "2022-04-19T08:36:58.304Z"
   },
   {
    "duration": 3,
    "start_time": "2022-04-19T08:40:33.192Z"
   },
   {
    "duration": 267,
    "start_time": "2022-04-19T08:40:34.660Z"
   },
   {
    "duration": 2,
    "start_time": "2022-04-19T08:40:51.188Z"
   },
   {
    "duration": 71,
    "start_time": "2022-04-19T08:40:53.610Z"
   },
   {
    "duration": 3,
    "start_time": "2022-04-19T08:41:27.535Z"
   },
   {
    "duration": 185,
    "start_time": "2022-04-19T08:41:29.072Z"
   },
   {
    "duration": 3,
    "start_time": "2022-04-19T08:41:40.543Z"
   },
   {
    "duration": 69,
    "start_time": "2022-04-19T08:41:42.118Z"
   },
   {
    "duration": 71,
    "start_time": "2022-04-19T08:42:10.893Z"
   },
   {
    "duration": 3,
    "start_time": "2022-04-19T08:42:17.840Z"
   },
   {
    "duration": 99,
    "start_time": "2022-04-19T08:42:33.660Z"
   },
   {
    "duration": 3,
    "start_time": "2022-04-19T10:11:25.605Z"
   },
   {
    "duration": 120,
    "start_time": "2022-04-19T10:11:27.495Z"
   },
   {
    "duration": 3,
    "start_time": "2022-04-19T10:31:09.930Z"
   },
   {
    "duration": 175,
    "start_time": "2022-04-19T10:31:13.543Z"
   },
   {
    "duration": 3,
    "start_time": "2022-04-19T10:32:30.878Z"
   },
   {
    "duration": 178,
    "start_time": "2022-04-19T10:32:31.800Z"
   },
   {
    "duration": 2,
    "start_time": "2022-04-19T10:33:58.291Z"
   },
   {
    "duration": 180,
    "start_time": "2022-04-19T10:33:59.214Z"
   },
   {
    "duration": 3,
    "start_time": "2022-04-19T10:35:04.774Z"
   },
   {
    "duration": 183,
    "start_time": "2022-04-19T10:35:06.367Z"
   },
   {
    "duration": 480,
    "start_time": "2022-04-19T10:35:47.202Z"
   },
   {
    "duration": 6158,
    "start_time": "2022-04-19T10:35:47.683Z"
   },
   {
    "duration": 3,
    "start_time": "2022-04-19T10:35:53.842Z"
   },
   {
    "duration": 246,
    "start_time": "2022-04-19T10:35:53.847Z"
   },
   {
    "duration": 2,
    "start_time": "2022-04-19T10:35:54.095Z"
   },
   {
    "duration": 257,
    "start_time": "2022-04-19T10:35:54.098Z"
   },
   {
    "duration": 3,
    "start_time": "2022-04-19T10:36:35.295Z"
   },
   {
    "duration": 190,
    "start_time": "2022-04-19T10:36:36.896Z"
   },
   {
    "duration": 2,
    "start_time": "2022-04-19T10:39:35.049Z"
   },
   {
    "duration": 175,
    "start_time": "2022-04-19T10:39:35.754Z"
   },
   {
    "duration": 2,
    "start_time": "2022-04-19T10:42:32.606Z"
   },
   {
    "duration": 183,
    "start_time": "2022-04-19T10:42:33.657Z"
   },
   {
    "duration": 2,
    "start_time": "2022-04-19T10:42:56.641Z"
   },
   {
    "duration": 176,
    "start_time": "2022-04-19T10:42:58.373Z"
   },
   {
    "duration": 2,
    "start_time": "2022-04-19T10:43:28.119Z"
   },
   {
    "duration": 67,
    "start_time": "2022-04-19T10:43:29.594Z"
   },
   {
    "duration": 69,
    "start_time": "2022-04-19T10:43:41.355Z"
   },
   {
    "duration": 3,
    "start_time": "2022-04-19T10:43:57.142Z"
   },
   {
    "duration": 183,
    "start_time": "2022-04-19T10:43:58.266Z"
   },
   {
    "duration": 2,
    "start_time": "2022-04-19T10:44:43.277Z"
   },
   {
    "duration": 84,
    "start_time": "2022-04-19T10:44:43.923Z"
   },
   {
    "duration": 2,
    "start_time": "2022-04-19T10:44:51.492Z"
   },
   {
    "duration": 177,
    "start_time": "2022-04-19T10:44:55.828Z"
   },
   {
    "duration": 2,
    "start_time": "2022-04-19T10:45:23.698Z"
   },
   {
    "duration": 3,
    "start_time": "2022-04-19T10:45:28.985Z"
   },
   {
    "duration": 206,
    "start_time": "2022-04-19T10:45:29.890Z"
   },
   {
    "duration": 4,
    "start_time": "2022-04-19T10:49:37.341Z"
   },
   {
    "duration": 181,
    "start_time": "2022-04-19T10:49:38.802Z"
   },
   {
    "duration": 3,
    "start_time": "2022-04-19T10:49:58.633Z"
   },
   {
    "duration": 255,
    "start_time": "2022-04-19T10:50:00.288Z"
   },
   {
    "duration": 3,
    "start_time": "2022-04-19T10:50:43.042Z"
   },
   {
    "duration": 177,
    "start_time": "2022-04-19T10:50:44.630Z"
   },
   {
    "duration": 3,
    "start_time": "2022-04-19T10:50:53.987Z"
   },
   {
    "duration": 189,
    "start_time": "2022-04-19T10:50:54.876Z"
   },
   {
    "duration": 3,
    "start_time": "2022-04-19T10:55:09.407Z"
   },
   {
    "duration": 68,
    "start_time": "2022-04-19T10:55:10.220Z"
   },
   {
    "duration": 3,
    "start_time": "2022-04-19T10:57:10.505Z"
   },
   {
    "duration": 67,
    "start_time": "2022-04-19T10:57:11.100Z"
   },
   {
    "duration": 3,
    "start_time": "2022-04-19T11:04:42.162Z"
   },
   {
    "duration": 192,
    "start_time": "2022-04-19T11:04:43.695Z"
   },
   {
    "duration": 3,
    "start_time": "2022-04-19T11:05:51.460Z"
   },
   {
    "duration": 183,
    "start_time": "2022-04-19T11:05:52.240Z"
   },
   {
    "duration": 3,
    "start_time": "2022-04-19T11:06:11.355Z"
   },
   {
    "duration": 98,
    "start_time": "2022-04-19T11:06:12.111Z"
   },
   {
    "duration": 98,
    "start_time": "2022-04-19T11:07:31.165Z"
   },
   {
    "duration": 95,
    "start_time": "2022-04-19T11:11:44.643Z"
   },
   {
    "duration": 2,
    "start_time": "2022-04-19T11:11:56.074Z"
   },
   {
    "duration": 67,
    "start_time": "2022-04-19T11:11:56.990Z"
   },
   {
    "duration": 1810,
    "start_time": "2022-04-19T11:12:08.236Z"
   },
   {
    "duration": 67,
    "start_time": "2022-04-19T11:12:24.545Z"
   },
   {
    "duration": 1872,
    "start_time": "2022-04-19T11:13:16.429Z"
   },
   {
    "duration": 67,
    "start_time": "2022-04-19T11:13:25.087Z"
   },
   {
    "duration": 67,
    "start_time": "2022-04-19T11:14:02.698Z"
   },
   {
    "duration": 3,
    "start_time": "2022-04-19T11:25:30.512Z"
   },
   {
    "duration": 185,
    "start_time": "2022-04-19T11:25:44.093Z"
   },
   {
    "duration": 3,
    "start_time": "2022-04-19T11:25:55.663Z"
   },
   {
    "duration": 231,
    "start_time": "2022-04-19T11:25:56.907Z"
   },
   {
    "duration": 2,
    "start_time": "2022-04-19T11:26:44.537Z"
   },
   {
    "duration": 75,
    "start_time": "2022-04-19T11:26:45.806Z"
   },
   {
    "duration": 3,
    "start_time": "2022-04-19T11:28:42.015Z"
   },
   {
    "duration": 74,
    "start_time": "2022-04-19T11:28:42.479Z"
   },
   {
    "duration": 2,
    "start_time": "2022-04-19T11:28:53.595Z"
   },
   {
    "duration": 186,
    "start_time": "2022-04-19T11:28:55.549Z"
   },
   {
    "duration": 3,
    "start_time": "2022-04-19T11:29:32.019Z"
   },
   {
    "duration": 72,
    "start_time": "2022-04-19T11:29:33.421Z"
   },
   {
    "duration": 2,
    "start_time": "2022-04-19T11:29:47.990Z"
   },
   {
    "duration": 72,
    "start_time": "2022-04-19T11:29:49.247Z"
   },
   {
    "duration": 3,
    "start_time": "2022-04-19T11:29:59.676Z"
   },
   {
    "duration": 71,
    "start_time": "2022-04-19T11:30:00.224Z"
   },
   {
    "duration": 2,
    "start_time": "2022-04-19T11:41:11.191Z"
   },
   {
    "duration": 210,
    "start_time": "2022-04-19T11:41:20.248Z"
   },
   {
    "duration": 2,
    "start_time": "2022-04-19T11:41:29.007Z"
   },
   {
    "duration": 284,
    "start_time": "2022-04-19T11:41:29.978Z"
   },
   {
    "duration": 2,
    "start_time": "2022-04-19T11:41:54.643Z"
   },
   {
    "duration": 176,
    "start_time": "2022-04-19T11:41:55.544Z"
   },
   {
    "duration": 2,
    "start_time": "2022-04-19T11:42:24.655Z"
   },
   {
    "duration": 83,
    "start_time": "2022-04-19T11:42:25.318Z"
   },
   {
    "duration": 2,
    "start_time": "2022-04-19T11:44:56.111Z"
   },
   {
    "duration": 71,
    "start_time": "2022-04-19T11:44:58.643Z"
   },
   {
    "duration": 3,
    "start_time": "2022-04-19T11:52:49.120Z"
   },
   {
    "duration": 74,
    "start_time": "2022-04-19T11:52:50.792Z"
   },
   {
    "duration": 5,
    "start_time": "2022-04-19T11:53:17.765Z"
   },
   {
    "duration": 73,
    "start_time": "2022-04-19T11:53:20.084Z"
   },
   {
    "duration": 3,
    "start_time": "2022-04-19T11:53:36.512Z"
   },
   {
    "duration": 75,
    "start_time": "2022-04-19T11:53:38.084Z"
   },
   {
    "duration": 3,
    "start_time": "2022-04-19T12:06:24.098Z"
   },
   {
    "duration": 178,
    "start_time": "2022-04-19T12:06:24.967Z"
   },
   {
    "duration": 3,
    "start_time": "2022-04-19T12:06:42.682Z"
   },
   {
    "duration": 76,
    "start_time": "2022-04-19T12:06:44.851Z"
   },
   {
    "duration": 3,
    "start_time": "2022-04-19T12:11:04.139Z"
   },
   {
    "duration": 73,
    "start_time": "2022-04-19T12:11:05.835Z"
   },
   {
    "duration": 2,
    "start_time": "2022-04-19T12:11:44.115Z"
   },
   {
    "duration": 75,
    "start_time": "2022-04-19T12:11:45.425Z"
   },
   {
    "duration": 2,
    "start_time": "2022-04-19T12:15:31.370Z"
   },
   {
    "duration": 73,
    "start_time": "2022-04-19T12:15:32.563Z"
   },
   {
    "duration": 2,
    "start_time": "2022-04-19T12:15:52.335Z"
   },
   {
    "duration": 73,
    "start_time": "2022-04-19T12:15:53.638Z"
   },
   {
    "duration": 72,
    "start_time": "2022-04-19T12:27:56.167Z"
   },
   {
    "duration": 3,
    "start_time": "2022-04-19T12:29:58.210Z"
   },
   {
    "duration": 193,
    "start_time": "2022-04-19T12:30:08.129Z"
   },
   {
    "duration": 5,
    "start_time": "2022-04-19T12:30:33.836Z"
   },
   {
    "duration": 239,
    "start_time": "2022-04-19T12:30:35.097Z"
   },
   {
    "duration": 3,
    "start_time": "2022-04-19T12:33:45.110Z"
   },
   {
    "duration": 186,
    "start_time": "2022-04-19T12:33:46.024Z"
   },
   {
    "duration": 3,
    "start_time": "2022-04-19T12:36:54.885Z"
   },
   {
    "duration": 176,
    "start_time": "2022-04-19T12:36:55.757Z"
   },
   {
    "duration": 3,
    "start_time": "2022-04-19T12:37:28.468Z"
   },
   {
    "duration": 204,
    "start_time": "2022-04-19T12:37:29.187Z"
   },
   {
    "duration": 2,
    "start_time": "2022-04-19T12:38:36.474Z"
   },
   {
    "duration": 197,
    "start_time": "2022-04-19T12:38:37.161Z"
   },
   {
    "duration": 5,
    "start_time": "2022-04-19T12:38:54.203Z"
   },
   {
    "duration": 70,
    "start_time": "2022-04-19T12:38:54.960Z"
   },
   {
    "duration": 72,
    "start_time": "2022-04-19T12:54:03.547Z"
   },
   {
    "duration": 544,
    "start_time": "2022-04-19T12:56:29.725Z"
   },
   {
    "duration": 6261,
    "start_time": "2022-04-19T12:56:30.271Z"
   },
   {
    "duration": 3,
    "start_time": "2022-04-19T12:56:36.533Z"
   },
   {
    "duration": 226,
    "start_time": "2022-04-19T12:56:36.538Z"
   },
   {
    "duration": 3,
    "start_time": "2022-04-19T12:56:36.765Z"
   },
   {
    "duration": 99,
    "start_time": "2022-04-19T12:56:36.770Z"
   },
   {
    "duration": 3,
    "start_time": "2022-04-19T12:56:36.872Z"
   },
   {
    "duration": 67,
    "start_time": "2022-04-19T12:56:36.877Z"
   },
   {
    "duration": 2,
    "start_time": "2022-04-19T12:56:36.946Z"
   },
   {
    "duration": 75,
    "start_time": "2022-04-19T12:56:36.950Z"
   },
   {
    "duration": 3,
    "start_time": "2022-04-19T12:56:37.026Z"
   },
   {
    "duration": 78,
    "start_time": "2022-04-19T12:56:37.030Z"
   },
   {
    "duration": 79,
    "start_time": "2022-04-19T14:43:28.977Z"
   },
   {
    "duration": 682,
    "start_time": "2022-04-19T14:43:41.102Z"
   },
   {
    "duration": 11460,
    "start_time": "2022-04-19T14:43:41.787Z"
   },
   {
    "duration": 4,
    "start_time": "2022-04-19T14:43:53.250Z"
   },
   {
    "duration": 72,
    "start_time": "2022-04-19T14:43:53.256Z"
   },
   {
    "duration": 6,
    "start_time": "2022-04-19T14:43:53.332Z"
   },
   {
    "duration": 35,
    "start_time": "2022-04-19T14:43:53.340Z"
   },
   {
    "duration": 5,
    "start_time": "2022-04-19T14:43:53.377Z"
   },
   {
    "duration": 19,
    "start_time": "2022-04-19T14:43:53.393Z"
   },
   {
    "duration": 4,
    "start_time": "2022-04-19T14:43:53.415Z"
   },
   {
    "duration": 23,
    "start_time": "2022-04-19T14:43:53.422Z"
   },
   {
    "duration": 4,
    "start_time": "2022-04-19T14:43:53.448Z"
   },
   {
    "duration": 52,
    "start_time": "2022-04-19T14:43:53.455Z"
   },
   {
    "duration": 17,
    "start_time": "2022-04-19T14:45:58.109Z"
   },
   {
    "duration": 5,
    "start_time": "2022-04-19T14:46:01.916Z"
   },
   {
    "duration": 32,
    "start_time": "2022-04-19T14:46:02.307Z"
   },
   {
    "duration": 4,
    "start_time": "2022-04-19T14:47:03.897Z"
   },
   {
    "duration": 17,
    "start_time": "2022-04-19T14:47:04.721Z"
   },
   {
    "duration": 3,
    "start_time": "2022-04-19T14:47:08.761Z"
   },
   {
    "duration": 20,
    "start_time": "2022-04-19T14:47:09.240Z"
   },
   {
    "duration": 4,
    "start_time": "2022-04-19T14:48:17.373Z"
   },
   {
    "duration": 22,
    "start_time": "2022-04-19T14:48:19.180Z"
   },
   {
    "duration": 21,
    "start_time": "2022-04-19T14:48:24.357Z"
   },
   {
    "duration": 4,
    "start_time": "2022-04-19T14:48:26.435Z"
   },
   {
    "duration": 19,
    "start_time": "2022-04-19T14:48:26.677Z"
   },
   {
    "duration": 584,
    "start_time": "2022-04-19T15:23:16.314Z"
   },
   {
    "duration": 10397,
    "start_time": "2022-04-19T15:23:18.393Z"
   },
   {
    "duration": 3,
    "start_time": "2022-04-19T15:23:32.477Z"
   },
   {
    "duration": 38,
    "start_time": "2022-04-19T15:23:33.658Z"
   },
   {
    "duration": 16,
    "start_time": "2022-04-19T15:24:07.577Z"
   },
   {
    "duration": 6,
    "start_time": "2022-04-19T15:24:29.137Z"
   },
   {
    "duration": 24,
    "start_time": "2022-04-19T15:24:34.288Z"
   },
   {
    "duration": 11,
    "start_time": "2022-04-19T15:24:37.767Z"
   },
   {
    "duration": 3,
    "start_time": "2022-04-19T15:25:22.905Z"
   },
   {
    "duration": 17,
    "start_time": "2022-04-19T15:26:05.857Z"
   },
   {
    "duration": 15,
    "start_time": "2022-04-19T15:26:22.478Z"
   },
   {
    "duration": 14,
    "start_time": "2022-04-19T15:28:26.170Z"
   },
   {
    "duration": 3,
    "start_time": "2022-04-19T15:28:30.935Z"
   },
   {
    "duration": 22,
    "start_time": "2022-04-19T15:28:33.509Z"
   },
   {
    "duration": 13,
    "start_time": "2022-04-19T15:28:53.043Z"
   },
   {
    "duration": 5,
    "start_time": "2022-04-19T15:29:54.841Z"
   },
   {
    "duration": 30,
    "start_time": "2022-04-19T15:30:40.485Z"
   },
   {
    "duration": 12,
    "start_time": "2022-04-19T15:30:55.729Z"
   },
   {
    "duration": 3,
    "start_time": "2022-04-19T15:31:37.845Z"
   },
   {
    "duration": 21,
    "start_time": "2022-04-19T15:32:23.358Z"
   },
   {
    "duration": 12,
    "start_time": "2022-04-19T15:32:41.157Z"
   },
   {
    "duration": 4,
    "start_time": "2022-04-19T15:45:31.522Z"
   },
   {
    "duration": 353,
    "start_time": "2022-04-19T15:45:32.679Z"
   },
   {
    "duration": 3,
    "start_time": "2022-04-19T15:46:38.011Z"
   },
   {
    "duration": 264,
    "start_time": "2022-04-19T15:46:39.712Z"
   },
   {
    "duration": 3,
    "start_time": "2022-04-19T15:46:53.571Z"
   },
   {
    "duration": 15,
    "start_time": "2022-04-19T15:46:54.254Z"
   },
   {
    "duration": 3,
    "start_time": "2022-04-19T15:48:03.404Z"
   },
   {
    "duration": 21,
    "start_time": "2022-04-19T15:48:04.129Z"
   },
   {
    "duration": 6,
    "start_time": "2022-04-19T15:49:45.035Z"
   },
   {
    "duration": 222,
    "start_time": "2022-04-19T15:49:45.739Z"
   },
   {
    "duration": 3,
    "start_time": "2022-04-19T15:51:40.165Z"
   },
   {
    "duration": 17,
    "start_time": "2022-04-19T15:51:41.260Z"
   },
   {
    "duration": 3,
    "start_time": "2022-04-19T15:53:46.063Z"
   },
   {
    "duration": 23,
    "start_time": "2022-04-19T15:53:52.824Z"
   },
   {
    "duration": 3,
    "start_time": "2022-04-19T15:54:20.802Z"
   },
   {
    "duration": 21,
    "start_time": "2022-04-19T15:54:25.118Z"
   },
   {
    "duration": 6,
    "start_time": "2022-04-19T15:54:59.455Z"
   },
   {
    "duration": 14,
    "start_time": "2022-04-19T15:55:00.106Z"
   },
   {
    "duration": 3,
    "start_time": "2022-04-19T15:56:18.084Z"
   },
   {
    "duration": 18,
    "start_time": "2022-04-19T15:56:21.199Z"
   },
   {
    "duration": 3,
    "start_time": "2022-04-19T15:56:54.927Z"
   },
   {
    "duration": 190,
    "start_time": "2022-04-19T15:56:59.280Z"
   },
   {
    "duration": 3,
    "start_time": "2022-04-19T15:57:43.148Z"
   },
   {
    "duration": 3,
    "start_time": "2022-04-19T15:57:43.985Z"
   },
   {
    "duration": 7,
    "start_time": "2022-04-19T15:57:48.738Z"
   },
   {
    "duration": 21,
    "start_time": "2022-04-19T15:57:52.549Z"
   },
   {
    "duration": 6,
    "start_time": "2022-04-19T15:58:33.524Z"
   },
   {
    "duration": 199,
    "start_time": "2022-04-19T15:58:35.557Z"
   },
   {
    "duration": 6,
    "start_time": "2022-04-19T15:59:31.251Z"
   },
   {
    "duration": 15,
    "start_time": "2022-04-19T15:59:34.606Z"
   },
   {
    "duration": 2,
    "start_time": "2022-04-19T16:00:38.647Z"
   },
   {
    "duration": 191,
    "start_time": "2022-04-19T16:00:41.766Z"
   },
   {
    "duration": 4,
    "start_time": "2022-04-19T16:01:11.556Z"
   },
   {
    "duration": 240,
    "start_time": "2022-04-19T16:01:16.471Z"
   },
   {
    "duration": 3,
    "start_time": "2022-04-19T16:01:36.348Z"
   },
   {
    "duration": 16,
    "start_time": "2022-04-19T16:01:41.982Z"
   },
   {
    "duration": 5,
    "start_time": "2022-04-19T16:01:55.334Z"
   },
   {
    "duration": 15,
    "start_time": "2022-04-19T16:02:02.494Z"
   },
   {
    "duration": 3,
    "start_time": "2022-04-19T16:04:50.836Z"
   },
   {
    "duration": 15,
    "start_time": "2022-04-19T16:04:52.912Z"
   },
   {
    "duration": 21,
    "start_time": "2022-04-19T16:05:10.330Z"
   },
   {
    "duration": 16,
    "start_time": "2022-04-19T16:05:18.703Z"
   },
   {
    "duration": 3,
    "start_time": "2022-04-19T16:05:23.895Z"
   },
   {
    "duration": 17,
    "start_time": "2022-04-19T16:05:25.240Z"
   },
   {
    "duration": 524,
    "start_time": "2022-04-19T16:15:12.089Z"
   },
   {
    "duration": 9941,
    "start_time": "2022-04-19T16:15:12.615Z"
   },
   {
    "duration": 3,
    "start_time": "2022-04-19T16:15:22.558Z"
   },
   {
    "duration": 45,
    "start_time": "2022-04-19T16:15:22.563Z"
   },
   {
    "duration": 22,
    "start_time": "2022-04-19T16:15:22.610Z"
   },
   {
    "duration": 4,
    "start_time": "2022-04-19T16:15:22.634Z"
   },
   {
    "duration": 15,
    "start_time": "2022-04-19T16:15:22.640Z"
   },
   {
    "duration": 11,
    "start_time": "2022-04-19T16:15:22.657Z"
   },
   {
    "duration": 4,
    "start_time": "2022-04-19T16:15:22.670Z"
   },
   {
    "duration": 18,
    "start_time": "2022-04-19T16:15:22.677Z"
   },
   {
    "duration": 41,
    "start_time": "2022-04-19T16:15:22.697Z"
   },
   {
    "duration": 3,
    "start_time": "2022-04-19T16:15:22.740Z"
   },
   {
    "duration": 43,
    "start_time": "2022-04-19T16:15:22.745Z"
   },
   {
    "duration": 17,
    "start_time": "2022-04-19T16:15:22.790Z"
   },
   {
    "duration": 9,
    "start_time": "2022-04-19T16:15:22.822Z"
   },
   {
    "duration": 25,
    "start_time": "2022-04-19T16:15:22.833Z"
   },
   {
    "duration": 15,
    "start_time": "2022-04-19T16:15:22.860Z"
   },
   {
    "duration": 3,
    "start_time": "2022-04-19T16:15:22.877Z"
   },
   {
    "duration": 17,
    "start_time": "2022-04-19T16:15:22.882Z"
   },
   {
    "duration": 14,
    "start_time": "2022-04-19T16:15:22.925Z"
   },
   {
    "duration": 28,
    "start_time": "2022-04-19T16:15:22.941Z"
   },
   {
    "duration": 3,
    "start_time": "2022-04-19T16:15:22.971Z"
   },
   {
    "duration": 16,
    "start_time": "2022-04-19T16:15:22.975Z"
   },
   {
    "duration": 2,
    "start_time": "2022-04-19T16:15:22.993Z"
   },
   {
    "duration": 32,
    "start_time": "2022-04-19T16:15:22.997Z"
   },
   {
    "duration": 3,
    "start_time": "2022-04-19T16:15:23.041Z"
   },
   {
    "duration": 15,
    "start_time": "2022-04-19T16:15:23.047Z"
   },
   {
    "duration": 3,
    "start_time": "2022-04-19T16:16:51.564Z"
   },
   {
    "duration": 17,
    "start_time": "2022-04-19T16:16:54.484Z"
   },
   {
    "duration": 3,
    "start_time": "2022-04-19T16:17:11.846Z"
   },
   {
    "duration": 25,
    "start_time": "2022-04-19T16:17:12.516Z"
   },
   {
    "duration": 678,
    "start_time": "2022-04-19T16:37:41.231Z"
   },
   {
    "duration": 11817,
    "start_time": "2022-04-19T16:37:41.912Z"
   },
   {
    "duration": 4,
    "start_time": "2022-04-19T16:37:53.732Z"
   },
   {
    "duration": 69,
    "start_time": "2022-04-19T16:37:53.738Z"
   },
   {
    "duration": 16,
    "start_time": "2022-04-19T16:37:53.812Z"
   },
   {
    "duration": 13,
    "start_time": "2022-04-19T16:37:53.830Z"
   },
   {
    "duration": 28,
    "start_time": "2022-04-19T16:37:53.845Z"
   },
   {
    "duration": 33,
    "start_time": "2022-04-19T16:37:53.875Z"
   },
   {
    "duration": 9,
    "start_time": "2022-04-19T16:37:53.910Z"
   },
   {
    "duration": 25,
    "start_time": "2022-04-19T16:37:53.921Z"
   },
   {
    "duration": 16,
    "start_time": "2022-04-19T16:37:53.948Z"
   },
   {
    "duration": 5,
    "start_time": "2022-04-19T16:37:53.993Z"
   },
   {
    "duration": 48,
    "start_time": "2022-04-19T16:37:54.000Z"
   },
   {
    "duration": 16,
    "start_time": "2022-04-19T16:37:54.053Z"
   },
   {
    "duration": 23,
    "start_time": "2022-04-19T16:37:54.071Z"
   },
   {
    "duration": 33,
    "start_time": "2022-04-19T16:37:54.097Z"
   },
   {
    "duration": 23,
    "start_time": "2022-04-19T16:37:54.133Z"
   },
   {
    "duration": 33,
    "start_time": "2022-04-19T16:37:54.160Z"
   },
   {
    "duration": 15,
    "start_time": "2022-04-19T16:37:54.196Z"
   },
   {
    "duration": 3,
    "start_time": "2022-04-19T16:37:54.214Z"
   },
   {
    "duration": 45,
    "start_time": "2022-04-19T16:37:54.219Z"
   },
   {
    "duration": 4,
    "start_time": "2022-04-19T16:37:54.266Z"
   },
   {
    "duration": 34,
    "start_time": "2022-04-19T16:37:54.272Z"
   },
   {
    "duration": 5,
    "start_time": "2022-04-19T16:37:54.308Z"
   },
   {
    "duration": 32,
    "start_time": "2022-04-19T16:37:54.315Z"
   },
   {
    "duration": 4,
    "start_time": "2022-04-19T16:37:54.349Z"
   },
   {
    "duration": 54,
    "start_time": "2022-04-19T16:37:54.356Z"
   },
   {
    "duration": 4,
    "start_time": "2022-04-19T16:38:52.743Z"
   },
   {
    "duration": 21,
    "start_time": "2022-04-19T16:38:53.639Z"
   },
   {
    "duration": 22,
    "start_time": "2022-04-19T16:38:58.342Z"
   },
   {
    "duration": 20,
    "start_time": "2022-04-19T16:40:36.771Z"
   },
   {
    "duration": 4,
    "start_time": "2022-04-19T16:40:38.488Z"
   },
   {
    "duration": 19,
    "start_time": "2022-04-19T16:40:38.671Z"
   }
  ],
  "kernelspec": {
   "display_name": "Python 3",
   "language": "python",
   "name": "python3"
  },
  "language_info": {
   "codemirror_mode": {
    "name": "ipython",
    "version": 3
   },
   "file_extension": ".py",
   "mimetype": "text/x-python",
   "name": "python",
   "nbconvert_exporter": "python",
   "pygments_lexer": "ipython3",
   "version": "3.8.8"
  },
  "toc": {
   "base_numbering": 1,
   "nav_menu": {},
   "number_sections": true,
   "sideBar": true,
   "skip_h1_title": true,
   "title_cell": "Table of Contents",
   "title_sidebar": "Contents",
   "toc_cell": false,
   "toc_position": {},
   "toc_section_display": true,
   "toc_window_display": false
  }
 },
 "nbformat": 4,
 "nbformat_minor": 2
}
