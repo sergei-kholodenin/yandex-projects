{
 "cells": [
  {
   "cell_type": "markdown",
   "metadata": {},
   "source": [
    "<div class=\"alert alert-info\">\n",
    "<font size=\"5\"><b>Комментарий ревьюера 2</b></font>\n",
    "\n",
    "Привет еще раз. Спасибо, что доделал работу. Оформление комментариев по работе сохраняется. Только обозначим, что это вторая итерация. \n",
    "\n",
    "</div>"
   ]
  },
  {
   "cell_type": "markdown",
   "metadata": {},
   "source": [
    "<div class=\"alert alert-info\">\n",
    "<font size=\"5\"><b>Комментарий ревьюера</b></font>\n",
    "\n",
    "Привет, Сергей! Спасибо, что прислал задание:) Меня зовут Слепцов Артем и я буду проверять твой проект) Ты проделал большую работу над проектом. Он выполнен уже на достойном уровне. Однако есть моменты, которые еще можно улучшить. Будет здорово, если ты, надеюсь, не против, если я буду на ты, будешь отвечать на комментарии и участвовать в диалоге. Если обращение на ты неприемлемо, то прошу сообщить. \n",
    "\n",
    "Мои комментарии обозначены пометкой **Комментарий ревьюера**. Далее в файле ты сможешь найти их в похожих ячейках:\n",
    "    \n",
    "<div class=\"alert alert-success\">Если фон комментария зелёный - всё сделано правильно. Рекомендации укажу таким же цветом;</div>\n",
    "        \n",
    "<div class=\"alert alert-warning\">Оранжевый - некритичные замечания. Если таких замечаний меньше трех - проект может быть принят без их отработки;</div>\n",
    "        \n",
    "<div class=\"alert alert-danger\">Красный - нужно переделать. </div>\n",
    "        \n",
    "Не удаляй эти комментарии и постарайся учесть их в ходе выполнения данного проекта. Свои же комментарии ты можешь обозначать любым заметным способом. \n",
    "\n",
    "</div>"
   ]
  },
  {
   "cell_type": "markdown",
   "metadata": {},
   "source": [
    "<div class=\"alert alert-info\">\n",
    "<font size=\"5\"><b>Комментарий студента - 1</b></font>\n",
    "\n",
    "Привет, Артем! Спасибо, что проверил задание:) Я постарался учесть все комментарии и поправить код! Надеюсь, что у меня получилось=)\n",
    "    \n",
    "</div>"
   ]
  },
  {
   "cell_type": "markdown",
   "metadata": {},
   "source": [
    "# Определение перспективного тарифа для телеком компании"
   ]
  },
  {
   "cell_type": "markdown",
   "metadata": {},
   "source": [
    "Вы аналитик компании «Мегалайн» — федерального оператора сотовой связи. Клиентам предлагают два тарифных плана: «Смарт» и «Ультра». Чтобы скорректировать рекламный бюджет, коммерческий департамент хочет понять, какой тариф приносит больше денег.\n",
    "Вам предстоит сделать предварительный анализ тарифов на небольшой выборке клиентов. В вашем распоряжении данные 500 пользователей «Мегалайна»: кто они, откуда, каким тарифом пользуются, сколько звонков и сообщений каждый отправил за 2018 год. Нужно проанализировать поведение клиентов и сделать вывод — какой тариф лучше."
   ]
  },
  {
   "cell_type": "markdown",
   "metadata": {},
   "source": [
    " **Оглавление** <a id='section_0'></a>\n",
    "\n",
    "1. [Изучение общей информации о файлах с данными](#section_1)\n",
    "2. [Предобработка данных](#section_2)\n",
    "  - [Приведем данные в каждой таблице к нужному типу.](#section_2.1)\n",
    "  - [Подсчет для каждого пользователя](#section_2.2)\n",
    "    1. [количество сделанных звонков и израсходованных минут разговора по месяцам](#section_2.2.1)\n",
    "    2. [количество отправленных сообщений по месяцам](#section_2.2.2)\n",
    "    3. [объем израсходованного интернет-трафика по месяцам](#section_2.2.3)\n",
    "    4. [объединение данных из таблиц](#section_2.2.4)\n",
    "3. [Анализ данных](#section_3)\n",
    "  1. [Анализ тарифа ultra](#section_3.1)\n",
    "  2. [Анализ тарифа smart](#section_3.2)\n",
    "4. [Проверка гипотез](#section_4)\n",
    "  1. [Средняя выручка пользователей тарифов «Ультра» и «Смарт» различаются](#section_4.1)\n",
    "  2. [Cредняя выручка пользователя из Москвы отличается от выручки пользователей из других регионов](#section_4.2)\n",
    "5. [Общие выводы](#section_5)"
   ]
  },
  {
   "cell_type": "markdown",
   "metadata": {},
   "source": [
    "<div class=\"alert alert-success\">\n",
    "<font size=\"5\"><b>Комментарий ревьюера</b></font>\n",
    "\n",
    "Вступление в работу очень важно. Так ты поясняешь то, чему она посвящена. Цель работы также хорошо бы вынести в отдельный блок вступления. Стоит также описать те данные, с которыми мы работаем. Еще лучше будет, если ты сделаешь план работы с гиперссылками. Да, есть плагин ToC. Но хорошо бы уметь реализовывать интерактивный план проекта вручную. Как это реализовать - смотри по [ссылке](https://stackoverflow.com/questions/49535664/how-to-hyperlink-in-a-jupyter-notebook/49717704).\n",
    "\n",
    "</div>"
   ]
  },
  {
   "cell_type": "markdown",
   "metadata": {},
   "source": [
    "<div class=\"alert alert-info\">\n",
    "<font size=\"5\"><b>Комментарий студента - 1</b></font>\n",
    "\n",
    "Сделано=)\n",
    "    \n",
    "</div>"
   ]
  },
  {
   "cell_type": "markdown",
   "metadata": {},
   "source": [
    "<div class=\"alert alert-success\">\n",
    "<font size=\"5\"><b>Комментарий ревьюера 2</b></font>\n",
    "\n",
    "👍  \n",
    "\n",
    "</div>"
   ]
  },
  {
   "cell_type": "markdown",
   "metadata": {},
   "source": [
    "## . Изучение общей информации о файлах с данными\n",
    "<a id='section_1'></a>"
   ]
  },
  {
   "cell_type": "markdown",
   "metadata": {},
   "source": [
    "[Оглавление](#section_0) "
   ]
  },
  {
   "cell_type": "markdown",
   "metadata": {},
   "source": [
    "Для удобства просмотра информации написал функцию, которая показывает пропущенные, значения и информацию по столбцам."
   ]
  },
  {
   "cell_type": "code",
   "execution_count": 1,
   "metadata": {},
   "outputs": [
    {
     "data": {
      "text/html": [
       "<div>\n",
       "<style scoped>\n",
       "    .dataframe tbody tr th:only-of-type {\n",
       "        vertical-align: middle;\n",
       "    }\n",
       "\n",
       "    .dataframe tbody tr th {\n",
       "        vertical-align: top;\n",
       "    }\n",
       "\n",
       "    .dataframe thead th {\n",
       "        text-align: right;\n",
       "    }\n",
       "</style>\n",
       "<table border=\"1\" class=\"dataframe\">\n",
       "  <thead>\n",
       "    <tr style=\"text-align: right;\">\n",
       "      <th></th>\n",
       "      <th>id</th>\n",
       "      <th>call_date</th>\n",
       "      <th>duration</th>\n",
       "      <th>user_id</th>\n",
       "    </tr>\n",
       "  </thead>\n",
       "  <tbody>\n",
       "    <tr>\n",
       "      <td>0</td>\n",
       "      <td>1000_0</td>\n",
       "      <td>2018-07-25</td>\n",
       "      <td>0.00</td>\n",
       "      <td>1000</td>\n",
       "    </tr>\n",
       "    <tr>\n",
       "      <td>1</td>\n",
       "      <td>1000_1</td>\n",
       "      <td>2018-08-17</td>\n",
       "      <td>0.00</td>\n",
       "      <td>1000</td>\n",
       "    </tr>\n",
       "    <tr>\n",
       "      <td>2</td>\n",
       "      <td>1000_2</td>\n",
       "      <td>2018-06-11</td>\n",
       "      <td>2.85</td>\n",
       "      <td>1000</td>\n",
       "    </tr>\n",
       "    <tr>\n",
       "      <td>3</td>\n",
       "      <td>1000_3</td>\n",
       "      <td>2018-09-21</td>\n",
       "      <td>13.80</td>\n",
       "      <td>1000</td>\n",
       "    </tr>\n",
       "    <tr>\n",
       "      <td>4</td>\n",
       "      <td>1000_4</td>\n",
       "      <td>2018-12-15</td>\n",
       "      <td>5.18</td>\n",
       "      <td>1000</td>\n",
       "    </tr>\n",
       "    <tr>\n",
       "      <td>...</td>\n",
       "      <td>...</td>\n",
       "      <td>...</td>\n",
       "      <td>...</td>\n",
       "      <td>...</td>\n",
       "    </tr>\n",
       "    <tr>\n",
       "      <td>202602</td>\n",
       "      <td>1499_215</td>\n",
       "      <td>2018-12-26</td>\n",
       "      <td>0.76</td>\n",
       "      <td>1499</td>\n",
       "    </tr>\n",
       "    <tr>\n",
       "      <td>202603</td>\n",
       "      <td>1499_216</td>\n",
       "      <td>2018-10-18</td>\n",
       "      <td>18.83</td>\n",
       "      <td>1499</td>\n",
       "    </tr>\n",
       "    <tr>\n",
       "      <td>202604</td>\n",
       "      <td>1499_217</td>\n",
       "      <td>2018-11-10</td>\n",
       "      <td>10.81</td>\n",
       "      <td>1499</td>\n",
       "    </tr>\n",
       "    <tr>\n",
       "      <td>202605</td>\n",
       "      <td>1499_218</td>\n",
       "      <td>2018-10-06</td>\n",
       "      <td>4.27</td>\n",
       "      <td>1499</td>\n",
       "    </tr>\n",
       "    <tr>\n",
       "      <td>202606</td>\n",
       "      <td>1499_219</td>\n",
       "      <td>2018-12-14</td>\n",
       "      <td>19.62</td>\n",
       "      <td>1499</td>\n",
       "    </tr>\n",
       "  </tbody>\n",
       "</table>\n",
       "<p>202607 rows × 4 columns</p>\n",
       "</div>"
      ],
      "text/plain": [
       "              id  call_date  duration  user_id\n",
       "0         1000_0 2018-07-25      0.00     1000\n",
       "1         1000_1 2018-08-17      0.00     1000\n",
       "2         1000_2 2018-06-11      2.85     1000\n",
       "3         1000_3 2018-09-21     13.80     1000\n",
       "4         1000_4 2018-12-15      5.18     1000\n",
       "...          ...        ...       ...      ...\n",
       "202602  1499_215 2018-12-26      0.76     1499\n",
       "202603  1499_216 2018-10-18     18.83     1499\n",
       "202604  1499_217 2018-11-10     10.81     1499\n",
       "202605  1499_218 2018-10-06      4.27     1499\n",
       "202606  1499_219 2018-12-14     19.62     1499\n",
       "\n",
       "[202607 rows x 4 columns]"
      ]
     },
     "metadata": {},
     "output_type": "display_data"
    },
    {
     "data": {
      "text/plain": [
       "id           0\n",
       "call_date    0\n",
       "duration     0\n",
       "user_id      0\n",
       "dtype: int64"
      ]
     },
     "metadata": {},
     "output_type": "display_data"
    },
    {
     "name": "stdout",
     "output_type": "stream",
     "text": [
      "<class 'pandas.core.frame.DataFrame'>\n",
      "RangeIndex: 202607 entries, 0 to 202606\n",
      "Data columns (total 4 columns):\n",
      "id           202607 non-null object\n",
      "call_date    202607 non-null datetime64[ns]\n",
      "duration     202607 non-null float64\n",
      "user_id      202607 non-null int64\n",
      "dtypes: datetime64[ns](1), float64(1), int64(1), object(1)\n",
      "memory usage: 6.2+ MB\n"
     ]
    }
   ],
   "source": [
    "import pandas as pd\n",
    "import numpy as np\n",
    "import pylab as pl\n",
    "\n",
    "calls = pd.read_csv('/datasets/calls.csv', parse_dates = ['call_date'])\n",
    "def info_table(table):\n",
    "    display(table)\n",
    "    display(table.isna().sum())\n",
    "    table.info()    \n",
    "info_table(calls)"
   ]
  },
  {
   "cell_type": "markdown",
   "metadata": {},
   "source": [
    "В таблице звонков нет пропущенных значений, столбец звонков представлен в виде id_номер, нужно убрать id_  и оставить только номер звонка. В столбце минут звонка следует привести тип данных к int с округлением вверх."
   ]
  },
  {
   "cell_type": "code",
   "execution_count": 2,
   "metadata": {},
   "outputs": [
    {
     "data": {
      "text/html": [
       "<div>\n",
       "<style scoped>\n",
       "    .dataframe tbody tr th:only-of-type {\n",
       "        vertical-align: middle;\n",
       "    }\n",
       "\n",
       "    .dataframe tbody tr th {\n",
       "        vertical-align: top;\n",
       "    }\n",
       "\n",
       "    .dataframe thead th {\n",
       "        text-align: right;\n",
       "    }\n",
       "</style>\n",
       "<table border=\"1\" class=\"dataframe\">\n",
       "  <thead>\n",
       "    <tr style=\"text-align: right;\">\n",
       "      <th></th>\n",
       "      <th>id</th>\n",
       "      <th>mb_used</th>\n",
       "      <th>session_date</th>\n",
       "      <th>user_id</th>\n",
       "    </tr>\n",
       "  </thead>\n",
       "  <tbody>\n",
       "    <tr>\n",
       "      <td>0</td>\n",
       "      <td>1000_0</td>\n",
       "      <td>112.95</td>\n",
       "      <td>2018-11-25</td>\n",
       "      <td>1000</td>\n",
       "    </tr>\n",
       "    <tr>\n",
       "      <td>1</td>\n",
       "      <td>1000_1</td>\n",
       "      <td>1052.81</td>\n",
       "      <td>2018-09-07</td>\n",
       "      <td>1000</td>\n",
       "    </tr>\n",
       "    <tr>\n",
       "      <td>2</td>\n",
       "      <td>1000_2</td>\n",
       "      <td>1197.26</td>\n",
       "      <td>2018-06-25</td>\n",
       "      <td>1000</td>\n",
       "    </tr>\n",
       "    <tr>\n",
       "      <td>3</td>\n",
       "      <td>1000_3</td>\n",
       "      <td>550.27</td>\n",
       "      <td>2018-08-22</td>\n",
       "      <td>1000</td>\n",
       "    </tr>\n",
       "    <tr>\n",
       "      <td>4</td>\n",
       "      <td>1000_4</td>\n",
       "      <td>302.56</td>\n",
       "      <td>2018-09-24</td>\n",
       "      <td>1000</td>\n",
       "    </tr>\n",
       "    <tr>\n",
       "      <td>...</td>\n",
       "      <td>...</td>\n",
       "      <td>...</td>\n",
       "      <td>...</td>\n",
       "      <td>...</td>\n",
       "    </tr>\n",
       "    <tr>\n",
       "      <td>149391</td>\n",
       "      <td>1499_152</td>\n",
       "      <td>318.90</td>\n",
       "      <td>2018-10-03</td>\n",
       "      <td>1499</td>\n",
       "    </tr>\n",
       "    <tr>\n",
       "      <td>149392</td>\n",
       "      <td>1499_153</td>\n",
       "      <td>490.13</td>\n",
       "      <td>2018-12-14</td>\n",
       "      <td>1499</td>\n",
       "    </tr>\n",
       "    <tr>\n",
       "      <td>149393</td>\n",
       "      <td>1499_154</td>\n",
       "      <td>0.00</td>\n",
       "      <td>2018-10-27</td>\n",
       "      <td>1499</td>\n",
       "    </tr>\n",
       "    <tr>\n",
       "      <td>149394</td>\n",
       "      <td>1499_155</td>\n",
       "      <td>1246.32</td>\n",
       "      <td>2018-11-26</td>\n",
       "      <td>1499</td>\n",
       "    </tr>\n",
       "    <tr>\n",
       "      <td>149395</td>\n",
       "      <td>1499_156</td>\n",
       "      <td>544.37</td>\n",
       "      <td>2018-10-26</td>\n",
       "      <td>1499</td>\n",
       "    </tr>\n",
       "  </tbody>\n",
       "</table>\n",
       "<p>149396 rows × 4 columns</p>\n",
       "</div>"
      ],
      "text/plain": [
       "              id  mb_used session_date  user_id\n",
       "0         1000_0   112.95   2018-11-25     1000\n",
       "1         1000_1  1052.81   2018-09-07     1000\n",
       "2         1000_2  1197.26   2018-06-25     1000\n",
       "3         1000_3   550.27   2018-08-22     1000\n",
       "4         1000_4   302.56   2018-09-24     1000\n",
       "...          ...      ...          ...      ...\n",
       "149391  1499_152   318.90   2018-10-03     1499\n",
       "149392  1499_153   490.13   2018-12-14     1499\n",
       "149393  1499_154     0.00   2018-10-27     1499\n",
       "149394  1499_155  1246.32   2018-11-26     1499\n",
       "149395  1499_156   544.37   2018-10-26     1499\n",
       "\n",
       "[149396 rows x 4 columns]"
      ]
     },
     "metadata": {},
     "output_type": "display_data"
    },
    {
     "data": {
      "text/plain": [
       "id              0\n",
       "mb_used         0\n",
       "session_date    0\n",
       "user_id         0\n",
       "dtype: int64"
      ]
     },
     "metadata": {},
     "output_type": "display_data"
    },
    {
     "name": "stdout",
     "output_type": "stream",
     "text": [
      "<class 'pandas.core.frame.DataFrame'>\n",
      "Int64Index: 149396 entries, 0 to 149395\n",
      "Data columns (total 4 columns):\n",
      "id              149396 non-null object\n",
      "mb_used         149396 non-null float64\n",
      "session_date    149396 non-null datetime64[ns]\n",
      "user_id         149396 non-null int64\n",
      "dtypes: datetime64[ns](1), float64(1), int64(1), object(1)\n",
      "memory usage: 5.7+ MB\n"
     ]
    }
   ],
   "source": [
    "internet = pd.read_csv('/datasets/internet.csv', parse_dates = ['session_date'], index_col=0)\n",
    "info_table(internet)"
   ]
  },
  {
   "cell_type": "markdown",
   "metadata": {},
   "source": [
    "<div class=\"alert alert-success\">\n",
    "<font size=\"5\"><b>Комментарий ревьюера</b></font>\n",
    "\n",
    "Задав параметр index_col=0 метода read_csv, мы можем сделать данный столбец 'Unnamed: 0' индексом, коим он и является. \n",
    "\n",
    "</div>"
   ]
  },
  {
   "cell_type": "markdown",
   "metadata": {},
   "source": [
    "<div class=\"alert alert-info\">\n",
    "<font size=\"5\"><b>Комментарий студента - 1</b></font>\n",
    "\n",
    "Буду знать=)\n",
    "\n",
    "</div>"
   ]
  },
  {
   "cell_type": "markdown",
   "metadata": {},
   "source": [
    "Первый столбец дублирует индекс, его сделали индексом, индентификатор аналогично очистить от приставки id_ и привести к типу данных int, трафик округлить вверх и привести к типу данных int."
   ]
  },
  {
   "cell_type": "code",
   "execution_count": 3,
   "metadata": {},
   "outputs": [
    {
     "data": {
      "text/html": [
       "<div>\n",
       "<style scoped>\n",
       "    .dataframe tbody tr th:only-of-type {\n",
       "        vertical-align: middle;\n",
       "    }\n",
       "\n",
       "    .dataframe tbody tr th {\n",
       "        vertical-align: top;\n",
       "    }\n",
       "\n",
       "    .dataframe thead th {\n",
       "        text-align: right;\n",
       "    }\n",
       "</style>\n",
       "<table border=\"1\" class=\"dataframe\">\n",
       "  <thead>\n",
       "    <tr style=\"text-align: right;\">\n",
       "      <th></th>\n",
       "      <th>id</th>\n",
       "      <th>message_date</th>\n",
       "      <th>user_id</th>\n",
       "    </tr>\n",
       "  </thead>\n",
       "  <tbody>\n",
       "    <tr>\n",
       "      <td>0</td>\n",
       "      <td>1000_0</td>\n",
       "      <td>2018-06-27</td>\n",
       "      <td>1000</td>\n",
       "    </tr>\n",
       "    <tr>\n",
       "      <td>1</td>\n",
       "      <td>1000_1</td>\n",
       "      <td>2018-10-08</td>\n",
       "      <td>1000</td>\n",
       "    </tr>\n",
       "    <tr>\n",
       "      <td>2</td>\n",
       "      <td>1000_2</td>\n",
       "      <td>2018-08-04</td>\n",
       "      <td>1000</td>\n",
       "    </tr>\n",
       "    <tr>\n",
       "      <td>3</td>\n",
       "      <td>1000_3</td>\n",
       "      <td>2018-06-16</td>\n",
       "      <td>1000</td>\n",
       "    </tr>\n",
       "    <tr>\n",
       "      <td>4</td>\n",
       "      <td>1000_4</td>\n",
       "      <td>2018-12-05</td>\n",
       "      <td>1000</td>\n",
       "    </tr>\n",
       "    <tr>\n",
       "      <td>...</td>\n",
       "      <td>...</td>\n",
       "      <td>...</td>\n",
       "      <td>...</td>\n",
       "    </tr>\n",
       "    <tr>\n",
       "      <td>123031</td>\n",
       "      <td>1499_179</td>\n",
       "      <td>2018-12-12</td>\n",
       "      <td>1499</td>\n",
       "    </tr>\n",
       "    <tr>\n",
       "      <td>123032</td>\n",
       "      <td>1499_180</td>\n",
       "      <td>2018-09-28</td>\n",
       "      <td>1499</td>\n",
       "    </tr>\n",
       "    <tr>\n",
       "      <td>123033</td>\n",
       "      <td>1499_181</td>\n",
       "      <td>2018-09-27</td>\n",
       "      <td>1499</td>\n",
       "    </tr>\n",
       "    <tr>\n",
       "      <td>123034</td>\n",
       "      <td>1499_182</td>\n",
       "      <td>2018-11-15</td>\n",
       "      <td>1499</td>\n",
       "    </tr>\n",
       "    <tr>\n",
       "      <td>123035</td>\n",
       "      <td>1499_183</td>\n",
       "      <td>2018-11-16</td>\n",
       "      <td>1499</td>\n",
       "    </tr>\n",
       "  </tbody>\n",
       "</table>\n",
       "<p>123036 rows × 3 columns</p>\n",
       "</div>"
      ],
      "text/plain": [
       "              id message_date  user_id\n",
       "0         1000_0   2018-06-27     1000\n",
       "1         1000_1   2018-10-08     1000\n",
       "2         1000_2   2018-08-04     1000\n",
       "3         1000_3   2018-06-16     1000\n",
       "4         1000_4   2018-12-05     1000\n",
       "...          ...          ...      ...\n",
       "123031  1499_179   2018-12-12     1499\n",
       "123032  1499_180   2018-09-28     1499\n",
       "123033  1499_181   2018-09-27     1499\n",
       "123034  1499_182   2018-11-15     1499\n",
       "123035  1499_183   2018-11-16     1499\n",
       "\n",
       "[123036 rows x 3 columns]"
      ]
     },
     "metadata": {},
     "output_type": "display_data"
    },
    {
     "data": {
      "text/plain": [
       "id              0\n",
       "message_date    0\n",
       "user_id         0\n",
       "dtype: int64"
      ]
     },
     "metadata": {},
     "output_type": "display_data"
    },
    {
     "name": "stdout",
     "output_type": "stream",
     "text": [
      "<class 'pandas.core.frame.DataFrame'>\n",
      "RangeIndex: 123036 entries, 0 to 123035\n",
      "Data columns (total 3 columns):\n",
      "id              123036 non-null object\n",
      "message_date    123036 non-null datetime64[ns]\n",
      "user_id         123036 non-null int64\n",
      "dtypes: datetime64[ns](1), int64(1), object(1)\n",
      "memory usage: 2.8+ MB\n"
     ]
    }
   ],
   "source": [
    "messages = pd.read_csv('/datasets/messages.csv', parse_dates=['message_date'])\n",
    "info_table(messages)"
   ]
  },
  {
   "cell_type": "markdown",
   "metadata": {},
   "source": [
    "<div class=\"alert alert-success\">\n",
    "<font size=\"5\"><b>Комментарий ревьюера</b></font>\n",
    "\n",
    "Столбцы с датой в каждом случае у нас имеют тип данных object. Исправить это уже при считывании данных тебе поможет [данная статья](https://towardsdatascience.com/4-tricks-you-should-know-to-parse-date-columns-with-pandas-read-csv-27355bb2ad0e) о исправлении типов данных столбцов с датой уже при считывании таблицы. \n",
    "\n",
    "</div>"
   ]
  },
  {
   "cell_type": "markdown",
   "metadata": {},
   "source": [
    "<div class=\"alert alert-info\">\n",
    "<font size=\"5\"><b>Комментарий студента - 1</b></font>\n",
    "\n",
    "Везде поменял=)\n",
    "\n",
    "</div>"
   ]
  },
  {
   "cell_type": "markdown",
   "metadata": {},
   "source": [
    "<div class=\"alert alert-success\">\n",
    "<font size=\"5\"><b>Комментарий ревьюера 2</b></font>\n",
    "\n",
    "Круто, что ты освоил способы устранения ошибок в данных уже на стадии их считывания. \n",
    "\n",
    "</div>"
   ]
  },
  {
   "cell_type": "markdown",
   "metadata": {},
   "source": [
    "Индентификатор аналогично очистить от приставки id_ и привести к типу данных int."
   ]
  },
  {
   "cell_type": "code",
   "execution_count": 4,
   "metadata": {},
   "outputs": [
    {
     "data": {
      "text/html": [
       "<div>\n",
       "<style scoped>\n",
       "    .dataframe tbody tr th:only-of-type {\n",
       "        vertical-align: middle;\n",
       "    }\n",
       "\n",
       "    .dataframe tbody tr th {\n",
       "        vertical-align: top;\n",
       "    }\n",
       "\n",
       "    .dataframe thead th {\n",
       "        text-align: right;\n",
       "    }\n",
       "</style>\n",
       "<table border=\"1\" class=\"dataframe\">\n",
       "  <thead>\n",
       "    <tr style=\"text-align: right;\">\n",
       "      <th></th>\n",
       "      <th>messages_included</th>\n",
       "      <th>mb_per_month_included</th>\n",
       "      <th>minutes_included</th>\n",
       "      <th>rub_monthly_fee</th>\n",
       "      <th>rub_per_gb</th>\n",
       "      <th>rub_per_message</th>\n",
       "      <th>rub_per_minute</th>\n",
       "      <th>tariff_name</th>\n",
       "    </tr>\n",
       "  </thead>\n",
       "  <tbody>\n",
       "    <tr>\n",
       "      <td>0</td>\n",
       "      <td>50</td>\n",
       "      <td>15360</td>\n",
       "      <td>500</td>\n",
       "      <td>550</td>\n",
       "      <td>200</td>\n",
       "      <td>3</td>\n",
       "      <td>3</td>\n",
       "      <td>smart</td>\n",
       "    </tr>\n",
       "    <tr>\n",
       "      <td>1</td>\n",
       "      <td>1000</td>\n",
       "      <td>30720</td>\n",
       "      <td>3000</td>\n",
       "      <td>1950</td>\n",
       "      <td>150</td>\n",
       "      <td>1</td>\n",
       "      <td>1</td>\n",
       "      <td>ultra</td>\n",
       "    </tr>\n",
       "  </tbody>\n",
       "</table>\n",
       "</div>"
      ],
      "text/plain": [
       "   messages_included  mb_per_month_included  minutes_included  \\\n",
       "0                 50                  15360               500   \n",
       "1               1000                  30720              3000   \n",
       "\n",
       "   rub_monthly_fee  rub_per_gb  rub_per_message  rub_per_minute tariff_name  \n",
       "0              550         200                3               3       smart  \n",
       "1             1950         150                1               1       ultra  "
      ]
     },
     "metadata": {},
     "output_type": "display_data"
    },
    {
     "data": {
      "text/plain": [
       "messages_included        0\n",
       "mb_per_month_included    0\n",
       "minutes_included         0\n",
       "rub_monthly_fee          0\n",
       "rub_per_gb               0\n",
       "rub_per_message          0\n",
       "rub_per_minute           0\n",
       "tariff_name              0\n",
       "dtype: int64"
      ]
     },
     "metadata": {},
     "output_type": "display_data"
    },
    {
     "name": "stdout",
     "output_type": "stream",
     "text": [
      "<class 'pandas.core.frame.DataFrame'>\n",
      "RangeIndex: 2 entries, 0 to 1\n",
      "Data columns (total 8 columns):\n",
      "messages_included        2 non-null int64\n",
      "mb_per_month_included    2 non-null int64\n",
      "minutes_included         2 non-null int64\n",
      "rub_monthly_fee          2 non-null int64\n",
      "rub_per_gb               2 non-null int64\n",
      "rub_per_message          2 non-null int64\n",
      "rub_per_minute           2 non-null int64\n",
      "tariff_name              2 non-null object\n",
      "dtypes: int64(7), object(1)\n",
      "memory usage: 256.0+ bytes\n"
     ]
    }
   ],
   "source": [
    "tariffs = pd.read_csv('/datasets/tariffs.csv')\n",
    "info_table(tariffs)"
   ]
  },
  {
   "cell_type": "markdown",
   "metadata": {},
   "source": [
    "Здесь столбец с названием тарифа можно привести к типу данных str."
   ]
  },
  {
   "cell_type": "code",
   "execution_count": 5,
   "metadata": {},
   "outputs": [
    {
     "data": {
      "text/html": [
       "<div>\n",
       "<style scoped>\n",
       "    .dataframe tbody tr th:only-of-type {\n",
       "        vertical-align: middle;\n",
       "    }\n",
       "\n",
       "    .dataframe tbody tr th {\n",
       "        vertical-align: top;\n",
       "    }\n",
       "\n",
       "    .dataframe thead th {\n",
       "        text-align: right;\n",
       "    }\n",
       "</style>\n",
       "<table border=\"1\" class=\"dataframe\">\n",
       "  <thead>\n",
       "    <tr style=\"text-align: right;\">\n",
       "      <th></th>\n",
       "      <th>user_id</th>\n",
       "      <th>age</th>\n",
       "      <th>churn_date</th>\n",
       "      <th>city</th>\n",
       "      <th>first_name</th>\n",
       "      <th>last_name</th>\n",
       "      <th>reg_date</th>\n",
       "      <th>tariff</th>\n",
       "    </tr>\n",
       "  </thead>\n",
       "  <tbody>\n",
       "    <tr>\n",
       "      <td>0</td>\n",
       "      <td>1000</td>\n",
       "      <td>52</td>\n",
       "      <td>NaT</td>\n",
       "      <td>Краснодар</td>\n",
       "      <td>Рафаил</td>\n",
       "      <td>Верещагин</td>\n",
       "      <td>2018-05-25</td>\n",
       "      <td>ultra</td>\n",
       "    </tr>\n",
       "    <tr>\n",
       "      <td>1</td>\n",
       "      <td>1001</td>\n",
       "      <td>41</td>\n",
       "      <td>NaT</td>\n",
       "      <td>Москва</td>\n",
       "      <td>Иван</td>\n",
       "      <td>Ежов</td>\n",
       "      <td>2018-11-01</td>\n",
       "      <td>smart</td>\n",
       "    </tr>\n",
       "    <tr>\n",
       "      <td>2</td>\n",
       "      <td>1002</td>\n",
       "      <td>59</td>\n",
       "      <td>NaT</td>\n",
       "      <td>Стерлитамак</td>\n",
       "      <td>Евгений</td>\n",
       "      <td>Абрамович</td>\n",
       "      <td>2018-06-17</td>\n",
       "      <td>smart</td>\n",
       "    </tr>\n",
       "    <tr>\n",
       "      <td>3</td>\n",
       "      <td>1003</td>\n",
       "      <td>23</td>\n",
       "      <td>NaT</td>\n",
       "      <td>Москва</td>\n",
       "      <td>Белла</td>\n",
       "      <td>Белякова</td>\n",
       "      <td>2018-08-17</td>\n",
       "      <td>ultra</td>\n",
       "    </tr>\n",
       "    <tr>\n",
       "      <td>4</td>\n",
       "      <td>1004</td>\n",
       "      <td>68</td>\n",
       "      <td>NaT</td>\n",
       "      <td>Новокузнецк</td>\n",
       "      <td>Татьяна</td>\n",
       "      <td>Авдеенко</td>\n",
       "      <td>2018-05-14</td>\n",
       "      <td>ultra</td>\n",
       "    </tr>\n",
       "    <tr>\n",
       "      <td>...</td>\n",
       "      <td>...</td>\n",
       "      <td>...</td>\n",
       "      <td>...</td>\n",
       "      <td>...</td>\n",
       "      <td>...</td>\n",
       "      <td>...</td>\n",
       "      <td>...</td>\n",
       "      <td>...</td>\n",
       "    </tr>\n",
       "    <tr>\n",
       "      <td>495</td>\n",
       "      <td>1495</td>\n",
       "      <td>65</td>\n",
       "      <td>NaT</td>\n",
       "      <td>Иркутск</td>\n",
       "      <td>Авксентий</td>\n",
       "      <td>Фокин</td>\n",
       "      <td>2018-08-28</td>\n",
       "      <td>ultra</td>\n",
       "    </tr>\n",
       "    <tr>\n",
       "      <td>496</td>\n",
       "      <td>1496</td>\n",
       "      <td>36</td>\n",
       "      <td>NaT</td>\n",
       "      <td>Вологда</td>\n",
       "      <td>Трифон</td>\n",
       "      <td>Блохин</td>\n",
       "      <td>2018-01-27</td>\n",
       "      <td>smart</td>\n",
       "    </tr>\n",
       "    <tr>\n",
       "      <td>497</td>\n",
       "      <td>1497</td>\n",
       "      <td>32</td>\n",
       "      <td>NaT</td>\n",
       "      <td>Челябинск</td>\n",
       "      <td>Каролина</td>\n",
       "      <td>Агеева</td>\n",
       "      <td>2018-10-09</td>\n",
       "      <td>smart</td>\n",
       "    </tr>\n",
       "    <tr>\n",
       "      <td>498</td>\n",
       "      <td>1498</td>\n",
       "      <td>68</td>\n",
       "      <td>2018-10-25</td>\n",
       "      <td>Владикавказ</td>\n",
       "      <td>Всеволод</td>\n",
       "      <td>Акимчин</td>\n",
       "      <td>2018-07-19</td>\n",
       "      <td>smart</td>\n",
       "    </tr>\n",
       "    <tr>\n",
       "      <td>499</td>\n",
       "      <td>1499</td>\n",
       "      <td>35</td>\n",
       "      <td>NaT</td>\n",
       "      <td>Пермь</td>\n",
       "      <td>Гектор</td>\n",
       "      <td>Корнилов</td>\n",
       "      <td>2018-09-27</td>\n",
       "      <td>smart</td>\n",
       "    </tr>\n",
       "  </tbody>\n",
       "</table>\n",
       "<p>500 rows × 8 columns</p>\n",
       "</div>"
      ],
      "text/plain": [
       "     user_id  age churn_date         city first_name  last_name   reg_date  \\\n",
       "0       1000   52        NaT    Краснодар     Рафаил  Верещагин 2018-05-25   \n",
       "1       1001   41        NaT       Москва       Иван       Ежов 2018-11-01   \n",
       "2       1002   59        NaT  Стерлитамак    Евгений  Абрамович 2018-06-17   \n",
       "3       1003   23        NaT       Москва      Белла   Белякова 2018-08-17   \n",
       "4       1004   68        NaT  Новокузнецк    Татьяна   Авдеенко 2018-05-14   \n",
       "..       ...  ...        ...          ...        ...        ...        ...   \n",
       "495     1495   65        NaT      Иркутск  Авксентий      Фокин 2018-08-28   \n",
       "496     1496   36        NaT      Вологда     Трифон     Блохин 2018-01-27   \n",
       "497     1497   32        NaT    Челябинск   Каролина     Агеева 2018-10-09   \n",
       "498     1498   68 2018-10-25  Владикавказ   Всеволод    Акимчин 2018-07-19   \n",
       "499     1499   35        NaT        Пермь     Гектор   Корнилов 2018-09-27   \n",
       "\n",
       "    tariff  \n",
       "0    ultra  \n",
       "1    smart  \n",
       "2    smart  \n",
       "3    ultra  \n",
       "4    ultra  \n",
       "..     ...  \n",
       "495  ultra  \n",
       "496  smart  \n",
       "497  smart  \n",
       "498  smart  \n",
       "499  smart  \n",
       "\n",
       "[500 rows x 8 columns]"
      ]
     },
     "metadata": {},
     "output_type": "display_data"
    },
    {
     "data": {
      "text/plain": [
       "user_id         0\n",
       "age             0\n",
       "churn_date    462\n",
       "city            0\n",
       "first_name      0\n",
       "last_name       0\n",
       "reg_date        0\n",
       "tariff          0\n",
       "dtype: int64"
      ]
     },
     "metadata": {},
     "output_type": "display_data"
    },
    {
     "name": "stdout",
     "output_type": "stream",
     "text": [
      "<class 'pandas.core.frame.DataFrame'>\n",
      "RangeIndex: 500 entries, 0 to 499\n",
      "Data columns (total 8 columns):\n",
      "user_id       500 non-null int64\n",
      "age           500 non-null int64\n",
      "churn_date    38 non-null datetime64[ns]\n",
      "city          500 non-null object\n",
      "first_name    500 non-null object\n",
      "last_name     500 non-null object\n",
      "reg_date      500 non-null datetime64[ns]\n",
      "tariff        500 non-null object\n",
      "dtypes: datetime64[ns](2), int64(2), object(4)\n",
      "memory usage: 31.4+ KB\n"
     ]
    }
   ],
   "source": [
    "users = pd.read_csv('/datasets/users.csv', parse_dates=['reg_date', 'churn_date'])\n",
    "info_table(users)"
   ]
  },
  {
   "cell_type": "markdown",
   "metadata": {},
   "source": [
    "В столбце дат churn_date есть пропущенные значения, значит тарифом до момента выгрузки данных еще пользуются. Их можно заменить максимальной датой столбца reg_date, которая скорее всего является ближайшей датой к дате выгрузки данных. Числовые типы данных привести к int, столбец с названием города привести к строчным буквам и типу данных str. Фамилию и имя можно объединить в один столбец."
   ]
  },
  {
   "cell_type": "markdown",
   "metadata": {},
   "source": [
    "<div class=\"alert alert-success\">\n",
    "<font size=\"5\"><b>Комментарий ревьюера</b></font>\n",
    "\n",
    "Подумай также о возможных причинах появления ошибок в данных, а также о том, являются ли они случайными или нет. \n",
    "\n",
    "Первый взгляд на таблицы выполнен.\n",
    "\n",
    "</div>"
   ]
  },
  {
   "cell_type": "markdown",
   "metadata": {},
   "source": [
    "## Предобработка данных\n",
    "<a id='section_2'></a>"
   ]
  },
  {
   "cell_type": "markdown",
   "metadata": {},
   "source": [
    "[Оглавление](#section_0) "
   ]
  },
  {
   "cell_type": "markdown",
   "metadata": {},
   "source": [
    "### Приведем данные в каждой таблице к нужному типу. \n",
    "<a id='section_2.1'></a>"
   ]
  },
  {
   "cell_type": "markdown",
   "metadata": {},
   "source": [
    "[Оглавление](#section_0) "
   ]
  },
  {
   "cell_type": "markdown",
   "metadata": {},
   "source": [
    "Уберем лишние значения индентификатора звонков и приведем к типу int:"
   ]
  },
  {
   "cell_type": "code",
   "execution_count": 6,
   "metadata": {},
   "outputs": [],
   "source": [
    "calls['id'] = calls['id'].astype('int').astype('str')\n",
    "calls['id'] = calls['id'].replace('_', '').str[4:].astype('int')"
   ]
  },
  {
   "cell_type": "markdown",
   "metadata": {},
   "source": [
    "Округлим минуты вверх и удалим все строки с нулевым значением минут, это скорее всего непринятые звонки или сбой в сети, чтобы они не влияли на данные."
   ]
  },
  {
   "cell_type": "code",
   "execution_count": 7,
   "metadata": {},
   "outputs": [
    {
     "data": {
      "text/html": [
       "<div>\n",
       "<style scoped>\n",
       "    .dataframe tbody tr th:only-of-type {\n",
       "        vertical-align: middle;\n",
       "    }\n",
       "\n",
       "    .dataframe tbody tr th {\n",
       "        vertical-align: top;\n",
       "    }\n",
       "\n",
       "    .dataframe thead th {\n",
       "        text-align: right;\n",
       "    }\n",
       "</style>\n",
       "<table border=\"1\" class=\"dataframe\">\n",
       "  <thead>\n",
       "    <tr style=\"text-align: right;\">\n",
       "      <th></th>\n",
       "      <th>id</th>\n",
       "      <th>call_date</th>\n",
       "      <th>duration</th>\n",
       "      <th>user_id</th>\n",
       "    </tr>\n",
       "  </thead>\n",
       "  <tbody>\n",
       "    <tr>\n",
       "      <td>2</td>\n",
       "      <td>2</td>\n",
       "      <td>2018-06-11</td>\n",
       "      <td>3</td>\n",
       "      <td>1000</td>\n",
       "    </tr>\n",
       "    <tr>\n",
       "      <td>3</td>\n",
       "      <td>3</td>\n",
       "      <td>2018-09-21</td>\n",
       "      <td>14</td>\n",
       "      <td>1000</td>\n",
       "    </tr>\n",
       "    <tr>\n",
       "      <td>4</td>\n",
       "      <td>4</td>\n",
       "      <td>2018-12-15</td>\n",
       "      <td>6</td>\n",
       "      <td>1000</td>\n",
       "    </tr>\n",
       "    <tr>\n",
       "      <td>7</td>\n",
       "      <td>7</td>\n",
       "      <td>2018-08-22</td>\n",
       "      <td>19</td>\n",
       "      <td>1000</td>\n",
       "    </tr>\n",
       "    <tr>\n",
       "      <td>8</td>\n",
       "      <td>8</td>\n",
       "      <td>2018-09-15</td>\n",
       "      <td>19</td>\n",
       "      <td>1000</td>\n",
       "    </tr>\n",
       "    <tr>\n",
       "      <td>...</td>\n",
       "      <td>...</td>\n",
       "      <td>...</td>\n",
       "      <td>...</td>\n",
       "      <td>...</td>\n",
       "    </tr>\n",
       "    <tr>\n",
       "      <td>202602</td>\n",
       "      <td>215</td>\n",
       "      <td>2018-12-26</td>\n",
       "      <td>1</td>\n",
       "      <td>1499</td>\n",
       "    </tr>\n",
       "    <tr>\n",
       "      <td>202603</td>\n",
       "      <td>216</td>\n",
       "      <td>2018-10-18</td>\n",
       "      <td>19</td>\n",
       "      <td>1499</td>\n",
       "    </tr>\n",
       "    <tr>\n",
       "      <td>202604</td>\n",
       "      <td>217</td>\n",
       "      <td>2018-11-10</td>\n",
       "      <td>11</td>\n",
       "      <td>1499</td>\n",
       "    </tr>\n",
       "    <tr>\n",
       "      <td>202605</td>\n",
       "      <td>218</td>\n",
       "      <td>2018-10-06</td>\n",
       "      <td>5</td>\n",
       "      <td>1499</td>\n",
       "    </tr>\n",
       "    <tr>\n",
       "      <td>202606</td>\n",
       "      <td>219</td>\n",
       "      <td>2018-12-14</td>\n",
       "      <td>20</td>\n",
       "      <td>1499</td>\n",
       "    </tr>\n",
       "  </tbody>\n",
       "</table>\n",
       "<p>162994 rows × 4 columns</p>\n",
       "</div>"
      ],
      "text/plain": [
       "         id  call_date  duration  user_id\n",
       "2         2 2018-06-11         3     1000\n",
       "3         3 2018-09-21        14     1000\n",
       "4         4 2018-12-15         6     1000\n",
       "7         7 2018-08-22        19     1000\n",
       "8         8 2018-09-15        19     1000\n",
       "...     ...        ...       ...      ...\n",
       "202602  215 2018-12-26         1     1499\n",
       "202603  216 2018-10-18        19     1499\n",
       "202604  217 2018-11-10        11     1499\n",
       "202605  218 2018-10-06         5     1499\n",
       "202606  219 2018-12-14        20     1499\n",
       "\n",
       "[162994 rows x 4 columns]"
      ]
     },
     "execution_count": 7,
     "metadata": {},
     "output_type": "execute_result"
    }
   ],
   "source": [
    "calls['duration'] = np.ceil(calls['duration']).astype('int')\n",
    "calls = calls.loc[calls['duration'] != 0]\n",
    "calls"
   ]
  },
  {
   "cell_type": "markdown",
   "metadata": {},
   "source": [
    "<div class=\"alert alert-warning\">\n",
    "<font size=\"5\"><b>Комментарий ревьюера</b></font>\n",
    "\n",
    "Верно, что округление производится до суммирования. Это согласуется с тем, как оператор фиксирует выручку. Однако изобретать такие методы не стоит. Используй метод np.ceil(). \n",
    "\n",
    "</div>"
   ]
  },
  {
   "cell_type": "markdown",
   "metadata": {},
   "source": [
    "<div class=\"alert alert-success\">\n",
    "<font size=\"5\"><b>Комментарий ревьюера 2</b></font>\n",
    "\n",
    "Отлично, такой способ работает эффективнее рукописного округления. \n",
    "\n",
    "</div>"
   ]
  },
  {
   "cell_type": "markdown",
   "metadata": {},
   "source": [
    "Приведем столбец id к типу id, удалив ненужные первые символы, отсылающие к id  совершившего выход в интернет. Также удалим строки с нулевым трафиком, чтобы они не влияли на данные."
   ]
  },
  {
   "cell_type": "code",
   "execution_count": 8,
   "metadata": {},
   "outputs": [
    {
     "data": {
      "text/html": [
       "<div>\n",
       "<style scoped>\n",
       "    .dataframe tbody tr th:only-of-type {\n",
       "        vertical-align: middle;\n",
       "    }\n",
       "\n",
       "    .dataframe tbody tr th {\n",
       "        vertical-align: top;\n",
       "    }\n",
       "\n",
       "    .dataframe thead th {\n",
       "        text-align: right;\n",
       "    }\n",
       "</style>\n",
       "<table border=\"1\" class=\"dataframe\">\n",
       "  <thead>\n",
       "    <tr style=\"text-align: right;\">\n",
       "      <th></th>\n",
       "      <th>id</th>\n",
       "      <th>mb_used</th>\n",
       "      <th>session_date</th>\n",
       "      <th>user_id</th>\n",
       "    </tr>\n",
       "  </thead>\n",
       "  <tbody>\n",
       "    <tr>\n",
       "      <td>0</td>\n",
       "      <td>0</td>\n",
       "      <td>112.95</td>\n",
       "      <td>2018-11-25</td>\n",
       "      <td>1000</td>\n",
       "    </tr>\n",
       "    <tr>\n",
       "      <td>1</td>\n",
       "      <td>1</td>\n",
       "      <td>1052.81</td>\n",
       "      <td>2018-09-07</td>\n",
       "      <td>1000</td>\n",
       "    </tr>\n",
       "    <tr>\n",
       "      <td>2</td>\n",
       "      <td>2</td>\n",
       "      <td>1197.26</td>\n",
       "      <td>2018-06-25</td>\n",
       "      <td>1000</td>\n",
       "    </tr>\n",
       "    <tr>\n",
       "      <td>3</td>\n",
       "      <td>3</td>\n",
       "      <td>550.27</td>\n",
       "      <td>2018-08-22</td>\n",
       "      <td>1000</td>\n",
       "    </tr>\n",
       "    <tr>\n",
       "      <td>4</td>\n",
       "      <td>4</td>\n",
       "      <td>302.56</td>\n",
       "      <td>2018-09-24</td>\n",
       "      <td>1000</td>\n",
       "    </tr>\n",
       "    <tr>\n",
       "      <td>...</td>\n",
       "      <td>...</td>\n",
       "      <td>...</td>\n",
       "      <td>...</td>\n",
       "      <td>...</td>\n",
       "    </tr>\n",
       "    <tr>\n",
       "      <td>149390</td>\n",
       "      <td>151</td>\n",
       "      <td>752.72</td>\n",
       "      <td>2018-10-11</td>\n",
       "      <td>1499</td>\n",
       "    </tr>\n",
       "    <tr>\n",
       "      <td>149391</td>\n",
       "      <td>152</td>\n",
       "      <td>318.90</td>\n",
       "      <td>2018-10-03</td>\n",
       "      <td>1499</td>\n",
       "    </tr>\n",
       "    <tr>\n",
       "      <td>149392</td>\n",
       "      <td>153</td>\n",
       "      <td>490.13</td>\n",
       "      <td>2018-12-14</td>\n",
       "      <td>1499</td>\n",
       "    </tr>\n",
       "    <tr>\n",
       "      <td>149394</td>\n",
       "      <td>155</td>\n",
       "      <td>1246.32</td>\n",
       "      <td>2018-11-26</td>\n",
       "      <td>1499</td>\n",
       "    </tr>\n",
       "    <tr>\n",
       "      <td>149395</td>\n",
       "      <td>156</td>\n",
       "      <td>544.37</td>\n",
       "      <td>2018-10-26</td>\n",
       "      <td>1499</td>\n",
       "    </tr>\n",
       "  </tbody>\n",
       "</table>\n",
       "<p>129798 rows × 4 columns</p>\n",
       "</div>"
      ],
      "text/plain": [
       "         id  mb_used session_date  user_id\n",
       "0         0   112.95   2018-11-25     1000\n",
       "1         1  1052.81   2018-09-07     1000\n",
       "2         2  1197.26   2018-06-25     1000\n",
       "3         3   550.27   2018-08-22     1000\n",
       "4         4   302.56   2018-09-24     1000\n",
       "...     ...      ...          ...      ...\n",
       "149390  151   752.72   2018-10-11     1499\n",
       "149391  152   318.90   2018-10-03     1499\n",
       "149392  153   490.13   2018-12-14     1499\n",
       "149394  155  1246.32   2018-11-26     1499\n",
       "149395  156   544.37   2018-10-26     1499\n",
       "\n",
       "[129798 rows x 4 columns]"
      ]
     },
     "execution_count": 8,
     "metadata": {},
     "output_type": "execute_result"
    }
   ],
   "source": [
    "internet['id'] = internet['id'].astype('int').astype('str')\n",
    "internet['id'] = internet['id'].replace('_', '').str[4:].astype('int')\n",
    "internet = internet.loc[internet['mb_used'] != 0]\n",
    "internet\n"
   ]
  },
  {
   "cell_type": "markdown",
   "metadata": {},
   "source": [
    "<div class=\"alert alert-danger\">\n",
    "<font size=\"5\"><b>Комментарий ревьюера</b></font>\n",
    "\n",
    "Округлять трафик не стоит. Оператор это делает после расчета месячных показателей. Тем более не следует округлять до ГБ. Иначе любая сессия хоть в 1 Кб станет размером в 1 ГБ.\n",
    "\n",
    "</div>"
   ]
  },
  {
   "cell_type": "markdown",
   "metadata": {},
   "source": [
    "<div class=\"alert alert-info\">\n",
    "<font size=\"5\"><b>Комментарий студента - 1</b></font>\n",
    "\n",
    "Перенес округление на этап, когда посчитал по месцам использованный трафик.\n",
    "\n",
    "</div>"
   ]
  },
  {
   "cell_type": "markdown",
   "metadata": {},
   "source": [
    "<div class=\"alert alert-success\">\n",
    "<font size=\"5\"><b>Комментарий ревьюера 2</b></font>\n",
    "\n",
    "Верное решение!\n",
    "</div>"
   ]
  },
  {
   "cell_type": "markdown",
   "metadata": {},
   "source": [
    "Приведем id  в порядок по аналогии с предыдущими таблицами."
   ]
  },
  {
   "cell_type": "code",
   "execution_count": 9,
   "metadata": {},
   "outputs": [
    {
     "name": "stdout",
     "output_type": "stream",
     "text": [
      "<class 'pandas.core.frame.DataFrame'>\n",
      "RangeIndex: 123036 entries, 0 to 123035\n",
      "Data columns (total 3 columns):\n",
      "id              123036 non-null int64\n",
      "message_date    123036 non-null datetime64[ns]\n",
      "user_id         123036 non-null int64\n",
      "dtypes: datetime64[ns](1), int64(2)\n",
      "memory usage: 2.8 MB\n"
     ]
    }
   ],
   "source": [
    "messages['id'] = messages['id'].astype('int').astype('str')\n",
    "messages['id'] = messages['id'].replace('_', '').str[4:].astype('int')\n",
    "messages.info()"
   ]
  },
  {
   "cell_type": "markdown",
   "metadata": {},
   "source": [
    "Удалим столбцы имени и фамилии, т.к. данная информация для расчетов не нужна."
   ]
  },
  {
   "cell_type": "code",
   "execution_count": 10,
   "metadata": {},
   "outputs": [
    {
     "data": {
      "text/html": [
       "<div>\n",
       "<style scoped>\n",
       "    .dataframe tbody tr th:only-of-type {\n",
       "        vertical-align: middle;\n",
       "    }\n",
       "\n",
       "    .dataframe tbody tr th {\n",
       "        vertical-align: top;\n",
       "    }\n",
       "\n",
       "    .dataframe thead th {\n",
       "        text-align: right;\n",
       "    }\n",
       "</style>\n",
       "<table border=\"1\" class=\"dataframe\">\n",
       "  <thead>\n",
       "    <tr style=\"text-align: right;\">\n",
       "      <th></th>\n",
       "      <th>user_id</th>\n",
       "      <th>age</th>\n",
       "      <th>churn_date</th>\n",
       "      <th>city</th>\n",
       "      <th>reg_date</th>\n",
       "      <th>tariff</th>\n",
       "    </tr>\n",
       "  </thead>\n",
       "  <tbody>\n",
       "    <tr>\n",
       "      <td>0</td>\n",
       "      <td>1000</td>\n",
       "      <td>52</td>\n",
       "      <td>NaT</td>\n",
       "      <td>Краснодар</td>\n",
       "      <td>2018-05-25</td>\n",
       "      <td>ultra</td>\n",
       "    </tr>\n",
       "    <tr>\n",
       "      <td>1</td>\n",
       "      <td>1001</td>\n",
       "      <td>41</td>\n",
       "      <td>NaT</td>\n",
       "      <td>Москва</td>\n",
       "      <td>2018-11-01</td>\n",
       "      <td>smart</td>\n",
       "    </tr>\n",
       "    <tr>\n",
       "      <td>2</td>\n",
       "      <td>1002</td>\n",
       "      <td>59</td>\n",
       "      <td>NaT</td>\n",
       "      <td>Стерлитамак</td>\n",
       "      <td>2018-06-17</td>\n",
       "      <td>smart</td>\n",
       "    </tr>\n",
       "    <tr>\n",
       "      <td>3</td>\n",
       "      <td>1003</td>\n",
       "      <td>23</td>\n",
       "      <td>NaT</td>\n",
       "      <td>Москва</td>\n",
       "      <td>2018-08-17</td>\n",
       "      <td>ultra</td>\n",
       "    </tr>\n",
       "    <tr>\n",
       "      <td>4</td>\n",
       "      <td>1004</td>\n",
       "      <td>68</td>\n",
       "      <td>NaT</td>\n",
       "      <td>Новокузнецк</td>\n",
       "      <td>2018-05-14</td>\n",
       "      <td>ultra</td>\n",
       "    </tr>\n",
       "    <tr>\n",
       "      <td>...</td>\n",
       "      <td>...</td>\n",
       "      <td>...</td>\n",
       "      <td>...</td>\n",
       "      <td>...</td>\n",
       "      <td>...</td>\n",
       "      <td>...</td>\n",
       "    </tr>\n",
       "    <tr>\n",
       "      <td>495</td>\n",
       "      <td>1495</td>\n",
       "      <td>65</td>\n",
       "      <td>NaT</td>\n",
       "      <td>Иркутск</td>\n",
       "      <td>2018-08-28</td>\n",
       "      <td>ultra</td>\n",
       "    </tr>\n",
       "    <tr>\n",
       "      <td>496</td>\n",
       "      <td>1496</td>\n",
       "      <td>36</td>\n",
       "      <td>NaT</td>\n",
       "      <td>Вологда</td>\n",
       "      <td>2018-01-27</td>\n",
       "      <td>smart</td>\n",
       "    </tr>\n",
       "    <tr>\n",
       "      <td>497</td>\n",
       "      <td>1497</td>\n",
       "      <td>32</td>\n",
       "      <td>NaT</td>\n",
       "      <td>Челябинск</td>\n",
       "      <td>2018-10-09</td>\n",
       "      <td>smart</td>\n",
       "    </tr>\n",
       "    <tr>\n",
       "      <td>498</td>\n",
       "      <td>1498</td>\n",
       "      <td>68</td>\n",
       "      <td>2018-10-25</td>\n",
       "      <td>Владикавказ</td>\n",
       "      <td>2018-07-19</td>\n",
       "      <td>smart</td>\n",
       "    </tr>\n",
       "    <tr>\n",
       "      <td>499</td>\n",
       "      <td>1499</td>\n",
       "      <td>35</td>\n",
       "      <td>NaT</td>\n",
       "      <td>Пермь</td>\n",
       "      <td>2018-09-27</td>\n",
       "      <td>smart</td>\n",
       "    </tr>\n",
       "  </tbody>\n",
       "</table>\n",
       "<p>500 rows × 6 columns</p>\n",
       "</div>"
      ],
      "text/plain": [
       "     user_id  age churn_date         city   reg_date tariff\n",
       "0       1000   52        NaT    Краснодар 2018-05-25  ultra\n",
       "1       1001   41        NaT       Москва 2018-11-01  smart\n",
       "2       1002   59        NaT  Стерлитамак 2018-06-17  smart\n",
       "3       1003   23        NaT       Москва 2018-08-17  ultra\n",
       "4       1004   68        NaT  Новокузнецк 2018-05-14  ultra\n",
       "..       ...  ...        ...          ...        ...    ...\n",
       "495     1495   65        NaT      Иркутск 2018-08-28  ultra\n",
       "496     1496   36        NaT      Вологда 2018-01-27  smart\n",
       "497     1497   32        NaT    Челябинск 2018-10-09  smart\n",
       "498     1498   68 2018-10-25  Владикавказ 2018-07-19  smart\n",
       "499     1499   35        NaT        Пермь 2018-09-27  smart\n",
       "\n",
       "[500 rows x 6 columns]"
      ]
     },
     "execution_count": 10,
     "metadata": {},
     "output_type": "execute_result"
    }
   ],
   "source": [
    "users = users.drop(columns = ['first_name', 'last_name'])\n",
    "users"
   ]
  },
  {
   "cell_type": "markdown",
   "metadata": {},
   "source": [
    "Посмотрим максимальную дату и минимальную по регистрации: видим, что все значения внутри одного года, нет смысла сортировать месяцы по ггодам, также можем заполнить отсутствующие значения в столбце ухода с тарифа максимальной датой (датой последней выгрузки данных), чтобы изменить тип данных в данном столбце корректно и получить красивую таблицу."
   ]
  },
  {
   "cell_type": "code",
   "execution_count": 11,
   "metadata": {},
   "outputs": [
    {
     "data": {
      "text/plain": [
       "Timestamp('2018-12-31 00:00:00')"
      ]
     },
     "execution_count": 11,
     "metadata": {},
     "output_type": "execute_result"
    }
   ],
   "source": [
    "max_reg = max(users['reg_date'])\n",
    "max_reg"
   ]
  },
  {
   "cell_type": "code",
   "execution_count": 12,
   "metadata": {},
   "outputs": [
    {
     "data": {
      "text/plain": [
       "Timestamp('2018-01-01 00:00:00')"
      ]
     },
     "execution_count": 12,
     "metadata": {},
     "output_type": "execute_result"
    }
   ],
   "source": [
    "min(users['reg_date'])"
   ]
  },
  {
   "cell_type": "code",
   "execution_count": 13,
   "metadata": {},
   "outputs": [
    {
     "name": "stdout",
     "output_type": "stream",
     "text": [
      "<class 'pandas.core.frame.DataFrame'>\n",
      "RangeIndex: 500 entries, 0 to 499\n",
      "Data columns (total 6 columns):\n",
      "user_id       500 non-null int64\n",
      "age           500 non-null int64\n",
      "churn_date    500 non-null datetime64[ns]\n",
      "city          500 non-null object\n",
      "reg_date      500 non-null datetime64[ns]\n",
      "tariff        500 non-null category\n",
      "dtypes: category(1), datetime64[ns](2), int64(2), object(1)\n",
      "memory usage: 20.2+ KB\n"
     ]
    }
   ],
   "source": [
    "users['churn_date']  = users['churn_date'].fillna(max_reg)\n",
    "users['city'] = users['city'].str.lower()\n",
    "users['tariff'] = users['tariff'].astype('category')\n",
    "users.info()"
   ]
  },
  {
   "cell_type": "markdown",
   "metadata": {},
   "source": [
    "С тарифами поступим следующим образом: переименуем столбец тарифов по аналогии с таблицей пользователей, чтобы моно было объединить по нему, пересчитаем столбец мб в месц на гб, опять же для удобства сравнения и счета, ну и переименуем его в гб, чтобы не путаться."
   ]
  },
  {
   "cell_type": "code",
   "execution_count": 14,
   "metadata": {},
   "outputs": [
    {
     "name": "stdout",
     "output_type": "stream",
     "text": [
      "<class 'pandas.core.frame.DataFrame'>\n",
      "RangeIndex: 2 entries, 0 to 1\n",
      "Data columns (total 8 columns):\n",
      "messages_included        2 non-null int64\n",
      "gb_per_month_included    2 non-null float64\n",
      "minutes_included         2 non-null int64\n",
      "rub_monthly_fee          2 non-null int64\n",
      "rub_per_gb               2 non-null int64\n",
      "rub_per_message          2 non-null int64\n",
      "rub_per_minute           2 non-null int64\n",
      "tariff                   2 non-null category\n",
      "dtypes: category(1), float64(1), int64(6)\n",
      "memory usage: 338.0 bytes\n"
     ]
    }
   ],
   "source": [
    "tariffs['tariff_name'] = tariffs['tariff_name'].astype('category')\n",
    "tariffs.rename(columns = {'tariff_name':'tariff'},inplace=True)\n",
    "tariffs['mb_per_month_included'] = tariffs['mb_per_month_included'].astype('int')/1024\n",
    "tariffs.rename(columns = {'mb_per_month_included':'gb_per_month_included'},inplace=True)\n",
    "tariffs.info()"
   ]
  },
  {
   "cell_type": "markdown",
   "metadata": {},
   "source": [
    "Все типы на текущий момент меня устраивают, перехожу к дополнению данных."
   ]
  },
  {
   "cell_type": "markdown",
   "metadata": {},
   "source": [
    "<div class=\"alert alert-danger\">\n",
    "<font size=\"5\"><b>Комментарий ревьюера</b></font>\n",
    "\n",
    "В таблицах со звонками и интернет-трафиком есть большое число нулевых значений в продолжительности звонков/интернет-сессиях. Какова возможная причина их появления - недозвоны, сбои сети или что-то другое? Подумай над причинами их появления, исходя из которой обработай их.\n",
    "\n",
    "</div>"
   ]
  },
  {
   "cell_type": "markdown",
   "metadata": {},
   "source": [
    "<div class=\"alert alert-info\">\n",
    "<font size=\"5\"><b>Комментарий студента - 1</b></font>\n",
    "\n",
    "Строки с нулевыми значениями удалил, чтобы они не влияли на данные, т.к. это скорее всего недозвоны или сбои сети.\n",
    "\n",
    "</div>"
   ]
  },
  {
   "cell_type": "markdown",
   "metadata": {},
   "source": [
    "<div class=\"alert alert-success\">\n",
    "<font size=\"5\"><b>Комментарий ревьюера 2</b></font>\n",
    "\n",
    "Хорошо бы их проанализировать детальнее. С причинами их появления согласен. \n",
    "\n",
    "</div>"
   ]
  },
  {
   "cell_type": "markdown",
   "metadata": {},
   "source": [
    "### Подсчет для каждого пользователя:\n",
    "<a id='section_2.2'></a>"
   ]
  },
  {
   "cell_type": "markdown",
   "metadata": {},
   "source": [
    "[Оглавление](#section_0) "
   ]
  },
  {
   "cell_type": "markdown",
   "metadata": {},
   "source": [
    "#### количество сделанных звонков и израсходованных минут разговора по месяцам \n",
    "<a id='section_2.2.1'></a>"
   ]
  },
  {
   "cell_type": "markdown",
   "metadata": {},
   "source": [
    "[Оглавление](#section_0) "
   ]
  },
  {
   "cell_type": "markdown",
   "metadata": {},
   "source": [
    "Посчитаем по заданию через группировку и сохраним таблицу (правда количество звонков не понятно зачем для подсчета, но босс попросил, я сделал):"
   ]
  },
  {
   "cell_type": "code",
   "execution_count": 15,
   "metadata": {},
   "outputs": [
    {
     "data": {
      "text/html": [
       "<div>\n",
       "<style scoped>\n",
       "    .dataframe tbody tr th:only-of-type {\n",
       "        vertical-align: middle;\n",
       "    }\n",
       "\n",
       "    .dataframe tbody tr th {\n",
       "        vertical-align: top;\n",
       "    }\n",
       "\n",
       "    .dataframe thead th {\n",
       "        text-align: right;\n",
       "    }\n",
       "</style>\n",
       "<table border=\"1\" class=\"dataframe\">\n",
       "  <thead>\n",
       "    <tr style=\"text-align: right;\">\n",
       "      <th></th>\n",
       "      <th></th>\n",
       "      <th>count</th>\n",
       "      <th>sum</th>\n",
       "    </tr>\n",
       "    <tr>\n",
       "      <th>user_id</th>\n",
       "      <th>month</th>\n",
       "      <th></th>\n",
       "      <th></th>\n",
       "    </tr>\n",
       "  </thead>\n",
       "  <tbody>\n",
       "    <tr>\n",
       "      <td rowspan=\"5\" valign=\"top\">1000</td>\n",
       "      <td>5</td>\n",
       "      <td>17</td>\n",
       "      <td>159</td>\n",
       "    </tr>\n",
       "    <tr>\n",
       "      <td>6</td>\n",
       "      <td>28</td>\n",
       "      <td>172</td>\n",
       "    </tr>\n",
       "    <tr>\n",
       "      <td>7</td>\n",
       "      <td>41</td>\n",
       "      <td>340</td>\n",
       "    </tr>\n",
       "    <tr>\n",
       "      <td>8</td>\n",
       "      <td>42</td>\n",
       "      <td>408</td>\n",
       "    </tr>\n",
       "    <tr>\n",
       "      <td>9</td>\n",
       "      <td>46</td>\n",
       "      <td>466</td>\n",
       "    </tr>\n",
       "    <tr>\n",
       "      <td>...</td>\n",
       "      <td>...</td>\n",
       "      <td>...</td>\n",
       "      <td>...</td>\n",
       "    </tr>\n",
       "    <tr>\n",
       "      <td>1498</td>\n",
       "      <td>10</td>\n",
       "      <td>30</td>\n",
       "      <td>247</td>\n",
       "    </tr>\n",
       "    <tr>\n",
       "      <td rowspan=\"4\" valign=\"top\">1499</td>\n",
       "      <td>9</td>\n",
       "      <td>8</td>\n",
       "      <td>70</td>\n",
       "    </tr>\n",
       "    <tr>\n",
       "      <td>10</td>\n",
       "      <td>44</td>\n",
       "      <td>449</td>\n",
       "    </tr>\n",
       "    <tr>\n",
       "      <td>11</td>\n",
       "      <td>62</td>\n",
       "      <td>612</td>\n",
       "    </tr>\n",
       "    <tr>\n",
       "      <td>12</td>\n",
       "      <td>56</td>\n",
       "      <td>492</td>\n",
       "    </tr>\n",
       "  </tbody>\n",
       "</table>\n",
       "<p>3168 rows × 2 columns</p>\n",
       "</div>"
      ],
      "text/plain": [
       "               count  sum\n",
       "user_id month            \n",
       "1000    5         17  159\n",
       "        6         28  172\n",
       "        7         41  340\n",
       "        8         42  408\n",
       "        9         46  466\n",
       "...              ...  ...\n",
       "1498    10        30  247\n",
       "1499    9          8   70\n",
       "        10        44  449\n",
       "        11        62  612\n",
       "        12        56  492\n",
       "\n",
       "[3168 rows x 2 columns]"
      ]
     },
     "execution_count": 15,
     "metadata": {},
     "output_type": "execute_result"
    }
   ],
   "source": [
    "calls['month'] = calls['call_date'].dt.month\n",
    "calls_sum_id = calls.pivot_table(index = ['user_id', 'month'], values = 'duration', aggfunc = {'count', 'sum'})\n",
    "calls_sum_id"
   ]
  },
  {
   "cell_type": "markdown",
   "metadata": {},
   "source": [
    "#### количество отправленных сообщений по месяцам\n",
    "<a id='section_2.2.2'></a>"
   ]
  },
  {
   "cell_type": "markdown",
   "metadata": {},
   "source": [
    "[Оглавление](#section_0) "
   ]
  },
  {
   "cell_type": "markdown",
   "metadata": {},
   "source": [
    "По аналогии посчитаем сообщения и сохраним в таблицу."
   ]
  },
  {
   "cell_type": "code",
   "execution_count": 16,
   "metadata": {},
   "outputs": [
    {
     "data": {
      "text/html": [
       "<div>\n",
       "<style scoped>\n",
       "    .dataframe tbody tr th:only-of-type {\n",
       "        vertical-align: middle;\n",
       "    }\n",
       "\n",
       "    .dataframe tbody tr th {\n",
       "        vertical-align: top;\n",
       "    }\n",
       "\n",
       "    .dataframe thead th {\n",
       "        text-align: right;\n",
       "    }\n",
       "</style>\n",
       "<table border=\"1\" class=\"dataframe\">\n",
       "  <thead>\n",
       "    <tr style=\"text-align: right;\">\n",
       "      <th></th>\n",
       "      <th></th>\n",
       "      <th>count</th>\n",
       "    </tr>\n",
       "    <tr>\n",
       "      <th>user_id</th>\n",
       "      <th>month</th>\n",
       "      <th></th>\n",
       "    </tr>\n",
       "  </thead>\n",
       "  <tbody>\n",
       "    <tr>\n",
       "      <td rowspan=\"5\" valign=\"top\">1000</td>\n",
       "      <td>5</td>\n",
       "      <td>22</td>\n",
       "    </tr>\n",
       "    <tr>\n",
       "      <td>6</td>\n",
       "      <td>60</td>\n",
       "    </tr>\n",
       "    <tr>\n",
       "      <td>7</td>\n",
       "      <td>75</td>\n",
       "    </tr>\n",
       "    <tr>\n",
       "      <td>8</td>\n",
       "      <td>81</td>\n",
       "    </tr>\n",
       "    <tr>\n",
       "      <td>9</td>\n",
       "      <td>57</td>\n",
       "    </tr>\n",
       "    <tr>\n",
       "      <td>...</td>\n",
       "      <td>...</td>\n",
       "      <td>...</td>\n",
       "    </tr>\n",
       "    <tr>\n",
       "      <td>1498</td>\n",
       "      <td>10</td>\n",
       "      <td>42</td>\n",
       "    </tr>\n",
       "    <tr>\n",
       "      <td rowspan=\"4\" valign=\"top\">1499</td>\n",
       "      <td>9</td>\n",
       "      <td>11</td>\n",
       "    </tr>\n",
       "    <tr>\n",
       "      <td>10</td>\n",
       "      <td>48</td>\n",
       "    </tr>\n",
       "    <tr>\n",
       "      <td>11</td>\n",
       "      <td>59</td>\n",
       "    </tr>\n",
       "    <tr>\n",
       "      <td>12</td>\n",
       "      <td>66</td>\n",
       "    </tr>\n",
       "  </tbody>\n",
       "</table>\n",
       "<p>2717 rows × 1 columns</p>\n",
       "</div>"
      ],
      "text/plain": [
       "               count\n",
       "user_id month       \n",
       "1000    5         22\n",
       "        6         60\n",
       "        7         75\n",
       "        8         81\n",
       "        9         57\n",
       "...              ...\n",
       "1498    10        42\n",
       "1499    9         11\n",
       "        10        48\n",
       "        11        59\n",
       "        12        66\n",
       "\n",
       "[2717 rows x 1 columns]"
      ]
     },
     "execution_count": 16,
     "metadata": {},
     "output_type": "execute_result"
    }
   ],
   "source": [
    "messages['month'] = messages['message_date'].dt.month\n",
    "messages_sum_id = messages.pivot_table(index = ['user_id', 'month'], values = 'message_date', aggfunc = {'count'})\n",
    "messages_sum_id"
   ]
  },
  {
   "cell_type": "markdown",
   "metadata": {},
   "source": [
    "#### объем израсходованного интернет-трафика по месяцам;\n",
    "<a id='section_2.2.3'></a>"
   ]
  },
  {
   "cell_type": "markdown",
   "metadata": {},
   "source": [
    "[Оглавление](#section_0) "
   ]
  },
  {
   "cell_type": "markdown",
   "metadata": {},
   "source": [
    "Ну и с интернетом аналогично и теперь мы можем округлить вверх значение трафика переведя в гб."
   ]
  },
  {
   "cell_type": "code",
   "execution_count": 17,
   "metadata": {},
   "outputs": [
    {
     "data": {
      "text/html": [
       "<div>\n",
       "<style scoped>\n",
       "    .dataframe tbody tr th:only-of-type {\n",
       "        vertical-align: middle;\n",
       "    }\n",
       "\n",
       "    .dataframe tbody tr th {\n",
       "        vertical-align: top;\n",
       "    }\n",
       "\n",
       "    .dataframe thead th {\n",
       "        text-align: right;\n",
       "    }\n",
       "</style>\n",
       "<table border=\"1\" class=\"dataframe\">\n",
       "  <thead>\n",
       "    <tr style=\"text-align: right;\">\n",
       "      <th></th>\n",
       "      <th></th>\n",
       "      <th>sum</th>\n",
       "    </tr>\n",
       "    <tr>\n",
       "      <th>user_id</th>\n",
       "      <th>month</th>\n",
       "      <th></th>\n",
       "    </tr>\n",
       "  </thead>\n",
       "  <tbody>\n",
       "    <tr>\n",
       "      <td rowspan=\"5\" valign=\"top\">1000</td>\n",
       "      <td>5</td>\n",
       "      <td>3</td>\n",
       "    </tr>\n",
       "    <tr>\n",
       "      <td>6</td>\n",
       "      <td>23</td>\n",
       "    </tr>\n",
       "    <tr>\n",
       "      <td>7</td>\n",
       "      <td>14</td>\n",
       "    </tr>\n",
       "    <tr>\n",
       "      <td>8</td>\n",
       "      <td>14</td>\n",
       "    </tr>\n",
       "    <tr>\n",
       "      <td>9</td>\n",
       "      <td>15</td>\n",
       "    </tr>\n",
       "    <tr>\n",
       "      <td>...</td>\n",
       "      <td>...</td>\n",
       "      <td>...</td>\n",
       "    </tr>\n",
       "    <tr>\n",
       "      <td>1498</td>\n",
       "      <td>10</td>\n",
       "      <td>21</td>\n",
       "    </tr>\n",
       "    <tr>\n",
       "      <td rowspan=\"4\" valign=\"top\">1499</td>\n",
       "      <td>9</td>\n",
       "      <td>2</td>\n",
       "    </tr>\n",
       "    <tr>\n",
       "      <td>10</td>\n",
       "      <td>18</td>\n",
       "    </tr>\n",
       "    <tr>\n",
       "      <td>11</td>\n",
       "      <td>18</td>\n",
       "    </tr>\n",
       "    <tr>\n",
       "      <td>12</td>\n",
       "      <td>13</td>\n",
       "    </tr>\n",
       "  </tbody>\n",
       "</table>\n",
       "<p>3201 rows × 1 columns</p>\n",
       "</div>"
      ],
      "text/plain": [
       "               sum\n",
       "user_id month     \n",
       "1000    5        3\n",
       "        6       23\n",
       "        7       14\n",
       "        8       14\n",
       "        9       15\n",
       "...            ...\n",
       "1498    10      21\n",
       "1499    9        2\n",
       "        10      18\n",
       "        11      18\n",
       "        12      13\n",
       "\n",
       "[3201 rows x 1 columns]"
      ]
     },
     "execution_count": 17,
     "metadata": {},
     "output_type": "execute_result"
    }
   ],
   "source": [
    "internet['month'] = internet['session_date'].dt.month\n",
    "internet_sum_id = internet.pivot_table(index = ['user_id', 'month'], values = 'mb_used', aggfunc = {'sum'})\n",
    "internet_sum_id['sum'] = np.ceil(internet_sum_id['sum']/1024).astype('int')\n",
    "internet_sum_id"
   ]
  },
  {
   "cell_type": "markdown",
   "metadata": {},
   "source": [
    "<div class=\"alert alert-success\">\n",
    "<font size=\"5\"><b>Комментарий ревьюера</b></font>\n",
    "\n",
    "Помесячные показатели рассчитаны. Данные подготовлены к дальнейшим расчетам.\n",
    "\n",
    "</div>"
   ]
  },
  {
   "cell_type": "markdown",
   "metadata": {},
   "source": [
    "#### объединение данных из таблиц\n",
    "<a id='section_2.2.4'></a>"
   ]
  },
  {
   "cell_type": "markdown",
   "metadata": {},
   "source": [
    "[Оглавление](#section_0) "
   ]
  },
  {
   "cell_type": "markdown",
   "metadata": {},
   "source": [
    "Для удобства объединим все таблицы в одну, чтобы после посчитать выручку. Начнем с объединения звонков и сообщений."
   ]
  },
  {
   "cell_type": "code",
   "execution_count": 18,
   "metadata": {},
   "outputs": [
    {
     "data": {
      "text/html": [
       "<div>\n",
       "<style scoped>\n",
       "    .dataframe tbody tr th:only-of-type {\n",
       "        vertical-align: middle;\n",
       "    }\n",
       "\n",
       "    .dataframe tbody tr th {\n",
       "        vertical-align: top;\n",
       "    }\n",
       "\n",
       "    .dataframe thead th {\n",
       "        text-align: right;\n",
       "    }\n",
       "</style>\n",
       "<table border=\"1\" class=\"dataframe\">\n",
       "  <thead>\n",
       "    <tr style=\"text-align: right;\">\n",
       "      <th></th>\n",
       "      <th></th>\n",
       "      <th>count_calls</th>\n",
       "      <th>sum</th>\n",
       "      <th>count_messages</th>\n",
       "    </tr>\n",
       "    <tr>\n",
       "      <th>user_id</th>\n",
       "      <th>month</th>\n",
       "      <th></th>\n",
       "      <th></th>\n",
       "      <th></th>\n",
       "    </tr>\n",
       "  </thead>\n",
       "  <tbody>\n",
       "    <tr>\n",
       "      <td rowspan=\"5\" valign=\"top\">1000</td>\n",
       "      <td>5</td>\n",
       "      <td>17</td>\n",
       "      <td>159</td>\n",
       "      <td>22.0</td>\n",
       "    </tr>\n",
       "    <tr>\n",
       "      <td>6</td>\n",
       "      <td>28</td>\n",
       "      <td>172</td>\n",
       "      <td>60.0</td>\n",
       "    </tr>\n",
       "    <tr>\n",
       "      <td>7</td>\n",
       "      <td>41</td>\n",
       "      <td>340</td>\n",
       "      <td>75.0</td>\n",
       "    </tr>\n",
       "    <tr>\n",
       "      <td>8</td>\n",
       "      <td>42</td>\n",
       "      <td>408</td>\n",
       "      <td>81.0</td>\n",
       "    </tr>\n",
       "    <tr>\n",
       "      <td>9</td>\n",
       "      <td>46</td>\n",
       "      <td>466</td>\n",
       "      <td>57.0</td>\n",
       "    </tr>\n",
       "    <tr>\n",
       "      <td>...</td>\n",
       "      <td>...</td>\n",
       "      <td>...</td>\n",
       "      <td>...</td>\n",
       "      <td>...</td>\n",
       "    </tr>\n",
       "    <tr>\n",
       "      <td>1498</td>\n",
       "      <td>10</td>\n",
       "      <td>30</td>\n",
       "      <td>247</td>\n",
       "      <td>42.0</td>\n",
       "    </tr>\n",
       "    <tr>\n",
       "      <td rowspan=\"4\" valign=\"top\">1499</td>\n",
       "      <td>9</td>\n",
       "      <td>8</td>\n",
       "      <td>70</td>\n",
       "      <td>11.0</td>\n",
       "    </tr>\n",
       "    <tr>\n",
       "      <td>10</td>\n",
       "      <td>44</td>\n",
       "      <td>449</td>\n",
       "      <td>48.0</td>\n",
       "    </tr>\n",
       "    <tr>\n",
       "      <td>11</td>\n",
       "      <td>62</td>\n",
       "      <td>612</td>\n",
       "      <td>59.0</td>\n",
       "    </tr>\n",
       "    <tr>\n",
       "      <td>12</td>\n",
       "      <td>56</td>\n",
       "      <td>492</td>\n",
       "      <td>66.0</td>\n",
       "    </tr>\n",
       "  </tbody>\n",
       "</table>\n",
       "<p>3168 rows × 3 columns</p>\n",
       "</div>"
      ],
      "text/plain": [
       "               count_calls  sum  count_messages\n",
       "user_id month                                  \n",
       "1000    5               17  159            22.0\n",
       "        6               28  172            60.0\n",
       "        7               41  340            75.0\n",
       "        8               42  408            81.0\n",
       "        9               46  466            57.0\n",
       "...                    ...  ...             ...\n",
       "1498    10              30  247            42.0\n",
       "1499    9                8   70            11.0\n",
       "        10              44  449            48.0\n",
       "        11              62  612            59.0\n",
       "        12              56  492            66.0\n",
       "\n",
       "[3168 rows x 3 columns]"
      ]
     },
     "execution_count": 18,
     "metadata": {},
     "output_type": "execute_result"
    }
   ],
   "source": [
    "cal_mes = calls_sum_id.join(messages_sum_id, lsuffix= '_calls', rsuffix='_messages')\n",
    "cal_mes"
   ]
  },
  {
   "cell_type": "markdown",
   "metadata": {},
   "source": [
    "Далее объединим таблицу с интернетом."
   ]
  },
  {
   "cell_type": "code",
   "execution_count": 19,
   "metadata": {},
   "outputs": [
    {
     "data": {
      "text/html": [
       "<div>\n",
       "<style scoped>\n",
       "    .dataframe tbody tr th:only-of-type {\n",
       "        vertical-align: middle;\n",
       "    }\n",
       "\n",
       "    .dataframe tbody tr th {\n",
       "        vertical-align: top;\n",
       "    }\n",
       "\n",
       "    .dataframe thead th {\n",
       "        text-align: right;\n",
       "    }\n",
       "</style>\n",
       "<table border=\"1\" class=\"dataframe\">\n",
       "  <thead>\n",
       "    <tr style=\"text-align: right;\">\n",
       "      <th></th>\n",
       "      <th>user_id</th>\n",
       "      <th>month</th>\n",
       "      <th>count_calls</th>\n",
       "      <th>sum_calls</th>\n",
       "      <th>count_messages</th>\n",
       "      <th>sum_internet</th>\n",
       "    </tr>\n",
       "  </thead>\n",
       "  <tbody>\n",
       "    <tr>\n",
       "      <td>0</td>\n",
       "      <td>1000</td>\n",
       "      <td>5</td>\n",
       "      <td>17</td>\n",
       "      <td>159</td>\n",
       "      <td>22.0</td>\n",
       "      <td>3.0</td>\n",
       "    </tr>\n",
       "    <tr>\n",
       "      <td>1</td>\n",
       "      <td>1000</td>\n",
       "      <td>6</td>\n",
       "      <td>28</td>\n",
       "      <td>172</td>\n",
       "      <td>60.0</td>\n",
       "      <td>23.0</td>\n",
       "    </tr>\n",
       "    <tr>\n",
       "      <td>2</td>\n",
       "      <td>1000</td>\n",
       "      <td>7</td>\n",
       "      <td>41</td>\n",
       "      <td>340</td>\n",
       "      <td>75.0</td>\n",
       "      <td>14.0</td>\n",
       "    </tr>\n",
       "    <tr>\n",
       "      <td>3</td>\n",
       "      <td>1000</td>\n",
       "      <td>8</td>\n",
       "      <td>42</td>\n",
       "      <td>408</td>\n",
       "      <td>81.0</td>\n",
       "      <td>14.0</td>\n",
       "    </tr>\n",
       "    <tr>\n",
       "      <td>4</td>\n",
       "      <td>1000</td>\n",
       "      <td>9</td>\n",
       "      <td>46</td>\n",
       "      <td>466</td>\n",
       "      <td>57.0</td>\n",
       "      <td>15.0</td>\n",
       "    </tr>\n",
       "    <tr>\n",
       "      <td>...</td>\n",
       "      <td>...</td>\n",
       "      <td>...</td>\n",
       "      <td>...</td>\n",
       "      <td>...</td>\n",
       "      <td>...</td>\n",
       "      <td>...</td>\n",
       "    </tr>\n",
       "    <tr>\n",
       "      <td>3163</td>\n",
       "      <td>1498</td>\n",
       "      <td>10</td>\n",
       "      <td>30</td>\n",
       "      <td>247</td>\n",
       "      <td>42.0</td>\n",
       "      <td>21.0</td>\n",
       "    </tr>\n",
       "    <tr>\n",
       "      <td>3164</td>\n",
       "      <td>1499</td>\n",
       "      <td>9</td>\n",
       "      <td>8</td>\n",
       "      <td>70</td>\n",
       "      <td>11.0</td>\n",
       "      <td>2.0</td>\n",
       "    </tr>\n",
       "    <tr>\n",
       "      <td>3165</td>\n",
       "      <td>1499</td>\n",
       "      <td>10</td>\n",
       "      <td>44</td>\n",
       "      <td>449</td>\n",
       "      <td>48.0</td>\n",
       "      <td>18.0</td>\n",
       "    </tr>\n",
       "    <tr>\n",
       "      <td>3166</td>\n",
       "      <td>1499</td>\n",
       "      <td>11</td>\n",
       "      <td>62</td>\n",
       "      <td>612</td>\n",
       "      <td>59.0</td>\n",
       "      <td>18.0</td>\n",
       "    </tr>\n",
       "    <tr>\n",
       "      <td>3167</td>\n",
       "      <td>1499</td>\n",
       "      <td>12</td>\n",
       "      <td>56</td>\n",
       "      <td>492</td>\n",
       "      <td>66.0</td>\n",
       "      <td>13.0</td>\n",
       "    </tr>\n",
       "  </tbody>\n",
       "</table>\n",
       "<p>3168 rows × 6 columns</p>\n",
       "</div>"
      ],
      "text/plain": [
       "      user_id  month  count_calls  sum_calls  count_messages  sum_internet\n",
       "0        1000      5           17        159            22.0           3.0\n",
       "1        1000      6           28        172            60.0          23.0\n",
       "2        1000      7           41        340            75.0          14.0\n",
       "3        1000      8           42        408            81.0          14.0\n",
       "4        1000      9           46        466            57.0          15.0\n",
       "...       ...    ...          ...        ...             ...           ...\n",
       "3163     1498     10           30        247            42.0          21.0\n",
       "3164     1499      9            8         70            11.0           2.0\n",
       "3165     1499     10           44        449            48.0          18.0\n",
       "3166     1499     11           62        612            59.0          18.0\n",
       "3167     1499     12           56        492            66.0          13.0\n",
       "\n",
       "[3168 rows x 6 columns]"
      ]
     },
     "execution_count": 19,
     "metadata": {},
     "output_type": "execute_result"
    }
   ],
   "source": [
    "total = cal_mes.join(internet_sum_id, lsuffix = '_calls', rsuffix='_internet')\n",
    "total.reset_index(inplace=True)\n",
    "total"
   ]
  },
  {
   "cell_type": "markdown",
   "metadata": {},
   "source": [
    "<div class=\"alert alert-success\">\n",
    "<font size=\"5\"><b>Комментарий ревьюера</b></font>\n",
    "\n",
    "Да, именно такое соединение нам и нужно в данном случае. Иначе в таблицу не попадут клиенты, которые не пользовались одним из видов услуг оператора в течение конкретного месяца. \n",
    "\n",
    "</div>"
   ]
  },
  {
   "cell_type": "markdown",
   "metadata": {},
   "source": [
    "Объединим с пользователями и поправим по ходу пьесы типы данных, ну и конечно нан заменим на нули? потому что абонент скорее всего пользовался в течение конкретного месяца данной опцией из тарифа, а использовал другие (к примеру пользовался только интернетом или не мог пользоваться интерентом, т.к. был в роуминге)."
   ]
  },
  {
   "cell_type": "code",
   "execution_count": 20,
   "metadata": {},
   "outputs": [
    {
     "name": "stdout",
     "output_type": "stream",
     "text": [
      "<class 'pandas.core.frame.DataFrame'>\n",
      "Int64Index: 3168 entries, 0 to 3167\n",
      "Data columns (total 11 columns):\n",
      "user_id           3168 non-null int64\n",
      "month             3168 non-null int64\n",
      "count_calls       3168 non-null int64\n",
      "sum_calls         3168 non-null int64\n",
      "count_messages    3168 non-null int64\n",
      "sum_internet      3168 non-null int64\n",
      "age               3168 non-null int64\n",
      "churn_date        3168 non-null datetime64[ns]\n",
      "city              3168 non-null object\n",
      "reg_date          3168 non-null datetime64[ns]\n",
      "tariff            3168 non-null category\n",
      "dtypes: category(1), datetime64[ns](2), int64(7), object(1)\n",
      "memory usage: 275.4+ KB\n"
     ]
    }
   ],
   "source": [
    "user_total = total.merge(users, on='user_id', how='left')\n",
    "user_total['tariff'] = user_total['tariff'].astype('category')\n",
    "user_total['count_messages'] = user_total['count_messages'].fillna(0).astype('int')\n",
    "user_total['sum_internet'] = user_total['sum_internet'].fillna(0).astype('int')\n",
    "user_total.info()"
   ]
  },
  {
   "cell_type": "markdown",
   "metadata": {},
   "source": [
    "<div class=\"alert alert-warning\">\n",
    "<font size=\"5\"><b>Комментарий ревьюера</b></font>\n",
    "\n",
    "Почему пропуски следует заполнить нулями?\n",
    "\n",
    "</div>"
   ]
  },
  {
   "cell_type": "markdown",
   "metadata": {},
   "source": [
    "Добавим данные по тарифу:"
   ]
  },
  {
   "cell_type": "code",
   "execution_count": 21,
   "metadata": {},
   "outputs": [
    {
     "name": "stdout",
     "output_type": "stream",
     "text": [
      "<class 'pandas.core.frame.DataFrame'>\n",
      "Int64Index: 3168 entries, 0 to 3167\n",
      "Data columns (total 18 columns):\n",
      "user_id                  3168 non-null int64\n",
      "month                    3168 non-null int64\n",
      "count_calls              3168 non-null int64\n",
      "sum_calls                3168 non-null int64\n",
      "count_messages           3168 non-null int64\n",
      "sum_internet             3168 non-null int64\n",
      "age                      3168 non-null int64\n",
      "churn_date               3168 non-null datetime64[ns]\n",
      "city                     3168 non-null category\n",
      "reg_date                 3168 non-null datetime64[ns]\n",
      "tariff                   3168 non-null category\n",
      "messages_included        3168 non-null int64\n",
      "gb_per_month_included    3168 non-null int64\n",
      "minutes_included         3168 non-null int64\n",
      "rub_monthly_fee          3168 non-null int64\n",
      "rub_per_gb               3168 non-null int64\n",
      "rub_per_message          3168 non-null int64\n",
      "rub_per_minute           3168 non-null int64\n",
      "dtypes: category(2), datetime64[ns](2), int64(14)\n",
      "memory usage: 430.1 KB\n"
     ]
    }
   ],
   "source": [
    "user_total_tariffs = user_total.merge(tariffs, on = 'tariff')\n",
    "user_total_tariffs['gb_per_month_included'] = user_total_tariffs['gb_per_month_included'].astype('int')\n",
    "user_total_tariffs['city'] = user_total_tariffs['city'].astype('category')\n",
    "user_total_tariffs.info()"
   ]
  },
  {
   "cell_type": "markdown",
   "metadata": {},
   "source": [
    "Теперь проверим на наличие дубликатов на скякий случай:"
   ]
  },
  {
   "cell_type": "code",
   "execution_count": 22,
   "metadata": {},
   "outputs": [
    {
     "data": {
      "text/plain": [
       "0"
      ]
     },
     "execution_count": 22,
     "metadata": {},
     "output_type": "execute_result"
    }
   ],
   "source": [
    "user_total_tariffs.duplicated().sum()"
   ]
  },
  {
   "cell_type": "markdown",
   "metadata": {},
   "source": [
    "Дубликатов нет, едем дальше."
   ]
  },
  {
   "cell_type": "markdown",
   "metadata": {},
   "source": [
    "Посчитаем помесячную выручку с каждого пользователя (вычтем бесплатный лимит из суммарного количества звонков, сообщений и интернет-трафика; остаток умножим на значение из тарифного плана; прибавим абонентскую плату, соответствующую тарифному плану). Для этого создаем новый столбец revenue."
   ]
  },
  {
   "cell_type": "code",
   "execution_count": 23,
   "metadata": {},
   "outputs": [],
   "source": [
    "def rev(row):\n",
    "    sum_calls = row['sum_calls']\n",
    "    count_messages = row['count_messages']\n",
    "    sum_internet = row['sum_internet']\n",
    "    messages_included = row['messages_included']\n",
    "    gb_per_month_included = row['gb_per_month_included']\n",
    "    minutes_included = row['minutes_included']\n",
    "    rub_monthly_fee = row['rub_monthly_fee']\n",
    "    rub_per_gb = row['rub_per_gb']\n",
    "    rub_per_message = row['rub_per_message']\n",
    "    rub_per_minute = row['rub_per_minute']\n",
    "    if sum_calls > minutes_included:\n",
    "        calls_fee = (sum_calls-minutes_included)*rub_per_minute\n",
    "    else:\n",
    "        calls_fee = 0\n",
    "    if count_messages > messages_included:\n",
    "        messages_fee = (count_messages-messages_included)*rub_per_message\n",
    "    else:\n",
    "        messages_fee = 0\n",
    "    if sum_internet > gb_per_month_included:\n",
    "        internet_fee = (sum_internet-gb_per_month_included)*rub_per_gb\n",
    "    else:\n",
    "        internet_fee = 0\n",
    "    revenue = rub_monthly_fee + calls_fee + messages_fee + internet_fee\n",
    "    return revenue\n",
    "user_total_tariffs['revenue'] = user_total_tariffs.apply(rev, axis=1)"
   ]
  },
  {
   "cell_type": "markdown",
   "metadata": {},
   "source": [
    "Проверим, что получилось:"
   ]
  },
  {
   "cell_type": "code",
   "execution_count": 24,
   "metadata": {},
   "outputs": [
    {
     "data": {
      "text/html": [
       "<div>\n",
       "<style scoped>\n",
       "    .dataframe tbody tr th:only-of-type {\n",
       "        vertical-align: middle;\n",
       "    }\n",
       "\n",
       "    .dataframe tbody tr th {\n",
       "        vertical-align: top;\n",
       "    }\n",
       "\n",
       "    .dataframe thead th {\n",
       "        text-align: right;\n",
       "    }\n",
       "</style>\n",
       "<table border=\"1\" class=\"dataframe\">\n",
       "  <thead>\n",
       "    <tr style=\"text-align: right;\">\n",
       "      <th></th>\n",
       "      <th>user_id</th>\n",
       "      <th>month</th>\n",
       "      <th>count_calls</th>\n",
       "      <th>sum_calls</th>\n",
       "      <th>count_messages</th>\n",
       "      <th>sum_internet</th>\n",
       "      <th>age</th>\n",
       "      <th>churn_date</th>\n",
       "      <th>city</th>\n",
       "      <th>reg_date</th>\n",
       "      <th>tariff</th>\n",
       "      <th>messages_included</th>\n",
       "      <th>gb_per_month_included</th>\n",
       "      <th>minutes_included</th>\n",
       "      <th>rub_monthly_fee</th>\n",
       "      <th>rub_per_gb</th>\n",
       "      <th>rub_per_message</th>\n",
       "      <th>rub_per_minute</th>\n",
       "      <th>revenue</th>\n",
       "    </tr>\n",
       "  </thead>\n",
       "  <tbody>\n",
       "    <tr>\n",
       "      <td>0</td>\n",
       "      <td>1000</td>\n",
       "      <td>5</td>\n",
       "      <td>17</td>\n",
       "      <td>159</td>\n",
       "      <td>22</td>\n",
       "      <td>3</td>\n",
       "      <td>52</td>\n",
       "      <td>2018-12-31</td>\n",
       "      <td>краснодар</td>\n",
       "      <td>2018-05-25</td>\n",
       "      <td>ultra</td>\n",
       "      <td>1000</td>\n",
       "      <td>30</td>\n",
       "      <td>3000</td>\n",
       "      <td>1950</td>\n",
       "      <td>150</td>\n",
       "      <td>1</td>\n",
       "      <td>1</td>\n",
       "      <td>1950</td>\n",
       "    </tr>\n",
       "    <tr>\n",
       "      <td>1</td>\n",
       "      <td>1000</td>\n",
       "      <td>6</td>\n",
       "      <td>28</td>\n",
       "      <td>172</td>\n",
       "      <td>60</td>\n",
       "      <td>23</td>\n",
       "      <td>52</td>\n",
       "      <td>2018-12-31</td>\n",
       "      <td>краснодар</td>\n",
       "      <td>2018-05-25</td>\n",
       "      <td>ultra</td>\n",
       "      <td>1000</td>\n",
       "      <td>30</td>\n",
       "      <td>3000</td>\n",
       "      <td>1950</td>\n",
       "      <td>150</td>\n",
       "      <td>1</td>\n",
       "      <td>1</td>\n",
       "      <td>1950</td>\n",
       "    </tr>\n",
       "    <tr>\n",
       "      <td>2</td>\n",
       "      <td>1000</td>\n",
       "      <td>7</td>\n",
       "      <td>41</td>\n",
       "      <td>340</td>\n",
       "      <td>75</td>\n",
       "      <td>14</td>\n",
       "      <td>52</td>\n",
       "      <td>2018-12-31</td>\n",
       "      <td>краснодар</td>\n",
       "      <td>2018-05-25</td>\n",
       "      <td>ultra</td>\n",
       "      <td>1000</td>\n",
       "      <td>30</td>\n",
       "      <td>3000</td>\n",
       "      <td>1950</td>\n",
       "      <td>150</td>\n",
       "      <td>1</td>\n",
       "      <td>1</td>\n",
       "      <td>1950</td>\n",
       "    </tr>\n",
       "    <tr>\n",
       "      <td>3</td>\n",
       "      <td>1000</td>\n",
       "      <td>8</td>\n",
       "      <td>42</td>\n",
       "      <td>408</td>\n",
       "      <td>81</td>\n",
       "      <td>14</td>\n",
       "      <td>52</td>\n",
       "      <td>2018-12-31</td>\n",
       "      <td>краснодар</td>\n",
       "      <td>2018-05-25</td>\n",
       "      <td>ultra</td>\n",
       "      <td>1000</td>\n",
       "      <td>30</td>\n",
       "      <td>3000</td>\n",
       "      <td>1950</td>\n",
       "      <td>150</td>\n",
       "      <td>1</td>\n",
       "      <td>1</td>\n",
       "      <td>1950</td>\n",
       "    </tr>\n",
       "    <tr>\n",
       "      <td>4</td>\n",
       "      <td>1000</td>\n",
       "      <td>9</td>\n",
       "      <td>46</td>\n",
       "      <td>466</td>\n",
       "      <td>57</td>\n",
       "      <td>15</td>\n",
       "      <td>52</td>\n",
       "      <td>2018-12-31</td>\n",
       "      <td>краснодар</td>\n",
       "      <td>2018-05-25</td>\n",
       "      <td>ultra</td>\n",
       "      <td>1000</td>\n",
       "      <td>30</td>\n",
       "      <td>3000</td>\n",
       "      <td>1950</td>\n",
       "      <td>150</td>\n",
       "      <td>1</td>\n",
       "      <td>1</td>\n",
       "      <td>1950</td>\n",
       "    </tr>\n",
       "    <tr>\n",
       "      <td>...</td>\n",
       "      <td>...</td>\n",
       "      <td>...</td>\n",
       "      <td>...</td>\n",
       "      <td>...</td>\n",
       "      <td>...</td>\n",
       "      <td>...</td>\n",
       "      <td>...</td>\n",
       "      <td>...</td>\n",
       "      <td>...</td>\n",
       "      <td>...</td>\n",
       "      <td>...</td>\n",
       "      <td>...</td>\n",
       "      <td>...</td>\n",
       "      <td>...</td>\n",
       "      <td>...</td>\n",
       "      <td>...</td>\n",
       "      <td>...</td>\n",
       "      <td>...</td>\n",
       "      <td>...</td>\n",
       "    </tr>\n",
       "    <tr>\n",
       "      <td>3163</td>\n",
       "      <td>1498</td>\n",
       "      <td>10</td>\n",
       "      <td>30</td>\n",
       "      <td>247</td>\n",
       "      <td>42</td>\n",
       "      <td>21</td>\n",
       "      <td>68</td>\n",
       "      <td>2018-10-25</td>\n",
       "      <td>владикавказ</td>\n",
       "      <td>2018-07-19</td>\n",
       "      <td>smart</td>\n",
       "      <td>50</td>\n",
       "      <td>15</td>\n",
       "      <td>500</td>\n",
       "      <td>550</td>\n",
       "      <td>200</td>\n",
       "      <td>3</td>\n",
       "      <td>3</td>\n",
       "      <td>1750</td>\n",
       "    </tr>\n",
       "    <tr>\n",
       "      <td>3164</td>\n",
       "      <td>1499</td>\n",
       "      <td>9</td>\n",
       "      <td>8</td>\n",
       "      <td>70</td>\n",
       "      <td>11</td>\n",
       "      <td>2</td>\n",
       "      <td>35</td>\n",
       "      <td>2018-12-31</td>\n",
       "      <td>пермь</td>\n",
       "      <td>2018-09-27</td>\n",
       "      <td>smart</td>\n",
       "      <td>50</td>\n",
       "      <td>15</td>\n",
       "      <td>500</td>\n",
       "      <td>550</td>\n",
       "      <td>200</td>\n",
       "      <td>3</td>\n",
       "      <td>3</td>\n",
       "      <td>550</td>\n",
       "    </tr>\n",
       "    <tr>\n",
       "      <td>3165</td>\n",
       "      <td>1499</td>\n",
       "      <td>10</td>\n",
       "      <td>44</td>\n",
       "      <td>449</td>\n",
       "      <td>48</td>\n",
       "      <td>18</td>\n",
       "      <td>35</td>\n",
       "      <td>2018-12-31</td>\n",
       "      <td>пермь</td>\n",
       "      <td>2018-09-27</td>\n",
       "      <td>smart</td>\n",
       "      <td>50</td>\n",
       "      <td>15</td>\n",
       "      <td>500</td>\n",
       "      <td>550</td>\n",
       "      <td>200</td>\n",
       "      <td>3</td>\n",
       "      <td>3</td>\n",
       "      <td>1150</td>\n",
       "    </tr>\n",
       "    <tr>\n",
       "      <td>3166</td>\n",
       "      <td>1499</td>\n",
       "      <td>11</td>\n",
       "      <td>62</td>\n",
       "      <td>612</td>\n",
       "      <td>59</td>\n",
       "      <td>18</td>\n",
       "      <td>35</td>\n",
       "      <td>2018-12-31</td>\n",
       "      <td>пермь</td>\n",
       "      <td>2018-09-27</td>\n",
       "      <td>smart</td>\n",
       "      <td>50</td>\n",
       "      <td>15</td>\n",
       "      <td>500</td>\n",
       "      <td>550</td>\n",
       "      <td>200</td>\n",
       "      <td>3</td>\n",
       "      <td>3</td>\n",
       "      <td>1513</td>\n",
       "    </tr>\n",
       "    <tr>\n",
       "      <td>3167</td>\n",
       "      <td>1499</td>\n",
       "      <td>12</td>\n",
       "      <td>56</td>\n",
       "      <td>492</td>\n",
       "      <td>66</td>\n",
       "      <td>13</td>\n",
       "      <td>35</td>\n",
       "      <td>2018-12-31</td>\n",
       "      <td>пермь</td>\n",
       "      <td>2018-09-27</td>\n",
       "      <td>smart</td>\n",
       "      <td>50</td>\n",
       "      <td>15</td>\n",
       "      <td>500</td>\n",
       "      <td>550</td>\n",
       "      <td>200</td>\n",
       "      <td>3</td>\n",
       "      <td>3</td>\n",
       "      <td>598</td>\n",
       "    </tr>\n",
       "  </tbody>\n",
       "</table>\n",
       "<p>3168 rows × 19 columns</p>\n",
       "</div>"
      ],
      "text/plain": [
       "      user_id  month  count_calls  sum_calls  count_messages  sum_internet  \\\n",
       "0        1000      5           17        159              22             3   \n",
       "1        1000      6           28        172              60            23   \n",
       "2        1000      7           41        340              75            14   \n",
       "3        1000      8           42        408              81            14   \n",
       "4        1000      9           46        466              57            15   \n",
       "...       ...    ...          ...        ...             ...           ...   \n",
       "3163     1498     10           30        247              42            21   \n",
       "3164     1499      9            8         70              11             2   \n",
       "3165     1499     10           44        449              48            18   \n",
       "3166     1499     11           62        612              59            18   \n",
       "3167     1499     12           56        492              66            13   \n",
       "\n",
       "      age churn_date         city   reg_date tariff  messages_included  \\\n",
       "0      52 2018-12-31    краснодар 2018-05-25  ultra               1000   \n",
       "1      52 2018-12-31    краснодар 2018-05-25  ultra               1000   \n",
       "2      52 2018-12-31    краснодар 2018-05-25  ultra               1000   \n",
       "3      52 2018-12-31    краснодар 2018-05-25  ultra               1000   \n",
       "4      52 2018-12-31    краснодар 2018-05-25  ultra               1000   \n",
       "...   ...        ...          ...        ...    ...                ...   \n",
       "3163   68 2018-10-25  владикавказ 2018-07-19  smart                 50   \n",
       "3164   35 2018-12-31        пермь 2018-09-27  smart                 50   \n",
       "3165   35 2018-12-31        пермь 2018-09-27  smart                 50   \n",
       "3166   35 2018-12-31        пермь 2018-09-27  smart                 50   \n",
       "3167   35 2018-12-31        пермь 2018-09-27  smart                 50   \n",
       "\n",
       "      gb_per_month_included  minutes_included  rub_monthly_fee  rub_per_gb  \\\n",
       "0                        30              3000             1950         150   \n",
       "1                        30              3000             1950         150   \n",
       "2                        30              3000             1950         150   \n",
       "3                        30              3000             1950         150   \n",
       "4                        30              3000             1950         150   \n",
       "...                     ...               ...              ...         ...   \n",
       "3163                     15               500              550         200   \n",
       "3164                     15               500              550         200   \n",
       "3165                     15               500              550         200   \n",
       "3166                     15               500              550         200   \n",
       "3167                     15               500              550         200   \n",
       "\n",
       "      rub_per_message  rub_per_minute  revenue  \n",
       "0                   1               1     1950  \n",
       "1                   1               1     1950  \n",
       "2                   1               1     1950  \n",
       "3                   1               1     1950  \n",
       "4                   1               1     1950  \n",
       "...               ...             ...      ...  \n",
       "3163                3               3     1750  \n",
       "3164                3               3      550  \n",
       "3165                3               3     1150  \n",
       "3166                3               3     1513  \n",
       "3167                3               3      598  \n",
       "\n",
       "[3168 rows x 19 columns]"
      ]
     },
     "execution_count": 24,
     "metadata": {},
     "output_type": "execute_result"
    }
   ],
   "source": [
    "user_total_tariffs"
   ]
  },
  {
   "cell_type": "markdown",
   "metadata": {},
   "source": [
    "<div class=\"alert alert-warning\">\n",
    "<font size=\"5\"><b>Комментарий ревьюера</b></font>\n",
    "\n",
    "Финальная таблица получена верным образом. Стоит убрать из нее излишнюю информацию в виде имени или фамилии клиента. Такая информация никак не поможет нам в анализе, поэтому хранить ее повторно не стоит. Информация о тарифах у нас уже есть в таблице tariffs. Дублировать ее не стоит.  \n",
    "\n",
    "</div>"
   ]
  },
  {
   "cell_type": "markdown",
   "metadata": {},
   "source": [
    "<div class=\"alert alert-info\">\n",
    "<font size=\"5\"><b>Комментарий студента - 1</b></font>\n",
    "\n",
    "Лишнюю информацию убрал, но отделять информацию о тарифе не стал, чтобы не переписывать формулу. В следующий раз так и сделаю.\n",
    "\n",
    "</div>"
   ]
  },
  {
   "cell_type": "markdown",
   "metadata": {},
   "source": [
    "<div class=\"alert alert-success\">\n",
    "<font size=\"5\"><b>Комментарий ревьюера 2</b></font>\n",
    "\n",
    "Ок)\n",
    "\n",
    "</div>"
   ]
  },
  {
   "cell_type": "markdown",
   "metadata": {},
   "source": [
    "##  Анализ данных\n",
    "<a id='section_3'></a>"
   ]
  },
  {
   "cell_type": "markdown",
   "metadata": {},
   "source": [
    "[Оглавление](#section_0) "
   ]
  },
  {
   "cell_type": "markdown",
   "metadata": {},
   "source": [
    "Опишим поведение клиентов оператора, исходя из выборки. Сколько минут разговора, сколько сообщений и какой объём интернет-трафика требуется пользователям каждого тарифа в месяц? Посчитаем среднее количество, дисперсию и стандартное отклонение. Построим гистограммы. Опишим распределения. Для начала напишем функцию для удобства."
   ]
  },
  {
   "cell_type": "markdown",
   "metadata": {},
   "source": [
    "<div class=\"alert alert-success\">\n",
    "<font size=\"5\"><b>Комментарий ревьюера</b></font>\n",
    "\n",
    "Импорт необходимых библиотек следует производить в первой ячейке работы, как то рекомендует стандарт. \n",
    "\n",
    "</div>"
   ]
  },
  {
   "cell_type": "markdown",
   "metadata": {},
   "source": [
    "<div class=\"alert alert-info\">\n",
    "<font size=\"5\"><b>Комментарий студента - 1</b></font>\n",
    "\n",
    "Перенес в начало.\n",
    "\n",
    "</div>"
   ]
  },
  {
   "cell_type": "code",
   "execution_count": 25,
   "metadata": {},
   "outputs": [],
   "source": [
    "def analize(chek, name_x):\n",
    "    display('Среднее равно',chek.mean())\n",
    "    var_chek = np.var(chek)\n",
    "    display('Дисперсия равна',var_chek)\n",
    "    display('Стандартное отклонение равно',np.sqrt(var_chek))\n",
    "    chek.hist()\n",
    "    pl.title('Распределение')\n",
    "    pl.xlabel(name_x)\n",
    "    pl.ylabel(\"Количество наблюдений\")"
   ]
  },
  {
   "cell_type": "markdown",
   "metadata": {},
   "source": [
    "### Анализ тарифа ultra\n",
    "<a id='section_3.1'></a>"
   ]
  },
  {
   "cell_type": "markdown",
   "metadata": {},
   "source": [
    "[Оглавление](#section_0) "
   ]
  },
  {
   "cell_type": "markdown",
   "metadata": {},
   "source": [
    "Создадим срез по тарифу Ультра и посмотрим показатели с помощью функции:"
   ]
  },
  {
   "cell_type": "code",
   "execution_count": 26,
   "metadata": {},
   "outputs": [
    {
     "data": {
      "text/plain": [
       "'Среднее равно'"
      ]
     },
     "metadata": {},
     "output_type": "display_data"
    },
    {
     "data": {
      "text/plain": [
       "547.7550158394931"
      ]
     },
     "metadata": {},
     "output_type": "display_data"
    },
    {
     "data": {
      "text/plain": [
       "'Дисперсия равна'"
      ]
     },
     "metadata": {},
     "output_type": "display_data"
    },
    {
     "data": {
      "text/plain": [
       "93239.86606512647"
      ]
     },
     "metadata": {},
     "output_type": "display_data"
    },
    {
     "data": {
      "text/plain": [
       "'Стандартное отклонение равно'"
      ]
     },
     "metadata": {},
     "output_type": "display_data"
    },
    {
     "data": {
      "text/plain": [
       "305.35203628783364"
      ]
     },
     "metadata": {},
     "output_type": "display_data"
    },
    {
     "data": {
      "image/png": "[encoded data removed]",
      "text/plain": [
       "<Figure size 432x288 with 1 Axes>"
      ]
     },
     "metadata": {
      "needs_background": "light"
     },
     "output_type": "display_data"
    }
   ],
   "source": [
    "user_total_ultra = user_total_tariffs.query('tariff == \"ultra\"')\n",
    "analize(user_total_ultra['sum_calls'], 'использовано минут')"
   ]
  },
  {
   "cell_type": "markdown",
   "metadata": {},
   "source": [
    "Из распределения видно, что в среднем абонентам нужно 545 минут в месяц, большая часть значений лежит от 0 до 547+3умн305=1462 минут. Распределение близко к нормальному, но скошено вправо. При этом 3000 минут абоненты не используют, можно снизить лимит до 1500, чтобы те немногочисленные пользователи опции дополнительно платили за опцию, большинство останется при тех же условиях, а компания получит дополнительную прибыль."
   ]
  },
  {
   "cell_type": "code",
   "execution_count": 27,
   "metadata": {},
   "outputs": [
    {
     "data": {
      "text/plain": [
       "'Среднее равно'"
      ]
     },
     "metadata": {},
     "output_type": "display_data"
    },
    {
     "data": {
      "text/plain": [
       "48.75923970432946"
      ]
     },
     "metadata": {},
     "output_type": "display_data"
    },
    {
     "data": {
      "text/plain": [
       "'Дисперсия равна'"
      ]
     },
     "metadata": {},
     "output_type": "display_data"
    },
    {
     "data": {
      "text/plain": [
       "2169.4330587672516"
      ]
     },
     "metadata": {},
     "output_type": "display_data"
    },
    {
     "data": {
      "text/plain": [
       "'Стандартное отклонение равно'"
      ]
     },
     "metadata": {},
     "output_type": "display_data"
    },
    {
     "data": {
      "text/plain": [
       "46.577173151311484"
      ]
     },
     "metadata": {},
     "output_type": "display_data"
    },
    {
     "data": {
      "image/png": "[encoded data removed]",
      "text/plain": [
       "<Figure size 432x288 with 1 Axes>"
      ]
     },
     "metadata": {
      "needs_background": "light"
     },
     "output_type": "display_data"
    }
   ],
   "source": [
    "analize(user_total_ultra['count_messages'], 'использовано сообщений')"
   ]
  },
  {
   "cell_type": "markdown",
   "metadata": {},
   "source": [
    "Из распределения видно, что в среднем абонентам нужно 49 сообщений в месяц, большая часть значений лежит от 0 до 49+3умн47=190 сообщений. Распределение близко к распределению Пуассона. При этом 1000 сообщений абоненты не используют, можно снизить лимит до 200, чтобы те немногочисленные пользователи опции дополнительно платили за опцию, большинство останется при тех же условиях, а компания получит дополнительную прибыль."
   ]
  },
  {
   "cell_type": "markdown",
   "metadata": {},
   "source": [
    "<div class=\"alert alert-success\">\n",
    "<font size=\"5\"><b>Комментарий ревьюера</b></font>\n",
    "\n",
    "Будет здорово, если все стат. показатели ты соберешь в единую таблицу. Так нам будет заметно проще сравнивать тарифы между собой. \n",
    "\n",
    "</div>"
   ]
  },
  {
   "cell_type": "markdown",
   "metadata": {},
   "source": [
    "<div class=\"alert alert-info\">\n",
    "<font size=\"5\"><b>Комментарий студента - 1</b></font>\n",
    "\n",
    "Добавил ниже.\n",
    "\n",
    "</div>"
   ]
  },
  {
   "cell_type": "code",
   "execution_count": 28,
   "metadata": {},
   "outputs": [
    {
     "data": {
      "text/plain": [
       "'Среднее равно'"
      ]
     },
     "metadata": {},
     "output_type": "display_data"
    },
    {
     "data": {
      "text/plain": [
       "19.497360084477297"
      ]
     },
     "metadata": {},
     "output_type": "display_data"
    },
    {
     "data": {
      "text/plain": [
       "'Дисперсия равна'"
      ]
     },
     "metadata": {},
     "output_type": "display_data"
    },
    {
     "data": {
      "text/plain": [
       "97.72412185872354"
      ]
     },
     "metadata": {},
     "output_type": "display_data"
    },
    {
     "data": {
      "text/plain": [
       "'Стандартное отклонение равно'"
      ]
     },
     "metadata": {},
     "output_type": "display_data"
    },
    {
     "data": {
      "text/plain": [
       "9.885551166157784"
      ]
     },
     "metadata": {},
     "output_type": "display_data"
    },
    {
     "data": {
      "image/png": "[encoded data removed]",
      "text/plain": [
       "<Figure size 432x288 with 1 Axes>"
      ]
     },
     "metadata": {
      "needs_background": "light"
     },
     "output_type": "display_data"
    }
   ],
   "source": [
    "analize(user_total_ultra['sum_internet'], 'использовано трафика')"
   ]
  },
  {
   "cell_type": "markdown",
   "metadata": {},
   "source": [
    "Из распределения видно, что в среднем абонентам нужно 19 гб в месяц, большая часть значений лежит от 0 до 19+3умн10=49 гб. Распределение близко к нормальному, но скошено вправо. При этом 30 гб абоненты не используют, можно уменьшить лимит до 20, при этом те кто выше среднего продолжат оплачивать перерасход, что увеличит выручку."
   ]
  },
  {
   "cell_type": "markdown",
   "metadata": {},
   "source": [
    "<div class=\"alert alert-danger\">\n",
    "<font size=\"5\"><b>Комментарий ревьюера</b></font>\n",
    "\n",
    "По каждому графику проекта проверь подписи осей и названия рисунков. Без этого порой сложно понять, что именно мы анализируем. \n",
    "\n",
    "</div>"
   ]
  },
  {
   "cell_type": "markdown",
   "metadata": {},
   "source": [
    "<div class=\"alert alert-info\">\n",
    "<font size=\"5\"><b>Комментарий студента - 1</b></font>\n",
    "\n",
    "Подписал.\n",
    "\n",
    "</div>"
   ]
  },
  {
   "cell_type": "markdown",
   "metadata": {},
   "source": [
    "<div class=\"alert alert-success\">\n",
    "<font size=\"5\"><b>Комментарий ревьюера 2</b></font>\n",
    "\n",
    "Не забывай про данные важные элементы любой визуализации. \n",
    "\n",
    "</div>"
   ]
  },
  {
   "cell_type": "markdown",
   "metadata": {},
   "source": [
    "### Анализ тарифа smart\n",
    "<a id='section_3.2'></a>"
   ]
  },
  {
   "cell_type": "markdown",
   "metadata": {},
   "source": [
    "[Оглавление](#section_0) "
   ]
  },
  {
   "cell_type": "code",
   "execution_count": 29,
   "metadata": {},
   "outputs": [],
   "source": [
    "def analize_2(chek_1, chek_2, name_x):\n",
    "    display('Среднее равно',chek_1.mean())\n",
    "    var_chek = np.var(chek_1)\n",
    "    display('Дисперсия равна',var_chek)\n",
    "    display('Стандартное отклонение равно',np.sqrt(var_chek))\n",
    "    chek_1.hist()\n",
    "    chek_2.hist()\n",
    "    pl.title('Распределение по двум тарифам, smart - синий')\n",
    "    pl.xlabel(name_x)\n",
    "    pl.ylabel(\"Количество наблюдений\")\n",
    "    "
   ]
  },
  {
   "cell_type": "markdown",
   "metadata": {},
   "source": [
    "Теперь создадим срез по тарифу Смарт и посмотрим показатели с помощью функции, оранжевым цветом указан второй тариф по даному показателю:"
   ]
  },
  {
   "cell_type": "code",
   "execution_count": 30,
   "metadata": {},
   "outputs": [
    {
     "data": {
      "text/plain": [
       "'Среднее равно'"
      ]
     },
     "metadata": {},
     "output_type": "display_data"
    },
    {
     "data": {
      "text/plain": [
       "419.4403421882035"
      ]
     },
     "metadata": {},
     "output_type": "display_data"
    },
    {
     "data": {
      "text/plain": [
       "'Дисперсия равна'"
      ]
     },
     "metadata": {},
     "output_type": "display_data"
    },
    {
     "data": {
      "text/plain": [
       "35702.04653099502"
      ]
     },
     "metadata": {},
     "output_type": "display_data"
    },
    {
     "data": {
      "text/plain": [
       "'Стандартное отклонение равно'"
      ]
     },
     "metadata": {},
     "output_type": "display_data"
    },
    {
     "data": {
      "text/plain": [
       "188.9498518946099"
      ]
     },
     "metadata": {},
     "output_type": "display_data"
    },
    {
     "data": {
      "image/png": "[encoded data removed]",
      "text/plain": [
       "<Figure size 432x288 with 1 Axes>"
      ]
     },
     "metadata": {
      "needs_background": "light"
     },
     "output_type": "display_data"
    }
   ],
   "source": [
    "user_total_smart = user_total_tariffs.query('tariff == \"smart\"')\n",
    "analize_2(user_total_smart['sum_calls'],user_total_ultra['sum_calls'], 'использовано минут')"
   ]
  },
  {
   "cell_type": "markdown",
   "metadata": {},
   "source": [
    "Из распределения видно, что в среднем абонентам нужно 419 минут в месяц, большая часть значений лежит от 0 до 419+3умн189=986 минут. Распределение близко к нормальному. При этом 500 минут абоненты не используют в большей половине, лимит следует сохранить, т.к. достаточно много пользователей не укладываются в лимит и это приносит компании дополнительный доход."
   ]
  },
  {
   "cell_type": "code",
   "execution_count": 31,
   "metadata": {},
   "outputs": [
    {
     "data": {
      "text/plain": [
       "'Среднее равно'"
      ]
     },
     "metadata": {},
     "output_type": "display_data"
    },
    {
     "data": {
      "text/plain": [
       "33.392165691130124"
      ]
     },
     "metadata": {},
     "output_type": "display_data"
    },
    {
     "data": {
      "text/plain": [
       "'Дисперсия равна'"
      ]
     },
     "metadata": {},
     "output_type": "display_data"
    },
    {
     "data": {
      "text/plain": [
       "798.8462060707005"
      ]
     },
     "metadata": {},
     "output_type": "display_data"
    },
    {
     "data": {
      "text/plain": [
       "'Стандартное отклонение равно'"
      ]
     },
     "metadata": {},
     "output_type": "display_data"
    },
    {
     "data": {
      "text/plain": [
       "28.26386750023253"
      ]
     },
     "metadata": {},
     "output_type": "display_data"
    },
    {
     "data": {
      "image/png": "[encoded data removed]",
      "text/plain": [
       "<Figure size 432x288 with 1 Axes>"
      ]
     },
     "metadata": {
      "needs_background": "light"
     },
     "output_type": "display_data"
    }
   ],
   "source": [
    "analize_2(user_total_smart['count_messages'],user_total_ultra['count_messages'], 'использовано сообщений')"
   ]
  },
  {
   "cell_type": "markdown",
   "metadata": {},
   "source": [
    "Из распределения видно, что в среднем абонентам нужно 33 сообщения в месяц, большая часть значений лежит от 0 до 33+3умн28=117 сообщений. Распределение близко к распределению Пуассона. При этом 50 сообщений абоненты не используют, можно снизить лимит до 40, чтобы пользователи опции дополнительно платили за опцию, большинство останется при тех же условиях, а компания получит дополнительную прибыль."
   ]
  },
  {
   "cell_type": "code",
   "execution_count": 32,
   "metadata": {},
   "outputs": [
    {
     "data": {
      "text/plain": [
       "'Среднее равно'"
      ]
     },
     "metadata": {},
     "output_type": "display_data"
    },
    {
     "data": {
      "text/plain": [
       "16.331382260243135"
      ]
     },
     "metadata": {},
     "output_type": "display_data"
    },
    {
     "data": {
      "text/plain": [
       "'Дисперсия равна'"
      ]
     },
     "metadata": {},
     "output_type": "display_data"
    },
    {
     "data": {
      "text/plain": [
       "33.07703856661912"
      ]
     },
     "metadata": {},
     "output_type": "display_data"
    },
    {
     "data": {
      "text/plain": [
       "'Стандартное отклонение равно'"
      ]
     },
     "metadata": {},
     "output_type": "display_data"
    },
    {
     "data": {
      "text/plain": [
       "5.751264084235666"
      ]
     },
     "metadata": {},
     "output_type": "display_data"
    },
    {
     "data": {
      "image/png": "[encoded data removed]",
      "text/plain": [
       "<Figure size 432x288 with 1 Axes>"
      ]
     },
     "metadata": {
      "needs_background": "light"
     },
     "output_type": "display_data"
    }
   ],
   "source": [
    "analize_2(user_total_smart['sum_internet'],user_total_ultra['sum_internet'], 'использовано трафика')"
   ]
  },
  {
   "cell_type": "markdown",
   "metadata": {},
   "source": [
    "Из распределения видно, что в среднем абонентам нужно 16 гб в месяц, большая часть значений лежит от 0 до 16+3умн5=31 гб. Распределение близко к нормальному. При этом 15 гб абоненты используют, и с серьезным перевесом уходят в дополнительные траты по этой опции, можно увеличить лимит до 20, чтобы привлечь больше пользователей, при этом те кто выше среднего продолжат оплачивать перерасход, а вновь привлеченные компенсируют сдвиг по лимитам в выручке и это даст больший прирост чем в тарифе Ультра. Это связано как с большим перерасходом трафика, так и со стоимостью 1 гб."
   ]
  },
  {
   "cell_type": "code",
   "execution_count": 33,
   "metadata": {},
   "outputs": [
    {
     "data": {
      "text/html": [
       "<div>\n",
       "<style scoped>\n",
       "    .dataframe tbody tr th:only-of-type {\n",
       "        vertical-align: middle;\n",
       "    }\n",
       "\n",
       "    .dataframe tbody tr th {\n",
       "        vertical-align: top;\n",
       "    }\n",
       "\n",
       "    .dataframe thead th {\n",
       "        text-align: right;\n",
       "    }\n",
       "</style>\n",
       "<table border=\"1\" class=\"dataframe\">\n",
       "  <thead>\n",
       "    <tr style=\"text-align: right;\">\n",
       "      <th></th>\n",
       "      <th>calls_utra</th>\n",
       "      <th>calls_smart</th>\n",
       "      <th>messages_ultra</th>\n",
       "      <th>messages_smart</th>\n",
       "      <th>internet_ultra</th>\n",
       "      <th>internet_smart</th>\n",
       "    </tr>\n",
       "    <tr>\n",
       "      <th>показатель</th>\n",
       "      <th></th>\n",
       "      <th></th>\n",
       "      <th></th>\n",
       "      <th></th>\n",
       "      <th></th>\n",
       "      <th></th>\n",
       "    </tr>\n",
       "  </thead>\n",
       "  <tbody>\n",
       "    <tr>\n",
       "      <td>среднее</td>\n",
       "      <td>547.755016</td>\n",
       "      <td>419.440342</td>\n",
       "      <td>48.759240</td>\n",
       "      <td>33.392166</td>\n",
       "      <td>19.497360</td>\n",
       "      <td>16.331382</td>\n",
       "    </tr>\n",
       "    <tr>\n",
       "      <td>дисперсия</td>\n",
       "      <td>93239.866065</td>\n",
       "      <td>35702.046531</td>\n",
       "      <td>2169.433059</td>\n",
       "      <td>798.846206</td>\n",
       "      <td>97.724122</td>\n",
       "      <td>33.077039</td>\n",
       "    </tr>\n",
       "    <tr>\n",
       "      <td>стандартное отклонение</td>\n",
       "      <td>305.352036</td>\n",
       "      <td>188.949852</td>\n",
       "      <td>46.577173</td>\n",
       "      <td>28.263868</td>\n",
       "      <td>9.885551</td>\n",
       "      <td>5.751264</td>\n",
       "    </tr>\n",
       "  </tbody>\n",
       "</table>\n",
       "</div>"
      ],
      "text/plain": [
       "                          calls_utra   calls_smart  messages_ultra  \\\n",
       "показатель                                                           \n",
       "среднее                   547.755016    419.440342       48.759240   \n",
       "дисперсия               93239.866065  35702.046531     2169.433059   \n",
       "стандартное отклонение    305.352036    188.949852       46.577173   \n",
       "\n",
       "                        messages_smart  internet_ultra  internet_smart  \n",
       "показатель                                                              \n",
       "среднее                      33.392166       19.497360       16.331382  \n",
       "дисперсия                   798.846206       97.724122       33.077039  \n",
       "стандартное отклонение       28.263868        9.885551        5.751264  "
      ]
     },
     "execution_count": 33,
     "metadata": {},
     "output_type": "execute_result"
    }
   ],
   "source": [
    "def stat(col_stat):\n",
    "    var_col=np.var(col_stat)\n",
    "    stat_table = [col_stat.mean(), var_col, np.sqrt(var_col)]\n",
    "    return stat_table\n",
    "\n",
    "calls_stat_ultra = stat(user_total_ultra['sum_calls'])\n",
    "messages_stat_ultra = stat(user_total_ultra['count_messages'])\n",
    "internet_stat_ultra = stat(user_total_ultra['sum_internet'])\n",
    "calls_stat_smart = stat(user_total_smart['sum_calls'])\n",
    "messages_stat_smart = stat(user_total_smart['count_messages'])\n",
    "internet_stat_smart = stat(user_total_smart['sum_internet'])\n",
    "data = {\n",
    "    'показатель':['среднее','дисперсия','стандартное отклонение'],\n",
    "    'calls_utra':calls_stat_ultra,\n",
    "    'calls_smart':calls_stat_smart,\n",
    "    'messages_ultra':messages_stat_ultra,\n",
    "    'messages_smart':messages_stat_smart,\n",
    "    'internet_ultra':internet_stat_ultra,\n",
    "    'internet_smart':internet_stat_smart\n",
    "       }\n",
    "stat_tariff = pd.DataFrame(data)\n",
    "stat_tariff.set_index('показатель', inplace=True)\n",
    "stat_tariff"
   ]
  },
  {
   "cell_type": "markdown",
   "metadata": {},
   "source": [
    "<div class=\"alert alert-warning\">\n",
    "<font size=\"5\"><b>Комментарий ревьюера</b></font>\n",
    "\n",
    "Базовые статистические параметры получены. Приведены все необходимые графики. Графики для одинаковых услуг тарифов лучше привести на одном рисунке. Так удобнее будет сравнивать тарифы. Также можно привести график по выручке компании с разбиением по тарифу. \n",
    "\n",
    "</div>\n"
   ]
  },
  {
   "cell_type": "markdown",
   "metadata": {},
   "source": [
    "<div class=\"alert alert-info\">\n",
    "<font size=\"5\"><b>Комментарий студента - 1</b></font>\n",
    "\n",
    "Привел.\n",
    "\n",
    "</div>"
   ]
  },
  {
   "cell_type": "markdown",
   "metadata": {},
   "source": [
    "<div class=\"alert alert-success\">\n",
    "<font size=\"5\"><b>Комментарий ревьюера 2</b></font>\n",
    "\n",
    "Отлично, помарки данного раздела исправлены. Такое сравнение тарифов позволяет детальнее их проанализировать и найти особенности каждого из них.\n",
    "\n",
    "</div>"
   ]
  },
  {
   "cell_type": "markdown",
   "metadata": {},
   "source": [
    "## Проверка гипотез\n",
    "<a id='section_4'></a>"
   ]
  },
  {
   "cell_type": "markdown",
   "metadata": {},
   "source": [
    "[Оглавление](#section_0) "
   ]
  },
  {
   "cell_type": "markdown",
   "metadata": {},
   "source": [
    "Перед проверкой гипотез посмотрим на распределения по искомым значениям."
   ]
  },
  {
   "cell_type": "code",
   "execution_count": 34,
   "metadata": {},
   "outputs": [
    {
     "data": {
      "text/plain": [
       "'Среднее равно'"
      ]
     },
     "metadata": {},
     "output_type": "display_data"
    },
    {
     "data": {
      "text/plain": [
       "2071.4889123548046"
      ]
     },
     "metadata": {},
     "output_type": "display_data"
    },
    {
     "data": {
      "text/plain": [
       "'Дисперсия равна'"
      ]
     },
     "metadata": {},
     "output_type": "display_data"
    },
    {
     "data": {
      "text/plain": [
       "144356.07247474097"
      ]
     },
     "metadata": {},
     "output_type": "display_data"
    },
    {
     "data": {
      "text/plain": [
       "'Стандартное отклонение равно'"
      ]
     },
     "metadata": {},
     "output_type": "display_data"
    },
    {
     "data": {
      "text/plain": [
       "379.94219622824335"
      ]
     },
     "metadata": {},
     "output_type": "display_data"
    },
    {
     "data": {
      "image/png": "[encoded data removed]",
      "text/plain": [
       "<Figure size 432x288 with 1 Axes>"
      ]
     },
     "metadata": {
      "needs_background": "light"
     },
     "output_type": "display_data"
    }
   ],
   "source": [
    "analize(user_total_ultra['revenue'], 'выручка в руб. за месяц')"
   ]
  },
  {
   "cell_type": "markdown",
   "metadata": {},
   "source": [
    "Распределение Пуассона, средняя выручка 2071. Сильный пик у среднего."
   ]
  },
  {
   "cell_type": "code",
   "execution_count": 35,
   "metadata": {},
   "outputs": [],
   "source": [
    "def analize_3(chek_1, chek_2, name_x):\n",
    "    display('Среднее равно',chek_1.mean())\n",
    "    var_chek = np.var(chek_1)\n",
    "    display('Дисперсия равна',var_chek)\n",
    "    display('Стандартное отклонение равно',np.sqrt(var_chek))\n",
    "    chek_1.hist()\n",
    "    chek_2.hist()\n",
    "    pl.title('Распределение выручки по Москве и регионам, регионы - синий')\n",
    "    pl.xlabel(name_x)\n",
    "    pl.ylabel(\"Количество наблюдений\")"
   ]
  },
  {
   "cell_type": "code",
   "execution_count": 36,
   "metadata": {},
   "outputs": [
    {
     "data": {
      "text/plain": [
       "'Среднее равно'"
      ]
     },
     "metadata": {},
     "output_type": "display_data"
    },
    {
     "data": {
      "text/plain": [
       "1291.108059432688"
      ]
     },
     "metadata": {},
     "output_type": "display_data"
    },
    {
     "data": {
      "text/plain": [
       "'Дисперсия равна'"
      ]
     },
     "metadata": {},
     "output_type": "display_data"
    },
    {
     "data": {
      "text/plain": [
       "670982.004532074"
      ]
     },
     "metadata": {},
     "output_type": "display_data"
    },
    {
     "data": {
      "text/plain": [
       "'Стандартное отклонение равно'"
      ]
     },
     "metadata": {},
     "output_type": "display_data"
    },
    {
     "data": {
      "text/plain": [
       "819.134912289834"
      ]
     },
     "metadata": {},
     "output_type": "display_data"
    },
    {
     "data": {
      "image/png": "[encoded data removed]",
      "text/plain": [
       "<Figure size 432x288 with 1 Axes>"
      ]
     },
     "metadata": {
      "needs_background": "light"
     },
     "output_type": "display_data"
    }
   ],
   "source": [
    "analize_3(user_total_smart['revenue'],user_total_ultra['revenue'],'выручка в руб. за месяц')"
   ]
  },
  {
   "cell_type": "markdown",
   "metadata": {},
   "source": [
    "Распределение ближе к нормальному, средняя выручка 1291. Стандартное отклонение выше, чем у предыдущего тарифа, проверим гипотезу, что первый тариф интересней для компании."
   ]
  },
  {
   "cell_type": "markdown",
   "metadata": {},
   "source": [
    "<div class=\"alert alert-warning\">\n",
    "<font size=\"5\"><b>Комментарий ревьюера</b></font>\n",
    "\n",
    "6000 на услуги оператора в месяц выглядят как-то подозрительно. Исправь помарку при округлении трафика, тогда значения должны быть заметно реалистичнее. \n",
    "\n",
    "</div>\n"
   ]
  },
  {
   "cell_type": "markdown",
   "metadata": {},
   "source": [
    "<div class=\"alert alert-info\">\n",
    "<font size=\"5\"><b>Комментарий студента - 1</b></font>\n",
    "\n",
    "Скорректировал данные.\n",
    "\n",
    "</div>"
   ]
  },
  {
   "cell_type": "markdown",
   "metadata": {},
   "source": [
    "### Средняя выручка пользователей тарифов «Ультра» и «Смарт» различаются \n",
    "<a id='section_4.1'></a>"
   ]
  },
  {
   "cell_type": "markdown",
   "metadata": {},
   "source": [
    "[Оглавление](#section_0) "
   ]
  },
  {
   "cell_type": "markdown",
   "metadata": {},
   "source": [
    "За нулевую гипотезу берем, что средняя выручка тарифа \"Ультра\" и тарифа \"Смарт\" равны. Альтернативная - различаются."
   ]
  },
  {
   "cell_type": "code",
   "execution_count": 37,
   "metadata": {},
   "outputs": [
    {
     "data": {
      "text/plain": [
       "'p-значение: '"
      ]
     },
     "metadata": {},
     "output_type": "display_data"
    },
    {
     "data": {
      "text/plain": [
       "8.145017201938894e-155"
      ]
     },
     "metadata": {},
     "output_type": "display_data"
    },
    {
     "data": {
      "text/plain": [
       "'Отвергаем нулевую гипотезу, выручки различаются'"
      ]
     },
     "metadata": {},
     "output_type": "display_data"
    }
   ],
   "source": [
    "from scipy import stats as st\n",
    "\n",
    "alpha = .05\n",
    "results = st.ttest_ind(user_total_ultra['revenue'], user_total_smart['revenue'])\n",
    "display('p-значение: ', results.pvalue)\n",
    "if results.pvalue > alpha:\n",
    "    display('Нулевая гипотеза верна')\n",
    "else:\n",
    "    display('Отвергаем нулевую гипотезу, выручки различаются')"
   ]
  },
  {
   "cell_type": "markdown",
   "metadata": {},
   "source": [
    "<div class=\"alert alert-danger\">\n",
    "<font size=\"5\"><b>Комментарий ревьюера</b></font>\n",
    "\n",
    "Формулировка не соответствует проводимому тесту. Нас просят провести именно двусторонний тест, нам не важно, какой из тарифов имеет большее среднее. Важно лишь то, что они будут различаться. Скорректируй формулировки. \n",
    "\n",
    "</div>\n"
   ]
  },
  {
   "cell_type": "markdown",
   "metadata": {},
   "source": [
    "<div class=\"alert alert-info\">\n",
    "<font size=\"5\"><b>Комментарий студента - 1</b></font>\n",
    "\n",
    "Скорректировал формулировки.\n",
    "\n",
    "</div>"
   ]
  },
  {
   "cell_type": "markdown",
   "metadata": {},
   "source": [
    "<div class=\"alert alert-success\">\n",
    "<font size=\"5\"><b>Комментарий ревьюера 2</b></font>\n",
    "\n",
    "Да, все правильно. Именно двусторонняя формулировка для альтернативной гипотезы нам и нужна. \n",
    "\n",
    "</div>"
   ]
  },
  {
   "cell_type": "markdown",
   "metadata": {},
   "source": [
    "### Cредняя выручка пользователя из Москвы отличается от выручки пользователей из других регионов.\n",
    "<a id='section_4.2'></a>"
   ]
  },
  {
   "cell_type": "markdown",
   "metadata": {},
   "source": [
    "[Оглавление](#section_0) "
   ]
  },
  {
   "cell_type": "code",
   "execution_count": 38,
   "metadata": {},
   "outputs": [
    {
     "data": {
      "text/plain": [
       "'Среднее равно'"
      ]
     },
     "metadata": {},
     "output_type": "display_data"
    },
    {
     "data": {
      "text/plain": [
       "1546.0524590163934"
      ]
     },
     "metadata": {},
     "output_type": "display_data"
    },
    {
     "data": {
      "text/plain": [
       "'Дисперсия равна'"
      ]
     },
     "metadata": {},
     "output_type": "display_data"
    },
    {
     "data": {
      "text/plain": [
       "565369.4070841172"
      ]
     },
     "metadata": {},
     "output_type": "display_data"
    },
    {
     "data": {
      "text/plain": [
       "'Стандартное отклонение равно'"
      ]
     },
     "metadata": {},
     "output_type": "display_data"
    },
    {
     "data": {
      "text/plain": [
       "751.910504703929"
      ]
     },
     "metadata": {},
     "output_type": "display_data"
    },
    {
     "data": {
      "image/png": "[encoded data removed]",
      "text/plain": [
       "<Figure size 432x288 with 1 Axes>"
      ]
     },
     "metadata": {
      "needs_background": "light"
     },
     "output_type": "display_data"
    }
   ],
   "source": [
    "user_total_moscow = user_total_tariffs.query('city == \"москва\"')\n",
    "analize(user_total_moscow['revenue'], 'выручка в руб. за месяц')"
   ]
  },
  {
   "cell_type": "markdown",
   "metadata": {},
   "source": [
    "Также проверим распределения перед проверкой гипотезы: похоже на нормальное. Среднее в Москве 1546 руб."
   ]
  },
  {
   "cell_type": "code",
   "execution_count": 39,
   "metadata": {},
   "outputs": [
    {
     "data": {
      "text/plain": [
       "'Среднее равно'"
      ]
     },
     "metadata": {},
     "output_type": "display_data"
    },
    {
     "data": {
      "text/plain": [
       "1519.217748240813"
      ]
     },
     "metadata": {},
     "output_type": "display_data"
    },
    {
     "data": {
      "text/plain": [
       "'Дисперсия равна'"
      ]
     },
     "metadata": {},
     "output_type": "display_data"
    },
    {
     "data": {
      "text/plain": [
       "659127.236010254"
      ]
     },
     "metadata": {},
     "output_type": "display_data"
    },
    {
     "data": {
      "text/plain": [
       "'Стандартное отклонение равно'"
      ]
     },
     "metadata": {},
     "output_type": "display_data"
    },
    {
     "data": {
      "text/plain": [
       "811.8665136648106"
      ]
     },
     "metadata": {},
     "output_type": "display_data"
    },
    {
     "data": {
      "image/png": "[encoded data removed]",
      "text/plain": [
       "<Figure size 432x288 with 1 Axes>"
      ]
     },
     "metadata": {
      "needs_background": "light"
     },
     "output_type": "display_data"
    }
   ],
   "source": [
    "user_total_not_moscow = user_total_tariffs.query('city != \"москва\"')\n",
    "analize_2(user_total_not_moscow['revenue'],user_total_moscow['revenue'],'выручка в руб. за месяц')"
   ]
  },
  {
   "cell_type": "markdown",
   "metadata": {},
   "source": [
    "В регионах по форме графика похоже, но по значениям среднее 1519 и среднее отклонение выше не значительно. Проверим нулевую гипотезу, что средняя выручка в Москве и регионах равны, а альтернативная - различаются:"
   ]
  },
  {
   "cell_type": "code",
   "execution_count": 40,
   "metadata": {},
   "outputs": [
    {
     "data": {
      "text/plain": [
       "'p-значение: '"
      ]
     },
     "metadata": {},
     "output_type": "display_data"
    },
    {
     "data": {
      "text/plain": [
       "0.45718519583645034"
      ]
     },
     "metadata": {},
     "output_type": "display_data"
    },
    {
     "data": {
      "text/plain": [
       "'Нулевая гипотеза верна'"
      ]
     },
     "metadata": {},
     "output_type": "display_data"
    }
   ],
   "source": [
    "results_city = st.ttest_ind(user_total_moscow['revenue'], user_total_not_moscow['revenue'])\n",
    "display('p-значение: ', results_city.pvalue)\n",
    "if results_city.pvalue > alpha:\n",
    "    display('Нулевая гипотеза верна')\n",
    "else:\n",
    "    display('Отвергаем нулевую гипотезу')"
   ]
  },
  {
   "cell_type": "markdown",
   "metadata": {},
   "source": [
    "<div class=\"alert alert-danger\">\n",
    "<font size=\"5\"><b>Комментарий ревьюера</b></font>\n",
    "\n",
    "Ситуация аналогична, скорректируй формулироку гипотез. Мы проводим двусторонний тест. \n",
    "\n",
    "</div>\n"
   ]
  },
  {
   "cell_type": "markdown",
   "metadata": {},
   "source": [
    "<div class=\"alert alert-info\">\n",
    "<font size=\"5\"><b>Комментарий студента - 1</b></font>\n",
    "\n",
    "Также скорректировал.\n",
    "\n",
    "</div>"
   ]
  },
  {
   "cell_type": "markdown",
   "metadata": {},
   "source": [
    "<div class=\"alert alert-success\">\n",
    "<font size=\"5\"><b>Комментарий ревьюера 2</b></font>\n",
    "\n",
    "Также теперь формулировка верна. \n",
    "\n",
    "</div>"
   ]
  },
  {
   "cell_type": "markdown",
   "metadata": {},
   "source": [
    "## Общие выводы\n",
    "<a id='section_5'></a>"
   ]
  },
  {
   "cell_type": "markdown",
   "metadata": {},
   "source": [
    "[Оглавление](#section_0) "
   ]
  },
  {
   "cell_type": "markdown",
   "metadata": {},
   "source": [
    "1. В ходе исследования выявлено для тарифа Ультра, что в среднем абонентам нужно 545 минут в месяц, большая часть значений лежит от 0 до 1462 минут. Распределение близко к нормальному, но скошено вправо. При этом 3000 минут абоненты не используют, можно снизить лимит до 1500, чтобы те немногочисленные пользователи опции дополнительно платили за опцию, большинство останется при тех же условиях, а компания получит дополнительную прибыль.\n",
    "2. В ходе исследования выявлено для тарифа Ультра, что в среднем абонентам нужно 49 сообщений в месяц, большая часть значений лежит от 0 до 190 сообщений. Распределение близко к распределению Пуассона. При этом 1000 сообщений абоненты не используют, можно снизить лимит до 200, чтобы те немногочисленные пользователи опции дополнительно платили за опцию, большинство останется при тех же условиях, а компания получит дополнительную прибыль.\n",
    "3. Из распределения видно, что в среднем абонентам нужно 19 гб в месяц, большая часть значений лежит от 0 до 19+3умн10=49 гб. Распределение близко к нормальному, но скошено вправо. При этом 30 гб абоненты не используют, можно уменьшить лимит до 20, при этом те кто выше среднего продолжат оплачивать перерасход, что увеличит выручку.\n",
    "4. В ходе исследования выявлено для тарифа Смарт, что в среднем абонентам нужно 419 минут в месяц, большая часть значений лежит от 0 до 986 минут. Распределение близко к нормальному. При этом 500 минут абоненты не используют в большей половине, лимит следует сохранить, т.к. достаточно много пользователей не укладываются в лимит и это приносит компании дополнительный доход.\n",
    "5. В ходе исследования выявлено для тарифа Смарт, что в среднем абонентам нужно 33 сообщения в месяц, большая часть значений лежит от 0 до 117 сообщений. Распределение близко к распределению Пуассона. При этом 50 сообщений абоненты не используют, можно снизить лимит до 40, чтобы пользователи опции дополнительно платили за опцию, большинство останется при тех же условиях, а компания получит дополнительную прибыль.\n",
    "6. Из распределения видно, что в среднем абонентам нужно 16 гб в месяц, большая часть значений лежит от 0 до 16+3умн5=31 гб. Распределение близко к нормальному. При этом 15 гб абоненты используют, и с серьезным перевесом уходят в дополнительные траты по этой опции, можно увеличить лимит до 20, чтобы привлечь больше пользователей, при этом те кто выше среднего продолжат оплачивать перерасход, а вновь привлеченные компенсируют сдвиг по лимитам в выручке и это даст больший прирост чем в тарифе Ультра. Это связано как с большим перерасходом трафика, так и со стоимостью 1 гб.\n",
    "7. За нулевую гипотезу брали, что средняя выручка тарифа \"Ультра\" и тарифа \"Смарт\" равны. Альтернативная - различаются. По итогу нулевая гипотеза была отвергнута, поэтому для оператора рекомендуется выбрать тариф Ультра, как более коммерчески выгодный и сбольшей средней выручкой.\n",
    "8. В регионах по форме графика похоже распределение. Проверили нулевую гипотезу, что средняя выручка в Москве и регионах равны, а альтернативная - различаются. В итоге нулевая гипотеза подтверилась: распределение не зависит от региона."
   ]
  },
  {
   "cell_type": "markdown",
   "metadata": {},
   "source": [
    "<div class=\"alert alert-danger\">\n",
    "<font size=\"5\"><b>Комментарий ревьюера</b></font>\n",
    "\n",
    "Выводы описаны грамотно. Приведены ответы на главные вопросы проекта. В выводах можно приводить полученные ранее значения, правильно. Здорово, что по каждому пункту работы приведен вывод. Скорректируй выводы после исправления помарок выше. \n",
    "\n",
    "</div>\n"
   ]
  },
  {
   "cell_type": "markdown",
   "metadata": {},
   "source": [
    "<div class=\"alert alert-info\">\n",
    "<font size=\"5\"><b>Комментарий студента - 1</b></font>\n",
    "\n",
    "Скорректировал.\n",
    "\n",
    "</div>"
   ]
  },
  {
   "cell_type": "markdown",
   "metadata": {},
   "source": [
    "<div class=\"alert alert-success\">\n",
    "<font size=\"5\"><b>Комментарий ревьюера 2</b></font>\n",
    "\n",
    "Увидел, выводы скорректированы. Соглашусь, ультра более выгоден для оператора. Можно написать рекомендации после проведенного анализа, в которых сделаем акцент на продвижении указанного тарифа. \n",
    "\n",
    "</div>"
   ]
  },
  {
   "cell_type": "markdown",
   "metadata": {},
   "source": [
    "<div class=\"alert alert-info\">\n",
    "<font size=\"5\"><b>Комментарий ревьюера</b></font>\n",
    "\n",
    "Если тебе нравится тема визуализации, то можешь изучить методы библиотеки seaborn. Она позволяет строить довольно презентабельные графики.\n",
    "\n",
    "Ты проделал большую работу, молодец! Критических замечаний немного. Однако с ними важно поработать и их исправить. Также есть достаточное число желтых комментариев. Думаю, ты справишься со всеми помарками. Жду твою работу :)\n",
    "\n",
    "</div>"
   ]
  },
  {
   "cell_type": "markdown",
   "metadata": {},
   "source": [
    "<div class=\"alert alert-success\">\n",
    "<font size=\"5\"><b>Комментарий ревьюера 2</b></font>\n",
    "\n",
    "Помарки исправлены, и теперь работа выполнена хорошо. Ты здорово поработал, молодец. Поздравляю со сданным проектом. Надеюсь, он был интересен и познавателен. Спасибо за оставленные комментарии по исправлениям. Успехов в дальнейшем пути :)\n",
    "\n",
    "</div>"
   ]
  }
 ],
 "metadata": {
  "ExecuteTimeLog": [
   {
    "duration": 1037,
    "start_time": "2021-09-05T10:03:43.535Z"
   },
   {
    "duration": 229,
    "start_time": "2021-09-05T10:04:02.810Z"
   },
   {
    "duration": 206,
    "start_time": "2021-09-05T10:04:17.796Z"
   },
   {
    "duration": 222,
    "start_time": "2021-09-05T10:04:45.538Z"
   },
   {
    "duration": 201,
    "start_time": "2021-09-05T10:04:58.348Z"
   },
   {
    "duration": 30,
    "start_time": "2021-09-05T10:05:04.861Z"
   },
   {
    "duration": 232,
    "start_time": "2021-09-05T10:07:52.984Z"
   },
   {
    "duration": 194,
    "start_time": "2021-09-05T10:09:02.526Z"
   },
   {
    "duration": 248,
    "start_time": "2021-09-05T10:10:05.880Z"
   },
   {
    "duration": 243,
    "start_time": "2021-09-05T10:10:41.084Z"
   },
   {
    "duration": 201,
    "start_time": "2021-09-05T10:10:43.313Z"
   },
   {
    "duration": 150,
    "start_time": "2021-09-05T10:11:28.622Z"
   },
   {
    "duration": 33,
    "start_time": "2021-09-05T10:13:02.005Z"
   },
   {
    "duration": 47,
    "start_time": "2021-09-05T10:14:16.207Z"
   },
   {
    "duration": 253,
    "start_time": "2021-09-05T10:15:06.614Z"
   },
   {
    "duration": 210,
    "start_time": "2021-09-05T10:15:11.451Z"
   },
   {
    "duration": 150,
    "start_time": "2021-09-05T10:15:15.080Z"
   },
   {
    "duration": 37,
    "start_time": "2021-09-05T10:15:18.654Z"
   },
   {
    "duration": 49,
    "start_time": "2021-09-05T10:15:24.323Z"
   },
   {
    "duration": 248,
    "start_time": "2021-09-05T10:18:02.066Z"
   },
   {
    "duration": 215,
    "start_time": "2021-09-05T10:18:18.410Z"
   },
   {
    "duration": 159,
    "start_time": "2021-09-05T10:18:24.755Z"
   },
   {
    "duration": 33,
    "start_time": "2021-09-05T10:18:32.610Z"
   },
   {
    "duration": 53,
    "start_time": "2021-09-05T10:18:38.569Z"
   },
   {
    "duration": 81,
    "start_time": "2021-09-05T11:05:50.103Z"
   },
   {
    "duration": 82,
    "start_time": "2021-09-05T11:05:58.137Z"
   },
   {
    "duration": 86,
    "start_time": "2021-09-05T11:07:54.040Z"
   },
   {
    "duration": 85,
    "start_time": "2021-09-05T11:07:59.902Z"
   },
   {
    "duration": 388,
    "start_time": "2021-09-05T11:08:04.402Z"
   },
   {
    "duration": 93,
    "start_time": "2021-09-05T11:10:12.779Z"
   },
   {
    "duration": 86,
    "start_time": "2021-09-05T11:10:19.098Z"
   },
   {
    "duration": 88,
    "start_time": "2021-09-05T11:11:15.560Z"
   },
   {
    "duration": 288,
    "start_time": "2021-09-05T11:11:25.380Z"
   },
   {
    "duration": 47,
    "start_time": "2021-09-05T11:21:36.951Z"
   },
   {
    "duration": 480,
    "start_time": "2021-09-05T11:22:40.948Z"
   },
   {
    "duration": 1165,
    "start_time": "2021-09-05T11:23:25.610Z"
   },
   {
    "duration": 88,
    "start_time": "2021-09-05T11:26:34.731Z"
   },
   {
    "duration": 80,
    "start_time": "2021-09-05T11:26:41.057Z"
   },
   {
    "duration": 1216,
    "start_time": "2021-09-05T11:26:51.848Z"
   },
   {
    "duration": 580,
    "start_time": "2021-09-05T11:27:20.468Z"
   },
   {
    "duration": 59,
    "start_time": "2021-09-05T11:28:43.579Z"
   },
   {
    "duration": 48,
    "start_time": "2021-09-05T11:44:51.713Z"
   },
   {
    "duration": 60,
    "start_time": "2021-09-05T11:45:00.746Z"
   },
   {
    "duration": 45,
    "start_time": "2021-09-05T11:45:22.671Z"
   },
   {
    "duration": 329,
    "start_time": "2021-09-05T11:49:23.761Z"
   },
   {
    "duration": 307,
    "start_time": "2021-09-05T11:50:07.175Z"
   },
   {
    "duration": 85,
    "start_time": "2021-09-05T11:51:17.728Z"
   },
   {
    "duration": 77,
    "start_time": "2021-09-05T11:51:37.591Z"
   },
   {
    "duration": 999,
    "start_time": "2021-09-05T11:52:16.844Z"
   },
   {
    "duration": 228,
    "start_time": "2021-09-05T11:52:18.676Z"
   },
   {
    "duration": 160,
    "start_time": "2021-09-05T11:52:20.769Z"
   },
   {
    "duration": 36,
    "start_time": "2021-09-05T11:52:22.589Z"
   },
   {
    "duration": 56,
    "start_time": "2021-09-05T11:52:24.091Z"
   },
   {
    "duration": 125,
    "start_time": "2021-09-05T11:52:26.513Z"
   },
   {
    "duration": 85,
    "start_time": "2021-09-05T11:52:48.623Z"
   },
   {
    "duration": 980,
    "start_time": "2021-09-05T11:53:11.253Z"
   },
   {
    "duration": 232,
    "start_time": "2021-09-05T11:53:12.236Z"
   },
   {
    "duration": 149,
    "start_time": "2021-09-05T11:53:12.472Z"
   },
   {
    "duration": 37,
    "start_time": "2021-09-05T11:53:12.623Z"
   },
   {
    "duration": 64,
    "start_time": "2021-09-05T11:53:12.662Z"
   },
   {
    "duration": 120,
    "start_time": "2021-09-05T11:53:12.729Z"
   },
   {
    "duration": 351,
    "start_time": "2021-09-05T11:56:21.485Z"
   },
   {
    "duration": 560,
    "start_time": "2021-09-05T11:57:05.538Z"
   },
   {
    "duration": 593,
    "start_time": "2021-09-05T11:57:21.681Z"
   },
   {
    "duration": 1246,
    "start_time": "2021-09-05T11:57:35.043Z"
   },
   {
    "duration": 230,
    "start_time": "2021-09-05T11:57:36.293Z"
   },
   {
    "duration": 173,
    "start_time": "2021-09-05T11:57:36.526Z"
   },
   {
    "duration": 55,
    "start_time": "2021-09-05T11:57:36.701Z"
   },
   {
    "duration": 55,
    "start_time": "2021-09-05T11:57:36.758Z"
   },
   {
    "duration": 622,
    "start_time": "2021-09-05T11:57:36.815Z"
   },
   {
    "duration": 713,
    "start_time": "2021-09-05T11:57:45.376Z"
   },
   {
    "duration": 1048,
    "start_time": "2021-09-05T11:57:59.933Z"
   },
   {
    "duration": 240,
    "start_time": "2021-09-05T11:58:00.984Z"
   },
   {
    "duration": 173,
    "start_time": "2021-09-05T11:58:01.227Z"
   },
   {
    "duration": 37,
    "start_time": "2021-09-05T11:58:01.402Z"
   },
   {
    "duration": 55,
    "start_time": "2021-09-05T11:58:01.454Z"
   },
   {
    "duration": 636,
    "start_time": "2021-09-05T11:58:01.511Z"
   },
   {
    "duration": 318,
    "start_time": "2021-09-05T12:00:53.810Z"
   },
   {
    "duration": 525,
    "start_time": "2021-09-05T12:01:11.375Z"
   },
   {
    "duration": 1046,
    "start_time": "2021-09-05T12:01:28.114Z"
   },
   {
    "duration": 238,
    "start_time": "2021-09-05T12:01:29.163Z"
   },
   {
    "duration": 167,
    "start_time": "2021-09-05T12:01:29.404Z"
   },
   {
    "duration": 37,
    "start_time": "2021-09-05T12:01:29.574Z"
   },
   {
    "duration": 58,
    "start_time": "2021-09-05T12:01:29.614Z"
   },
   {
    "duration": 541,
    "start_time": "2021-09-05T12:01:29.674Z"
   },
   {
    "duration": 292,
    "start_time": "2021-09-05T12:01:50.548Z"
   },
   {
    "duration": 1544,
    "start_time": "2021-09-05T12:02:04.459Z"
   },
   {
    "duration": 1038,
    "start_time": "2021-09-05T12:02:24.959Z"
   },
   {
    "duration": 253,
    "start_time": "2021-09-05T12:02:26.001Z"
   },
   {
    "duration": 161,
    "start_time": "2021-09-05T12:02:26.258Z"
   },
   {
    "duration": 54,
    "start_time": "2021-09-05T12:02:26.422Z"
   },
   {
    "duration": 57,
    "start_time": "2021-09-05T12:02:26.480Z"
   },
   {
    "duration": 387,
    "start_time": "2021-09-05T12:02:26.539Z"
   },
   {
    "duration": 1366,
    "start_time": "2021-09-05T12:02:35.951Z"
   },
   {
    "duration": 1385,
    "start_time": "2021-09-05T12:02:49.642Z"
   },
   {
    "duration": 352,
    "start_time": "2021-09-05T12:02:51.031Z"
   },
   {
    "duration": 243,
    "start_time": "2021-09-05T12:02:51.388Z"
   },
   {
    "duration": 47,
    "start_time": "2021-09-05T12:02:51.634Z"
   },
   {
    "duration": 54,
    "start_time": "2021-09-05T12:02:51.684Z"
   },
   {
    "duration": 365,
    "start_time": "2021-09-05T12:02:51.740Z"
   },
   {
    "duration": 1837,
    "start_time": "2021-09-05T12:04:02.885Z"
   },
   {
    "duration": 1113,
    "start_time": "2021-09-05T12:04:08.432Z"
   },
   {
    "duration": 232,
    "start_time": "2021-09-05T12:04:09.555Z"
   },
   {
    "duration": 170,
    "start_time": "2021-09-05T12:04:09.790Z"
   },
   {
    "duration": 36,
    "start_time": "2021-09-05T12:04:09.963Z"
   },
   {
    "duration": 59,
    "start_time": "2021-09-05T12:04:10.002Z"
   },
   {
    "duration": 1429,
    "start_time": "2021-09-05T12:04:10.063Z"
   },
   {
    "duration": 65,
    "start_time": "2021-09-05T12:05:19.859Z"
   },
   {
    "duration": 1043,
    "start_time": "2021-09-05T12:05:25.894Z"
   },
   {
    "duration": 245,
    "start_time": "2021-09-05T12:05:26.940Z"
   },
   {
    "duration": 172,
    "start_time": "2021-09-05T12:05:27.188Z"
   },
   {
    "duration": 37,
    "start_time": "2021-09-05T12:05:27.362Z"
   },
   {
    "duration": 72,
    "start_time": "2021-09-05T12:05:27.401Z"
   },
   {
    "duration": 356,
    "start_time": "2021-09-05T12:05:27.475Z"
   },
   {
    "duration": 63,
    "start_time": "2021-09-05T12:05:27.833Z"
   },
   {
    "duration": 423,
    "start_time": "2021-09-05T15:57:41.189Z"
   },
   {
    "duration": 1069,
    "start_time": "2021-09-05T15:57:56.664Z"
   },
   {
    "duration": 241,
    "start_time": "2021-09-05T15:57:57.736Z"
   },
   {
    "duration": 155,
    "start_time": "2021-09-05T15:57:57.980Z"
   },
   {
    "duration": 40,
    "start_time": "2021-09-05T15:57:58.138Z"
   },
   {
    "duration": 52,
    "start_time": "2021-09-05T15:57:58.180Z"
   },
   {
    "duration": 350,
    "start_time": "2021-09-05T15:57:58.235Z"
   },
   {
    "duration": 40,
    "start_time": "2021-09-05T15:57:58.588Z"
   },
   {
    "duration": 53,
    "start_time": "2021-09-05T15:57:58.631Z"
   },
   {
    "duration": 1063,
    "start_time": "2021-09-05T16:09:51.956Z"
   },
   {
    "duration": 235,
    "start_time": "2021-09-05T16:09:53.021Z"
   },
   {
    "duration": 158,
    "start_time": "2021-09-05T16:09:53.267Z"
   },
   {
    "duration": 47,
    "start_time": "2021-09-05T16:09:53.428Z"
   },
   {
    "duration": 51,
    "start_time": "2021-09-05T16:09:53.478Z"
   },
   {
    "duration": 361,
    "start_time": "2021-09-05T16:09:53.532Z"
   },
   {
    "duration": 42,
    "start_time": "2021-09-05T16:09:53.896Z"
   },
   {
    "duration": 57,
    "start_time": "2021-09-05T16:09:53.941Z"
   },
   {
    "duration": 443,
    "start_time": "2021-09-05T16:11:32.932Z"
   },
   {
    "duration": 93,
    "start_time": "2021-09-05T16:15:35.604Z"
   },
   {
    "duration": 97,
    "start_time": "2021-09-05T16:16:01.908Z"
   },
   {
    "duration": 100,
    "start_time": "2021-09-05T16:16:36.160Z"
   },
   {
    "duration": 348,
    "start_time": "2021-09-05T16:24:46.984Z"
   },
   {
    "duration": 91,
    "start_time": "2021-09-05T16:25:06.567Z"
   },
   {
    "duration": 2149,
    "start_time": "2021-09-05T16:30:59.716Z"
   },
   {
    "duration": 1834,
    "start_time": "2021-09-05T16:35:28.141Z"
   },
   {
    "duration": 181,
    "start_time": "2021-09-05T16:36:48.551Z"
   },
   {
    "duration": 143,
    "start_time": "2021-09-05T16:37:18.667Z"
   },
   {
    "duration": 1023,
    "start_time": "2021-09-05T16:37:27.726Z"
   },
   {
    "duration": 247,
    "start_time": "2021-09-05T16:37:28.752Z"
   },
   {
    "duration": 168,
    "start_time": "2021-09-05T16:37:29.002Z"
   },
   {
    "duration": 34,
    "start_time": "2021-09-05T16:37:29.173Z"
   },
   {
    "duration": 66,
    "start_time": "2021-09-05T16:37:29.209Z"
   },
   {
    "duration": 350,
    "start_time": "2021-09-05T16:37:29.277Z"
   },
   {
    "duration": 49,
    "start_time": "2021-09-05T16:37:29.629Z"
   },
   {
    "duration": 167,
    "start_time": "2021-09-05T16:37:29.681Z"
   },
   {
    "duration": 49,
    "start_time": "2021-09-05T16:37:29.851Z"
   },
   {
    "duration": 136,
    "start_time": "2021-09-05T16:38:16.209Z"
   },
   {
    "duration": 466,
    "start_time": "2021-09-05T16:41:22.241Z"
   },
   {
    "duration": 30,
    "start_time": "2021-09-05T16:43:08.251Z"
   },
   {
    "duration": 254,
    "start_time": "2021-09-05T16:43:58.360Z"
   },
   {
    "duration": 126,
    "start_time": "2021-09-05T16:45:50.408Z"
   },
   {
    "duration": 124,
    "start_time": "2021-09-05T16:47:18.600Z"
   },
   {
    "duration": 14,
    "start_time": "2021-09-05T16:51:37.156Z"
   },
   {
    "duration": 214,
    "start_time": "2021-09-05T16:52:58.236Z"
   },
   {
    "duration": 38,
    "start_time": "2021-09-05T16:54:21.544Z"
   },
   {
    "duration": 15,
    "start_time": "2021-09-05T16:54:33.641Z"
   },
   {
    "duration": 11,
    "start_time": "2021-09-05T16:55:20.947Z"
   },
   {
    "duration": 4,
    "start_time": "2021-09-05T16:56:01.231Z"
   },
   {
    "duration": 10,
    "start_time": "2021-09-05T16:56:15.255Z"
   },
   {
    "duration": 1327,
    "start_time": "2021-09-05T16:57:14.058Z"
   },
   {
    "duration": 28,
    "start_time": "2021-09-05T16:59:03.849Z"
   },
   {
    "duration": 10,
    "start_time": "2021-09-05T17:01:07.739Z"
   },
   {
    "duration": 23,
    "start_time": "2021-09-05T17:01:15.988Z"
   },
   {
    "duration": 375,
    "start_time": "2021-09-05T17:02:31.799Z"
   },
   {
    "duration": 307,
    "start_time": "2021-09-05T17:02:59.664Z"
   },
   {
    "duration": 359,
    "start_time": "2021-09-05T17:03:24.493Z"
   },
   {
    "duration": 8,
    "start_time": "2021-09-05T17:03:30.416Z"
   },
   {
    "duration": 9994,
    "start_time": "2021-09-05T17:03:38.391Z"
   },
   {
    "duration": 9626,
    "start_time": "2021-09-05T17:05:11.287Z"
   },
   {
    "duration": 1102,
    "start_time": "2021-09-05T17:05:31.848Z"
   },
   {
    "duration": 245,
    "start_time": "2021-09-05T17:05:32.954Z"
   },
   {
    "duration": 169,
    "start_time": "2021-09-05T17:05:33.202Z"
   },
   {
    "duration": 33,
    "start_time": "2021-09-05T17:05:33.374Z"
   },
   {
    "duration": 62,
    "start_time": "2021-09-05T17:05:33.409Z"
   },
   {
    "duration": 385,
    "start_time": "2021-09-05T17:05:33.476Z"
   },
   {
    "duration": 70,
    "start_time": "2021-09-05T17:05:33.864Z"
   },
   {
    "duration": 201,
    "start_time": "2021-09-05T17:05:33.938Z"
   },
   {
    "duration": 285,
    "start_time": "2021-09-05T17:05:34.143Z"
   },
   {
    "duration": 173,
    "start_time": "2021-09-05T17:05:34.430Z"
   },
   {
    "duration": 234,
    "start_time": "2021-09-05T17:05:34.606Z"
   },
   {
    "duration": 44,
    "start_time": "2021-09-05T17:05:34.843Z"
   },
   {
    "duration": 39,
    "start_time": "2021-09-05T17:05:34.890Z"
   },
   {
    "duration": 463,
    "start_time": "2021-09-05T17:05:58.871Z"
   },
   {
    "duration": 33,
    "start_time": "2021-09-05T17:06:54.924Z"
   },
   {
    "duration": 34,
    "start_time": "2021-09-05T17:07:16.220Z"
   },
   {
    "duration": 9387,
    "start_time": "2021-09-05T17:08:33.369Z"
   },
   {
    "duration": 5,
    "start_time": "2021-09-05T17:10:28.664Z"
   },
   {
    "duration": 1086,
    "start_time": "2021-09-05T17:10:55.634Z"
   },
   {
    "duration": 245,
    "start_time": "2021-09-05T17:10:56.722Z"
   },
   {
    "duration": 166,
    "start_time": "2021-09-05T17:10:56.974Z"
   },
   {
    "duration": 41,
    "start_time": "2021-09-05T17:10:57.143Z"
   },
   {
    "duration": 52,
    "start_time": "2021-09-05T17:10:57.186Z"
   },
   {
    "duration": 362,
    "start_time": "2021-09-05T17:10:57.240Z"
   },
   {
    "duration": 61,
    "start_time": "2021-09-05T17:10:57.606Z"
   },
   {
    "duration": 176,
    "start_time": "2021-09-05T17:10:57.670Z"
   },
   {
    "duration": 280,
    "start_time": "2021-09-05T17:10:57.849Z"
   },
   {
    "duration": 158,
    "start_time": "2021-09-05T17:10:58.132Z"
   },
   {
    "duration": 214,
    "start_time": "2021-09-05T17:10:58.293Z"
   },
   {
    "duration": 31,
    "start_time": "2021-09-05T17:10:58.510Z"
   },
   {
    "duration": 55,
    "start_time": "2021-09-05T17:10:58.544Z"
   },
   {
    "duration": 5,
    "start_time": "2021-09-05T17:10:58.602Z"
   },
   {
    "duration": 441,
    "start_time": "2021-09-05T17:10:58.610Z"
   },
   {
    "duration": 350,
    "start_time": "2021-09-05T17:11:46.324Z"
   },
   {
    "duration": 10,
    "start_time": "2021-09-05T17:13:34.436Z"
   },
   {
    "duration": 8,
    "start_time": "2021-09-05T17:14:06.954Z"
   },
   {
    "duration": 9,
    "start_time": "2021-09-05T17:14:23.305Z"
   },
   {
    "duration": 28,
    "start_time": "2021-09-05T17:15:39.970Z"
   },
   {
    "duration": 352,
    "start_time": "2021-09-05T17:17:22.103Z"
   },
   {
    "duration": 32,
    "start_time": "2021-09-05T17:19:18.524Z"
   },
   {
    "duration": 16,
    "start_time": "2021-09-05T17:19:41.675Z"
   },
   {
    "duration": 18,
    "start_time": "2021-09-05T17:20:01.593Z"
   },
   {
    "duration": 30,
    "start_time": "2021-09-05T17:20:36.341Z"
   },
   {
    "duration": 16,
    "start_time": "2021-09-05T17:30:45.991Z"
   },
   {
    "duration": 48,
    "start_time": "2021-09-05T17:31:46.527Z"
   },
   {
    "duration": 386,
    "start_time": "2021-09-05T17:35:40.046Z"
   },
   {
    "duration": 79,
    "start_time": "2021-09-05T17:35:50.112Z"
   },
   {
    "duration": 85,
    "start_time": "2021-09-05T17:37:11.766Z"
   },
   {
    "duration": 1776,
    "start_time": "2021-09-05T17:43:09.459Z"
   },
   {
    "duration": 444,
    "start_time": "2021-09-05T17:43:22.964Z"
   },
   {
    "duration": 47,
    "start_time": "2021-09-05T17:44:06.438Z"
   },
   {
    "duration": 58,
    "start_time": "2021-09-05T17:44:49.516Z"
   },
   {
    "duration": 16,
    "start_time": "2021-09-05T17:46:08.849Z"
   },
   {
    "duration": 70,
    "start_time": "2021-09-05T17:48:15.751Z"
   },
   {
    "duration": 71,
    "start_time": "2021-09-05T17:48:28.097Z"
   },
   {
    "duration": 363,
    "start_time": "2021-09-05T17:56:08.762Z"
   },
   {
    "duration": 861,
    "start_time": "2021-09-05T17:57:23.685Z"
   },
   {
    "duration": 24,
    "start_time": "2021-09-05T17:58:53.724Z"
   },
   {
    "duration": 11,
    "start_time": "2021-09-05T18:01:34.460Z"
   },
   {
    "duration": 27,
    "start_time": "2021-09-05T18:01:42.849Z"
   },
   {
    "duration": 29,
    "start_time": "2021-09-05T18:02:24.304Z"
   },
   {
    "duration": 361,
    "start_time": "2021-09-05T18:05:08.273Z"
   },
   {
    "duration": 38,
    "start_time": "2021-09-05T18:06:35.838Z"
   },
   {
    "duration": 333,
    "start_time": "2021-09-05T18:07:01.711Z"
   },
   {
    "duration": 1078,
    "start_time": "2021-09-05T18:07:14.828Z"
   },
   {
    "duration": 222,
    "start_time": "2021-09-05T18:07:15.909Z"
   },
   {
    "duration": 158,
    "start_time": "2021-09-05T18:07:16.134Z"
   },
   {
    "duration": 32,
    "start_time": "2021-09-05T18:07:16.295Z"
   },
   {
    "duration": 68,
    "start_time": "2021-09-05T18:07:16.329Z"
   },
   {
    "duration": 365,
    "start_time": "2021-09-05T18:07:16.400Z"
   },
   {
    "duration": 40,
    "start_time": "2021-09-05T18:07:16.767Z"
   },
   {
    "duration": 165,
    "start_time": "2021-09-05T18:07:16.811Z"
   },
   {
    "duration": 255,
    "start_time": "2021-09-05T18:07:16.979Z"
   },
   {
    "duration": 147,
    "start_time": "2021-09-05T18:07:17.236Z"
   },
   {
    "duration": 205,
    "start_time": "2021-09-05T18:07:17.385Z"
   },
   {
    "duration": 31,
    "start_time": "2021-09-05T18:07:17.592Z"
   },
   {
    "duration": 57,
    "start_time": "2021-09-05T18:07:17.626Z"
   },
   {
    "duration": 10,
    "start_time": "2021-09-05T18:07:17.686Z"
   },
   {
    "duration": 30,
    "start_time": "2021-09-05T18:07:17.699Z"
   },
   {
    "duration": 111,
    "start_time": "2021-09-05T18:07:17.731Z"
   },
   {
    "duration": 68,
    "start_time": "2021-09-05T18:07:17.844Z"
   },
   {
    "duration": 80,
    "start_time": "2021-09-05T18:07:17.914Z"
   },
   {
    "duration": 29,
    "start_time": "2021-09-05T18:07:17.997Z"
   },
   {
    "duration": 55,
    "start_time": "2021-09-05T18:07:18.029Z"
   },
   {
    "duration": 397,
    "start_time": "2021-09-05T18:07:18.087Z"
   },
   {
    "duration": 38,
    "start_time": "2021-09-05T18:07:48.746Z"
   },
   {
    "duration": 28,
    "start_time": "2021-09-05T18:08:38.838Z"
   },
   {
    "duration": 387,
    "start_time": "2021-09-05T18:09:41.490Z"
   },
   {
    "duration": 356,
    "start_time": "2021-09-05T18:09:55.452Z"
   },
   {
    "duration": 177,
    "start_time": "2021-09-05T18:11:45.860Z"
   },
   {
    "duration": 14,
    "start_time": "2021-09-05T18:11:57.639Z"
   },
   {
    "duration": 46,
    "start_time": "2021-09-05T18:12:12.322Z"
   },
   {
    "duration": 356,
    "start_time": "2021-09-05T18:17:52.557Z"
   },
   {
    "duration": 1051,
    "start_time": "2021-09-06T10:16:39.056Z"
   },
   {
    "duration": 206,
    "start_time": "2021-09-06T10:16:40.110Z"
   },
   {
    "duration": 147,
    "start_time": "2021-09-06T10:16:40.319Z"
   },
   {
    "duration": 37,
    "start_time": "2021-09-06T10:16:40.468Z"
   },
   {
    "duration": 57,
    "start_time": "2021-09-06T10:16:40.507Z"
   },
   {
    "duration": 326,
    "start_time": "2021-09-06T10:16:40.567Z"
   },
   {
    "duration": 38,
    "start_time": "2021-09-06T10:16:40.895Z"
   },
   {
    "duration": 167,
    "start_time": "2021-09-06T10:16:40.937Z"
   },
   {
    "duration": 249,
    "start_time": "2021-09-06T10:16:41.107Z"
   },
   {
    "duration": 147,
    "start_time": "2021-09-06T10:16:41.359Z"
   },
   {
    "duration": 202,
    "start_time": "2021-09-06T10:16:41.508Z"
   },
   {
    "duration": 38,
    "start_time": "2021-09-06T10:16:41.712Z"
   },
   {
    "duration": 41,
    "start_time": "2021-09-06T10:16:41.752Z"
   },
   {
    "duration": 9,
    "start_time": "2021-09-06T10:16:41.795Z"
   },
   {
    "duration": 30,
    "start_time": "2021-09-06T10:16:41.806Z"
   },
   {
    "duration": 117,
    "start_time": "2021-09-06T10:16:41.838Z"
   },
   {
    "duration": 63,
    "start_time": "2021-09-06T10:16:41.958Z"
   },
   {
    "duration": 80,
    "start_time": "2021-09-06T10:16:42.024Z"
   },
   {
    "duration": 25,
    "start_time": "2021-09-06T10:16:42.106Z"
   },
   {
    "duration": 48,
    "start_time": "2021-09-06T10:16:42.134Z"
   },
   {
    "duration": 42,
    "start_time": "2021-09-06T10:16:42.185Z"
   },
   {
    "duration": 471,
    "start_time": "2021-09-06T10:16:42.229Z"
   },
   {
    "duration": 11,
    "start_time": "2021-09-06T10:18:59.735Z"
   },
   {
    "duration": 31,
    "start_time": "2021-09-06T10:19:18.376Z"
   },
   {
    "duration": 8,
    "start_time": "2021-09-06T10:19:47.625Z"
   },
   {
    "duration": 25,
    "start_time": "2021-09-06T10:20:01.424Z"
   },
   {
    "duration": 39,
    "start_time": "2021-09-06T10:20:19.502Z"
   },
   {
    "duration": 40,
    "start_time": "2021-09-06T10:22:36.865Z"
   },
   {
    "duration": 367,
    "start_time": "2021-09-06T10:23:16.738Z"
   },
   {
    "duration": 7,
    "start_time": "2021-09-06T10:24:16.253Z"
   },
   {
    "duration": 9957,
    "start_time": "2021-09-06T10:29:10.287Z"
   },
   {
    "duration": 9196,
    "start_time": "2021-09-06T10:30:51.019Z"
   },
   {
    "duration": 123,
    "start_time": "2021-09-06T10:32:31.724Z"
   },
   {
    "duration": 154,
    "start_time": "2021-09-06T10:35:16.397Z"
   },
   {
    "duration": 345,
    "start_time": "2021-09-06T10:35:59.214Z"
   },
   {
    "duration": 10,
    "start_time": "2021-09-06T10:36:14.493Z"
   },
   {
    "duration": 9,
    "start_time": "2021-09-06T10:36:56.046Z"
   },
   {
    "duration": 9,
    "start_time": "2021-09-06T10:37:03.825Z"
   },
   {
    "duration": 11,
    "start_time": "2021-09-06T10:41:39.770Z"
   },
   {
    "duration": 10,
    "start_time": "2021-09-06T10:41:53.171Z"
   },
   {
    "duration": 10,
    "start_time": "2021-09-06T10:42:04.478Z"
   },
   {
    "duration": 34,
    "start_time": "2021-09-06T10:44:17.472Z"
   },
   {
    "duration": 15,
    "start_time": "2021-09-06T10:44:29.511Z"
   },
   {
    "duration": 12,
    "start_time": "2021-09-06T10:47:42.072Z"
   },
   {
    "duration": 46,
    "start_time": "2021-09-06T10:47:59.289Z"
   },
   {
    "duration": 30,
    "start_time": "2021-09-06T10:48:15.298Z"
   },
   {
    "duration": 50,
    "start_time": "2021-09-06T10:48:26.072Z"
   },
   {
    "duration": 19,
    "start_time": "2021-09-06T10:49:16.860Z"
   },
   {
    "duration": 45,
    "start_time": "2021-09-06T10:49:26.878Z"
   },
   {
    "duration": 369,
    "start_time": "2021-09-06T10:50:32.208Z"
   },
   {
    "duration": 999,
    "start_time": "2021-09-06T10:50:59.308Z"
   },
   {
    "duration": 216,
    "start_time": "2021-09-06T10:51:00.310Z"
   },
   {
    "duration": 159,
    "start_time": "2021-09-06T10:51:00.529Z"
   },
   {
    "duration": 36,
    "start_time": "2021-09-06T10:51:00.690Z"
   },
   {
    "duration": 55,
    "start_time": "2021-09-06T10:51:00.729Z"
   },
   {
    "duration": 358,
    "start_time": "2021-09-06T10:51:00.786Z"
   },
   {
    "duration": 46,
    "start_time": "2021-09-06T10:51:01.147Z"
   },
   {
    "duration": 157,
    "start_time": "2021-09-06T10:51:01.197Z"
   },
   {
    "duration": 259,
    "start_time": "2021-09-06T10:51:01.357Z"
   },
   {
    "duration": 232,
    "start_time": "2021-09-06T10:51:01.619Z"
   },
   {
    "duration": 214,
    "start_time": "2021-09-06T10:51:01.853Z"
   },
   {
    "duration": 45,
    "start_time": "2021-09-06T10:51:02.069Z"
   },
   {
    "duration": 25,
    "start_time": "2021-09-06T10:51:02.117Z"
   },
   {
    "duration": 18,
    "start_time": "2021-09-06T10:51:02.144Z"
   },
   {
    "duration": 30,
    "start_time": "2021-09-06T10:51:02.164Z"
   },
   {
    "duration": 31,
    "start_time": "2021-09-06T10:51:02.196Z"
   },
   {
    "duration": 16,
    "start_time": "2021-09-06T10:51:02.230Z"
   },
   {
    "duration": 93,
    "start_time": "2021-09-06T10:51:02.248Z"
   },
   {
    "duration": 59,
    "start_time": "2021-09-06T10:51:02.343Z"
   },
   {
    "duration": 62,
    "start_time": "2021-09-06T10:51:02.404Z"
   },
   {
    "duration": 25,
    "start_time": "2021-09-06T10:51:02.483Z"
   },
   {
    "duration": 23,
    "start_time": "2021-09-06T10:51:02.511Z"
   },
   {
    "duration": 69,
    "start_time": "2021-09-06T10:51:02.538Z"
   },
   {
    "duration": 424,
    "start_time": "2021-09-06T10:51:02.609Z"
   },
   {
    "duration": 19,
    "start_time": "2021-09-06T10:51:35.164Z"
   },
   {
    "duration": 20,
    "start_time": "2021-09-06T10:52:32.619Z"
   },
   {
    "duration": 351,
    "start_time": "2021-09-06T10:52:38.056Z"
   },
   {
    "duration": 47,
    "start_time": "2021-09-06T10:53:31.739Z"
   },
   {
    "duration": 112,
    "start_time": "2021-09-06T10:57:54.728Z"
   },
   {
    "duration": 1039,
    "start_time": "2021-09-06T10:58:01.774Z"
   },
   {
    "duration": 225,
    "start_time": "2021-09-06T10:58:02.815Z"
   },
   {
    "duration": 160,
    "start_time": "2021-09-06T10:58:03.043Z"
   },
   {
    "duration": 36,
    "start_time": "2021-09-06T10:58:03.205Z"
   },
   {
    "duration": 57,
    "start_time": "2021-09-06T10:58:03.243Z"
   },
   {
    "duration": 351,
    "start_time": "2021-09-06T10:58:03.303Z"
   },
   {
    "duration": 49,
    "start_time": "2021-09-06T10:58:03.656Z"
   },
   {
    "duration": 163,
    "start_time": "2021-09-06T10:58:03.710Z"
   },
   {
    "duration": 243,
    "start_time": "2021-09-06T10:58:03.881Z"
   },
   {
    "duration": 148,
    "start_time": "2021-09-06T10:58:04.127Z"
   },
   {
    "duration": 218,
    "start_time": "2021-09-06T10:58:04.282Z"
   },
   {
    "duration": 32,
    "start_time": "2021-09-06T10:58:04.503Z"
   },
   {
    "duration": 47,
    "start_time": "2021-09-06T10:58:04.538Z"
   },
   {
    "duration": 11,
    "start_time": "2021-09-06T10:58:04.588Z"
   },
   {
    "duration": 13,
    "start_time": "2021-09-06T10:58:04.602Z"
   },
   {
    "duration": 25,
    "start_time": "2021-09-06T10:58:04.618Z"
   },
   {
    "duration": 40,
    "start_time": "2021-09-06T10:58:04.645Z"
   },
   {
    "duration": 103,
    "start_time": "2021-09-06T10:58:04.688Z"
   },
   {
    "duration": 92,
    "start_time": "2021-09-06T10:58:04.793Z"
   },
   {
    "duration": 97,
    "start_time": "2021-09-06T10:58:04.889Z"
   },
   {
    "duration": 26,
    "start_time": "2021-09-06T10:58:04.988Z"
   },
   {
    "duration": 23,
    "start_time": "2021-09-06T10:58:05.016Z"
   },
   {
    "duration": 52,
    "start_time": "2021-09-06T10:58:05.043Z"
   },
   {
    "duration": 48,
    "start_time": "2021-09-06T10:58:05.098Z"
   },
   {
    "duration": 560,
    "start_time": "2021-09-06T11:00:10.962Z"
   },
   {
    "duration": 361,
    "start_time": "2021-09-06T11:01:31.921Z"
   },
   {
    "duration": 1087,
    "start_time": "2021-09-06T11:01:44.248Z"
   },
   {
    "duration": 219,
    "start_time": "2021-09-06T11:01:45.337Z"
   },
   {
    "duration": 153,
    "start_time": "2021-09-06T11:01:45.559Z"
   },
   {
    "duration": 36,
    "start_time": "2021-09-06T11:01:45.715Z"
   },
   {
    "duration": 62,
    "start_time": "2021-09-06T11:01:45.753Z"
   },
   {
    "duration": 314,
    "start_time": "2021-09-06T11:01:45.818Z"
   },
   {
    "duration": 39,
    "start_time": "2021-09-06T11:01:46.134Z"
   },
   {
    "duration": 210,
    "start_time": "2021-09-06T11:01:46.177Z"
   },
   {
    "duration": 350,
    "start_time": "2021-09-06T11:01:46.390Z"
   },
   {
    "duration": 161,
    "start_time": "2021-09-06T11:01:46.743Z"
   },
   {
    "duration": 201,
    "start_time": "2021-09-06T11:01:46.906Z"
   },
   {
    "duration": 29,
    "start_time": "2021-09-06T11:01:47.110Z"
   },
   {
    "duration": 44,
    "start_time": "2021-09-06T11:01:47.142Z"
   },
   {
    "duration": 12,
    "start_time": "2021-09-06T11:01:47.188Z"
   },
   {
    "duration": 10,
    "start_time": "2021-09-06T11:01:47.202Z"
   },
   {
    "duration": 24,
    "start_time": "2021-09-06T11:01:47.214Z"
   },
   {
    "duration": 43,
    "start_time": "2021-09-06T11:01:47.242Z"
   },
   {
    "duration": 84,
    "start_time": "2021-09-06T11:01:47.287Z"
   },
   {
    "duration": 57,
    "start_time": "2021-09-06T11:01:47.383Z"
   },
   {
    "duration": 86,
    "start_time": "2021-09-06T11:01:47.443Z"
   },
   {
    "duration": 29,
    "start_time": "2021-09-06T11:01:47.532Z"
   },
   {
    "duration": 42,
    "start_time": "2021-09-06T11:01:47.563Z"
   },
   {
    "duration": 473,
    "start_time": "2021-09-06T11:01:47.609Z"
   },
   {
    "duration": -303,
    "start_time": "2021-09-06T11:01:48.388Z"
   },
   {
    "duration": 22,
    "start_time": "2021-09-06T11:03:18.987Z"
   },
   {
    "duration": 43,
    "start_time": "2021-09-06T11:03:31.806Z"
   },
   {
    "duration": 9228,
    "start_time": "2021-09-06T11:13:25.435Z"
   },
   {
    "duration": 14577,
    "start_time": "2021-09-06T11:14:05.122Z"
   },
   {
    "duration": 1053,
    "start_time": "2021-09-06T11:14:34.973Z"
   },
   {
    "duration": 222,
    "start_time": "2021-09-06T11:14:36.028Z"
   },
   {
    "duration": 157,
    "start_time": "2021-09-06T11:14:36.253Z"
   },
   {
    "duration": 40,
    "start_time": "2021-09-06T11:14:36.413Z"
   },
   {
    "duration": 57,
    "start_time": "2021-09-06T11:14:36.456Z"
   },
   {
    "duration": 320,
    "start_time": "2021-09-06T11:14:36.516Z"
   },
   {
    "duration": 49,
    "start_time": "2021-09-06T11:14:36.839Z"
   },
   {
    "duration": 164,
    "start_time": "2021-09-06T11:14:36.892Z"
   },
   {
    "duration": 241,
    "start_time": "2021-09-06T11:14:37.059Z"
   },
   {
    "duration": 134,
    "start_time": "2021-09-06T11:14:37.303Z"
   },
   {
    "duration": 201,
    "start_time": "2021-09-06T11:14:37.439Z"
   },
   {
    "duration": 29,
    "start_time": "2021-09-06T11:14:37.643Z"
   },
   {
    "duration": 22,
    "start_time": "2021-09-06T11:14:37.683Z"
   },
   {
    "duration": 11,
    "start_time": "2021-09-06T11:14:37.708Z"
   },
   {
    "duration": 8,
    "start_time": "2021-09-06T11:14:37.723Z"
   },
   {
    "duration": 63,
    "start_time": "2021-09-06T11:14:37.734Z"
   },
   {
    "duration": 13,
    "start_time": "2021-09-06T11:14:37.800Z"
   },
   {
    "duration": 114,
    "start_time": "2021-09-06T11:14:37.815Z"
   },
   {
    "duration": 70,
    "start_time": "2021-09-06T11:14:37.931Z"
   },
   {
    "duration": 64,
    "start_time": "2021-09-06T11:14:38.004Z"
   },
   {
    "duration": 26,
    "start_time": "2021-09-06T11:14:38.082Z"
   },
   {
    "duration": 23,
    "start_time": "2021-09-06T11:14:38.110Z"
   },
   {
    "duration": 50,
    "start_time": "2021-09-06T11:14:38.137Z"
   },
   {
    "duration": 47,
    "start_time": "2021-09-06T11:14:38.190Z"
   },
   {
    "duration": 4,
    "start_time": "2021-09-06T11:14:38.240Z"
   },
   {
    "duration": 1233,
    "start_time": "2021-09-06T11:15:46.918Z"
   },
   {
    "duration": 314,
    "start_time": "2021-09-06T11:15:48.155Z"
   },
   {
    "duration": 204,
    "start_time": "2021-09-06T11:15:48.484Z"
   },
   {
    "duration": 42,
    "start_time": "2021-09-06T11:15:48.691Z"
   },
   {
    "duration": 65,
    "start_time": "2021-09-06T11:15:48.736Z"
   },
   {
    "duration": 618,
    "start_time": "2021-09-06T11:15:48.804Z"
   },
   {
    "duration": 70,
    "start_time": "2021-09-06T11:15:49.425Z"
   },
   {
    "duration": 284,
    "start_time": "2021-09-06T11:15:49.500Z"
   },
   {
    "duration": 468,
    "start_time": "2021-09-06T11:15:49.788Z"
   },
   {
    "duration": 258,
    "start_time": "2021-09-06T11:15:50.259Z"
   },
   {
    "duration": 384,
    "start_time": "2021-09-06T11:15:50.520Z"
   },
   {
    "duration": 43,
    "start_time": "2021-09-06T11:15:50.907Z"
   },
   {
    "duration": 49,
    "start_time": "2021-09-06T11:15:50.952Z"
   },
   {
    "duration": 14,
    "start_time": "2021-09-06T11:15:51.005Z"
   },
   {
    "duration": 10,
    "start_time": "2021-09-06T11:15:51.022Z"
   },
   {
    "duration": 52,
    "start_time": "2021-09-06T11:15:51.035Z"
   },
   {
    "duration": 19,
    "start_time": "2021-09-06T11:15:51.090Z"
   },
   {
    "duration": 101,
    "start_time": "2021-09-06T11:15:51.112Z"
   },
   {
    "duration": 74,
    "start_time": "2021-09-06T11:15:51.215Z"
   },
   {
    "duration": 67,
    "start_time": "2021-09-06T11:15:51.292Z"
   },
   {
    "duration": 43,
    "start_time": "2021-09-06T11:15:51.362Z"
   },
   {
    "duration": 23,
    "start_time": "2021-09-06T11:15:51.407Z"
   },
   {
    "duration": 51,
    "start_time": "2021-09-06T11:15:51.434Z"
   },
   {
    "duration": 50,
    "start_time": "2021-09-06T11:15:51.488Z"
   },
   {
    "duration": 4,
    "start_time": "2021-09-06T11:15:51.541Z"
   },
   {
    "duration": 47,
    "start_time": "2021-09-06T11:17:17.675Z"
   },
   {
    "duration": 523,
    "start_time": "2021-09-06T11:30:19.786Z"
   },
   {
    "duration": 669,
    "start_time": "2021-09-06T11:30:39.227Z"
   },
   {
    "duration": 757,
    "start_time": "2021-09-06T11:32:46.997Z"
   },
   {
    "duration": 750,
    "start_time": "2021-09-06T11:34:02.196Z"
   },
   {
    "duration": 36,
    "start_time": "2021-09-06T11:34:18.834Z"
   },
   {
    "duration": 391,
    "start_time": "2021-09-06T12:04:52.438Z"
   },
   {
    "duration": 5,
    "start_time": "2021-09-06T12:05:02.385Z"
   },
   {
    "duration": 460,
    "start_time": "2021-09-06T12:05:05.584Z"
   },
   {
    "duration": 5,
    "start_time": "2021-09-06T12:05:44.893Z"
   },
   {
    "duration": 342,
    "start_time": "2021-09-06T12:05:47.697Z"
   },
   {
    "duration": 273,
    "start_time": "2021-09-06T12:06:30.553Z"
   },
   {
    "duration": 397,
    "start_time": "2021-09-06T12:08:06.020Z"
   },
   {
    "duration": 293,
    "start_time": "2021-09-06T12:09:57.112Z"
   },
   {
    "duration": 320,
    "start_time": "2021-09-06T12:11:03.770Z"
   },
   {
    "duration": 286,
    "start_time": "2021-09-06T12:12:45.546Z"
   },
   {
    "duration": 537,
    "start_time": "2021-09-06T12:35:16.018Z"
   },
   {
    "duration": 264,
    "start_time": "2021-09-06T12:41:43.028Z"
   },
   {
    "duration": 421,
    "start_time": "2021-09-06T12:42:30.753Z"
   },
   {
    "duration": 47,
    "start_time": "2021-09-06T12:45:54.702Z"
   },
   {
    "duration": 30,
    "start_time": "2021-09-06T12:46:01.195Z"
   },
   {
    "duration": 26,
    "start_time": "2021-09-06T12:46:15.126Z"
   },
   {
    "duration": 10039,
    "start_time": "2021-09-06T12:48:52.940Z"
   },
   {
    "duration": 1006,
    "start_time": "2021-09-06T12:50:04.604Z"
   },
   {
    "duration": 224,
    "start_time": "2021-09-06T12:50:05.612Z"
   },
   {
    "duration": 156,
    "start_time": "2021-09-06T12:50:05.839Z"
   },
   {
    "duration": 37,
    "start_time": "2021-09-06T12:50:05.997Z"
   },
   {
    "duration": 56,
    "start_time": "2021-09-06T12:50:06.036Z"
   },
   {
    "duration": 332,
    "start_time": "2021-09-06T12:50:06.094Z"
   },
   {
    "duration": 39,
    "start_time": "2021-09-06T12:50:06.428Z"
   },
   {
    "duration": 173,
    "start_time": "2021-09-06T12:50:06.470Z"
   },
   {
    "duration": 245,
    "start_time": "2021-09-06T12:50:06.646Z"
   },
   {
    "duration": 148,
    "start_time": "2021-09-06T12:50:06.893Z"
   },
   {
    "duration": 205,
    "start_time": "2021-09-06T12:50:07.043Z"
   },
   {
    "duration": 42,
    "start_time": "2021-09-06T12:50:07.250Z"
   },
   {
    "duration": 22,
    "start_time": "2021-09-06T12:50:07.295Z"
   },
   {
    "duration": 19,
    "start_time": "2021-09-06T12:50:07.320Z"
   },
   {
    "duration": 7,
    "start_time": "2021-09-06T12:50:07.341Z"
   },
   {
    "duration": 47,
    "start_time": "2021-09-06T12:50:07.350Z"
   },
   {
    "duration": 15,
    "start_time": "2021-09-06T12:50:07.399Z"
   },
   {
    "duration": 117,
    "start_time": "2021-09-06T12:50:07.416Z"
   },
   {
    "duration": 66,
    "start_time": "2021-09-06T12:50:07.535Z"
   },
   {
    "duration": 63,
    "start_time": "2021-09-06T12:50:07.603Z"
   },
   {
    "duration": 37,
    "start_time": "2021-09-06T12:50:07.669Z"
   },
   {
    "duration": 24,
    "start_time": "2021-09-06T12:50:07.708Z"
   },
   {
    "duration": 67,
    "start_time": "2021-09-06T12:50:07.736Z"
   },
   {
    "duration": 25,
    "start_time": "2021-09-06T12:50:07.806Z"
   },
   {
    "duration": 785,
    "start_time": "2021-09-06T12:50:07.833Z"
   },
   {
    "duration": 39,
    "start_time": "2021-09-06T12:50:08.620Z"
   },
   {
    "duration": 22,
    "start_time": "2021-09-06T12:50:08.661Z"
   },
   {
    "duration": 422,
    "start_time": "2021-09-06T12:50:08.685Z"
   },
   {
    "duration": 346,
    "start_time": "2021-09-06T12:50:09.109Z"
   },
   {
    "duration": 311,
    "start_time": "2021-09-06T12:50:09.458Z"
   },
   {
    "duration": 330,
    "start_time": "2021-09-06T12:50:09.772Z"
   },
   {
    "duration": 328,
    "start_time": "2021-09-06T12:50:10.105Z"
   },
   {
    "duration": 301,
    "start_time": "2021-09-06T12:50:10.436Z"
   },
   {
    "duration": 298,
    "start_time": "2021-09-06T12:50:10.740Z"
   },
   {
    "duration": 326,
    "start_time": "2021-09-06T12:50:11.040Z"
   },
   {
    "duration": 484,
    "start_time": "2021-09-06T12:50:11.369Z"
   },
   {
    "duration": 351,
    "start_time": "2021-09-06T12:50:11.856Z"
   },
   {
    "duration": 300,
    "start_time": "2021-09-06T12:51:11.966Z"
   },
   {
    "duration": 12,
    "start_time": "2021-09-06T12:54:37.058Z"
   },
   {
    "duration": 11,
    "start_time": "2021-09-06T12:56:42.142Z"
   },
   {
    "duration": 13,
    "start_time": "2021-09-06T13:19:29.282Z"
   },
   {
    "duration": 1114,
    "start_time": "2021-09-06T14:56:22.879Z"
   },
   {
    "duration": 230,
    "start_time": "2021-09-06T14:56:23.996Z"
   },
   {
    "duration": 163,
    "start_time": "2021-09-06T14:56:24.229Z"
   },
   {
    "duration": 32,
    "start_time": "2021-09-06T14:56:24.395Z"
   },
   {
    "duration": 48,
    "start_time": "2021-09-06T14:56:24.430Z"
   },
   {
    "duration": 355,
    "start_time": "2021-09-06T14:56:24.482Z"
   },
   {
    "duration": 48,
    "start_time": "2021-09-06T14:56:24.839Z"
   },
   {
    "duration": 173,
    "start_time": "2021-09-06T14:56:24.892Z"
   },
   {
    "duration": 263,
    "start_time": "2021-09-06T14:56:25.068Z"
   },
   {
    "duration": 150,
    "start_time": "2021-09-06T14:56:25.333Z"
   },
   {
    "duration": 228,
    "start_time": "2021-09-06T14:56:25.486Z"
   },
   {
    "duration": 28,
    "start_time": "2021-09-06T14:56:25.716Z"
   },
   {
    "duration": 45,
    "start_time": "2021-09-06T14:56:25.746Z"
   },
   {
    "duration": 15,
    "start_time": "2021-09-06T14:56:25.795Z"
   },
   {
    "duration": 8,
    "start_time": "2021-09-06T14:56:25.813Z"
   },
   {
    "duration": 22,
    "start_time": "2021-09-06T14:56:25.824Z"
   },
   {
    "duration": 49,
    "start_time": "2021-09-06T14:56:25.849Z"
   },
   {
    "duration": 117,
    "start_time": "2021-09-06T14:56:25.900Z"
   },
   {
    "duration": 72,
    "start_time": "2021-09-06T14:56:26.019Z"
   },
   {
    "duration": 65,
    "start_time": "2021-09-06T14:56:26.093Z"
   },
   {
    "duration": 45,
    "start_time": "2021-09-06T14:56:26.160Z"
   },
   {
    "duration": 24,
    "start_time": "2021-09-06T14:56:26.207Z"
   },
   {
    "duration": 51,
    "start_time": "2021-09-06T14:56:26.235Z"
   },
   {
    "duration": 26,
    "start_time": "2021-09-06T14:56:26.290Z"
   },
   {
    "duration": 12,
    "start_time": "2021-09-06T14:56:26.319Z"
   },
   {
    "duration": 812,
    "start_time": "2021-09-06T14:56:26.334Z"
   },
   {
    "duration": 55,
    "start_time": "2021-09-06T14:56:27.148Z"
   },
   {
    "duration": 5,
    "start_time": "2021-09-06T14:56:27.205Z"
   },
   {
    "duration": 440,
    "start_time": "2021-09-06T14:56:27.212Z"
   },
   {
    "duration": 414,
    "start_time": "2021-09-06T14:56:27.654Z"
   },
   {
    "duration": 321,
    "start_time": "2021-09-06T14:56:28.072Z"
   },
   {
    "duration": 329,
    "start_time": "2021-09-06T14:56:28.395Z"
   },
   {
    "duration": 333,
    "start_time": "2021-09-06T14:56:28.727Z"
   },
   {
    "duration": 300,
    "start_time": "2021-09-06T14:56:29.062Z"
   },
   {
    "duration": 296,
    "start_time": "2021-09-06T14:56:29.365Z"
   },
   {
    "duration": 333,
    "start_time": "2021-09-06T14:56:29.663Z"
   },
   {
    "duration": 518,
    "start_time": "2021-09-06T14:56:29.998Z"
   },
   {
    "duration": 349,
    "start_time": "2021-09-06T14:56:30.518Z"
   },
   {
    "duration": 351,
    "start_time": "2021-09-06T14:56:30.870Z"
   },
   {
    "duration": 12,
    "start_time": "2021-09-06T14:56:31.224Z"
   },
   {
    "duration": 1165,
    "start_time": "2021-09-06T17:04:35.503Z"
   },
   {
    "duration": 226,
    "start_time": "2021-09-06T17:04:36.671Z"
   },
   {
    "duration": 203,
    "start_time": "2021-09-06T17:04:36.900Z"
   },
   {
    "duration": 34,
    "start_time": "2021-09-06T17:04:37.105Z"
   },
   {
    "duration": 84,
    "start_time": "2021-09-06T17:04:37.141Z"
   },
   {
    "duration": 378,
    "start_time": "2021-09-06T17:04:37.228Z"
   },
   {
    "duration": 41,
    "start_time": "2021-09-06T17:04:37.609Z"
   },
   {
    "duration": 173,
    "start_time": "2021-09-06T17:04:37.654Z"
   },
   {
    "duration": 258,
    "start_time": "2021-09-06T17:04:37.830Z"
   },
   {
    "duration": 148,
    "start_time": "2021-09-06T17:04:38.090Z"
   },
   {
    "duration": 217,
    "start_time": "2021-09-06T17:04:38.240Z"
   },
   {
    "duration": 29,
    "start_time": "2021-09-06T17:04:38.460Z"
   },
   {
    "duration": 38,
    "start_time": "2021-09-06T17:04:38.492Z"
   },
   {
    "duration": 9,
    "start_time": "2021-09-06T17:04:38.533Z"
   },
   {
    "duration": 14,
    "start_time": "2021-09-06T17:04:38.544Z"
   },
   {
    "duration": 24,
    "start_time": "2021-09-06T17:04:38.560Z"
   },
   {
    "duration": 40,
    "start_time": "2021-09-06T17:04:38.587Z"
   },
   {
    "duration": 110,
    "start_time": "2021-09-06T17:04:38.630Z"
   },
   {
    "duration": 76,
    "start_time": "2021-09-06T17:04:38.742Z"
   },
   {
    "duration": 66,
    "start_time": "2021-09-06T17:04:38.820Z"
   },
   {
    "duration": 47,
    "start_time": "2021-09-06T17:04:38.889Z"
   },
   {
    "duration": 24,
    "start_time": "2021-09-06T17:04:38.939Z"
   },
   {
    "duration": 23,
    "start_time": "2021-09-06T17:04:38.967Z"
   },
   {
    "duration": 45,
    "start_time": "2021-09-06T17:04:38.992Z"
   },
   {
    "duration": 16,
    "start_time": "2021-09-06T17:04:39.039Z"
   },
   {
    "duration": 800,
    "start_time": "2021-09-06T17:04:39.057Z"
   },
   {
    "duration": 41,
    "start_time": "2021-09-06T17:04:39.860Z"
   },
   {
    "duration": 4,
    "start_time": "2021-09-06T17:04:39.917Z"
   },
   {
    "duration": 445,
    "start_time": "2021-09-06T17:04:39.923Z"
   },
   {
    "duration": 350,
    "start_time": "2021-09-06T17:04:40.370Z"
   },
   {
    "duration": 316,
    "start_time": "2021-09-06T17:04:40.723Z"
   },
   {
    "duration": 329,
    "start_time": "2021-09-06T17:04:41.041Z"
   },
   {
    "duration": 318,
    "start_time": "2021-09-06T17:04:41.373Z"
   },
   {
    "duration": 303,
    "start_time": "2021-09-06T17:04:41.693Z"
   },
   {
    "duration": 298,
    "start_time": "2021-09-06T17:04:41.998Z"
   },
   {
    "duration": 428,
    "start_time": "2021-09-06T17:04:42.298Z"
   },
   {
    "duration": 503,
    "start_time": "2021-09-06T17:04:42.729Z"
   },
   {
    "duration": 350,
    "start_time": "2021-09-06T17:04:43.234Z"
   },
   {
    "duration": 332,
    "start_time": "2021-09-06T17:04:43.587Z"
   },
   {
    "duration": 11,
    "start_time": "2021-09-06T17:04:43.921Z"
   },
   {
    "duration": 42,
    "start_time": "2021-09-06T17:35:17.272Z"
   },
   {
    "duration": 755,
    "start_time": "2021-09-07T13:16:00.374Z"
   },
   {
    "duration": 157,
    "start_time": "2021-09-07T13:16:01.131Z"
   },
   {
    "duration": 109,
    "start_time": "2021-09-07T13:16:01.290Z"
   },
   {
    "duration": 26,
    "start_time": "2021-09-07T13:16:01.401Z"
   },
   {
    "duration": 58,
    "start_time": "2021-09-07T13:16:01.429Z"
   },
   {
    "duration": 213,
    "start_time": "2021-09-07T13:16:01.489Z"
   },
   {
    "duration": 28,
    "start_time": "2021-09-07T13:16:01.703Z"
   },
   {
    "duration": 109,
    "start_time": "2021-09-07T13:16:01.734Z"
   },
   {
    "duration": 166,
    "start_time": "2021-09-07T13:16:01.846Z"
   },
   {
    "duration": 100,
    "start_time": "2021-09-07T13:16:02.014Z"
   },
   {
    "duration": 132,
    "start_time": "2021-09-07T13:16:02.115Z"
   },
   {
    "duration": 21,
    "start_time": "2021-09-07T13:16:02.248Z"
   },
   {
    "duration": 14,
    "start_time": "2021-09-07T13:16:02.271Z"
   },
   {
    "duration": 10,
    "start_time": "2021-09-07T13:16:02.287Z"
   },
   {
    "duration": 7,
    "start_time": "2021-09-07T13:16:02.299Z"
   },
   {
    "duration": 35,
    "start_time": "2021-09-07T13:16:02.308Z"
   },
   {
    "duration": 9,
    "start_time": "2021-09-07T13:16:02.345Z"
   },
   {
    "duration": 67,
    "start_time": "2021-09-07T13:16:02.356Z"
   },
   {
    "duration": 51,
    "start_time": "2021-09-07T13:16:02.424Z"
   },
   {
    "duration": 43,
    "start_time": "2021-09-07T13:16:02.477Z"
   },
   {
    "duration": 29,
    "start_time": "2021-09-07T13:16:02.522Z"
   },
   {
    "duration": 14,
    "start_time": "2021-09-07T13:16:02.553Z"
   },
   {
    "duration": 16,
    "start_time": "2021-09-07T13:16:02.570Z"
   },
   {
    "duration": 15,
    "start_time": "2021-09-07T13:16:02.588Z"
   },
   {
    "duration": 39,
    "start_time": "2021-09-07T13:16:02.605Z"
   },
   {
    "duration": 404,
    "start_time": "2021-09-07T13:16:02.646Z"
   },
   {
    "duration": 23,
    "start_time": "2021-09-07T13:16:03.051Z"
   },
   {
    "duration": 5,
    "start_time": "2021-09-07T13:16:03.075Z"
   },
   {
    "duration": 265,
    "start_time": "2021-09-07T13:16:03.081Z"
   },
   {
    "duration": 225,
    "start_time": "2021-09-07T13:16:03.348Z"
   },
   {
    "duration": 178,
    "start_time": "2021-09-07T13:16:03.575Z"
   },
   {
    "duration": 188,
    "start_time": "2021-09-07T13:16:03.754Z"
   },
   {
    "duration": 181,
    "start_time": "2021-09-07T13:16:03.944Z"
   },
   {
    "duration": 180,
    "start_time": "2021-09-07T13:16:04.127Z"
   },
   {
    "duration": 171,
    "start_time": "2021-09-07T13:16:04.309Z"
   },
   {
    "duration": 184,
    "start_time": "2021-09-07T13:16:04.482Z"
   },
   {
    "duration": 374,
    "start_time": "2021-09-07T13:16:04.667Z"
   },
   {
    "duration": 190,
    "start_time": "2021-09-07T13:16:05.043Z"
   },
   {
    "duration": 189,
    "start_time": "2021-09-07T13:16:05.235Z"
   },
   {
    "duration": 8,
    "start_time": "2021-09-07T13:16:05.425Z"
   },
   {
    "duration": 788,
    "start_time": "2021-09-07T13:52:47.299Z"
   },
   {
    "duration": 154,
    "start_time": "2021-09-07T13:52:48.089Z"
   },
   {
    "duration": 108,
    "start_time": "2021-09-07T13:52:48.244Z"
   },
   {
    "duration": 27,
    "start_time": "2021-09-07T13:52:48.354Z"
   },
   {
    "duration": 42,
    "start_time": "2021-09-07T13:52:48.383Z"
   },
   {
    "duration": 203,
    "start_time": "2021-09-07T13:52:48.426Z"
   },
   {
    "duration": 26,
    "start_time": "2021-09-07T13:52:48.630Z"
   },
   {
    "duration": 110,
    "start_time": "2021-09-07T13:52:48.659Z"
   },
   {
    "duration": 164,
    "start_time": "2021-09-07T13:52:48.771Z"
   },
   {
    "duration": 91,
    "start_time": "2021-09-07T13:52:48.937Z"
   },
   {
    "duration": 135,
    "start_time": "2021-09-07T13:52:49.029Z"
   },
   {
    "duration": 19,
    "start_time": "2021-09-07T13:52:49.166Z"
   },
   {
    "duration": 15,
    "start_time": "2021-09-07T13:52:49.187Z"
   },
   {
    "duration": 9,
    "start_time": "2021-09-07T13:52:49.204Z"
   },
   {
    "duration": 28,
    "start_time": "2021-09-07T13:52:49.215Z"
   },
   {
    "duration": 15,
    "start_time": "2021-09-07T13:52:49.245Z"
   },
   {
    "duration": 10,
    "start_time": "2021-09-07T13:52:49.262Z"
   },
   {
    "duration": 82,
    "start_time": "2021-09-07T13:52:49.274Z"
   },
   {
    "duration": 40,
    "start_time": "2021-09-07T13:52:49.358Z"
   },
   {
    "duration": 65,
    "start_time": "2021-09-07T13:52:49.400Z"
   },
   {
    "duration": 18,
    "start_time": "2021-09-07T13:52:49.467Z"
   },
   {
    "duration": 16,
    "start_time": "2021-09-07T13:52:49.487Z"
   },
   {
    "duration": 40,
    "start_time": "2021-09-07T13:52:49.507Z"
   },
   {
    "duration": 15,
    "start_time": "2021-09-07T13:52:49.550Z"
   },
   {
    "duration": 10,
    "start_time": "2021-09-07T13:52:49.567Z"
   },
   {
    "duration": 417,
    "start_time": "2021-09-07T13:52:49.578Z"
   },
   {
    "duration": 25,
    "start_time": "2021-09-07T13:52:49.996Z"
   },
   {
    "duration": 19,
    "start_time": "2021-09-07T13:52:50.023Z"
   },
   {
    "duration": 260,
    "start_time": "2021-09-07T13:52:50.044Z"
   },
   {
    "duration": 217,
    "start_time": "2021-09-07T13:52:50.305Z"
   },
   {
    "duration": 181,
    "start_time": "2021-09-07T13:52:50.523Z"
   },
   {
    "duration": 191,
    "start_time": "2021-09-07T13:52:50.705Z"
   },
   {
    "duration": 191,
    "start_time": "2021-09-07T13:52:50.897Z"
   },
   {
    "duration": 180,
    "start_time": "2021-09-07T13:52:51.090Z"
   },
   {
    "duration": 170,
    "start_time": "2021-09-07T13:52:51.272Z"
   },
   {
    "duration": 191,
    "start_time": "2021-09-07T13:52:51.444Z"
   },
   {
    "duration": 394,
    "start_time": "2021-09-07T13:52:51.640Z"
   },
   {
    "duration": 191,
    "start_time": "2021-09-07T13:52:52.036Z"
   },
   {
    "duration": 196,
    "start_time": "2021-09-07T13:52:52.229Z"
   },
   {
    "duration": 14,
    "start_time": "2021-09-07T13:52:52.427Z"
   },
   {
    "duration": 745,
    "start_time": "2021-09-07T14:10:31.368Z"
   },
   {
    "duration": 164,
    "start_time": "2021-09-07T14:10:32.115Z"
   },
   {
    "duration": 108,
    "start_time": "2021-09-07T14:10:32.281Z"
   },
   {
    "duration": 27,
    "start_time": "2021-09-07T14:10:32.391Z"
   },
   {
    "duration": 47,
    "start_time": "2021-09-07T14:10:32.420Z"
   },
   {
    "duration": 386,
    "start_time": "2021-09-07T14:10:32.470Z"
   },
   {
    "duration": 41,
    "start_time": "2021-09-07T14:10:32.858Z"
   },
   {
    "duration": 176,
    "start_time": "2021-09-07T14:10:32.902Z"
   },
   {
    "duration": 265,
    "start_time": "2021-09-07T14:10:33.081Z"
   },
   {
    "duration": 93,
    "start_time": "2021-09-07T14:10:33.348Z"
   },
   {
    "duration": 136,
    "start_time": "2021-09-07T14:10:33.442Z"
   },
   {
    "duration": 20,
    "start_time": "2021-09-07T14:10:33.580Z"
   },
   {
    "duration": 15,
    "start_time": "2021-09-07T14:10:33.601Z"
   },
   {
    "duration": 24,
    "start_time": "2021-09-07T14:10:33.618Z"
   },
   {
    "duration": 27,
    "start_time": "2021-09-07T14:10:33.645Z"
   },
   {
    "duration": 30,
    "start_time": "2021-09-07T14:10:33.674Z"
   },
   {
    "duration": 22,
    "start_time": "2021-09-07T14:10:33.706Z"
   },
   {
    "duration": 78,
    "start_time": "2021-09-07T14:10:33.729Z"
   },
   {
    "duration": 46,
    "start_time": "2021-09-07T14:10:33.808Z"
   },
   {
    "duration": 55,
    "start_time": "2021-09-07T14:10:33.856Z"
   },
   {
    "duration": 35,
    "start_time": "2021-09-07T14:10:33.913Z"
   },
   {
    "duration": 20,
    "start_time": "2021-09-07T14:10:33.949Z"
   },
   {
    "duration": 21,
    "start_time": "2021-09-07T14:10:33.972Z"
   },
   {
    "duration": 29,
    "start_time": "2021-09-07T14:10:33.995Z"
   },
   {
    "duration": 20,
    "start_time": "2021-09-07T14:10:34.026Z"
   },
   {
    "duration": 409,
    "start_time": "2021-09-07T14:10:34.048Z"
   },
   {
    "duration": 22,
    "start_time": "2021-09-07T14:10:34.459Z"
   },
   {
    "duration": 12,
    "start_time": "2021-09-07T14:10:34.483Z"
   },
   {
    "duration": 254,
    "start_time": "2021-09-07T14:10:34.497Z"
   },
   {
    "duration": 220,
    "start_time": "2021-09-07T14:10:34.753Z"
   },
   {
    "duration": 178,
    "start_time": "2021-09-07T14:10:34.974Z"
   },
   {
    "duration": 186,
    "start_time": "2021-09-07T14:10:35.154Z"
   },
   {
    "duration": 182,
    "start_time": "2021-09-07T14:10:35.342Z"
   },
   {
    "duration": 167,
    "start_time": "2021-09-07T14:10:35.526Z"
   },
   {
    "duration": 170,
    "start_time": "2021-09-07T14:10:35.695Z"
   },
   {
    "duration": 192,
    "start_time": "2021-09-07T14:10:35.866Z"
   },
   {
    "duration": 373,
    "start_time": "2021-09-07T14:10:36.060Z"
   },
   {
    "duration": 188,
    "start_time": "2021-09-07T14:10:36.434Z"
   },
   {
    "duration": 190,
    "start_time": "2021-09-07T14:10:36.624Z"
   },
   {
    "duration": 7,
    "start_time": "2021-09-07T14:10:36.816Z"
   },
   {
    "duration": 758,
    "start_time": "2021-09-07T14:15:24.058Z"
   },
   {
    "duration": 167,
    "start_time": "2021-09-07T14:15:24.818Z"
   },
   {
    "duration": 116,
    "start_time": "2021-09-07T14:15:24.987Z"
   },
   {
    "duration": 26,
    "start_time": "2021-09-07T14:15:25.105Z"
   },
   {
    "duration": 50,
    "start_time": "2021-09-07T14:15:25.133Z"
   },
   {
    "duration": 217,
    "start_time": "2021-09-07T14:15:25.186Z"
   },
   {
    "duration": 28,
    "start_time": "2021-09-07T14:15:25.404Z"
   },
   {
    "duration": 106,
    "start_time": "2021-09-07T14:15:25.442Z"
   },
   {
    "duration": 168,
    "start_time": "2021-09-07T14:15:25.551Z"
   },
   {
    "duration": 98,
    "start_time": "2021-09-07T14:15:25.720Z"
   },
   {
    "duration": 147,
    "start_time": "2021-09-07T14:15:25.820Z"
   },
   {
    "duration": 22,
    "start_time": "2021-09-07T14:15:25.968Z"
   },
   {
    "duration": 14,
    "start_time": "2021-09-07T14:15:25.992Z"
   },
   {
    "duration": 33,
    "start_time": "2021-09-07T14:15:26.008Z"
   },
   {
    "duration": 6,
    "start_time": "2021-09-07T14:15:26.043Z"
   },
   {
    "duration": 15,
    "start_time": "2021-09-07T14:15:26.051Z"
   },
   {
    "duration": 13,
    "start_time": "2021-09-07T14:15:26.068Z"
   },
   {
    "duration": 86,
    "start_time": "2021-09-07T14:15:26.083Z"
   },
   {
    "duration": 40,
    "start_time": "2021-09-07T14:15:26.171Z"
   },
   {
    "duration": 61,
    "start_time": "2021-09-07T14:15:26.213Z"
   },
   {
    "duration": 18,
    "start_time": "2021-09-07T14:15:26.275Z"
   },
   {
    "duration": 17,
    "start_time": "2021-09-07T14:15:26.295Z"
   },
   {
    "duration": 16,
    "start_time": "2021-09-07T14:15:26.340Z"
   },
   {
    "duration": 15,
    "start_time": "2021-09-07T14:15:26.358Z"
   },
   {
    "duration": 10,
    "start_time": "2021-09-07T14:15:26.375Z"
   },
   {
    "duration": 417,
    "start_time": "2021-09-07T14:15:26.387Z"
   },
   {
    "duration": 25,
    "start_time": "2021-09-07T14:15:26.806Z"
   },
   {
    "duration": 5,
    "start_time": "2021-09-07T14:15:26.841Z"
   },
   {
    "duration": 269,
    "start_time": "2021-09-07T14:15:26.847Z"
   },
   {
    "duration": 218,
    "start_time": "2021-09-07T14:15:27.118Z"
   },
   {
    "duration": 173,
    "start_time": "2021-09-07T14:15:27.337Z"
   },
   {
    "duration": 193,
    "start_time": "2021-09-07T14:15:27.512Z"
   },
   {
    "duration": 186,
    "start_time": "2021-09-07T14:15:27.707Z"
   },
   {
    "duration": 174,
    "start_time": "2021-09-07T14:15:27.894Z"
   },
   {
    "duration": 176,
    "start_time": "2021-09-07T14:15:28.069Z"
   },
   {
    "duration": 193,
    "start_time": "2021-09-07T14:15:28.247Z"
   },
   {
    "duration": 387,
    "start_time": "2021-09-07T14:15:28.442Z"
   },
   {
    "duration": 200,
    "start_time": "2021-09-07T14:15:28.830Z"
   },
   {
    "duration": 179,
    "start_time": "2021-09-07T14:15:29.031Z"
   },
   {
    "duration": 6,
    "start_time": "2021-09-07T14:15:29.212Z"
   },
   {
    "duration": 778,
    "start_time": "2021-09-07T14:19:06.523Z"
   },
   {
    "duration": 158,
    "start_time": "2021-09-07T14:19:07.303Z"
   },
   {
    "duration": 112,
    "start_time": "2021-09-07T14:19:07.463Z"
   },
   {
    "duration": 28,
    "start_time": "2021-09-07T14:19:07.577Z"
   },
   {
    "duration": 43,
    "start_time": "2021-09-07T14:19:07.606Z"
   },
   {
    "duration": 229,
    "start_time": "2021-09-07T14:19:07.651Z"
   },
   {
    "duration": 26,
    "start_time": "2021-09-07T14:19:07.882Z"
   },
   {
    "duration": 109,
    "start_time": "2021-09-07T14:19:07.909Z"
   },
   {
    "duration": 178,
    "start_time": "2021-09-07T14:19:08.021Z"
   },
   {
    "duration": 102,
    "start_time": "2021-09-07T14:19:08.201Z"
   },
   {
    "duration": 143,
    "start_time": "2021-09-07T14:19:08.304Z"
   },
   {
    "duration": 20,
    "start_time": "2021-09-07T14:19:08.448Z"
   },
   {
    "duration": 15,
    "start_time": "2021-09-07T14:19:08.470Z"
   },
   {
    "duration": 6,
    "start_time": "2021-09-07T14:19:08.486Z"
   },
   {
    "duration": 15,
    "start_time": "2021-09-07T14:19:08.494Z"
   },
   {
    "duration": 34,
    "start_time": "2021-09-07T14:19:08.511Z"
   },
   {
    "duration": 18,
    "start_time": "2021-09-07T14:19:08.547Z"
   },
   {
    "duration": 65,
    "start_time": "2021-09-07T14:19:08.567Z"
   },
   {
    "duration": 37,
    "start_time": "2021-09-07T14:19:08.640Z"
   },
   {
    "duration": 43,
    "start_time": "2021-09-07T14:19:08.679Z"
   },
   {
    "duration": 32,
    "start_time": "2021-09-07T14:19:08.724Z"
   },
   {
    "duration": 24,
    "start_time": "2021-09-07T14:19:08.758Z"
   },
   {
    "duration": 15,
    "start_time": "2021-09-07T14:19:08.784Z"
   },
   {
    "duration": 15,
    "start_time": "2021-09-07T14:19:08.801Z"
   },
   {
    "duration": 29,
    "start_time": "2021-09-07T14:19:08.818Z"
   },
   {
    "duration": 404,
    "start_time": "2021-09-07T14:19:08.849Z"
   },
   {
    "duration": 26,
    "start_time": "2021-09-07T14:19:09.256Z"
   },
   {
    "duration": 3,
    "start_time": "2021-09-07T14:19:09.284Z"
   },
   {
    "duration": 272,
    "start_time": "2021-09-07T14:19:09.288Z"
   },
   {
    "duration": 202,
    "start_time": "2021-09-07T14:19:09.562Z"
   },
   {
    "duration": 175,
    "start_time": "2021-09-07T14:19:09.766Z"
   },
   {
    "duration": 181,
    "start_time": "2021-09-07T14:19:09.942Z"
   },
   {
    "duration": 179,
    "start_time": "2021-09-07T14:19:10.125Z"
   },
   {
    "duration": 234,
    "start_time": "2021-09-07T14:19:10.306Z"
   },
   {
    "duration": 193,
    "start_time": "2021-09-07T14:19:10.542Z"
   },
   {
    "duration": 177,
    "start_time": "2021-09-07T14:19:10.740Z"
   },
   {
    "duration": 411,
    "start_time": "2021-09-07T14:19:10.919Z"
   },
   {
    "duration": 196,
    "start_time": "2021-09-07T14:19:11.332Z"
   },
   {
    "duration": 190,
    "start_time": "2021-09-07T14:19:11.530Z"
   },
   {
    "duration": 6,
    "start_time": "2021-09-07T14:19:11.722Z"
   },
   {
    "duration": 116,
    "start_time": "2021-09-07T14:24:08.950Z"
   },
   {
    "duration": 115,
    "start_time": "2021-09-07T14:27:17.845Z"
   },
   {
    "duration": 260,
    "start_time": "2021-09-07T14:28:01.398Z"
   },
   {
    "duration": 339,
    "start_time": "2021-09-07T14:28:47.947Z"
   },
   {
    "duration": 44,
    "start_time": "2021-09-07T14:29:16.370Z"
   },
   {
    "duration": 50,
    "start_time": "2021-09-07T14:29:38.789Z"
   },
   {
    "duration": 190,
    "start_time": "2021-09-07T14:31:02.538Z"
   },
   {
    "duration": 187,
    "start_time": "2021-09-07T14:32:23.254Z"
   },
   {
    "duration": 11,
    "start_time": "2021-09-07T14:40:22.084Z"
   },
   {
    "duration": 13,
    "start_time": "2021-09-07T14:40:48.788Z"
   },
   {
    "duration": 183,
    "start_time": "2021-09-07T14:42:45.228Z"
   },
   {
    "duration": 28,
    "start_time": "2021-09-07T14:51:55.538Z"
   },
   {
    "duration": 279,
    "start_time": "2021-09-07T14:52:17.511Z"
   },
   {
    "duration": 31,
    "start_time": "2021-09-07T14:52:24.214Z"
   },
   {
    "duration": 48,
    "start_time": "2021-09-07T14:53:57.411Z"
   },
   {
    "duration": 362,
    "start_time": "2021-09-07T14:54:08.135Z"
   },
   {
    "duration": 262,
    "start_time": "2021-09-07T14:54:20.509Z"
   },
   {
    "duration": 759,
    "start_time": "2021-09-07T14:58:38.472Z"
   },
   {
    "duration": 177,
    "start_time": "2021-09-07T14:58:39.233Z"
   },
   {
    "duration": 123,
    "start_time": "2021-09-07T14:58:39.412Z"
   },
   {
    "duration": 26,
    "start_time": "2021-09-07T14:58:39.537Z"
   },
   {
    "duration": 48,
    "start_time": "2021-09-07T14:58:39.565Z"
   },
   {
    "duration": 205,
    "start_time": "2021-09-07T14:58:39.614Z"
   },
   {
    "duration": 28,
    "start_time": "2021-09-07T14:58:39.820Z"
   },
   {
    "duration": 167,
    "start_time": "2021-09-07T14:58:39.852Z"
   },
   {
    "duration": 150,
    "start_time": "2021-09-07T14:58:40.022Z"
   },
   {
    "duration": 24,
    "start_time": "2021-09-07T14:58:40.174Z"
   },
   {
    "duration": 8,
    "start_time": "2021-09-07T14:58:40.199Z"
   },
   {
    "duration": 13,
    "start_time": "2021-09-07T14:58:40.209Z"
   },
   {
    "duration": 22,
    "start_time": "2021-09-07T14:58:40.223Z"
   },
   {
    "duration": 17,
    "start_time": "2021-09-07T14:58:40.247Z"
   },
   {
    "duration": 54,
    "start_time": "2021-09-07T14:58:40.266Z"
   },
   {
    "duration": 37,
    "start_time": "2021-09-07T14:58:40.340Z"
   },
   {
    "duration": 62,
    "start_time": "2021-09-07T14:58:40.379Z"
   },
   {
    "duration": 17,
    "start_time": "2021-09-07T14:58:40.442Z"
   },
   {
    "duration": 15,
    "start_time": "2021-09-07T14:58:40.460Z"
   },
   {
    "duration": 13,
    "start_time": "2021-09-07T14:58:40.477Z"
   },
   {
    "duration": 22,
    "start_time": "2021-09-07T14:58:40.491Z"
   },
   {
    "duration": 28,
    "start_time": "2021-09-07T14:58:40.515Z"
   },
   {
    "duration": 392,
    "start_time": "2021-09-07T14:58:40.546Z"
   },
   {
    "duration": 23,
    "start_time": "2021-09-07T14:58:40.941Z"
   },
   {
    "duration": 15,
    "start_time": "2021-09-07T14:58:40.966Z"
   },
   {
    "duration": 258,
    "start_time": "2021-09-07T14:58:40.983Z"
   },
   {
    "duration": 207,
    "start_time": "2021-09-07T14:58:41.242Z"
   },
   {
    "duration": 174,
    "start_time": "2021-09-07T14:58:41.451Z"
   },
   {
    "duration": 187,
    "start_time": "2021-09-07T14:58:41.626Z"
   },
   {
    "duration": 182,
    "start_time": "2021-09-07T14:58:41.814Z"
   },
   {
    "duration": 178,
    "start_time": "2021-09-07T14:58:41.997Z"
   },
   {
    "duration": 188,
    "start_time": "2021-09-07T14:58:42.176Z"
   },
   {
    "duration": 183,
    "start_time": "2021-09-07T14:58:42.365Z"
   },
   {
    "duration": 384,
    "start_time": "2021-09-07T14:58:42.549Z"
   },
   {
    "duration": 187,
    "start_time": "2021-09-07T14:58:42.935Z"
   },
   {
    "duration": 195,
    "start_time": "2021-09-07T14:58:43.124Z"
   },
   {
    "duration": 7,
    "start_time": "2021-09-07T14:58:43.320Z"
   },
   {
    "duration": 1226,
    "start_time": "2021-09-07T15:01:53.940Z"
   },
   {
    "duration": 755,
    "start_time": "2021-09-07T15:02:21.461Z"
   },
   {
    "duration": 175,
    "start_time": "2021-09-07T15:02:22.217Z"
   },
   {
    "duration": 121,
    "start_time": "2021-09-07T15:02:22.394Z"
   },
   {
    "duration": 27,
    "start_time": "2021-09-07T15:02:22.517Z"
   },
   {
    "duration": 53,
    "start_time": "2021-09-07T15:02:22.546Z"
   },
   {
    "duration": 210,
    "start_time": "2021-09-07T15:02:22.601Z"
   },
   {
    "duration": 24,
    "start_time": "2021-09-07T15:02:22.813Z"
   },
   {
    "duration": 174,
    "start_time": "2021-09-07T15:02:22.839Z"
   },
   {
    "duration": 151,
    "start_time": "2021-09-07T15:02:23.015Z"
   },
   {
    "duration": 15,
    "start_time": "2021-09-07T15:02:23.167Z"
   },
   {
    "duration": 8,
    "start_time": "2021-09-07T15:02:23.183Z"
   },
   {
    "duration": 17,
    "start_time": "2021-09-07T15:02:23.192Z"
   },
   {
    "duration": 18,
    "start_time": "2021-09-07T15:02:23.211Z"
   },
   {
    "duration": 29,
    "start_time": "2021-09-07T15:02:23.231Z"
   },
   {
    "duration": 57,
    "start_time": "2021-09-07T15:02:23.262Z"
   },
   {
    "duration": 44,
    "start_time": "2021-09-07T15:02:23.320Z"
   },
   {
    "duration": 46,
    "start_time": "2021-09-07T15:02:23.365Z"
   },
   {
    "duration": 28,
    "start_time": "2021-09-07T15:02:23.412Z"
   },
   {
    "duration": 18,
    "start_time": "2021-09-07T15:02:23.442Z"
   },
   {
    "duration": 13,
    "start_time": "2021-09-07T15:02:23.461Z"
   },
   {
    "duration": 14,
    "start_time": "2021-09-07T15:02:23.476Z"
   },
   {
    "duration": 8,
    "start_time": "2021-09-07T15:02:23.492Z"
   },
   {
    "duration": 417,
    "start_time": "2021-09-07T15:02:23.503Z"
   },
   {
    "duration": 27,
    "start_time": "2021-09-07T15:02:23.922Z"
   },
   {
    "duration": 3,
    "start_time": "2021-09-07T15:02:23.952Z"
   },
   {
    "duration": 265,
    "start_time": "2021-09-07T15:02:23.957Z"
   },
   {
    "duration": 221,
    "start_time": "2021-09-07T15:02:24.225Z"
   },
   {
    "duration": 192,
    "start_time": "2021-09-07T15:02:24.448Z"
   },
   {
    "duration": 193,
    "start_time": "2021-09-07T15:02:24.642Z"
   },
   {
    "duration": 203,
    "start_time": "2021-09-07T15:02:24.840Z"
   },
   {
    "duration": 200,
    "start_time": "2021-09-07T15:02:25.045Z"
   },
   {
    "duration": 195,
    "start_time": "2021-09-07T15:02:25.247Z"
   },
   {
    "duration": 198,
    "start_time": "2021-09-07T15:02:25.444Z"
   },
   {
    "duration": 529,
    "start_time": "2021-09-07T15:02:25.644Z"
   },
   {
    "duration": 281,
    "start_time": "2021-09-07T15:02:26.174Z"
   },
   {
    "duration": 190,
    "start_time": "2021-09-07T15:02:26.456Z"
   },
   {
    "duration": 7,
    "start_time": "2021-09-07T15:02:26.647Z"
   },
   {
    "duration": 1163,
    "start_time": "2021-09-07T15:03:16.291Z"
   },
   {
    "duration": 1206,
    "start_time": "2021-09-07T15:03:23.124Z"
   },
   {
    "duration": 176,
    "start_time": "2021-09-07T15:03:24.332Z"
   },
   {
    "duration": 117,
    "start_time": "2021-09-07T15:03:24.510Z"
   },
   {
    "duration": 27,
    "start_time": "2021-09-07T15:03:24.629Z"
   },
   {
    "duration": 49,
    "start_time": "2021-09-07T15:03:24.658Z"
   },
   {
    "duration": 210,
    "start_time": "2021-09-07T15:03:24.709Z"
   },
   {
    "duration": 32,
    "start_time": "2021-09-07T15:03:24.921Z"
   },
   {
    "duration": 185,
    "start_time": "2021-09-07T15:03:24.957Z"
   },
   {
    "duration": 141,
    "start_time": "2021-09-07T15:03:25.144Z"
   },
   {
    "duration": 14,
    "start_time": "2021-09-07T15:03:25.287Z"
   },
   {
    "duration": 9,
    "start_time": "2021-09-07T15:03:25.302Z"
   },
   {
    "duration": 9,
    "start_time": "2021-09-07T15:03:25.313Z"
   },
   {
    "duration": 30,
    "start_time": "2021-09-07T15:03:25.324Z"
   },
   {
    "duration": 21,
    "start_time": "2021-09-07T15:03:25.356Z"
   },
   {
    "duration": 96,
    "start_time": "2021-09-07T15:03:25.379Z"
   },
   {
    "duration": 63,
    "start_time": "2021-09-07T15:03:25.477Z"
   },
   {
    "duration": 65,
    "start_time": "2021-09-07T15:03:25.543Z"
   },
   {
    "duration": 40,
    "start_time": "2021-09-07T15:03:25.611Z"
   },
   {
    "duration": 24,
    "start_time": "2021-09-07T15:03:25.653Z"
   },
   {
    "duration": 21,
    "start_time": "2021-09-07T15:03:25.680Z"
   },
   {
    "duration": 46,
    "start_time": "2021-09-07T15:03:25.704Z"
   },
   {
    "duration": 13,
    "start_time": "2021-09-07T15:03:25.752Z"
   },
   {
    "duration": 792,
    "start_time": "2021-09-07T15:03:25.769Z"
   },
   {
    "duration": 36,
    "start_time": "2021-09-07T15:03:26.564Z"
   },
   {
    "duration": 4,
    "start_time": "2021-09-07T15:03:26.602Z"
   },
   {
    "duration": 542,
    "start_time": "2021-09-07T15:03:26.608Z"
   },
   {
    "duration": 458,
    "start_time": "2021-09-07T15:03:27.152Z"
   },
   {
    "duration": 299,
    "start_time": "2021-09-07T15:03:27.612Z"
   },
   {
    "duration": 315,
    "start_time": "2021-09-07T15:03:27.914Z"
   },
   {
    "duration": 312,
    "start_time": "2021-09-07T15:03:28.231Z"
   },
   {
    "duration": 314,
    "start_time": "2021-09-07T15:03:28.545Z"
   },
   {
    "duration": 202,
    "start_time": "2021-09-07T15:03:28.861Z"
   },
   {
    "duration": 194,
    "start_time": "2021-09-07T15:03:29.065Z"
   },
   {
    "duration": 374,
    "start_time": "2021-09-07T15:03:29.261Z"
   },
   {
    "duration": 199,
    "start_time": "2021-09-07T15:03:29.636Z"
   },
   {
    "duration": 204,
    "start_time": "2021-09-07T15:03:29.837Z"
   },
   {
    "duration": 8,
    "start_time": "2021-09-07T15:03:30.042Z"
   },
   {
    "duration": 806,
    "start_time": "2021-09-07T15:04:44.444Z"
   },
   {
    "duration": 213,
    "start_time": "2021-09-07T15:04:45.252Z"
   },
   {
    "duration": 186,
    "start_time": "2021-09-07T15:04:45.468Z"
   },
   {
    "duration": 30,
    "start_time": "2021-09-07T15:04:45.657Z"
   },
   {
    "duration": 49,
    "start_time": "2021-09-07T15:04:45.689Z"
   },
   {
    "duration": 217,
    "start_time": "2021-09-07T15:04:45.740Z"
   },
   {
    "duration": 21,
    "start_time": "2021-09-07T15:04:45.959Z"
   },
   {
    "duration": 186,
    "start_time": "2021-09-07T15:04:45.982Z"
   },
   {
    "duration": 148,
    "start_time": "2021-09-07T15:04:46.170Z"
   },
   {
    "duration": 21,
    "start_time": "2021-09-07T15:04:46.320Z"
   },
   {
    "duration": 6,
    "start_time": "2021-09-07T15:04:46.343Z"
   },
   {
    "duration": 9,
    "start_time": "2021-09-07T15:04:46.350Z"
   },
   {
    "duration": 9,
    "start_time": "2021-09-07T15:04:46.361Z"
   },
   {
    "duration": 16,
    "start_time": "2021-09-07T15:04:46.372Z"
   },
   {
    "duration": 78,
    "start_time": "2021-09-07T15:04:46.390Z"
   },
   {
    "duration": 38,
    "start_time": "2021-09-07T15:04:46.470Z"
   },
   {
    "duration": 61,
    "start_time": "2021-09-07T15:04:46.510Z"
   },
   {
    "duration": 19,
    "start_time": "2021-09-07T15:04:46.572Z"
   },
   {
    "duration": 17,
    "start_time": "2021-09-07T15:04:46.593Z"
   },
   {
    "duration": 38,
    "start_time": "2021-09-07T15:04:46.612Z"
   },
   {
    "duration": 15,
    "start_time": "2021-09-07T15:04:46.652Z"
   },
   {
    "duration": 10,
    "start_time": "2021-09-07T15:04:46.669Z"
   },
   {
    "duration": 438,
    "start_time": "2021-09-07T15:04:46.683Z"
   },
   {
    "duration": 33,
    "start_time": "2021-09-07T15:04:47.124Z"
   },
   {
    "duration": 4,
    "start_time": "2021-09-07T15:04:47.159Z"
   },
   {
    "duration": 278,
    "start_time": "2021-09-07T15:04:47.164Z"
   },
   {
    "duration": 558,
    "start_time": "2021-09-07T15:04:47.444Z"
   },
   {
    "duration": 321,
    "start_time": "2021-09-07T15:04:48.005Z"
   },
   {
    "duration": 303,
    "start_time": "2021-09-07T15:04:48.328Z"
   },
   {
    "duration": 309,
    "start_time": "2021-09-07T15:04:48.633Z"
   },
   {
    "duration": 245,
    "start_time": "2021-09-07T15:04:48.944Z"
   },
   {
    "duration": 314,
    "start_time": "2021-09-07T15:04:49.191Z"
   },
   {
    "duration": 209,
    "start_time": "2021-09-07T15:04:49.507Z"
   },
   {
    "duration": 417,
    "start_time": "2021-09-07T15:04:49.718Z"
   },
   {
    "duration": 321,
    "start_time": "2021-09-07T15:04:50.140Z"
   },
   {
    "duration": 208,
    "start_time": "2021-09-07T15:04:50.463Z"
   },
   {
    "duration": 8,
    "start_time": "2021-09-07T15:04:50.673Z"
   },
   {
    "duration": 6486,
    "start_time": "2021-09-07T15:08:45.353Z"
   },
   {
    "duration": 758,
    "start_time": "2021-09-07T15:08:58.160Z"
   },
   {
    "duration": 173,
    "start_time": "2021-09-07T15:08:58.920Z"
   },
   {
    "duration": 113,
    "start_time": "2021-09-07T15:08:59.094Z"
   },
   {
    "duration": 26,
    "start_time": "2021-09-07T15:08:59.209Z"
   },
   {
    "duration": 50,
    "start_time": "2021-09-07T15:08:59.236Z"
   },
   {
    "duration": 206,
    "start_time": "2021-09-07T15:08:59.288Z"
   },
   {
    "duration": 22,
    "start_time": "2021-09-07T15:08:59.496Z"
   },
   {
    "duration": 181,
    "start_time": "2021-09-07T15:08:59.520Z"
   },
   {
    "duration": 143,
    "start_time": "2021-09-07T15:08:59.703Z"
   },
   {
    "duration": 14,
    "start_time": "2021-09-07T15:08:59.848Z"
   },
   {
    "duration": 18,
    "start_time": "2021-09-07T15:08:59.863Z"
   },
   {
    "duration": 11,
    "start_time": "2021-09-07T15:08:59.882Z"
   },
   {
    "duration": 10,
    "start_time": "2021-09-07T15:08:59.895Z"
   },
   {
    "duration": 25,
    "start_time": "2021-09-07T15:08:59.907Z"
   },
   {
    "duration": 67,
    "start_time": "2021-09-07T15:08:59.934Z"
   },
   {
    "duration": 51,
    "start_time": "2021-09-07T15:09:00.003Z"
   },
   {
    "duration": 6587,
    "start_time": "2021-09-07T15:09:00.056Z"
   },
   {
    "duration": 330,
    "start_time": "2021-09-07T15:09:06.315Z"
   },
   {
    "duration": 324,
    "start_time": "2021-09-07T15:09:06.322Z"
   },
   {
    "duration": 320,
    "start_time": "2021-09-07T15:09:06.328Z"
   },
   {
    "duration": 315,
    "start_time": "2021-09-07T15:09:06.334Z"
   },
   {
    "duration": 309,
    "start_time": "2021-09-07T15:09:06.341Z"
   },
   {
    "duration": 300,
    "start_time": "2021-09-07T15:09:06.351Z"
   },
   {
    "duration": 294,
    "start_time": "2021-09-07T15:09:06.358Z"
   },
   {
    "duration": 291,
    "start_time": "2021-09-07T15:09:06.362Z"
   },
   {
    "duration": 288,
    "start_time": "2021-09-07T15:09:06.367Z"
   },
   {
    "duration": 283,
    "start_time": "2021-09-07T15:09:06.373Z"
   },
   {
    "duration": 279,
    "start_time": "2021-09-07T15:09:06.378Z"
   },
   {
    "duration": 276,
    "start_time": "2021-09-07T15:09:06.382Z"
   },
   {
    "duration": 272,
    "start_time": "2021-09-07T15:09:06.387Z"
   },
   {
    "duration": 268,
    "start_time": "2021-09-07T15:09:06.392Z"
   },
   {
    "duration": 265,
    "start_time": "2021-09-07T15:09:06.396Z"
   },
   {
    "duration": 261,
    "start_time": "2021-09-07T15:09:06.401Z"
   },
   {
    "duration": 250,
    "start_time": "2021-09-07T15:09:06.413Z"
   },
   {
    "duration": 245,
    "start_time": "2021-09-07T15:09:06.419Z"
   },
   {
    "duration": 240,
    "start_time": "2021-09-07T15:09:06.425Z"
   },
   {
    "duration": 236,
    "start_time": "2021-09-07T15:09:06.430Z"
   },
   {
    "duration": 37,
    "start_time": "2021-09-07T15:09:24.108Z"
   },
   {
    "duration": 37,
    "start_time": "2021-09-07T15:09:39.692Z"
   },
   {
    "duration": 783,
    "start_time": "2021-09-07T15:10:58.683Z"
   },
   {
    "duration": 166,
    "start_time": "2021-09-07T15:10:59.467Z"
   },
   {
    "duration": 123,
    "start_time": "2021-09-07T15:10:59.635Z"
   },
   {
    "duration": 27,
    "start_time": "2021-09-07T15:10:59.760Z"
   },
   {
    "duration": 50,
    "start_time": "2021-09-07T15:10:59.789Z"
   },
   {
    "duration": 212,
    "start_time": "2021-09-07T15:10:59.841Z"
   },
   {
    "duration": 22,
    "start_time": "2021-09-07T15:11:00.055Z"
   },
   {
    "duration": 186,
    "start_time": "2021-09-07T15:11:00.080Z"
   },
   {
    "duration": 143,
    "start_time": "2021-09-07T15:11:00.268Z"
   },
   {
    "duration": 17,
    "start_time": "2021-09-07T15:11:00.413Z"
   },
   {
    "duration": 16,
    "start_time": "2021-09-07T15:11:00.441Z"
   },
   {
    "duration": 23,
    "start_time": "2021-09-07T15:11:00.459Z"
   },
   {
    "duration": 27,
    "start_time": "2021-09-07T15:11:00.484Z"
   },
   {
    "duration": 47,
    "start_time": "2021-09-07T15:11:00.512Z"
   },
   {
    "duration": 64,
    "start_time": "2021-09-07T15:11:00.561Z"
   },
   {
    "duration": 37,
    "start_time": "2021-09-07T15:11:00.627Z"
   },
   {
    "duration": 44,
    "start_time": "2021-09-07T15:11:00.666Z"
   },
   {
    "duration": 29,
    "start_time": "2021-09-07T15:11:00.712Z"
   },
   {
    "duration": 24,
    "start_time": "2021-09-07T15:11:00.742Z"
   },
   {
    "duration": 24,
    "start_time": "2021-09-07T15:11:00.768Z"
   },
   {
    "duration": 28,
    "start_time": "2021-09-07T15:11:00.794Z"
   },
   {
    "duration": 30,
    "start_time": "2021-09-07T15:11:00.823Z"
   },
   {
    "duration": 411,
    "start_time": "2021-09-07T15:11:00.856Z"
   },
   {
    "duration": 24,
    "start_time": "2021-09-07T15:11:01.269Z"
   },
   {
    "duration": 22,
    "start_time": "2021-09-07T15:11:01.294Z"
   },
   {
    "duration": 276,
    "start_time": "2021-09-07T15:11:01.318Z"
   },
   {
    "duration": 218,
    "start_time": "2021-09-07T15:11:01.595Z"
   },
   {
    "duration": 182,
    "start_time": "2021-09-07T15:11:01.815Z"
   },
   {
    "duration": 188,
    "start_time": "2021-09-07T15:11:01.999Z"
   },
   {
    "duration": 184,
    "start_time": "2021-09-07T15:11:02.188Z"
   },
   {
    "duration": 187,
    "start_time": "2021-09-07T15:11:02.374Z"
   },
   {
    "duration": 181,
    "start_time": "2021-09-07T15:11:02.562Z"
   },
   {
    "duration": 182,
    "start_time": "2021-09-07T15:11:02.744Z"
   },
   {
    "duration": 407,
    "start_time": "2021-09-07T15:11:02.928Z"
   },
   {
    "duration": 176,
    "start_time": "2021-09-07T15:11:03.336Z"
   },
   {
    "duration": 174,
    "start_time": "2021-09-07T15:11:03.513Z"
   },
   {
    "duration": 9,
    "start_time": "2021-09-07T15:11:03.689Z"
   },
   {
    "duration": 359,
    "start_time": "2021-09-07T15:12:22.096Z"
   },
   {
    "duration": 779,
    "start_time": "2021-09-07T15:12:28.370Z"
   },
   {
    "duration": 172,
    "start_time": "2021-09-07T15:12:29.151Z"
   },
   {
    "duration": 127,
    "start_time": "2021-09-07T15:12:29.325Z"
   },
   {
    "duration": 28,
    "start_time": "2021-09-07T15:12:29.454Z"
   },
   {
    "duration": 48,
    "start_time": "2021-09-07T15:12:29.484Z"
   },
   {
    "duration": 199,
    "start_time": "2021-09-07T15:12:29.534Z"
   },
   {
    "duration": 26,
    "start_time": "2021-09-07T15:12:29.735Z"
   },
   {
    "duration": 186,
    "start_time": "2021-09-07T15:12:29.764Z"
   },
   {
    "duration": 134,
    "start_time": "2021-09-07T15:12:29.952Z"
   },
   {
    "duration": 14,
    "start_time": "2021-09-07T15:12:30.087Z"
   },
   {
    "duration": 19,
    "start_time": "2021-09-07T15:12:30.102Z"
   },
   {
    "duration": 18,
    "start_time": "2021-09-07T15:12:30.123Z"
   },
   {
    "duration": 19,
    "start_time": "2021-09-07T15:12:30.143Z"
   },
   {
    "duration": 37,
    "start_time": "2021-09-07T15:12:30.164Z"
   },
   {
    "duration": 58,
    "start_time": "2021-09-07T15:12:30.203Z"
   },
   {
    "duration": 37,
    "start_time": "2021-09-07T15:12:30.263Z"
   },
   {
    "duration": 58,
    "start_time": "2021-09-07T15:12:30.302Z"
   },
   {
    "duration": 18,
    "start_time": "2021-09-07T15:12:30.362Z"
   },
   {
    "duration": 31,
    "start_time": "2021-09-07T15:12:30.382Z"
   },
   {
    "duration": 341,
    "start_time": "2021-09-07T15:12:30.415Z"
   },
   {
    "duration": 369,
    "start_time": "2021-09-07T15:12:30.390Z"
   },
   {
    "duration": 364,
    "start_time": "2021-09-07T15:12:30.396Z"
   },
   {
    "duration": 360,
    "start_time": "2021-09-07T15:12:30.401Z"
   },
   {
    "duration": 355,
    "start_time": "2021-09-07T15:12:30.407Z"
   },
   {
    "duration": 350,
    "start_time": "2021-09-07T15:12:30.412Z"
   },
   {
    "duration": 346,
    "start_time": "2021-09-07T15:12:30.417Z"
   },
   {
    "duration": 342,
    "start_time": "2021-09-07T15:12:30.422Z"
   },
   {
    "duration": 338,
    "start_time": "2021-09-07T15:12:30.427Z"
   },
   {
    "duration": 334,
    "start_time": "2021-09-07T15:12:30.432Z"
   },
   {
    "duration": 331,
    "start_time": "2021-09-07T15:12:30.436Z"
   },
   {
    "duration": 326,
    "start_time": "2021-09-07T15:12:30.442Z"
   },
   {
    "duration": 321,
    "start_time": "2021-09-07T15:12:30.447Z"
   },
   {
    "duration": 318,
    "start_time": "2021-09-07T15:12:30.451Z"
   },
   {
    "duration": 314,
    "start_time": "2021-09-07T15:12:30.456Z"
   },
   {
    "duration": 310,
    "start_time": "2021-09-07T15:12:30.461Z"
   },
   {
    "duration": 296,
    "start_time": "2021-09-07T15:12:30.475Z"
   },
   {
    "duration": 292,
    "start_time": "2021-09-07T15:12:30.480Z"
   },
   {
    "duration": 13,
    "start_time": "2021-09-07T15:14:12.588Z"
   },
   {
    "duration": 843,
    "start_time": "2021-09-07T15:17:30.010Z"
   },
   {
    "duration": 173,
    "start_time": "2021-09-07T15:17:30.855Z"
   },
   {
    "duration": 118,
    "start_time": "2021-09-07T15:17:31.030Z"
   },
   {
    "duration": 27,
    "start_time": "2021-09-07T15:17:31.150Z"
   },
   {
    "duration": 51,
    "start_time": "2021-09-07T15:17:31.179Z"
   },
   {
    "duration": 203,
    "start_time": "2021-09-07T15:17:31.232Z"
   },
   {
    "duration": 22,
    "start_time": "2021-09-07T15:17:31.436Z"
   },
   {
    "duration": 179,
    "start_time": "2021-09-07T15:17:31.462Z"
   },
   {
    "duration": 137,
    "start_time": "2021-09-07T15:17:31.644Z"
   },
   {
    "duration": 15,
    "start_time": "2021-09-07T15:17:31.784Z"
   },
   {
    "duration": 6,
    "start_time": "2021-09-07T15:17:31.801Z"
   },
   {
    "duration": 33,
    "start_time": "2021-09-07T15:17:31.809Z"
   },
   {
    "duration": 12,
    "start_time": "2021-09-07T15:17:31.843Z"
   },
   {
    "duration": 22,
    "start_time": "2021-09-07T15:17:31.856Z"
   },
   {
    "duration": 62,
    "start_time": "2021-09-07T15:17:31.880Z"
   },
   {
    "duration": 36,
    "start_time": "2021-09-07T15:17:31.943Z"
   },
   {
    "duration": 61,
    "start_time": "2021-09-07T15:17:31.981Z"
   },
   {
    "duration": 16,
    "start_time": "2021-09-07T15:17:32.043Z"
   },
   {
    "duration": 14,
    "start_time": "2021-09-07T15:17:32.061Z"
   },
   {
    "duration": 13,
    "start_time": "2021-09-07T15:17:32.076Z"
   },
   {
    "duration": 21,
    "start_time": "2021-09-07T15:17:32.091Z"
   },
   {
    "duration": 32,
    "start_time": "2021-09-07T15:17:32.114Z"
   },
   {
    "duration": 387,
    "start_time": "2021-09-07T15:17:32.149Z"
   },
   {
    "duration": 23,
    "start_time": "2021-09-07T15:17:32.538Z"
   },
   {
    "duration": 11,
    "start_time": "2021-09-07T15:17:32.563Z"
   },
   {
    "duration": 260,
    "start_time": "2021-09-07T15:17:32.576Z"
   },
   {
    "duration": 211,
    "start_time": "2021-09-07T15:17:32.840Z"
   },
   {
    "duration": 181,
    "start_time": "2021-09-07T15:17:33.053Z"
   },
   {
    "duration": 183,
    "start_time": "2021-09-07T15:17:33.240Z"
   },
   {
    "duration": 183,
    "start_time": "2021-09-07T15:17:33.425Z"
   },
   {
    "duration": 189,
    "start_time": "2021-09-07T15:17:33.610Z"
   },
   {
    "duration": 182,
    "start_time": "2021-09-07T15:17:33.801Z"
   },
   {
    "duration": 176,
    "start_time": "2021-09-07T15:17:33.984Z"
   },
   {
    "duration": 375,
    "start_time": "2021-09-07T15:17:34.162Z"
   },
   {
    "duration": 174,
    "start_time": "2021-09-07T15:17:34.539Z"
   },
   {
    "duration": 182,
    "start_time": "2021-09-07T15:17:34.715Z"
   },
   {
    "duration": 8,
    "start_time": "2021-09-07T15:17:34.899Z"
   },
   {
    "duration": 339,
    "start_time": "2021-09-07T15:34:16.643Z"
   },
   {
    "duration": 3,
    "start_time": "2021-09-07T15:34:22.521Z"
   },
   {
    "duration": 681,
    "start_time": "2021-09-07T15:34:24.862Z"
   },
   {
    "duration": 217,
    "start_time": "2021-09-07T15:35:09.332Z"
   },
   {
    "duration": 4,
    "start_time": "2021-09-07T15:35:20.380Z"
   },
   {
    "duration": 190,
    "start_time": "2021-09-07T15:35:23.088Z"
   },
   {
    "duration": 184,
    "start_time": "2021-09-07T15:35:36.455Z"
   },
   {
    "duration": 181,
    "start_time": "2021-09-07T15:36:04.738Z"
   },
   {
    "duration": 192,
    "start_time": "2021-09-07T15:36:30.350Z"
   },
   {
    "duration": 178,
    "start_time": "2021-09-07T15:36:53.125Z"
   },
   {
    "duration": 177,
    "start_time": "2021-09-07T15:37:13.310Z"
   },
   {
    "duration": 178,
    "start_time": "2021-09-07T15:37:44.128Z"
   },
   {
    "duration": 268,
    "start_time": "2021-09-07T15:41:28.597Z"
   },
   {
    "duration": 255,
    "start_time": "2021-09-07T15:41:39.721Z"
   },
   {
    "duration": 4,
    "start_time": "2021-09-07T15:41:42.287Z"
   },
   {
    "duration": 514,
    "start_time": "2021-09-07T15:41:44.546Z"
   },
   {
    "duration": 4,
    "start_time": "2021-09-07T15:42:39.824Z"
   },
   {
    "duration": 276,
    "start_time": "2021-09-07T15:42:41.733Z"
   },
   {
    "duration": 182,
    "start_time": "2021-09-07T15:44:33.354Z"
   },
   {
    "duration": 4,
    "start_time": "2021-09-07T15:55:54.863Z"
   },
   {
    "duration": 699,
    "start_time": "2021-09-07T15:55:57.122Z"
   },
   {
    "duration": 3,
    "start_time": "2021-09-07T15:57:51.597Z"
   },
   {
    "duration": 504,
    "start_time": "2021-09-07T15:57:53.533Z"
   },
   {
    "duration": 4,
    "start_time": "2021-09-07T15:58:21.174Z"
   },
   {
    "duration": 197,
    "start_time": "2021-09-07T15:58:23.151Z"
   },
   {
    "duration": 3,
    "start_time": "2021-09-07T15:58:42.537Z"
   },
   {
    "duration": 196,
    "start_time": "2021-09-07T15:58:45.094Z"
   },
   {
    "duration": 198,
    "start_time": "2021-09-07T15:59:26.239Z"
   },
   {
    "duration": 207,
    "start_time": "2021-09-07T16:02:05.714Z"
   },
   {
    "duration": 188,
    "start_time": "2021-09-07T16:02:15.113Z"
   },
   {
    "duration": 189,
    "start_time": "2021-09-07T16:05:46.018Z"
   },
   {
    "duration": 221,
    "start_time": "2021-09-07T16:05:52.892Z"
   },
   {
    "duration": 6,
    "start_time": "2021-09-07T16:07:21.577Z"
   },
   {
    "duration": 80,
    "start_time": "2021-09-07T16:28:10.364Z"
   },
   {
    "duration": 279,
    "start_time": "2021-09-07T16:28:45.661Z"
   },
   {
    "duration": 14,
    "start_time": "2021-09-07T16:30:25.421Z"
   },
   {
    "duration": 288,
    "start_time": "2021-09-07T16:35:20.590Z"
   },
   {
    "duration": 302,
    "start_time": "2021-09-07T16:35:45.391Z"
   },
   {
    "duration": 404,
    "start_time": "2021-09-07T16:35:53.165Z"
   },
   {
    "duration": 15,
    "start_time": "2021-09-07T16:36:15.120Z"
   },
   {
    "duration": 14,
    "start_time": "2021-09-07T16:38:01.318Z"
   },
   {
    "duration": 80,
    "start_time": "2021-09-07T16:51:46.306Z"
   },
   {
    "duration": 3,
    "start_time": "2021-09-07T16:51:57.354Z"
   },
   {
    "duration": 681,
    "start_time": "2021-09-07T16:52:02.362Z"
   },
   {
    "duration": 3,
    "start_time": "2021-09-07T16:54:13.779Z"
   },
   {
    "duration": 775,
    "start_time": "2021-09-07T16:54:17.149Z"
   },
   {
    "duration": 4,
    "start_time": "2021-09-07T16:54:51.272Z"
   },
   {
    "duration": 804,
    "start_time": "2021-09-07T16:54:57.003Z"
   },
   {
    "duration": 4,
    "start_time": "2021-09-07T16:55:46.182Z"
   },
   {
    "duration": 763,
    "start_time": "2021-09-07T16:55:50.833Z"
   },
   {
    "duration": 3,
    "start_time": "2021-09-07T16:56:12.949Z"
   },
   {
    "duration": 185,
    "start_time": "2021-09-07T16:56:17.263Z"
   },
   {
    "duration": 3,
    "start_time": "2021-09-07T16:56:52.303Z"
   },
   {
    "duration": 224,
    "start_time": "2021-09-07T16:56:55.496Z"
   },
   {
    "duration": 4,
    "start_time": "2021-09-07T17:00:00.011Z"
   },
   {
    "duration": 205,
    "start_time": "2021-09-07T17:00:03.476Z"
   },
   {
    "duration": 1083,
    "start_time": "2021-09-07T17:25:44.475Z"
   },
   {
    "duration": 249,
    "start_time": "2021-09-07T17:25:45.560Z"
   },
   {
    "duration": 169,
    "start_time": "2021-09-07T17:25:45.811Z"
   },
   {
    "duration": 32,
    "start_time": "2021-09-07T17:25:45.982Z"
   },
   {
    "duration": 57,
    "start_time": "2021-09-07T17:25:46.016Z"
   },
   {
    "duration": 326,
    "start_time": "2021-09-07T17:25:46.075Z"
   },
   {
    "duration": 26,
    "start_time": "2021-09-07T17:25:46.403Z"
   },
   {
    "duration": 169,
    "start_time": "2021-09-07T17:25:46.442Z"
   },
   {
    "duration": 132,
    "start_time": "2021-09-07T17:25:46.613Z"
   },
   {
    "duration": 14,
    "start_time": "2021-09-07T17:25:46.747Z"
   },
   {
    "duration": 7,
    "start_time": "2021-09-07T17:25:46.763Z"
   },
   {
    "duration": 8,
    "start_time": "2021-09-07T17:25:46.772Z"
   },
   {
    "duration": 15,
    "start_time": "2021-09-07T17:25:46.782Z"
   },
   {
    "duration": 15,
    "start_time": "2021-09-07T17:25:46.798Z"
   },
   {
    "duration": 54,
    "start_time": "2021-09-07T17:25:46.841Z"
   },
   {
    "duration": 49,
    "start_time": "2021-09-07T17:25:46.896Z"
   },
   {
    "duration": 47,
    "start_time": "2021-09-07T17:25:46.947Z"
   },
   {
    "duration": 16,
    "start_time": "2021-09-07T17:25:46.996Z"
   },
   {
    "duration": 36,
    "start_time": "2021-09-07T17:25:47.013Z"
   },
   {
    "duration": 13,
    "start_time": "2021-09-07T17:25:47.051Z"
   },
   {
    "duration": 14,
    "start_time": "2021-09-07T17:25:47.066Z"
   },
   {
    "duration": 8,
    "start_time": "2021-09-07T17:25:47.081Z"
   },
   {
    "duration": 530,
    "start_time": "2021-09-07T17:25:47.092Z"
   },
   {
    "duration": 38,
    "start_time": "2021-09-07T17:25:47.624Z"
   },
   {
    "duration": 21,
    "start_time": "2021-09-07T17:25:47.664Z"
   },
   {
    "duration": 196,
    "start_time": "2021-09-07T17:25:47.687Z"
   },
   {
    "duration": 233,
    "start_time": "2021-09-07T17:25:47.885Z"
   },
   {
    "duration": 188,
    "start_time": "2021-09-07T17:25:48.120Z"
   },
   {
    "duration": 3,
    "start_time": "2021-09-07T17:25:48.310Z"
   },
   {
    "duration": 225,
    "start_time": "2021-09-07T17:25:48.315Z"
   },
   {
    "duration": 207,
    "start_time": "2021-09-07T17:25:48.542Z"
   },
   {
    "duration": 215,
    "start_time": "2021-09-07T17:25:48.751Z"
   },
   {
    "duration": 14,
    "start_time": "2021-09-07T17:25:48.968Z"
   },
   {
    "duration": 215,
    "start_time": "2021-09-07T17:25:48.984Z"
   },
   {
    "duration": 221,
    "start_time": "2021-09-07T17:25:49.201Z"
   },
   {
    "duration": 406,
    "start_time": "2021-09-07T17:25:49.424Z"
   },
   {
    "duration": 187,
    "start_time": "2021-09-07T17:25:49.832Z"
   },
   {
    "duration": 222,
    "start_time": "2021-09-07T17:25:50.021Z"
   },
   {
    "duration": 8,
    "start_time": "2021-09-07T17:25:50.245Z"
   },
   {
    "duration": 4,
    "start_time": "2021-09-07T17:28:01.468Z"
   },
   {
    "duration": 201,
    "start_time": "2021-09-07T17:28:07.192Z"
   },
   {
    "duration": 1135,
    "start_time": "2021-09-07T17:28:36.848Z"
   },
   {
    "duration": 176,
    "start_time": "2021-09-07T17:28:37.985Z"
   },
   {
    "duration": 131,
    "start_time": "2021-09-07T17:28:38.166Z"
   },
   {
    "duration": 26,
    "start_time": "2021-09-07T17:28:38.299Z"
   },
   {
    "duration": 55,
    "start_time": "2021-09-07T17:28:38.327Z"
   },
   {
    "duration": 215,
    "start_time": "2021-09-07T17:28:38.383Z"
   },
   {
    "duration": 21,
    "start_time": "2021-09-07T17:28:38.600Z"
   },
   {
    "duration": 192,
    "start_time": "2021-09-07T17:28:38.623Z"
   },
   {
    "duration": 203,
    "start_time": "2021-09-07T17:28:38.817Z"
   },
   {
    "duration": 20,
    "start_time": "2021-09-07T17:28:39.022Z"
   },
   {
    "duration": 14,
    "start_time": "2021-09-07T17:28:39.044Z"
   },
   {
    "duration": 14,
    "start_time": "2021-09-07T17:28:39.060Z"
   },
   {
    "duration": 37,
    "start_time": "2021-09-07T17:28:39.076Z"
   },
   {
    "duration": 20,
    "start_time": "2021-09-07T17:28:39.115Z"
   },
   {
    "duration": 65,
    "start_time": "2021-09-07T17:28:39.137Z"
   },
   {
    "duration": 41,
    "start_time": "2021-09-07T17:28:39.204Z"
   },
   {
    "duration": 43,
    "start_time": "2021-09-07T17:28:39.247Z"
   },
   {
    "duration": 15,
    "start_time": "2021-09-07T17:28:39.292Z"
   },
   {
    "duration": 40,
    "start_time": "2021-09-07T17:28:39.309Z"
   },
   {
    "duration": 13,
    "start_time": "2021-09-07T17:28:39.350Z"
   },
   {
    "duration": 26,
    "start_time": "2021-09-07T17:28:39.365Z"
   },
   {
    "duration": 21,
    "start_time": "2021-09-07T17:28:39.394Z"
   },
   {
    "duration": 392,
    "start_time": "2021-09-07T17:28:39.417Z"
   },
   {
    "duration": 31,
    "start_time": "2021-09-07T17:28:39.811Z"
   },
   {
    "duration": 7,
    "start_time": "2021-09-07T17:28:39.843Z"
   },
   {
    "duration": 211,
    "start_time": "2021-09-07T17:28:39.851Z"
   },
   {
    "duration": 228,
    "start_time": "2021-09-07T17:28:40.064Z"
   },
   {
    "duration": 191,
    "start_time": "2021-09-07T17:28:40.294Z"
   },
   {
    "duration": 3,
    "start_time": "2021-09-07T17:28:40.486Z"
   },
   {
    "duration": 223,
    "start_time": "2021-09-07T17:28:40.491Z"
   },
   {
    "duration": 216,
    "start_time": "2021-09-07T17:28:40.715Z"
   },
   {
    "duration": 212,
    "start_time": "2021-09-07T17:28:40.933Z"
   },
   {
    "duration": 14,
    "start_time": "2021-09-07T17:28:41.146Z"
   },
   {
    "duration": 204,
    "start_time": "2021-09-07T17:28:41.161Z"
   },
   {
    "duration": 3,
    "start_time": "2021-09-07T17:28:41.367Z"
   },
   {
    "duration": 226,
    "start_time": "2021-09-07T17:28:41.372Z"
   },
   {
    "duration": 425,
    "start_time": "2021-09-07T17:28:41.600Z"
   },
   {
    "duration": 193,
    "start_time": "2021-09-07T17:28:42.027Z"
   },
   {
    "duration": 214,
    "start_time": "2021-09-07T17:28:42.222Z"
   },
   {
    "duration": 8,
    "start_time": "2021-09-07T17:28:42.438Z"
   }
  ],
  "kernelspec": {
   "display_name": "Python 3",
   "language": "python",
   "name": "python3"
  },
  "language_info": {
   "codemirror_mode": {
    "name": "ipython",
    "version": 3
   },
   "file_extension": ".py",
   "mimetype": "text/x-python",
   "name": "python",
   "nbconvert_exporter": "python",
   "pygments_lexer": "ipython3",
   "version": "3.8.8"
  },
  "toc": {
   "base_numbering": 1,
   "nav_menu": {
    "height": "94.9826px",
    "width": "183.993px"
   },
   "number_sections": true,
   "sideBar": true,
   "skip_h1_title": true,
   "title_cell": "Table of Contents",
   "title_sidebar": "Contents",
   "toc_cell": false,
   "toc_position": {
    "height": "544.444px",
    "left": "98px",
    "top": "110.052px",
    "width": "165px"
   },
   "toc_section_display": true,
   "toc_window_display": true
  }
 },
 "nbformat": 4,
 "nbformat_minor": 2
}
